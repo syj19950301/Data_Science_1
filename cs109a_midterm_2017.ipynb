{
 "cells": [
  {
   "cell_type": "markdown",
   "metadata": {},
   "source": [
    "# CS 109A/STAT 121A/AC 209A/CSCI E-109A: \n",
    "# Midterm - 2017\n",
    "\n",
    "**Harvard University**<br/>\n",
    "**Fall 2017**<br/>\n",
    "**Instructors**: Pavlos Protopapas, Kevin Rader, Rahul Dave, Margo Levine\n",
    "\n",
    "---\n",
    "\n",
    "### INSTRUCTIONS\n",
    "\n",
    "\n",
    "- You must submit the Midterm on your own. ** No group submissions are allowed**. You may use any print or online resources but ** you may not work or consult with others**.\n",
    "- Restart the kernel and run the whole notebook again before you submit. \n",
    "- Please submit both a notebook and a pdf.\n",
    " \n",
    "\n",
    "---"
   ]
  },
  {
   "cell_type": "markdown",
   "metadata": {},
   "source": [
    "\n",
    "## Flight Delays\n",
    "\n",
    "The U.S. Department of Transportation's (DOT) Bureau of Transportation Statistics tracks the on-time performance of domestic flights operated by large air carriers. Summary information on the number of on-time, delayed, canceled, and diverted flights are published in DOT's monthly Air Travel Consumer Report and in this dataset of 2015 flight delays and cancellations.\n",
    "\n",
    "\n",
    "## Data\n",
    "Each entry of the flights.csv file corresponds to a flight.  More than 5,800,000 flights were recorded in 2015. These flights are described according to 31 variables. Further details of these variables can be found <a href='https://www.transtats.bts.gov/DL_SelectFields.asp?Table_ID=236&DB_Short_Name=On-Time'>here</a>, if you are interested (not needed to answer these questions). \n",
    "\n",
    "\n",
    " \n",
    "\n",
    "|          Name          | Type | DESCRIPTION |\n",
    "|--------------------------------|---|----------------------------------------------------------------------|\n",
    "| DATE                     | object | The date in python datetime format |\n",
    "| MONTH                     | int64 | The month of the year(1-12) |\n",
    "| DAY                       | int64 | The day of the month |\n",
    "| DAY_OF_WEEK               | int64 | The day of the week(1-7, MON-SUN) |\n",
    "| AIRLINE                  | object | An identifier for the airline |\n",
    "| FLIGHT_NUMBER             | int64 | The flight number |\n",
    "| TAIL_NUMBER              | object | The tail number (aircraft) corresponding to this flight |\n",
    "| ORIGIN_AIRPORT           | object | The code for origin airport |\n",
    "| DESTINATION_AIRPORT      | object | The code for destination airport |\n",
    "| SCHED_DEP                | object | The departure time in python datetime.time format |\n",
    "| SCHED_ARR                | object | The arrival time in python datetime.time format |\n",
    "| DEPARTURE_DELAY         |  float64| The delay incurred at the origin  (mins) |\n",
    "| ARRIVAL_DELAY           | float64 | The delay when the flight reached the (mins) destination |\n",
    "| DISTANCE                  | int64 | Distance in miles between origin and destination |\n",
    "| SCHEDULED_TIME          | float64 | Scheduled time of flight (minutes) |\n",
    "| ELAPSED_TIME            | float64 | Actual time of flight (minutes) |\n",
    "| AIR_SYSTEM_DELAY        | float64 | What part of the delay was NASD?(mins) |\n",
    "| SECURITY_DELAY          | float64 | What part of the delay was due to security problems? (mins) |\n",
    "| AIRLINE_DELAY           | float64 | What part of the delay is due to the airline? (mins) |\n",
    "| LATE_AIRCRAFT_DELAY     | float64 | What part of the delay is due to previous flight(s) being late(mins) |\n",
    "| WEATHER_DELAY           | float64 | Delay due to extreme weather events(min) |\n",
    "\n",
    "You can read more about the various weather delays [here](https://www.rita.dot.gov/bts/help/aviation/html/understanding.html) if you are so inclined.\n",
    "\n",
    "\n",
    "\n",
    "## Data/Caveats\n",
    "\n",
    "The data file, flights.csv, is found <a href=\"https://drive.google.com/file/d/0B9dVesTppCgHY0IwZHk3SGhjd00/view?usp=sharing\">here</a> (note, it is about 70MB). \n",
    "\n",
    "This data is already preprocessed, reduced, partially cleaned and therefore not identical to the original dataset."
   ]
  },
  {
   "cell_type": "markdown",
   "metadata": {},
   "source": [
    "## Problem Description"
   ]
  },
  {
   "cell_type": "markdown",
   "metadata": {},
   "source": [
    "We will build two separate models: one model that classifies whether a flight will be delayed and a second model that predicts the length of delay given that a flight is truly delayed. Only consider models taught in class so far. \n",
    "\n",
    "** Consider the following: **\n",
    "This is a large dataset; think of strategies on how to solve this problem. Create a manageable subsample of the data that you can use to train and test/validate, but eventually you should predict on all the data (excluding the training set).\n",
    "\n",
    "### Questions\n",
    "1. (5pts) Create a new variable, `DELAY_OR_NOT`: a boolean/indicator variable which indicates any arrival delay under 15 mins as a 0, and any delay at or above 15 mins as a 1 (`ARRIVAL_DELAY >= 15`).\n",
    "2. (5pts) Make sure you understand the data variable descriptions before you start the analysis. Consider all the columns and determine and list which of these predictors should not be used. \n",
    "3. (15pts) Perform EDA to gain intuition of the factors that affect delay and provide visuals: do delays vary across airlines, or time of departure, or airport (do, at the very least, Chicago (ORD), Boston (BOS), and your favorite another airport), or airport traffic?\n",
    "4. (20pts) Build a classification model that classifies delays according to `DELAY_OR_NOT`. This is an unbalanced dataset, thus consider the appropriate performance metric when reporting your results. \n",
    "5. (5pts) Given your model, comment on the importance of factors as related to whether a flight is delayed.\n",
    "6. (5pts) Evaluate your model(s) on your test set, and finally provide a visual to show which airlines are predicted to have the most delays using all the data excluding the training and test set. \n",
    "7. (15pts) Build a regression model that predicts the length of delay (on the log scale) given that a flight is truly delayed.\n",
    "8. (20pts) Write a report (in the last markdown cell in your notebook with your findings (without code)). Describe the main design decisions you have made with justifications. Clearly explain your methodology and results. This should not be more than 300 words. You may use up to 5 diagrams.\n",
    "\n"
   ]
  },
  {
   "cell_type": "markdown",
   "metadata": {},
   "source": [
    "\n",
    "\n",
    "\n",
    "### 209 Additional questions\n",
    "1. (10pts) Engineer two additional features that will help improve the classification model's performance.\n",
    "2. (5pts) Add one additional feature from a data source not given to you.  Do this only after you complete the rest of the exam.\n",
    "\n",
    "## Deliverable: \n",
    "A well presented notebook with well structured and documented code to answer questions 1-7 (plus additional questions for 209 students) with brief explanations and/or clarifications (10pts for overall presenation). The last cell should contain the report for question 8.\n",
    "\n",
    "\n",
    "\n",
    "## Hints\n",
    "1. For the classification model, an AUC of approximately 0.6 should be your base model. \n",
    "2. $R^2>0.03$ for the regression is good, $R^2>0.05$ very good, and $R^2>0.1$ is impressive (measured on the log scale). "
   ]
  },
  {
   "cell_type": "code",
   "execution_count": 1,
   "metadata": {},
   "outputs": [],
   "source": [
    "import numpy as np\n",
    "import pandas as pd\n",
    "import matplotlib\n",
    "import matplotlib.pyplot as plt\n",
    "from sklearn.linear_model import LogisticRegression\n",
    "from sklearn.linear_model import LogisticRegressionCV\n",
    "from sklearn.linear_model import LinearRegression\n",
    "from sklearn.linear_model import Ridge\n",
    "from sklearn.linear_model import Lasso\n",
    "from sklearn.linear_model import RidgeCV\n",
    "from sklearn.linear_model import LassoCV\n",
    "from sklearn.metrics import roc_curve, auc\n",
    "from sklearn.metrics import roc_auc_score\n",
    "from sklearn.metrics import confusion_matrix\n",
    "from sklearn.naive_bayes import MultinomialNB\n",
    "import datetime\n",
    "from sklearn.model_selection import train_test_split\n",
    "from sklearn import preprocessing\n",
    "from matplotlib import colors\n",
    "import seaborn as sns\n",
    "%matplotlib inline"
   ]
  },
  {
   "cell_type": "markdown",
   "metadata": {},
   "source": [
    "### Question 1. (5pts) Create a new variable, DELAY_OR_NOT: a boolean/indicator variable which indicates any arrival delay under 15 mins as a 0, and any delay at or above 15 mins as a 1 (ARRIVAL_DELAY >= 15)."
   ]
  },
  {
   "cell_type": "code",
   "execution_count": 2,
   "metadata": {},
   "outputs": [
    {
     "data": {
      "text/html": [
       "<div>\n",
       "<style>\n",
       "    .dataframe thead tr:only-child th {\n",
       "        text-align: right;\n",
       "    }\n",
       "\n",
       "    .dataframe thead th {\n",
       "        text-align: left;\n",
       "    }\n",
       "\n",
       "    .dataframe tbody tr th {\n",
       "        vertical-align: top;\n",
       "    }\n",
       "</style>\n",
       "<table border=\"1\" class=\"dataframe\">\n",
       "  <thead>\n",
       "    <tr style=\"text-align: right;\">\n",
       "      <th></th>\n",
       "      <th>DATE</th>\n",
       "      <th>MONTH</th>\n",
       "      <th>DAY</th>\n",
       "      <th>DAY_OF_WEEK</th>\n",
       "      <th>AIRLINE</th>\n",
       "      <th>FLIGHT_NUMBER</th>\n",
       "      <th>TAIL_NUMBER</th>\n",
       "      <th>ORIGIN_AIRPORT</th>\n",
       "      <th>DESTINATION_AIRPORT</th>\n",
       "      <th>SCHED_DEP</th>\n",
       "      <th>...</th>\n",
       "      <th>ARRIVAL_DELAY</th>\n",
       "      <th>DISTANCE</th>\n",
       "      <th>SCHEDULED_TIME</th>\n",
       "      <th>ELAPSED_TIME</th>\n",
       "      <th>AIR_SYSTEM_DELAY</th>\n",
       "      <th>SECURITY_DELAY</th>\n",
       "      <th>AIRLINE_DELAY</th>\n",
       "      <th>LATE_AIRCRAFT_DELAY</th>\n",
       "      <th>WEATHER_DELAY</th>\n",
       "      <th>DELAY_OR_NOT</th>\n",
       "    </tr>\n",
       "  </thead>\n",
       "  <tbody>\n",
       "    <tr>\n",
       "      <th>0</th>\n",
       "      <td>2015-09-19</td>\n",
       "      <td>9</td>\n",
       "      <td>19</td>\n",
       "      <td>6</td>\n",
       "      <td>AA</td>\n",
       "      <td>394</td>\n",
       "      <td>N3FMAA</td>\n",
       "      <td>ORD</td>\n",
       "      <td>LGA</td>\n",
       "      <td>07:15:00</td>\n",
       "      <td>...</td>\n",
       "      <td>1.0</td>\n",
       "      <td>733</td>\n",
       "      <td>135.0</td>\n",
       "      <td>127.0</td>\n",
       "      <td>NaN</td>\n",
       "      <td>NaN</td>\n",
       "      <td>NaN</td>\n",
       "      <td>NaN</td>\n",
       "      <td>NaN</td>\n",
       "      <td>0</td>\n",
       "    </tr>\n",
       "    <tr>\n",
       "      <th>1</th>\n",
       "      <td>2015-10-28</td>\n",
       "      <td>10</td>\n",
       "      <td>28</td>\n",
       "      <td>3</td>\n",
       "      <td>AA</td>\n",
       "      <td>375</td>\n",
       "      <td>N4YDAA</td>\n",
       "      <td>11298</td>\n",
       "      <td>13342</td>\n",
       "      <td>20:15:00</td>\n",
       "      <td>...</td>\n",
       "      <td>-31.0</td>\n",
       "      <td>853</td>\n",
       "      <td>149.0</td>\n",
       "      <td>118.0</td>\n",
       "      <td>NaN</td>\n",
       "      <td>NaN</td>\n",
       "      <td>NaN</td>\n",
       "      <td>NaN</td>\n",
       "      <td>NaN</td>\n",
       "      <td>0</td>\n",
       "    </tr>\n",
       "    <tr>\n",
       "      <th>2</th>\n",
       "      <td>2015-08-19</td>\n",
       "      <td>8</td>\n",
       "      <td>19</td>\n",
       "      <td>3</td>\n",
       "      <td>MQ</td>\n",
       "      <td>3648</td>\n",
       "      <td>N512MQ</td>\n",
       "      <td>XNA</td>\n",
       "      <td>ORD</td>\n",
       "      <td>12:22:00</td>\n",
       "      <td>...</td>\n",
       "      <td>-21.0</td>\n",
       "      <td>522</td>\n",
       "      <td>108.0</td>\n",
       "      <td>88.0</td>\n",
       "      <td>NaN</td>\n",
       "      <td>NaN</td>\n",
       "      <td>NaN</td>\n",
       "      <td>NaN</td>\n",
       "      <td>NaN</td>\n",
       "      <td>0</td>\n",
       "    </tr>\n",
       "    <tr>\n",
       "      <th>3</th>\n",
       "      <td>2015-12-01</td>\n",
       "      <td>12</td>\n",
       "      <td>1</td>\n",
       "      <td>2</td>\n",
       "      <td>WN</td>\n",
       "      <td>4096</td>\n",
       "      <td>N912WN</td>\n",
       "      <td>PHX</td>\n",
       "      <td>BWI</td>\n",
       "      <td>11:20:00</td>\n",
       "      <td>...</td>\n",
       "      <td>-14.0</td>\n",
       "      <td>1999</td>\n",
       "      <td>260.0</td>\n",
       "      <td>235.0</td>\n",
       "      <td>NaN</td>\n",
       "      <td>NaN</td>\n",
       "      <td>NaN</td>\n",
       "      <td>NaN</td>\n",
       "      <td>NaN</td>\n",
       "      <td>0</td>\n",
       "    </tr>\n",
       "    <tr>\n",
       "      <th>4</th>\n",
       "      <td>2015-09-15</td>\n",
       "      <td>9</td>\n",
       "      <td>15</td>\n",
       "      <td>2</td>\n",
       "      <td>WN</td>\n",
       "      <td>285</td>\n",
       "      <td>N7718B</td>\n",
       "      <td>MCI</td>\n",
       "      <td>DEN</td>\n",
       "      <td>14:10:00</td>\n",
       "      <td>...</td>\n",
       "      <td>-12.0</td>\n",
       "      <td>533</td>\n",
       "      <td>105.0</td>\n",
       "      <td>97.0</td>\n",
       "      <td>NaN</td>\n",
       "      <td>NaN</td>\n",
       "      <td>NaN</td>\n",
       "      <td>NaN</td>\n",
       "      <td>NaN</td>\n",
       "      <td>0</td>\n",
       "    </tr>\n",
       "  </tbody>\n",
       "</table>\n",
       "<p>5 rows × 22 columns</p>\n",
       "</div>"
      ],
      "text/plain": [
       "         DATE  MONTH  DAY  DAY_OF_WEEK AIRLINE  FLIGHT_NUMBER TAIL_NUMBER  \\\n",
       "0  2015-09-19      9   19            6      AA            394      N3FMAA   \n",
       "1  2015-10-28     10   28            3      AA            375      N4YDAA   \n",
       "2  2015-08-19      8   19            3      MQ           3648      N512MQ   \n",
       "3  2015-12-01     12    1            2      WN           4096      N912WN   \n",
       "4  2015-09-15      9   15            2      WN            285      N7718B   \n",
       "\n",
       "  ORIGIN_AIRPORT DESTINATION_AIRPORT SCHED_DEP      ...      ARRIVAL_DELAY  \\\n",
       "0            ORD                 LGA  07:15:00      ...                1.0   \n",
       "1          11298               13342  20:15:00      ...              -31.0   \n",
       "2            XNA                 ORD  12:22:00      ...              -21.0   \n",
       "3            PHX                 BWI  11:20:00      ...              -14.0   \n",
       "4            MCI                 DEN  14:10:00      ...              -12.0   \n",
       "\n",
       "   DISTANCE  SCHEDULED_TIME  ELAPSED_TIME  AIR_SYSTEM_DELAY  SECURITY_DELAY  \\\n",
       "0       733           135.0         127.0               NaN             NaN   \n",
       "1       853           149.0         118.0               NaN             NaN   \n",
       "2       522           108.0          88.0               NaN             NaN   \n",
       "3      1999           260.0         235.0               NaN             NaN   \n",
       "4       533           105.0          97.0               NaN             NaN   \n",
       "\n",
       "   AIRLINE_DELAY  LATE_AIRCRAFT_DELAY  WEATHER_DELAY  DELAY_OR_NOT  \n",
       "0            NaN                  NaN            NaN             0  \n",
       "1            NaN                  NaN            NaN             0  \n",
       "2            NaN                  NaN            NaN             0  \n",
       "3            NaN                  NaN            NaN             0  \n",
       "4            NaN                  NaN            NaN             0  \n",
       "\n",
       "[5 rows x 22 columns]"
      ]
     },
     "execution_count": 2,
     "metadata": {},
     "output_type": "execute_result"
    }
   ],
   "source": [
    "df1 = pd.read_csv('cs109a_midterm.csv')\n",
    "df1['DELAY_OR_NOT'] = np.where(df1['ARRIVAL_DELAY']>=15, 1, 0)\n",
    "df1.head()"
   ]
  },
  {
   "cell_type": "markdown",
   "metadata": {},
   "source": [
    "### Question 2. (5pts) Make sure you understand the data variable descriptions before you start the analysis. Consider all the columns and determine and list which of these predictors should not be used."
   ]
  },
  {
   "cell_type": "code",
   "execution_count": 3,
   "metadata": {},
   "outputs": [
    {
     "name": "stdout",
     "output_type": "stream",
     "text": [
      "the names of all columns:\n",
      " ['DATE', 'MONTH', 'DAY', 'DAY_OF_WEEK', 'AIRLINE', 'FLIGHT_NUMBER', 'TAIL_NUMBER', 'ORIGIN_AIRPORT', 'DESTINATION_AIRPORT', 'SCHED_DEP', 'SCHED_ARR', 'DEPARTURE_DELAY', 'ARRIVAL_DELAY', 'DISTANCE', 'SCHEDULED_TIME', 'ELAPSED_TIME', 'AIR_SYSTEM_DELAY', 'SECURITY_DELAY', 'AIRLINE_DELAY', 'LATE_AIRCRAFT_DELAY', 'WEATHER_DELAY', 'DELAY_OR_NOT']\n"
     ]
    }
   ],
   "source": [
    "print(\"the names of all columns:\\n\", list(df1))"
   ]
  },
  {
   "cell_type": "markdown",
   "metadata": {},
   "source": [
    "#### Predictors should not be used:\n",
    "- ARRIVAL_DELAY: This column has already be encoded into the \"DELAY_OR_NOT\" column. If we use this column, we are like cheating to have y information to classify y.\n",
    "- DEPARTURE_DELAY: Same idea as above. If the flight is delayed at departure, it is very likely that it will be delayed at arrival.\n",
    "- ELAPSED_TIME: This information should not be used too, because we want to predict whether a flight is delayed or not based only on the information before it takes off.\n",
    "- AIR_SYSTEM_DELAY, SECURITY_DELAY, AIRLINE_DELAY, LATE_AIRCRAFT_DELAY, WEATHER_DELAY: Similarly, we don't know whether the flight is delayed or not when we are building the model. So we should not have access to such \"future\" information."
   ]
  },
  {
   "cell_type": "markdown",
   "metadata": {},
   "source": [
    "### Question 3. (15pts) Perform EDA to gain intuition of the factors that affect delay and provide visuals: do delays vary across airlines, or time of departure, or airport (do, at the very least, Chicago (ORD), Boston (BOS), and your favorite another airport), or airport traffic?"
   ]
  },
  {
   "cell_type": "markdown",
   "metadata": {},
   "source": [
    "#### Intuition 1:\n",
    "- Do delays vary across airlines?"
   ]
  },
  {
   "cell_type": "code",
   "execution_count": 4,
   "metadata": {},
   "outputs": [
    {
     "data": {
      "text/plain": [
       "AIRLINE\n",
       "NK    0.372764\n",
       "F9    0.226847\n",
       "B6    0.159416\n",
       "MQ    0.136061\n",
       "UA    0.134035\n",
       "VX    0.123715\n",
       "EV    0.117014\n",
       "WN    0.109512\n",
       "US    0.103044\n",
       "AA    0.089197\n",
       "OO    0.088212\n",
       "DL    0.044268\n",
       "AS    0.038682\n",
       "HA    0.033147\n",
       "Name: DELAY_OR_NOT, dtype: float64"
      ]
     },
     "execution_count": 4,
     "metadata": {},
     "output_type": "execute_result"
    }
   ],
   "source": [
    "delay_airlines = df1.groupby('AIRLINE')['DELAY_OR_NOT'].mean()\n",
    "delay_airlines = delay_airlines.sort_values(ascending=False)\n",
    "delay_airlines"
   ]
  },
  {
   "cell_type": "code",
   "execution_count": 5,
   "metadata": {},
   "outputs": [
    {
     "data": {
      "image/png": "[encoded data removed]",
      "text/plain": [
       "<matplotlib.figure.Figure at 0x1a2179ab00>"
      ]
     },
     "metadata": {},
     "output_type": "display_data"
    }
   ],
   "source": [
    "ax = delay_airlines.plot(kind='bar', title=\"Delay Ratio of Airlines\", figsize=(8,6), rot=0)\n",
    "ax.set_xlabel('Airlines')\n",
    "ax.set_ylabel('Delay Ratio')\n",
    "plt.show()"
   ]
  },
  {
   "cell_type": "markdown",
   "metadata": {},
   "source": [
    "The top 3 airlines with HIGHEST delay ratios are:\n",
    "- NK (Spirit Airlines): 37.3%\n",
    "- F9 (Frontier AIrlines): 22.7%\n",
    "- B6 (JetBlue): 15.9%\n",
    "\n",
    "The top 3 airlines with LOWEST delay ratios are:\n",
    "- HA (Hawaiian Airlines): 3.3%\n",
    "- AS (Alaska Airlines): 3.9%\n",
    "- DL (Delta Airlines): 4.4%"
   ]
  },
  {
   "cell_type": "markdown",
   "metadata": {},
   "source": [
    "#### Intuition 2:\n",
    "- Do delays vary across time of departure?"
   ]
  },
  {
   "cell_type": "code",
   "execution_count": 6,
   "metadata": {},
   "outputs": [
    {
     "data": {
      "text/html": [
       "<div>\n",
       "<style>\n",
       "    .dataframe thead tr:only-child th {\n",
       "        text-align: right;\n",
       "    }\n",
       "\n",
       "    .dataframe thead th {\n",
       "        text-align: left;\n",
       "    }\n",
       "\n",
       "    .dataframe tbody tr th {\n",
       "        vertical-align: top;\n",
       "    }\n",
       "</style>\n",
       "<table border=\"1\" class=\"dataframe\">\n",
       "  <thead>\n",
       "    <tr style=\"text-align: right;\">\n",
       "      <th></th>\n",
       "      <th>DATE</th>\n",
       "      <th>MONTH</th>\n",
       "      <th>DAY</th>\n",
       "      <th>DAY_OF_WEEK</th>\n",
       "      <th>AIRLINE</th>\n",
       "      <th>FLIGHT_NUMBER</th>\n",
       "      <th>TAIL_NUMBER</th>\n",
       "      <th>ORIGIN_AIRPORT</th>\n",
       "      <th>DESTINATION_AIRPORT</th>\n",
       "      <th>SCHED_DEP</th>\n",
       "      <th>...</th>\n",
       "      <th>ARRIVAL_DELAY</th>\n",
       "      <th>DISTANCE</th>\n",
       "      <th>SCHEDULED_TIME</th>\n",
       "      <th>ELAPSED_TIME</th>\n",
       "      <th>AIR_SYSTEM_DELAY</th>\n",
       "      <th>SECURITY_DELAY</th>\n",
       "      <th>AIRLINE_DELAY</th>\n",
       "      <th>LATE_AIRCRAFT_DELAY</th>\n",
       "      <th>WEATHER_DELAY</th>\n",
       "      <th>DELAY_OR_NOT</th>\n",
       "    </tr>\n",
       "  </thead>\n",
       "  <tbody>\n",
       "    <tr>\n",
       "      <th>749153</th>\n",
       "      <td>2015-11-30</td>\n",
       "      <td>11</td>\n",
       "      <td>30</td>\n",
       "      <td>1</td>\n",
       "      <td>UA</td>\n",
       "      <td>1561</td>\n",
       "      <td>N75435</td>\n",
       "      <td>ORD</td>\n",
       "      <td>PHL</td>\n",
       "      <td>00:01:00</td>\n",
       "      <td>...</td>\n",
       "      <td>8.0</td>\n",
       "      <td>678</td>\n",
       "      <td>122.0</td>\n",
       "      <td>105.0</td>\n",
       "      <td>NaN</td>\n",
       "      <td>NaN</td>\n",
       "      <td>NaN</td>\n",
       "      <td>NaN</td>\n",
       "      <td>NaN</td>\n",
       "      <td>0</td>\n",
       "    </tr>\n",
       "    <tr>\n",
       "      <th>475886</th>\n",
       "      <td>2015-11-30</td>\n",
       "      <td>11</td>\n",
       "      <td>30</td>\n",
       "      <td>1</td>\n",
       "      <td>UA</td>\n",
       "      <td>822</td>\n",
       "      <td>N483UA</td>\n",
       "      <td>ORD</td>\n",
       "      <td>BDL</td>\n",
       "      <td>00:01:00</td>\n",
       "      <td>...</td>\n",
       "      <td>-9.0</td>\n",
       "      <td>783</td>\n",
       "      <td>129.0</td>\n",
       "      <td>113.0</td>\n",
       "      <td>NaN</td>\n",
       "      <td>NaN</td>\n",
       "      <td>NaN</td>\n",
       "      <td>NaN</td>\n",
       "      <td>NaN</td>\n",
       "      <td>0</td>\n",
       "    </tr>\n",
       "    <tr>\n",
       "      <th>652920</th>\n",
       "      <td>2015-12-28</td>\n",
       "      <td>12</td>\n",
       "      <td>28</td>\n",
       "      <td>1</td>\n",
       "      <td>UA</td>\n",
       "      <td>1456</td>\n",
       "      <td>N808UA</td>\n",
       "      <td>DEN</td>\n",
       "      <td>BZN</td>\n",
       "      <td>00:02:00</td>\n",
       "      <td>...</td>\n",
       "      <td>7.0</td>\n",
       "      <td>524</td>\n",
       "      <td>112.0</td>\n",
       "      <td>97.0</td>\n",
       "      <td>NaN</td>\n",
       "      <td>NaN</td>\n",
       "      <td>NaN</td>\n",
       "      <td>NaN</td>\n",
       "      <td>NaN</td>\n",
       "      <td>0</td>\n",
       "    </tr>\n",
       "    <tr>\n",
       "      <th>16660</th>\n",
       "      <td>2015-07-18</td>\n",
       "      <td>7</td>\n",
       "      <td>18</td>\n",
       "      <td>6</td>\n",
       "      <td>NK</td>\n",
       "      <td>298</td>\n",
       "      <td>N605NK</td>\n",
       "      <td>LAS</td>\n",
       "      <td>IAH</td>\n",
       "      <td>00:03:00</td>\n",
       "      <td>...</td>\n",
       "      <td>-1.0</td>\n",
       "      <td>1222</td>\n",
       "      <td>177.0</td>\n",
       "      <td>182.0</td>\n",
       "      <td>NaN</td>\n",
       "      <td>NaN</td>\n",
       "      <td>NaN</td>\n",
       "      <td>NaN</td>\n",
       "      <td>NaN</td>\n",
       "      <td>0</td>\n",
       "    </tr>\n",
       "    <tr>\n",
       "      <th>683555</th>\n",
       "      <td>2015-07-28</td>\n",
       "      <td>7</td>\n",
       "      <td>28</td>\n",
       "      <td>2</td>\n",
       "      <td>NK</td>\n",
       "      <td>298</td>\n",
       "      <td>N621NK</td>\n",
       "      <td>LAS</td>\n",
       "      <td>IAH</td>\n",
       "      <td>00:03:00</td>\n",
       "      <td>...</td>\n",
       "      <td>-2.0</td>\n",
       "      <td>1222</td>\n",
       "      <td>177.0</td>\n",
       "      <td>176.0</td>\n",
       "      <td>NaN</td>\n",
       "      <td>NaN</td>\n",
       "      <td>NaN</td>\n",
       "      <td>NaN</td>\n",
       "      <td>NaN</td>\n",
       "      <td>0</td>\n",
       "    </tr>\n",
       "  </tbody>\n",
       "</table>\n",
       "<p>5 rows × 22 columns</p>\n",
       "</div>"
      ],
      "text/plain": [
       "              DATE  MONTH  DAY  DAY_OF_WEEK AIRLINE  FLIGHT_NUMBER  \\\n",
       "749153  2015-11-30     11   30            1      UA           1561   \n",
       "475886  2015-11-30     11   30            1      UA            822   \n",
       "652920  2015-12-28     12   28            1      UA           1456   \n",
       "16660   2015-07-18      7   18            6      NK            298   \n",
       "683555  2015-07-28      7   28            2      NK            298   \n",
       "\n",
       "       TAIL_NUMBER ORIGIN_AIRPORT DESTINATION_AIRPORT SCHED_DEP      ...       \\\n",
       "749153      N75435            ORD                 PHL  00:01:00      ...        \n",
       "475886      N483UA            ORD                 BDL  00:01:00      ...        \n",
       "652920      N808UA            DEN                 BZN  00:02:00      ...        \n",
       "16660       N605NK            LAS                 IAH  00:03:00      ...        \n",
       "683555      N621NK            LAS                 IAH  00:03:00      ...        \n",
       "\n",
       "       ARRIVAL_DELAY  DISTANCE  SCHEDULED_TIME  ELAPSED_TIME  \\\n",
       "749153           8.0       678           122.0         105.0   \n",
       "475886          -9.0       783           129.0         113.0   \n",
       "652920           7.0       524           112.0          97.0   \n",
       "16660           -1.0      1222           177.0         182.0   \n",
       "683555          -2.0      1222           177.0         176.0   \n",
       "\n",
       "        AIR_SYSTEM_DELAY  SECURITY_DELAY  AIRLINE_DELAY  LATE_AIRCRAFT_DELAY  \\\n",
       "749153               NaN             NaN            NaN                  NaN   \n",
       "475886               NaN             NaN            NaN                  NaN   \n",
       "652920               NaN             NaN            NaN                  NaN   \n",
       "16660                NaN             NaN            NaN                  NaN   \n",
       "683555               NaN             NaN            NaN                  NaN   \n",
       "\n",
       "        WEATHER_DELAY  DELAY_OR_NOT  \n",
       "749153            NaN             0  \n",
       "475886            NaN             0  \n",
       "652920            NaN             0  \n",
       "16660             NaN             0  \n",
       "683555            NaN             0  \n",
       "\n",
       "[5 rows x 22 columns]"
      ]
     },
     "execution_count": 6,
     "metadata": {},
     "output_type": "execute_result"
    }
   ],
   "source": [
    "df2 = df1.copy()\n",
    "# df2.sort('SCHED_DEP')\n",
    "df2 = df1.sort_values(by='SCHED_DEP')\n",
    "df2.head()"
   ]
  },
  {
   "cell_type": "code",
   "execution_count": 7,
   "metadata": {},
   "outputs": [],
   "source": [
    "dep_time = df2['SCHED_DEP'].values\n",
    "dep_hour = []\n",
    "for t in dep_time:\n",
    "    dep_hour.append(t[:2])\n",
    "dep_h = list(map(int, dep_hour))\n",
    "df2['dep_hour'] = dep_h\n",
    "\n",
    "delay_dep_hours = df2.groupby('dep_hour')['DELAY_OR_NOT'].mean()\n",
    "# delay_dep_hours"
   ]
  },
  {
   "cell_type": "code",
   "execution_count": 8,
   "metadata": {},
   "outputs": [
    {
     "data": {
      "image/png": "[encoded data removed]",
      "text/plain": [
       "<matplotlib.figure.Figure at 0x1a1c57e588>"
      ]
     },
     "metadata": {},
     "output_type": "display_data"
    }
   ],
   "source": [
    "ax = delay_dep_hours.plot(kind='bar', title=\"Ratio of Delays in Every Departure Hour\", figsize=(8,6), rot=0)\n",
    "ax.set_xlabel('Departure Time (hour)')\n",
    "ax.set_ylabel('Ratio of Delays')\n",
    "plt.show()"
   ]
  },
  {
   "cell_type": "markdown",
   "metadata": {},
   "source": [
    "From the above graph, we can see that late afternoon (starting from about 3-4pm) till late night is more likely to have delays compared to early morning till early noon.\n",
    "\n",
    "Also, we can see that night time (8pm - 11pm) has extremely high delay ratio."
   ]
  },
  {
   "cell_type": "markdown",
   "metadata": {},
   "source": [
    "#### Intuition 3:\n",
    "- Do delays vary across different airports?"
   ]
  },
  {
   "cell_type": "code",
   "execution_count": 9,
   "metadata": {},
   "outputs": [],
   "source": [
    "ORD_mean = df1.loc[df1['ORIGIN_AIRPORT'] == 'ORD']['DELAY_OR_NOT'].mean()\n",
    "BOS_mean = df1.loc[df1['ORIGIN_AIRPORT'] == 'BOS']['DELAY_OR_NOT'].mean()\n",
    "LAX_mean = df1.loc[df1['ORIGIN_AIRPORT'] == 'LAX']['DELAY_OR_NOT'].mean()\n",
    "JFK_mean = df1.loc[df1['ORIGIN_AIRPORT'] == 'JFK']['DELAY_OR_NOT'].mean()\n",
    "LAS_mean = df1.loc[df1['ORIGIN_AIRPORT'] == 'LAS']['DELAY_OR_NOT'].mean()\n",
    "DEN_mean = df1.loc[df1['ORIGIN_AIRPORT'] == 'DEN']['DELAY_OR_NOT'].mean()\n",
    "SEA_mean = df1.loc[df1['ORIGIN_AIRPORT'] == 'SEA']['DELAY_OR_NOT'].mean()\n",
    "SFO_mean = df1.loc[df1['ORIGIN_AIRPORT'] == 'SFO']['DELAY_OR_NOT'].mean()\n",
    "ATL_mean = df1.loc[df1['ORIGIN_AIRPORT'] == 'ATL']['DELAY_OR_NOT'].mean()\n",
    "DFW_mean = df1.loc[df1['ORIGIN_AIRPORT'] == 'DFW']['DELAY_OR_NOT'].mean()\n",
    "PHX_mean = df1.loc[df1['ORIGIN_AIRPORT'] == 'PHX']['DELAY_OR_NOT'].mean()\n",
    "IAH_mean = df1.loc[df1['ORIGIN_AIRPORT'] == 'IAH']['DELAY_OR_NOT'].mean()"
   ]
  },
  {
   "cell_type": "code",
   "execution_count": 10,
   "metadata": {},
   "outputs": [
    {
     "data": {
      "image/png": "[encoded data removed]",
      "text/plain": [
       "<matplotlib.figure.Figure at 0x1a1c8391d0>"
      ]
     },
     "metadata": {},
     "output_type": "display_data"
    }
   ],
   "source": [
    "plt.figure(figsize=(8, 6))\n",
    "airports = ('ORD', 'BOS', 'LAX', 'JFK', 'LAS','DEN','SEA','SFO')\n",
    "y_pos = np.arange(len(airports))\n",
    "airport_means = [ORD_mean, BOS_mean, LAX_mean, JFK_mean, LAS_mean, DEN_mean, SEA_mean, SFO_mean]\n",
    "\n",
    "plt.bar(y_pos, airport_means, align='center', width=0.5)\n",
    "plt.xticks(y_pos, airports)\n",
    "plt.ylabel('Delay Ratio')\n",
    "plt.title('Delay Ratio of Several Famous Airports')\n",
    "plt.show()"
   ]
  },
  {
   "cell_type": "markdown",
   "metadata": {},
   "source": [
    "I chose 8 airports in big cities across US, and we can see from the above graph that the delays do vary across airports: ORD and JFK have the highest delay ratio among the above airports. This makes sense because these two are known as the busiest airports in the world, which are located in Chicago and New York city."
   ]
  },
  {
   "cell_type": "markdown",
   "metadata": {},
   "source": [
    "#### Intuition 4:\n",
    "- Do delays vary across airport traffic?"
   ]
  },
  {
   "cell_type": "code",
   "execution_count": 11,
   "metadata": {},
   "outputs": [],
   "source": [
    "DEP_rank = df1['ORIGIN_AIRPORT'].value_counts()[:10]\n",
    "ARR_rank = df1['DESTINATION_AIRPORT'].value_counts()[:10]\n",
    "# DEP_rank, ARR_rank"
   ]
  },
  {
   "cell_type": "code",
   "execution_count": 12,
   "metadata": {},
   "outputs": [],
   "source": [
    "busiest = pd.concat([DEP_rank, ARR_rank], axis=1, join='inner')\n",
    "busiest[\"Traffic\"] = busiest[\"ORIGIN_AIRPORT\"] + busiest[\"DESTINATION_AIRPORT\"]\n",
    "traffic = busiest[\"Traffic\"].values\n",
    "# traffic\n",
    "# busiest"
   ]
  },
  {
   "cell_type": "code",
   "execution_count": 13,
   "metadata": {},
   "outputs": [
    {
     "data": {
      "image/png": "[encoded data removed]",
      "text/plain": [
       "<matplotlib.figure.Figure at 0x1a1c8acac8>"
      ]
     },
     "metadata": {},
     "output_type": "display_data"
    }
   ],
   "source": [
    "fig,ax1 = plt.subplots(figsize=(8, 6))\n",
    "busiest_airports = ('ATL', 'ORD', 'DFW', 'DEN', 'LAS','PHX','IAH','SFO','LAS')\n",
    "y_pos = np.arange(len(busiest_airports))\n",
    "busiest_delay = [ATL_mean, ORD_mean, DFW_mean, DEN_mean, LAS_mean, PHX_mean, IAH_mean, SFO_mean, LAS_mean]\n",
    "\n",
    "ax1.bar(y_pos, traffic, align='center', width=0.5, color = 'C0', alpha = 0.5)\n",
    "plt.xticks(y_pos, busiest_airports)\n",
    "ax1.set_ylabel('Airport Traffic (Dep. + Arr.)', color = 'C0')\n",
    "ax1.set_title('Delay Ratio of the Airports with the Most Airport Traffic')\n",
    "\n",
    "ax2 = ax1.twinx()\n",
    "ax2.plot(y_pos, busiest_delay, marker = 'o', color = 'green', alpha = 0.7)\n",
    "ax2.set_ylabel('Delay Ratio', color = 'green')\n",
    "\n",
    "plt.show()"
   ]
  },
  {
   "cell_type": "markdown",
   "metadata": {},
   "source": [
    "- To quantify airport traffic, I add up the number of departures and arrivals for each airport. We can see from the above graph that the top three airports with the most airport traffic are ATL, ORD and DFW, represented by the blue bars.\n",
    "- The delay ratio, represented by the green line, shows that airport with a lot of traffic does not necessarily mean that it will hace a high delay ratio. This makes sense because delays at an airport are not only related to airport traffic, but also things like how well the airport is managed, and how well the airport is designed in the first place to handle massive airport traffic, etc."
   ]
  },
  {
   "cell_type": "markdown",
   "metadata": {},
   "source": [
    "### Question 4. (20pts) Build a classification model that classifies delays according to DELAY_OR_NOT. This is an unbalanced dataset, thus consider the appropriate performance metric when reporting your results."
   ]
  },
  {
   "cell_type": "markdown",
   "metadata": {},
   "source": [
    "### Base Model: \n",
    "- With only one prediction \"Airline\", can we classify whether a flight will be a delay based on which airline it is?"
   ]
  },
  {
   "cell_type": "code",
   "execution_count": 14,
   "metadata": {},
   "outputs": [],
   "source": [
    "df_base = df1.copy()\n",
    "# df_base = df_base[['AIRLINE', 'DATE', 'DELAY_OR_NOT']]"
   ]
  },
  {
   "cell_type": "code",
   "execution_count": 15,
   "metadata": {},
   "outputs": [],
   "source": [
    "df_base = df1[['AIRLINE', 'DELAY_OR_NOT']]\n",
    "np.random.seed(9001)\n",
    "msk = np.random.rand(len(df_base)) < 0.75\n",
    "df_train_base = df_base[msk]\n",
    "df_test_base = df_base[~msk]"
   ]
  },
  {
   "cell_type": "code",
   "execution_count": 16,
   "metadata": {},
   "outputs": [],
   "source": [
    "# df_base['DATE'] = pd.to_datetime(df_base['DATE'])\n",
    "# df_train_base = df_base[df_base['DATE'].apply(lambda x:x.date()) < datetime.date(2015, 1, 23)]\n",
    "# df_test_base = df_base[df_base['DATE'].apply(lambda x:x.date()) < datetime.date(2015, 1, 31)]\n",
    "# df_test_base = df_test_base[df_test_base['DATE'].apply(lambda x:x.date()) > datetime.date(2015, 1, 23)]"
   ]
  },
  {
   "cell_type": "markdown",
   "metadata": {},
   "source": [
    "- Note that airline is a categorical variable, so we need to get dummy variables for it."
   ]
  },
  {
   "cell_type": "code",
   "execution_count": 17,
   "metadata": {},
   "outputs": [],
   "source": [
    "categorical_cols = ['AIRLINE']\n",
    "df_train_base = pd.get_dummies(df_train_base, columns=categorical_cols, drop_first=True)\n",
    "df_test_base = pd.get_dummies(df_test_base, columns=categorical_cols, drop_first=True)\n",
    "# df_train.head()"
   ]
  },
  {
   "cell_type": "code",
   "execution_count": 18,
   "metadata": {},
   "outputs": [],
   "source": [
    "# X_train_base = df_train_base.drop(['DATE','DELAY_OR_NOT'], axis=1)\n",
    "X_train_base = df_train_base.drop(['DELAY_OR_NOT'], axis=1)\n",
    "y_train_base = df_train_base['DELAY_OR_NOT']\n",
    "# X_test_base = df_test_base.drop(['DATE','DELAY_OR_NOT'], axis=1)\n",
    "X_test_base = df_test_base.drop(['DELAY_OR_NOT'], axis=1)\n",
    "y_test_base = df_test_base['DELAY_OR_NOT']"
   ]
  },
  {
   "cell_type": "markdown",
   "metadata": {},
   "source": [
    "- Logistic Regrssion without regularization on this base model: "
   ]
  },
  {
   "cell_type": "code",
   "execution_count": 19,
   "metadata": {},
   "outputs": [
    {
     "name": "stdout",
     "output_type": "stream",
     "text": [
      "Train accuracy (base model):  0.898107921959\n"
     ]
    }
   ],
   "source": [
    "logreg = LogisticRegression(C=100000, fit_intercept=False)\n",
    "logreg.fit(X_train_base, y_train_base)\n",
    "y_hat_train_base = logreg.predict(X_train_base)\n",
    "y_hat_test_base = logreg.predict(X_test_base)\n",
    "print(\"Train accuracy (base model): \", logreg.score(X_train_base, y_train_base))\n",
    "# print(\"Test accuracy (base model): \", logreg.score(X_test_base, y_test_base))"
   ]
  },
  {
   "cell_type": "markdown",
   "metadata": {},
   "source": [
    "- Logistic Regrssion with cross validation to select the right regularization parameter on this base model:"
   ]
  },
  {
   "cell_type": "code",
   "execution_count": 20,
   "metadata": {},
   "outputs": [
    {
     "name": "stdout",
     "output_type": "stream",
     "text": [
      "Train accuracy (base model):  0.898107921959\n"
     ]
    }
   ],
   "source": [
    "logregcv = LogisticRegressionCV()\n",
    "logregcv.fit(X_train_base, y_train_base)\n",
    "y_hat_train_base = logregcv.predict(X_train_base)\n",
    "y_hat_test_base = logregcv.predict(X_test_base)\n",
    "print(\"Train accuracy (base model): \", logregcv.score(X_train_base, y_train_base))\n",
    "# print(\"Test accuracy (base model): \", logregcv.score(X_test_base, y_test_base))"
   ]
  },
  {
   "cell_type": "code",
   "execution_count": 21,
   "metadata": {},
   "outputs": [],
   "source": [
    "# conf_mat_base = confusion_matrix(y_test_base, y_hat_test_base)\n",
    "# conf_df_base = pd.DataFrame(conf_mat_base, columns = ['y_hat=0', 'y_hat = 1'], index = ['y=0', 'y=1'])\n",
    "# conf_df_base"
   ]
  },
  {
   "cell_type": "markdown",
   "metadata": {},
   "source": [
    "- Check AUC of the base model:"
   ]
  },
  {
   "cell_type": "code",
   "execution_count": 22,
   "metadata": {},
   "outputs": [
    {
     "name": "stdout",
     "output_type": "stream",
     "text": [
      "AUC of the base model: 0.621869077574\n"
     ]
    }
   ],
   "source": [
    "preds_base = logregcv.predict_proba(X_train_base)[:,1]\n",
    "fpr1, tpr1, thresholds = roc_curve(y_train_base, preds_base)\n",
    "roc_auc1 = auc(fpr1, tpr1)\n",
    "print(\"AUC of the base model:\", roc_auc1)"
   ]
  },
  {
   "cell_type": "code",
   "execution_count": 23,
   "metadata": {
    "collapsed": true
   },
   "outputs": [],
   "source": [
    "def make_roc(name, clf, ytest, xtest, ax=None, labe=5, proba=True, skip=0):\n",
    "    initial=False\n",
    "    if not ax:\n",
    "        ax=plt.gca()\n",
    "        initial=True\n",
    "    if proba:#for stuff like logistic regression\n",
    "        fpr, tpr, thresholds=roc_curve(ytest, clf.predict_proba(xtest)[:,1])\n",
    "    else:#for stuff like SVM\n",
    "        fpr, tpr, thresholds=roc_curve(ytest, clf.decision_function(xtest))\n",
    "    roc_auc = auc(fpr, tpr)\n",
    "    if skip:\n",
    "        l=fpr.shape[0]\n",
    "        ax.plot(fpr[0:l:skip], tpr[0:l:skip], '.-', alpha=0.3, label='ROC curve for %s (area = %0.2f)' % (name, roc_auc))\n",
    "    else:\n",
    "        ax.plot(fpr, tpr, '.-', alpha=0.3, label='ROC curve for %s (area = %0.2f)' % (name, roc_auc))\n",
    "    label_kwargs = {}\n",
    "    label_kwargs['bbox'] = dict(\n",
    "        boxstyle='round,pad=0.1', alpha=0.2,\n",
    "    )\n",
    "    if labe!=None:\n",
    "        for k in range(0, fpr.shape[0],labe):\n",
    "            #from https://gist.github.com/podshumok/c1d1c9394335d86255b8\n",
    "            threshold = str(np.round(thresholds[k], 3))\n",
    "            ax.annotate(threshold, (fpr[k], tpr[k]), **label_kwargs)\n",
    "    if initial:\n",
    "        ax.plot([0, 1], [0, 1], 'k--')\n",
    "        ax.set_xlim([0.0, 1.0])\n",
    "        ax.set_ylim([0.0, 1.05])\n",
    "        ax.set_xlabel('False Positive Rate')\n",
    "        ax.set_ylabel('True Positive Rate')\n",
    "        ax.set_title('ROC')\n",
    "    ax.legend(loc=\"lower right\")\n",
    "    return ax"
   ]
  },
  {
   "cell_type": "code",
   "execution_count": 24,
   "metadata": {},
   "outputs": [
    {
     "data": {
      "image/png": "[encoded data removed]",
      "text/plain": [
       "<matplotlib.figure.Figure at 0x1a1834c7b8>"
      ]
     },
     "metadata": {},
     "output_type": "display_data"
    }
   ],
   "source": [
    "plt.figure(figsize=(8,6))\n",
    "ax=make_roc(\"base model\",logregcv, y_train_base, X_train_base, labe=2, skip=10)"
   ]
  },
  {
   "cell_type": "markdown",
   "metadata": {},
   "source": [
    "- We can see that this base model does not do a very good job. Although the classification score is high, it has low AUC of 0.62, which is only slightly above the naive model AUC of 0.5.\n",
    "- The high classification score is probably due to the fact that the dataset is unbalanced, where undelayed flights are far more than delayed ones."
   ]
  },
  {
   "cell_type": "markdown",
   "metadata": {},
   "source": [
    "### Improve the base model:\n",
    "- Now we introduce more predictors other than airlines, such as origin airport, destination airport, scheduled time, etc, but not those variables that can leak information about delay or not."
   ]
  },
  {
   "cell_type": "code",
   "execution_count": 25,
   "metadata": {},
   "outputs": [],
   "source": [
    "df3 = df1.copy()\n",
    "# df3.head()\n",
    "\n",
    "total_airports = df1['ORIGIN_AIRPORT'].value_counts()[:40]\n",
    "total_airports = total_airports.index.tolist()\n",
    "\n",
    "df3 = df3[['AIRLINE','DISTANCE', 'DAY_OF_WEEK', 'ORIGIN_AIRPORT', 'DESTINATION_AIRPORT',\\\n",
    "         'SCHEDULED_TIME', 'DATE', 'DELAY_OR_NOT']]\n",
    "# df3 = df3[['AIRLINE','DISTANCE', 'DAY_OF_WEEK', 'ORIGIN_AIRPORT', 'DESTINATION_AIRPORT',\\\n",
    "#          'SCHEDULED_TIME', 'DELAY_OR_NOT']]\n",
    "df3 = df3[df3['ORIGIN_AIRPORT'].isin(total_airports)]\n",
    "df3 = df3[df3['DESTINATION_AIRPORT'].isin(total_airports)]\n",
    "\n",
    "\n",
    "# msk = np.random.rand(len(df3)) < 0.75\n",
    "# df_train3 = df3[msk]\n",
    "# df_test3 = df3[~msk]\n",
    "\n",
    "df3['DATE'] = pd.to_datetime(df3['DATE'])\n",
    "df_train3 = df3[df3['DATE'].apply(lambda x:x.date()) < datetime.date(2015, 1, 23)]\n",
    "df_test3 = df3[df3['DATE'].apply(lambda x:x.date()) < datetime.date(2015, 1, 31)]\n",
    "df_test3 = df_test3[df_test3['DATE'].apply(lambda x:x.date()) > datetime.date(2015, 1, 23)]\n",
    "\n",
    "categorical_cols = ['AIRLINE', 'ORIGIN_AIRPORT', 'DESTINATION_AIRPORT']\n",
    "df_train3 = pd.get_dummies(df_train3, columns=categorical_cols, drop_first=True)\n",
    "df_test3 = pd.get_dummies(df_test3, columns=categorical_cols, drop_first=True)\n",
    "\n",
    "df_train3 = df_train3.reset_index(drop=True)\n",
    "\n",
    "X_train3 = df_train3.drop(['DATE','DELAY_OR_NOT'], axis=1)\n",
    "# X_train3 = df_train3.drop(['DELAY_OR_NOT'], axis=1)\n",
    "y_train3 = df_train3['DELAY_OR_NOT']\n",
    "X_test3 = df_test3.drop(['DATE','DELAY_OR_NOT'], axis=1)\n",
    "# X_test3 = df_test3.drop(['DELAY_OR_NOT'], axis=1)\n",
    "y_test3 = df_test3['DELAY_OR_NOT']"
   ]
  },
  {
   "cell_type": "code",
   "execution_count": 26,
   "metadata": {},
   "outputs": [
    {
     "name": "stdout",
     "output_type": "stream",
     "text": [
      "Train accuracy (fitted model):  0.855841299762\n",
      "AUC of the fitted model: 0.722188794986\n"
     ]
    }
   ],
   "source": [
    "logregcv = LogisticRegressionCV()\n",
    "logregcv.fit(X_train3, y_train3)\n",
    "y_hat_train3 = logregcv.predict(X_train3)\n",
    "y_hat_test3 = logregcv.predict(X_test3)\n",
    "print(\"Train accuracy (fitted model): \", logregcv.score(X_train3, y_train3))\n",
    "# print(\"Test accuracy (fitted model): \", logregcv.score(X_test3, y_test3))\n",
    "\n",
    "preds3 = logregcv.predict_proba(X_train3)[:,1]\n",
    "fpr3, tpr3, thresholds3 = roc_curve(y_train3, preds3)\n",
    "roc_auc3 = auc(fpr3, tpr3)\n",
    "print(\"AUC of the fitted model:\", roc_auc3)"
   ]
  },
  {
   "cell_type": "code",
   "execution_count": 27,
   "metadata": {},
   "outputs": [
    {
     "data": {
      "image/png": "[encoded data removed]",
      "text/plain": [
       "<matplotlib.figure.Figure at 0x1a1cc55a20>"
      ]
     },
     "metadata": {},
     "output_type": "display_data"
    }
   ],
   "source": [
    "plt.figure(figsize=(8,6))\n",
    "ax=make_roc(\"logistic\",logregcv, y_train3, X_train3, labe=500, skip=10)"
   ]
  },
  {
   "cell_type": "markdown",
   "metadata": {},
   "source": [
    "- The AUC has improved from 0.62 to 0.72 for the training set, and the curve looks much better than the one from the base model.\n",
    "- Although the accuracy score is as high as 0.86, due to the unbalance, we need to further investigate properties like true positive rate and true negative rate. We will take a look at the confusion matrix next."
   ]
  },
  {
   "cell_type": "code",
   "execution_count": 28,
   "metadata": {},
   "outputs": [
    {
     "data": {
      "text/html": [
       "<div>\n",
       "<style>\n",
       "    .dataframe thead tr:only-child th {\n",
       "        text-align: right;\n",
       "    }\n",
       "\n",
       "    .dataframe thead th {\n",
       "        text-align: left;\n",
       "    }\n",
       "\n",
       "    .dataframe tbody tr th {\n",
       "        vertical-align: top;\n",
       "    }\n",
       "</style>\n",
       "<table border=\"1\" class=\"dataframe\">\n",
       "  <thead>\n",
       "    <tr style=\"text-align: right;\">\n",
       "      <th></th>\n",
       "      <th>y_hat=0</th>\n",
       "      <th>y_hat = 1</th>\n",
       "    </tr>\n",
       "  </thead>\n",
       "  <tbody>\n",
       "    <tr>\n",
       "      <th>y=0</th>\n",
       "      <td>18993</td>\n",
       "      <td>40</td>\n",
       "    </tr>\n",
       "    <tr>\n",
       "      <th>y=1</th>\n",
       "      <td>3172</td>\n",
       "      <td>76</td>\n",
       "    </tr>\n",
       "  </tbody>\n",
       "</table>\n",
       "</div>"
      ],
      "text/plain": [
       "     y_hat=0  y_hat = 1\n",
       "y=0    18993         40\n",
       "y=1     3172         76"
      ]
     },
     "execution_count": 28,
     "metadata": {},
     "output_type": "execute_result"
    }
   ],
   "source": [
    "conf_mat = confusion_matrix(y_train3, y_hat_train3)\n",
    "conf_df = pd.DataFrame(conf_mat, columns = ['y_hat=0', 'y_hat = 1'], index = ['y=0', 'y=1'])\n",
    "conf_df"
   ]
  },
  {
   "cell_type": "code",
   "execution_count": 29,
   "metadata": {},
   "outputs": [
    {
     "name": "stdout",
     "output_type": "stream",
     "text": [
      "True Positive Rate for Fitted:  0.0233990147783\n",
      "True Negative Rate for Fitted:  0.997898387012\n"
     ]
    }
   ],
   "source": [
    "print(\"True Positive Rate for Fitted: \", float(conf_mat[1][1])/(conf_mat[1][1]+ conf_mat[1][0]))\n",
    "print(\"True Negative Rate for Fitted: \", float(conf_mat[0][0])/(conf_mat[0][0] + conf_mat[0][1]))"
   ]
  },
  {
   "cell_type": "markdown",
   "metadata": {},
   "source": [
    "- Since the dataset is unbalanced, although the true negative rate is high, the true positive rate is extremely low.\n",
    "- For a situation like this, we can trade some false positive rate for a higher true positive rate.\n",
    "- We consider false positive rate at 0.2, 0.3, 0.4 and 0.5."
   ]
  },
  {
   "cell_type": "code",
   "execution_count": 30,
   "metadata": {},
   "outputs": [
    {
     "name": "stdout",
     "output_type": "stream",
     "text": [
      "TPR when FPR=0.2: 0.496921182266\n",
      "Threshold when FPR=0.2: 0.186453191937\n"
     ]
    }
   ],
   "source": [
    "print(\"TPR when FPR=0.2:\", tpr3[np.min([i for i, x in enumerate(fpr3) if x>=0.2])])\n",
    "print(\"Threshold when FPR=0.2:\",thresholds3[np.min([i for i, x in enumerate(fpr3) if x>=0.2])])"
   ]
  },
  {
   "cell_type": "code",
   "execution_count": 31,
   "metadata": {},
   "outputs": [
    {
     "name": "stdout",
     "output_type": "stream",
     "text": [
      "TPR when FPR=0.3: 0.619150246305\n",
      "Threshold when FPR=0.3: 0.159572541864\n"
     ]
    }
   ],
   "source": [
    "print(\"TPR when FPR=0.3:\", tpr3[np.min([i for i, x in enumerate(fpr3) if x>=0.3])])\n",
    "print(\"Threshold when FPR=0.3:\",thresholds3[np.min([i for i, x in enumerate(fpr3) if x>=0.3])])"
   ]
  },
  {
   "cell_type": "code",
   "execution_count": 32,
   "metadata": {},
   "outputs": [
    {
     "name": "stdout",
     "output_type": "stream",
     "text": [
      "TPR when FPR=0.4: 0.71828817734\n",
      "Threshold when FPR=0.4: 0.142540518817\n"
     ]
    }
   ],
   "source": [
    "print(\"TPR when FPR=0.4:\", tpr3[np.min([i for i, x in enumerate(fpr3) if x>=0.4])])\n",
    "print(\"Threshold when FPR=0.4:\",thresholds3[np.min([i for i, x in enumerate(fpr3) if x>=0.4])])"
   ]
  },
  {
   "cell_type": "code",
   "execution_count": 33,
   "metadata": {},
   "outputs": [
    {
     "name": "stdout",
     "output_type": "stream",
     "text": [
      "TPR when FPR=0.5: 0.801108374384\n",
      "Threshold when FPR=0.5: 0.125380538036\n"
     ]
    }
   ],
   "source": [
    "print(\"TPR when FPR=0.5:\", tpr3[np.min([i for i, x in enumerate(fpr3) if x>=0.5])])\n",
    "print(\"Threshold when FPR=0.5:\",thresholds3[np.min([i for i, x in enumerate(fpr3) if x>=0.5])])"
   ]
  },
  {
   "cell_type": "markdown",
   "metadata": {},
   "source": [
    "- As we increase FPR, TPR gets higher and the model predicts more true flight delays.\n",
    "- At FPR=0.3, we achieve TPR of 60%, using threshold of 0.16.\n",
    "- A reasonable choice is to choose FPR at 0.4, and thus we have TPR of 70%, using threshold of 0.14."
   ]
  },
  {
   "cell_type": "markdown",
   "metadata": {},
   "source": [
    "### Question 5. (5pts) Given your model, comment on the importance of factors as related to whether a flight is delayed."
   ]
  },
  {
   "cell_type": "code",
   "execution_count": 34,
   "metadata": {},
   "outputs": [
    {
     "data": {
      "text/plain": [
       "{'Cs': 10,\n",
       " 'class_weight': None,\n",
       " 'cv': None,\n",
       " 'dual': False,\n",
       " 'fit_intercept': True,\n",
       " 'intercept_scaling': 1.0,\n",
       " 'max_iter': 100,\n",
       " 'multi_class': 'ovr',\n",
       " 'n_jobs': 1,\n",
       " 'penalty': 'l2',\n",
       " 'random_state': None,\n",
       " 'refit': True,\n",
       " 'scoring': None,\n",
       " 'solver': 'lbfgs',\n",
       " 'tol': 0.0001,\n",
       " 'verbose': 0}"
      ]
     },
     "execution_count": 34,
     "metadata": {},
     "output_type": "execute_result"
    }
   ],
   "source": [
    "logregcv.get_params()"
   ]
  },
  {
   "cell_type": "code",
   "execution_count": 35,
   "metadata": {},
   "outputs": [],
   "source": [
    "X_train3m = X_train3.as_matrix()\n",
    "y_train3m = y_train3.as_matrix()"
   ]
  },
  {
   "cell_type": "markdown",
   "metadata": {},
   "source": [
    "- Use bootstrap to get the significant coefficients at level of 95%:"
   ]
  },
  {
   "cell_type": "code",
   "execution_count": 36,
   "metadata": {},
   "outputs": [
    {
     "data": {
      "text/plain": [
       "(94, 100)"
      ]
     },
     "execution_count": 36,
     "metadata": {},
     "output_type": "execute_result"
    }
   ],
   "source": [
    "B = 100 # Number of iterations\n",
    "\n",
    "boot_coefs = np.zeros((X_train3m.shape[1],B)) # Create empty storage array for later use\n",
    "\n",
    "for i in range(B):\n",
    "    # Sampling WITH replacement the indices of a resampled dataset\n",
    "    sample_index = np.random.choice(range(len(y_train3m)), size=len(y_train3m), replace=True)\n",
    "    X_train_samples = X_train3m[sample_index]\n",
    "    y_train_samples = y_train3m[sample_index]\n",
    "    \n",
    "    logistic_mod_boot = LogisticRegression(C=10, fit_intercept=False)\n",
    "    logistic_mod_boot.fit(X_train_samples, y_train_samples)\n",
    "    boot_coefs[:,i] = logistic_mod_boot.coef_\n",
    "\n",
    "boot_coefs.shape"
   ]
  },
  {
   "cell_type": "code",
   "execution_count": 37,
   "metadata": {
    "collapsed": true
   },
   "outputs": [],
   "source": [
    "ci_upper = np.percentile(boot_coefs, 97.5, axis=1)\n",
    "ci_lower = np.percentile(boot_coefs, 2.5, axis=1)"
   ]
  },
  {
   "cell_type": "code",
   "execution_count": 38,
   "metadata": {},
   "outputs": [
    {
     "name": "stdout",
     "output_type": "stream",
     "text": [
      "Number of signidicant coefficients at 95% level: 59\n"
     ]
    }
   ],
   "source": [
    "sig_b_ct = 0\n",
    "\n",
    "# if ci contains 0, then insignificant\n",
    "idx = []\n",
    "for i in range(len(ci_upper)):\n",
    "    if ci_upper[i]<0 or ci_lower[i]>0:\n",
    "        sig_b_ct += 1\n",
    "        idx.append(i)\n",
    "\n",
    "# print(\"Significant coefficents at 5pct level = %i / %i\" % (sig_b_ct, X_train3.shape[1]))\n",
    "print(\"Number of signidicant coefficients at 95% level:\", sig_b_ct)"
   ]
  },
  {
   "cell_type": "code",
   "execution_count": 39,
   "metadata": {},
   "outputs": [
    {
     "data": {
      "text/plain": [
       "['DISTANCE',\n",
       " 'SCHEDULED_TIME',\n",
       " 'AIRLINE_AS',\n",
       " 'AIRLINE_B6',\n",
       " 'AIRLINE_DL',\n",
       " 'AIRLINE_F9',\n",
       " 'AIRLINE_MQ',\n",
       " 'AIRLINE_NK',\n",
       " 'AIRLINE_OO',\n",
       " 'AIRLINE_VX',\n",
       " 'ORIGIN_AIRPORT_AUS',\n",
       " 'ORIGIN_AIRPORT_BNA',\n",
       " 'ORIGIN_AIRPORT_BOS',\n",
       " 'ORIGIN_AIRPORT_BWI',\n",
       " 'ORIGIN_AIRPORT_CLT',\n",
       " 'ORIGIN_AIRPORT_DAL',\n",
       " 'ORIGIN_AIRPORT_DCA',\n",
       " 'ORIGIN_AIRPORT_DFW',\n",
       " 'ORIGIN_AIRPORT_DTW',\n",
       " 'ORIGIN_AIRPORT_EWR',\n",
       " 'ORIGIN_AIRPORT_FLL',\n",
       " 'ORIGIN_AIRPORT_HNL',\n",
       " 'ORIGIN_AIRPORT_IAH',\n",
       " 'ORIGIN_AIRPORT_JFK',\n",
       " 'ORIGIN_AIRPORT_LAS',\n",
       " 'ORIGIN_AIRPORT_LAX',\n",
       " 'ORIGIN_AIRPORT_LGA',\n",
       " 'ORIGIN_AIRPORT_MCI',\n",
       " 'ORIGIN_AIRPORT_MDW',\n",
       " 'ORIGIN_AIRPORT_MIA',\n",
       " 'ORIGIN_AIRPORT_MSY',\n",
       " 'ORIGIN_AIRPORT_OAK',\n",
       " 'ORIGIN_AIRPORT_ORD',\n",
       " 'ORIGIN_AIRPORT_PDX',\n",
       " 'ORIGIN_AIRPORT_PHL',\n",
       " 'ORIGIN_AIRPORT_PHX',\n",
       " 'ORIGIN_AIRPORT_SAN',\n",
       " 'ORIGIN_AIRPORT_SEA',\n",
       " 'ORIGIN_AIRPORT_SJC',\n",
       " 'ORIGIN_AIRPORT_SLC',\n",
       " 'ORIGIN_AIRPORT_SMF',\n",
       " 'ORIGIN_AIRPORT_SNA',\n",
       " 'ORIGIN_AIRPORT_TPA',\n",
       " 'DESTINATION_AIRPORT_BOS',\n",
       " 'DESTINATION_AIRPORT_BWI',\n",
       " 'DESTINATION_AIRPORT_CLT',\n",
       " 'DESTINATION_AIRPORT_DCA',\n",
       " 'DESTINATION_AIRPORT_LAS',\n",
       " 'DESTINATION_AIRPORT_LAX',\n",
       " 'DESTINATION_AIRPORT_LGA',\n",
       " 'DESTINATION_AIRPORT_MSY',\n",
       " 'DESTINATION_AIRPORT_ORD',\n",
       " 'DESTINATION_AIRPORT_PHL',\n",
       " 'DESTINATION_AIRPORT_SEA',\n",
       " 'DESTINATION_AIRPORT_SFO',\n",
       " 'DESTINATION_AIRPORT_SMF',\n",
       " 'DESTINATION_AIRPORT_SNA',\n",
       " 'DESTINATION_AIRPORT_STL',\n",
       " 'DESTINATION_AIRPORT_TPA']"
      ]
     },
     "execution_count": 39,
     "metadata": {},
     "output_type": "execute_result"
    }
   ],
   "source": [
    "sig_cols = []\n",
    "for i in idx:\n",
    "    sig_cols.append(X_train3.columns[i])\n",
    "sig_cols"
   ]
  },
  {
   "cell_type": "markdown",
   "metadata": {},
   "source": [
    "- There are 56 significant factors out of 94 total factors.\n",
    "- The significant factors include flight distance, scheduled flight time, a few airline companies, as well as a few origin airports and destination airports."
   ]
  },
  {
   "cell_type": "markdown",
   "metadata": {},
   "source": [
    "### Question 6. (5pts) Evaluate your model(s) on your test set, and finally provide a visual to show which airlines are predicted to have the most delays using all the data excluding the training and test set."
   ]
  },
  {
   "cell_type": "code",
   "execution_count": 40,
   "metadata": {},
   "outputs": [
    {
     "name": "stdout",
     "output_type": "stream",
     "text": [
      "Test accuracy (fitted model):  0.910750215579\n",
      "AUC of the fitted model: 0.695213747707\n"
     ]
    }
   ],
   "source": [
    "logregcv.fit(X_train3, y_train3)\n",
    "print(\"Test accuracy (fitted model): \", logregcv.score(X_test3, y_test3))\n",
    "preds3 = logregcv.predict_proba(X_test3)[:,1]\n",
    "fpr3, tpr3, thresholds3 = roc_curve(y_test3, preds3)\n",
    "roc_auc3 = auc(fpr3, tpr3)\n",
    "print(\"AUC of the fitted model:\", roc_auc3)"
   ]
  },
  {
   "cell_type": "code",
   "execution_count": 41,
   "metadata": {},
   "outputs": [
    {
     "data": {
      "image/png": "[encoded data removed]",
      "text/plain": [
       "<matplotlib.figure.Figure at 0x1a1c85da90>"
      ]
     },
     "metadata": {},
     "output_type": "display_data"
    }
   ],
   "source": [
    "plt.figure(figsize=(8,6))\n",
    "ax=make_roc(\"logistic\",logregcv, y_test3, X_test3, labe=150, skip=10)"
   ]
  },
  {
   "cell_type": "code",
   "execution_count": 42,
   "metadata": {},
   "outputs": [
    {
     "data": {
      "text/html": [
       "<div>\n",
       "<style>\n",
       "    .dataframe thead tr:only-child th {\n",
       "        text-align: right;\n",
       "    }\n",
       "\n",
       "    .dataframe thead th {\n",
       "        text-align: left;\n",
       "    }\n",
       "\n",
       "    .dataframe tbody tr th {\n",
       "        vertical-align: top;\n",
       "    }\n",
       "</style>\n",
       "<table border=\"1\" class=\"dataframe\">\n",
       "  <thead>\n",
       "    <tr style=\"text-align: right;\">\n",
       "      <th></th>\n",
       "      <th>y_hat=0</th>\n",
       "      <th>y_hat = 1</th>\n",
       "    </tr>\n",
       "  </thead>\n",
       "  <tbody>\n",
       "    <tr>\n",
       "      <th>y=0</th>\n",
       "      <td>6324</td>\n",
       "      <td>8</td>\n",
       "    </tr>\n",
       "    <tr>\n",
       "      <th>y=1</th>\n",
       "      <td>613</td>\n",
       "      <td>13</td>\n",
       "    </tr>\n",
       "  </tbody>\n",
       "</table>\n",
       "</div>"
      ],
      "text/plain": [
       "     y_hat=0  y_hat = 1\n",
       "y=0     6324          8\n",
       "y=1      613         13"
      ]
     },
     "execution_count": 42,
     "metadata": {},
     "output_type": "execute_result"
    }
   ],
   "source": [
    "conf_mat = confusion_matrix(y_test3, y_hat_test3)\n",
    "conf_df = pd.DataFrame(conf_mat, columns = ['y_hat=0', 'y_hat = 1'], index = ['y=0', 'y=1'])\n",
    "conf_df"
   ]
  },
  {
   "cell_type": "code",
   "execution_count": 43,
   "metadata": {},
   "outputs": [
    {
     "name": "stdout",
     "output_type": "stream",
     "text": [
      "True Positive Rate for Fitted:  0.0207667731629\n",
      "True Negative Rate for Fitted:  0.998736576121\n"
     ]
    }
   ],
   "source": [
    "print(\"True Positive Rate for Fitted: \", float(conf_mat[1][1])/(conf_mat[1][1]+ conf_mat[1][0]))\n",
    "print(\"True Negative Rate for Fitted: \", float(conf_mat[0][0])/(conf_mat[0][0] + conf_mat[0][1]))"
   ]
  },
  {
   "cell_type": "code",
   "execution_count": 44,
   "metadata": {},
   "outputs": [
    {
     "name": "stdout",
     "output_type": "stream",
     "text": [
      "TPR when FPR=0.4: 0.667731629393\n",
      "Threshold when FPR=0.4: 0.142837166236\n"
     ]
    }
   ],
   "source": [
    "print(\"TPR when FPR=0.4:\", tpr3[np.min([i for i, x in enumerate(fpr3) if x>=0.4])])\n",
    "print(\"Threshold when FPR=0.4:\",thresholds3[np.min([i for i, x in enumerate(fpr3) if x>=0.4])])"
   ]
  },
  {
   "cell_type": "code",
   "execution_count": 45,
   "metadata": {},
   "outputs": [],
   "source": [
    "df_test_rest = df3[df3['DATE'].apply(lambda x:x.date()) > datetime.date(2015, 1, 31)]\n",
    "categorical_cols = ['AIRLINE', 'ORIGIN_AIRPORT', 'DESTINATION_AIRPORT']\n",
    "df_test_rest = pd.get_dummies(df_test_rest, columns=categorical_cols, drop_first=True)\n",
    "X_test_rest = df_test_rest.drop(['DATE','DELAY_OR_NOT'], axis=1)\n",
    "y_test_rest = df_test_rest['DELAY_OR_NOT']"
   ]
  },
  {
   "cell_type": "code",
   "execution_count": 46,
   "metadata": {},
   "outputs": [
    {
     "name": "stdout",
     "output_type": "stream",
     "text": [
      "The rest of test set (excluding training and test) accuracy:  0.883175614873\n"
     ]
    }
   ],
   "source": [
    "# df_test_rest.shape\n",
    "print(\"The rest of test set (excluding training and test) accuracy: \", logregcv.score(X_test_rest, y_test_rest))\n",
    "\n",
    "y_hat_test_rest = logregcv.predict(X_test_rest)"
   ]
  },
  {
   "cell_type": "code",
   "execution_count": 47,
   "metadata": {},
   "outputs": [
    {
     "name": "stdout",
     "output_type": "stream",
     "text": [
      "AUC of the fitted model: 0.676359441489\n"
     ]
    }
   ],
   "source": [
    "preds_rest = logregcv.predict_proba(X_test_rest)[:,1]\n",
    "fpr_rest, tpr_rest, thresholds_rest = roc_curve(y_test_rest, preds_rest)\n",
    "roc_auc_rest = auc(fpr_rest, tpr_rest)\n",
    "print(\"AUC of the fitted model:\", roc_auc_rest)"
   ]
  },
  {
   "cell_type": "markdown",
   "metadata": {},
   "source": [
    "- The rest of the whole dataset has high accuracy score of 0.88.\n",
    "- AUC is about 0.68. \n",
    "- Suspect the same problem as before due to the unbalance dataset. We will take a look at the confusion matrix next."
   ]
  },
  {
   "cell_type": "code",
   "execution_count": 48,
   "metadata": {},
   "outputs": [
    {
     "data": {
      "text/html": [
       "<div>\n",
       "<style>\n",
       "    .dataframe thead tr:only-child th {\n",
       "        text-align: right;\n",
       "    }\n",
       "\n",
       "    .dataframe thead th {\n",
       "        text-align: left;\n",
       "    }\n",
       "\n",
       "    .dataframe tbody tr th {\n",
       "        vertical-align: top;\n",
       "    }\n",
       "</style>\n",
       "<table border=\"1\" class=\"dataframe\">\n",
       "  <thead>\n",
       "    <tr style=\"text-align: right;\">\n",
       "      <th></th>\n",
       "      <th>y_hat=0</th>\n",
       "      <th>y_hat = 1</th>\n",
       "    </tr>\n",
       "  </thead>\n",
       "  <tbody>\n",
       "    <tr>\n",
       "      <th>y=0</th>\n",
       "      <td>307313</td>\n",
       "      <td>1026</td>\n",
       "    </tr>\n",
       "    <tr>\n",
       "      <th>y=1</th>\n",
       "      <td>39738</td>\n",
       "      <td>857</td>\n",
       "    </tr>\n",
       "  </tbody>\n",
       "</table>\n",
       "</div>"
      ],
      "text/plain": [
       "     y_hat=0  y_hat = 1\n",
       "y=0   307313       1026\n",
       "y=1    39738        857"
      ]
     },
     "execution_count": 48,
     "metadata": {},
     "output_type": "execute_result"
    }
   ],
   "source": [
    "conf_mat2 = confusion_matrix(y_test_rest, y_hat_test_rest)\n",
    "conf_df2 = pd.DataFrame(conf_mat2, columns = ['y_hat=0', 'y_hat = 1'], index = ['y=0', 'y=1'])\n",
    "conf_df2"
   ]
  },
  {
   "cell_type": "code",
   "execution_count": 49,
   "metadata": {},
   "outputs": [
    {
     "name": "stdout",
     "output_type": "stream",
     "text": [
      "True Positive Rate for the rest test set:  0.0211109742579\n",
      "True Negative Rate for the rest test set:  0.996672493587\n"
     ]
    }
   ],
   "source": [
    "print(\"True Positive Rate for the rest test set: \", float(conf_mat2[1][1])/(conf_mat2[1][1]+ conf_mat2[1][0]))\n",
    "print(\"True Negative Rate for the rest test set: \", float(conf_mat2[0][0])/(conf_mat2[0][0] + conf_mat2[0][1]))"
   ]
  },
  {
   "cell_type": "markdown",
   "metadata": {},
   "source": [
    "- We can see that the default threshold at 0.5 gives us the same problem as occured in the training dataset, because the dataset is unbalanced.\n",
    "- The problem is that TPR is very low, so we do not have successful flight delay prediction.\n",
    "- We will use the threshold suggested from the training set (threshold = 0.14), so that we can trade some FPR for TPR."
   ]
  },
  {
   "cell_type": "code",
   "execution_count": 50,
   "metadata": {},
   "outputs": [],
   "source": [
    "# print(\"TPR when FPR=0.4:\", tpr_rest[np.min([i for i, x in enumerate(fpr_rest) if x>=0.4])])\n",
    "# print(\"Threshold when FPR=0.4:\",thresholds_rest[np.min([i for i, x in enumerate(fpr_rest) if x>=0.4])])"
   ]
  },
  {
   "cell_type": "code",
   "execution_count": 51,
   "metadata": {},
   "outputs": [],
   "source": [
    "threshold_pred = MultinomialNB(class_prior=[.86, .14]).fit(X_train3,y_train3).predict(X_test_rest)"
   ]
  },
  {
   "cell_type": "code",
   "execution_count": 52,
   "metadata": {},
   "outputs": [],
   "source": [
    "df_test_rest[\"Airline\"] = df1.AIRLINE\n",
    "df_test_rest[\"prediction\"] = logregcv.predict(X_test_rest)\n",
    "df_test_rest[\"thres_prediction\"] = threshold_pred\n",
    "delay_prediction = df_test_rest.groupby('Airline')['prediction'].mean()\n",
    "delay_prediction_thres = df_test_rest.groupby('Airline')['thres_prediction'].mean()"
   ]
  },
  {
   "cell_type": "code",
   "execution_count": 55,
   "metadata": {},
   "outputs": [
    {
     "data": {
      "text/plain": [
       "(Airline\n",
       " AA    0.007940\n",
       " AS    0.000000\n",
       " B6    0.008017\n",
       " DL    0.000000\n",
       " EV    0.000000\n",
       " F9    0.232457\n",
       " HA    0.000000\n",
       " MQ    0.678139\n",
       " NK    0.508389\n",
       " OO    0.000796\n",
       " UA    0.015179\n",
       " US    0.000000\n",
       " VX    0.000000\n",
       " WN    0.002198\n",
       " Name: thres_prediction, dtype: float64, Airline\n",
       " NK    0.163139\n",
       " MQ    0.040847\n",
       " F9    0.017585\n",
       " UA    0.009484\n",
       " OO    0.000796\n",
       " WN    0.000000\n",
       " VX    0.000000\n",
       " US    0.000000\n",
       " HA    0.000000\n",
       " EV    0.000000\n",
       " DL    0.000000\n",
       " B6    0.000000\n",
       " AS    0.000000\n",
       " AA    0.000000\n",
       " Name: prediction, dtype: float64)"
      ]
     },
     "execution_count": 55,
     "metadata": {},
     "output_type": "execute_result"
    }
   ],
   "source": [
    "delay_prediction = delay_prediction.sort_values(ascending=False)\n",
    "delay_prediction_thres, delay_prediction"
   ]
  },
  {
   "cell_type": "code",
   "execution_count": 56,
   "metadata": {},
   "outputs": [
    {
     "data": {
      "text/plain": [
       "Airline\n",
       "MQ    0.678139\n",
       "NK    0.508389\n",
       "F9    0.232457\n",
       "UA    0.015179\n",
       "B6    0.008017\n",
       "AA    0.007940\n",
       "WN    0.002198\n",
       "OO    0.000796\n",
       "VX    0.000000\n",
       "US    0.000000\n",
       "HA    0.000000\n",
       "EV    0.000000\n",
       "DL    0.000000\n",
       "AS    0.000000\n",
       "Name: thres_prediction, dtype: float64"
      ]
     },
     "execution_count": 56,
     "metadata": {},
     "output_type": "execute_result"
    }
   ],
   "source": [
    "delay_prediction_thres = delay_prediction_thres.sort_values(ascending=False)\n",
    "delay_prediction_thres"
   ]
  },
  {
   "cell_type": "code",
   "execution_count": 57,
   "metadata": {},
   "outputs": [
    {
     "data": {
      "image/png": "[encoded data removed]",
      "text/plain": [
       "<matplotlib.figure.Figure at 0x1a1c8fcc50>"
      ]
     },
     "metadata": {},
     "output_type": "display_data"
    }
   ],
   "source": [
    "ax = delay_prediction.plot(kind='bar', title=\"Delay Prediction Ranking (threshold=0.5)\", figsize=(8,6), rot=0)\n",
    "ax.set_xlabel('Airlines')\n",
    "ax.set_ylabel('Delay Ratio')\n",
    "plt.show()"
   ]
  },
  {
   "cell_type": "markdown",
   "metadata": {},
   "source": [
    "The airlines with the highest delay ratio predicted using threshold=0.5 are:\n",
    "- NK(Spirit Airlines): 16.3%\n",
    "- MQ(Envoy Aielines): 4.1%\n",
    "- F9(Frontier Airlines): 1.8%\n",
    "- UA(United Airlines): 0.9%\n",
    "- OO(SkyWest Airlines): 0.08%"
   ]
  },
  {
   "cell_type": "code",
   "execution_count": 58,
   "metadata": {},
   "outputs": [
    {
     "data": {
      "image/png": "[encoded data removed]",
      "text/plain": [
       "<matplotlib.figure.Figure at 0x1a1ca836d8>"
      ]
     },
     "metadata": {},
     "output_type": "display_data"
    }
   ],
   "source": [
    "ax = delay_prediction_thres.plot(kind='bar', title=\"Delay Prediction Ranking(threshold=0.15)\", figsize=(8,6), rot=0)\n",
    "ax.set_xlabel('Airlines')\n",
    "ax.set_ylabel('Delay Ratio')\n",
    "plt.show()"
   ]
  },
  {
   "cell_type": "markdown",
   "metadata": {},
   "source": [
    "The airlines with the highest delay ratio predicted using threshold=0.14 are:\n",
    "- MQ (Envoy Aielines): 67.8%\n",
    "- NK (Spirit Airlines): 50.8%\n",
    "- F9 (Frontier Airlines): 23.2%\n",
    "- UA (United Airlines): 1.5%\n",
    "- B6 (JetBlue Airlines): 0.8%"
   ]
  },
  {
   "cell_type": "markdown",
   "metadata": {},
   "source": [
    "- Combine the two bar plot together to compare the prediction results:"
   ]
  },
  {
   "cell_type": "code",
   "execution_count": 59,
   "metadata": {},
   "outputs": [
    {
     "data": {
      "image/png": "[encoded data removed]",
      "text/plain": [
       "<matplotlib.figure.Figure at 0x110b19470>"
      ]
     },
     "metadata": {},
     "output_type": "display_data"
    }
   ],
   "source": [
    "pos = list(range(14))\n",
    "width = 0.25 \n",
    "fig, ax = plt.subplots(figsize=(8,6))\n",
    "plt.bar(pos, delay_prediction, width, alpha = 0.5, color='C0', label=\"threshold=0.5\") \n",
    "plt.bar([p + width for p in pos], delay_prediction_thres, width, alpha = 0.5, color='green', label=\"threshold=0.15\")\n",
    "\n",
    "ax.set_xlabel(\"Airlines\")\n",
    "ax.set_ylabel(\"Delay Ratio Prediction\")\n",
    "ax.set_xticks([p + width for p in pos])\n",
    "ax.set_xticklabels([\"MQ\", \"NK\", \"F9\", \"UA\", \"B6\", \"AA\", \"WN\", \"OO\", \"VX\", \"US\", \"HA\", \"EV\", \"DL\", \"AS\"])\n",
    "\n",
    "plt.legend(loc=1)\n",
    "plt.show()"
   ]
  },
  {
   "cell_type": "markdown",
   "metadata": {},
   "source": [
    "### Question 7. (15pts) Build a regression model that predicts the length of delay (on the log scale) given that a flight is truly delayed."
   ]
  },
  {
   "cell_type": "markdown",
   "metadata": {},
   "source": [
    "- Since we are given that a flight is truly delayed, we only need the sub-dataset where the DALEY_OR_NOT column is 1."
   ]
  },
  {
   "cell_type": "code",
   "execution_count": 60,
   "metadata": {},
   "outputs": [
    {
     "data": {
      "text/html": [
       "<div>\n",
       "<style>\n",
       "    .dataframe thead tr:only-child th {\n",
       "        text-align: right;\n",
       "    }\n",
       "\n",
       "    .dataframe thead th {\n",
       "        text-align: left;\n",
       "    }\n",
       "\n",
       "    .dataframe tbody tr th {\n",
       "        vertical-align: top;\n",
       "    }\n",
       "</style>\n",
       "<table border=\"1\" class=\"dataframe\">\n",
       "  <thead>\n",
       "    <tr style=\"text-align: right;\">\n",
       "      <th></th>\n",
       "      <th>DATE</th>\n",
       "      <th>MONTH</th>\n",
       "      <th>DAY</th>\n",
       "      <th>DAY_OF_WEEK</th>\n",
       "      <th>AIRLINE</th>\n",
       "      <th>FLIGHT_NUMBER</th>\n",
       "      <th>TAIL_NUMBER</th>\n",
       "      <th>ORIGIN_AIRPORT</th>\n",
       "      <th>DESTINATION_AIRPORT</th>\n",
       "      <th>SCHED_DEP</th>\n",
       "      <th>...</th>\n",
       "      <th>ARRIVAL_DELAY</th>\n",
       "      <th>DISTANCE</th>\n",
       "      <th>SCHEDULED_TIME</th>\n",
       "      <th>ELAPSED_TIME</th>\n",
       "      <th>AIR_SYSTEM_DELAY</th>\n",
       "      <th>SECURITY_DELAY</th>\n",
       "      <th>AIRLINE_DELAY</th>\n",
       "      <th>LATE_AIRCRAFT_DELAY</th>\n",
       "      <th>WEATHER_DELAY</th>\n",
       "      <th>DELAY_OR_NOT</th>\n",
       "    </tr>\n",
       "  </thead>\n",
       "  <tbody>\n",
       "    <tr>\n",
       "      <th>19</th>\n",
       "      <td>2015-01-04</td>\n",
       "      <td>1</td>\n",
       "      <td>4</td>\n",
       "      <td>7</td>\n",
       "      <td>WN</td>\n",
       "      <td>958</td>\n",
       "      <td>N211WN</td>\n",
       "      <td>PHL</td>\n",
       "      <td>ATL</td>\n",
       "      <td>18:35:00</td>\n",
       "      <td>...</td>\n",
       "      <td>132.0</td>\n",
       "      <td>666</td>\n",
       "      <td>135.0</td>\n",
       "      <td>146.0</td>\n",
       "      <td>11.0</td>\n",
       "      <td>0.0</td>\n",
       "      <td>20.0</td>\n",
       "      <td>101.0</td>\n",
       "      <td>0.0</td>\n",
       "      <td>1</td>\n",
       "    </tr>\n",
       "    <tr>\n",
       "      <th>25</th>\n",
       "      <td>2015-07-22</td>\n",
       "      <td>7</td>\n",
       "      <td>22</td>\n",
       "      <td>3</td>\n",
       "      <td>EV</td>\n",
       "      <td>2682</td>\n",
       "      <td>N678AE</td>\n",
       "      <td>BRO</td>\n",
       "      <td>DFW</td>\n",
       "      <td>17:33:00</td>\n",
       "      <td>...</td>\n",
       "      <td>98.0</td>\n",
       "      <td>482</td>\n",
       "      <td>107.0</td>\n",
       "      <td>93.0</td>\n",
       "      <td>0.0</td>\n",
       "      <td>0.0</td>\n",
       "      <td>0.0</td>\n",
       "      <td>98.0</td>\n",
       "      <td>0.0</td>\n",
       "      <td>1</td>\n",
       "    </tr>\n",
       "    <tr>\n",
       "      <th>28</th>\n",
       "      <td>2015-03-23</td>\n",
       "      <td>3</td>\n",
       "      <td>23</td>\n",
       "      <td>1</td>\n",
       "      <td>OO</td>\n",
       "      <td>4629</td>\n",
       "      <td>N554CA</td>\n",
       "      <td>LAS</td>\n",
       "      <td>SEA</td>\n",
       "      <td>18:15:00</td>\n",
       "      <td>...</td>\n",
       "      <td>128.0</td>\n",
       "      <td>867</td>\n",
       "      <td>167.0</td>\n",
       "      <td>161.0</td>\n",
       "      <td>0.0</td>\n",
       "      <td>0.0</td>\n",
       "      <td>0.0</td>\n",
       "      <td>128.0</td>\n",
       "      <td>0.0</td>\n",
       "      <td>1</td>\n",
       "    </tr>\n",
       "    <tr>\n",
       "      <th>54</th>\n",
       "      <td>2015-03-12</td>\n",
       "      <td>3</td>\n",
       "      <td>12</td>\n",
       "      <td>4</td>\n",
       "      <td>US</td>\n",
       "      <td>2146</td>\n",
       "      <td>N951UW</td>\n",
       "      <td>LGA</td>\n",
       "      <td>BOS</td>\n",
       "      <td>14:00:00</td>\n",
       "      <td>...</td>\n",
       "      <td>38.0</td>\n",
       "      <td>184</td>\n",
       "      <td>63.0</td>\n",
       "      <td>106.0</td>\n",
       "      <td>38.0</td>\n",
       "      <td>0.0</td>\n",
       "      <td>0.0</td>\n",
       "      <td>0.0</td>\n",
       "      <td>0.0</td>\n",
       "      <td>1</td>\n",
       "    </tr>\n",
       "    <tr>\n",
       "      <th>59</th>\n",
       "      <td>2015-04-27</td>\n",
       "      <td>4</td>\n",
       "      <td>27</td>\n",
       "      <td>1</td>\n",
       "      <td>EV</td>\n",
       "      <td>2557</td>\n",
       "      <td>N673AE</td>\n",
       "      <td>SHV</td>\n",
       "      <td>DFW</td>\n",
       "      <td>16:41:00</td>\n",
       "      <td>...</td>\n",
       "      <td>148.0</td>\n",
       "      <td>190</td>\n",
       "      <td>64.0</td>\n",
       "      <td>72.0</td>\n",
       "      <td>8.0</td>\n",
       "      <td>0.0</td>\n",
       "      <td>95.0</td>\n",
       "      <td>45.0</td>\n",
       "      <td>0.0</td>\n",
       "      <td>1</td>\n",
       "    </tr>\n",
       "  </tbody>\n",
       "</table>\n",
       "<p>5 rows × 22 columns</p>\n",
       "</div>"
      ],
      "text/plain": [
       "          DATE  MONTH  DAY  DAY_OF_WEEK AIRLINE  FLIGHT_NUMBER TAIL_NUMBER  \\\n",
       "19  2015-01-04      1    4            7      WN            958      N211WN   \n",
       "25  2015-07-22      7   22            3      EV           2682      N678AE   \n",
       "28  2015-03-23      3   23            1      OO           4629      N554CA   \n",
       "54  2015-03-12      3   12            4      US           2146      N951UW   \n",
       "59  2015-04-27      4   27            1      EV           2557      N673AE   \n",
       "\n",
       "   ORIGIN_AIRPORT DESTINATION_AIRPORT SCHED_DEP      ...      ARRIVAL_DELAY  \\\n",
       "19            PHL                 ATL  18:35:00      ...              132.0   \n",
       "25            BRO                 DFW  17:33:00      ...               98.0   \n",
       "28            LAS                 SEA  18:15:00      ...              128.0   \n",
       "54            LGA                 BOS  14:00:00      ...               38.0   \n",
       "59            SHV                 DFW  16:41:00      ...              148.0   \n",
       "\n",
       "    DISTANCE  SCHEDULED_TIME  ELAPSED_TIME  AIR_SYSTEM_DELAY  SECURITY_DELAY  \\\n",
       "19       666           135.0         146.0              11.0             0.0   \n",
       "25       482           107.0          93.0               0.0             0.0   \n",
       "28       867           167.0         161.0               0.0             0.0   \n",
       "54       184            63.0         106.0              38.0             0.0   \n",
       "59       190            64.0          72.0               8.0             0.0   \n",
       "\n",
       "    AIRLINE_DELAY  LATE_AIRCRAFT_DELAY  WEATHER_DELAY  DELAY_OR_NOT  \n",
       "19           20.0                101.0            0.0             1  \n",
       "25            0.0                 98.0            0.0             1  \n",
       "28            0.0                128.0            0.0             1  \n",
       "54            0.0                  0.0            0.0             1  \n",
       "59           95.0                 45.0            0.0             1  \n",
       "\n",
       "[5 rows x 22 columns]"
      ]
     },
     "execution_count": 60,
     "metadata": {},
     "output_type": "execute_result"
    }
   ],
   "source": [
    "df_delay = df1[df1.DELAY_OR_NOT.isin([1])]\n",
    "df_delay.head()"
   ]
  },
  {
   "cell_type": "code",
   "execution_count": 61,
   "metadata": {},
   "outputs": [
    {
     "name": "stdout",
     "output_type": "stream",
     "text": [
      "['DATE', 'MONTH', 'DAY', 'DAY_OF_WEEK', 'AIRLINE', 'FLIGHT_NUMBER', 'TAIL_NUMBER', 'ORIGIN_AIRPORT', 'DESTINATION_AIRPORT', 'SCHED_DEP', 'SCHED_ARR', 'DEPARTURE_DELAY', 'ARRIVAL_DELAY', 'DISTANCE', 'SCHEDULED_TIME', 'ELAPSED_TIME', 'AIR_SYSTEM_DELAY', 'SECURITY_DELAY', 'AIRLINE_DELAY', 'LATE_AIRCRAFT_DELAY', 'WEATHER_DELAY', 'DELAY_OR_NOT']\n"
     ]
    }
   ],
   "source": [
    "print(list(df_delay))"
   ]
  },
  {
   "cell_type": "markdown",
   "metadata": {},
   "source": [
    "#### With the only information of \"Airline\": "
   ]
  },
  {
   "cell_type": "code",
   "execution_count": 62,
   "metadata": {},
   "outputs": [
    {
     "name": "stdout",
     "output_type": "stream",
     "text": [
      "OLS Train Score 0.0125780497985\n",
      "OLS Test Score 0.010652444039\n"
     ]
    },
    {
     "name": "stderr",
     "output_type": "stream",
     "text": [
      "/Users/yijunshen/anaconda3/lib/python3.6/site-packages/ipykernel_launcher.py:4: RuntimeWarning: divide by zero encountered in log\n",
      "  after removing the cwd from sys.path.\n",
      "/Users/yijunshen/anaconda3/lib/python3.6/site-packages/ipykernel_launcher.py:4: RuntimeWarning: invalid value encountered in log\n",
      "  after removing the cwd from sys.path.\n"
     ]
    }
   ],
   "source": [
    "df4 = df_delay[[\"AIRLINE\"]]\n",
    "categorical_cols = ['AIRLINE']\n",
    "df4 = pd.get_dummies(df4, columns=categorical_cols, drop_first=True)\n",
    "df4[\"delay_log\"] = np.log(df1[\"ARRIVAL_DELAY\"])\n",
    "df4.head()\n",
    "\n",
    "X4 = df4.loc[:, df4.columns != 'delay_log']\n",
    "y4 = df4[\"delay_log\"]\n",
    "\n",
    "X_train4, X_test4, y_train4, y_test4 = train_test_split(X4, y4, test_size=0.25, random_state=42)\n",
    "\n",
    "ols = LinearRegression(fit_intercept=True)\n",
    "ols.fit(X_train4, y_train4)\n",
    "print('OLS Train Score', ols.score(X_train4, y_train4))\n",
    "print('OLS Test Score', ols.score(X_test4, y_test4))"
   ]
  },
  {
   "cell_type": "markdown",
   "metadata": {},
   "source": [
    "#### Add more predictors as well as polynomial and interaction terms:"
   ]
  },
  {
   "cell_type": "code",
   "execution_count": 63,
   "metadata": {},
   "outputs": [
    {
     "name": "stderr",
     "output_type": "stream",
     "text": [
      "/Users/yijunshen/anaconda3/lib/python3.6/site-packages/ipykernel_launcher.py:8: SettingWithCopyWarning: \n",
      "A value is trying to be set on a copy of a slice from a DataFrame.\n",
      "Try using .loc[row_indexer,col_indexer] = value instead\n",
      "\n",
      "See the caveats in the documentation: http://pandas.pydata.org/pandas-docs/stable/indexing.html#indexing-view-versus-copy\n",
      "  \n",
      "/Users/yijunshen/anaconda3/lib/python3.6/site-packages/ipykernel_launcher.py:15: SettingWithCopyWarning: \n",
      "A value is trying to be set on a copy of a slice from a DataFrame.\n",
      "Try using .loc[row_indexer,col_indexer] = value instead\n",
      "\n",
      "See the caveats in the documentation: http://pandas.pydata.org/pandas-docs/stable/indexing.html#indexing-view-versus-copy\n",
      "  from ipykernel import kernelapp as app\n",
      "/Users/yijunshen/anaconda3/lib/python3.6/site-packages/ipykernel_launcher.py:27: RuntimeWarning: divide by zero encountered in log\n",
      "/Users/yijunshen/anaconda3/lib/python3.6/site-packages/ipykernel_launcher.py:27: RuntimeWarning: invalid value encountered in log\n"
     ]
    }
   ],
   "source": [
    "df_delay = df1[df1.DELAY_OR_NOT.isin([1])]\n",
    "\n",
    "dep_time = df_delay['SCHED_DEP'].values\n",
    "dep_hour = []\n",
    "for t in dep_time:\n",
    "    dep_hour.append(t[:2])\n",
    "dep_h = list(map(int, dep_hour))\n",
    "df_delay['dep_hour'] = dep_h\n",
    "\n",
    "arr_time = df_delay['SCHED_ARR'].values\n",
    "arr_hour = []\n",
    "for t in arr_time:\n",
    "    arr_hour.append(t[:2])\n",
    "arr_h = list(map(int, arr_hour))\n",
    "df_delay['arr_hour'] = arr_h\n",
    "\n",
    "df_delay = df_delay[[\"AIRLINE\", \"MONTH\", \"DAY_OF_WEEK\", \"DISTANCE\", \"SCHEDULED_TIME\", \"dep_hour\", \"arr_hour\"]]\n",
    "df_delay[\"dep_hour2\"] = df_delay[\"dep_hour\"] ** 2\n",
    "df_delay[\"arr_hour2\"] = df_delay[\"arr_hour\"] ** 2\n",
    "\n",
    "df_delay[\"dep_arr\"] = df_delay[\"dep_hour\"] * df_delay[\"arr_hour\"]\n",
    "# df_delay[\"dep_DISTANCE\"] = df_delay[\"dep_hour\"] * df_delay[\"DISTANCE\"]\n",
    "# df_delay[\"arr_DISTANCE\"] = df_delay[\"arr_hour\"] * df_delay[\"DISTANCE\"]\n",
    "\n",
    "categorical_cols = ['AIRLINE', \"MONTH\", \"DAY_OF_WEEK\"]\n",
    "df_delay = pd.get_dummies(df_delay, columns=categorical_cols, drop_first=True)\n",
    "df_delay[\"delay_log\"] = np.log(df1[\"ARRIVAL_DELAY\"])\n",
    "# df_delay.head()"
   ]
  },
  {
   "cell_type": "markdown",
   "metadata": {},
   "source": [
    "- Split the dataset into training and test, where test size is 0.25:"
   ]
  },
  {
   "cell_type": "code",
   "execution_count": 64,
   "metadata": {},
   "outputs": [],
   "source": [
    "X = df_delay.loc[:, df_delay.columns != 'delay_log']\n",
    "y = df_delay[\"delay_log\"]\n",
    "\n",
    "X_train2, X_test2, y_train2, y_test2 = train_test_split(X, y, test_size=0.25, random_state=42)"
   ]
  },
  {
   "cell_type": "markdown",
   "metadata": {},
   "source": [
    "- Fit a linear regression model:"
   ]
  },
  {
   "cell_type": "code",
   "execution_count": 65,
   "metadata": {},
   "outputs": [
    {
     "name": "stdout",
     "output_type": "stream",
     "text": [
      "OLS Train Score 0.0401519411742\n",
      "OLS Test Score 0.0350644991468\n"
     ]
    }
   ],
   "source": [
    "ols = LinearRegression(fit_intercept=True)\n",
    "ols.fit(X_train2, y_train2)\n",
    "print('OLS Train Score', ols.score(X_train2, y_train2))\n",
    "print('OLS Test Score', ols.score(X_test2, y_test2))"
   ]
  },
  {
   "cell_type": "markdown",
   "metadata": {},
   "source": [
    "- Use LASSO cross validation (10-fold):"
   ]
  },
  {
   "cell_type": "code",
   "execution_count": 66,
   "metadata": {},
   "outputs": [
    {
     "name": "stderr",
     "output_type": "stream",
     "text": [
      "/Users/yijunshen/anaconda3/lib/python3.6/site-packages/sklearn/linear_model/coordinate_descent.py:491: ConvergenceWarning: Objective did not converge. You might want to increase the number of iterations. Fitting data with very small alpha may cause precision problems.\n",
      "  ConvergenceWarning)\n"
     ]
    },
    {
     "name": "stdout",
     "output_type": "stream",
     "text": [
      "Lasso Train Score 0.0385004735859\n",
      "Lasso Test Score 0.0344198275931\n"
     ]
    }
   ],
   "source": [
    "lambdas = [.001,.005,1,5,10,50,100,500,1000]\n",
    "clfl = LassoCV(cv=10, alphas=lambdas, fit_intercept=True, normalize=False)\n",
    "preprocessing.StandardScaler()\n",
    "clfl.fit(X_train2, y_train2)\n",
    "\n",
    "print('Lasso Train Score', clfl.score(X_train2, y_train2))\n",
    "print('Lasso Test Score', clfl.score(X_test2, y_test2))"
   ]
  },
  {
   "cell_type": "markdown",
   "metadata": {},
   "source": [
    "#### Side Note: If we have access to the information of delay reason and delay length, without any other predictors, the regression will have very high R^2 score:"
   ]
  },
  {
   "cell_type": "code",
   "execution_count": 67,
   "metadata": {},
   "outputs": [
    {
     "name": "stdout",
     "output_type": "stream",
     "text": [
      "OLS Train Score (access to delay reason and length) 0.762607938675\n",
      "OLS Test Score (access to delay reason and length) 0.738936066742\n"
     ]
    },
    {
     "name": "stderr",
     "output_type": "stream",
     "text": [
      "/Users/yijunshen/anaconda3/lib/python3.6/site-packages/ipykernel_launcher.py:3: RuntimeWarning: divide by zero encountered in log\n",
      "  This is separate from the ipykernel package so we can avoid doing imports until\n",
      "/Users/yijunshen/anaconda3/lib/python3.6/site-packages/ipykernel_launcher.py:3: RuntimeWarning: invalid value encountered in log\n",
      "  This is separate from the ipykernel package so we can avoid doing imports until\n"
     ]
    }
   ],
   "source": [
    "df_cheat = df1[df1.DELAY_OR_NOT.isin([1])]\n",
    "df_cheat = df_cheat[[\"AIR_SYSTEM_DELAY\", \"SECURITY_DELAY\", \"AIRLINE_DELAY\", \\\n",
    "                     \"LATE_AIRCRAFT_DELAY\", \"WEATHER_DELAY\"]]\n",
    "df_cheat[\"delay_log\"] = np.log(df1[\"ARRIVAL_DELAY\"])\n",
    "\n",
    "X_cheat = df_cheat.loc[:, df_cheat.columns != 'delay_log']\n",
    "y_cheat = df_cheat[\"delay_log\"]\n",
    "\n",
    "X_train_cheat, X_test_cheat, y_train_cheat, y_test_cheat = train_test_split(X_cheat, y_cheat, test_size=0.25, random_state=42)\n",
    "ols = LinearRegression(fit_intercept=True)\n",
    "ols.fit(X_train_cheat, y_train_cheat)\n",
    "print('OLS Train Score (access to delay reason and length)', ols.score(X_train_cheat, y_train_cheat))\n",
    "print('OLS Test Score (access to delay reason and length)', ols.score(X_test_cheat, y_test_cheat))"
   ]
  },
  {
   "cell_type": "markdown",
   "metadata": {},
   "source": [
    "## 209 Additional questions\n",
    "### 1. (10pts) Engineer two additional features that will help improve the classification model's performance."
   ]
  },
  {
   "cell_type": "code",
   "execution_count": 113,
   "metadata": {},
   "outputs": [
    {
     "data": {
      "text/html": [
       "<div>\n",
       "<style>\n",
       "    .dataframe thead tr:only-child th {\n",
       "        text-align: right;\n",
       "    }\n",
       "\n",
       "    .dataframe thead th {\n",
       "        text-align: left;\n",
       "    }\n",
       "\n",
       "    .dataframe tbody tr th {\n",
       "        vertical-align: top;\n",
       "    }\n",
       "</style>\n",
       "<table border=\"1\" class=\"dataframe\">\n",
       "  <thead>\n",
       "    <tr style=\"text-align: right;\">\n",
       "      <th></th>\n",
       "      <th>DATE</th>\n",
       "      <th>MONTH</th>\n",
       "      <th>DAY</th>\n",
       "      <th>DAY_OF_WEEK</th>\n",
       "      <th>AIRLINE</th>\n",
       "      <th>FLIGHT_NUMBER</th>\n",
       "      <th>TAIL_NUMBER</th>\n",
       "      <th>ORIGIN_AIRPORT</th>\n",
       "      <th>DESTINATION_AIRPORT</th>\n",
       "      <th>SCHED_DEP</th>\n",
       "      <th>...</th>\n",
       "      <th>ARRIVAL_DELAY</th>\n",
       "      <th>DISTANCE</th>\n",
       "      <th>SCHEDULED_TIME</th>\n",
       "      <th>ELAPSED_TIME</th>\n",
       "      <th>AIR_SYSTEM_DELAY</th>\n",
       "      <th>SECURITY_DELAY</th>\n",
       "      <th>AIRLINE_DELAY</th>\n",
       "      <th>LATE_AIRCRAFT_DELAY</th>\n",
       "      <th>WEATHER_DELAY</th>\n",
       "      <th>DELAY_OR_NOT</th>\n",
       "    </tr>\n",
       "  </thead>\n",
       "  <tbody>\n",
       "    <tr>\n",
       "      <th>0</th>\n",
       "      <td>2015-09-19</td>\n",
       "      <td>9</td>\n",
       "      <td>19</td>\n",
       "      <td>6</td>\n",
       "      <td>AA</td>\n",
       "      <td>394</td>\n",
       "      <td>N3FMAA</td>\n",
       "      <td>ORD</td>\n",
       "      <td>LGA</td>\n",
       "      <td>07:15:00</td>\n",
       "      <td>...</td>\n",
       "      <td>1.0</td>\n",
       "      <td>733</td>\n",
       "      <td>135.0</td>\n",
       "      <td>127.0</td>\n",
       "      <td>NaN</td>\n",
       "      <td>NaN</td>\n",
       "      <td>NaN</td>\n",
       "      <td>NaN</td>\n",
       "      <td>NaN</td>\n",
       "      <td>0</td>\n",
       "    </tr>\n",
       "    <tr>\n",
       "      <th>1</th>\n",
       "      <td>2015-10-28</td>\n",
       "      <td>10</td>\n",
       "      <td>28</td>\n",
       "      <td>3</td>\n",
       "      <td>AA</td>\n",
       "      <td>375</td>\n",
       "      <td>N4YDAA</td>\n",
       "      <td>11298</td>\n",
       "      <td>13342</td>\n",
       "      <td>20:15:00</td>\n",
       "      <td>...</td>\n",
       "      <td>-31.0</td>\n",
       "      <td>853</td>\n",
       "      <td>149.0</td>\n",
       "      <td>118.0</td>\n",
       "      <td>NaN</td>\n",
       "      <td>NaN</td>\n",
       "      <td>NaN</td>\n",
       "      <td>NaN</td>\n",
       "      <td>NaN</td>\n",
       "      <td>0</td>\n",
       "    </tr>\n",
       "    <tr>\n",
       "      <th>2</th>\n",
       "      <td>2015-08-19</td>\n",
       "      <td>8</td>\n",
       "      <td>19</td>\n",
       "      <td>3</td>\n",
       "      <td>MQ</td>\n",
       "      <td>3648</td>\n",
       "      <td>N512MQ</td>\n",
       "      <td>XNA</td>\n",
       "      <td>ORD</td>\n",
       "      <td>12:22:00</td>\n",
       "      <td>...</td>\n",
       "      <td>-21.0</td>\n",
       "      <td>522</td>\n",
       "      <td>108.0</td>\n",
       "      <td>88.0</td>\n",
       "      <td>NaN</td>\n",
       "      <td>NaN</td>\n",
       "      <td>NaN</td>\n",
       "      <td>NaN</td>\n",
       "      <td>NaN</td>\n",
       "      <td>0</td>\n",
       "    </tr>\n",
       "    <tr>\n",
       "      <th>3</th>\n",
       "      <td>2015-12-01</td>\n",
       "      <td>12</td>\n",
       "      <td>1</td>\n",
       "      <td>2</td>\n",
       "      <td>WN</td>\n",
       "      <td>4096</td>\n",
       "      <td>N912WN</td>\n",
       "      <td>PHX</td>\n",
       "      <td>BWI</td>\n",
       "      <td>11:20:00</td>\n",
       "      <td>...</td>\n",
       "      <td>-14.0</td>\n",
       "      <td>1999</td>\n",
       "      <td>260.0</td>\n",
       "      <td>235.0</td>\n",
       "      <td>NaN</td>\n",
       "      <td>NaN</td>\n",
       "      <td>NaN</td>\n",
       "      <td>NaN</td>\n",
       "      <td>NaN</td>\n",
       "      <td>0</td>\n",
       "    </tr>\n",
       "    <tr>\n",
       "      <th>4</th>\n",
       "      <td>2015-09-15</td>\n",
       "      <td>9</td>\n",
       "      <td>15</td>\n",
       "      <td>2</td>\n",
       "      <td>WN</td>\n",
       "      <td>285</td>\n",
       "      <td>N7718B</td>\n",
       "      <td>MCI</td>\n",
       "      <td>DEN</td>\n",
       "      <td>14:10:00</td>\n",
       "      <td>...</td>\n",
       "      <td>-12.0</td>\n",
       "      <td>533</td>\n",
       "      <td>105.0</td>\n",
       "      <td>97.0</td>\n",
       "      <td>NaN</td>\n",
       "      <td>NaN</td>\n",
       "      <td>NaN</td>\n",
       "      <td>NaN</td>\n",
       "      <td>NaN</td>\n",
       "      <td>0</td>\n",
       "    </tr>\n",
       "  </tbody>\n",
       "</table>\n",
       "<p>5 rows × 22 columns</p>\n",
       "</div>"
      ],
      "text/plain": [
       "         DATE  MONTH  DAY  DAY_OF_WEEK AIRLINE  FLIGHT_NUMBER TAIL_NUMBER  \\\n",
       "0  2015-09-19      9   19            6      AA            394      N3FMAA   \n",
       "1  2015-10-28     10   28            3      AA            375      N4YDAA   \n",
       "2  2015-08-19      8   19            3      MQ           3648      N512MQ   \n",
       "3  2015-12-01     12    1            2      WN           4096      N912WN   \n",
       "4  2015-09-15      9   15            2      WN            285      N7718B   \n",
       "\n",
       "  ORIGIN_AIRPORT DESTINATION_AIRPORT SCHED_DEP      ...      ARRIVAL_DELAY  \\\n",
       "0            ORD                 LGA  07:15:00      ...                1.0   \n",
       "1          11298               13342  20:15:00      ...              -31.0   \n",
       "2            XNA                 ORD  12:22:00      ...              -21.0   \n",
       "3            PHX                 BWI  11:20:00      ...              -14.0   \n",
       "4            MCI                 DEN  14:10:00      ...              -12.0   \n",
       "\n",
       "   DISTANCE  SCHEDULED_TIME  ELAPSED_TIME  AIR_SYSTEM_DELAY  SECURITY_DELAY  \\\n",
       "0       733           135.0         127.0               NaN             NaN   \n",
       "1       853           149.0         118.0               NaN             NaN   \n",
       "2       522           108.0          88.0               NaN             NaN   \n",
       "3      1999           260.0         235.0               NaN             NaN   \n",
       "4       533           105.0          97.0               NaN             NaN   \n",
       "\n",
       "   AIRLINE_DELAY  LATE_AIRCRAFT_DELAY  WEATHER_DELAY  DELAY_OR_NOT  \n",
       "0            NaN                  NaN            NaN             0  \n",
       "1            NaN                  NaN            NaN             0  \n",
       "2            NaN                  NaN            NaN             0  \n",
       "3            NaN                  NaN            NaN             0  \n",
       "4            NaN                  NaN            NaN             0  \n",
       "\n",
       "[5 rows x 22 columns]"
      ]
     },
     "execution_count": 113,
     "metadata": {},
     "output_type": "execute_result"
    }
   ],
   "source": [
    "df_eng = df1.copy()\n",
    "df_eng.head()"
   ]
  },
  {
   "cell_type": "markdown",
   "metadata": {},
   "source": [
    "#### Additional Feature 1: \n",
    "- speed = distance/scheduled_time, therefore we reduce two predictors to one, which decreases the model complexity."
   ]
  },
  {
   "cell_type": "code",
   "execution_count": 114,
   "metadata": {},
   "outputs": [
    {
     "data": {
      "text/html": [
       "<div>\n",
       "<style>\n",
       "    .dataframe thead tr:only-child th {\n",
       "        text-align: right;\n",
       "    }\n",
       "\n",
       "    .dataframe thead th {\n",
       "        text-align: left;\n",
       "    }\n",
       "\n",
       "    .dataframe tbody tr th {\n",
       "        vertical-align: top;\n",
       "    }\n",
       "</style>\n",
       "<table border=\"1\" class=\"dataframe\">\n",
       "  <thead>\n",
       "    <tr style=\"text-align: right;\">\n",
       "      <th></th>\n",
       "      <th>DATE</th>\n",
       "      <th>MONTH</th>\n",
       "      <th>DAY</th>\n",
       "      <th>DAY_OF_WEEK</th>\n",
       "      <th>AIRLINE</th>\n",
       "      <th>FLIGHT_NUMBER</th>\n",
       "      <th>TAIL_NUMBER</th>\n",
       "      <th>ORIGIN_AIRPORT</th>\n",
       "      <th>DESTINATION_AIRPORT</th>\n",
       "      <th>SCHED_DEP</th>\n",
       "      <th>...</th>\n",
       "      <th>SCHEDULED_TIME</th>\n",
       "      <th>ELAPSED_TIME</th>\n",
       "      <th>AIR_SYSTEM_DELAY</th>\n",
       "      <th>SECURITY_DELAY</th>\n",
       "      <th>AIRLINE_DELAY</th>\n",
       "      <th>LATE_AIRCRAFT_DELAY</th>\n",
       "      <th>WEATHER_DELAY</th>\n",
       "      <th>DELAY_OR_NOT</th>\n",
       "      <th>speed</th>\n",
       "      <th>dep_hour</th>\n",
       "    </tr>\n",
       "  </thead>\n",
       "  <tbody>\n",
       "    <tr>\n",
       "      <th>0</th>\n",
       "      <td>2015-09-19</td>\n",
       "      <td>9</td>\n",
       "      <td>19</td>\n",
       "      <td>6</td>\n",
       "      <td>AA</td>\n",
       "      <td>394</td>\n",
       "      <td>N3FMAA</td>\n",
       "      <td>ORD</td>\n",
       "      <td>LGA</td>\n",
       "      <td>07:15:00</td>\n",
       "      <td>...</td>\n",
       "      <td>135.0</td>\n",
       "      <td>127.0</td>\n",
       "      <td>NaN</td>\n",
       "      <td>NaN</td>\n",
       "      <td>NaN</td>\n",
       "      <td>NaN</td>\n",
       "      <td>NaN</td>\n",
       "      <td>0</td>\n",
       "      <td>5.429630</td>\n",
       "      <td>7</td>\n",
       "    </tr>\n",
       "    <tr>\n",
       "      <th>1</th>\n",
       "      <td>2015-10-28</td>\n",
       "      <td>10</td>\n",
       "      <td>28</td>\n",
       "      <td>3</td>\n",
       "      <td>AA</td>\n",
       "      <td>375</td>\n",
       "      <td>N4YDAA</td>\n",
       "      <td>11298</td>\n",
       "      <td>13342</td>\n",
       "      <td>20:15:00</td>\n",
       "      <td>...</td>\n",
       "      <td>149.0</td>\n",
       "      <td>118.0</td>\n",
       "      <td>NaN</td>\n",
       "      <td>NaN</td>\n",
       "      <td>NaN</td>\n",
       "      <td>NaN</td>\n",
       "      <td>NaN</td>\n",
       "      <td>0</td>\n",
       "      <td>5.724832</td>\n",
       "      <td>20</td>\n",
       "    </tr>\n",
       "    <tr>\n",
       "      <th>2</th>\n",
       "      <td>2015-08-19</td>\n",
       "      <td>8</td>\n",
       "      <td>19</td>\n",
       "      <td>3</td>\n",
       "      <td>MQ</td>\n",
       "      <td>3648</td>\n",
       "      <td>N512MQ</td>\n",
       "      <td>XNA</td>\n",
       "      <td>ORD</td>\n",
       "      <td>12:22:00</td>\n",
       "      <td>...</td>\n",
       "      <td>108.0</td>\n",
       "      <td>88.0</td>\n",
       "      <td>NaN</td>\n",
       "      <td>NaN</td>\n",
       "      <td>NaN</td>\n",
       "      <td>NaN</td>\n",
       "      <td>NaN</td>\n",
       "      <td>0</td>\n",
       "      <td>4.833333</td>\n",
       "      <td>12</td>\n",
       "    </tr>\n",
       "    <tr>\n",
       "      <th>3</th>\n",
       "      <td>2015-12-01</td>\n",
       "      <td>12</td>\n",
       "      <td>1</td>\n",
       "      <td>2</td>\n",
       "      <td>WN</td>\n",
       "      <td>4096</td>\n",
       "      <td>N912WN</td>\n",
       "      <td>PHX</td>\n",
       "      <td>BWI</td>\n",
       "      <td>11:20:00</td>\n",
       "      <td>...</td>\n",
       "      <td>260.0</td>\n",
       "      <td>235.0</td>\n",
       "      <td>NaN</td>\n",
       "      <td>NaN</td>\n",
       "      <td>NaN</td>\n",
       "      <td>NaN</td>\n",
       "      <td>NaN</td>\n",
       "      <td>0</td>\n",
       "      <td>7.688462</td>\n",
       "      <td>11</td>\n",
       "    </tr>\n",
       "    <tr>\n",
       "      <th>4</th>\n",
       "      <td>2015-09-15</td>\n",
       "      <td>9</td>\n",
       "      <td>15</td>\n",
       "      <td>2</td>\n",
       "      <td>WN</td>\n",
       "      <td>285</td>\n",
       "      <td>N7718B</td>\n",
       "      <td>MCI</td>\n",
       "      <td>DEN</td>\n",
       "      <td>14:10:00</td>\n",
       "      <td>...</td>\n",
       "      <td>105.0</td>\n",
       "      <td>97.0</td>\n",
       "      <td>NaN</td>\n",
       "      <td>NaN</td>\n",
       "      <td>NaN</td>\n",
       "      <td>NaN</td>\n",
       "      <td>NaN</td>\n",
       "      <td>0</td>\n",
       "      <td>5.076190</td>\n",
       "      <td>14</td>\n",
       "    </tr>\n",
       "  </tbody>\n",
       "</table>\n",
       "<p>5 rows × 24 columns</p>\n",
       "</div>"
      ],
      "text/plain": [
       "         DATE  MONTH  DAY  DAY_OF_WEEK AIRLINE  FLIGHT_NUMBER TAIL_NUMBER  \\\n",
       "0  2015-09-19      9   19            6      AA            394      N3FMAA   \n",
       "1  2015-10-28     10   28            3      AA            375      N4YDAA   \n",
       "2  2015-08-19      8   19            3      MQ           3648      N512MQ   \n",
       "3  2015-12-01     12    1            2      WN           4096      N912WN   \n",
       "4  2015-09-15      9   15            2      WN            285      N7718B   \n",
       "\n",
       "  ORIGIN_AIRPORT DESTINATION_AIRPORT SCHED_DEP    ...    SCHEDULED_TIME  \\\n",
       "0            ORD                 LGA  07:15:00    ...             135.0   \n",
       "1          11298               13342  20:15:00    ...             149.0   \n",
       "2            XNA                 ORD  12:22:00    ...             108.0   \n",
       "3            PHX                 BWI  11:20:00    ...             260.0   \n",
       "4            MCI                 DEN  14:10:00    ...             105.0   \n",
       "\n",
       "   ELAPSED_TIME  AIR_SYSTEM_DELAY  SECURITY_DELAY  AIRLINE_DELAY  \\\n",
       "0         127.0               NaN             NaN            NaN   \n",
       "1         118.0               NaN             NaN            NaN   \n",
       "2          88.0               NaN             NaN            NaN   \n",
       "3         235.0               NaN             NaN            NaN   \n",
       "4          97.0               NaN             NaN            NaN   \n",
       "\n",
       "   LATE_AIRCRAFT_DELAY  WEATHER_DELAY  DELAY_OR_NOT     speed  dep_hour  \n",
       "0                  NaN            NaN             0  5.429630         7  \n",
       "1                  NaN            NaN             0  5.724832        20  \n",
       "2                  NaN            NaN             0  4.833333        12  \n",
       "3                  NaN            NaN             0  7.688462        11  \n",
       "4                  NaN            NaN             0  5.076190        14  \n",
       "\n",
       "[5 rows x 24 columns]"
      ]
     },
     "execution_count": 114,
     "metadata": {},
     "output_type": "execute_result"
    }
   ],
   "source": [
    "df_eng[\"speed\"] = df_eng[\"DISTANCE\"] / df_eng[\"SCHEDULED_TIME\"]\n",
    "\n",
    "dep_time = df_eng['SCHED_DEP'].values\n",
    "dep_hour = []\n",
    "for t in dep_time:\n",
    "    dep_hour.append(t[:2])\n",
    "dep_h = list(map(int, dep_hour))\n",
    "df_eng['dep_hour'] = dep_h\n",
    "\n",
    "df_eng.head()"
   ]
  },
  {
   "cell_type": "markdown",
   "metadata": {},
   "source": [
    "#### Additional Feature 2:\n",
    "- Season: based on the month column.\n",
    "- Month 3,4,5 = spring, Month 6,7,8 = summer, Month 9,10,11 = fall, Month 12, 1, 2 = winter"
   ]
  },
  {
   "cell_type": "code",
   "execution_count": 115,
   "metadata": {
    "collapsed": true
   },
   "outputs": [],
   "source": [
    "def f(row):\n",
    "    if row['MONTH'] == 3 or row['MONTH'] == 4 or row['MONTH'] == 5:\n",
    "        val = 1\n",
    "    elif row['MONTH'] == 6 or row['MONTH'] == 7 or row['MONTH'] == 8:\n",
    "        val = 2\n",
    "    elif row['MONTH'] == 9 or row['MONTH'] == 10 or row['MONTH'] == 11:\n",
    "        val = 3\n",
    "    else:\n",
    "        val = 4\n",
    "    return val"
   ]
  },
  {
   "cell_type": "code",
   "execution_count": null,
   "metadata": {},
   "outputs": [],
   "source": [
    "df_eng['season'] = df_eng.apply(f, axis=1)\n",
    "df_eng.head()"
   ]
  },
  {
   "cell_type": "code",
   "execution_count": null,
   "metadata": {},
   "outputs": [],
   "source": [
    "total_airports = df1['ORIGIN_AIRPORT'].value_counts()[:40]\n",
    "total_airports = total_airports.index.tolist()\n",
    "\n",
    "df_eng = df_eng[['AIRLINE', 'DAY_OF_WEEK', 'ORIGIN_AIRPORT', 'DESTINATION_AIRPORT','speed', 'dep_hour','season',\\\n",
    "                 'DATE', 'DELAY_OR_NOT']]\n",
    "df_eng = df_eng[df_eng['ORIGIN_AIRPORT'].isin(total_airports)]\n",
    "df_eng = df_eng[df_eng['DESTINATION_AIRPORT'].isin(total_airports)]\n",
    "\n",
    "\n",
    "df_eng['DATE'] = pd.to_datetime(df_eng['DATE'])\n",
    "df_train_eng = df_eng[df_eng['DATE'].apply(lambda x:x.date()) < datetime.date(2015, 1, 23)]\n",
    "df_test_eng = df_eng[df_eng['DATE'].apply(lambda x:x.date()) < datetime.date(2015, 1, 31)]\n",
    "df_test_eng = df_test_eng[df_test_eng['DATE'].apply(lambda x:x.date()) > datetime.date(2015, 1, 23)]\n",
    "\n",
    "categorical_cols = ['AIRLINE', 'ORIGIN_AIRPORT', 'DESTINATION_AIRPORT']\n",
    "df_train_eng = pd.get_dummies(df_train_eng, columns=categorical_cols, drop_first=True)\n",
    "df_test_eng = pd.get_dummies(df_test_eng, columns=categorical_cols, drop_first=True)\n",
    "\n",
    "df_train_eng = df_train_eng.reset_index(drop=True)\n",
    "\n",
    "X_train_eng = df_train_eng.drop(['DATE','DELAY_OR_NOT'], axis=1)\n",
    "y_train_eng = df_train_eng['DELAY_OR_NOT']\n",
    "X_test_eng = df_test_eng.drop(['DATE','DELAY_OR_NOT'], axis=1)\n",
    "y_test_eng = df_test_eng['DELAY_OR_NOT']"
   ]
  },
  {
   "cell_type": "code",
   "execution_count": 101,
   "metadata": {},
   "outputs": [
    {
     "name": "stdout",
     "output_type": "stream",
     "text": [
      "Train accuracy (engineered):  0.884206274404\n",
      "Test accuracy (engineered):  0.909313020983\n",
      "AUC of the fitted model: 0.818207482053\n"
     ]
    }
   ],
   "source": [
    "logregcv = LogisticRegressionCV()\n",
    "logregcv.fit(X_train_eng, y_train_eng)\n",
    "y_hat_train_eng = logregcv.predict(X_train_eng)\n",
    "y_hat_test_eng = logregcv.predict(X_test_eng)\n",
    "print(\"Train accuracy (engineered): \", logregcv.score(X_train_eng, y_train_eng))\n",
    "print(\"Test accuracy (engineered): \", logregcv.score(X_test_eng, y_test_eng))\n",
    "\n",
    "preds_eng = logregcv.predict_proba(X_test_eng)[:,1]\n",
    "fpr_eng, tpr_eng, thresholds_eng = roc_curve(y_test_eng, preds_eng)\n",
    "roc_auc_eng = auc(fpr_eng, tpr_eng)\n",
    "print(\"AUC of the fitted model:\", roc_auc_eng)"
   ]
  },
  {
   "cell_type": "code",
   "execution_count": 102,
   "metadata": {},
   "outputs": [
    {
     "data": {
      "text/html": [
       "<div>\n",
       "<style>\n",
       "    .dataframe thead tr:only-child th {\n",
       "        text-align: right;\n",
       "    }\n",
       "\n",
       "    .dataframe thead th {\n",
       "        text-align: left;\n",
       "    }\n",
       "\n",
       "    .dataframe tbody tr th {\n",
       "        vertical-align: top;\n",
       "    }\n",
       "</style>\n",
       "<table border=\"1\" class=\"dataframe\">\n",
       "  <thead>\n",
       "    <tr style=\"text-align: right;\">\n",
       "      <th></th>\n",
       "      <th>y_hat=0</th>\n",
       "      <th>y_hat = 1</th>\n",
       "    </tr>\n",
       "  </thead>\n",
       "  <tbody>\n",
       "    <tr>\n",
       "      <th>y=0</th>\n",
       "      <td>6162</td>\n",
       "      <td>170</td>\n",
       "    </tr>\n",
       "    <tr>\n",
       "      <th>y=1</th>\n",
       "      <td>461</td>\n",
       "      <td>165</td>\n",
       "    </tr>\n",
       "  </tbody>\n",
       "</table>\n",
       "</div>"
      ],
      "text/plain": [
       "     y_hat=0  y_hat = 1\n",
       "y=0     6162        170\n",
       "y=1      461        165"
      ]
     },
     "execution_count": 102,
     "metadata": {},
     "output_type": "execute_result"
    }
   ],
   "source": [
    "conf_mat_eng = confusion_matrix(y_test_eng, y_hat_test_eng)\n",
    "conf_df_eng = pd.DataFrame(conf_mat_eng, columns = ['y_hat=0', 'y_hat = 1'], index = ['y=0', 'y=1'])\n",
    "conf_df_eng"
   ]
  },
  {
   "cell_type": "code",
   "execution_count": 104,
   "metadata": {},
   "outputs": [],
   "source": [
    "df_eng['DATE'] = pd.to_datetime(df_eng['DATE'])\n",
    "df_test_rest_eng = df_eng[df_eng['DATE'].apply(lambda x:x.date()) > datetime.date(2015, 1, 31)]\n",
    "categorical_cols = ['AIRLINE', 'ORIGIN_AIRPORT', 'DESTINATION_AIRPORT']\n",
    "df_test_rest_eng = pd.get_dummies(df_test_rest_eng, columns=categorical_cols, drop_first=True)\n",
    "X_test_rest_eng = df_test_rest_eng.drop(['DATE','DELAY_OR_NOT'], axis=1)\n",
    "y_test_rest_eng = df_test_rest_eng['DELAY_OR_NOT']"
   ]
  },
  {
   "cell_type": "code",
   "execution_count": null,
   "metadata": {},
   "outputs": [],
   "source": [
    "# logregcv.fit(X_train_eng, y_train_eng)\n",
    "# X_train_eng.shape\n",
    "# df_test_eng.columns"
   ]
  },
  {
   "cell_type": "code",
   "execution_count": 105,
   "metadata": {},
   "outputs": [
    {
     "name": "stdout",
     "output_type": "stream",
     "text": [
      "The rest of test set (excluding training and test) accuracy:  0.892200244172\n"
     ]
    }
   ],
   "source": [
    "print(\"The rest of test set (excluding training and test) accuracy: \", logregcv.score(X_test_rest_eng, y_test_rest_eng))\n",
    "y_hat_test_rest_eng = logregcv.predict(X_test_rest_eng)"
   ]
  },
  {
   "cell_type": "code",
   "execution_count": 106,
   "metadata": {},
   "outputs": [
    {
     "data": {
      "text/html": [
       "<div>\n",
       "<style>\n",
       "    .dataframe thead tr:only-child th {\n",
       "        text-align: right;\n",
       "    }\n",
       "\n",
       "    .dataframe thead th {\n",
       "        text-align: left;\n",
       "    }\n",
       "\n",
       "    .dataframe tbody tr th {\n",
       "        vertical-align: top;\n",
       "    }\n",
       "</style>\n",
       "<table border=\"1\" class=\"dataframe\">\n",
       "  <thead>\n",
       "    <tr style=\"text-align: right;\">\n",
       "      <th></th>\n",
       "      <th>y_hat=0</th>\n",
       "      <th>y_hat = 1</th>\n",
       "    </tr>\n",
       "  </thead>\n",
       "  <tbody>\n",
       "    <tr>\n",
       "      <th>y=0</th>\n",
       "      <td>296689</td>\n",
       "      <td>11650</td>\n",
       "    </tr>\n",
       "    <tr>\n",
       "      <th>y=1</th>\n",
       "      <td>25965</td>\n",
       "      <td>14630</td>\n",
       "    </tr>\n",
       "  </tbody>\n",
       "</table>\n",
       "</div>"
      ],
      "text/plain": [
       "     y_hat=0  y_hat = 1\n",
       "y=0   296689      11650\n",
       "y=1    25965      14630"
      ]
     },
     "execution_count": 106,
     "metadata": {},
     "output_type": "execute_result"
    }
   ],
   "source": [
    "conf_mat_eng2 = confusion_matrix(y_test_rest_eng, y_hat_test_rest_eng)\n",
    "conf_df_eng2 = pd.DataFrame(conf_mat_eng2, columns = ['y_hat=0', 'y_hat = 1'], index = ['y=0', 'y=1'])\n",
    "conf_df_eng2"
   ]
  },
  {
   "cell_type": "code",
   "execution_count": 107,
   "metadata": {},
   "outputs": [
    {
     "name": "stdout",
     "output_type": "stream",
     "text": [
      "True Positive Rate for the rest test set:  0.360389210494\n",
      "True Negative Rate for the rest test set:  0.962216910608\n"
     ]
    }
   ],
   "source": [
    "print(\"True Positive Rate for the rest test set: \", float(conf_mat_eng2[1][1])/(conf_mat_eng2[1][1]+ conf_mat_eng2[1][0]))\n",
    "print(\"True Negative Rate for the rest test set: \", float(conf_mat_eng2[0][0])/(conf_mat_eng2[0][0] + conf_mat_eng2[0][1]))"
   ]
  },
  {
   "cell_type": "code",
   "execution_count": 108,
   "metadata": {},
   "outputs": [
    {
     "name": "stdout",
     "output_type": "stream",
     "text": [
      "AUC of the engineered model: 0.813946758551\n"
     ]
    }
   ],
   "source": [
    "preds_rest_eng = logregcv.predict_proba(X_test_rest_eng)[:,1]\n",
    "fpr_rest_eng, tpr_rest_eng, thresholds_rest_eng = roc_curve(y_test_rest_eng, preds_rest_eng)\n",
    "roc_auc_rest_eng = auc(fpr_rest_eng, tpr_rest_eng)\n",
    "print(\"AUC of the engineered model:\", roc_auc_rest_eng)"
   ]
  },
  {
   "cell_type": "code",
   "execution_count": 110,
   "metadata": {},
   "outputs": [
    {
     "data": {
      "image/png": "[encoded data removed]",
      "text/plain": [
       "<matplotlib.figure.Figure at 0x1a6de94a90>"
      ]
     },
     "metadata": {},
     "output_type": "display_data"
    }
   ],
   "source": [
    "plt.figure(figsize=(8,6))\n",
    "ax=make_roc(\"engineered\",logregcv, y_test_rest_eng, X_test_rest_eng, labe=10000, skip=10)"
   ]
  },
  {
   "cell_type": "markdown",
   "metadata": {},
   "source": [
    "### 2. (5pts) Add one additional feature from a data source not given to you. Do this only after you complete the rest of the exam."
   ]
  },
  {
   "cell_type": "code",
   "execution_count": null,
   "metadata": {},
   "outputs": [],
   "source": [
    "df_eng.head()"
   ]
  },
  {
   "cell_type": "code",
   "execution_count": null,
   "metadata": {},
   "outputs": [],
   "source": [
    "df_holiday = pd.read_csv('federal-holidays-2015.csv')\n",
    "new_header = df_holiday.iloc[0]\n",
    "df_holiday = df_holiday[1:] \n",
    "df_holiday.columns = new_header\n",
    "df_holiday.drop(df_holiday.tail(1).index,inplace=True)\n",
    "df_holiday['Date'] = pd.to_datetime(df_holiday['Date'])\n",
    "df_holiday[\"Holiday_or_not\"] = 1\n",
    "df_holiday = df_holiday[[\"Date\", \"Holiday_or_not\"]]\n",
    "df_holiday = df_holiday.rename(columns = {\"Date\": \"DATE\"})\n",
    "df_holiday"
   ]
  },
  {
   "cell_type": "code",
   "execution_count": null,
   "metadata": {},
   "outputs": [],
   "source": [
    "df_new = pd.merge(df_eng, df_holiday, how='left', on='DATE')\n",
    "df_new = df_new.fillna(0)"
   ]
  },
  {
   "cell_type": "code",
   "execution_count": null,
   "metadata": {
    "collapsed": true
   },
   "outputs": [],
   "source": [
    "df_new['DATE'] = pd.to_datetime(df_new['DATE'])\n",
    "df_train_new = df_new[df_new['DATE'].apply(lambda x:x.date()) < datetime.date(2015, 1, 23)]\n",
    "df_test_new = df_new[df_new['DATE'].apply(lambda x:x.date()) < datetime.date(2015, 1, 31)]\n",
    "df_test_new = df_test_new[df_test_new['DATE'].apply(lambda x:x.date()) > datetime.date(2015, 1, 23)]\n",
    "\n",
    "categorical_cols = ['AIRLINE', 'ORIGIN_AIRPORT', 'DESTINATION_AIRPORT']\n",
    "df_train_new = pd.get_dummies(df_train_new, columns=categorical_cols, drop_first=True)\n",
    "df_test_new = pd.get_dummies(df_test_new, columns=categorical_cols, drop_first=True)\n",
    "\n",
    "X_train_new = df_train_new.drop(['DATE','DELAY_OR_NOT'], axis=1)\n",
    "y_train_new = df_train_new['DELAY_OR_NOT']\n",
    "X_test_new = df_test_new.drop(['DATE','DELAY_OR_NOT'], axis=1)\n",
    "y_test_new = df_test_new['DELAY_OR_NOT']"
   ]
  },
  {
   "cell_type": "code",
   "execution_count": null,
   "metadata": {},
   "outputs": [],
   "source": [
    "logregcv = LogisticRegressionCV()\n",
    "logregcv.fit(X_train_new, y_train_new)\n",
    "y_hat_train_new = logregcv.predict(X_train_new)\n",
    "y_hat_test_new = logregcv.predict(X_test_new)\n",
    "print(\"Train accuracy (new feature): \", logregcv.score(X_train_new, y_train_new))\n",
    "print(\"Test accuracy (new feature): \", logregcv.score(X_test_new, y_test_new))\n",
    "\n",
    "preds_new = logregcv.predict_proba(X_test_new)[:,1]\n",
    "fpr_new, tpr_new, thresholds_new = roc_curve(y_test_new, preds_new)\n",
    "roc_auc_new = auc(fpr_new, tpr_new)\n",
    "print(\"AUC of the fitted model:\", roc_auc_new)"
   ]
  },
  {
   "cell_type": "code",
   "execution_count": null,
   "metadata": {},
   "outputs": [],
   "source": [
    "conf_mat_new = confusion_matrix(y_test_new, y_hat_test_new)\n",
    "conf_df_new = pd.DataFrame(conf_mat_new, columns = ['y_hat=0', 'y_hat = 1'], index = ['y=0', 'y=1'])\n",
    "conf_df_new"
   ]
  },
  {
   "cell_type": "code",
   "execution_count": null,
   "metadata": {
    "collapsed": true
   },
   "outputs": [],
   "source": [
    "df_test_rest_new = df_new[df_new['DATE'].apply(lambda x:x.date()) > datetime.date(2015, 1, 31)]\n",
    "categorical_cols = ['AIRLINE', 'ORIGIN_AIRPORT', 'DESTINATION_AIRPORT']\n",
    "df_test_rest_new = pd.get_dummies(df_test_rest_new, columns=categorical_cols, drop_first=True)\n",
    "X_test_rest_new = df_test_rest_new.drop(['DATE','DELAY_OR_NOT'], axis=1)\n",
    "y_test_rest_new = df_test_rest_new['DELAY_OR_NOT']"
   ]
  },
  {
   "cell_type": "code",
   "execution_count": null,
   "metadata": {},
   "outputs": [],
   "source": [
    "print(\"The rest of test set (excluding training and test) accuracy: \", logregcv.score(X_test_rest_new, y_test_rest_new))\n",
    "y_hat_test_rest_new = logregcv.predict(X_test_rest_new)"
   ]
  },
  {
   "cell_type": "code",
   "execution_count": null,
   "metadata": {},
   "outputs": [],
   "source": [
    "conf_mat_new2 = confusion_matrix(y_test_rest_new, y_hat_test_rest_new)\n",
    "conf_df_new2 = pd.DataFrame(conf_mat_new2, columns = ['y_hat=0', 'y_hat = 1'], index = ['y=0', 'y=1'])\n",
    "conf_df_new2"
   ]
  },
  {
   "cell_type": "code",
   "execution_count": null,
   "metadata": {},
   "outputs": [],
   "source": [
    "print(\"True Positive Rate for the rest test set: \", float(conf_mat_new2[1][1])/(conf_mat_new2[1][1]+ conf_mat_new2[1][0]))\n",
    "print(\"True Negative Rate for the rest test set: \", float(conf_mat_new2[0][0])/(conf_mat_new2[0][0] + conf_mat_new2[0][1]))"
   ]
  },
  {
   "cell_type": "code",
   "execution_count": null,
   "metadata": {},
   "outputs": [],
   "source": [
    "preds_rest_new = logregcv.predict_proba(X_test_rest_new)[:,1]\n",
    "fpr_rest_new, tpr_rest_new, thresholds_rest_new = roc_curve(y_test_rest_new, preds_rest_new)\n",
    "roc_auc_rest_new = auc(fpr_rest_new, tpr_rest_new)\n",
    "print(\"AUC of the engineered model with the new feature:\", roc_auc_rest_new)"
   ]
  },
  {
   "cell_type": "code",
   "execution_count": null,
   "metadata": {},
   "outputs": [],
   "source": [
    "plt.figure(figsize=(8,6))\n",
    "ax=make_roc(\"new feature\",logregcv, y_test_rest_new, X_test_rest_new, labe=5000, skip=10)"
   ]
  },
  {
   "cell_type": "markdown",
   "metadata": {},
   "source": [
    "### Question 8. (20pts) Write a report (in the last markdown cell in your notebook with your findings (without code)). Describe the main design decisions you have made with justifications. Clearly explain your methodology and results. This should not be more than 300 words. You may use up to 5 diagrams."
   ]
  },
  {
   "cell_type": "markdown",
   "metadata": {},
   "source": []
  }
 ],
 "metadata": {
  "kernelspec": {
   "display_name": "Python 3",
   "language": "python",
   "name": "python3"
  },
  "language_info": {
   "codemirror_mode": {
    "name": "ipython",
    "version": 3
   },
   "file_extension": ".py",
   "mimetype": "text/x-python",
   "name": "python",
   "nbconvert_exporter": "python",
   "pygments_lexer": "ipython3",
   "version": "3.6.3"
  }
 },
 "nbformat": 4,
 "nbformat_minor": 2
}
