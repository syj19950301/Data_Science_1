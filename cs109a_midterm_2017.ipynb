{
 "cells": [
  {
   "cell_type": "markdown",
   "metadata": {},
   "source": [
    "# CS 109A/STAT 121A/AC 209A/CSCI E-109A: \n",
    "# Midterm - 2017\n",
    "\n",
    "**Harvard University**<br/>\n",
    "**Fall 2017**<br/>\n",
    "**Instructors**: Pavlos Protopapas, Kevin Rader, Rahul Dave, Margo Levine\n",
    "\n",
    "---\n",
    "\n",
    "### INSTRUCTIONS\n",
    "\n",
    "\n",
    "- You must submit the Midterm on your own. ** No group submissions are allowed**. You may use any print or online resources but ** you may not work or consult with others**.\n",
    "- Restart the kernel and run the whole notebook again before you submit. \n",
    "- Please submit both a notebook and a pdf.\n",
    " \n",
    "\n",
    "---"
   ]
  },
  {
   "cell_type": "markdown",
   "metadata": {},
   "source": [
    "\n",
    "## Flight Delays\n",
    "\n",
    "The U.S. Department of Transportation's (DOT) Bureau of Transportation Statistics tracks the on-time performance of domestic flights operated by large air carriers. Summary information on the number of on-time, delayed, canceled, and diverted flights are published in DOT's monthly Air Travel Consumer Report and in this dataset of 2015 flight delays and cancellations.\n",
    "\n",
    "\n",
    "## Data\n",
    "Each entry of the flights.csv file corresponds to a flight.  More than 5,800,000 flights were recorded in 2015. These flights are described according to 31 variables. Further details of these variables can be found <a href='https://www.transtats.bts.gov/DL_SelectFields.asp?Table_ID=236&DB_Short_Name=On-Time'>here</a>, if you are interested (not needed to answer these questions). \n",
    "\n",
    "\n",
    " \n",
    "\n",
    "|          Name          | Type | DESCRIPTION |\n",
    "|--------------------------------|---|----------------------------------------------------------------------|\n",
    "| DATE                     | object | The date in python datetime format |\n",
    "| MONTH                     | int64 | The month of the year(1-12) |\n",
    "| DAY                       | int64 | The day of the month |\n",
    "| DAY_OF_WEEK               | int64 | The day of the week(1-7, MON-SUN) |\n",
    "| AIRLINE                  | object | An identifier for the airline |\n",
    "| FLIGHT_NUMBER             | int64 | The flight number |\n",
    "| TAIL_NUMBER              | object | The tail number (aircraft) corresponding to this flight |\n",
    "| ORIGIN_AIRPORT           | object | The code for origin airport |\n",
    "| DESTINATION_AIRPORT      | object | The code for destination airport |\n",
    "| SCHED_DEP                | object | The departure time in python datetime.time format |\n",
    "| SCHED_ARR                | object | The arrival time in python datetime.time format |\n",
    "| DEPARTURE_DELAY         |  float64| The delay incurred at the origin  (mins) |\n",
    "| ARRIVAL_DELAY           | float64 | The delay when the flight reached the (mins) destination |\n",
    "| DISTANCE                  | int64 | Distance in miles between origin and destination |\n",
    "| SCHEDULED_TIME          | float64 | Scheduled time of flight (minutes) |\n",
    "| ELAPSED_TIME            | float64 | Actual time of flight (minutes) |\n",
    "| AIR_SYSTEM_DELAY        | float64 | What part of the delay was NASD?(mins) |\n",
    "| SECURITY_DELAY          | float64 | What part of the delay was due to security problems? (mins) |\n",
    "| AIRLINE_DELAY           | float64 | What part of the delay is due to the airline? (mins) |\n",
    "| LATE_AIRCRAFT_DELAY     | float64 | What part of the delay is due to previous flight(s) being late(mins) |\n",
    "| WEATHER_DELAY           | float64 | Delay due to extreme weather events(min) |\n",
    "\n",
    "You can read more about the various weather delays [here](https://www.rita.dot.gov/bts/help/aviation/html/understanding.html) if you are so inclined.\n",
    "\n",
    "\n",
    "\n",
    "## Data/Caveats\n",
    "\n",
    "The data file, flights.csv, is found <a href=\"https://drive.google.com/file/d/0B9dVesTppCgHY0IwZHk3SGhjd00/view?usp=sharing\">here</a> (note, it is about 70MB). \n",
    "\n",
    "This data is already preprocessed, reduced, partially cleaned and therefore not identical to the original dataset."
   ]
  },
  {
   "cell_type": "markdown",
   "metadata": {},
   "source": [
    "## Problem Description"
   ]
  },
  {
   "cell_type": "markdown",
   "metadata": {},
   "source": [
    "We will build two separate models: one model that classifies whether a flight will be delayed and a second model that predicts the length of delay given that a flight is truly delayed. Only consider models taught in class so far. \n",
    "\n",
    "** Consider the following: **\n",
    "This is a large dataset; think of strategies on how to solve this problem. Create a manageable subsample of the data that you can use to train and test/validate, but eventually you should predict on all the data (excluding the training set).\n",
    "\n",
    "### Questions\n",
    "1. (5pts) Create a new variable, `DELAY_OR_NOT`: a boolean/indicator variable which indicates any arrival delay under 15 mins as a 0, and any delay at or above 15 mins as a 1 (`ARRIVAL_DELAY >= 15`).\n",
    "2. (5pts) Make sure you understand the data variable descriptions before you start the analysis. Consider all the columns and determine and list which of these predictors should not be used. \n",
    "3. (15pts) Perform EDA to gain intuition of the factors that affect delay and provide visuals: do delays vary across airlines, or time of departure, or airport (do, at the very least, Chicago (ORD), Boston (BOS), and your favorite another airport), or airport traffic?\n",
    "4. (20pts) Build a classification model that classifies delays according to `DELAY_OR_NOT`. This is an unbalanced dataset, thus consider the appropriate performance metric when reporting your results. \n",
    "5. (5pts) Given your model, comment on the importance of factors as related to whether a flight is delayed.\n",
    "6. (5pts) Evaluate your model(s) on your test set, and finally provide a visual to show which airlines are predicted to have the most delays using all the data excluding the training and test set. \n",
    "7. (15pts) Build a regression model that predicts the length of delay (on the log scale) given that a flight is truly delayed.\n",
    "8. (20pts) Write a report (in the last markdown cell in your notebook with your findings (without code)). Describe the main design decisions you have made with justifications. Clearly explain your methodology and results. This should not be more than 300 words. You may use up to 5 diagrams.\n",
    "\n"
   ]
  },
  {
   "cell_type": "markdown",
   "metadata": {},
   "source": [
    "\n",
    "\n",
    "\n",
    "### 209 Additional questions\n",
    "1. (10pts) Engineer two additional features that will help improve the classification model's performance.\n",
    "2. (5pts) Add one additional feature from a data source not given to you.  Do this only after you complete the rest of the exam.\n",
    "\n",
    "## Deliverable: \n",
    "A well presented notebook with well structured and documented code to answer questions 1-7 (plus additional questions for 209 students) with brief explanations and/or clarifications (10pts for overall presenation). The last cell should contain the report for question 8.\n",
    "\n",
    "\n",
    "\n",
    "## Hints\n",
    "1. For the classification model, an AUC of approximately 0.6 should be your base model. \n",
    "2. $R^2>0.03$ for the regression is good, $R^2>0.05$ very good, and $R^2>0.1$ is impressive (measured on the log scale). "
   ]
  },
  {
   "cell_type": "code",
   "execution_count": 1,
   "metadata": {},
   "outputs": [
    {
     "name": "stderr",
     "output_type": "stream",
     "text": [
      "/Users/yijunshen/anaconda3/lib/python3.6/site-packages/statsmodels/compat/pandas.py:56: FutureWarning: The pandas.core.datetools module is deprecated and will be removed in a future version. Please use the pandas.tseries module instead.\n",
      "  from pandas.core import datetools\n"
     ]
    }
   ],
   "source": [
    "import numpy as np\n",
    "import pandas as pd\n",
    "import matplotlib\n",
    "import matplotlib.pyplot as plt\n",
    "from sklearn.linear_model import LogisticRegression\n",
    "from sklearn.linear_model import LogisticRegressionCV\n",
    "import sklearn.metrics as metrics\n",
    "from sklearn.preprocessing import PolynomialFeatures\n",
    "from sklearn.discriminant_analysis import LinearDiscriminantAnalysis\n",
    "from sklearn.discriminant_analysis import QuadraticDiscriminantAnalysis\n",
    "from sklearn.neighbors import KNeighborsClassifier\n",
    "from sklearn.tree import DecisionTreeClassifier\n",
    "from sklearn.model_selection import cross_val_score\n",
    "from sklearn.metrics import r2_score\n",
    "import statsmodels.api as sm\n",
    "from statsmodels.api import OLS\n",
    "from sklearn.linear_model import LassoCV\n",
    "from sklearn.linear_model import LinearRegression\n",
    "from sklearn.linear_model import Ridge\n",
    "from sklearn.linear_model import Lasso\n",
    "from sklearn.linear_model import RidgeCV\n",
    "from sklearn.linear_model import LassoCV\n",
    "from sklearn.metrics import roc_curve, auc\n",
    "from sklearn.metrics import roc_auc_score\n",
    "from sklearn.metrics import confusion_matrix\n",
    "import datetime\n",
    "from sklearn.model_selection import train_test_split\n",
    "from sklearn import preprocessing\n",
    "\n",
    "from sklearn.tree import export_graphviz\n",
    "from IPython.display import Image\n",
    "from IPython.display import display\n",
    "from matplotlib import colors\n",
    "import seaborn as sns\n",
    "%matplotlib inline"
   ]
  },
  {
   "cell_type": "markdown",
   "metadata": {},
   "source": [
    "### 1. (5pts) Create a new variable, DELAY_OR_NOT: a boolean/indicator variable which indicates any arrival delay under 15 mins as a 0, and any delay at or above 15 mins as a 1 (ARRIVAL_DELAY >= 15)."
   ]
  },
  {
   "cell_type": "code",
   "execution_count": 2,
   "metadata": {},
   "outputs": [
    {
     "data": {
      "text/html": [
       "<div>\n",
       "<style>\n",
       "    .dataframe thead tr:only-child th {\n",
       "        text-align: right;\n",
       "    }\n",
       "\n",
       "    .dataframe thead th {\n",
       "        text-align: left;\n",
       "    }\n",
       "\n",
       "    .dataframe tbody tr th {\n",
       "        vertical-align: top;\n",
       "    }\n",
       "</style>\n",
       "<table border=\"1\" class=\"dataframe\">\n",
       "  <thead>\n",
       "    <tr style=\"text-align: right;\">\n",
       "      <th></th>\n",
       "      <th>DATE</th>\n",
       "      <th>MONTH</th>\n",
       "      <th>DAY</th>\n",
       "      <th>DAY_OF_WEEK</th>\n",
       "      <th>AIRLINE</th>\n",
       "      <th>FLIGHT_NUMBER</th>\n",
       "      <th>TAIL_NUMBER</th>\n",
       "      <th>ORIGIN_AIRPORT</th>\n",
       "      <th>DESTINATION_AIRPORT</th>\n",
       "      <th>SCHED_DEP</th>\n",
       "      <th>...</th>\n",
       "      <th>ARRIVAL_DELAY</th>\n",
       "      <th>DISTANCE</th>\n",
       "      <th>SCHEDULED_TIME</th>\n",
       "      <th>ELAPSED_TIME</th>\n",
       "      <th>AIR_SYSTEM_DELAY</th>\n",
       "      <th>SECURITY_DELAY</th>\n",
       "      <th>AIRLINE_DELAY</th>\n",
       "      <th>LATE_AIRCRAFT_DELAY</th>\n",
       "      <th>WEATHER_DELAY</th>\n",
       "      <th>DELAY_OR_NOT</th>\n",
       "    </tr>\n",
       "  </thead>\n",
       "  <tbody>\n",
       "    <tr>\n",
       "      <th>0</th>\n",
       "      <td>2015-09-19</td>\n",
       "      <td>9</td>\n",
       "      <td>19</td>\n",
       "      <td>6</td>\n",
       "      <td>AA</td>\n",
       "      <td>394</td>\n",
       "      <td>N3FMAA</td>\n",
       "      <td>ORD</td>\n",
       "      <td>LGA</td>\n",
       "      <td>07:15:00</td>\n",
       "      <td>...</td>\n",
       "      <td>1.0</td>\n",
       "      <td>733</td>\n",
       "      <td>135.0</td>\n",
       "      <td>127.0</td>\n",
       "      <td>NaN</td>\n",
       "      <td>NaN</td>\n",
       "      <td>NaN</td>\n",
       "      <td>NaN</td>\n",
       "      <td>NaN</td>\n",
       "      <td>0</td>\n",
       "    </tr>\n",
       "    <tr>\n",
       "      <th>1</th>\n",
       "      <td>2015-10-28</td>\n",
       "      <td>10</td>\n",
       "      <td>28</td>\n",
       "      <td>3</td>\n",
       "      <td>AA</td>\n",
       "      <td>375</td>\n",
       "      <td>N4YDAA</td>\n",
       "      <td>11298</td>\n",
       "      <td>13342</td>\n",
       "      <td>20:15:00</td>\n",
       "      <td>...</td>\n",
       "      <td>-31.0</td>\n",
       "      <td>853</td>\n",
       "      <td>149.0</td>\n",
       "      <td>118.0</td>\n",
       "      <td>NaN</td>\n",
       "      <td>NaN</td>\n",
       "      <td>NaN</td>\n",
       "      <td>NaN</td>\n",
       "      <td>NaN</td>\n",
       "      <td>0</td>\n",
       "    </tr>\n",
       "    <tr>\n",
       "      <th>2</th>\n",
       "      <td>2015-08-19</td>\n",
       "      <td>8</td>\n",
       "      <td>19</td>\n",
       "      <td>3</td>\n",
       "      <td>MQ</td>\n",
       "      <td>3648</td>\n",
       "      <td>N512MQ</td>\n",
       "      <td>XNA</td>\n",
       "      <td>ORD</td>\n",
       "      <td>12:22:00</td>\n",
       "      <td>...</td>\n",
       "      <td>-21.0</td>\n",
       "      <td>522</td>\n",
       "      <td>108.0</td>\n",
       "      <td>88.0</td>\n",
       "      <td>NaN</td>\n",
       "      <td>NaN</td>\n",
       "      <td>NaN</td>\n",
       "      <td>NaN</td>\n",
       "      <td>NaN</td>\n",
       "      <td>0</td>\n",
       "    </tr>\n",
       "    <tr>\n",
       "      <th>3</th>\n",
       "      <td>2015-12-01</td>\n",
       "      <td>12</td>\n",
       "      <td>1</td>\n",
       "      <td>2</td>\n",
       "      <td>WN</td>\n",
       "      <td>4096</td>\n",
       "      <td>N912WN</td>\n",
       "      <td>PHX</td>\n",
       "      <td>BWI</td>\n",
       "      <td>11:20:00</td>\n",
       "      <td>...</td>\n",
       "      <td>-14.0</td>\n",
       "      <td>1999</td>\n",
       "      <td>260.0</td>\n",
       "      <td>235.0</td>\n",
       "      <td>NaN</td>\n",
       "      <td>NaN</td>\n",
       "      <td>NaN</td>\n",
       "      <td>NaN</td>\n",
       "      <td>NaN</td>\n",
       "      <td>0</td>\n",
       "    </tr>\n",
       "    <tr>\n",
       "      <th>4</th>\n",
       "      <td>2015-09-15</td>\n",
       "      <td>9</td>\n",
       "      <td>15</td>\n",
       "      <td>2</td>\n",
       "      <td>WN</td>\n",
       "      <td>285</td>\n",
       "      <td>N7718B</td>\n",
       "      <td>MCI</td>\n",
       "      <td>DEN</td>\n",
       "      <td>14:10:00</td>\n",
       "      <td>...</td>\n",
       "      <td>-12.0</td>\n",
       "      <td>533</td>\n",
       "      <td>105.0</td>\n",
       "      <td>97.0</td>\n",
       "      <td>NaN</td>\n",
       "      <td>NaN</td>\n",
       "      <td>NaN</td>\n",
       "      <td>NaN</td>\n",
       "      <td>NaN</td>\n",
       "      <td>0</td>\n",
       "    </tr>\n",
       "  </tbody>\n",
       "</table>\n",
       "<p>5 rows × 22 columns</p>\n",
       "</div>"
      ],
      "text/plain": [
       "         DATE  MONTH  DAY  DAY_OF_WEEK AIRLINE  FLIGHT_NUMBER TAIL_NUMBER  \\\n",
       "0  2015-09-19      9   19            6      AA            394      N3FMAA   \n",
       "1  2015-10-28     10   28            3      AA            375      N4YDAA   \n",
       "2  2015-08-19      8   19            3      MQ           3648      N512MQ   \n",
       "3  2015-12-01     12    1            2      WN           4096      N912WN   \n",
       "4  2015-09-15      9   15            2      WN            285      N7718B   \n",
       "\n",
       "  ORIGIN_AIRPORT DESTINATION_AIRPORT SCHED_DEP      ...      ARRIVAL_DELAY  \\\n",
       "0            ORD                 LGA  07:15:00      ...                1.0   \n",
       "1          11298               13342  20:15:00      ...              -31.0   \n",
       "2            XNA                 ORD  12:22:00      ...              -21.0   \n",
       "3            PHX                 BWI  11:20:00      ...              -14.0   \n",
       "4            MCI                 DEN  14:10:00      ...              -12.0   \n",
       "\n",
       "   DISTANCE  SCHEDULED_TIME  ELAPSED_TIME  AIR_SYSTEM_DELAY  SECURITY_DELAY  \\\n",
       "0       733           135.0         127.0               NaN             NaN   \n",
       "1       853           149.0         118.0               NaN             NaN   \n",
       "2       522           108.0          88.0               NaN             NaN   \n",
       "3      1999           260.0         235.0               NaN             NaN   \n",
       "4       533           105.0          97.0               NaN             NaN   \n",
       "\n",
       "   AIRLINE_DELAY  LATE_AIRCRAFT_DELAY  WEATHER_DELAY  DELAY_OR_NOT  \n",
       "0            NaN                  NaN            NaN             0  \n",
       "1            NaN                  NaN            NaN             0  \n",
       "2            NaN                  NaN            NaN             0  \n",
       "3            NaN                  NaN            NaN             0  \n",
       "4            NaN                  NaN            NaN             0  \n",
       "\n",
       "[5 rows x 22 columns]"
      ]
     },
     "execution_count": 2,
     "metadata": {},
     "output_type": "execute_result"
    }
   ],
   "source": [
    "df1 = pd.read_csv('cs109a_midterm.csv')\n",
    "df1['DELAY_OR_NOT'] = np.where(df1['ARRIVAL_DELAY']>=15, 1, 0)\n",
    "df1.head()"
   ]
  },
  {
   "cell_type": "markdown",
   "metadata": {},
   "source": [
    "### 2. (5pts) Make sure you understand the data variable descriptions before you start the analysis. Consider all the columns and determine and list which of these predictors should not be used."
   ]
  },
  {
   "cell_type": "code",
   "execution_count": 3,
   "metadata": {},
   "outputs": [
    {
     "name": "stdout",
     "output_type": "stream",
     "text": [
      "the names of all columns:\n",
      " ['DATE', 'MONTH', 'DAY', 'DAY_OF_WEEK', 'AIRLINE', 'FLIGHT_NUMBER', 'TAIL_NUMBER', 'ORIGIN_AIRPORT', 'DESTINATION_AIRPORT', 'SCHED_DEP', 'SCHED_ARR', 'DEPARTURE_DELAY', 'ARRIVAL_DELAY', 'DISTANCE', 'SCHEDULED_TIME', 'ELAPSED_TIME', 'AIR_SYSTEM_DELAY', 'SECURITY_DELAY', 'AIRLINE_DELAY', 'LATE_AIRCRAFT_DELAY', 'WEATHER_DELAY', 'DELAY_OR_NOT']\n"
     ]
    }
   ],
   "source": [
    "print(\"the names of all columns:\\n\", list(df1))"
   ]
  },
  {
   "cell_type": "markdown",
   "metadata": {},
   "source": [
    "#### Predictors should not be used:\n",
    "- ARRIVAL_DELAY: This column has already be encoded into the \"DELAY_OR_NOT\" column. If we use this column, we are like cheating to have y information to classify y.\n",
    "- DEPARTURE_DELAY: Same idea as above. If the flight is delayed at departure, it is very likely that it will be delayed at arrival.\n",
    "- ELAPSED_TIME: This information should not be used too, because we want to predict whether a flight is delayed or not based only on the information before it takes off.\n",
    "- AIR_SYSTEM_DELAY, SECURITY_DELAY, AIRLINE_DELAY, LATE_AIRCRAFT_DELAY, WEATHER_DELAY: Similarly, we don't know whether the flight is delayed or not when we are building the model. So we should not have access to such \"future\" information."
   ]
  },
  {
   "cell_type": "markdown",
   "metadata": {},
   "source": [
    "### 3. (15pts) Perform EDA to gain intuition of the factors that affect delay and provide visuals: do delays vary across airlines, or time of departure, or airport (do, at the very least, Chicago (ORD), Boston (BOS), and your favorite another airport), or airport traffic?"
   ]
  },
  {
   "cell_type": "code",
   "execution_count": 4,
   "metadata": {},
   "outputs": [],
   "source": [
    "delay_airlines = df1.groupby('AIRLINE')['DELAY_OR_NOT'].mean()\n",
    "# delay_airlines"
   ]
  },
  {
   "cell_type": "code",
   "execution_count": 5,
   "metadata": {},
   "outputs": [
    {
     "data": {
      "image/png": "[encoded data removed]",
      "text/plain": [
       "<matplotlib.figure.Figure at 0x1c1a77e7b8>"
      ]
     },
     "metadata": {},
     "output_type": "display_data"
    }
   ],
   "source": [
    "ax = delay_airlines.plot(kind='bar', title=\"Delay Ratio of Airlines\", figsize=(8,6), rot=0)\n",
    "ax.set_xlabel('Airlines')\n",
    "ax.set_ylabel('Delay Ratio')\n",
    "plt.show()"
   ]
  },
  {
   "cell_type": "code",
   "execution_count": 6,
   "metadata": {},
   "outputs": [
    {
     "data": {
      "text/html": [
       "<div>\n",
       "<style>\n",
       "    .dataframe thead tr:only-child th {\n",
       "        text-align: right;\n",
       "    }\n",
       "\n",
       "    .dataframe thead th {\n",
       "        text-align: left;\n",
       "    }\n",
       "\n",
       "    .dataframe tbody tr th {\n",
       "        vertical-align: top;\n",
       "    }\n",
       "</style>\n",
       "<table border=\"1\" class=\"dataframe\">\n",
       "  <thead>\n",
       "    <tr style=\"text-align: right;\">\n",
       "      <th></th>\n",
       "      <th>DATE</th>\n",
       "      <th>MONTH</th>\n",
       "      <th>DAY</th>\n",
       "      <th>DAY_OF_WEEK</th>\n",
       "      <th>AIRLINE</th>\n",
       "      <th>FLIGHT_NUMBER</th>\n",
       "      <th>TAIL_NUMBER</th>\n",
       "      <th>ORIGIN_AIRPORT</th>\n",
       "      <th>DESTINATION_AIRPORT</th>\n",
       "      <th>SCHED_DEP</th>\n",
       "      <th>...</th>\n",
       "      <th>ARRIVAL_DELAY</th>\n",
       "      <th>DISTANCE</th>\n",
       "      <th>SCHEDULED_TIME</th>\n",
       "      <th>ELAPSED_TIME</th>\n",
       "      <th>AIR_SYSTEM_DELAY</th>\n",
       "      <th>SECURITY_DELAY</th>\n",
       "      <th>AIRLINE_DELAY</th>\n",
       "      <th>LATE_AIRCRAFT_DELAY</th>\n",
       "      <th>WEATHER_DELAY</th>\n",
       "      <th>DELAY_OR_NOT</th>\n",
       "    </tr>\n",
       "  </thead>\n",
       "  <tbody>\n",
       "    <tr>\n",
       "      <th>749153</th>\n",
       "      <td>2015-11-30</td>\n",
       "      <td>11</td>\n",
       "      <td>30</td>\n",
       "      <td>1</td>\n",
       "      <td>UA</td>\n",
       "      <td>1561</td>\n",
       "      <td>N75435</td>\n",
       "      <td>ORD</td>\n",
       "      <td>PHL</td>\n",
       "      <td>00:01:00</td>\n",
       "      <td>...</td>\n",
       "      <td>8.0</td>\n",
       "      <td>678</td>\n",
       "      <td>122.0</td>\n",
       "      <td>105.0</td>\n",
       "      <td>NaN</td>\n",
       "      <td>NaN</td>\n",
       "      <td>NaN</td>\n",
       "      <td>NaN</td>\n",
       "      <td>NaN</td>\n",
       "      <td>0</td>\n",
       "    </tr>\n",
       "    <tr>\n",
       "      <th>475886</th>\n",
       "      <td>2015-11-30</td>\n",
       "      <td>11</td>\n",
       "      <td>30</td>\n",
       "      <td>1</td>\n",
       "      <td>UA</td>\n",
       "      <td>822</td>\n",
       "      <td>N483UA</td>\n",
       "      <td>ORD</td>\n",
       "      <td>BDL</td>\n",
       "      <td>00:01:00</td>\n",
       "      <td>...</td>\n",
       "      <td>-9.0</td>\n",
       "      <td>783</td>\n",
       "      <td>129.0</td>\n",
       "      <td>113.0</td>\n",
       "      <td>NaN</td>\n",
       "      <td>NaN</td>\n",
       "      <td>NaN</td>\n",
       "      <td>NaN</td>\n",
       "      <td>NaN</td>\n",
       "      <td>0</td>\n",
       "    </tr>\n",
       "    <tr>\n",
       "      <th>652920</th>\n",
       "      <td>2015-12-28</td>\n",
       "      <td>12</td>\n",
       "      <td>28</td>\n",
       "      <td>1</td>\n",
       "      <td>UA</td>\n",
       "      <td>1456</td>\n",
       "      <td>N808UA</td>\n",
       "      <td>DEN</td>\n",
       "      <td>BZN</td>\n",
       "      <td>00:02:00</td>\n",
       "      <td>...</td>\n",
       "      <td>7.0</td>\n",
       "      <td>524</td>\n",
       "      <td>112.0</td>\n",
       "      <td>97.0</td>\n",
       "      <td>NaN</td>\n",
       "      <td>NaN</td>\n",
       "      <td>NaN</td>\n",
       "      <td>NaN</td>\n",
       "      <td>NaN</td>\n",
       "      <td>0</td>\n",
       "    </tr>\n",
       "    <tr>\n",
       "      <th>16660</th>\n",
       "      <td>2015-07-18</td>\n",
       "      <td>7</td>\n",
       "      <td>18</td>\n",
       "      <td>6</td>\n",
       "      <td>NK</td>\n",
       "      <td>298</td>\n",
       "      <td>N605NK</td>\n",
       "      <td>LAS</td>\n",
       "      <td>IAH</td>\n",
       "      <td>00:03:00</td>\n",
       "      <td>...</td>\n",
       "      <td>-1.0</td>\n",
       "      <td>1222</td>\n",
       "      <td>177.0</td>\n",
       "      <td>182.0</td>\n",
       "      <td>NaN</td>\n",
       "      <td>NaN</td>\n",
       "      <td>NaN</td>\n",
       "      <td>NaN</td>\n",
       "      <td>NaN</td>\n",
       "      <td>0</td>\n",
       "    </tr>\n",
       "    <tr>\n",
       "      <th>683555</th>\n",
       "      <td>2015-07-28</td>\n",
       "      <td>7</td>\n",
       "      <td>28</td>\n",
       "      <td>2</td>\n",
       "      <td>NK</td>\n",
       "      <td>298</td>\n",
       "      <td>N621NK</td>\n",
       "      <td>LAS</td>\n",
       "      <td>IAH</td>\n",
       "      <td>00:03:00</td>\n",
       "      <td>...</td>\n",
       "      <td>-2.0</td>\n",
       "      <td>1222</td>\n",
       "      <td>177.0</td>\n",
       "      <td>176.0</td>\n",
       "      <td>NaN</td>\n",
       "      <td>NaN</td>\n",
       "      <td>NaN</td>\n",
       "      <td>NaN</td>\n",
       "      <td>NaN</td>\n",
       "      <td>0</td>\n",
       "    </tr>\n",
       "  </tbody>\n",
       "</table>\n",
       "<p>5 rows × 22 columns</p>\n",
       "</div>"
      ],
      "text/plain": [
       "              DATE  MONTH  DAY  DAY_OF_WEEK AIRLINE  FLIGHT_NUMBER  \\\n",
       "749153  2015-11-30     11   30            1      UA           1561   \n",
       "475886  2015-11-30     11   30            1      UA            822   \n",
       "652920  2015-12-28     12   28            1      UA           1456   \n",
       "16660   2015-07-18      7   18            6      NK            298   \n",
       "683555  2015-07-28      7   28            2      NK            298   \n",
       "\n",
       "       TAIL_NUMBER ORIGIN_AIRPORT DESTINATION_AIRPORT SCHED_DEP      ...       \\\n",
       "749153      N75435            ORD                 PHL  00:01:00      ...        \n",
       "475886      N483UA            ORD                 BDL  00:01:00      ...        \n",
       "652920      N808UA            DEN                 BZN  00:02:00      ...        \n",
       "16660       N605NK            LAS                 IAH  00:03:00      ...        \n",
       "683555      N621NK            LAS                 IAH  00:03:00      ...        \n",
       "\n",
       "       ARRIVAL_DELAY  DISTANCE  SCHEDULED_TIME  ELAPSED_TIME  \\\n",
       "749153           8.0       678           122.0         105.0   \n",
       "475886          -9.0       783           129.0         113.0   \n",
       "652920           7.0       524           112.0          97.0   \n",
       "16660           -1.0      1222           177.0         182.0   \n",
       "683555          -2.0      1222           177.0         176.0   \n",
       "\n",
       "        AIR_SYSTEM_DELAY  SECURITY_DELAY  AIRLINE_DELAY  LATE_AIRCRAFT_DELAY  \\\n",
       "749153               NaN             NaN            NaN                  NaN   \n",
       "475886               NaN             NaN            NaN                  NaN   \n",
       "652920               NaN             NaN            NaN                  NaN   \n",
       "16660                NaN             NaN            NaN                  NaN   \n",
       "683555               NaN             NaN            NaN                  NaN   \n",
       "\n",
       "        WEATHER_DELAY  DELAY_OR_NOT  \n",
       "749153            NaN             0  \n",
       "475886            NaN             0  \n",
       "652920            NaN             0  \n",
       "16660             NaN             0  \n",
       "683555            NaN             0  \n",
       "\n",
       "[5 rows x 22 columns]"
      ]
     },
     "execution_count": 6,
     "metadata": {},
     "output_type": "execute_result"
    }
   ],
   "source": [
    "df2 = df1.copy()\n",
    "# df2.sort('SCHED_DEP')\n",
    "df2 = df1.sort_values(by='SCHED_DEP')\n",
    "df2.head()"
   ]
  },
  {
   "cell_type": "code",
   "execution_count": 7,
   "metadata": {},
   "outputs": [],
   "source": [
    "dep_time = df2['SCHED_DEP'].values\n",
    "dep_hour = []\n",
    "for t in dep_time:\n",
    "    dep_hour.append(t[:2])\n",
    "dep_h = list(map(int, dep_hour))\n",
    "df2['dep_hour'] = dep_h\n",
    "\n",
    "delay_dep_hours = df2.groupby('dep_hour')['DELAY_OR_NOT'].mean()\n",
    "# delay_dep_hours"
   ]
  },
  {
   "cell_type": "code",
   "execution_count": 8,
   "metadata": {},
   "outputs": [
    {
     "data": {
      "image/png": "[encoded data removed]",
      "text/plain": [
       "<matplotlib.figure.Figure at 0x1c15677eb8>"
      ]
     },
     "metadata": {},
     "output_type": "display_data"
    }
   ],
   "source": [
    "ax = delay_dep_hours.plot(kind='bar', title=\"Ratio of Delays in Every Departure Hour\", figsize=(8,6), rot=0)\n",
    "ax.set_xlabel('Departure Time (hour)')\n",
    "ax.set_ylabel('Ratio of Delays')\n",
    "plt.show()"
   ]
  },
  {
   "cell_type": "code",
   "execution_count": 9,
   "metadata": {},
   "outputs": [],
   "source": [
    "ORD_mean = df1.loc[df1['ORIGIN_AIRPORT'] == 'ORD']['DELAY_OR_NOT'].mean()\n",
    "BOS_mean = df1.loc[df1['ORIGIN_AIRPORT'] == 'BOS']['DELAY_OR_NOT'].mean()\n",
    "LAX_mean = df1.loc[df1['ORIGIN_AIRPORT'] == 'LAX']['DELAY_OR_NOT'].mean()\n",
    "JFK_mean = df1.loc[df1['ORIGIN_AIRPORT'] == 'JFK']['DELAY_OR_NOT'].mean()\n",
    "LAS_mean = df1.loc[df1['ORIGIN_AIRPORT'] == 'LAS']['DELAY_OR_NOT'].mean()\n",
    "DEN_mean = df1.loc[df1['ORIGIN_AIRPORT'] == 'DEN']['DELAY_OR_NOT'].mean()\n",
    "SEA_mean = df1.loc[df1['ORIGIN_AIRPORT'] == 'SEA']['DELAY_OR_NOT'].mean()\n",
    "SFO_mean = df1.loc[df1['ORIGIN_AIRPORT'] == 'SFO']['DELAY_OR_NOT'].mean()\n",
    "ATL_mean = df1.loc[df1['ORIGIN_AIRPORT'] == 'ATL']['DELAY_OR_NOT'].mean()\n",
    "DFW_mean = df1.loc[df1['ORIGIN_AIRPORT'] == 'DFW']['DELAY_OR_NOT'].mean()\n",
    "PHX_mean = df1.loc[df1['ORIGIN_AIRPORT'] == 'PHX']['DELAY_OR_NOT'].mean()\n",
    "IAH_mean = df1.loc[df1['ORIGIN_AIRPORT'] == 'IAH']['DELAY_OR_NOT'].mean()"
   ]
  },
  {
   "cell_type": "code",
   "execution_count": 10,
   "metadata": {},
   "outputs": [
    {
     "data": {
      "image/png": "[encoded data removed]",
      "text/plain": [
       "<matplotlib.figure.Figure at 0x1c1587d048>"
      ]
     },
     "metadata": {},
     "output_type": "display_data"
    }
   ],
   "source": [
    "plt.figure(figsize=(8, 6))\n",
    "airports = ('ORD', 'BOS', 'LAX', 'JFK', 'LAS','DEN','SEA','SFO')\n",
    "y_pos = np.arange(len(airports))\n",
    "airport_means = [ORD_mean, BOS_mean, LAX_mean, JFK_mean, LAS_mean, DEN_mean, SEA_mean, SFO_mean]\n",
    "\n",
    "plt.bar(y_pos, airport_means, align='center', width=0.5)\n",
    "plt.xticks(y_pos, airports)\n",
    "plt.ylabel('Delay Ratio')\n",
    "plt.title('Delay Ratio of Several Famous Airports')\n",
    "plt.show()"
   ]
  },
  {
   "cell_type": "code",
   "execution_count": 11,
   "metadata": {},
   "outputs": [],
   "source": [
    "DEP_rank = df1['ORIGIN_AIRPORT'].value_counts()[:10]\n",
    "ARR_rank = df1['DESTINATION_AIRPORT'].value_counts()[:10]\n",
    "# DEP_rank, ARR_rank"
   ]
  },
  {
   "cell_type": "code",
   "execution_count": 12,
   "metadata": {},
   "outputs": [
    {
     "data": {
      "text/plain": [
       "array([102555,  71887,  62990,  53364,  50658,  42103,  39563,  36489,\n",
       "        35488])"
      ]
     },
     "execution_count": 12,
     "metadata": {},
     "output_type": "execute_result"
    }
   ],
   "source": [
    "busiest = pd.concat([DEP_rank, ARR_rank], axis=1, join='inner')\n",
    "busiest[\"Traffic\"] = busiest[\"ORIGIN_AIRPORT\"] + busiest[\"DESTINATION_AIRPORT\"]\n",
    "traffic = busiest[\"Traffic\"].values\n",
    "traffic"
   ]
  },
  {
   "cell_type": "code",
   "execution_count": 13,
   "metadata": {},
   "outputs": [
    {
     "data": {
      "text/html": [
       "<div>\n",
       "<style>\n",
       "    .dataframe thead tr:only-child th {\n",
       "        text-align: right;\n",
       "    }\n",
       "\n",
       "    .dataframe thead th {\n",
       "        text-align: left;\n",
       "    }\n",
       "\n",
       "    .dataframe tbody tr th {\n",
       "        vertical-align: top;\n",
       "    }\n",
       "</style>\n",
       "<table border=\"1\" class=\"dataframe\">\n",
       "  <thead>\n",
       "    <tr style=\"text-align: right;\">\n",
       "      <th></th>\n",
       "      <th>ORIGIN_AIRPORT</th>\n",
       "      <th>DESTINATION_AIRPORT</th>\n",
       "      <th>Traffic</th>\n",
       "    </tr>\n",
       "  </thead>\n",
       "  <tbody>\n",
       "    <tr>\n",
       "      <th>ATL</th>\n",
       "      <td>50537</td>\n",
       "      <td>52018</td>\n",
       "      <td>102555</td>\n",
       "    </tr>\n",
       "    <tr>\n",
       "      <th>ORD</th>\n",
       "      <td>34829</td>\n",
       "      <td>37058</td>\n",
       "      <td>71887</td>\n",
       "    </tr>\n",
       "    <tr>\n",
       "      <th>DFW</th>\n",
       "      <td>31217</td>\n",
       "      <td>31773</td>\n",
       "      <td>62990</td>\n",
       "    </tr>\n",
       "    <tr>\n",
       "      <th>DEN</th>\n",
       "      <td>25876</td>\n",
       "      <td>27488</td>\n",
       "      <td>53364</td>\n",
       "    </tr>\n",
       "    <tr>\n",
       "      <th>LAX</th>\n",
       "      <td>25870</td>\n",
       "      <td>24788</td>\n",
       "      <td>50658</td>\n",
       "    </tr>\n",
       "    <tr>\n",
       "      <th>PHX</th>\n",
       "      <td>21429</td>\n",
       "      <td>20674</td>\n",
       "      <td>42103</td>\n",
       "    </tr>\n",
       "    <tr>\n",
       "      <th>IAH</th>\n",
       "      <td>19868</td>\n",
       "      <td>19695</td>\n",
       "      <td>39563</td>\n",
       "    </tr>\n",
       "    <tr>\n",
       "      <th>SFO</th>\n",
       "      <td>18056</td>\n",
       "      <td>18433</td>\n",
       "      <td>36489</td>\n",
       "    </tr>\n",
       "    <tr>\n",
       "      <th>LAS</th>\n",
       "      <td>17496</td>\n",
       "      <td>17992</td>\n",
       "      <td>35488</td>\n",
       "    </tr>\n",
       "  </tbody>\n",
       "</table>\n",
       "</div>"
      ],
      "text/plain": [
       "     ORIGIN_AIRPORT  DESTINATION_AIRPORT  Traffic\n",
       "ATL           50537                52018   102555\n",
       "ORD           34829                37058    71887\n",
       "DFW           31217                31773    62990\n",
       "DEN           25876                27488    53364\n",
       "LAX           25870                24788    50658\n",
       "PHX           21429                20674    42103\n",
       "IAH           19868                19695    39563\n",
       "SFO           18056                18433    36489\n",
       "LAS           17496                17992    35488"
      ]
     },
     "execution_count": 13,
     "metadata": {},
     "output_type": "execute_result"
    }
   ],
   "source": [
    "busiest"
   ]
  },
  {
   "cell_type": "code",
   "execution_count": 14,
   "metadata": {},
   "outputs": [
    {
     "data": {
      "image/png": "[encoded data removed]",
      "text/plain": [
       "<matplotlib.figure.Figure at 0x1c15916cc0>"
      ]
     },
     "metadata": {},
     "output_type": "display_data"
    }
   ],
   "source": [
    "fig,ax1 = plt.subplots(figsize=(8, 6))\n",
    "busiest_airports = ('ATL', 'ORD', 'DFW', 'DEN', 'LAS','PHX','IAH','SFO','LAS')\n",
    "y_pos = np.arange(len(busiest_airports))\n",
    "busiest_delay = [ATL_mean, ORD_mean, DFW_mean, DEN_mean, LAS_mean, PHX_mean, IAH_mean, SFO_mean, LAS_mean]\n",
    "\n",
    "ax1.bar(y_pos, traffic, align='center', width=0.5, color = 'C0', alpha = 0.5)\n",
    "plt.xticks(y_pos, busiest_airports)\n",
    "ax1.set_ylabel('Airport Traffic (Dep. + Arr.)', color = 'C0')\n",
    "ax1.set_title('Delay Ratio of Several Famous Airports')\n",
    "\n",
    "ax2 = ax1.twinx()\n",
    "ax2.plot(y_pos, busiest_delay, marker = 'o', color = 'green', alpha = 0.7)\n",
    "ax2.set_ylabel('Delay Ratio', color = 'green')\n",
    "\n",
    "plt.show()"
   ]
  },
  {
   "cell_type": "markdown",
   "metadata": {},
   "source": [
    "### 4. (20pts) Build a classification model that classifies delays according to DELAY_OR_NOT. This is an unbalanced dataset, thus consider the appropriate performance metric when reporting your results."
   ]
  },
  {
   "cell_type": "code",
   "execution_count": 15,
   "metadata": {},
   "outputs": [],
   "source": [
    "# df_exam = df.copy()\n",
    "# # df_exam.fillna(value=0, inplace=True)\n",
    "# useful_cols = ['MONTH','DAY_OF_WEEK', 'AIRLINE', 'DEPARTURE_DELAY', 'DISTANCE', 'DELAY_OR_NOT']\n",
    "# #                'SCHEDULED_TIME', 'ELAPSED_TIME', 'AIR_SYSTEM_DELAY', 'SECURITY_DELAY', \\\n",
    "# #                'AIRLINE_DELAY', 'LATE_AIRCRAFT_DELAY', 'WEATHER_DELAY']\n",
    "# df_exam = df_exam[useful_cols]\n",
    "# df_exam.shape\n",
    "# # df_exam.isnull().values.any()"
   ]
  },
  {
   "cell_type": "code",
   "execution_count": 16,
   "metadata": {},
   "outputs": [],
   "source": [
    "# list(df1)"
   ]
  },
  {
   "cell_type": "code",
   "execution_count": 17,
   "metadata": {},
   "outputs": [],
   "source": [
    "# df = df1.copy()\n",
    "# # 'ORIGIN_AIRPORT', 'DESTINATION_AIRPORT',\n",
    "# df = df[['AIRLINE', 'DEPARTURE_DELAY', 'ARRIVAL_DELAY', \\\n",
    "#          'SCHEDULED_TIME', 'ELAPSED_TIME', 'DATE', 'DELAY_OR_NOT']]\n",
    "# #          'AIR_SYSTEM_DELAY','SECURITY_DELAY','AIRLINE_DELAY','LATE_AIRCRAFT_DELAY','WEATHER_DELAY','DELAY_OR_NOT']]"
   ]
  },
  {
   "cell_type": "markdown",
   "metadata": {},
   "source": [
    "### Base Model: with only one prediction \"Airline\""
   ]
  },
  {
   "cell_type": "code",
   "execution_count": 18,
   "metadata": {},
   "outputs": [],
   "source": [
    "df_base = df1.copy()\n",
    "df_base = df_base[['AIRLINE', 'DATE', 'DELAY_OR_NOT']]"
   ]
  },
  {
   "cell_type": "markdown",
   "metadata": {},
   "source": [
    "- Since it is a very large dataset, I select the data from January 2015, and use the first three weeks as a training set, and the last week as a test set."
   ]
  },
  {
   "cell_type": "code",
   "execution_count": 19,
   "metadata": {},
   "outputs": [],
   "source": [
    "df_base['DATE'] = pd.to_datetime(df_base['DATE'])\n",
    "df_train_base = df_base[df_base['DATE'].apply(lambda x:x.date()) < datetime.date(2015, 1, 23)]\n",
    "df_test_base = df_base[df_base['DATE'].apply(lambda x:x.date()) < datetime.date(2015, 1, 31)]\n",
    "df_test_base = df_test_base[df_test_base['DATE'].apply(lambda x:x.date()) > datetime.date(2015, 1, 23)]"
   ]
  },
  {
   "cell_type": "code",
   "execution_count": 20,
   "metadata": {},
   "outputs": [],
   "source": [
    "categorical_cols = ['AIRLINE']\n",
    "df_train_base = pd.get_dummies(df_train_base, columns=categorical_cols, drop_first=True)\n",
    "df_test_base = pd.get_dummies(df_test_base, columns=categorical_cols, drop_first=True)\n",
    "# df_train.head()"
   ]
  },
  {
   "cell_type": "code",
   "execution_count": 21,
   "metadata": {},
   "outputs": [],
   "source": [
    "X_train_base = df_train_base.drop(['DATE','DELAY_OR_NOT'], axis=1)\n",
    "y_train_base = df_train_base['DELAY_OR_NOT']\n",
    "X_test_base = df_test_base.drop(['DATE','DELAY_OR_NOT'], axis=1)\n",
    "y_test_base = df_test_base['DELAY_OR_NOT']"
   ]
  },
  {
   "cell_type": "code",
   "execution_count": 22,
   "metadata": {},
   "outputs": [
    {
     "name": "stdout",
     "output_type": "stream",
     "text": [
      "Train accuracy (base model):  0.849155260161\n",
      "Test accuracy (base model):  0.908758590437\n"
     ]
    }
   ],
   "source": [
    "logreg = LogisticRegression(C=100000, fit_intercept=False)\n",
    "logreg.fit(X_train_base, y_train_base)\n",
    "y_hat_train_base = logreg.predict(X_train_base)\n",
    "y_hat_test_base = logreg.predict(X_test_base)\n",
    "print(\"Train accuracy (base model): \", logreg.score(X_train_base, y_train_base))\n",
    "print(\"Test accuracy (base model): \", logreg.score(X_test_base, y_test_base))"
   ]
  },
  {
   "cell_type": "code",
   "execution_count": 23,
   "metadata": {},
   "outputs": [
    {
     "name": "stdout",
     "output_type": "stream",
     "text": [
      "Train accuracy (base model):  0.849155260161\n",
      "Test accuracy (base model):  0.908758590437\n"
     ]
    }
   ],
   "source": [
    "logregcv = LogisticRegressionCV()\n",
    "logregcv.fit(X_train_base, y_train_base)\n",
    "y_hat_train_base = logregcv.predict(X_train_base)\n",
    "y_hat_test_base = logregcv.predict(X_test_base)\n",
    "print(\"Train accuracy (base model): \", logregcv.score(X_train_base, y_train_base))\n",
    "print(\"Test accuracy (base model): \", logregcv.score(X_test_base, y_test_base))"
   ]
  },
  {
   "cell_type": "markdown",
   "metadata": {},
   "source": [
    "### Check AUC of the base model:"
   ]
  },
  {
   "cell_type": "code",
   "execution_count": 24,
   "metadata": {},
   "outputs": [
    {
     "name": "stdout",
     "output_type": "stream",
     "text": [
      "AUC of the base model: 0.632110524063\n"
     ]
    }
   ],
   "source": [
    "preds_base = logregcv.predict_proba(X_test_base)[:,1]\n",
    "fpr1, tpr1, thresholds = roc_curve(y_test_base, preds_base)\n",
    "roc_auc1 = auc(fpr1, tpr1)\n",
    "print(\"AUC of the base model:\", roc_auc1)"
   ]
  },
  {
   "cell_type": "code",
   "execution_count": 25,
   "metadata": {
    "collapsed": true
   },
   "outputs": [],
   "source": [
    "def make_roc(name, clf, ytest, xtest, ax=None, labe=5, proba=True, skip=0):\n",
    "    initial=False\n",
    "    if not ax:\n",
    "        ax=plt.gca()\n",
    "        initial=True\n",
    "    if proba:#for stuff like logistic regression\n",
    "        fpr, tpr, thresholds=roc_curve(ytest, clf.predict_proba(xtest)[:,1])\n",
    "    else:#for stuff like SVM\n",
    "        fpr, tpr, thresholds=roc_curve(ytest, clf.decision_function(xtest))\n",
    "    roc_auc = auc(fpr, tpr)\n",
    "    if skip:\n",
    "        l=fpr.shape[0]\n",
    "        ax.plot(fpr[0:l:skip], tpr[0:l:skip], '.-', alpha=0.3, label='ROC curve for %s (area = %0.2f)' % (name, roc_auc))\n",
    "    else:\n",
    "        ax.plot(fpr, tpr, '.-', alpha=0.3, label='ROC curve for %s (area = %0.2f)' % (name, roc_auc))\n",
    "    label_kwargs = {}\n",
    "    label_kwargs['bbox'] = dict(\n",
    "        boxstyle='round,pad=0.1', alpha=0.2,\n",
    "    )\n",
    "    if labe!=None:\n",
    "        for k in range(0, fpr.shape[0],labe):\n",
    "            #from https://gist.github.com/podshumok/c1d1c9394335d86255b8\n",
    "            threshold = str(np.round(thresholds[k], 3))\n",
    "            ax.annotate(threshold, (fpr[k], tpr[k]), **label_kwargs)\n",
    "    if initial:\n",
    "        ax.plot([0, 1], [0, 1], 'k--')\n",
    "        ax.set_xlim([0.0, 1.0])\n",
    "        ax.set_ylim([0.0, 1.05])\n",
    "        ax.set_xlabel('False Positive Rate')\n",
    "        ax.set_ylabel('True Positive Rate')\n",
    "        ax.set_title('ROC')\n",
    "    ax.legend(loc=\"lower right\")\n",
    "    return ax"
   ]
  },
  {
   "cell_type": "code",
   "execution_count": 26,
   "metadata": {},
   "outputs": [
    {
     "data": {
      "image/png": "[encoded data removed]",
      "text/plain": [
       "<matplotlib.figure.Figure at 0x1c15b8a2b0>"
      ]
     },
     "metadata": {},
     "output_type": "display_data"
    }
   ],
   "source": [
    "sns.set_context(\"poster\")\n",
    "plt.figure(figsize=(8,6))\n",
    "ax=make_roc(\"base model\",logregcv, y_test_base, X_test_base, labe=2, skip=10)"
   ]
  },
  {
   "cell_type": "markdown",
   "metadata": {},
   "source": [
    "### Now we introduce more predictors:"
   ]
  },
  {
   "cell_type": "code",
   "execution_count": 27,
   "metadata": {},
   "outputs": [],
   "source": [
    "# df = df1.copy()\n",
    "# # df = df[['AIRLINE', 'DEPARTURE_DELAY', \\\n",
    "# #          'SCHEDULED_TIME', 'ELAPSED_TIME', 'DATE', 'DELAY_OR_NOT']]\n",
    "# df = df[['AIRLINE','DISTANCE', 'DAY_OF_WEEK',\\\n",
    "#          'SCHEDULED_TIME', 'DATE', 'DELAY_OR_NOT']]\n",
    "# # df['dep_hour'] = dep_h\n",
    "\n",
    "# df['DATE'] = pd.to_datetime(df['DATE'])\n",
    "# df_train = df[df['DATE'].apply(lambda x:x.date()) < datetime.date(2015, 1, 23)]\n",
    "# df_test = df[df['DATE'].apply(lambda x:x.date()) < datetime.date(2015, 1, 31)]\n",
    "# df_test = df_test[df_test['DATE'].apply(lambda x:x.date()) > datetime.date(2015, 1, 23)]\n",
    "# df_train.shape, df_test.shape\n",
    "\n",
    "# categorical_cols = ['AIRLINE']\n",
    "# df_train = pd.get_dummies(df_train, columns=categorical_cols, drop_first=True)\n",
    "# df_test = pd.get_dummies(df_test, columns=categorical_cols, drop_first=True)\n",
    "\n",
    "# X_train = df_train.drop(['DATE','DELAY_OR_NOT'], axis=1)\n",
    "# y_train = df_train['DELAY_OR_NOT']\n",
    "# X_test = df_test.drop(['DATE','DELAY_OR_NOT'], axis=1)\n",
    "# y_test = df_test['DELAY_OR_NOT']\n",
    "\n",
    "# logreg = LogisticRegression(C=100000, fit_intercept=False)\n",
    "# logreg.fit(X_train, y_train)\n",
    "# y_hat_train = logreg.predict(X_train)\n",
    "# y_hat_test = logreg.predict(X_test)\n",
    "# print(\"Train accuracy (fitted model): \", logreg.score(X_train, y_train))\n",
    "# print(\"Test accuracy (fitted model): \", logreg.score(X_test, y_test))\n",
    "\n",
    "# preds = logreg.predict_proba(X_test)[:,1]\n",
    "# fpr, tpr, thresholds = roc_curve(y_test, preds)\n",
    "# roc_auc = auc(fpr, tpr)\n",
    "# print(\"AUC of the fitted model:\", roc_auc)\n",
    "\n",
    "# df.head()"
   ]
  },
  {
   "cell_type": "code",
   "execution_count": 28,
   "metadata": {},
   "outputs": [],
   "source": [
    "# logregcv = LogisticRegressionCV()\n",
    "# logregcv.fit(X_train, y_train)\n",
    "# y_hat_train_cv = logregcv.predict(X_train)\n",
    "# y_hat_test_cv = logregcv.predict(X_test)\n",
    "# print(\"Train accuracy (fitted model): \", logregcv.score(X_train, y_train))\n",
    "# print(\"Test accuracy (fitted model): \", logregcv.score(X_test, y_test))\n",
    "\n",
    "# preds_cv = logregcv.predict_proba(X_test)[:,1]\n",
    "# fpr_cv, tpr_cv, thresholds_cv = roc_curve(y_test, preds_cv)\n",
    "# roc_auc_cv = auc(fpr_cv, tpr_cv)\n",
    "# print(\"AUC of the fitted model using cross validation:\", roc_auc_cv)"
   ]
  },
  {
   "cell_type": "code",
   "execution_count": 29,
   "metadata": {},
   "outputs": [],
   "source": [
    "df3 = df1.copy()\n",
    "df3.head()\n",
    "\n",
    "# total_airports = df3['ORIGIN_AIRPORT'].unique().tolist()\n",
    "# for a in total_airports:\n",
    "#     if a.startswith(\"1\"):\n",
    "#         total_airports.remove(a)\n",
    "\n",
    "total_airports = df1['ORIGIN_AIRPORT'].value_counts()[:40]\n",
    "total_airports = total_airports.index.tolist()\n",
    "\n",
    "df3 = df3[['AIRLINE','DISTANCE', 'DAY_OF_WEEK', 'ORIGIN_AIRPORT', 'DESTINATION_AIRPORT',\\\n",
    "         'SCHEDULED_TIME', 'DATE', 'DELAY_OR_NOT']]\n",
    "df3 = df3[df3['ORIGIN_AIRPORT'].isin(total_airports)]\n",
    "df3 = df3[df3['DESTINATION_AIRPORT'].isin(total_airports)]\n",
    "\n",
    "\n",
    "\n",
    "df3['DATE'] = pd.to_datetime(df3['DATE'])\n",
    "df_train3 = df3[df3['DATE'].apply(lambda x:x.date()) < datetime.date(2015, 1, 23)]\n",
    "df_test3 = df3[df3['DATE'].apply(lambda x:x.date()) < datetime.date(2015, 1, 31)]\n",
    "df_test3 = df_test3[df_test3['DATE'].apply(lambda x:x.date()) > datetime.date(2015, 1, 23)]\n",
    "\n",
    "categorical_cols = ['AIRLINE', 'ORIGIN_AIRPORT', 'DESTINATION_AIRPORT']\n",
    "df_train3 = pd.get_dummies(df_train3, columns=categorical_cols, drop_first=True)\n",
    "df_test3 = pd.get_dummies(df_test3, columns=categorical_cols, drop_first=True)\n",
    "\n",
    "df_train3 = df_train3.reset_index(drop=True)\n",
    "\n",
    "X_train3 = df_train3.drop(['DATE','DELAY_OR_NOT'], axis=1)\n",
    "y_train3 = df_train3['DELAY_OR_NOT']\n",
    "X_test3 = df_test3.drop(['DATE','DELAY_OR_NOT'], axis=1)\n",
    "y_test3 = df_test3['DELAY_OR_NOT']"
   ]
  },
  {
   "cell_type": "code",
   "execution_count": 30,
   "metadata": {},
   "outputs": [
    {
     "name": "stdout",
     "output_type": "stream",
     "text": [
      "Train accuracy (fitted model):  0.855841299762\n",
      "Test accuracy (fitted model):  0.910750215579\n",
      "AUC of the fitted model: 0.695213747707\n"
     ]
    }
   ],
   "source": [
    "logregcv = LogisticRegressionCV()\n",
    "logregcv.fit(X_train3, y_train3)\n",
    "y_hat_train3 = logregcv.predict(X_train3)\n",
    "y_hat_test3 = logregcv.predict(X_test3)\n",
    "print(\"Train accuracy (fitted model): \", logregcv.score(X_train3, y_train3))\n",
    "print(\"Test accuracy (fitted model): \", logregcv.score(X_test3, y_test3))\n",
    "\n",
    "preds3 = logregcv.predict_proba(X_test3)[:,1]\n",
    "fpr3, tpr3, thresholds3 = roc_curve(y_test3, preds3)\n",
    "roc_auc3 = auc(fpr3, tpr3)\n",
    "print(\"AUC of the fitted model:\", roc_auc3)"
   ]
  },
  {
   "cell_type": "code",
   "execution_count": 31,
   "metadata": {},
   "outputs": [
    {
     "data": {
      "image/png": "[encoded data removed]",
      "text/plain": [
       "<matplotlib.figure.Figure at 0x1c161fbc88>"
      ]
     },
     "metadata": {},
     "output_type": "display_data"
    }
   ],
   "source": [
    "sns.set_context(\"poster\")\n",
    "plt.figure(figsize=(8,6))\n",
    "ax=make_roc(\"logistic\",logregcv, y_test3, X_test3, labe=150, skip=10)"
   ]
  },
  {
   "cell_type": "code",
   "execution_count": 32,
   "metadata": {},
   "outputs": [
    {
     "data": {
      "text/html": [
       "<div>\n",
       "<style>\n",
       "    .dataframe thead tr:only-child th {\n",
       "        text-align: right;\n",
       "    }\n",
       "\n",
       "    .dataframe thead th {\n",
       "        text-align: left;\n",
       "    }\n",
       "\n",
       "    .dataframe tbody tr th {\n",
       "        vertical-align: top;\n",
       "    }\n",
       "</style>\n",
       "<table border=\"1\" class=\"dataframe\">\n",
       "  <thead>\n",
       "    <tr style=\"text-align: right;\">\n",
       "      <th></th>\n",
       "      <th>y_hat=0</th>\n",
       "      <th>y_hat = 1</th>\n",
       "    </tr>\n",
       "  </thead>\n",
       "  <tbody>\n",
       "    <tr>\n",
       "      <th>y=0</th>\n",
       "      <td>6324</td>\n",
       "      <td>8</td>\n",
       "    </tr>\n",
       "    <tr>\n",
       "      <th>y=1</th>\n",
       "      <td>613</td>\n",
       "      <td>13</td>\n",
       "    </tr>\n",
       "  </tbody>\n",
       "</table>\n",
       "</div>"
      ],
      "text/plain": [
       "     y_hat=0  y_hat = 1\n",
       "y=0     6324          8\n",
       "y=1      613         13"
      ]
     },
     "execution_count": 32,
     "metadata": {},
     "output_type": "execute_result"
    }
   ],
   "source": [
    "conf_mat = confusion_matrix(y_test3, y_hat_test3)\n",
    "conf_df = pd.DataFrame(conf_mat, columns = ['y_hat=0', 'y_hat = 1'], index = ['y=0', 'y=1'])\n",
    "conf_df"
   ]
  },
  {
   "cell_type": "code",
   "execution_count": 33,
   "metadata": {},
   "outputs": [
    {
     "name": "stdout",
     "output_type": "stream",
     "text": [
      "True Positive Rate for Fitted:  0.0207667731629\n",
      "True Negative Rate for Fitted:  0.998736576121\n"
     ]
    }
   ],
   "source": [
    "print(\"True Positive Rate for Fitted: \", float(conf_mat[1][1])/(conf_mat[1][1]+ conf_mat[1][0]))\n",
    "print(\"True Negative Rate for Fitted: \", float(conf_mat[0][0])/(conf_mat[0][0] + conf_mat[0][1]))"
   ]
  },
  {
   "cell_type": "code",
   "execution_count": 34,
   "metadata": {},
   "outputs": [
    {
     "name": "stdout",
     "output_type": "stream",
     "text": [
      "TPR when FPR=0.5: 0.744408945687\n",
      "Threshold when FPR=0.5: 0.125616445479\n"
     ]
    }
   ],
   "source": [
    "print(\"TPR when FPR=0.5:\", tpr3[np.min([i for i, x in enumerate(fpr3) if x>=0.5])])\n",
    "print(\"Threshold when FPR=0.5:\",thresholds3[np.min([i for i, x in enumerate(fpr3) if x>=0.5])])"
   ]
  },
  {
   "cell_type": "code",
   "execution_count": 35,
   "metadata": {},
   "outputs": [],
   "source": [
    "# missing_df = df.isnull().sum(axis=0).reset_index()\n",
    "# missing_df.columns = ['variable', 'missing values']\n",
    "# missing_df['filling factor (%)']=(df.shape[0]-missing_df['missing values'])/df.shape[0]*100\n",
    "# missing_df.sort_values('filling factor (%)').reset_index(drop = True)"
   ]
  },
  {
   "cell_type": "markdown",
   "metadata": {},
   "source": [
    "### 5. (5pts) Given your model, comment on the importance of factors as related to whether a flight is delayed."
   ]
  },
  {
   "cell_type": "code",
   "execution_count": 36,
   "metadata": {},
   "outputs": [
    {
     "data": {
      "text/plain": [
       "{'Cs': 10,\n",
       " 'class_weight': None,\n",
       " 'cv': None,\n",
       " 'dual': False,\n",
       " 'fit_intercept': True,\n",
       " 'intercept_scaling': 1.0,\n",
       " 'max_iter': 100,\n",
       " 'multi_class': 'ovr',\n",
       " 'n_jobs': 1,\n",
       " 'penalty': 'l2',\n",
       " 'random_state': None,\n",
       " 'refit': True,\n",
       " 'scoring': None,\n",
       " 'solver': 'lbfgs',\n",
       " 'tol': 0.0001,\n",
       " 'verbose': 0}"
      ]
     },
     "execution_count": 36,
     "metadata": {},
     "output_type": "execute_result"
    }
   ],
   "source": [
    "logregcv.get_params()"
   ]
  },
  {
   "cell_type": "code",
   "execution_count": 37,
   "metadata": {},
   "outputs": [],
   "source": [
    "# logregcv.coef_"
   ]
  },
  {
   "cell_type": "code",
   "execution_count": 38,
   "metadata": {},
   "outputs": [],
   "source": [
    "X_train3m = X_train3.as_matrix()\n",
    "y_train3m = y_train3.as_matrix()"
   ]
  },
  {
   "cell_type": "code",
   "execution_count": 39,
   "metadata": {},
   "outputs": [
    {
     "data": {
      "text/plain": [
       "(94, 100)"
      ]
     },
     "execution_count": 39,
     "metadata": {},
     "output_type": "execute_result"
    }
   ],
   "source": [
    "B = 100 # Number of iterations\n",
    "\n",
    "boot_coefs = np.zeros((X_train3m.shape[1],B)) # Create empty storage array for later use\n",
    "\n",
    "for i in range(B):\n",
    "    # Sampling WITH replacement the indices of a resampled dataset\n",
    "    sample_index = np.random.choice(range(len(y_train3m)), size=len(y_train3m), replace=True)\n",
    "    X_train_samples = X_train3m[sample_index]\n",
    "    y_train_samples = y_train3m[sample_index]\n",
    "    \n",
    "    logistic_mod_boot = LogisticRegression(C=10, fit_intercept=False)\n",
    "    logistic_mod_boot.fit(X_train_samples, y_train_samples)\n",
    "    boot_coefs[:,i] = logistic_mod_boot.coef_\n",
    "\n",
    "boot_coefs.shape"
   ]
  },
  {
   "cell_type": "code",
   "execution_count": 40,
   "metadata": {
    "collapsed": true
   },
   "outputs": [],
   "source": [
    "ci_upper = np.percentile(boot_coefs, 97.5, axis=1)\n",
    "ci_lower = np.percentile(boot_coefs, 2.5, axis=1)"
   ]
  },
  {
   "cell_type": "code",
   "execution_count": 41,
   "metadata": {},
   "outputs": [
    {
     "name": "stdout",
     "output_type": "stream",
     "text": [
      "Significant coefficents at 5pct level = 57 / 94\n"
     ]
    }
   ],
   "source": [
    "sig_b_ct = 0\n",
    "\n",
    "# if ci contains 0, then insignificant\n",
    "idx = []\n",
    "for i in range(len(ci_upper)):\n",
    "    if ci_upper[i]<0 or ci_lower[i]>0:\n",
    "        sig_b_ct += 1\n",
    "        idx.append(i)\n",
    "\n",
    "print(\"Significant coefficents at 5pct level = %i / %i\" % (sig_b_ct, X_train3.shape[1]))"
   ]
  },
  {
   "cell_type": "code",
   "execution_count": 42,
   "metadata": {},
   "outputs": [
    {
     "data": {
      "text/plain": [
       "['DISTANCE',\n",
       " 'SCHEDULED_TIME',\n",
       " 'AIRLINE_AS',\n",
       " 'AIRLINE_DL',\n",
       " 'AIRLINE_F9',\n",
       " 'AIRLINE_HA',\n",
       " 'AIRLINE_MQ',\n",
       " 'AIRLINE_NK',\n",
       " 'AIRLINE_OO',\n",
       " 'AIRLINE_US',\n",
       " 'AIRLINE_VX',\n",
       " 'ORIGIN_AIRPORT_AUS',\n",
       " 'ORIGIN_AIRPORT_BNA',\n",
       " 'ORIGIN_AIRPORT_BOS',\n",
       " 'ORIGIN_AIRPORT_BWI',\n",
       " 'ORIGIN_AIRPORT_DCA',\n",
       " 'ORIGIN_AIRPORT_DFW',\n",
       " 'ORIGIN_AIRPORT_DTW',\n",
       " 'ORIGIN_AIRPORT_EWR',\n",
       " 'ORIGIN_AIRPORT_FLL',\n",
       " 'ORIGIN_AIRPORT_HNL',\n",
       " 'ORIGIN_AIRPORT_IAH',\n",
       " 'ORIGIN_AIRPORT_JFK',\n",
       " 'ORIGIN_AIRPORT_LAS',\n",
       " 'ORIGIN_AIRPORT_LAX',\n",
       " 'ORIGIN_AIRPORT_LGA',\n",
       " 'ORIGIN_AIRPORT_MCI',\n",
       " 'ORIGIN_AIRPORT_MDW',\n",
       " 'ORIGIN_AIRPORT_MIA',\n",
       " 'ORIGIN_AIRPORT_MSY',\n",
       " 'ORIGIN_AIRPORT_OAK',\n",
       " 'ORIGIN_AIRPORT_ORD',\n",
       " 'ORIGIN_AIRPORT_PDX',\n",
       " 'ORIGIN_AIRPORT_PHL',\n",
       " 'ORIGIN_AIRPORT_PHX',\n",
       " 'ORIGIN_AIRPORT_SAN',\n",
       " 'ORIGIN_AIRPORT_SEA',\n",
       " 'ORIGIN_AIRPORT_SJC',\n",
       " 'ORIGIN_AIRPORT_SLC',\n",
       " 'ORIGIN_AIRPORT_SMF',\n",
       " 'ORIGIN_AIRPORT_SNA',\n",
       " 'ORIGIN_AIRPORT_TPA',\n",
       " 'DESTINATION_AIRPORT_BOS',\n",
       " 'DESTINATION_AIRPORT_BWI',\n",
       " 'DESTINATION_AIRPORT_CLT',\n",
       " 'DESTINATION_AIRPORT_DCA',\n",
       " 'DESTINATION_AIRPORT_LAS',\n",
       " 'DESTINATION_AIRPORT_LAX',\n",
       " 'DESTINATION_AIRPORT_LGA',\n",
       " 'DESTINATION_AIRPORT_ORD',\n",
       " 'DESTINATION_AIRPORT_PHL',\n",
       " 'DESTINATION_AIRPORT_SEA',\n",
       " 'DESTINATION_AIRPORT_SFO',\n",
       " 'DESTINATION_AIRPORT_SMF',\n",
       " 'DESTINATION_AIRPORT_SNA',\n",
       " 'DESTINATION_AIRPORT_STL',\n",
       " 'DESTINATION_AIRPORT_TPA']"
      ]
     },
     "execution_count": 42,
     "metadata": {},
     "output_type": "execute_result"
    }
   ],
   "source": [
    "sig_cols = []\n",
    "for i in idx:\n",
    "    sig_cols.append(X_train3.columns[i])\n",
    "sig_cols"
   ]
  },
  {
   "cell_type": "markdown",
   "metadata": {},
   "source": [
    "### 6. (5pts) Evaluate your model(s) on your test set, and finally provide a visual to show which airlines are predicted to have the most delays using all the data excluding the training and test set."
   ]
  },
  {
   "cell_type": "code",
   "execution_count": 43,
   "metadata": {
    "collapsed": true
   },
   "outputs": [],
   "source": [
    "df_test_rest = df3[df3['DATE'].apply(lambda x:x.date()) > datetime.date(2015, 1, 31)]\n",
    "categorical_cols = ['AIRLINE', 'ORIGIN_AIRPORT', 'DESTINATION_AIRPORT']\n",
    "df_test_rest = pd.get_dummies(df_test_rest, columns=categorical_cols, drop_first=True)\n",
    "X_test_rest = df_test_rest.drop(['DATE','DELAY_OR_NOT'], axis=1)\n",
    "y_test_rest = df_test_rest['DELAY_OR_NOT']"
   ]
  },
  {
   "cell_type": "code",
   "execution_count": 44,
   "metadata": {},
   "outputs": [
    {
     "name": "stdout",
     "output_type": "stream",
     "text": [
      "The rest of test set (excluding training and test) accuracy:  0.883175614873\n"
     ]
    }
   ],
   "source": [
    "df_test_rest.shape\n",
    "print(\"The rest of test set (excluding training and test) accuracy: \", logregcv.score(X_test_rest, y_test_rest))\n",
    "\n",
    "y_hat_test_rest = logregcv.predict(X_test_rest)"
   ]
  },
  {
   "cell_type": "code",
   "execution_count": 45,
   "metadata": {},
   "outputs": [
    {
     "data": {
      "text/html": [
       "<div>\n",
       "<style>\n",
       "    .dataframe thead tr:only-child th {\n",
       "        text-align: right;\n",
       "    }\n",
       "\n",
       "    .dataframe thead th {\n",
       "        text-align: left;\n",
       "    }\n",
       "\n",
       "    .dataframe tbody tr th {\n",
       "        vertical-align: top;\n",
       "    }\n",
       "</style>\n",
       "<table border=\"1\" class=\"dataframe\">\n",
       "  <thead>\n",
       "    <tr style=\"text-align: right;\">\n",
       "      <th></th>\n",
       "      <th>y_hat=0</th>\n",
       "      <th>y_hat = 1</th>\n",
       "    </tr>\n",
       "  </thead>\n",
       "  <tbody>\n",
       "    <tr>\n",
       "      <th>y=0</th>\n",
       "      <td>307313</td>\n",
       "      <td>1026</td>\n",
       "    </tr>\n",
       "    <tr>\n",
       "      <th>y=1</th>\n",
       "      <td>39738</td>\n",
       "      <td>857</td>\n",
       "    </tr>\n",
       "  </tbody>\n",
       "</table>\n",
       "</div>"
      ],
      "text/plain": [
       "     y_hat=0  y_hat = 1\n",
       "y=0   307313       1026\n",
       "y=1    39738        857"
      ]
     },
     "execution_count": 45,
     "metadata": {},
     "output_type": "execute_result"
    }
   ],
   "source": [
    "conf_mat2 = confusion_matrix(y_test_rest, y_hat_test_rest)\n",
    "conf_df2 = pd.DataFrame(conf_mat2, columns = ['y_hat=0', 'y_hat = 1'], index = ['y=0', 'y=1'])\n",
    "conf_df2"
   ]
  },
  {
   "cell_type": "code",
   "execution_count": 46,
   "metadata": {},
   "outputs": [
    {
     "name": "stdout",
     "output_type": "stream",
     "text": [
      "True Positive Rate for the rest test set:  0.0211109742579\n",
      "True Negative Rate for the rest test set:  0.996672493587\n"
     ]
    }
   ],
   "source": [
    "print(\"True Positive Rate for the rest test set: \", float(conf_mat2[1][1])/(conf_mat2[1][1]+ conf_mat2[1][0]))\n",
    "print(\"True Negative Rate for the rest test set: \", float(conf_mat2[0][0])/(conf_mat2[0][0] + conf_mat2[0][1]))"
   ]
  },
  {
   "cell_type": "code",
   "execution_count": 47,
   "metadata": {},
   "outputs": [
    {
     "name": "stdout",
     "output_type": "stream",
     "text": [
      "AUC of the fitted model: 0.676359441489\n"
     ]
    }
   ],
   "source": [
    "preds_rest = logregcv.predict_proba(X_test_rest)[:,1]\n",
    "fpr_rest, tpr_rest, thresholds_rest = roc_curve(y_test_rest, preds_rest)\n",
    "roc_auc_rest = auc(fpr_rest, tpr_rest)\n",
    "print(\"AUC of the fitted model:\", roc_auc_rest)"
   ]
  },
  {
   "cell_type": "code",
   "execution_count": 48,
   "metadata": {},
   "outputs": [
    {
     "name": "stdout",
     "output_type": "stream",
     "text": [
      "TPR when FPR=0.5: 0.744771523587\n",
      "Threshold when FPR=0.5: 0.133186073507\n"
     ]
    }
   ],
   "source": [
    "print(\"TPR when FPR=0.5:\", tpr_rest[np.min([i for i, x in enumerate(fpr_rest) if x>=0.5])])\n",
    "print(\"Threshold when FPR=0.5:\",thresholds_rest[np.min([i for i, x in enumerate(fpr_rest) if x>=0.5])])"
   ]
  },
  {
   "cell_type": "code",
   "execution_count": 49,
   "metadata": {},
   "outputs": [
    {
     "data": {
      "text/plain": [
       "Airline\n",
       "AA    0.000000\n",
       "AS    0.000000\n",
       "B6    0.000000\n",
       "DL    0.000000\n",
       "EV    0.000000\n",
       "F9    0.017585\n",
       "HA    0.000000\n",
       "MQ    0.040847\n",
       "NK    0.163139\n",
       "OO    0.000796\n",
       "UA    0.009484\n",
       "US    0.000000\n",
       "VX    0.000000\n",
       "WN    0.000000\n",
       "Name: prediction, dtype: float64"
      ]
     },
     "execution_count": 49,
     "metadata": {},
     "output_type": "execute_result"
    }
   ],
   "source": [
    "df_test_rest[\"Airline\"] = df1.AIRLINE\n",
    "df_test_rest[\"prediction\"] = logregcv.predict(X_test_rest)\n",
    "# df_test_rest_prediction = df_test_rest[df_test_rest.prediction.isin([1])]\n",
    "# df_test_rest_prediction\n",
    "delay_prediction = df_test_rest.groupby('Airline')['prediction'].mean()\n",
    "delay_prediction"
   ]
  },
  {
   "cell_type": "code",
   "execution_count": 50,
   "metadata": {},
   "outputs": [
    {
     "data": {
      "image/png": "[encoded data removed]",
      "text/plain": [
       "<matplotlib.figure.Figure at 0x1c103f9940>"
      ]
     },
     "metadata": {},
     "output_type": "display_data"
    }
   ],
   "source": [
    "ax = delay_prediction.plot(kind='bar', title=\"Delay Prediction Ranking\", figsize=(8,6), rot=0)\n",
    "ax.set_xlabel('Airlines')\n",
    "ax.set_ylabel('Delay Ratio')\n",
    "plt.show()"
   ]
  },
  {
   "cell_type": "markdown",
   "metadata": {},
   "source": [
    "### 7. (15pts) Build a regression model that predicts the length of delay (on the log scale) given that a flight is truly delayed."
   ]
  },
  {
   "cell_type": "code",
   "execution_count": 51,
   "metadata": {},
   "outputs": [
    {
     "data": {
      "text/html": [
       "<div>\n",
       "<style>\n",
       "    .dataframe thead tr:only-child th {\n",
       "        text-align: right;\n",
       "    }\n",
       "\n",
       "    .dataframe thead th {\n",
       "        text-align: left;\n",
       "    }\n",
       "\n",
       "    .dataframe tbody tr th {\n",
       "        vertical-align: top;\n",
       "    }\n",
       "</style>\n",
       "<table border=\"1\" class=\"dataframe\">\n",
       "  <thead>\n",
       "    <tr style=\"text-align: right;\">\n",
       "      <th></th>\n",
       "      <th>DATE</th>\n",
       "      <th>MONTH</th>\n",
       "      <th>DAY</th>\n",
       "      <th>DAY_OF_WEEK</th>\n",
       "      <th>AIRLINE</th>\n",
       "      <th>FLIGHT_NUMBER</th>\n",
       "      <th>TAIL_NUMBER</th>\n",
       "      <th>ORIGIN_AIRPORT</th>\n",
       "      <th>DESTINATION_AIRPORT</th>\n",
       "      <th>SCHED_DEP</th>\n",
       "      <th>...</th>\n",
       "      <th>ARRIVAL_DELAY</th>\n",
       "      <th>DISTANCE</th>\n",
       "      <th>SCHEDULED_TIME</th>\n",
       "      <th>ELAPSED_TIME</th>\n",
       "      <th>AIR_SYSTEM_DELAY</th>\n",
       "      <th>SECURITY_DELAY</th>\n",
       "      <th>AIRLINE_DELAY</th>\n",
       "      <th>LATE_AIRCRAFT_DELAY</th>\n",
       "      <th>WEATHER_DELAY</th>\n",
       "      <th>DELAY_OR_NOT</th>\n",
       "    </tr>\n",
       "  </thead>\n",
       "  <tbody>\n",
       "    <tr>\n",
       "      <th>19</th>\n",
       "      <td>2015-01-04</td>\n",
       "      <td>1</td>\n",
       "      <td>4</td>\n",
       "      <td>7</td>\n",
       "      <td>WN</td>\n",
       "      <td>958</td>\n",
       "      <td>N211WN</td>\n",
       "      <td>PHL</td>\n",
       "      <td>ATL</td>\n",
       "      <td>18:35:00</td>\n",
       "      <td>...</td>\n",
       "      <td>132.0</td>\n",
       "      <td>666</td>\n",
       "      <td>135.0</td>\n",
       "      <td>146.0</td>\n",
       "      <td>11.0</td>\n",
       "      <td>0.0</td>\n",
       "      <td>20.0</td>\n",
       "      <td>101.0</td>\n",
       "      <td>0.0</td>\n",
       "      <td>1</td>\n",
       "    </tr>\n",
       "    <tr>\n",
       "      <th>25</th>\n",
       "      <td>2015-07-22</td>\n",
       "      <td>7</td>\n",
       "      <td>22</td>\n",
       "      <td>3</td>\n",
       "      <td>EV</td>\n",
       "      <td>2682</td>\n",
       "      <td>N678AE</td>\n",
       "      <td>BRO</td>\n",
       "      <td>DFW</td>\n",
       "      <td>17:33:00</td>\n",
       "      <td>...</td>\n",
       "      <td>98.0</td>\n",
       "      <td>482</td>\n",
       "      <td>107.0</td>\n",
       "      <td>93.0</td>\n",
       "      <td>0.0</td>\n",
       "      <td>0.0</td>\n",
       "      <td>0.0</td>\n",
       "      <td>98.0</td>\n",
       "      <td>0.0</td>\n",
       "      <td>1</td>\n",
       "    </tr>\n",
       "    <tr>\n",
       "      <th>28</th>\n",
       "      <td>2015-03-23</td>\n",
       "      <td>3</td>\n",
       "      <td>23</td>\n",
       "      <td>1</td>\n",
       "      <td>OO</td>\n",
       "      <td>4629</td>\n",
       "      <td>N554CA</td>\n",
       "      <td>LAS</td>\n",
       "      <td>SEA</td>\n",
       "      <td>18:15:00</td>\n",
       "      <td>...</td>\n",
       "      <td>128.0</td>\n",
       "      <td>867</td>\n",
       "      <td>167.0</td>\n",
       "      <td>161.0</td>\n",
       "      <td>0.0</td>\n",
       "      <td>0.0</td>\n",
       "      <td>0.0</td>\n",
       "      <td>128.0</td>\n",
       "      <td>0.0</td>\n",
       "      <td>1</td>\n",
       "    </tr>\n",
       "    <tr>\n",
       "      <th>54</th>\n",
       "      <td>2015-03-12</td>\n",
       "      <td>3</td>\n",
       "      <td>12</td>\n",
       "      <td>4</td>\n",
       "      <td>US</td>\n",
       "      <td>2146</td>\n",
       "      <td>N951UW</td>\n",
       "      <td>LGA</td>\n",
       "      <td>BOS</td>\n",
       "      <td>14:00:00</td>\n",
       "      <td>...</td>\n",
       "      <td>38.0</td>\n",
       "      <td>184</td>\n",
       "      <td>63.0</td>\n",
       "      <td>106.0</td>\n",
       "      <td>38.0</td>\n",
       "      <td>0.0</td>\n",
       "      <td>0.0</td>\n",
       "      <td>0.0</td>\n",
       "      <td>0.0</td>\n",
       "      <td>1</td>\n",
       "    </tr>\n",
       "    <tr>\n",
       "      <th>59</th>\n",
       "      <td>2015-04-27</td>\n",
       "      <td>4</td>\n",
       "      <td>27</td>\n",
       "      <td>1</td>\n",
       "      <td>EV</td>\n",
       "      <td>2557</td>\n",
       "      <td>N673AE</td>\n",
       "      <td>SHV</td>\n",
       "      <td>DFW</td>\n",
       "      <td>16:41:00</td>\n",
       "      <td>...</td>\n",
       "      <td>148.0</td>\n",
       "      <td>190</td>\n",
       "      <td>64.0</td>\n",
       "      <td>72.0</td>\n",
       "      <td>8.0</td>\n",
       "      <td>0.0</td>\n",
       "      <td>95.0</td>\n",
       "      <td>45.0</td>\n",
       "      <td>0.0</td>\n",
       "      <td>1</td>\n",
       "    </tr>\n",
       "  </tbody>\n",
       "</table>\n",
       "<p>5 rows × 22 columns</p>\n",
       "</div>"
      ],
      "text/plain": [
       "          DATE  MONTH  DAY  DAY_OF_WEEK AIRLINE  FLIGHT_NUMBER TAIL_NUMBER  \\\n",
       "19  2015-01-04      1    4            7      WN            958      N211WN   \n",
       "25  2015-07-22      7   22            3      EV           2682      N678AE   \n",
       "28  2015-03-23      3   23            1      OO           4629      N554CA   \n",
       "54  2015-03-12      3   12            4      US           2146      N951UW   \n",
       "59  2015-04-27      4   27            1      EV           2557      N673AE   \n",
       "\n",
       "   ORIGIN_AIRPORT DESTINATION_AIRPORT SCHED_DEP      ...      ARRIVAL_DELAY  \\\n",
       "19            PHL                 ATL  18:35:00      ...              132.0   \n",
       "25            BRO                 DFW  17:33:00      ...               98.0   \n",
       "28            LAS                 SEA  18:15:00      ...              128.0   \n",
       "54            LGA                 BOS  14:00:00      ...               38.0   \n",
       "59            SHV                 DFW  16:41:00      ...              148.0   \n",
       "\n",
       "    DISTANCE  SCHEDULED_TIME  ELAPSED_TIME  AIR_SYSTEM_DELAY  SECURITY_DELAY  \\\n",
       "19       666           135.0         146.0              11.0             0.0   \n",
       "25       482           107.0          93.0               0.0             0.0   \n",
       "28       867           167.0         161.0               0.0             0.0   \n",
       "54       184            63.0         106.0              38.0             0.0   \n",
       "59       190            64.0          72.0               8.0             0.0   \n",
       "\n",
       "    AIRLINE_DELAY  LATE_AIRCRAFT_DELAY  WEATHER_DELAY  DELAY_OR_NOT  \n",
       "19           20.0                101.0            0.0             1  \n",
       "25            0.0                 98.0            0.0             1  \n",
       "28            0.0                128.0            0.0             1  \n",
       "54            0.0                  0.0            0.0             1  \n",
       "59           95.0                 45.0            0.0             1  \n",
       "\n",
       "[5 rows x 22 columns]"
      ]
     },
     "execution_count": 51,
     "metadata": {},
     "output_type": "execute_result"
    }
   ],
   "source": [
    "df_delay = df1[df1.DELAY_OR_NOT.isin([1])]\n",
    "df_delay.head()"
   ]
  },
  {
   "cell_type": "code",
   "execution_count": 52,
   "metadata": {},
   "outputs": [
    {
     "name": "stdout",
     "output_type": "stream",
     "text": [
      "['DATE', 'MONTH', 'DAY', 'DAY_OF_WEEK', 'AIRLINE', 'FLIGHT_NUMBER', 'TAIL_NUMBER', 'ORIGIN_AIRPORT', 'DESTINATION_AIRPORT', 'SCHED_DEP', 'SCHED_ARR', 'DEPARTURE_DELAY', 'ARRIVAL_DELAY', 'DISTANCE', 'SCHEDULED_TIME', 'ELAPSED_TIME', 'AIR_SYSTEM_DELAY', 'SECURITY_DELAY', 'AIRLINE_DELAY', 'LATE_AIRCRAFT_DELAY', 'WEATHER_DELAY', 'DELAY_OR_NOT']\n"
     ]
    }
   ],
   "source": [
    "print(list(df_delay))"
   ]
  },
  {
   "cell_type": "code",
   "execution_count": 53,
   "metadata": {},
   "outputs": [
    {
     "name": "stderr",
     "output_type": "stream",
     "text": [
      "/Users/yijunshen/anaconda3/lib/python3.6/site-packages/ipykernel_launcher.py:4: RuntimeWarning: divide by zero encountered in log\n",
      "  after removing the cwd from sys.path.\n",
      "/Users/yijunshen/anaconda3/lib/python3.6/site-packages/ipykernel_launcher.py:4: RuntimeWarning: invalid value encountered in log\n",
      "  after removing the cwd from sys.path.\n"
     ]
    },
    {
     "data": {
      "text/html": [
       "<div>\n",
       "<style>\n",
       "    .dataframe thead tr:only-child th {\n",
       "        text-align: right;\n",
       "    }\n",
       "\n",
       "    .dataframe thead th {\n",
       "        text-align: left;\n",
       "    }\n",
       "\n",
       "    .dataframe tbody tr th {\n",
       "        vertical-align: top;\n",
       "    }\n",
       "</style>\n",
       "<table border=\"1\" class=\"dataframe\">\n",
       "  <thead>\n",
       "    <tr style=\"text-align: right;\">\n",
       "      <th></th>\n",
       "      <th>DISTANCE</th>\n",
       "      <th>AIR_SYSTEM_DELAY</th>\n",
       "      <th>SECURITY_DELAY</th>\n",
       "      <th>AIRLINE_DELAY</th>\n",
       "      <th>LATE_AIRCRAFT_DELAY</th>\n",
       "      <th>WEATHER_DELAY</th>\n",
       "      <th>AIRLINE_AS</th>\n",
       "      <th>AIRLINE_B6</th>\n",
       "      <th>AIRLINE_DL</th>\n",
       "      <th>AIRLINE_EV</th>\n",
       "      <th>...</th>\n",
       "      <th>DESTINATION_AIRPORT_UST</th>\n",
       "      <th>DESTINATION_AIRPORT_VEL</th>\n",
       "      <th>DESTINATION_AIRPORT_VLD</th>\n",
       "      <th>DESTINATION_AIRPORT_VPS</th>\n",
       "      <th>DESTINATION_AIRPORT_WRG</th>\n",
       "      <th>DESTINATION_AIRPORT_WYS</th>\n",
       "      <th>DESTINATION_AIRPORT_XNA</th>\n",
       "      <th>DESTINATION_AIRPORT_YAK</th>\n",
       "      <th>DESTINATION_AIRPORT_YUM</th>\n",
       "      <th>delay_log</th>\n",
       "    </tr>\n",
       "  </thead>\n",
       "  <tbody>\n",
       "    <tr>\n",
       "      <th>19</th>\n",
       "      <td>666</td>\n",
       "      <td>11.0</td>\n",
       "      <td>0.0</td>\n",
       "      <td>20.0</td>\n",
       "      <td>101.0</td>\n",
       "      <td>0.0</td>\n",
       "      <td>0</td>\n",
       "      <td>0</td>\n",
       "      <td>0</td>\n",
       "      <td>0</td>\n",
       "      <td>...</td>\n",
       "      <td>0</td>\n",
       "      <td>0</td>\n",
       "      <td>0</td>\n",
       "      <td>0</td>\n",
       "      <td>0</td>\n",
       "      <td>0</td>\n",
       "      <td>0</td>\n",
       "      <td>0</td>\n",
       "      <td>0</td>\n",
       "      <td>4.882802</td>\n",
       "    </tr>\n",
       "    <tr>\n",
       "      <th>25</th>\n",
       "      <td>482</td>\n",
       "      <td>0.0</td>\n",
       "      <td>0.0</td>\n",
       "      <td>0.0</td>\n",
       "      <td>98.0</td>\n",
       "      <td>0.0</td>\n",
       "      <td>0</td>\n",
       "      <td>0</td>\n",
       "      <td>0</td>\n",
       "      <td>1</td>\n",
       "      <td>...</td>\n",
       "      <td>0</td>\n",
       "      <td>0</td>\n",
       "      <td>0</td>\n",
       "      <td>0</td>\n",
       "      <td>0</td>\n",
       "      <td>0</td>\n",
       "      <td>0</td>\n",
       "      <td>0</td>\n",
       "      <td>0</td>\n",
       "      <td>4.584967</td>\n",
       "    </tr>\n",
       "    <tr>\n",
       "      <th>28</th>\n",
       "      <td>867</td>\n",
       "      <td>0.0</td>\n",
       "      <td>0.0</td>\n",
       "      <td>0.0</td>\n",
       "      <td>128.0</td>\n",
       "      <td>0.0</td>\n",
       "      <td>0</td>\n",
       "      <td>0</td>\n",
       "      <td>0</td>\n",
       "      <td>0</td>\n",
       "      <td>...</td>\n",
       "      <td>0</td>\n",
       "      <td>0</td>\n",
       "      <td>0</td>\n",
       "      <td>0</td>\n",
       "      <td>0</td>\n",
       "      <td>0</td>\n",
       "      <td>0</td>\n",
       "      <td>0</td>\n",
       "      <td>0</td>\n",
       "      <td>4.852030</td>\n",
       "    </tr>\n",
       "    <tr>\n",
       "      <th>54</th>\n",
       "      <td>184</td>\n",
       "      <td>38.0</td>\n",
       "      <td>0.0</td>\n",
       "      <td>0.0</td>\n",
       "      <td>0.0</td>\n",
       "      <td>0.0</td>\n",
       "      <td>0</td>\n",
       "      <td>0</td>\n",
       "      <td>0</td>\n",
       "      <td>0</td>\n",
       "      <td>...</td>\n",
       "      <td>0</td>\n",
       "      <td>0</td>\n",
       "      <td>0</td>\n",
       "      <td>0</td>\n",
       "      <td>0</td>\n",
       "      <td>0</td>\n",
       "      <td>0</td>\n",
       "      <td>0</td>\n",
       "      <td>0</td>\n",
       "      <td>3.637586</td>\n",
       "    </tr>\n",
       "    <tr>\n",
       "      <th>59</th>\n",
       "      <td>190</td>\n",
       "      <td>8.0</td>\n",
       "      <td>0.0</td>\n",
       "      <td>95.0</td>\n",
       "      <td>45.0</td>\n",
       "      <td>0.0</td>\n",
       "      <td>0</td>\n",
       "      <td>0</td>\n",
       "      <td>0</td>\n",
       "      <td>1</td>\n",
       "      <td>...</td>\n",
       "      <td>0</td>\n",
       "      <td>0</td>\n",
       "      <td>0</td>\n",
       "      <td>0</td>\n",
       "      <td>0</td>\n",
       "      <td>0</td>\n",
       "      <td>0</td>\n",
       "      <td>0</td>\n",
       "      <td>0</td>\n",
       "      <td>4.997212</td>\n",
       "    </tr>\n",
       "  </tbody>\n",
       "</table>\n",
       "<p>5 rows × 1040 columns</p>\n",
       "</div>"
      ],
      "text/plain": [
       "    DISTANCE  AIR_SYSTEM_DELAY  SECURITY_DELAY  AIRLINE_DELAY  \\\n",
       "19       666              11.0             0.0           20.0   \n",
       "25       482               0.0             0.0            0.0   \n",
       "28       867               0.0             0.0            0.0   \n",
       "54       184              38.0             0.0            0.0   \n",
       "59       190               8.0             0.0           95.0   \n",
       "\n",
       "    LATE_AIRCRAFT_DELAY  WEATHER_DELAY  AIRLINE_AS  AIRLINE_B6  AIRLINE_DL  \\\n",
       "19                101.0            0.0           0           0           0   \n",
       "25                 98.0            0.0           0           0           0   \n",
       "28                128.0            0.0           0           0           0   \n",
       "54                  0.0            0.0           0           0           0   \n",
       "59                 45.0            0.0           0           0           0   \n",
       "\n",
       "    AIRLINE_EV    ...      DESTINATION_AIRPORT_UST  DESTINATION_AIRPORT_VEL  \\\n",
       "19           0    ...                            0                        0   \n",
       "25           1    ...                            0                        0   \n",
       "28           0    ...                            0                        0   \n",
       "54           0    ...                            0                        0   \n",
       "59           1    ...                            0                        0   \n",
       "\n",
       "    DESTINATION_AIRPORT_VLD  DESTINATION_AIRPORT_VPS  DESTINATION_AIRPORT_WRG  \\\n",
       "19                        0                        0                        0   \n",
       "25                        0                        0                        0   \n",
       "28                        0                        0                        0   \n",
       "54                        0                        0                        0   \n",
       "59                        0                        0                        0   \n",
       "\n",
       "    DESTINATION_AIRPORT_WYS  DESTINATION_AIRPORT_XNA  DESTINATION_AIRPORT_YAK  \\\n",
       "19                        0                        0                        0   \n",
       "25                        0                        0                        0   \n",
       "28                        0                        0                        0   \n",
       "54                        0                        0                        0   \n",
       "59                        0                        0                        0   \n",
       "\n",
       "    DESTINATION_AIRPORT_YUM  delay_log  \n",
       "19                        0   4.882802  \n",
       "25                        0   4.584967  \n",
       "28                        0   4.852030  \n",
       "54                        0   3.637586  \n",
       "59                        0   4.997212  \n",
       "\n",
       "[5 rows x 1040 columns]"
      ]
     },
     "execution_count": 53,
     "metadata": {},
     "output_type": "execute_result"
    }
   ],
   "source": [
    "df_delay = df_delay[[\"AIRLINE\", \"DISTANCE\", 'ORIGIN_AIRPORT', 'DESTINATION_AIRPORT',\\\n",
    "                     \"AIR_SYSTEM_DELAY\", \"SECURITY_DELAY\", \"AIRLINE_DELAY\", \\\n",
    "                     \"LATE_AIRCRAFT_DELAY\", \"WEATHER_DELAY\"]]\n",
    "categorical_cols = ['AIRLINE', 'ORIGIN_AIRPORT', 'DESTINATION_AIRPORT']\n",
    "df_delay = pd.get_dummies(df_delay, columns=categorical_cols, drop_first=True)\n",
    "df_delay[\"delay_log\"] = np.log(df1[\"ARRIVAL_DELAY\"])\n",
    "df_delay.head()"
   ]
  },
  {
   "cell_type": "code",
   "execution_count": 54,
   "metadata": {},
   "outputs": [],
   "source": [
    "X = df_delay.loc[:, df_delay.columns != 'delay_log']\n",
    "y = df_delay[\"delay_log\"]\n",
    "\n",
    "X_train2, X_test2, y_train2, y_test2 = train_test_split(X, y, test_size=0.25, random_state=42)"
   ]
  },
  {
   "cell_type": "code",
   "execution_count": 55,
   "metadata": {},
   "outputs": [],
   "source": [
    "# missing_df = df_delay.isnull().sum(axis=0).reset_index()\n",
    "# missing_df.columns = ['variable', 'missing values']\n",
    "# missing_df['filling factor (%)']=(df_delay.shape[0]-missing_df['missing values'])/df_delay.shape[0]*100\n",
    "# missing_df.sort_values('filling factor (%)').reset_index(drop = True)"
   ]
  },
  {
   "cell_type": "code",
   "execution_count": 56,
   "metadata": {},
   "outputs": [
    {
     "name": "stdout",
     "output_type": "stream",
     "text": [
      "OLS Train Score 0.772083054429\n",
      "OLS Test Score 0.739361426913\n"
     ]
    }
   ],
   "source": [
    "ols = LinearRegression(fit_intercept=True)\n",
    "ols.fit(X_train2, y_train2)\n",
    "print('OLS Train Score', ols.score(X_train2, y_train2))\n",
    "print('OLS Test Score', ols.score(X_test2, y_test2))"
   ]
  },
  {
   "cell_type": "code",
   "execution_count": 57,
   "metadata": {},
   "outputs": [
    {
     "name": "stdout",
     "output_type": "stream",
     "text": [
      "Lasso Train Score 0.292351398297\n",
      "Lasso Test Score 0.2636525886\n"
     ]
    }
   ],
   "source": [
    "lambdas = [.001,.005,1,5,10,50,100,500,1000]\n",
    "clfl = LassoCV(cv=10, alphas=lambdas, fit_intercept=False, normalize=False)\n",
    "preprocessing.StandardScaler()\n",
    "clfl.fit(X_train2, y_train2)\n",
    "\n",
    "print('Lasso Train Score', clfl.score(X_train2, y_train2))\n",
    "print('Lasso Test Score', clfl.score(X_test2, y_test2))"
   ]
  },
  {
   "cell_type": "code",
   "execution_count": 58,
   "metadata": {},
   "outputs": [],
   "source": [
    "# df_delay2 = df1[df1.DELAY_OR_NOT.isin([1])]\n",
    "# df_delay2 = df_delay2[[\"AIRLINE\"]]\n",
    "# #                      \"AIR_SYSTEM_DELAY\", \"SECURITY_DELAY\", \"AIRLINE_DELAY\", \\\n",
    "# #                      \"LATE_AIRCRAFT_DELAY\", \"WEATHER_DELAY\"]]\n",
    "# categorical_cols = ['AIRLINE']\n",
    "# df_delay2 = pd.get_dummies(df_delay2, columns=categorical_cols, drop_first=True)\n",
    "# df_delay2[\"delay_log\"] = np.log(df1[\"ARRIVAL_DELAY\"])\n",
    "# df_delay2.head()"
   ]
  },
  {
   "cell_type": "code",
   "execution_count": 59,
   "metadata": {
    "collapsed": true
   },
   "outputs": [],
   "source": [
    "# X3 = df_delay2.loc[:, df_delay2.columns != 'delay_log']\n",
    "# y3 = df_delay2[\"delay_log\"]\n",
    "\n",
    "# X_train3, X_test3, y_train3, y_test3 = train_test_split(X3, y3, test_size=0.25, random_state=42)"
   ]
  },
  {
   "cell_type": "code",
   "execution_count": 60,
   "metadata": {},
   "outputs": [],
   "source": [
    "# ols = LinearRegression(fit_intercept=True)\n",
    "# ols.fit(X_train3, y_train3)\n",
    "# print('OLS Train Score', ols.score(X_train3, y_train3))\n",
    "# print('OLS Test Score', ols.score(X_test3, y_test3))"
   ]
  },
  {
   "cell_type": "markdown",
   "metadata": {},
   "source": [
    "## 209 Additional questions\n",
    "### 1. (10pts) Engineer two additional features that will help improve the classification model's performance."
   ]
  },
  {
   "cell_type": "code",
   "execution_count": 61,
   "metadata": {},
   "outputs": [
    {
     "data": {
      "text/html": [
       "<div>\n",
       "<style>\n",
       "    .dataframe thead tr:only-child th {\n",
       "        text-align: right;\n",
       "    }\n",
       "\n",
       "    .dataframe thead th {\n",
       "        text-align: left;\n",
       "    }\n",
       "\n",
       "    .dataframe tbody tr th {\n",
       "        vertical-align: top;\n",
       "    }\n",
       "</style>\n",
       "<table border=\"1\" class=\"dataframe\">\n",
       "  <thead>\n",
       "    <tr style=\"text-align: right;\">\n",
       "      <th></th>\n",
       "      <th>DATE</th>\n",
       "      <th>MONTH</th>\n",
       "      <th>DAY</th>\n",
       "      <th>DAY_OF_WEEK</th>\n",
       "      <th>AIRLINE</th>\n",
       "      <th>FLIGHT_NUMBER</th>\n",
       "      <th>TAIL_NUMBER</th>\n",
       "      <th>ORIGIN_AIRPORT</th>\n",
       "      <th>DESTINATION_AIRPORT</th>\n",
       "      <th>SCHED_DEP</th>\n",
       "      <th>...</th>\n",
       "      <th>ARRIVAL_DELAY</th>\n",
       "      <th>DISTANCE</th>\n",
       "      <th>SCHEDULED_TIME</th>\n",
       "      <th>ELAPSED_TIME</th>\n",
       "      <th>AIR_SYSTEM_DELAY</th>\n",
       "      <th>SECURITY_DELAY</th>\n",
       "      <th>AIRLINE_DELAY</th>\n",
       "      <th>LATE_AIRCRAFT_DELAY</th>\n",
       "      <th>WEATHER_DELAY</th>\n",
       "      <th>DELAY_OR_NOT</th>\n",
       "    </tr>\n",
       "  </thead>\n",
       "  <tbody>\n",
       "    <tr>\n",
       "      <th>0</th>\n",
       "      <td>2015-09-19</td>\n",
       "      <td>9</td>\n",
       "      <td>19</td>\n",
       "      <td>6</td>\n",
       "      <td>AA</td>\n",
       "      <td>394</td>\n",
       "      <td>N3FMAA</td>\n",
       "      <td>ORD</td>\n",
       "      <td>LGA</td>\n",
       "      <td>07:15:00</td>\n",
       "      <td>...</td>\n",
       "      <td>1.0</td>\n",
       "      <td>733</td>\n",
       "      <td>135.0</td>\n",
       "      <td>127.0</td>\n",
       "      <td>NaN</td>\n",
       "      <td>NaN</td>\n",
       "      <td>NaN</td>\n",
       "      <td>NaN</td>\n",
       "      <td>NaN</td>\n",
       "      <td>0</td>\n",
       "    </tr>\n",
       "    <tr>\n",
       "      <th>1</th>\n",
       "      <td>2015-10-28</td>\n",
       "      <td>10</td>\n",
       "      <td>28</td>\n",
       "      <td>3</td>\n",
       "      <td>AA</td>\n",
       "      <td>375</td>\n",
       "      <td>N4YDAA</td>\n",
       "      <td>11298</td>\n",
       "      <td>13342</td>\n",
       "      <td>20:15:00</td>\n",
       "      <td>...</td>\n",
       "      <td>-31.0</td>\n",
       "      <td>853</td>\n",
       "      <td>149.0</td>\n",
       "      <td>118.0</td>\n",
       "      <td>NaN</td>\n",
       "      <td>NaN</td>\n",
       "      <td>NaN</td>\n",
       "      <td>NaN</td>\n",
       "      <td>NaN</td>\n",
       "      <td>0</td>\n",
       "    </tr>\n",
       "    <tr>\n",
       "      <th>2</th>\n",
       "      <td>2015-08-19</td>\n",
       "      <td>8</td>\n",
       "      <td>19</td>\n",
       "      <td>3</td>\n",
       "      <td>MQ</td>\n",
       "      <td>3648</td>\n",
       "      <td>N512MQ</td>\n",
       "      <td>XNA</td>\n",
       "      <td>ORD</td>\n",
       "      <td>12:22:00</td>\n",
       "      <td>...</td>\n",
       "      <td>-21.0</td>\n",
       "      <td>522</td>\n",
       "      <td>108.0</td>\n",
       "      <td>88.0</td>\n",
       "      <td>NaN</td>\n",
       "      <td>NaN</td>\n",
       "      <td>NaN</td>\n",
       "      <td>NaN</td>\n",
       "      <td>NaN</td>\n",
       "      <td>0</td>\n",
       "    </tr>\n",
       "    <tr>\n",
       "      <th>3</th>\n",
       "      <td>2015-12-01</td>\n",
       "      <td>12</td>\n",
       "      <td>1</td>\n",
       "      <td>2</td>\n",
       "      <td>WN</td>\n",
       "      <td>4096</td>\n",
       "      <td>N912WN</td>\n",
       "      <td>PHX</td>\n",
       "      <td>BWI</td>\n",
       "      <td>11:20:00</td>\n",
       "      <td>...</td>\n",
       "      <td>-14.0</td>\n",
       "      <td>1999</td>\n",
       "      <td>260.0</td>\n",
       "      <td>235.0</td>\n",
       "      <td>NaN</td>\n",
       "      <td>NaN</td>\n",
       "      <td>NaN</td>\n",
       "      <td>NaN</td>\n",
       "      <td>NaN</td>\n",
       "      <td>0</td>\n",
       "    </tr>\n",
       "    <tr>\n",
       "      <th>4</th>\n",
       "      <td>2015-09-15</td>\n",
       "      <td>9</td>\n",
       "      <td>15</td>\n",
       "      <td>2</td>\n",
       "      <td>WN</td>\n",
       "      <td>285</td>\n",
       "      <td>N7718B</td>\n",
       "      <td>MCI</td>\n",
       "      <td>DEN</td>\n",
       "      <td>14:10:00</td>\n",
       "      <td>...</td>\n",
       "      <td>-12.0</td>\n",
       "      <td>533</td>\n",
       "      <td>105.0</td>\n",
       "      <td>97.0</td>\n",
       "      <td>NaN</td>\n",
       "      <td>NaN</td>\n",
       "      <td>NaN</td>\n",
       "      <td>NaN</td>\n",
       "      <td>NaN</td>\n",
       "      <td>0</td>\n",
       "    </tr>\n",
       "  </tbody>\n",
       "</table>\n",
       "<p>5 rows × 22 columns</p>\n",
       "</div>"
      ],
      "text/plain": [
       "         DATE  MONTH  DAY  DAY_OF_WEEK AIRLINE  FLIGHT_NUMBER TAIL_NUMBER  \\\n",
       "0  2015-09-19      9   19            6      AA            394      N3FMAA   \n",
       "1  2015-10-28     10   28            3      AA            375      N4YDAA   \n",
       "2  2015-08-19      8   19            3      MQ           3648      N512MQ   \n",
       "3  2015-12-01     12    1            2      WN           4096      N912WN   \n",
       "4  2015-09-15      9   15            2      WN            285      N7718B   \n",
       "\n",
       "  ORIGIN_AIRPORT DESTINATION_AIRPORT SCHED_DEP      ...      ARRIVAL_DELAY  \\\n",
       "0            ORD                 LGA  07:15:00      ...                1.0   \n",
       "1          11298               13342  20:15:00      ...              -31.0   \n",
       "2            XNA                 ORD  12:22:00      ...              -21.0   \n",
       "3            PHX                 BWI  11:20:00      ...              -14.0   \n",
       "4            MCI                 DEN  14:10:00      ...              -12.0   \n",
       "\n",
       "   DISTANCE  SCHEDULED_TIME  ELAPSED_TIME  AIR_SYSTEM_DELAY  SECURITY_DELAY  \\\n",
       "0       733           135.0         127.0               NaN             NaN   \n",
       "1       853           149.0         118.0               NaN             NaN   \n",
       "2       522           108.0          88.0               NaN             NaN   \n",
       "3      1999           260.0         235.0               NaN             NaN   \n",
       "4       533           105.0          97.0               NaN             NaN   \n",
       "\n",
       "   AIRLINE_DELAY  LATE_AIRCRAFT_DELAY  WEATHER_DELAY  DELAY_OR_NOT  \n",
       "0            NaN                  NaN            NaN             0  \n",
       "1            NaN                  NaN            NaN             0  \n",
       "2            NaN                  NaN            NaN             0  \n",
       "3            NaN                  NaN            NaN             0  \n",
       "4            NaN                  NaN            NaN             0  \n",
       "\n",
       "[5 rows x 22 columns]"
      ]
     },
     "execution_count": 61,
     "metadata": {},
     "output_type": "execute_result"
    }
   ],
   "source": [
    "df_eng = df1.copy()\n",
    "# df_eng = df_eng[df_eng.AIRLINE.isin([\"AA\"])]\n",
    "# AA_flight = df_eng['FLIGHT_NUMBER'].value_counts()[:10]\n",
    "# AA_flight\n",
    "df_eng.head()"
   ]
  },
  {
   "cell_type": "code",
   "execution_count": null,
   "metadata": {},
   "outputs": [
    {
     "data": {
      "text/html": [
       "<div>\n",
       "<style>\n",
       "    .dataframe thead tr:only-child th {\n",
       "        text-align: right;\n",
       "    }\n",
       "\n",
       "    .dataframe thead th {\n",
       "        text-align: left;\n",
       "    }\n",
       "\n",
       "    .dataframe tbody tr th {\n",
       "        vertical-align: top;\n",
       "    }\n",
       "</style>\n",
       "<table border=\"1\" class=\"dataframe\">\n",
       "  <thead>\n",
       "    <tr style=\"text-align: right;\">\n",
       "      <th></th>\n",
       "      <th>DATE</th>\n",
       "      <th>MONTH</th>\n",
       "      <th>DAY</th>\n",
       "      <th>DAY_OF_WEEK</th>\n",
       "      <th>AIRLINE</th>\n",
       "      <th>FLIGHT_NUMBER</th>\n",
       "      <th>TAIL_NUMBER</th>\n",
       "      <th>ORIGIN_AIRPORT</th>\n",
       "      <th>DESTINATION_AIRPORT</th>\n",
       "      <th>SCHED_DEP</th>\n",
       "      <th>...</th>\n",
       "      <th>SCHEDULED_TIME</th>\n",
       "      <th>ELAPSED_TIME</th>\n",
       "      <th>AIR_SYSTEM_DELAY</th>\n",
       "      <th>SECURITY_DELAY</th>\n",
       "      <th>AIRLINE_DELAY</th>\n",
       "      <th>LATE_AIRCRAFT_DELAY</th>\n",
       "      <th>WEATHER_DELAY</th>\n",
       "      <th>DELAY_OR_NOT</th>\n",
       "      <th>speed</th>\n",
       "      <th>dep_hour</th>\n",
       "    </tr>\n",
       "  </thead>\n",
       "  <tbody>\n",
       "    <tr>\n",
       "      <th>0</th>\n",
       "      <td>2015-09-19</td>\n",
       "      <td>9</td>\n",
       "      <td>19</td>\n",
       "      <td>6</td>\n",
       "      <td>AA</td>\n",
       "      <td>394</td>\n",
       "      <td>N3FMAA</td>\n",
       "      <td>ORD</td>\n",
       "      <td>LGA</td>\n",
       "      <td>07:15:00</td>\n",
       "      <td>...</td>\n",
       "      <td>135.0</td>\n",
       "      <td>127.0</td>\n",
       "      <td>NaN</td>\n",
       "      <td>NaN</td>\n",
       "      <td>NaN</td>\n",
       "      <td>NaN</td>\n",
       "      <td>NaN</td>\n",
       "      <td>0</td>\n",
       "      <td>5.429630</td>\n",
       "      <td>7</td>\n",
       "    </tr>\n",
       "    <tr>\n",
       "      <th>1</th>\n",
       "      <td>2015-10-28</td>\n",
       "      <td>10</td>\n",
       "      <td>28</td>\n",
       "      <td>3</td>\n",
       "      <td>AA</td>\n",
       "      <td>375</td>\n",
       "      <td>N4YDAA</td>\n",
       "      <td>11298</td>\n",
       "      <td>13342</td>\n",
       "      <td>20:15:00</td>\n",
       "      <td>...</td>\n",
       "      <td>149.0</td>\n",
       "      <td>118.0</td>\n",
       "      <td>NaN</td>\n",
       "      <td>NaN</td>\n",
       "      <td>NaN</td>\n",
       "      <td>NaN</td>\n",
       "      <td>NaN</td>\n",
       "      <td>0</td>\n",
       "      <td>5.724832</td>\n",
       "      <td>20</td>\n",
       "    </tr>\n",
       "    <tr>\n",
       "      <th>2</th>\n",
       "      <td>2015-08-19</td>\n",
       "      <td>8</td>\n",
       "      <td>19</td>\n",
       "      <td>3</td>\n",
       "      <td>MQ</td>\n",
       "      <td>3648</td>\n",
       "      <td>N512MQ</td>\n",
       "      <td>XNA</td>\n",
       "      <td>ORD</td>\n",
       "      <td>12:22:00</td>\n",
       "      <td>...</td>\n",
       "      <td>108.0</td>\n",
       "      <td>88.0</td>\n",
       "      <td>NaN</td>\n",
       "      <td>NaN</td>\n",
       "      <td>NaN</td>\n",
       "      <td>NaN</td>\n",
       "      <td>NaN</td>\n",
       "      <td>0</td>\n",
       "      <td>4.833333</td>\n",
       "      <td>12</td>\n",
       "    </tr>\n",
       "    <tr>\n",
       "      <th>3</th>\n",
       "      <td>2015-12-01</td>\n",
       "      <td>12</td>\n",
       "      <td>1</td>\n",
       "      <td>2</td>\n",
       "      <td>WN</td>\n",
       "      <td>4096</td>\n",
       "      <td>N912WN</td>\n",
       "      <td>PHX</td>\n",
       "      <td>BWI</td>\n",
       "      <td>11:20:00</td>\n",
       "      <td>...</td>\n",
       "      <td>260.0</td>\n",
       "      <td>235.0</td>\n",
       "      <td>NaN</td>\n",
       "      <td>NaN</td>\n",
       "      <td>NaN</td>\n",
       "      <td>NaN</td>\n",
       "      <td>NaN</td>\n",
       "      <td>0</td>\n",
       "      <td>7.688462</td>\n",
       "      <td>11</td>\n",
       "    </tr>\n",
       "    <tr>\n",
       "      <th>4</th>\n",
       "      <td>2015-09-15</td>\n",
       "      <td>9</td>\n",
       "      <td>15</td>\n",
       "      <td>2</td>\n",
       "      <td>WN</td>\n",
       "      <td>285</td>\n",
       "      <td>N7718B</td>\n",
       "      <td>MCI</td>\n",
       "      <td>DEN</td>\n",
       "      <td>14:10:00</td>\n",
       "      <td>...</td>\n",
       "      <td>105.0</td>\n",
       "      <td>97.0</td>\n",
       "      <td>NaN</td>\n",
       "      <td>NaN</td>\n",
       "      <td>NaN</td>\n",
       "      <td>NaN</td>\n",
       "      <td>NaN</td>\n",
       "      <td>0</td>\n",
       "      <td>5.076190</td>\n",
       "      <td>14</td>\n",
       "    </tr>\n",
       "  </tbody>\n",
       "</table>\n",
       "<p>5 rows × 24 columns</p>\n",
       "</div>"
      ],
      "text/plain": [
       "         DATE  MONTH  DAY  DAY_OF_WEEK AIRLINE  FLIGHT_NUMBER TAIL_NUMBER  \\\n",
       "0  2015-09-19      9   19            6      AA            394      N3FMAA   \n",
       "1  2015-10-28     10   28            3      AA            375      N4YDAA   \n",
       "2  2015-08-19      8   19            3      MQ           3648      N512MQ   \n",
       "3  2015-12-01     12    1            2      WN           4096      N912WN   \n",
       "4  2015-09-15      9   15            2      WN            285      N7718B   \n",
       "\n",
       "  ORIGIN_AIRPORT DESTINATION_AIRPORT SCHED_DEP    ...    SCHEDULED_TIME  \\\n",
       "0            ORD                 LGA  07:15:00    ...             135.0   \n",
       "1          11298               13342  20:15:00    ...             149.0   \n",
       "2            XNA                 ORD  12:22:00    ...             108.0   \n",
       "3            PHX                 BWI  11:20:00    ...             260.0   \n",
       "4            MCI                 DEN  14:10:00    ...             105.0   \n",
       "\n",
       "   ELAPSED_TIME  AIR_SYSTEM_DELAY  SECURITY_DELAY  AIRLINE_DELAY  \\\n",
       "0         127.0               NaN             NaN            NaN   \n",
       "1         118.0               NaN             NaN            NaN   \n",
       "2          88.0               NaN             NaN            NaN   \n",
       "3         235.0               NaN             NaN            NaN   \n",
       "4          97.0               NaN             NaN            NaN   \n",
       "\n",
       "   LATE_AIRCRAFT_DELAY  WEATHER_DELAY  DELAY_OR_NOT     speed  dep_hour  \n",
       "0                  NaN            NaN             0  5.429630         7  \n",
       "1                  NaN            NaN             0  5.724832        20  \n",
       "2                  NaN            NaN             0  4.833333        12  \n",
       "3                  NaN            NaN             0  7.688462        11  \n",
       "4                  NaN            NaN             0  5.076190        14  \n",
       "\n",
       "[5 rows x 24 columns]"
      ]
     },
     "execution_count": 62,
     "metadata": {},
     "output_type": "execute_result"
    }
   ],
   "source": [
    "df_eng[\"speed\"] = df_eng[\"DISTANCE\"] / df_eng[\"SCHEDULED_TIME\"]\n",
    "\n",
    "dep_time = df_eng['SCHED_DEP'].values\n",
    "dep_hour = []\n",
    "for t in dep_time:\n",
    "    dep_hour.append(t[:2])\n",
    "dep_h = list(map(int, dep_hour))\n",
    "df_eng['dep_hour'] = dep_h\n",
    "\n",
    "df_eng.head()"
   ]
  },
  {
   "cell_type": "code",
   "execution_count": null,
   "metadata": {},
   "outputs": [],
   "source": [
    "total_airports = df1['ORIGIN_AIRPORT'].value_counts()[:40]\n",
    "total_airports = total_airports.index.tolist()\n",
    "\n",
    "df_eng = df_eng[['AIRLINE', 'ORIGIN_AIRPORT', 'DESTINATION_AIRPORT','speed', 'dep_hour',\\\n",
    "                 'DATE', 'DELAY_OR_NOT']]\n",
    "df_eng = df_eng[df_eng['ORIGIN_AIRPORT'].isin(total_airports)]\n",
    "df_eng = df_eng[df_eng['DESTINATION_AIRPORT'].isin(total_airports)]\n",
    "\n",
    "\n",
    "df_eng['DATE'] = pd.to_datetime(df_eng['DATE'])\n",
    "df_train_eng = df_eng[df_eng['DATE'].apply(lambda x:x.date()) < datetime.date(2015, 1, 23)]\n",
    "df_test_eng = df_eng[df_eng['DATE'].apply(lambda x:x.date()) < datetime.date(2015, 1, 31)]\n",
    "df_test_eng = df_test_eng[df_test_eng['DATE'].apply(lambda x:x.date()) > datetime.date(2015, 1, 23)]\n",
    "\n",
    "categorical_cols = ['AIRLINE', 'ORIGIN_AIRPORT', 'DESTINATION_AIRPORT']\n",
    "df_train_eng = pd.get_dummies(df_train_eng, columns=categorical_cols, drop_first=True)\n",
    "df_test_eng = pd.get_dummies(df_test_eng, columns=categorical_cols, drop_first=True)\n",
    "\n",
    "df_train_eng = df_train_eng.reset_index(drop=True)\n",
    "\n",
    "X_train_eng = df_train_eng.drop(['DATE','DELAY_OR_NOT'], axis=1)\n",
    "y_train_eng = df_train_eng['DELAY_OR_NOT']\n",
    "X_test_eng = df_test_eng.drop(['DATE','DELAY_OR_NOT'], axis=1)\n",
    "y_test_eng = df_test_eng['DELAY_OR_NOT']"
   ]
  },
  {
   "cell_type": "code",
   "execution_count": null,
   "metadata": {},
   "outputs": [],
   "source": [
    "logregcv = LogisticRegressionCV()\n",
    "logregcv.fit(X_train_eng, y_train_eng)\n",
    "y_hat_train_eng = logregcv.predict(X_train_eng)\n",
    "y_hat_test_eng = logregcv.predict(X_test_eng)\n",
    "print(\"Train accuracy (engineered): \", logregcv.score(X_train_eng, y_train_eng))\n",
    "print(\"Test accuracy (engineered): \", logregcv.score(X_test_eng, y_test_eng))\n",
    "\n",
    "preds_eng = logregcv.predict_proba(X_test_eng)[:,1]\n",
    "fpr_eng, tpr_eng, thresholds_eng = roc_curve(y_test_eng, preds_eng)\n",
    "roc_auc_eng = auc(fpr_eng, tpr_eng)\n",
    "print(\"AUC of the fitted model:\", roc_auc_eng)"
   ]
  },
  {
   "cell_type": "code",
   "execution_count": null,
   "metadata": {},
   "outputs": [],
   "source": [
    "conf_mat_eng = confusion_matrix(y_test_eng, y_hat_test_eng)\n",
    "conf_df_eng = pd.DataFrame(conf_mat_eng, columns = ['y_hat=0', 'y_hat = 1'], index = ['y=0', 'y=1'])\n",
    "conf_df_eng"
   ]
  },
  {
   "cell_type": "code",
   "execution_count": null,
   "metadata": {},
   "outputs": [],
   "source": [
    "df_eng['DATE'] = pd.to_datetime(df_eng['DATE'])\n",
    "df_test_rest_eng = df_eng[df_eng['DATE'].apply(lambda x:x.date()) > datetime.date(2015, 1, 31)]\n",
    "categorical_cols = ['AIRLINE', 'ORIGIN_AIRPORT', 'DESTINATION_AIRPORT']\n",
    "df_test_rest_eng = pd.get_dummies(df_test_rest_eng, columns=categorical_cols, drop_first=True)\n",
    "X_test_rest_eng = df_test_rest_eng.drop(['DATE','DELAY_OR_NOT'], axis=1)\n",
    "y_test_rest_eng = df_test_rest_eng['DELAY_OR_NOT']"
   ]
  },
  {
   "cell_type": "code",
   "execution_count": null,
   "metadata": {},
   "outputs": [],
   "source": [
    "print(\"The rest of test set (excluding training and test) accuracy: \", logregcv.score(X_test_rest_eng, y_test_rest_eng))\n",
    "y_hat_test_rest_eng = logregcv.predict(X_test_rest_eng)"
   ]
  },
  {
   "cell_type": "code",
   "execution_count": null,
   "metadata": {},
   "outputs": [],
   "source": [
    "conf_mat_eng2 = confusion_matrix(y_test_rest_eng, y_hat_test_rest_eng)\n",
    "conf_df_eng2 = pd.DataFrame(conf_mat_eng2, columns = ['y_hat=0', 'y_hat = 1'], index = ['y=0', 'y=1'])\n",
    "conf_df_eng2"
   ]
  },
  {
   "cell_type": "code",
   "execution_count": null,
   "metadata": {},
   "outputs": [],
   "source": [
    "print(\"True Positive Rate for the rest test set: \", float(conf_mat_eng2[1][1])/(conf_mat_eng2[1][1]+ conf_mat_eng2[1][0]))\n",
    "print(\"True Negative Rate for the rest test set: \", float(conf_mat_eng2[0][0])/(conf_mat_eng2[0][0] + conf_mat_eng2[0][1]))"
   ]
  },
  {
   "cell_type": "code",
   "execution_count": null,
   "metadata": {},
   "outputs": [],
   "source": [
    "preds_rest_eng = logregcv.predict_proba(X_test_rest_eng)[:,1]\n",
    "fpr_rest_eng, tpr_rest_eng, thresholds_rest_eng = roc_curve(y_test_rest_eng, preds_rest_eng)\n",
    "roc_auc_rest_eng = auc(fpr_rest_eng, tpr_rest_eng)\n",
    "print(\"AUC of the engineered model:\", roc_auc_rest_eng)"
   ]
  },
  {
   "cell_type": "code",
   "execution_count": null,
   "metadata": {},
   "outputs": [],
   "source": [
    "plt.figure(figsize=(8,6))\n",
    "ax=make_roc(\"engineered\",logregcv, y_test_rest_eng, X_test_rest_eng, labe=5000, skip=10)"
   ]
  },
  {
   "cell_type": "markdown",
   "metadata": {},
   "source": [
    "### 2. (5pts) Add one additional feature from a data source not given to you. Do this only after you complete the rest of the exam."
   ]
  },
  {
   "cell_type": "code",
   "execution_count": null,
   "metadata": {
    "collapsed": true
   },
   "outputs": [],
   "source": []
  }
 ],
 "metadata": {
  "kernelspec": {
   "display_name": "Python 3",
   "language": "python",
   "name": "python3"
  },
  "language_info": {
   "codemirror_mode": {
    "name": "ipython",
    "version": 3
   },
   "file_extension": ".py",
   "mimetype": "text/x-python",
   "name": "python",
   "nbconvert_exporter": "python",
   "pygments_lexer": "ipython3",
   "version": "3.6.3"
  }
 },
 "nbformat": 4,
 "nbformat_minor": 2
}
