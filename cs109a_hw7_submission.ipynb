{
 "cells": [
  {
   "cell_type": "markdown",
   "metadata": {},
   "source": [
    "# CS 109A/STAT 121A/AC 209A/CSCI E-109A: Homework 7\n",
    "# LDA/QDA and Decision Trees\n",
    "\n",
    "**Harvard University**<br/>\n",
    "**Fall 2017**<br/>\n",
    "**Instructors**: Pavlos Protopapas, Kevin Rader, Rahul Dave, Margo Levine\n",
    "\n",
    "---\n",
    "\n",
    "### INSTRUCTIONS\n",
    "\n",
    "- To submit your assignment follow the instructions given in canvas.\n",
    "- Restart the kernel and run the whole notebook again before you submit. \n",
    "- Do not include your name(s) in the notebook if you are submitting as a group. \n",
    "- If you submit individually and you have worked with someone, please include the name of your [one] partner below. \n",
    "\n",
    "---"
   ]
  },
  {
   "cell_type": "markdown",
   "metadata": {},
   "source": [
    "Your partner's name (if you submit separately):\n",
    "\n",
    "Enrollment Status (109A, 121A, 209A, or E109A):"
   ]
  },
  {
   "cell_type": "markdown",
   "metadata": {},
   "source": [
    "Import libraries:"
   ]
  },
  {
   "cell_type": "code",
   "execution_count": 1,
   "metadata": {},
   "outputs": [
    {
     "name": "stderr",
     "output_type": "stream",
     "text": [
      "/Users/yijunshen/anaconda3/lib/python3.6/site-packages/statsmodels/compat/pandas.py:56: FutureWarning: The pandas.core.datetools module is deprecated and will be removed in a future version. Please use the pandas.tseries module instead.\n",
      "  from pandas.core import datetools\n"
     ]
    }
   ],
   "source": [
    "import numpy as np\n",
    "import pandas as pd\n",
    "import matplotlib\n",
    "import matplotlib.pyplot as plt\n",
    "from sklearn.linear_model import LogisticRegressionCV\n",
    "import sklearn.metrics as metrics\n",
    "from sklearn.preprocessing import PolynomialFeatures\n",
    "from sklearn.discriminant_analysis import LinearDiscriminantAnalysis\n",
    "from sklearn.discriminant_analysis import QuadraticDiscriminantAnalysis\n",
    "from sklearn.neighbors import KNeighborsClassifier\n",
    "from sklearn.tree import DecisionTreeClassifier\n",
    "from sklearn.model_selection import cross_val_score\n",
    "#import pydotplus\n",
    "#import io\n",
    "from sklearn.tree import export_graphviz\n",
    "from IPython.display import Image\n",
    "from IPython.display import display\n",
    "%matplotlib inline\n",
    "\n",
    "import statsmodels.api as sm\n",
    "from sklearn.model_selection import KFold\n",
    "from sklearn.model_selection import LeaveOneOut"
   ]
  },
  {
   "cell_type": "markdown",
   "metadata": {},
   "source": [
    "\n",
    "## Multiclass Thyroid Classification\n",
    "\n",
    "In this problem, you will build a model for diagnosing disorders in a patient's thyroid gland. Given the results of medical tests on a patient, the task is to classify the patient either as:\n",
    "- *normal* (class 1)\n",
    "- having *hyperthyroidism* (class 2)\n",
    "- or having *hypothyroidism* (class 3). \n",
    "\n",
    "The data set is provided in the file `hw7_dataset.csv`. Columns 1-2 contain biomarkers for a patient (predictors):\n",
    "- Biomarker 1: (Logarithm of) level of basal thyroid-stimulating hormone (TSH) as measured by radioimmuno assay\n",
    "- Biomarker 2: (Logarithm of) maximal absolute difference of TSH value after injection of 200 micro grams of thyrotropin-releasing hormone as compared to the basal value.\n",
    "\n",
    "The last column contains the diagnosis for the patient from a medical expert. This data set was obtained from the UCI machine learning repository.\n",
    "\n",
    "Notice that unlike previous exercises, the task at hand is a 3-class classification problem. We will explore the use of different methods for multiclass classification.\n",
    "\n",
    "First task: split the data using the following code:"
   ]
  },
  {
   "cell_type": "code",
   "execution_count": 2,
   "metadata": {
    "collapsed": true
   },
   "outputs": [],
   "source": [
    "np.random.seed(9001)\n",
    "df = pd.read_csv('hw7_dataset.csv')\n",
    "df = df.rename(columns={'Biomarker 1': 'Biomarker_1', 'Biomarker 2': 'Biomarker_2'})\n",
    "msk = np.random.rand(len(df)) < 0.5\n",
    "data_train = df[msk]\n",
    "data_test = df[~msk]"
   ]
  },
  {
   "cell_type": "code",
   "execution_count": 3,
   "metadata": {},
   "outputs": [
    {
     "name": "stdout",
     "output_type": "stream",
     "text": [
      "(102, 3) (113, 3)\n"
     ]
    },
    {
     "data": {
      "text/html": [
       "<div>\n",
       "<style>\n",
       "    .dataframe thead tr:only-child th {\n",
       "        text-align: right;\n",
       "    }\n",
       "\n",
       "    .dataframe thead th {\n",
       "        text-align: left;\n",
       "    }\n",
       "\n",
       "    .dataframe tbody tr th {\n",
       "        vertical-align: top;\n",
       "    }\n",
       "</style>\n",
       "<table border=\"1\" class=\"dataframe\">\n",
       "  <thead>\n",
       "    <tr style=\"text-align: right;\">\n",
       "      <th></th>\n",
       "      <th>Biomarker_1</th>\n",
       "      <th>Biomarker_2</th>\n",
       "      <th>Diagnosis</th>\n",
       "    </tr>\n",
       "  </thead>\n",
       "  <tbody>\n",
       "    <tr>\n",
       "      <th>0</th>\n",
       "      <td>0.262372</td>\n",
       "      <td>0.875473</td>\n",
       "      <td>1.0</td>\n",
       "    </tr>\n",
       "    <tr>\n",
       "      <th>5</th>\n",
       "      <td>0.336479</td>\n",
       "      <td>1.098616</td>\n",
       "      <td>1.0</td>\n",
       "    </tr>\n",
       "    <tr>\n",
       "      <th>9</th>\n",
       "      <td>0.182330</td>\n",
       "      <td>-1.609488</td>\n",
       "      <td>2.0</td>\n",
       "    </tr>\n",
       "    <tr>\n",
       "      <th>12</th>\n",
       "      <td>-0.223131</td>\n",
       "      <td>0.788462</td>\n",
       "      <td>1.0</td>\n",
       "    </tr>\n",
       "    <tr>\n",
       "      <th>13</th>\n",
       "      <td>0.587792</td>\n",
       "      <td>1.458617</td>\n",
       "      <td>1.0</td>\n",
       "    </tr>\n",
       "  </tbody>\n",
       "</table>\n",
       "</div>"
      ],
      "text/plain": [
       "    Biomarker_1  Biomarker_2  Diagnosis\n",
       "0      0.262372     0.875473        1.0\n",
       "5      0.336479     1.098616        1.0\n",
       "9      0.182330    -1.609488        2.0\n",
       "12    -0.223131     0.788462        1.0\n",
       "13     0.587792     1.458617        1.0"
      ]
     },
     "execution_count": 3,
     "metadata": {},
     "output_type": "execute_result"
    }
   ],
   "source": [
    "print(data_train.shape, data_test.shape)\n",
    "data_train.head()"
   ]
  },
  {
   "cell_type": "code",
   "execution_count": 4,
   "metadata": {},
   "outputs": [
    {
     "data": {
      "text/html": [
       "<div>\n",
       "<style>\n",
       "    .dataframe thead tr:only-child th {\n",
       "        text-align: right;\n",
       "    }\n",
       "\n",
       "    .dataframe thead th {\n",
       "        text-align: left;\n",
       "    }\n",
       "\n",
       "    .dataframe tbody tr th {\n",
       "        vertical-align: top;\n",
       "    }\n",
       "</style>\n",
       "<table border=\"1\" class=\"dataframe\">\n",
       "  <thead>\n",
       "    <tr style=\"text-align: right;\">\n",
       "      <th></th>\n",
       "      <th>Biomarker_1</th>\n",
       "      <th>Biomarker_2</th>\n",
       "      <th>Diagnosis</th>\n",
       "    </tr>\n",
       "  </thead>\n",
       "  <tbody>\n",
       "    <tr>\n",
       "      <th>count</th>\n",
       "      <td>102.000000</td>\n",
       "      <td>102.000000</td>\n",
       "      <td>102.000000</td>\n",
       "    </tr>\n",
       "    <tr>\n",
       "      <th>mean</th>\n",
       "      <td>0.344213</td>\n",
       "      <td>0.136095</td>\n",
       "      <td>1.392157</td>\n",
       "    </tr>\n",
       "    <tr>\n",
       "      <th>std</th>\n",
       "      <td>0.830087</td>\n",
       "      <td>2.201512</td>\n",
       "      <td>0.677164</td>\n",
       "    </tr>\n",
       "    <tr>\n",
       "      <th>min</th>\n",
       "      <td>-2.302485</td>\n",
       "      <td>-11.512925</td>\n",
       "      <td>1.000000</td>\n",
       "    </tr>\n",
       "    <tr>\n",
       "      <th>25%</th>\n",
       "      <td>-0.105349</td>\n",
       "      <td>-1.076236</td>\n",
       "      <td>1.000000</td>\n",
       "    </tr>\n",
       "    <tr>\n",
       "      <th>50%</th>\n",
       "      <td>0.222351</td>\n",
       "      <td>0.641859</td>\n",
       "      <td>1.000000</td>\n",
       "    </tr>\n",
       "    <tr>\n",
       "      <th>75%</th>\n",
       "      <td>0.470010</td>\n",
       "      <td>1.273894</td>\n",
       "      <td>2.000000</td>\n",
       "    </tr>\n",
       "    <tr>\n",
       "      <th>max</th>\n",
       "      <td>4.032469</td>\n",
       "      <td>3.970292</td>\n",
       "      <td>3.000000</td>\n",
       "    </tr>\n",
       "  </tbody>\n",
       "</table>\n",
       "</div>"
      ],
      "text/plain": [
       "       Biomarker_1  Biomarker_2   Diagnosis\n",
       "count   102.000000   102.000000  102.000000\n",
       "mean      0.344213     0.136095    1.392157\n",
       "std       0.830087     2.201512    0.677164\n",
       "min      -2.302485   -11.512925    1.000000\n",
       "25%      -0.105349    -1.076236    1.000000\n",
       "50%       0.222351     0.641859    1.000000\n",
       "75%       0.470010     1.273894    2.000000\n",
       "max       4.032469     3.970292    3.000000"
      ]
     },
     "execution_count": 4,
     "metadata": {},
     "output_type": "execute_result"
    }
   ],
   "source": [
    "data_train.describe()"
   ]
  },
  {
   "cell_type": "markdown",
   "metadata": {},
   "source": [
    "## Question 1: Fit Classification Models\n",
    "\n",
    "1. Generate a 2D scatter plot of the training set, denoting each class with a different color. Does it appear that the data points can be separated well by a linear classifier?\n",
    "\n",
    "2. Briefly explain the difference between multinomial logistic regression and one-vs-rest (OvR) logistic regression methods for fitting a multiclass classifier (in 2-3 sentences).\n",
    "\n",
    "3. Fit linear classification models on the thyroid data set using both the methods.  You should use $L_2$ regularization in both cases, tuning the regularization parameter using cross-validation.  Is there a difference in the overall classification accuracy of the two methods on the training and test sets?\n",
    "\n",
    "4. Also, compare the training and test accuracies of these models with the following classification methods:\n",
    "    - Multiclass Logistic Regression with quadratic terms \n",
    "    - Linear Discriminant Analysis\n",
    "    - Quadratic Discriminant Analysis\n",
    "    - k-Nearest Neighbors\n",
    "    <br>\n",
    "*Note:* you may use either the OvR or multinomial variant for the multiclass logistic regression (with $L_2$ regularization). Do not forget to use cross-validation to choose the regularization parameter, and also the number of neighbors in k-NN. \n",
    "\n",
    "5. Does the inclusion of the polynomial terms in logistic regression yield better test accuracy compared to the model with only linear terms? \n",
    "\n",
    "\n",
    "*Hint:* You may use the `KNeighborsClassifier` class to fit a k-NN classification model."
   ]
  },
  {
   "cell_type": "code",
   "execution_count": 5,
   "metadata": {},
   "outputs": [
    {
     "data": {
      "image/png": "[encoded data removed]",
      "text/plain": [
       "<matplotlib.figure.Figure at 0x108c86eb8>"
      ]
     },
     "metadata": {},
     "output_type": "display_data"
    }
   ],
   "source": [
    "data_train_1 = data_train.loc[data_train['Diagnosis'] == 1.0]\n",
    "data_train_2 = data_train.loc[data_train['Diagnosis'] == 2.0]\n",
    "data_train_3 = data_train.loc[data_train['Diagnosis'] == 3.0]\n",
    "\n",
    "fig, ax = plt.subplots(1, 1, figsize=(10, 6))\n",
    "ax.scatter(data_train_1.Biomarker_1, data_train_1.Biomarker_2, label=\"normal\", color=\"green\", alpha=0.3)\n",
    "ax.scatter(data_train_2.Biomarker_1, data_train_2.Biomarker_2, label=\"hyperthyroidism\", color=\"red\", alpha=0.3)\n",
    "ax.scatter(data_train_3.Biomarker_1, data_train_3.Biomarker_2, label=\"hypothyroidism\", color=\"blue\", alpha=0.3)\n",
    "ax.set_xlabel(\"Biomarker_1\")\n",
    "ax.set_ylabel(\"Biomarker_2\")\n",
    "ax.set_title(\"Scatter Plot of Diagnosis vs. Biomarkers\")\n",
    "ax.legend(loc=4)\n",
    "plt.show()"
   ]
  },
  {
   "cell_type": "markdown",
   "metadata": {},
   "source": [
    "## Answer:\n",
    "### 1. Generate a 2D scatter plot of the training set, denoting each class with a different color. Does it appear that the data points can be separated well by a linear classifier?\n",
    "- Possibly yes. We can draw a nealy horizontal line to divide green and red dots, though this may cause some green dots classified into red ones. We can also draw a line to divide blue and green dots, with only a few blue dots misclassified into green.\n",
    "- Generally speaking, the data points can be separated well by a linear clasifier."
   ]
  },
  {
   "cell_type": "markdown",
   "metadata": {},
   "source": [
    "### 2. Briefly explain the difference between multinomial logistic regression and one-vs-rest (OvR) logistic regression methods for fitting a multiclass classifier (in 2-3 sentences).\n",
    "- In multinomial logistic regression, dependent variable is nominal with more than two levels, such as \"normal\", \"hyperthyroidism\" and \"hypothyroidism\" in the above example. \n",
    "- One-vs-rest (OvR) compares one group to everything else, for example, normal and abnormal, where abnormal is hyperthyroidism and hypothyroidism. But there could be difference between hyperthyroidism and hypothyroidism, which can be analyzed using multinomial logistic regression."
   ]
  },
  {
   "cell_type": "code",
   "execution_count": 6,
   "metadata": {},
   "outputs": [],
   "source": [
    "X_train = data_train[[\"Biomarker_1\", \"Biomarker_2\"]]\n",
    "y_train = data_train[\"Diagnosis\"]\n",
    "X_test = data_test[[\"Biomarker_1\", \"Biomarker_2\"]]\n",
    "y_test = data_test[\"Diagnosis\"]"
   ]
  },
  {
   "cell_type": "markdown",
   "metadata": {},
   "source": [
    "#### Multinomial Logistic Regression"
   ]
  },
  {
   "cell_type": "code",
   "execution_count": 7,
   "metadata": {},
   "outputs": [
    {
     "name": "stdout",
     "output_type": "stream",
     "text": [
      "Multinomial Logistic regression classifier on train set has accuracy: 0.892156862745\n",
      "Multinomial Logistic regression classifier on test set has accuracy: 0.884955752212\n"
     ]
    }
   ],
   "source": [
    "# Multinomial Logistic Regression\n",
    "X_train_mul = sm.add_constant(X_train)\n",
    "X_test_mul = sm.add_constant(X_test)\n",
    "reg_Cs = np.hstack((10.**np.arange(-5, 0), 10**np.arange(0, 6)))\n",
    "log_multi = LogisticRegressionCV(reg_Cs, cv=5, penalty='l2', multi_class=\"multinomial\")\n",
    "log_multi.fit(X_train_mul, y_train)\n",
    "print(\"Multinomial Logistic regression classifier on train set has accuracy:\", log_multi.score(X_train_mul, y_train))\n",
    "print(\"Multinomial Logistic regression classifier on test set has accuracy:\", log_multi.score(X_test_mul, y_test))"
   ]
  },
  {
   "cell_type": "markdown",
   "metadata": {},
   "source": [
    "#### One-vs-rest (OvR) Logistic Regression"
   ]
  },
  {
   "cell_type": "code",
   "execution_count": 8,
   "metadata": {},
   "outputs": [
    {
     "name": "stdout",
     "output_type": "stream",
     "text": [
      "OVR Logistic regression classifier on train set has accuracy: 0.843137254902\n",
      "OVR Logistic regression classifier on test set has accuracy: 0.840707964602\n"
     ]
    }
   ],
   "source": [
    "# One-vs-rest (OvR) Logistic Regression\n",
    "log_ovr = LogisticRegressionCV(reg_Cs, cv=5, penalty='l2', multi_class=\"ovr\")\n",
    "log_ovr.fit(X_train_mul, y_train)\n",
    "print(\"OVR Logistic regression classifier on train set has accuracy:\", log_ovr.score(X_train_mul, y_train))\n",
    "print(\"OVR Logistic regression classifier on test set has accuracy:\", log_ovr.score(X_test_mul, y_test))"
   ]
  },
  {
   "cell_type": "markdown",
   "metadata": {},
   "source": [
    "### 3. Fit linear classification models on the thyroid data set using both the methods. You should use  $L_2$ regularization in both cases, tuning the regularization parameter using cross-validation. Is there a difference in the overall classification accuracy of the two methods on the training and test sets?\n",
    "- One obvious rsult is that accuracy score on train set is always higher than accuracy score on test set.\n",
    "- Overall classification accuracy of the multinomial method is higher than the one of the OvR method. I think this is because for the current dataset, the three classes are exclusive, and therefore multinomial logistic regression is a better choice."
   ]
  },
  {
   "cell_type": "markdown",
   "metadata": {},
   "source": [
    "#### Multiclass Logistic Regression with quadratic terms"
   ]
  },
  {
   "cell_type": "code",
   "execution_count": 9,
   "metadata": {},
   "outputs": [
    {
     "name": "stdout",
     "output_type": "stream",
     "text": [
      "Multinomial Logistic regression with queadratic terms on train set has accuracy: 0.892156862745\n",
      "Multinomial Logistic regression with queadratic terms on test set has accuracy: 0.884955752212\n"
     ]
    }
   ],
   "source": [
    "# Multiclass Logistic Regression with quadratic terms\n",
    "X_train2 = X_train.copy()\n",
    "X_test2 = X_test.copy()\n",
    "X_train2[\"B1_sq\"] = X_train2[\"Biomarker_1\"]**2\n",
    "X_train2[\"B2_sq\"] = X_train2[\"Biomarker_2\"]**2\n",
    "X_test2[\"B1_sq\"] = X_test2[\"Biomarker_1\"]**2\n",
    "X_test2[\"B2_sq\"] = X_test2[\"Biomarker_2\"]**2\n",
    "\n",
    "X_train_mul2 = sm.add_constant(X_train2)\n",
    "X_test_mul2 = sm.add_constant(X_test2)\n",
    "log_multi2 = LogisticRegressionCV(reg_Cs, cv=5, penalty='l2', multi_class=\"multinomial\")\n",
    "log_multi2.fit(X_train_mul2, y_train)\n",
    "print(\"Multinomial Logistic regression with queadratic terms on train set has accuracy:\",\\\n",
    "      log_multi2.score(X_train_mul2, y_train))\n",
    "print(\"Multinomial Logistic regression with queadratic terms on test set has accuracy:\",\\\n",
    "      log_multi2.score(X_test_mul2, y_test))"
   ]
  },
  {
   "cell_type": "markdown",
   "metadata": {},
   "source": [
    "#### Linear Discriminant Analysis"
   ]
  },
  {
   "cell_type": "code",
   "execution_count": 10,
   "metadata": {},
   "outputs": [
    {
     "name": "stdout",
     "output_type": "stream",
     "text": [
      "LDA on train set has accuracy: 0.872549019608\n",
      "LDA on test set has accuracy: 0.83185840708\n"
     ]
    }
   ],
   "source": [
    "# Linear Discriminant Analysis\n",
    "# cross validation\n",
    "LDA = LinearDiscriminantAnalysis()\n",
    "model_LDA = LDA.fit(X_train, y_train)\n",
    "print(\"LDA on train set has accuracy:\", model_LDA.score(X_train, y_train))\n",
    "print(\"LDA on test set has accuracy:\", model_LDA.score(X_test, y_test))"
   ]
  },
  {
   "cell_type": "code",
   "execution_count": 11,
   "metadata": {},
   "outputs": [
    {
     "name": "stdout",
     "output_type": "stream",
     "text": [
      "[0.86419753086419748, 0.86419753086419748, 0.87804878048780488, 0.86585365853658536, 0.87804878048780488]\n",
      "[0.8571428571428571, 0.90476190476190477, 0.84999999999999998, 0.90000000000000002, 0.94999999999999996]\n",
      "0.870069256248 0.892380952381\n"
     ]
    },
    {
     "name": "stderr",
     "output_type": "stream",
     "text": [
      "/Users/yijunshen/anaconda3/lib/python3.6/site-packages/sklearn/discriminant_analysis.py:442: UserWarning: The priors do not sum to 1. Renormalizing\n",
      "  UserWarning)\n"
     ]
    }
   ],
   "source": [
    "lda = LinearDiscriminantAnalysis()\n",
    "\n",
    "train_scores = []\n",
    "valid_scores = []\n",
    "\n",
    "for itrain, ivalid in KFold(n_splits=5, shuffle=True, random_state=9001).split(X_train.index):\n",
    "    X_train_cv = X_train.iloc[itrain,:]\n",
    "    y_train_cv = y_train.iloc[itrain]\n",
    "    X_valid_cv = X_train.iloc[ivalid,:]\n",
    "    y_valid_cv = y_train.iloc[ivalid]\n",
    "    \n",
    "    lda.fit(X_train_cv, y_train_cv)\n",
    "    train_scores.append(lda.score(X_train_cv, y_train_cv))\n",
    "    valid_scores.append(lda.score(X_valid_cv, y_valid_cv))\n",
    "\n",
    "train_scores_mean = np.mean(train_scores)\n",
    "valid_scores_mean = np.mean(valid_scores)\n",
    "print(train_scores)\n",
    "print(valid_scores)\n",
    "print(train_scores_mean, valid_scores_mean)"
   ]
  },
  {
   "cell_type": "markdown",
   "metadata": {},
   "source": [
    "#### Quadratic Discriminant Analysis"
   ]
  },
  {
   "cell_type": "code",
   "execution_count": 12,
   "metadata": {},
   "outputs": [
    {
     "name": "stdout",
     "output_type": "stream",
     "text": [
      "QDA on train set has accuracy: 0.872549019608\n",
      "QDA on test set has accuracy: 0.872549019608\n"
     ]
    }
   ],
   "source": [
    "# Quadratic Discriminant Analysis\n",
    "# cross validation\n",
    "QDA = QuadraticDiscriminantAnalysis()\n",
    "model_QDA = QDA.fit(X_train, y_train)\n",
    "print(\"QDA on train set has accuracy:\", model_QDA.score(X_train, y_train))\n",
    "print(\"QDA on test set has accuracy:\", model_QDA.score(X_train, y_train))"
   ]
  },
  {
   "cell_type": "markdown",
   "metadata": {},
   "source": [
    "#### k-Nearest Neighbors"
   ]
  },
  {
   "cell_type": "code",
   "execution_count": 13,
   "metadata": {},
   "outputs": [
    {
     "name": "stdout",
     "output_type": "stream",
     "text": [
      "train score with k from 1 to 50:\n",
      "[ 0.97548931  0.9092442   0.92890696  0.9166215   0.92152966  0.88467329\n",
      "  0.88958145  0.87976513  0.88964167  0.88476363  0.87979524  0.87735622\n",
      "  0.88229449  0.85284553  0.85284553  0.82351701  0.83574225  0.81613972\n",
      "  0.82107799  0.79891599  0.79891599  0.79400783  0.79153869  0.79397772\n",
      "  0.79644685  0.74504667  0.74504667  0.73041253  0.73041253  0.72059621\n",
      "  0.72059621  0.71571816  0.71571816  0.71571816  0.71571816  0.71571816\n",
      "  0.71571816  0.71571816  0.71571816  0.71571816  0.71571816  0.71571816\n",
      "  0.71571816  0.71571816  0.71571816  0.71571816  0.71571816  0.71571816\n",
      "  0.71571816]\n",
      "valid score with k from 1 to 50:\n",
      "[ 0.86238095  0.84238095  0.91095238  0.87190476  0.86142857  0.81238095\n",
      "  0.84142857  0.83190476  0.88095238  0.80333333  0.83238095  0.81333333\n",
      "  0.82333333  0.80333333  0.82285714  0.80285714  0.81285714  0.80285714\n",
      "  0.81285714  0.78380952  0.78380952  0.7647619   0.7647619   0.72571429\n",
      "  0.72571429  0.71619048  0.71619048  0.71619048  0.71619048  0.71619048\n",
      "  0.71619048  0.71619048  0.71619048  0.71619048  0.71619048  0.71619048\n",
      "  0.71619048  0.71619048  0.71619048  0.71619048  0.71619048  0.71619048\n",
      "  0.71619048  0.71619048  0.71619048  0.71619048  0.71619048  0.71619048\n",
      "  0.71619048]\n",
      "best choice of k is: 3\n"
     ]
    }
   ],
   "source": [
    "# k-Nearest Neighbors\n",
    "train_scores = []\n",
    "valid_scores = []\n",
    "\n",
    "for itrain, ivalid in KFold(n_splits=5, shuffle=True, random_state=9001).split(X_train.index):\n",
    "    X_train_cv = X_train.iloc[itrain,:]\n",
    "    y_train_cv = y_train.iloc[itrain]\n",
    "    X_valid_cv = X_train.iloc[ivalid,:]\n",
    "    y_valid_cv = y_train.iloc[ivalid]\n",
    "    train_score = []\n",
    "    valid_score = []\n",
    "    \n",
    "    for i in range(1,50):\n",
    "        knn_i = KNeighborsClassifier(i)\n",
    "        knn_i.fit(X_train_cv, y_train_cv)\n",
    "        train_score.append(knn_i.score(X_train_cv, y_train_cv))\n",
    "        valid_score.append(knn_i.score(X_valid_cv, y_valid_cv))\n",
    "    train_scores.append(train_score)\n",
    "    valid_scores.append(valid_score)\n",
    "\n",
    "train_scores = np.array(train_scores)\n",
    "print(\"train score with k from 1 to 50:\")\n",
    "print(np.mean(train_scores, axis=0))\n",
    "valid_scores = np.array(valid_scores)\n",
    "print(\"valid score with k from 1 to 50:\")\n",
    "print(np.mean(valid_scores, axis=0))\n",
    "best_k = np.argmax(np.mean(valid_scores, axis=0)) + 1\n",
    "print(\"best choice of k is:\", best_k)"
   ]
  },
  {
   "cell_type": "code",
   "execution_count": 14,
   "metadata": {},
   "outputs": [
    {
     "name": "stdout",
     "output_type": "stream",
     "text": [
      "knn with k=3 on train set has accuracy: 0.93137254902\n",
      "knn with k=3 on test set has accuracy: 0.867256637168\n"
     ]
    }
   ],
   "source": [
    "knn3 = KNeighborsClassifier(3)\n",
    "knn3.fit(X_train, y_train)\n",
    "print(\"knn with k=3 on train set has accuracy:\", knn3.score(X_train, y_train))\n",
    "print(\"knn with k=3 on test set has accuracy:\", knn3.score(X_test, y_test))"
   ]
  },
  {
   "cell_type": "markdown",
   "metadata": {},
   "source": [
    "## Answer:\n",
    "### 4. Compare the training and test accuracies of these models with these classification methods:\n",
    "- "
   ]
  },
  {
   "cell_type": "markdown",
   "metadata": {},
   "source": [
    "## Answer:\n",
    "### 5. Does the inclusion of the polynomial terms in logistic regression yield better test accuracy compared to the model with only linear terms?\n",
    "- Not really. With the inclusin of the polynomial terms in logistic regression, the accuracy scores of both train and test are still the same as the model with only linear terms."
   ]
  },
  {
   "cell_type": "markdown",
   "metadata": {},
   "source": [
    "## Question 2: Visualize Decision Boundaries\n",
    "\n",
    "The following code will allow you to visualize the decision boundaries of a given classification model."
   ]
  },
  {
   "cell_type": "code",
   "execution_count": 17,
   "metadata": {
    "collapsed": true
   },
   "outputs": [],
   "source": [
    "#--------  plot_decision_boundary\n",
    "# A function that visualizes the data and the decision boundaries\n",
    "# Input: \n",
    "#      x (predictors)\n",
    "#      y (labels)\n",
    "#      model (the classifier you want to visualize)\n",
    "#      title (title for plot)\n",
    "#      ax (a set of axes to plot on)\n",
    "#      poly_degree (highest degree of polynomial terms included in the model; None by default)\n",
    "\n",
    "def plot_decision_boundary(x, y, model, title, ax, poly_degree=None):\n",
    "    # Create mesh\n",
    "    # Interval of points for biomarker 1\n",
    "    min0 = x[:,0].min()\n",
    "    max0 = x[:,0].max()\n",
    "    interval0 = np.arange(min0, max0, (max0-min0)/100)\n",
    "    n0 = np.size(interval0)\n",
    "    \n",
    "    # Interval of points for biomarker 2\n",
    "    min1 = x[:,1].min()\n",
    "    max1 = x[:,1].max()\n",
    "    interval1 = np.arange(min1, max1, (max1-min1)/100)\n",
    "    n1 = np.size(interval1)\n",
    "\n",
    "    # Create mesh grid of points\n",
    "    x1, x2 = np.meshgrid(interval0, interval1)\n",
    "    x1 = x1.reshape(-1,1)\n",
    "    x2 = x2.reshape(-1,1)\n",
    "    xx = np.concatenate((x1, x2), axis=1)\n",
    "\n",
    "    # Predict on mesh of points\n",
    "    # Check if polynomial terms need to be included\n",
    "    if(poly_degree!=None):\n",
    "        # Use PolynomialFeatures to generate polynomial terms\n",
    "        poly = PolynomialFeatures(poly_degree)\n",
    "        xx_ = poly.fit_transform(xx)\n",
    "        yy = model.predict(xx_) \n",
    "    else:   \n",
    "        yy = model.predict(xx)\n",
    "        \n",
    "    yy = yy.reshape((n0, n1))\n",
    "\n",
    "    # Plot decision surface\n",
    "    x1 = x1.reshape(n0, n1)\n",
    "    x2 = x2.reshape(n0, n1)\n",
    "    ax.contourf(x1, x2, yy, cmap=plt.cm.coolwarm, alpha=0.8)\n",
    "    \n",
    "    # Plot scatter plot of data\n",
    "    yy = y.reshape(-1,)\n",
    "    ax.scatter(x[yy==1,0], x[yy==1,1], c='blue', label='Normal', cmap=plt.cm.coolwarm)\n",
    "    ax.scatter(x[yy==2,0], x[yy==2,1], c='cyan', label='Hyper', cmap=plt.cm.coolwarm)\n",
    "    ax.scatter(x[yy==3,0], x[yy==3,1], c='red', label='Hypo', cmap=plt.cm.coolwarm)\n",
    "    \n",
    "    # Label axis, title\n",
    "    ax.set_title(title)\n",
    "    ax.set_xlabel('Biomarker 1')\n",
    "    ax.set_ylabel('Biomarker 2')"
   ]
  },
  {
   "cell_type": "markdown",
   "metadata": {},
   "source": [
    "**Note:** The provided code uses `sklearn`'s `PolynomialFeatures` to generate higher-order polynomial terms, with degree `poly_degree`. \n",
    "Also, if you have loaded the data sets into `pandas` data frames, you may use the `as_matrix` function to obtain a `numpy` array from the data frame objects.\n",
    "\n",
    "1. Use the above code to visualize the decision boundaries for each of the model fitted in the previous part.\n",
    "2. Comment on the difference in the decision boundaries (if any) for the OvR and multinomial logistic regression models. Is there a difference between the decision boundaries for the linear logistic regression models and LDA. What about the decision boundaries for the quadratic logistic regression and QDA? Give an explanation for your answer."
   ]
  },
  {
   "cell_type": "markdown",
   "metadata": {},
   "source": [
    "### Decision Boundaries for Multinomial Logistic Regression"
   ]
  },
  {
   "cell_type": "code",
   "execution_count": null,
   "metadata": {
    "collapsed": true
   },
   "outputs": [],
   "source": []
  },
  {
   "cell_type": "markdown",
   "metadata": {},
   "source": [
    "### Decision Boundaries for One-vs-rest (OvR) Logistic Regression"
   ]
  },
  {
   "cell_type": "code",
   "execution_count": null,
   "metadata": {
    "collapsed": true
   },
   "outputs": [],
   "source": []
  },
  {
   "cell_type": "markdown",
   "metadata": {},
   "source": [
    "### Decision Boundaries for Multiclass Logistic Regression with quadratic terms"
   ]
  },
  {
   "cell_type": "code",
   "execution_count": null,
   "metadata": {
    "collapsed": true
   },
   "outputs": [],
   "source": []
  },
  {
   "cell_type": "markdown",
   "metadata": {},
   "source": [
    "### Decision Boundaries for LDA"
   ]
  },
  {
   "cell_type": "code",
   "execution_count": 39,
   "metadata": {},
   "outputs": [
    {
     "data": {
      "image/png": "[encoded data removed]",
      "text/plain": [
       "<matplotlib.figure.Figure at 0x1c132a9dd8>"
      ]
     },
     "metadata": {},
     "output_type": "display_data"
    }
   ],
   "source": [
    "LDA = LinearDiscriminantAnalysis()\n",
    "model_LDA = LDA.fit(X_train, y_train)\n",
    "fig, (ax1, ax2) = plt.subplots(1, 2, figsize=(10,6))\n",
    "plot_decision_boundary(X_train.as_matrix(), y_train.as_matrix(), model_LDA, \"LDA_train\", ax1)\n",
    "plot_decision_boundary(X_test.as_matrix(), y_test.as_matrix(), model_LDA, \"LDA_test\", ax2)"
   ]
  },
  {
   "cell_type": "markdown",
   "metadata": {},
   "source": [
    "### Decision Boundaries for QDA\n"
   ]
  },
  {
   "cell_type": "code",
   "execution_count": 40,
   "metadata": {},
   "outputs": [
    {
     "data": {
      "image/png": "[encoded data removed]",
      "text/plain": [
       "<matplotlib.figure.Figure at 0x10bd1e6d8>"
      ]
     },
     "metadata": {},
     "output_type": "display_data"
    }
   ],
   "source": [
    "QDA = QuadraticDiscriminantAnalysis()\n",
    "model_QDA = QDA.fit(X_train, y_train)\n",
    "fig, (ax1, ax2) = plt.subplots(1, 2, figsize=(10,6))\n",
    "plot_decision_boundary(X_train.as_matrix(), y_train.as_matrix(), model_QDA, \"QDA_train\", ax1)\n",
    "plot_decision_boundary(X_test.as_matrix(), y_test.as_matrix(), model_QDA, \"QDA_test\", ax2)"
   ]
  },
  {
   "cell_type": "markdown",
   "metadata": {},
   "source": [
    "### Decision Boundaries for k-NN"
   ]
  },
  {
   "cell_type": "code",
   "execution_count": 41,
   "metadata": {},
   "outputs": [
    {
     "data": {
      "image/png": "[encoded data removed]",
      "text/plain": [
       "<matplotlib.figure.Figure at 0x10bda9cf8>"
      ]
     },
     "metadata": {},
     "output_type": "display_data"
    }
   ],
   "source": [
    "knn3 = KNeighborsClassifier(3)\n",
    "knn3.fit(X_train, y_train)\n",
    "fig, (ax1, ax2) = plt.subplots(1, 2, figsize=(10,6))\n",
    "plot_decision_boundary(X_train.as_matrix(), y_train.as_matrix(), knn3, \"knn(k=3)_train\", ax1)\n",
    "plot_decision_boundary(X_test.as_matrix(), y_test.as_matrix(), knn3, \"knn(k=3)_test\", ax2)"
   ]
  },
  {
   "cell_type": "markdown",
   "metadata": {},
   "source": [
    "## Question 3: Fit Decision Trees\n",
    "\n",
    "We next try out decision trees for thyroid classification. For the following questions, you may use the *Gini* index as the splitting criterion while fitting the decision tree. \n",
    "1. Fit a decision tree model to the thyroid data set with (maximum) tree depths 2, 3, ..., 10. Make plots of the training and test accuracies as a function of the tree depth. Is there a depth at which the fitted decision tree model achieves near-perfect classification on the training set? If so, what can you say about the test accuracy of this model?\n",
    "\n",
    "2. Use 5-fold cross-validation to find the optimal tree depth. How does the performance of a decision tree fitted with this depth compare with the models fitted in Part 2(a)?\n",
    "\n",
    "3. Use the code provided in Part 2(c) to visualize the decision boundary of the fitted decision tree. How is the decision boundary of the decision tree model different from the other methods? Given an explanation for your observation.\n",
    "\n",
    "4. Use the `export_graphviz` function in `sklearn` to generate a visualization of the tree diagram for the fitted model. Based on the visualization, explain *in words* how the fitted model diagnoses 'hypothyroidism' for a patient.  \n"
   ]
  },
  {
   "cell_type": "markdown",
   "metadata": {},
   "source": [
    "*Note:* Look at the `export_graphviz` function in the `sklearn.tree` module. \n",
    "\n",
    "You can get a graphic for this visualization by pasting the generated graphviz file in the text box at http://www.webgraphviz.com/ , or you can do it on your own computer.\n",
    "\n",
    "If you choose the do the latter, you will have to install `GraphViz` and `pydot` to use the decision tree rendering code. For this, you may execute the following commands in a terminal:\n",
    "\n",
    "`$pip install graphviz`<br>\n",
    "`$pip install pydot`\n",
    "\n",
    "*Hint:* You may use the `DecisionTreeClassifier` class to fit a decision tree classifier and the `max_depth` attribute to set the tree depth. You may use the `cross_val_score` function for cross-validation with decision trees."
   ]
  },
  {
   "cell_type": "markdown",
   "metadata": {},
   "source": [
    "## Question 4: Too many models to choose from!\n",
    "\n",
    "We have so far seen six different ways of fitting a classification model for thyroid classification problem: **linear logistic regression**, **logistic regression with polynomial terms**, **LDA**, **QDA**, **k-NN** and **decision tree**. Which of these methods should one use in practice? To answer this question, we now look at the pros and cons of each method.\n",
    "\n",
    "1. Compare and contrast the six models based on each of the following criteria (a supporting table to summarize your  thoughts can be helpful):\n",
    "  - Classification performance\n",
    "  - Complexity of decision boundary\n",
    "  - Memory storage\n",
    "  - Ease of interpretability\n",
    "\n",
    "2. If you were a clinician who had to use the classifier to diagnose thyroid disorders in patients, which among the six methods would you be most comfortable in using? "
   ]
  },
  {
   "cell_type": "markdown",
   "metadata": {},
   "source": [
    "## Question 5: Including an 'abstain' option\n",
    "\n",
    "One of the reasons a hospital might be hesitant to use your thyroid classification model is that a misdiagnosis by the model on a patient can sometimes prove to be very costly (e.g. if the patient were to file a law suit seeking a compensation for damages). One way to mitigate this concern is to allow the model to 'abstain' from making a prediction, whenever it is uncertain about the diagnosis for a patient. However, when the model abstains from making a prediction, the hospital will have to forward the patient to a thyroid specialist (i.e. an endocrinologist), which would incur additional cost. How does one design a thyroid classification model with an abstain option, such that the cost to the hospital is minimized?\n",
    "\n",
    "1. More specifically, suppose the cost incurred by a hospital when a model mis-predicts on a patient is \\$5000, and the cost incurred when the model abstains from making a prediction is \\$1000. What is the average cost per patient for the OvR logistic regression model from Question 1, Part 3? Note that this needs to be evaluated on the patients in the test set. Your task is to design a classification strategy (into the 3 groups plus the *abstain* group) that has as low cost as possible per patient.   Give a justification for your approach.\n",
    "\n",
    "2. **Presentation:** Prepare a set of 5 slides explaining your approach to the hospital management. Your presentation must be accessible to the lay man. Explain in particular how your approach would be robust to changes in the costs of using the abstain option.\n",
    "\n",
    "*Hint:* think of a way to use the estimated probabilities from the logistic regression model to decide who to classify as *abstain*."
   ]
  },
  {
   "cell_type": "code",
   "execution_count": null,
   "metadata": {
    "collapsed": true
   },
   "outputs": [],
   "source": []
  }
 ],
 "metadata": {
  "anaconda-cloud": {},
  "kernelspec": {
   "display_name": "Python 3",
   "language": "python",
   "name": "python3"
  },
  "language_info": {
   "codemirror_mode": {
    "name": "ipython",
    "version": 3
   },
   "file_extension": ".py",
   "mimetype": "text/x-python",
   "name": "python",
   "nbconvert_exporter": "python",
   "pygments_lexer": "ipython3",
   "version": "3.6.2"
  }
 },
 "nbformat": 4,
 "nbformat_minor": 1
}
