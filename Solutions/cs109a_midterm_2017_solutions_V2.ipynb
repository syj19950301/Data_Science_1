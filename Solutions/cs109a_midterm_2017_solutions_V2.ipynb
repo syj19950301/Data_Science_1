{
 "cells": [
  {
   "cell_type": "markdown",
   "metadata": {},
   "source": [
    "# CS 109A/STAT 121A/AC 209A/CSCI E-109A: \n",
    "# Midterm - 2017\n",
    "\n",
    "**Harvard University**<br/>\n",
    "**Fall 2017**<br/>\n",
    "**Instructors**: Pavlos Protopapas, Kevin Rader, Rahul Dave, Margo Levine\n",
    "\n",
    "---\n",
    "\n",
    "### INSTRUCTIONS\n",
    "\n",
    "\n",
    "- You must submit the Midterm on your own. ** No group submissions are allowed**. You may use any print or online resources but ** you may not work or consult with others**.\n",
    "- Restart the kernel and run the whole notebook again before you submit. \n",
    "- Please submit both a notebook and a pdf.\n",
    " \n",
    "\n",
    "---\n",
    "\n",
    "Note that these solutions represent one way of doing this midterm, there are multiple ways, all equally correct, and we have graded each submission individually taking this into account."
   ]
  },
  {
   "cell_type": "markdown",
   "metadata": {},
   "source": [
    "\n",
    "## Flight Delays\n",
    "\n",
    "The U.S. Department of Transportation's (DOT) Bureau of Transportation Statistics tracks the on-time performance of domestic flights operated by large air carriers. Summary information on the number of on-time, delayed, canceled, and diverted flights are published in DOT's monthly Air Travel Consumer Report and in this dataset of 2015 flight delays and cancellations.\n",
    "\n",
    "\n",
    "## Data\n",
    "Each entry of the flights.csv file corresponds to a flight.  More than 5,800,000 flights were recorded in 2015. These flights are described according to 31 variables. Further details of these variables can be found <a href='https://www.transtats.bts.gov/DL_SelectFields.asp?Table_ID=236&DB_Short_Name=On-Time'>here</a>, if you are interested (not needed to answer these questions). \n",
    "\n",
    "\n",
    " \n",
    "\n",
    "|          Name          | Type | DESCRIPTION |\n",
    "|--------------------------------|---|----------------------------------------------------------------------|\n",
    "| DATE                     | object | The date in python datetime format |\n",
    "| MONTH                     | int64 | The month of the year(1-12) |\n",
    "| DAY                       | int64 | The day of the month |\n",
    "| DAY_OF_WEEK               | int64 | The day of the week(1-7, MON-SUN) |\n",
    "| AIRLINE                  | object | An identifier for the airline |\n",
    "| FLIGHT_NUMBER             | int64 | The flight number |\n",
    "| TAIL_NUMBER              | object | The tail number (aircraft) corresponding to this flight |\n",
    "| ORIGIN_AIRPORT           | object | The code for origin airport |\n",
    "| DESTINATION_AIRPORT      | object | The code for destination airport |\n",
    "| SCHED_DEP                | object | The departure time in python datetime.time format |\n",
    "| SCHED_ARR                | object | The arrival time in python datetime.time format |\n",
    "| DEPARTURE_DELAY         |  float64| The delay incurred at the origin  (mins) |\n",
    "| ARRIVAL_DELAY           | float64 | The delay when the flight reached the (mins) destination |\n",
    "| DISTANCE                  | int64 | Distance in miles between origin and destination |\n",
    "| SCHEDULED_TIME          | float64 | Scheduled time of flight (minutes) |\n",
    "| ELAPSED_TIME            | float64 | Actual time of flight (minutes) |\n",
    "| AIR_SYSTEM_DELAY        | float64 | What part of the delay was NASD?(mins) |\n",
    "| SECURITY_DELAY          | float64 | What part of the delay was due to security problems? (mins) |\n",
    "| AIRLINE_DELAY           | float64 | What part of the delay is due to the airline? (mins) |\n",
    "| LATE_AIRCRAFT_DELAY     | float64 | What part of the delay is due to previous flight(s) being late(mins) |\n",
    "| WEATHER_DELAY           | float64 | Delay due to extreme weather events(min) |\n",
    "\n",
    "You can read more about the various weather delays [here](https://www.rita.dot.gov/bts/help/aviation/html/understanding.html) if you are so inclined.\n",
    "\n",
    "\n",
    "\n",
    "## Data/Caveats\n",
    "\n",
    "The data file, flights.csv, is found <a href=\"https://drive.google.com/file/d/0B9dVesTppCgHY0IwZHk3SGhjd00/view?usp=sharing\">here</a> (note, it is about 70MB). \n",
    "\n",
    "This data is already preprocessed, reduced, partially cleaned and therefore not identical to the original dataset."
   ]
  },
  {
   "cell_type": "code",
   "execution_count": 1,
   "metadata": {
    "collapsed": true
   },
   "outputs": [],
   "source": [
    "# the usual imports:\n",
    "import numpy as np\n",
    "import pandas as pd\n",
    "import sklearn as sk\n",
    "import matplotlib\n",
    "import matplotlib.pyplot as plt\n",
    "from sklearn.linear_model import LogisticRegressionCV\n",
    "import sklearn.metrics as metrics\n",
    "from sklearn.preprocessing import PolynomialFeatures\n",
    "from sklearn.preprocessing import OneHotEncoder\n",
    "from sklearn.discriminant_analysis import LinearDiscriminantAnalysis\n",
    "from sklearn.discriminant_analysis import QuadraticDiscriminantAnalysis\n",
    "from sklearn.neighbors import KNeighborsClassifier\n",
    "from sklearn.tree import DecisionTreeClassifier\n",
    "from sklearn.model_selection import cross_val_score\n",
    "#import pydotplus\n",
    "#import io\n",
    "from sklearn.tree import export_graphviz\n",
    "from IPython.display import Image\n",
    "from IPython.display import display\n",
    "%matplotlib inline"
   ]
  },
  {
   "cell_type": "code",
   "execution_count": 2,
   "metadata": {},
   "outputs": [
    {
     "data": {
      "text/plain": [
       "['DATE',\n",
       " 'MONTH',\n",
       " 'DAY',\n",
       " 'DAY_OF_WEEK',\n",
       " 'AIRLINE',\n",
       " 'FLIGHT_NUMBER',\n",
       " 'TAIL_NUMBER',\n",
       " 'ORIGIN_AIRPORT',\n",
       " 'DESTINATION_AIRPORT',\n",
       " 'SCHED_DEP',\n",
       " 'SCHED_ARR',\n",
       " 'DEPARTURE_DELAY',\n",
       " 'ARRIVAL_DELAY',\n",
       " 'CANCELLED',\n",
       " 'DIVERTED',\n",
       " 'DISTANCE',\n",
       " 'SCHEDULED_TIME',\n",
       " 'ELAPSED_TIME',\n",
       " 'AIR_SYSTEM_DELAY',\n",
       " 'SECURITY_DELAY',\n",
       " 'AIRLINE_DELAY',\n",
       " 'LATE_AIRCRAFT_DELAY',\n",
       " 'WEATHER_DELAY',\n",
       " 'DELAY_MIN',\n",
       " 'DEP_DAYFRAC']"
      ]
     },
     "execution_count": 2,
     "metadata": {},
     "output_type": "execute_result"
    }
   ],
   "source": [
    "# read in the full data and look at the header \n",
    "flightdata=pd.read_csv(\"~/Downloads/cs109_midterm_flightdata.csv\")\n",
    "flightdata.head()\n",
    "list(flightdata)"
   ]
  },
  {
   "cell_type": "markdown",
   "metadata": {},
   "source": [
    "## Problem Description"
   ]
  },
  {
   "cell_type": "markdown",
   "metadata": {},
   "source": [
    "We will build two separate models: one model that classifies whether a flight will be delayed and a second model that predicts the length of delay given that a flight is truly delayed. Only consider models taught in class so far. \n",
    "\n",
    "** Consider the following: **\n",
    "This is a large dataset; think of strategies on how to solve this problem. Create a manageable subsample of the data that you can use to train and test/validate, but eventually you should predict on all the data (excluding the training set).\n",
    "\n",
    "### Questions\n"
   ]
  },
  {
   "cell_type": "markdown",
   "metadata": {},
   "source": [
    "1..(5pts) Create a new variable, `DELAY_OR_NOT`: a boolean/indicator variable which indicates any arrival delay under 15 mins as a 0, and any delay at or above 15 mins as a 1 (`ARRIVAL_DELAY >= 15`)."
   ]
  },
  {
   "cell_type": "code",
   "execution_count": 3,
   "metadata": {},
   "outputs": [
    {
     "data": {
      "text/plain": [
       "0.10200374934311955"
      ]
     },
     "execution_count": 3,
     "metadata": {},
     "output_type": "execute_result"
    }
   ],
   "source": [
    "# creating the variable, then checking the proportion of flights that are delayed.  About 10.2% in the entire data set\n",
    "DELAY_OR_NOT = 1*(flightdata['ARRIVAL_DELAY']>=15)\n",
    "flightdata['DELAY_OR_NOT'] = DELAY_OR_NOT\n",
    "np.mean(DELAY_OR_NOT)"
   ]
  },
  {
   "cell_type": "markdown",
   "metadata": {},
   "source": [
    "---"
   ]
  },
  {
   "cell_type": "markdown",
   "metadata": {},
   "source": [
    "2..(5pts) Make sure you understand the data variable descriptions before you start the analysis. Consider all the columns and determine and list which of these predictors should not be used. "
   ]
  },
  {
   "cell_type": "code",
   "execution_count": 4,
   "metadata": {},
   "outputs": [
    {
     "data": {
      "text/html": [
       "<div>\n",
       "<style>\n",
       "    .dataframe thead tr:only-child th {\n",
       "        text-align: right;\n",
       "    }\n",
       "\n",
       "    .dataframe thead th {\n",
       "        text-align: left;\n",
       "    }\n",
       "\n",
       "    .dataframe tbody tr th {\n",
       "        vertical-align: top;\n",
       "    }\n",
       "</style>\n",
       "<table border=\"1\" class=\"dataframe\">\n",
       "  <thead>\n",
       "    <tr style=\"text-align: right;\">\n",
       "      <th></th>\n",
       "      <th>DATE</th>\n",
       "      <th>MONTH</th>\n",
       "      <th>DAY</th>\n",
       "      <th>DAY_OF_WEEK</th>\n",
       "      <th>AIRLINE</th>\n",
       "      <th>FLIGHT_NUMBER</th>\n",
       "      <th>TAIL_NUMBER</th>\n",
       "      <th>ORIGIN_AIRPORT</th>\n",
       "      <th>DESTINATION_AIRPORT</th>\n",
       "      <th>SCHED_DEP</th>\n",
       "      <th>SCHED_ARR</th>\n",
       "      <th>ARRIVAL_DELAY</th>\n",
       "      <th>DISTANCE</th>\n",
       "      <th>SCHEDULED_TIME</th>\n",
       "      <th>DELAY_OR_NOT</th>\n",
       "    </tr>\n",
       "  </thead>\n",
       "  <tbody>\n",
       "    <tr>\n",
       "      <th>0</th>\n",
       "      <td>2015-09-19</td>\n",
       "      <td>9</td>\n",
       "      <td>19</td>\n",
       "      <td>6</td>\n",
       "      <td>AA</td>\n",
       "      <td>394</td>\n",
       "      <td>N3FMAA</td>\n",
       "      <td>ORD</td>\n",
       "      <td>LGA</td>\n",
       "      <td>07:15:00</td>\n",
       "      <td>10:30:00</td>\n",
       "      <td>1.0</td>\n",
       "      <td>733</td>\n",
       "      <td>135.0</td>\n",
       "      <td>0</td>\n",
       "    </tr>\n",
       "    <tr>\n",
       "      <th>1</th>\n",
       "      <td>2015-10-28</td>\n",
       "      <td>10</td>\n",
       "      <td>28</td>\n",
       "      <td>3</td>\n",
       "      <td>AA</td>\n",
       "      <td>375</td>\n",
       "      <td>N4YDAA</td>\n",
       "      <td>11298</td>\n",
       "      <td>13342</td>\n",
       "      <td>20:15:00</td>\n",
       "      <td>22:44:00</td>\n",
       "      <td>-31.0</td>\n",
       "      <td>853</td>\n",
       "      <td>149.0</td>\n",
       "      <td>0</td>\n",
       "    </tr>\n",
       "    <tr>\n",
       "      <th>2</th>\n",
       "      <td>2015-08-19</td>\n",
       "      <td>8</td>\n",
       "      <td>19</td>\n",
       "      <td>3</td>\n",
       "      <td>MQ</td>\n",
       "      <td>3648</td>\n",
       "      <td>N512MQ</td>\n",
       "      <td>XNA</td>\n",
       "      <td>ORD</td>\n",
       "      <td>12:22:00</td>\n",
       "      <td>14:10:00</td>\n",
       "      <td>-21.0</td>\n",
       "      <td>522</td>\n",
       "      <td>108.0</td>\n",
       "      <td>0</td>\n",
       "    </tr>\n",
       "    <tr>\n",
       "      <th>3</th>\n",
       "      <td>2015-12-01</td>\n",
       "      <td>12</td>\n",
       "      <td>1</td>\n",
       "      <td>2</td>\n",
       "      <td>WN</td>\n",
       "      <td>4096</td>\n",
       "      <td>N912WN</td>\n",
       "      <td>PHX</td>\n",
       "      <td>BWI</td>\n",
       "      <td>11:20:00</td>\n",
       "      <td>17:40:00</td>\n",
       "      <td>-14.0</td>\n",
       "      <td>1999</td>\n",
       "      <td>260.0</td>\n",
       "      <td>0</td>\n",
       "    </tr>\n",
       "    <tr>\n",
       "      <th>4</th>\n",
       "      <td>2015-09-15</td>\n",
       "      <td>9</td>\n",
       "      <td>15</td>\n",
       "      <td>2</td>\n",
       "      <td>WN</td>\n",
       "      <td>285</td>\n",
       "      <td>N7718B</td>\n",
       "      <td>MCI</td>\n",
       "      <td>DEN</td>\n",
       "      <td>14:10:00</td>\n",
       "      <td>14:55:00</td>\n",
       "      <td>-12.0</td>\n",
       "      <td>533</td>\n",
       "      <td>105.0</td>\n",
       "      <td>0</td>\n",
       "    </tr>\n",
       "  </tbody>\n",
       "</table>\n",
       "</div>"
      ],
      "text/plain": [
       "         DATE  MONTH  DAY  DAY_OF_WEEK AIRLINE  FLIGHT_NUMBER TAIL_NUMBER  \\\n",
       "0  2015-09-19      9   19            6      AA            394      N3FMAA   \n",
       "1  2015-10-28     10   28            3      AA            375      N4YDAA   \n",
       "2  2015-08-19      8   19            3      MQ           3648      N512MQ   \n",
       "3  2015-12-01     12    1            2      WN           4096      N912WN   \n",
       "4  2015-09-15      9   15            2      WN            285      N7718B   \n",
       "\n",
       "  ORIGIN_AIRPORT DESTINATION_AIRPORT SCHED_DEP SCHED_ARR  ARRIVAL_DELAY  \\\n",
       "0            ORD                 LGA  07:15:00  10:30:00            1.0   \n",
       "1          11298               13342  20:15:00  22:44:00          -31.0   \n",
       "2            XNA                 ORD  12:22:00  14:10:00          -21.0   \n",
       "3            PHX                 BWI  11:20:00  17:40:00          -14.0   \n",
       "4            MCI                 DEN  14:10:00  14:55:00          -12.0   \n",
       "\n",
       "   DISTANCE  SCHEDULED_TIME  DELAY_OR_NOT  \n",
       "0       733           135.0             0  \n",
       "1       853           149.0             0  \n",
       "2       522           108.0             0  \n",
       "3      1999           260.0             0  \n",
       "4       533           105.0             0  "
      ]
     },
     "execution_count": 4,
     "metadata": {},
     "output_type": "execute_result"
    }
   ],
   "source": [
    "flightdata2 = flightdata[['DATE',\n",
    " 'MONTH',\n",
    " 'DAY',\n",
    " 'DAY_OF_WEEK',\n",
    " 'AIRLINE',\n",
    " 'FLIGHT_NUMBER',\n",
    " 'TAIL_NUMBER',\n",
    " 'ORIGIN_AIRPORT',\n",
    " 'DESTINATION_AIRPORT',\n",
    " 'SCHED_DEP',\n",
    " 'SCHED_ARR',\n",
    " 'ARRIVAL_DELAY',\n",
    " 'DISTANCE',\n",
    " 'SCHEDULED_TIME',\n",
    " 'DELAY_OR_NOT']]\n",
    "flightdata2.head()"
   ]
  },
  {
   "cell_type": "markdown",
   "metadata": {},
   "source": [
    "We removed the following 7 variables not because they had missingness, but because they are derivatives of lateness, and we wouldn't be able to measure them before heading to the airport:\n",
    "\n",
    "1. 'DEPARTURE_DELAY'\n",
    "2. 'ELAPSED_TIME'\n",
    "3. 'AIR_SYSTEM_DELAY'\n",
    "4. 'SECURITY_DELAY'\n",
    "5. 'AIRLINE_DELAY'\n",
    "6. 'LATE_AIRCRAFT_DELAY'\n",
    "7. 'WEATHER_DELAY'"
   ]
  },
  {
   "cell_type": "markdown",
   "metadata": {
    "collapsed": true
   },
   "source": [
    "---"
   ]
  },
  {
   "cell_type": "markdown",
   "metadata": {},
   "source": [
    "3..(15pts) Perform EDA to gain intuition of the factors that affect delay and provide visuals: do delays vary across airlines, or time of departure, or airport (do, at the very least, Chicago (ORD), Boston (BOS), and your favorite another airport), or airport traffic?"
   ]
  },
  {
   "cell_type": "code",
   "execution_count": 6,
   "metadata": {},
   "outputs": [
    {
     "name": "stderr",
     "output_type": "stream",
     "text": [
      "//anaconda/envs/py3l/lib/python3.6/site-packages/ipykernel_launcher.py:5: SettingWithCopyWarning: \n",
      "A value is trying to be set on a copy of a slice from a DataFrame.\n",
      "Try using .loc[row_indexer,col_indexer] = value instead\n",
      "\n",
      "See the caveats in the documentation: http://pandas.pydata.org/pandas-docs/stable/indexing.html#indexing-view-versus-copy\n",
      "  \"\"\"\n",
      "//anaconda/envs/py3l/lib/python3.6/site-packages/ipykernel_launcher.py:6: SettingWithCopyWarning: \n",
      "A value is trying to be set on a copy of a slice from a DataFrame.\n",
      "Try using .loc[row_indexer,col_indexer] = value instead\n",
      "\n",
      "See the caveats in the documentation: http://pandas.pydata.org/pandas-docs/stable/indexing.html#indexing-view-versus-copy\n",
      "  \n",
      "//anaconda/envs/py3l/lib/python3.6/site-packages/ipykernel_launcher.py:8: SettingWithCopyWarning: \n",
      "A value is trying to be set on a copy of a slice from a DataFrame.\n",
      "Try using .loc[row_indexer,col_indexer] = value instead\n",
      "\n",
      "See the caveats in the documentation: http://pandas.pydata.org/pandas-docs/stable/indexing.html#indexing-view-versus-copy\n",
      "  \n",
      "//anaconda/envs/py3l/lib/python3.6/site-packages/ipykernel_launcher.py:9: SettingWithCopyWarning: \n",
      "A value is trying to be set on a copy of a slice from a DataFrame.\n",
      "Try using .loc[row_indexer,col_indexer] = value instead\n",
      "\n",
      "See the caveats in the documentation: http://pandas.pydata.org/pandas-docs/stable/indexing.html#indexing-view-versus-copy\n",
      "  if __name__ == '__main__':\n",
      "//anaconda/envs/py3l/lib/python3.6/site-packages/ipykernel_launcher.py:11: SettingWithCopyWarning: \n",
      "A value is trying to be set on a copy of a slice from a DataFrame.\n",
      "Try using .loc[row_indexer,col_indexer] = value instead\n",
      "\n",
      "See the caveats in the documentation: http://pandas.pydata.org/pandas-docs/stable/indexing.html#indexing-view-versus-copy\n",
      "  # This is added back by InteractiveShellApp.init_path()\n"
     ]
    }
   ],
   "source": [
    "#let's first deal with the time variables \n",
    "import datetime as dt\n",
    "import time \n",
    "\n",
    "flightdata2['SCHED_DEP'] = pd.to_datetime(flightdata2['SCHED_DEP'])\n",
    "flightdata2['SCHED_ARR'] = pd.to_datetime(flightdata2['SCHED_ARR'])\n",
    "    \n",
    "flightdata2['SCHED_DEP_HOUR'] = flightdata2['SCHED_DEP'].dt.hour\n",
    "flightdata2['SCHED_ARR_HOUR'] = flightdata2['SCHED_ARR'].dt.hour\n",
    "\n",
    "flightdata2['FLIGHT_COUNT'] = flightdata2['AIRLINE'].groupby(flightdata2['ORIGIN_AIRPORT']).transform('count')\n"
   ]
  },
  {
   "cell_type": "code",
   "execution_count": 8,
   "metadata": {
    "collapsed": true
   },
   "outputs": [],
   "source": [
    "# Now let's do a little feature engineering: let's consider looking at determining \n",
    "# whether the flight was delayed the most recent day\n",
    "\n",
    "flightdata2 = flightdata2.sort_values(['TAIL_NUMBER', 'DATE', 'SCHED_DEP'], ascending=[1, 1, 1])\n",
    "\n",
    "features209={}\n",
    "bytail = flightdata2.groupby('TAIL_NUMBER')\n",
    "features209['PREVIOUS_TAIL_DELAYED']=bytail['DELAY_OR_NOT'].shift(1)\n",
    "features209['PREVIOUS_TAIL_DELAYED'].fillna(0,inplace=True)\n",
    "\n"
   ]
  },
  {
   "cell_type": "code",
   "execution_count": 9,
   "metadata": {
    "collapsed": true
   },
   "outputs": [],
   "source": [
    "from sklearn.model_selection import train_test_split\n",
    "# Before doing any work, we might want to sample only a small fraction (n = 40,000 or about 5%)\n",
    "np.random.seed(9001)\n",
    "\n",
    "# shuffle the data, since we ordered it\n",
    "permuted_index =  np.random.permutation(flightdata2.index)\n",
    "flightdata2 = flightdata2.reindex(permuted_index)\n",
    "features209['PREVIOUS_TAIL_DELAYED'] = features209['PREVIOUS_TAIL_DELAYED'].reindex(permuted_index)"
   ]
  },
  {
   "cell_type": "code",
   "execution_count": 10,
   "metadata": {
    "collapsed": true
   },
   "outputs": [],
   "source": [
    "y = flightdata2['DELAY_OR_NOT']\n",
    "y2 = flightdata2['ARRIVAL_DELAY']\n",
    "X = flightdata2[['DISTANCE','SCHEDULED_TIME','SCHED_DEP_HOUR','SCHED_ARR_HOUR','FLIGHT_COUNT']]\n",
    "\n",
    "\n",
    "dummy_vars = pd.get_dummies(flightdata2[['MONTH','DAY_OF_WEEK','ORIGIN_AIRPORT','DESTINATION_AIRPORT']])\n",
    "X = X.join(dummy_vars.drop(['MONTH','DAY_OF_WEEK'],axis=1))"
   ]
  },
  {
   "cell_type": "code",
   "execution_count": 11,
   "metadata": {},
   "outputs": [
    {
     "name": "stdout",
     "output_type": "stream",
     "text": [
      "(804941, 1260) (20000, 1260) (20000, 1260) (764941, 1260)\n"
     ]
    }
   ],
   "source": [
    "# select our sample\n",
    "N = 20000\n",
    "flighttrain = flightdata2.iloc[0:N]\n",
    "flighttest = flightdata2.iloc[N:(2*N)]\n",
    "y_train = y.iloc[0:N]\n",
    "y2_train = y2.iloc[0:N]\n",
    "X_train = X.iloc[0:N]\n",
    "y_test = y.iloc[N:(2*N)]\n",
    "y2_test = y2.iloc[N:(2*N)]\n",
    "X_test = X.iloc[N:(2*N)]\n",
    "\n",
    "flightelse = flightdata2.iloc[(2*N):flightdata2.shape[0]]\n",
    "X_else = X.iloc[(2*N):flightdata2.shape[0]]\n",
    "y_else = y.iloc[(2*N):flightdata2.shape[0]]\n",
    "y2_else = y2.iloc[(2*N):flightdata2.shape[0]]\n",
    "\n",
    "print(X.shape,X_test.shape,X_train.shape,X_else.shape)\n",
    "#flightsamp.head()"
   ]
  },
  {
   "cell_type": "code",
   "execution_count": 12,
   "metadata": {},
   "outputs": [
    {
     "data": {
      "image/png": "[encoded data removed]",
      "text/plain": [
       "<matplotlib.figure.Figure at 0x114f51ac8>"
      ]
     },
     "metadata": {},
     "output_type": "display_data"
    }
   ],
   "source": [
    "#do delays vary across airlines\n",
    "\n",
    "#proportion of flight delayed\n",
    "byairline = flighttrain.groupby('AIRLINE')\n",
    "airline_props=byairline['DELAY_OR_NOT'].mean()\n",
    "plt.bar(range(len(airline_props)),airline_props,tick_label=list(airline_props.index))\n",
    "plt.ylabel('Proportion of flights delayed')\n",
    "plt.title('Proportion of flights delayed by airline')\n",
    "plt.show()"
   ]
  },
  {
   "cell_type": "markdown",
   "metadata": {},
   "source": [
    "Wow, it looks like NK is by far the worst (Spirit Airlines) with almost 40% of flights delayed, while HA, AS, and DL have low rates of delay (Hawaiian, Alaska, and Delta)."
   ]
  },
  {
   "cell_type": "code",
   "execution_count": 13,
   "metadata": {},
   "outputs": [
    {
     "name": "stdout",
     "output_type": "stream",
     "text": [
      "(2064, 18)\n"
     ]
    },
    {
     "data": {
      "image/png": "[encoded data removed]",
      "text/plain": [
       "<matplotlib.figure.Figure at 0x1169920b8>"
      ]
     },
     "metadata": {},
     "output_type": "display_data"
    }
   ],
   "source": [
    "#mean length of delay when delayed\n",
    "delayedflightstrain=flighttrain[flighttrain['DELAY_OR_NOT']==1]\n",
    "print(delayedflightstrain.shape)\n",
    "\n",
    "byairline2 = delayedflightstrain.groupby('AIRLINE')\n",
    "airline_means=byairline2['ARRIVAL_DELAY'].mean()\n",
    "plt.bar(range(len(airline_means)),airline_means,tick_label=list(airline_means.index))\n",
    "plt.ylabel('Mean time delayed')\n",
    "plt.title('Mean delay time of delayed flights (>15min) by airline')\n",
    "plt.show()"
   ]
  },
  {
   "cell_type": "markdown",
   "metadata": {},
   "source": [
    "Given a flight is delayed, it does not look like there is much difference across the airlines, but it appears maybe HA and AS (Hawaiian and Alaska again) does a little bit better than the rest and VX (Virgin Airlines) does the worst."
   ]
  },
  {
   "cell_type": "code",
   "execution_count": 14,
   "metadata": {},
   "outputs": [
    {
     "data": {
      "image/png": "[encoded data removed]",
      "text/plain": [
       "<matplotlib.figure.Figure at 0x117394eb8>"
      ]
     },
     "metadata": {},
     "output_type": "display_data"
    }
   ],
   "source": [
    "# do delays vary across time of departure, \n",
    "fig, ax = plt.subplots(1, 2, figsize=(18, 8))\n",
    "\n",
    "plt.subplot(1, 2, 1)\n",
    "bytime = flighttrain.groupby('SCHED_DEP_HOUR')\n",
    "time_props=bytime['DELAY_OR_NOT'].mean()\n",
    "plt.bar(range(len(time_props)),time_props,tick_label=list(time_props.index))\n",
    "plt.ylabel('Proportion of flights delayed')\n",
    "plt.title('Proportion of flights delayed by hour of the day')\n",
    "\n",
    "\n",
    "plt.subplot(1, 2, 2)\n",
    "byairline2 = delayedflightstrain.groupby('SCHED_DEP_HOUR')\n",
    "airline_means=byairline2['ARRIVAL_DELAY'].mean()\n",
    "#plt.bar(range(len(airline_means)),airline_means,tick_label=list(airline_means.index))\n",
    "plt.scatter(delayedflightstrain['SCHED_DEP_HOUR'],np.log(delayedflightstrain['ARRIVAL_DELAY']),alpha=.1)\n",
    "plt.ylabel('Mean time delayed')\n",
    "plt.title('Log of delay time for delayed flights (>15min) against hour of the day')\n",
    "\n",
    "plt.show()\n",
    "#print(np.transpose(bytime['DELAY_OR_NOT'].count()),byairline2['ARRIVAL_DELAY'].count())"
   ]
  },
  {
   "cell_type": "code",
   "execution_count": 15,
   "metadata": {},
   "outputs": [
    {
     "data": {
      "image/png": "[encoded data removed]",
      "text/plain": [
       "<matplotlib.figure.Figure at 0x1188bb278>"
      ]
     },
     "metadata": {},
     "output_type": "display_data"
    }
   ],
   "source": [
    "#do delays vary across airport (do, at the very least, Chicago (ORD), Boston (BOS), and your favorite other airport)\n",
    "byorigairport = flighttrain.groupby('ORIGIN_AIRPORT')\n",
    "bydestairport = flighttrain.groupby('DESTINATION_AIRPORT')\n",
    "\n",
    "byorigairport2 = delayedflightstrain.groupby('ORIGIN_AIRPORT')\n",
    "bydestairport2 = delayedflightstrain.groupby('DESTINATION_AIRPORT')\n",
    "\n",
    "fig, ax = plt.subplots(1, 2, figsize=(18, 8))\n",
    "\n",
    "plt.subplot(1, 2, 1)\n",
    "keepairports=['PHL','BOS','ORD','LNK']\n",
    "indices=[1,2,3,4]\n",
    "plt.bar([x+.2 for x in indices],bydestairport['DELAY_OR_NOT'].mean()[keepairports],tick_label=keepairports,width=.4)\n",
    "plt.bar([x-.2 for x in indices],byorigairport['DELAY_OR_NOT'].mean()[keepairports],tick_label=keepairports,width=.4)\n",
    "plt.ylabel('Proportion of flights delayed')\n",
    "plt.title('Proportion of flights delayed in 4 Chosen Airports: \\n Philly, Boston, Chicago, and Lincoln, NE \\n blue = destination, orange = origination')\n",
    "\n",
    "plt.subplot(1, 2, 2)\n",
    "plt.bar([x+.2 for x in indices],byorigairport2['ARRIVAL_DELAY'].mean()[keepairports],tick_label=keepairports,width=.4)\n",
    "plt.bar([x-.2 for x in indices],bydestairport2['ARRIVAL_DELAY'].mean()[keepairports],tick_label=keepairports,width=.4)\n",
    "plt.ylabel('Average Delay Time')\n",
    "plt.title('Average Delay Time in 4 Chosen Airports: \\n Philly, Boston, Chicago, and Lincoln, NE \\n blue = destination, orange = origination')\n",
    "plt.show()\n"
   ]
  },
  {
   "cell_type": "code",
   "execution_count": 16,
   "metadata": {},
   "outputs": [
    {
     "data": {
      "text/plain": [
       "<matplotlib.text.Text at 0x118741940>"
      ]
     },
     "execution_count": 16,
     "metadata": {},
     "output_type": "execute_result"
    },
    {
     "data": {
      "image/png": "[encoded data removed]",
      "text/plain": [
       "<matplotlib.figure.Figure at 0x118842160>"
      ]
     },
     "metadata": {},
     "output_type": "display_data"
    }
   ],
   "source": [
    "bytraffic = flighttrain.groupby('FLIGHT_COUNT')\n",
    "traffic_props=bytraffic['DELAY_OR_NOT'].mean()\n",
    "plt.scatter(range(len(traffic_props)),traffic_props)\n",
    "plt.ylabel('Proportion of flights delayed')\n",
    "plt.title('Proportion of flights delayed by total traffic in sample')"
   ]
  },
  {
   "cell_type": "markdown",
   "metadata": {},
   "source": [
    "Note, this scatterplot has a whole lot of spread on the left, and a lot less spread on the right.  It does suggest that a quadratic relationship may exist (really, it should be logistic in nature)."
   ]
  },
  {
   "cell_type": "markdown",
   "metadata": {
    "collapsed": true
   },
   "source": [
    "---"
   ]
  },
  {
   "cell_type": "markdown",
   "metadata": {},
   "source": [
    "4..(20pts) Build a classification model that classifies delays according to `DELAY_OR_NOT`. This is an unbalanced dataset, thus consider the appropriate performance metric when reporting your results. "
   ]
  },
  {
   "cell_type": "code",
   "execution_count": 17,
   "metadata": {},
   "outputs": [
    {
     "name": "stderr",
     "output_type": "stream",
     "text": [
      "//anaconda/envs/py3l/lib/python3.6/site-packages/pandas/core/generic.py:2999: SettingWithCopyWarning: \n",
      "A value is trying to be set on a copy of a slice from a DataFrame.\n",
      "Try using .loc[row_indexer,col_indexer] = value instead\n",
      "\n",
      "See the caveats in the documentation: http://pandas.pydata.org/pandas-docs/stable/indexing.html#indexing-view-versus-copy\n",
      "  self[name] = value\n"
     ]
    }
   ],
   "source": [
    "flighttrain.DAY_OF_WEEK = flighttrain.DAY_OF_WEEK.astype(str)\n",
    "flighttrain.MONTH = flighttrain.MONTH.astype(str)\n"
   ]
  },
  {
   "cell_type": "code",
   "execution_count": 18,
   "metadata": {},
   "outputs": [
    {
     "data": {
      "text/plain": [
       "LogisticRegression(C=1000000, class_weight=None, dual=False,\n",
       "          fit_intercept=True, intercept_scaling=1, max_iter=100,\n",
       "          multi_class='ovr', n_jobs=1, penalty='l2', random_state=None,\n",
       "          solver='liblinear', tol=0.0001, verbose=0, warm_start=False)"
      ]
     },
     "execution_count": 18,
     "metadata": {},
     "output_type": "execute_result"
    }
   ],
   "source": [
    "#Fitting an unpenalized logistic regression\n",
    "\n",
    "# Using all predictors is a terrible idea.  Don't need both indicators for airport, and variables that are \n",
    "# static for them (like how we defined FLIGHT_COUNT).  But let's see how it does.\n",
    "logitm = sk.linear_model.LogisticRegression(C = 1000000)\n",
    "logitm.fit (X_train, y_train)\n"
   ]
  },
  {
   "cell_type": "code",
   "execution_count": 19,
   "metadata": {},
   "outputs": [
    {
     "data": {
      "text/plain": [
       "LogisticRegressionCV(Cs=20, class_weight=None, cv=None, dual=False,\n",
       "           fit_intercept=True, intercept_scaling=1.0, max_iter=100,\n",
       "           multi_class='ovr', n_jobs=1, penalty='l1', random_state=None,\n",
       "           refit=True, scoring='roc_auc', solver='liblinear', tol=0.0001,\n",
       "           verbose=0)"
      ]
     },
     "execution_count": 19,
     "metadata": {},
     "output_type": "execute_result"
    }
   ],
   "source": [
    "#Fitting a Lasso-like penalized logistic regression to take care of the overfitted model\n",
    "\n",
    "# Create logistic regression object\n",
    "logitCV = sk.linear_model.LogisticRegressionCV(Cs = 20,penalty='l1',solver='liblinear', scoring='roc_auc')\n",
    "logitCV.fit(X_train, y_train)"
   ]
  },
  {
   "cell_type": "code",
   "execution_count": 20,
   "metadata": {
    "collapsed": true
   },
   "outputs": [],
   "source": [
    "# Decision Tree Classifier\n",
    "dec_tree = DecisionTreeClassifier()\n",
    "depths = {'max_depth': list(range(2,15))}\n",
    "dec_tree_grid = sk.model_selection.GridSearchCV(dec_tree, depths, cv=5, scoring='roc_auc')\n",
    "dec_tree_grid.fit(X_train,y_train)\n",
    "best_depth = max([(s,d) for s,d in zip(dec_tree_grid.cv_results_['mean_test_score'],list(range(2,15)))],key=lambda x: x[0])[1]\n",
    "dec_tree_best = DecisionTreeClassifier(max_depth=best_depth).fit(X_train, y_train)"
   ]
  },
  {
   "cell_type": "code",
   "execution_count": 21,
   "metadata": {},
   "outputs": [
    {
     "name": "stdout",
     "output_type": "stream",
     "text": [
      "0.799734070083\n",
      "0.570133771822\n",
      "0.759070444915\n"
     ]
    }
   ],
   "source": [
    "#score the two models on the ttrain and test est set\n",
    "print(sk.metrics.roc_auc_score(y_train, logitCV.predict_proba(X_train)[:,1]))\n",
    "print(sk.metrics.roc_auc_score(y_train, logitm.predict_proba(X_train)[:,1]))\n",
    "print(sk.metrics.roc_auc_score(y_train, dec_tree_best.predict_proba(X_train)[:,1]))"
   ]
  },
  {
   "cell_type": "code",
   "execution_count": 22,
   "metadata": {},
   "outputs": [
    {
     "name": "stdout",
     "output_type": "stream",
     "text": [
      "0.781685342117\n",
      "0.555077258859\n",
      "0.746359236072\n"
     ]
    }
   ],
   "source": [
    "print(sk.metrics.roc_auc_score(y_test, logitCV.predict_proba(X_test)[:,1]))\n",
    "print(sk.metrics.roc_auc_score(y_test, logitm.predict_proba(X_test)[:,1]))\n",
    "print(sk.metrics.roc_auc_score(y_test, dec_tree_best.predict_proba(X_test)[:,1]))"
   ]
  },
  {
   "cell_type": "markdown",
   "metadata": {},
   "source": [
    "Based on the AUCs for the test set listed above, it looks like the L1 penalized Logistic Regression model (hyperparameter chosen through cross-validation) is the best choice: it has an AUC score of 0.78 while the decision tree's AUC is around 0.75, and the standard logistic regression has an AUC of about 0.55 (this is so bad because it is WAY overfit and the model has too many parameters/variables that are redundant: for example 'FLIGHT_COUNT' is static across airpot, so it is not needed at all)."
   ]
  },
  {
   "cell_type": "markdown",
   "metadata": {
    "collapsed": true
   },
   "source": [
    "---"
   ]
  },
  {
   "cell_type": "markdown",
   "metadata": {},
   "source": [
    "5..(5pts) Given your model, comment on the importance of factors as related to whether a flight is delayed."
   ]
  },
  {
   "cell_type": "code",
   "execution_count": 23,
   "metadata": {},
   "outputs": [
    {
     "data": {
      "text/html": [
       "<div>\n",
       "<style>\n",
       "    .dataframe thead tr:only-child th {\n",
       "        text-align: right;\n",
       "    }\n",
       "\n",
       "    .dataframe thead th {\n",
       "        text-align: left;\n",
       "    }\n",
       "\n",
       "    .dataframe tbody tr th {\n",
       "        vertical-align: top;\n",
       "    }\n",
       "</style>\n",
       "<table border=\"1\" class=\"dataframe\">\n",
       "  <thead>\n",
       "    <tr style=\"text-align: right;\">\n",
       "      <th></th>\n",
       "      <th>0</th>\n",
       "      <th>1</th>\n",
       "      <th>2</th>\n",
       "      <th>3</th>\n",
       "      <th>4</th>\n",
       "      <th>5</th>\n",
       "      <th>6</th>\n",
       "      <th>7</th>\n",
       "      <th>8</th>\n",
       "      <th>9</th>\n",
       "      <th>...</th>\n",
       "      <th>95</th>\n",
       "      <th>96</th>\n",
       "      <th>97</th>\n",
       "      <th>98</th>\n",
       "      <th>99</th>\n",
       "      <th>100</th>\n",
       "      <th>101</th>\n",
       "      <th>102</th>\n",
       "      <th>103</th>\n",
       "      <th>104</th>\n",
       "    </tr>\n",
       "  </thead>\n",
       "  <tbody>\n",
       "    <tr>\n",
       "      <th>0</th>\n",
       "      <td>DISTANCE</td>\n",
       "      <td>SCHED_DEP_HOUR</td>\n",
       "      <td>SCHED_ARR_HOUR</td>\n",
       "      <td>FLIGHT_COUNT</td>\n",
       "      <td>ORIGIN_AIRPORT_ACY</td>\n",
       "      <td>ORIGIN_AIRPORT_AEX</td>\n",
       "      <td>ORIGIN_AIRPORT_ALB</td>\n",
       "      <td>ORIGIN_AIRPORT_BDL</td>\n",
       "      <td>ORIGIN_AIRPORT_BOI</td>\n",
       "      <td>ORIGIN_AIRPORT_BOS</td>\n",
       "      <td>...</td>\n",
       "      <td>DESTINATION_AIRPORT_PBI</td>\n",
       "      <td>DESTINATION_AIRPORT_PHL</td>\n",
       "      <td>DESTINATION_AIRPORT_PHX</td>\n",
       "      <td>DESTINATION_AIRPORT_PSP</td>\n",
       "      <td>DESTINATION_AIRPORT_RHI</td>\n",
       "      <td>DESTINATION_AIRPORT_SAN</td>\n",
       "      <td>DESTINATION_AIRPORT_SFO</td>\n",
       "      <td>DESTINATION_AIRPORT_SJU</td>\n",
       "      <td>DESTINATION_AIRPORT_TPA</td>\n",
       "      <td>DESTINATION_AIRPORT_TUS</td>\n",
       "    </tr>\n",
       "    <tr>\n",
       "      <th>1</th>\n",
       "      <td>[0.0013312971535]</td>\n",
       "      <td>[0.213106040728]</td>\n",
       "      <td>[0.0128271718374]</td>\n",
       "      <td>[1.68075564832e-05]</td>\n",
       "      <td>[0.72312737933]</td>\n",
       "      <td>[1.62780922685]</td>\n",
       "      <td>[0.392291122597]</td>\n",
       "      <td>[0.042250587996]</td>\n",
       "      <td>[0.270698582697]</td>\n",
       "      <td>[0.340996173406]</td>\n",
       "      <td>...</td>\n",
       "      <td>[0.425654960694]</td>\n",
       "      <td>[0.313562135435]</td>\n",
       "      <td>[0.269820809057]</td>\n",
       "      <td>[0.359914286792]</td>\n",
       "      <td>[0.772810176206]</td>\n",
       "      <td>[0.158951930548]</td>\n",
       "      <td>[1.17469723309]</td>\n",
       "      <td>[0.364809860535]</td>\n",
       "      <td>[0.57254116115]</td>\n",
       "      <td>[0.288153373916]</td>\n",
       "    </tr>\n",
       "  </tbody>\n",
       "</table>\n",
       "<p>2 rows × 105 columns</p>\n",
       "</div>"
      ],
      "text/plain": [
       "                 0                 1                  2    \\\n",
       "0           DISTANCE    SCHED_DEP_HOUR     SCHED_ARR_HOUR   \n",
       "1  [0.0013312971535]  [0.213106040728]  [0.0128271718374]   \n",
       "\n",
       "                   3                   4                   5    \\\n",
       "0         FLIGHT_COUNT  ORIGIN_AIRPORT_ACY  ORIGIN_AIRPORT_AEX   \n",
       "1  [1.68075564832e-05]     [0.72312737933]     [1.62780922685]   \n",
       "\n",
       "                  6                   7                   8    \\\n",
       "0  ORIGIN_AIRPORT_ALB  ORIGIN_AIRPORT_BDL  ORIGIN_AIRPORT_BOI   \n",
       "1    [0.392291122597]    [0.042250587996]    [0.270698582697]   \n",
       "\n",
       "                  9             ...                                 95   \\\n",
       "0  ORIGIN_AIRPORT_BOS           ...             DESTINATION_AIRPORT_PBI   \n",
       "1    [0.340996173406]           ...                    [0.425654960694]   \n",
       "\n",
       "                       96                       97                       98   \\\n",
       "0  DESTINATION_AIRPORT_PHL  DESTINATION_AIRPORT_PHX  DESTINATION_AIRPORT_PSP   \n",
       "1         [0.313562135435]         [0.269820809057]         [0.359914286792]   \n",
       "\n",
       "                       99                       100                      101  \\\n",
       "0  DESTINATION_AIRPORT_RHI  DESTINATION_AIRPORT_SAN  DESTINATION_AIRPORT_SFO   \n",
       "1         [0.772810176206]         [0.158951930548]          [1.17469723309]   \n",
       "\n",
       "                       102                      103                      104  \n",
       "0  DESTINATION_AIRPORT_SJU  DESTINATION_AIRPORT_TPA  DESTINATION_AIRPORT_TUS  \n",
       "1         [0.364809860535]          [0.57254116115]         [0.288153373916]  \n",
       "\n",
       "[2 rows x 105 columns]"
      ]
     },
     "execution_count": 23,
     "metadata": {},
     "output_type": "execute_result"
    }
   ],
   "source": [
    "# The coefficients that are non-zero in the training set\n",
    "#np.concatenate((X_train.columns[logitCV.coef_[0,:]>0],np.transpose(logitCV.coef_[:,logitCV.coef_[0,:]>0])), axis=0)\n",
    "#len([])\n",
    "betas = np.transpose(logitCV.coef_[:,logitCV.coef_[0,:]>0])\n",
    "features = X_train.columns[logitCV.coef_[0,:]>0]\n",
    "\n",
    "signif_betas=pd.DataFrame([features, betas])\n",
    "signif_betas"
   ]
  },
  {
   "cell_type": "markdown",
   "metadata": {
    "collapsed": true
   },
   "source": [
    "Lasso gives us an automatic sense of which variables are important and which are not.  In the above, we see that distance a flight travels, scheduled time of departure, scheduled time of arrival, size of the airport, whether the previous flight was delayed, and several different origination and desitination airports are important features (we are left with 109 non-zero beta coefficients).  Alterntively, we could have performed created bootstrap samples to determine which coefficients were different from zero."
   ]
  },
  {
   "cell_type": "markdown",
   "metadata": {
    "collapsed": true
   },
   "source": [
    "---"
   ]
  },
  {
   "cell_type": "markdown",
   "metadata": {},
   "source": [
    "6..(5pts) Evaluate your model(s) on your test set, and finally provide a visual to show which airlines are predicted to have the most delays using all the data excluding the training and test set. "
   ]
  },
  {
   "cell_type": "code",
   "execution_count": 24,
   "metadata": {
    "collapsed": true
   },
   "outputs": [],
   "source": [
    "#making ROC curves for this model\n",
    "from sklearn.metrics import roc_curve, auc\n",
    "import seaborn.apionly as sns\n",
    "\n",
    "def t_repredict(est, t, xtest):\n",
    "    probs = est.predict_proba(xtest)\n",
    "    p0 = probs[:,0]\n",
    "    p1 = probs[:,1]\n",
    "    ypred = (p1 > t)*1\n",
    "    return ypred\n",
    "\n",
    "def make_roc(name, clf, ytest, xtest, ax=None, labe=5, proba=True, skip=0):\n",
    "    initial=False\n",
    "    if not ax:\n",
    "        ax=plt.gca()\n",
    "        initial=True\n",
    "    if proba:#for stuff like logistic regression\n",
    "        fpr, tpr, thresholds=roc_curve(ytest, clf.predict_proba(xtest)[:,1])\n",
    "    else:#for stuff like SVM\n",
    "        fpr, tpr, thresholds=roc_curve(ytest, clf.decision_function(xtest))\n",
    "    roc_auc = auc(fpr, tpr)\n",
    "    if skip:\n",
    "        l=fpr.shape[0]\n",
    "        ax.plot(fpr[0:l:skip], tpr[0:l:skip], '.-', alpha=0.3, label='ROC curve for %s (area = %0.2f)' % (name, roc_auc))\n",
    "    else:\n",
    "        ax.plot(fpr, tpr, '.-', alpha=0.3, label='ROC curve for %s (area = %0.2f)' % (name, roc_auc))\n",
    "    label_kwargs = {}\n",
    "    label_kwargs['bbox'] = dict(\n",
    "        boxstyle='round,pad=0.3', alpha=0.2,\n",
    "    )\n",
    "    if labe!=None:\n",
    "        for k in range(0, fpr.shape[0],labe):\n",
    "            #from https://gist.github.com/podshumok/c1d1c9394335d86255b8\n",
    "            threshold = str(np.round(thresholds[k], 4))\n",
    "            ax.annotate((\"t = \"+threshold), (fpr[k], tpr[k]), **label_kwargs)\n",
    "    if initial:\n",
    "        ax.plot([0, 1], [0, 1], 'k--')\n",
    "        ax.set_xlim([0.0, 1.0])\n",
    "        ax.set_ylim([0.0, 1.05])\n",
    "        ax.set_xlabel('False Positive Rate')\n",
    "        ax.set_ylabel('True Positive Rate')\n",
    "        ax.set_title('ROC')\n",
    "    ax.legend(loc=\"lower right\")\n"
   ]
  },
  {
   "cell_type": "code",
   "execution_count": 25,
   "metadata": {},
   "outputs": [
    {
     "data": {
      "image/png": "[encoded data removed]",
      "text/plain": [
       "<matplotlib.figure.Figure at 0x11a335a20>"
      ]
     },
     "metadata": {},
     "output_type": "display_data"
    }
   ],
   "source": [
    "#use the labeled roc curve to get a sense of what threshold should be chosen. \n",
    "#Here we will select a threshould of about 0.2 to make the classification\n",
    "ax=make_roc(\"logisticCV\",logitCV, y_test, X_test, labe=500, skip=5)"
   ]
  },
  {
   "cell_type": "code",
   "execution_count": 26,
   "metadata": {},
   "outputs": [
    {
     "name": "stderr",
     "output_type": "stream",
     "text": [
      "//anaconda/envs/py3l/lib/python3.6/site-packages/ipykernel_launcher.py:5: SettingWithCopyWarning: \n",
      "A value is trying to be set on a copy of a slice from a DataFrame.\n",
      "Try using .loc[row_indexer,col_indexer] = value instead\n",
      "\n",
      "See the caveats in the documentation: http://pandas.pydata.org/pandas-docs/stable/indexing.html#indexing-view-versus-copy\n",
      "  \"\"\"\n"
     ]
    },
    {
     "data": {
      "text/plain": [
       "0.15113191736356138"
      ]
     },
     "execution_count": 26,
     "metadata": {},
     "output_type": "execute_result"
    }
   ],
   "source": [
    "#let's perform the classification for the remaining observations, \n",
    "#and we see we classify about 15% of those data to be delayed, which is fairly close\n",
    "#to what is actually observed.\n",
    "yhats_else = 1*(logitCV.predict_proba(X_else)[:,1]>=0.2)\n",
    "flightelse['yhats']=yhats_else\n",
    "np.mean(yhats_else)"
   ]
  },
  {
   "cell_type": "code",
   "execution_count": 27,
   "metadata": {},
   "outputs": [
    {
     "data": {
      "image/png": "[encoded data removed]",
      "text/plain": [
       "<matplotlib.figure.Figure at 0x118741e80>"
      ]
     },
     "metadata": {},
     "output_type": "display_data"
    }
   ],
   "source": [
    "#now let's create a visual to see which airlines are predicted to be the worst:\n",
    "\n",
    "byairlineelse = flightelse.groupby('AIRLINE')\n",
    "airline_delays_predicted = byairlineelse['yhats'].mean()\n",
    "airline_delays_predicted_sort = airline_delays_predicted.sort_values()\n",
    "\n",
    "plt.bar(range(len(airline_delays_predicted_sort)),airline_delays_predicted_sort,tick_label=list(airline_delays_predicted_sort.index))\n",
    "plt.ylabel('Predicted proportion of flights delayed')\n",
    "plt.title('Predicted proportion of flights delayed by airline')\n",
    "plt.show()"
   ]
  },
  {
   "cell_type": "markdown",
   "metadata": {},
   "source": [
    "Not surprisingly, our model predicts that Hawaiian airlines will have the lowest rate of delays, while Virgin and Spirit will have the highest rate of delays (which matches the EDA from ealier)."
   ]
  },
  {
   "cell_type": "markdown",
   "metadata": {
    "collapsed": true
   },
   "source": [
    "---"
   ]
  },
  {
   "cell_type": "markdown",
   "metadata": {},
   "source": [
    "7..(15pts) Build a regression model that predicts the length of delay (on the log scale) given that a flight is truly delayed.\n"
   ]
  },
  {
   "cell_type": "code",
   "execution_count": 28,
   "metadata": {},
   "outputs": [
    {
     "data": {
      "image/png": "[encoded data removed]",
      "text/plain": [
       "<matplotlib.figure.Figure at 0x11a34c5c0>"
      ]
     },
     "metadata": {},
     "output_type": "display_data"
    }
   ],
   "source": [
    "#let's start by creating the data sets of interest for this problem\n",
    "\n",
    "delayed_train = flighttrain[flighttrain['DELAY_OR_NOT']==1] \n",
    "delayed_test = flighttest[flighttest['DELAY_OR_NOT']==1] \n",
    "\n",
    "X_train2 = X_train[flighttrain['DELAY_OR_NOT']==1]\n",
    "X_test2 = X_test[flighttest['DELAY_OR_NOT']==1] \n",
    "\n",
    "y_train2 = np.log(delayed_train['ARRIVAL_DELAY'])\n",
    "y_test2 = np.log(delayed_test['ARRIVAL_DELAY'])\n",
    "\n",
    "#plotting the histogram just to see what we are dealing with\n",
    "hist7=plt.hist(y_train2)"
   ]
  },
  {
   "cell_type": "code",
   "execution_count": 29,
   "metadata": {},
   "outputs": [
    {
     "name": "stdout",
     "output_type": "stream",
     "text": [
      "0.257880783692 0.0221741775963\n"
     ]
    }
   ],
   "source": [
    "lassoCV_model = sk.linear_model.LassoCV(n_alphas = 100)\n",
    "lassoCV_model.fit(X_train2, y_train2)\n",
    "\n",
    "linear_model = sk.linear_model.LinearRegression()\n",
    "linear_model.fit(X_train2, y_train2)\n",
    "print(linear_model.score(X_train2,y_train2),lassoCV_model.score(X_train2,y_train2))"
   ]
  },
  {
   "cell_type": "code",
   "execution_count": 30,
   "metadata": {},
   "outputs": [
    {
     "name": "stdout",
     "output_type": "stream",
     "text": [
      "-1.81173308094e+13 0.019668832415\n"
     ]
    }
   ],
   "source": [
    " print(linear_model.score(X_test2,y_test2),lassoCV_model.score(X_test2,y_test2))\n"
   ]
  },
  {
   "cell_type": "markdown",
   "metadata": {},
   "source": [
    "Based on the model shown above, we see that the Lasso Regression model has an $R^2$ of just 0.0197 in the test set.  Surely we can do better."
   ]
  },
  {
   "cell_type": "markdown",
   "metadata": {
    "collapsed": true
   },
   "source": [
    "---"
   ]
  },
  {
   "cell_type": "markdown",
   "metadata": {},
   "source": [
    "8..(20pts) Write a report (in the last markdown cell in your notebook with your findings (without code)). Describe the main design decisions you have made with justifications. Clearly explain your methodology and results. This should not be more than 300 words. You may use up to 5 diagrams."
   ]
  },
  {
   "cell_type": "markdown",
   "metadata": {
    "collapsed": true
   },
   "source": [
    "Before fitting any models, several decisions had to be made in order to wrangle the data:\n",
    "1. We decided to drop any variables that were actual derivatives of delays or could not be measured before heading to the airport to catch a flight.  \n",
    "2. We subsampled only 20,000 observations into the training and testing sets (40K total) as this was large enough to encapsulate the most important predcictors but small enough to handle.\n",
    "3. All EDA and models were performed only on the train set as to not bias results in evaluation using the test set.\n",
    "4. When fitting models, we decided to not standardize the variables so that we could directly interpret the coefficients (for ease of interpretation).  This may have led to worse-performing models overall.\n",
    "\n",
    "In order to predict which flights will be delayed in 2015, we considered 3 models: standard logistic regression, L1-penalized logistic regression (with hyperparameter tuned through 5-fold crosvalidation), and a classification tree.  The penalized logistic regression performed the best both in the train and test sets, with an AUC score of about 0.78.  We decided to set a threshould of 0.20 for classification because this led to a similar delay rate as what was truly deserved (flagged more flights as delayed since false negatives were worse from a user perspective).  \n",
    "\n",
    "We also fit a Lasso regression (and considered an unpenalized linear regression) to predict the variables .  We again used only the subsample of data to train and evaluate the model (leading to an even smaller set of data to fit models, about 2,000 in each since about 10% of flights were delayed in the datasets).  Unfortunately we were only able to get an $R^2$ of about 2% in the test set.  With more time, we'd like to improve this model, and certainly would enlarge the data set used for both training and testing.\n",
    "\n",
    "\n",
    "**Note: these data oversampled the delayed flights and undersampled the on-time flights: thanks god!  I would hope that Spirit airlines does not truly have nearly a 30% delay rate!!!**"
   ]
  },
  {
   "cell_type": "markdown",
   "metadata": {},
   "source": [
    "### 209 Additional questions\n",
    "(1). (10pts) Engineer two additional features that will help improve the classification model's performance."
   ]
  },
  {
   "cell_type": "markdown",
   "metadata": {},
   "source": [
    "We have one, engineered a little earlier"
   ]
  },
  {
   "cell_type": "code",
   "execution_count": 31,
   "metadata": {},
   "outputs": [
    {
     "data": {
      "text/plain": [
       "{'PREVIOUS_TAIL_DELAYED': 604157    0.0\n",
       " 435627    0.0\n",
       " 475811    0.0\n",
       " 253510    0.0\n",
       " 193075    0.0\n",
       " 209376    0.0\n",
       " 648829    0.0\n",
       " 159885    0.0\n",
       " 98383     0.0\n",
       " 389980    0.0\n",
       " 72691     0.0\n",
       " 61095     0.0\n",
       " 347597    0.0\n",
       " 521103    0.0\n",
       " 33394     0.0\n",
       " 549022    0.0\n",
       " 427991    0.0\n",
       " 263024    0.0\n",
       " 554710    0.0\n",
       " 488046    0.0\n",
       " 272684    0.0\n",
       " 744739    0.0\n",
       " 760167    0.0\n",
       " 615859    0.0\n",
       " 275714    0.0\n",
       " 577767    0.0\n",
       " 647225    0.0\n",
       " 638800    0.0\n",
       " 17133     0.0\n",
       " 573076    0.0\n",
       "          ... \n",
       " 715169    0.0\n",
       " 98618     0.0\n",
       " 307712    0.0\n",
       " 43750     0.0\n",
       " 371047    0.0\n",
       " 191988    0.0\n",
       " 462995    0.0\n",
       " 451491    0.0\n",
       " 483006    0.0\n",
       " 750547    0.0\n",
       " 526059    0.0\n",
       " 323341    0.0\n",
       " 493054    0.0\n",
       " 550471    0.0\n",
       " 441112    0.0\n",
       " 697682    0.0\n",
       " 274877    1.0\n",
       " 187359    0.0\n",
       " 570546    0.0\n",
       " 183273    0.0\n",
       " 351783    0.0\n",
       " 727492    0.0\n",
       " 589039    0.0\n",
       " 290977    0.0\n",
       " 101540    0.0\n",
       " 344004    0.0\n",
       " 58540     0.0\n",
       " 558154    0.0\n",
       " 75070     0.0\n",
       " 516351    0.0\n",
       " Name: DELAY_OR_NOT, Length: 804941, dtype: float64}"
      ]
     },
     "execution_count": 31,
     "metadata": {},
     "output_type": "execute_result"
    }
   ],
   "source": [
    "features209"
   ]
  },
  {
   "cell_type": "markdown",
   "metadata": {},
   "source": [
    "The second one is taken and modified from Camilo Frosco's submission.\n",
    "\n",
    "We will try a feature from his submission: The busyness of the destination airport on the weekday of the flight."
   ]
  },
  {
   "cell_type": "code",
   "execution_count": 37,
   "metadata": {},
   "outputs": [
    {
     "data": {
      "text/plain": [
       "{('10135', 1): 1,\n",
       " ('10135', 2): 4,\n",
       " ('10135', 3): 1,\n",
       " ('10135', 4): 9,\n",
       " ('10135', 5): 8,\n",
       " ('10135', 6): 1,\n",
       " ('10135', 7): 6,\n",
       " ('10136', 1): 8,\n",
       " ('10136', 2): 5,\n",
       " ('10136', 3): 6,\n",
       " ('10136', 4): 4,\n",
       " ('10136', 5): 7,\n",
       " ('10136', 6): 3,\n",
       " ('10136', 7): 1,\n",
       " ('10140', 1): 41,\n",
       " ('10140', 2): 40,\n",
       " ('10140', 3): 38,\n",
       " ('10140', 4): 37,\n",
       " ('10140', 5): 49,\n",
       " ('10140', 6): 36,\n",
       " ('10140', 7): 30,\n",
       " ('10141', 1): 2,\n",
       " ('10141', 2): 2,\n",
       " ('10141', 4): 2,\n",
       " ('10141', 5): 3,\n",
       " ('10141', 6): 1,\n",
       " ('10141', 7): 2,\n",
       " ('10146', 2): 2,\n",
       " ('10146', 3): 3,\n",
       " ('10146', 4): 3,\n",
       " ('10146', 5): 1,\n",
       " ('10146', 6): 3,\n",
       " ('10146', 7): 2,\n",
       " ('10154', 1): 1,\n",
       " ('10154', 6): 2,\n",
       " ('10155', 1): 6,\n",
       " ('10155', 2): 6,\n",
       " ('10155', 3): 6,\n",
       " ('10155', 4): 3,\n",
       " ('10155', 5): 3,\n",
       " ('10155', 6): 3,\n",
       " ('10155', 7): 1,\n",
       " ('10157', 1): 2,\n",
       " ('10157', 2): 2,\n",
       " ('10157', 3): 2,\n",
       " ('10157', 4): 4,\n",
       " ('10157', 6): 4,\n",
       " ('10157', 7): 1,\n",
       " ('10158', 1): 3,\n",
       " ('10158', 2): 4,\n",
       " ('10158', 3): 3,\n",
       " ('10158', 4): 5,\n",
       " ('10158', 5): 6,\n",
       " ('10158', 6): 5,\n",
       " ('10158', 7): 3,\n",
       " ('10165', 4): 1,\n",
       " ('10170', 1): 1,\n",
       " ('10170', 2): 1,\n",
       " ('10170', 3): 1,\n",
       " ('10170', 4): 2,\n",
       " ('10170', 7): 1,\n",
       " ('10185', 1): 6,\n",
       " ('10185', 2): 5,\n",
       " ('10185', 3): 6,\n",
       " ('10185', 4): 5,\n",
       " ('10185', 5): 7,\n",
       " ('10185', 6): 3,\n",
       " ('10185', 7): 10,\n",
       " ('10208', 1): 4,\n",
       " ('10208', 2): 5,\n",
       " ('10208', 3): 3,\n",
       " ('10208', 4): 8,\n",
       " ('10208', 5): 4,\n",
       " ('10208', 6): 5,\n",
       " ('10208', 7): 5,\n",
       " ('10257', 1): 20,\n",
       " ('10257', 2): 15,\n",
       " ('10257', 3): 17,\n",
       " ('10257', 4): 20,\n",
       " ('10257', 5): 19,\n",
       " ('10257', 6): 22,\n",
       " ('10257', 7): 9,\n",
       " ('10268', 1): 3,\n",
       " ('10268', 2): 2,\n",
       " ('10268', 3): 1,\n",
       " ('10268', 4): 1,\n",
       " ('10268', 5): 1,\n",
       " ('10279', 1): 10,\n",
       " ('10279', 2): 3,\n",
       " ('10279', 3): 8,\n",
       " ('10279', 4): 6,\n",
       " ('10279', 5): 9,\n",
       " ('10279', 6): 9,\n",
       " ('10279', 7): 9,\n",
       " ('10299', 1): 27,\n",
       " ('10299', 2): 29,\n",
       " ('10299', 3): 26,\n",
       " ('10299', 4): 41,\n",
       " ('10299', 5): 29,\n",
       " ('10299', 6): 25,\n",
       " ('10299', 7): 30,\n",
       " ('10333', 2): 1,\n",
       " ('10333', 3): 3,\n",
       " ('10333', 4): 2,\n",
       " ('10333', 5): 4,\n",
       " ('10372', 1): 1,\n",
       " ('10372', 2): 1,\n",
       " ('10372', 4): 1,\n",
       " ('10372', 5): 4,\n",
       " ('10372', 7): 3,\n",
       " ('10397', 1): 723,\n",
       " ('10397', 2): 744,\n",
       " ('10397', 3): 724,\n",
       " ('10397', 4): 885,\n",
       " ('10397', 5): 888,\n",
       " ('10397', 6): 649,\n",
       " ('10397', 7): 697,\n",
       " ('10408', 1): 3,\n",
       " ('10408', 2): 3,\n",
       " ('10408', 3): 4,\n",
       " ('10408', 4): 8,\n",
       " ('10408', 5): 6,\n",
       " ('10408', 6): 3,\n",
       " ('10408', 7): 10,\n",
       " ('10423', 1): 93,\n",
       " ('10423', 2): 85,\n",
       " ('10423', 3): 77,\n",
       " ('10423', 4): 103,\n",
       " ('10423', 5): 79,\n",
       " ('10423', 6): 69,\n",
       " ('10423', 7): 92,\n",
       " ('10431', 1): 4,\n",
       " ('10431', 2): 6,\n",
       " ('10431', 3): 4,\n",
       " ('10431', 4): 6,\n",
       " ('10431', 5): 9,\n",
       " ('10431', 6): 7,\n",
       " ('10431', 7): 8,\n",
       " ('10434', 2): 4,\n",
       " ('10434', 3): 2,\n",
       " ('10434', 4): 1,\n",
       " ('10434', 5): 4,\n",
       " ('10434', 6): 3,\n",
       " ('10434', 7): 2,\n",
       " ('10469', 1): 2,\n",
       " ('10469', 2): 3,\n",
       " ('10469', 3): 4,\n",
       " ('10469', 4): 4,\n",
       " ('10469', 5): 2,\n",
       " ('10469', 6): 2,\n",
       " ('10469', 7): 2,\n",
       " ('10529', 1): 44,\n",
       " ('10529', 2): 42,\n",
       " ('10529', 3): 37,\n",
       " ('10529', 4): 46,\n",
       " ('10529', 5): 58,\n",
       " ('10529', 6): 34,\n",
       " ('10529', 7): 34,\n",
       " ('10551', 1): 4,\n",
       " ('10551', 2): 2,\n",
       " ('10551', 3): 3,\n",
       " ('10551', 4): 4,\n",
       " ('10551', 5): 1,\n",
       " ('10551', 6): 3,\n",
       " ('10551', 7): 1,\n",
       " ('10561', 1): 4,\n",
       " ('10561', 2): 4,\n",
       " ('10561', 3): 6,\n",
       " ('10561', 4): 3,\n",
       " ('10561', 5): 4,\n",
       " ('10561', 6): 8,\n",
       " ('10561', 7): 5,\n",
       " ('10577', 2): 1,\n",
       " ('10577', 3): 2,\n",
       " ('10577', 6): 1,\n",
       " ('10581', 1): 1,\n",
       " ('10581', 2): 1,\n",
       " ('10581', 7): 2,\n",
       " ('10599', 1): 25,\n",
       " ('10599', 2): 30,\n",
       " ('10599', 3): 23,\n",
       " ('10599', 4): 29,\n",
       " ('10599', 5): 27,\n",
       " ('10599', 6): 16,\n",
       " ('10599', 7): 25,\n",
       " ('10620', 1): 7,\n",
       " ('10620', 2): 1,\n",
       " ('10620', 3): 5,\n",
       " ('10620', 4): 11,\n",
       " ('10620', 5): 8,\n",
       " ('10620', 6): 7,\n",
       " ('10620', 7): 3,\n",
       " ('10627', 1): 8,\n",
       " ('10627', 2): 5,\n",
       " ('10627', 3): 5,\n",
       " ('10627', 4): 8,\n",
       " ('10627', 5): 8,\n",
       " ('10627', 6): 6,\n",
       " ('10627', 7): 5,\n",
       " ('10631', 1): 4,\n",
       " ('10631', 2): 4,\n",
       " ('10631', 4): 4,\n",
       " ('10631', 5): 1,\n",
       " ('10631', 6): 3,\n",
       " ('10631', 7): 1,\n",
       " ('10685', 1): 5,\n",
       " ('10685', 2): 8,\n",
       " ('10685', 3): 6,\n",
       " ('10685', 4): 7,\n",
       " ('10685', 5): 8,\n",
       " ('10685', 6): 6,\n",
       " ('10685', 7): 5,\n",
       " ('10693', 1): 97,\n",
       " ('10693', 2): 93,\n",
       " ('10693', 3): 101,\n",
       " ('10693', 4): 124,\n",
       " ('10693', 5): 128,\n",
       " ('10693', 6): 88,\n",
       " ('10693', 7): 89,\n",
       " ('10713', 1): 25,\n",
       " ('10713', 2): 29,\n",
       " ('10713', 3): 26,\n",
       " ('10713', 4): 36,\n",
       " ('10713', 5): 36,\n",
       " ('10713', 6): 23,\n",
       " ('10713', 7): 23,\n",
       " ('10721', 1): 228,\n",
       " ('10721', 2): 222,\n",
       " ('10721', 3): 200,\n",
       " ('10721', 4): 281,\n",
       " ('10721', 5): 236,\n",
       " ('10721', 6): 192,\n",
       " ('10721', 7): 175,\n",
       " ('10728', 1): 1,\n",
       " ('10728', 2): 2,\n",
       " ('10728', 3): 1,\n",
       " ('10728', 4): 1,\n",
       " ('10728', 5): 2,\n",
       " ('10728', 7): 6,\n",
       " ('10731', 1): 2,\n",
       " ('10731', 3): 3,\n",
       " ('10731', 4): 2,\n",
       " ('10731', 5): 2,\n",
       " ('10731', 6): 5,\n",
       " ('10731', 7): 3,\n",
       " ('10732', 1): 2,\n",
       " ('10732', 2): 1,\n",
       " ('10732', 3): 2,\n",
       " ('10732', 4): 1,\n",
       " ('10732', 6): 2,\n",
       " ('10732', 7): 5,\n",
       " ('10739', 1): 1,\n",
       " ('10739', 3): 1,\n",
       " ('10739', 4): 1,\n",
       " ('10747', 1): 4,\n",
       " ('10747', 2): 5,\n",
       " ('10747', 3): 4,\n",
       " ('10747', 4): 6,\n",
       " ('10747', 5): 3,\n",
       " ('10747', 6): 7,\n",
       " ('10747', 7): 2,\n",
       " ('10754', 1): 4,\n",
       " ('10754', 2): 5,\n",
       " ('10754', 4): 1,\n",
       " ('10754', 5): 3,\n",
       " ('10754', 6): 3,\n",
       " ('10754', 7): 2,\n",
       " ('10779', 1): 3,\n",
       " ('10779', 2): 2,\n",
       " ('10779', 3): 1,\n",
       " ('10779', 4): 2,\n",
       " ('10779', 5): 1,\n",
       " ('10779', 6): 2,\n",
       " ('10779', 7): 2,\n",
       " ('10781', 1): 15,\n",
       " ('10781', 2): 13,\n",
       " ('10781', 3): 9,\n",
       " ('10781', 4): 21,\n",
       " ('10781', 5): 20,\n",
       " ('10781', 6): 7,\n",
       " ('10781', 7): 11,\n",
       " ('10785', 1): 5,\n",
       " ('10785', 2): 8,\n",
       " ('10785', 3): 7,\n",
       " ('10785', 4): 11,\n",
       " ('10785', 5): 7,\n",
       " ('10785', 6): 9,\n",
       " ('10785', 7): 9,\n",
       " ('10792', 1): 23,\n",
       " ('10792', 2): 34,\n",
       " ('10792', 3): 28,\n",
       " ('10792', 4): 31,\n",
       " ('10792', 5): 33,\n",
       " ('10792', 6): 38,\n",
       " ('10792', 7): 27,\n",
       " ('10800', 1): 35,\n",
       " ('10800', 2): 29,\n",
       " ('10800', 3): 47,\n",
       " ('10800', 4): 50,\n",
       " ('10800', 5): 50,\n",
       " ('10800', 6): 36,\n",
       " ('10800', 7): 35,\n",
       " ('10821', 1): 175,\n",
       " ('10821', 2): 184,\n",
       " ('10821', 3): 158,\n",
       " ('10821', 4): 225,\n",
       " ('10821', 5): 221,\n",
       " ('10821', 6): 189,\n",
       " ('10821', 7): 154,\n",
       " ('10849', 1): 6,\n",
       " ('10849', 2): 8,\n",
       " ('10849', 3): 10,\n",
       " ('10849', 4): 6,\n",
       " ('10849', 5): 14,\n",
       " ('10849', 6): 3,\n",
       " ('10849', 7): 6,\n",
       " ('10868', 1): 10,\n",
       " ('10868', 2): 14,\n",
       " ('10868', 3): 12,\n",
       " ('10868', 4): 11,\n",
       " ('10868', 5): 19,\n",
       " ('10868', 6): 5,\n",
       " ('10868', 7): 6,\n",
       " ('10874', 1): 15,\n",
       " ('10874', 2): 10,\n",
       " ('10874', 3): 11,\n",
       " ('10874', 4): 11,\n",
       " ('10874', 5): 11,\n",
       " ('10874', 6): 9,\n",
       " ('10874', 7): 13,\n",
       " ('10918', 2): 1,\n",
       " ('10918', 3): 2,\n",
       " ('10918', 4): 2,\n",
       " ('10918', 5): 2,\n",
       " ('10918', 6): 1,\n",
       " ('10926', 3): 1,\n",
       " ('10926', 4): 4,\n",
       " ('10926', 5): 1,\n",
       " ('10926', 6): 2,\n",
       " ('10926', 7): 2,\n",
       " ('10980', 1): 6,\n",
       " ('10980', 2): 9,\n",
       " ('10980', 3): 11,\n",
       " ('10980', 4): 10,\n",
       " ('10980', 5): 6,\n",
       " ('10980', 6): 7,\n",
       " ('10980', 7): 7,\n",
       " ('10990', 1): 4,\n",
       " ('10990', 2): 4,\n",
       " ('10990', 3): 1,\n",
       " ('10990', 4): 6,\n",
       " ('10990', 5): 4,\n",
       " ('10990', 6): 8,\n",
       " ('10990', 7): 4,\n",
       " ('10994', 1): 31,\n",
       " ('10994', 2): 24,\n",
       " ('10994', 3): 29,\n",
       " ('10994', 4): 26,\n",
       " ('10994', 5): 28,\n",
       " ('10994', 6): 24,\n",
       " ('10994', 7): 25,\n",
       " ('11003', 1): 12,\n",
       " ('11003', 2): 13,\n",
       " ('11003', 3): 8,\n",
       " ('11003', 4): 19,\n",
       " ('11003', 5): 14,\n",
       " ('11003', 6): 10,\n",
       " ('11003', 7): 11,\n",
       " ('11013', 1): 1,\n",
       " ('11013', 3): 1,\n",
       " ('11013', 4): 1,\n",
       " ('11013', 6): 1,\n",
       " ('11013', 7): 1,\n",
       " ('11042', 1): 61,\n",
       " ('11042', 2): 91,\n",
       " ('11042', 3): 70,\n",
       " ('11042', 4): 85,\n",
       " ('11042', 5): 89,\n",
       " ('11042', 6): 63,\n",
       " ('11042', 7): 71,\n",
       " ('11049', 1): 5,\n",
       " ('11049', 2): 3,\n",
       " ('11049', 3): 7,\n",
       " ('11049', 4): 6,\n",
       " ('11049', 5): 4,\n",
       " ('11049', 6): 5,\n",
       " ('11049', 7): 6,\n",
       " ('11057', 1): 214,\n",
       " ('11057', 2): 209,\n",
       " ('11057', 3): 204,\n",
       " ('11057', 4): 278,\n",
       " ('11057', 5): 244,\n",
       " ('11057', 6): 192,\n",
       " ('11057', 7): 188,\n",
       " ('11066', 1): 55,\n",
       " ('11066', 2): 50,\n",
       " ('11066', 3): 43,\n",
       " ('11066', 4): 65,\n",
       " ('11066', 5): 58,\n",
       " ('11066', 6): 39,\n",
       " ('11066', 7): 48,\n",
       " ('11067', 1): 3,\n",
       " ('11067', 2): 5,\n",
       " ('11067', 3): 5,\n",
       " ('11067', 4): 6,\n",
       " ('11067', 5): 4,\n",
       " ('11067', 6): 4,\n",
       " ('11067', 7): 5,\n",
       " ('11076', 1): 2,\n",
       " ('11076', 2): 2,\n",
       " ('11076', 3): 3,\n",
       " ('11076', 4): 1,\n",
       " ('11076', 5): 1,\n",
       " ('11076', 6): 2,\n",
       " ('11097', 2): 1,\n",
       " ('11097', 5): 2,\n",
       " ('11097', 7): 1,\n",
       " ('11109', 1): 10,\n",
       " ('11109', 2): 13,\n",
       " ('11109', 3): 12,\n",
       " ('11109', 4): 7,\n",
       " ('11109', 5): 18,\n",
       " ('11109', 6): 9,\n",
       " ('11109', 7): 16,\n",
       " ('11111', 1): 5,\n",
       " ('11111', 2): 4,\n",
       " ('11111', 3): 3,\n",
       " ('11111', 4): 2,\n",
       " ('11111', 5): 6,\n",
       " ('11111', 6): 3,\n",
       " ('11111', 7): 4,\n",
       " ('11122', 1): 4,\n",
       " ('11122', 2): 1,\n",
       " ('11122', 4): 7,\n",
       " ('11122', 5): 2,\n",
       " ('11122', 6): 4,\n",
       " ('11122', 7): 5,\n",
       " ('11140', 1): 11,\n",
       " ('11140', 2): 15,\n",
       " ('11140', 3): 8,\n",
       " ('11140', 4): 12,\n",
       " ('11140', 5): 6,\n",
       " ('11140', 6): 5,\n",
       " ('11140', 7): 8,\n",
       " ('11146', 1): 6,\n",
       " ('11146', 2): 9,\n",
       " ('11146', 3): 4,\n",
       " ('11146', 4): 10,\n",
       " ('11146', 5): 6,\n",
       " ('11146', 6): 1,\n",
       " ('11146', 7): 4,\n",
       " ('11150', 1): 1,\n",
       " ('11150', 2): 3,\n",
       " ('11150', 3): 6,\n",
       " ('11150', 4): 1,\n",
       " ('11150', 5): 4,\n",
       " ('11150', 6): 2,\n",
       " ('11150', 7): 1,\n",
       " ('11193', 1): 40,\n",
       " ('11193', 2): 47,\n",
       " ('11193', 3): 37,\n",
       " ('11193', 4): 54,\n",
       " ('11193', 5): 58,\n",
       " ('11193', 6): 31,\n",
       " ('11193', 7): 37,\n",
       " ('11203', 1): 3,\n",
       " ('11203', 2): 2,\n",
       " ('11203', 3): 4,\n",
       " ('11203', 4): 4,\n",
       " ('11203', 5): 3,\n",
       " ('11203', 6): 3,\n",
       " ('11203', 7): 6,\n",
       " ('11252', 1): 4,\n",
       " ('11252', 2): 6,\n",
       " ('11252', 4): 3,\n",
       " ('11252', 5): 2,\n",
       " ('11252', 6): 4,\n",
       " ('11252', 7): 1,\n",
       " ('11259', 1): 130,\n",
       " ('11259', 2): 119,\n",
       " ('11259', 3): 135,\n",
       " ('11259', 4): 145,\n",
       " ('11259', 5): 118,\n",
       " ('11259', 6): 103,\n",
       " ('11259', 7): 116,\n",
       " ('11267', 1): 18,\n",
       " ('11267', 2): 17,\n",
       " ('11267', 3): 21,\n",
       " ('11267', 4): 24,\n",
       " ('11267', 5): 18,\n",
       " ('11267', 6): 19,\n",
       " ('11267', 7): 21,\n",
       " ('11274', 1): 1,\n",
       " ('11274', 2): 2,\n",
       " ('11274', 3): 3,\n",
       " ('11274', 4): 2,\n",
       " ('11274', 5): 1,\n",
       " ('11274', 6): 1,\n",
       " ('11274', 7): 2,\n",
       " ('11278', 1): 148,\n",
       " ('11278', 2): 141,\n",
       " ('11278', 3): 149,\n",
       " ('11278', 4): 166,\n",
       " ('11278', 5): 162,\n",
       " ('11278', 6): 129,\n",
       " ('11278', 7): 134,\n",
       " ('11292', 1): 378,\n",
       " ('11292', 2): 352,\n",
       " ('11292', 3): 376,\n",
       " ('11292', 4): 475,\n",
       " ('11292', 5): 462,\n",
       " ('11292', 6): 376,\n",
       " ('11292', 7): 366,\n",
       " ('11298', 1): 452,\n",
       " ('11298', 2): 426,\n",
       " ('11298', 3): 431,\n",
       " ('11298', 4): 549,\n",
       " ('11298', 5): 454,\n",
       " ('11298', 6): 424,\n",
       " ('11298', 7): 407,\n",
       " ('11308', 1): 1,\n",
       " ('11308', 2): 3,\n",
       " ('11308', 3): 2,\n",
       " ('11308', 4): 4,\n",
       " ('11308', 5): 3,\n",
       " ('11308', 6): 4,\n",
       " ('11308', 7): 4,\n",
       " ('11315', 1): 2,\n",
       " ('11315', 2): 1,\n",
       " ('11315', 3): 1,\n",
       " ('11315', 4): 1,\n",
       " ('11315', 5): 3,\n",
       " ('11315', 6): 2,\n",
       " ('11315', 7): 1,\n",
       " ('11337', 1): 5,\n",
       " ('11337', 2): 6,\n",
       " ('11337', 3): 2,\n",
       " ('11337', 4): 4,\n",
       " ('11337', 5): 8,\n",
       " ('11337', 6): 5,\n",
       " ('11337', 7): 10,\n",
       " ('11413', 1): 4,\n",
       " ('11413', 2): 3,\n",
       " ('11413', 3): 8,\n",
       " ('11413', 4): 7,\n",
       " ('11413', 5): 5,\n",
       " ('11413', 6): 3,\n",
       " ('11413', 7): 6,\n",
       " ('11423', 1): 16,\n",
       " ('11423', 2): 26,\n",
       " ('11423', 3): 17,\n",
       " ('11423', 4): 13,\n",
       " ('11423', 5): 23,\n",
       " ('11423', 6): 11,\n",
       " ('11423', 7): 10,\n",
       " ('11433', 1): 215,\n",
       " ('11433', 2): 226,\n",
       " ('11433', 3): 216,\n",
       " ('11433', 4): 282,\n",
       " ('11433', 5): 274,\n",
       " ('11433', 6): 171,\n",
       " ('11433', 7): 184,\n",
       " ('11447', 1): 1,\n",
       " ('11447', 2): 1,\n",
       " ('11447', 3): 2,\n",
       " ('11447', 5): 1,\n",
       " ('11471', 1): 1,\n",
       " ('11471', 3): 1,\n",
       " ('11471', 4): 2,\n",
       " ('11471', 6): 2,\n",
       " ('11471', 7): 1,\n",
       " ('11481', 1): 9,\n",
       " ('11481', 2): 13,\n",
       " ('11481', 3): 9,\n",
       " ('11481', 4): 8,\n",
       " ('11481', 5): 7,\n",
       " ('11481', 6): 9,\n",
       " ('11481', 7): 10,\n",
       " ('11503', 5): 1,\n",
       " ('11525', 1): 2,\n",
       " ('11525', 2): 1,\n",
       " ('11525', 3): 2,\n",
       " ('11525', 5): 2,\n",
       " ('11537', 1): 4,\n",
       " ('11537', 2): 4,\n",
       " ('11537', 3): 7,\n",
       " ('11537', 4): 6,\n",
       " ('11537', 5): 3,\n",
       " ('11537', 6): 1,\n",
       " ('11537', 7): 3,\n",
       " ('11540', 1): 24,\n",
       " ('11540', 2): 28,\n",
       " ('11540', 3): 28,\n",
       " ('11540', 4): 42,\n",
       " ('11540', 5): 28,\n",
       " ('11540', 6): 19,\n",
       " ('11540', 7): 18,\n",
       " ('11577', 1): 2,\n",
       " ('11577', 2): 1,\n",
       " ('11577', 4): 1,\n",
       " ('11577', 5): 1,\n",
       " ('11577', 7): 2,\n",
       " ('11587', 1): 4,\n",
       " ('11587', 2): 2,\n",
       " ('11587', 5): 2,\n",
       " ('11587', 6): 2,\n",
       " ('11587', 7): 1,\n",
       " ('11603', 1): 1,\n",
       " ('11603', 2): 4,\n",
       " ('11603', 3): 7,\n",
       " ('11603', 4): 4,\n",
       " ('11603', 5): 11,\n",
       " ('11603', 6): 8,\n",
       " ('11603', 7): 8,\n",
       " ('11612', 1): 10,\n",
       " ('11612', 2): 9,\n",
       " ('11612', 3): 10,\n",
       " ('11612', 4): 7,\n",
       " ('11612', 5): 12,\n",
       " ('11612', 6): 11,\n",
       " ('11612', 7): 9,\n",
       " ('11617', 1): 2,\n",
       " ('11617', 2): 3,\n",
       " ('11617', 3): 1,\n",
       " ('11617', 4): 3,\n",
       " ('11617', 5): 2,\n",
       " ('11617', 6): 2,\n",
       " ('11617', 7): 2,\n",
       " ('11618', 1): 213,\n",
       " ('11618', 2): 205,\n",
       " ('11618', 3): 184,\n",
       " ('11618', 4): 225,\n",
       " ('11618', 5): 226,\n",
       " ('11618', 6): 182,\n",
       " ('11618', 7): 170,\n",
       " ('11624', 1): 1,\n",
       " ('11624', 2): 4,\n",
       " ('11624', 3): 2,\n",
       " ('11624', 4): 4,\n",
       " ('11624', 5): 4,\n",
       " ('11624', 6): 3,\n",
       " ('11624', 7): 3,\n",
       " ('11630', 1): 5,\n",
       " ('11630', 2): 4,\n",
       " ('11630', 3): 4,\n",
       " ('11630', 4): 8,\n",
       " ('11630', 5): 8,\n",
       " ('11630', 6): 6,\n",
       " ('11630', 7): 4,\n",
       " ('11637', 1): 7,\n",
       " ('11637', 2): 12,\n",
       " ('11637', 3): 12,\n",
       " ('11637', 4): 25,\n",
       " ('11637', 5): 9,\n",
       " ('11637', 6): 10,\n",
       " ('11637', 7): 11,\n",
       " ('11638', 1): 21,\n",
       " ('11638', 2): 18,\n",
       " ('11638', 3): 14,\n",
       " ('11638', 4): 18,\n",
       " ('11638', 5): 14,\n",
       " ('11638', 6): 25,\n",
       " ('11638', 7): 13,\n",
       " ('11641', 1): 2,\n",
       " ('11641', 2): 1,\n",
       " ('11641', 3): 5,\n",
       " ('11641', 4): 10,\n",
       " ('11641', 5): 5,\n",
       " ('11641', 6): 4,\n",
       " ('11641', 7): 3,\n",
       " ('11648', 1): 5,\n",
       " ('11648', 2): 3,\n",
       " ('11648', 3): 4,\n",
       " ('11648', 4): 3,\n",
       " ('11648', 5): 3,\n",
       " ('11648', 7): 5,\n",
       " ('11695', 1): 2,\n",
       " ('11695', 2): 3,\n",
       " ('11695', 3): 1,\n",
       " ('11695', 4): 2,\n",
       " ('11695', 5): 5,\n",
       " ('11695', 6): 4,\n",
       " ('11695', 7): 4,\n",
       " ('11697', 1): 112,\n",
       " ('11697', 2): 130,\n",
       " ('11697', 3): 119,\n",
       " ('11697', 4): 146,\n",
       " ('11697', 5): 131,\n",
       " ('11697', 6): 145,\n",
       " ('11697', 7): 120,\n",
       " ('11721', 1): 9,\n",
       " ('11721', 2): 8,\n",
       " ('11721', 3): 11,\n",
       " ('11721', 4): 9,\n",
       " ('11721', 5): 13,\n",
       " ('11721', 6): 11,\n",
       " ('11721', 7): 9,\n",
       " ('11775', 1): 8,\n",
       " ('11775', 2): 9,\n",
       " ('11775', 3): 9,\n",
       " ('11775', 4): 18,\n",
       " ('11775', 5): 16,\n",
       " ('11775', 6): 5,\n",
       " ('11775', 7): 7,\n",
       " ('11778', 1): 2,\n",
       " ('11778', 2): 1,\n",
       " ('11778', 3): 3,\n",
       " ('11778', 4): 6,\n",
       " ('11778', 5): 3,\n",
       " ('11778', 6): 1,\n",
       " ('11778', 7): 3,\n",
       " ('11823', 1): 15,\n",
       " ('11823', 2): 11,\n",
       " ('11823', 3): 9,\n",
       " ('11823', 4): 14,\n",
       " ('11823', 5): 9,\n",
       " ('11823', 6): 11,\n",
       " ('11823', 7): 15,\n",
       " ('11865', 1): 2,\n",
       " ('11865', 2): 2,\n",
       " ('11865', 3): 1,\n",
       " ('11865', 4): 4,\n",
       " ('11865', 5): 1,\n",
       " ('11865', 7): 3,\n",
       " ('11867', 2): 1,\n",
       " ('11867', 3): 1,\n",
       " ('11867', 4): 4,\n",
       " ('11867', 5): 4,\n",
       " ('11867', 6): 1,\n",
       " ('11867', 7): 1,\n",
       " ('11884', 1): 16,\n",
       " ('11884', 2): 12,\n",
       " ('11884', 3): 16,\n",
       " ('11884', 4): 27,\n",
       " ('11884', 5): 15,\n",
       " ('11884', 6): 17,\n",
       " ('11884', 7): 21,\n",
       " ('11898', 1): 2,\n",
       " ('11898', 2): 4,\n",
       " ('11898', 3): 2,\n",
       " ('11898', 4): 4,\n",
       " ('11898', 5): 2,\n",
       " ('11898', 6): 1,\n",
       " ('11898', 7): 2,\n",
       " ('11905', 1): 2,\n",
       " ('11905', 2): 1,\n",
       " ('11905', 3): 1,\n",
       " ('11905', 4): 1,\n",
       " ('11905', 5): 2,\n",
       " ('11905', 6): 2,\n",
       " ('11921', 1): 6,\n",
       " ('11921', 2): 3,\n",
       " ('11921', 3): 3,\n",
       " ('11921', 4): 9,\n",
       " ('11921', 5): 6,\n",
       " ('11921', 6): 6,\n",
       " ('11921', 7): 1,\n",
       " ('11953', 1): 3,\n",
       " ('11953', 2): 5,\n",
       " ('11953', 3): 6,\n",
       " ('11953', 4): 2,\n",
       " ('11953', 5): 8,\n",
       " ('11953', 6): 2,\n",
       " ('11953', 7): 7,\n",
       " ('11973', 1): 7,\n",
       " ('11973', 2): 6,\n",
       " ('11973', 3): 8,\n",
       " ('11973', 4): 6,\n",
       " ('11973', 5): 16,\n",
       " ('11973', 6): 8,\n",
       " ('11973', 7): 7,\n",
       " ('11977', 1): 10,\n",
       " ('11977', 2): 8,\n",
       " ('11977', 3): 12,\n",
       " ('11977', 4): 24,\n",
       " ('11977', 5): 13,\n",
       " ('11977', 6): 6,\n",
       " ('11977', 7): 11,\n",
       " ('11980', 1): 5,\n",
       " ('11980', 2): 2,\n",
       " ('11980', 4): 2,\n",
       " ('11980', 5): 2,\n",
       " ('11982', 1): 14,\n",
       " ('11982', 2): 9,\n",
       " ('11982', 3): 9,\n",
       " ('11982', 4): 11,\n",
       " ('11982', 5): 13,\n",
       " ('11982', 6): 4,\n",
       " ('11982', 7): 11,\n",
       " ('11986', 1): 28,\n",
       " ('11986', 2): 20,\n",
       " ('11986', 3): 22,\n",
       " ('11986', 4): 22,\n",
       " ('11986', 5): 22,\n",
       " ('11986', 6): 19,\n",
       " ('11986', 7): 16,\n",
       " ('11995', 1): 18,\n",
       " ('11995', 2): 19,\n",
       " ('11995', 3): 13,\n",
       " ('11995', 4): 17,\n",
       " ('11995', 5): 20,\n",
       " ('11995', 6): 6,\n",
       " ('11995', 7): 10,\n",
       " ('11996', 1): 15,\n",
       " ('11996', 2): 15,\n",
       " ('11996', 3): 15,\n",
       " ('11996', 4): 16,\n",
       " ('11996', 5): 17,\n",
       " ('11996', 6): 11,\n",
       " ('11996', 7): 14,\n",
       " ('12003', 1): 3,\n",
       " ('12003', 2): 7,\n",
       " ('12003', 4): 7,\n",
       " ('12003', 5): 7,\n",
       " ('12003', 6): 4,\n",
       " ('12003', 7): 5,\n",
       " ('12007', 1): 1,\n",
       " ('12007', 2): 1,\n",
       " ('12007', 3): 1,\n",
       " ('12007', 4): 3,\n",
       " ('12007', 5): 1,\n",
       " ('12007', 6): 1,\n",
       " ('12007', 7): 2,\n",
       " ('12016', 1): 1,\n",
       " ('12016', 5): 1,\n",
       " ('12016', 6): 1,\n",
       " ('12094', 3): 2,\n",
       " ('12094', 4): 1,\n",
       " ('12094', 5): 1,\n",
       " ('12129', 2): 3,\n",
       " ('12129', 3): 2,\n",
       " ('12129', 4): 3,\n",
       " ('12129', 5): 3,\n",
       " ('12129', 6): 2,\n",
       " ('12129', 7): 1,\n",
       " ('12156', 1): 2,\n",
       " ('12156', 2): 2,\n",
       " ('12156', 3): 2,\n",
       " ('12156', 4): 4,\n",
       " ('12156', 5): 6,\n",
       " ('12156', 6): 6,\n",
       " ('12156', 7): 3,\n",
       " ('12173', 1): 64,\n",
       " ('12173', 2): 75,\n",
       " ('12173', 3): 79,\n",
       " ('12173', 4): 94,\n",
       " ('12173', 5): 104,\n",
       " ('12173', 6): 112,\n",
       " ('12173', 7): 86,\n",
       " ('12177', 1): 1,\n",
       " ('12177', 2): 2,\n",
       " ('12177', 3): 3,\n",
       " ('12177', 4): 2,\n",
       " ('12177', 5): 1,\n",
       " ('12177', 7): 1,\n",
       " ('12191', 1): 108,\n",
       " ('12191', 2): 108,\n",
       " ('12191', 3): 122,\n",
       " ('12191', 4): 114,\n",
       " ('12191', 5): 122,\n",
       " ('12191', 6): 81,\n",
       " ('12191', 7): 97,\n",
       " ('12197', 1): 14,\n",
       " ('12197', 2): 17,\n",
       " ('12197', 3): 15,\n",
       " ('12197', 4): 18,\n",
       " ('12197', 5): 15,\n",
       " ('12197', 6): 11,\n",
       " ('12197', 7): 11,\n",
       " ('12206', 1): 11,\n",
       " ('12206', 2): 9,\n",
       " ('12206', 3): 7,\n",
       " ('12206', 4): 13,\n",
       " ('12206', 5): 3,\n",
       " ('12206', 6): 4,\n",
       " ('12206', 7): 1,\n",
       " ('12217', 1): 9,\n",
       " ('12217', 2): 10,\n",
       " ('12217', 3): 5,\n",
       " ('12217', 4): 14,\n",
       " ('12217', 5): 12,\n",
       " ('12217', 6): 5,\n",
       " ('12217', 7): 13,\n",
       " ('12255', 1): 2,\n",
       " ('12255', 3): 1,\n",
       " ('12255', 4): 3,\n",
       " ('12255', 5): 1,\n",
       " ('12255', 6): 2,\n",
       " ('12255', 7): 2,\n",
       " ('12264', 1): 78,\n",
       " ('12264', 2): 53,\n",
       " ('12264', 3): 65,\n",
       " ('12264', 4): 62,\n",
       " ('12264', 5): 69,\n",
       " ('12264', 6): 61,\n",
       " ('12264', 7): 64,\n",
       " ('12265', 1): 1,\n",
       " ('12265', 3): 1,\n",
       " ('12265', 6): 1,\n",
       " ('12266', 1): 306,\n",
       " ('12266', 2): 272,\n",
       " ('12266', 3): 286,\n",
       " ('12266', 4): 355,\n",
       " ('12266', 5): 358,\n",
       " ('12266', 6): 216,\n",
       " ('12266', 7): 250,\n",
       " ('12278', 1): 19,\n",
       " ('12278', 2): 13,\n",
       " ('12278', 3): 19,\n",
       " ('12278', 4): 14,\n",
       " ('12278', 5): 19,\n",
       " ('12278', 6): 18,\n",
       " ('12278', 7): 14,\n",
       " ('12280', 1): 7,\n",
       " ('12280', 2): 5,\n",
       " ('12280', 3): 6,\n",
       " ('12280', 4): 4,\n",
       " ('12280', 5): 6,\n",
       " ('12280', 6): 3,\n",
       " ('12280', 7): 2,\n",
       " ('12323', 1): 7,\n",
       " ('12323', 2): 3,\n",
       " ('12323', 3): 4,\n",
       " ('12323', 4): 4,\n",
       " ('12323', 5): 7,\n",
       " ('12323', 6): 2,\n",
       " ('12323', 7): 2,\n",
       " ('12335', 2): 2,\n",
       " ('12335', 3): 2,\n",
       " ('12335', 4): 2,\n",
       " ('12335', 6): 1,\n",
       " ('12335', 7): 1,\n",
       " ('12339', 1): 61,\n",
       " ('12339', 2): 60,\n",
       " ('12339', 3): 50,\n",
       " ('12339', 4): 74,\n",
       " ('12339', 5): 61,\n",
       " ('12339', 6): 47,\n",
       " ('12339', 7): 41,\n",
       " ('12343', 1): 2,\n",
       " ('12343', 2): 1,\n",
       " ('12343', 3): 3,\n",
       " ('12343', 4): 2,\n",
       " ('12343', 5): 4,\n",
       " ('12343', 6): 1,\n",
       " ('12389', 1): 10,\n",
       " ('12389', 2): 3,\n",
       " ('12389', 3): 6,\n",
       " ('12389', 4): 4,\n",
       " ('12389', 5): 4,\n",
       " ('12389', 6): 1,\n",
       " ('12389', 7): 3,\n",
       " ('12391', 1): 7,\n",
       " ('12391', 2): 8,\n",
       " ('12391', 3): 6,\n",
       " ('12391', 4): 9,\n",
       " ('12391', 5): 13,\n",
       " ('12391', 6): 11,\n",
       " ('12391', 7): 6,\n",
       " ('12402', 1): 8,\n",
       " ('12402', 2): 12,\n",
       " ('12402', 3): 15,\n",
       " ('12402', 4): 19,\n",
       " ('12402', 5): 14,\n",
       " ('12402', 6): 16,\n",
       " ('12402', 7): 12,\n",
       " ('12441', 1): 4,\n",
       " ('12441', 2): 2,\n",
       " ('12441', 3): 8,\n",
       " ('12441', 4): 5,\n",
       " ('12441', 5): 1,\n",
       " ('12441', 6): 1,\n",
       " ('12441', 7): 4,\n",
       " ('12448', 1): 20,\n",
       " ('12448', 2): 23,\n",
       " ('12448', 3): 13,\n",
       " ('12448', 4): 18,\n",
       " ('12448', 5): 15,\n",
       " ('12448', 6): 9,\n",
       " ('12448', 7): 17,\n",
       " ('12451', 1): 40,\n",
       " ('12451', 2): 43,\n",
       " ('12451', 3): 38,\n",
       " ('12451', 4): 42,\n",
       " ('12451', 5): 35,\n",
       " ('12451', 6): 38,\n",
       " ('12451', 7): 28,\n",
       " ('12478', 1): 182,\n",
       " ('12478', 2): 161,\n",
       " ('12478', 3): 152,\n",
       " ('12478', 4): 196,\n",
       " ('12478', 5): 171,\n",
       " ('12478', 6): 174,\n",
       " ('12478', 7): 172,\n",
       " ('12511', 1): 1,\n",
       " ('12511', 2): 1,\n",
       " ('12511', 3): 3,\n",
       " ('12511', 4): 3,\n",
       " ('12511', 5): 2,\n",
       " ('12511', 6): 1,\n",
       " ...}"
      ]
     },
     "execution_count": 37,
     "metadata": {},
     "output_type": "execute_result"
    }
   ],
   "source": [
    "dadwgb = flightdata2.groupby(['DESTINATION_AIRPORT', 'DAY_OF_WEEK']).DATE.count()\n",
    "rsdict={}\n",
    "rs = dadwgb.reset_index()\n",
    "rskeyzip = zip(rs.DESTINATION_AIRPORT.values, rs.DAY_OF_WEEK.values)\n",
    "rsvals = rs.DATE.values\n",
    "ind = 0\n",
    "\n",
    "for ktuple in rskeyzip:\n",
    "    rsdict[ktuple] = rsvals[ind]\n",
    "    ind = ind + 1\n",
    "rsdict"
   ]
  },
  {
   "cell_type": "code",
   "execution_count": 39,
   "metadata": {},
   "outputs": [],
   "source": [
    "das = flightdata2.DESTINATION_AIRPORT.values\n",
    "dws = flightdata2.DAY_OF_WEEK.values\n",
    "dcounts = np.zeros(das.shape[0], dtype='int')\n",
    "ind = 0\n",
    "for da, dw in zip(das, dws):\n",
    "    dcounts[ind] = rsdict[(da,dw)]\n",
    "    ind = ind + 1\n",
    "\n",
    "features209['DESTINATION_BUSYNESS'] = pd.Series(dcounts, index=flightdata2.index)"
   ]
  },
  {
   "cell_type": "code",
   "execution_count": 40,
   "metadata": {},
   "outputs": [
    {
     "data": {
      "text/plain": [
       "(804941,)"
      ]
     },
     "execution_count": 40,
     "metadata": {},
     "output_type": "execute_result"
    }
   ],
   "source": [
    "features209['DESTINATION_BUSYNESS'].shape"
   ]
  },
  {
   "cell_type": "code",
   "execution_count": 41,
   "metadata": {},
   "outputs": [
    {
     "data": {
      "text/html": [
       "<div>\n",
       "<style>\n",
       "    .dataframe thead tr:only-child th {\n",
       "        text-align: right;\n",
       "    }\n",
       "\n",
       "    .dataframe thead th {\n",
       "        text-align: left;\n",
       "    }\n",
       "\n",
       "    .dataframe tbody tr th {\n",
       "        vertical-align: top;\n",
       "    }\n",
       "</style>\n",
       "<table border=\"1\" class=\"dataframe\">\n",
       "  <thead>\n",
       "    <tr style=\"text-align: right;\">\n",
       "      <th></th>\n",
       "      <th>DESTINATION_BUSYNESS</th>\n",
       "      <th>PREVIOUS_TAIL_DELAYED</th>\n",
       "    </tr>\n",
       "  </thead>\n",
       "  <tbody>\n",
       "    <tr>\n",
       "      <th>604157</th>\n",
       "      <td>125</td>\n",
       "      <td>0.0</td>\n",
       "    </tr>\n",
       "    <tr>\n",
       "      <th>435627</th>\n",
       "      <td>7479</td>\n",
       "      <td>0.0</td>\n",
       "    </tr>\n",
       "    <tr>\n",
       "      <th>475811</th>\n",
       "      <td>2789</td>\n",
       "      <td>0.0</td>\n",
       "    </tr>\n",
       "    <tr>\n",
       "      <th>253510</th>\n",
       "      <td>632</td>\n",
       "      <td>0.0</td>\n",
       "    </tr>\n",
       "    <tr>\n",
       "      <th>193075</th>\n",
       "      <td>291</td>\n",
       "      <td>0.0</td>\n",
       "    </tr>\n",
       "  </tbody>\n",
       "</table>\n",
       "</div>"
      ],
      "text/plain": [
       "        DESTINATION_BUSYNESS  PREVIOUS_TAIL_DELAYED\n",
       "604157                   125                    0.0\n",
       "435627                  7479                    0.0\n",
       "475811                  2789                    0.0\n",
       "253510                   632                    0.0\n",
       "193075                   291                    0.0"
      ]
     },
     "execution_count": 41,
     "metadata": {},
     "output_type": "execute_result"
    }
   ],
   "source": [
    "df209one = pd.DataFrame.from_dict(features209)\n",
    "df209one.head()"
   ]
  },
  {
   "cell_type": "code",
   "execution_count": 43,
   "metadata": {},
   "outputs": [],
   "source": [
    "df209one = df209one.join(flightdata2)"
   ]
  },
  {
   "cell_type": "code",
   "execution_count": 44,
   "metadata": {
    "collapsed": true
   },
   "outputs": [],
   "source": [
    "N = 20000\n",
    "flighttrain209 = df209one.iloc[0:N]\n",
    "flighttest209 = df209one.iloc[N:(2*N)]\n",
    "X209 = df209one[['DISTANCE','SCHEDULED_TIME','SCHED_DEP_HOUR','SCHED_ARR_HOUR','FLIGHT_COUNT', 'DESTINATION_BUSYNESS', 'PREVIOUS_TAIL_DELAYED']]\n",
    "\n",
    "\n",
    "dummy_vars209 = pd.get_dummies(df209one[['MONTH','DAY_OF_WEEK','ORIGIN_AIRPORT','DESTINATION_AIRPORT']])\n",
    "X209 = X209.join(dummy_vars209.drop(['MONTH','DAY_OF_WEEK'],axis=1))\n",
    "X_train209 = X209.iloc[0:N]\n",
    "X_test209 = X209.iloc[N:(2*N)]\n",
    "\n",
    "flightelse209 = df209one.iloc[(2*N):df209one.shape[0]]\n",
    "X_else209 = X209.iloc[(2*N):df209one.shape[0]]"
   ]
  },
  {
   "cell_type": "code",
   "execution_count": 46,
   "metadata": {},
   "outputs": [
    {
     "data": {
      "text/plain": [
       "LogisticRegressionCV(Cs=20, class_weight=None, cv=None, dual=False,\n",
       "           fit_intercept=True, intercept_scaling=1.0, max_iter=100,\n",
       "           multi_class='ovr', n_jobs=1, penalty='l1', random_state=None,\n",
       "           refit=True, scoring='roc_auc', solver='liblinear', tol=0.0001,\n",
       "           verbose=0)"
      ]
     },
     "execution_count": 46,
     "metadata": {},
     "output_type": "execute_result"
    }
   ],
   "source": [
    "#Fitting a Lasso-like penalized logistic regression to take care of the overfitted model\n",
    "\n",
    "# Create logistic regression object\n",
    "logitCV209one = sk.linear_model.LogisticRegressionCV(Cs = 20,penalty='l1',solver='liblinear', scoring='roc_auc')\n",
    "logitCV209one.fit(X_train209, y_train)"
   ]
  },
  {
   "cell_type": "code",
   "execution_count": 47,
   "metadata": {},
   "outputs": [
    {
     "name": "stdout",
     "output_type": "stream",
     "text": [
      "0.806004116056\n",
      "0.78833658064\n"
     ]
    }
   ],
   "source": [
    "print(sk.metrics.roc_auc_score(y_train, logitCV209one.predict_proba(X_train209)[:,1]))\n",
    "\n",
    "print(sk.metrics.roc_auc_score(y_test, logitCV209one.predict_proba(X_test209)[:,1]))\n",
    "\n"
   ]
  },
  {
   "cell_type": "markdown",
   "metadata": {},
   "source": [
    "The AUCs are improved a tiny bit. We leave it as an exercise to try the other models."
   ]
  },
  {
   "cell_type": "markdown",
   "metadata": {},
   "source": [
    "(2). (5pts) Add one additional feature from a data source not given to you.  Do this only after you complete the rest of the exam.\n",
    "\n",
    "We will create a feature which tells us which airports are hubs or regional centers. This data is taken from wikipedia. (copied by hand)"
   ]
  },
  {
   "cell_type": "code",
   "execution_count": 48,
   "metadata": {
    "collapsed": true
   },
   "outputs": [],
   "source": [
    "hubdict = dict(\n",
    "    UA = ['IAD', 'LAX', 'SFO', 'DEN', 'ORD', 'EWR', 'IAH'],\n",
    "    AA = ['MIA', 'ORD', 'JFK', 'CLT', 'PHL', 'DFW', 'DCA', 'PHX', 'LAX'],\n",
    "    US = ['CLT', 'PHL', 'DCA', 'PHX', 'LAX'],\n",
    "    F9 = ['MCI', 'MKE', 'DEN', 'ORD', 'CVG', 'TTN', 'CLE'],\n",
    "    B6 = ['FLL', 'BOS', 'JFK'],\n",
    "    OO = [],\n",
    "    AS = ['ANC', 'LAX', 'PDX', 'SEA'],\n",
    "    NK = ['FLL', 'ORD', 'DTW'],\n",
    "    WN = ['ATL', 'MDW', 'BWI', 'DAL', 'STL', 'LAS', 'SAN', 'DEN', 'MCO', 'TPA', 'PHX', 'LAX'],\n",
    "    DL = ['LAX', 'ATL', 'CVG', 'BOS', 'DTW', 'MSP', 'JFK', 'LGA', 'SLC', 'SEA'],\n",
    "    EV = [],\n",
    "    HA = ['HNL', 'OGG'],\n",
    "    MQ = [],\n",
    "    VX = ['SFO', 'DAL', 'LAX']\n",
    ")"
   ]
  },
  {
   "cell_type": "code",
   "execution_count": 49,
   "metadata": {},
   "outputs": [
    {
     "data": {
      "text/plain": [
       "{'ANC',\n",
       " 'ATL',\n",
       " 'BOS',\n",
       " 'BWI',\n",
       " 'CLE',\n",
       " 'CLT',\n",
       " 'CVG',\n",
       " 'DAL',\n",
       " 'DCA',\n",
       " 'DEN',\n",
       " 'DFW',\n",
       " 'DTW',\n",
       " 'EWR',\n",
       " 'FLL',\n",
       " 'HNL',\n",
       " 'IAD',\n",
       " 'IAH',\n",
       " 'JFK',\n",
       " 'LAS',\n",
       " 'LAX',\n",
       " 'LGA',\n",
       " 'MCI',\n",
       " 'MCO',\n",
       " 'MDW',\n",
       " 'MIA',\n",
       " 'MKE',\n",
       " 'MSP',\n",
       " 'OGG',\n",
       " 'ORD',\n",
       " 'PDX',\n",
       " 'PHL',\n",
       " 'PHX',\n",
       " 'SAN',\n",
       " 'SEA',\n",
       " 'SFO',\n",
       " 'SLC',\n",
       " 'STL',\n",
       " 'TPA',\n",
       " 'TTN'}"
      ]
     },
     "execution_count": 49,
     "metadata": {},
     "output_type": "execute_result"
    }
   ],
   "source": [
    "hubs = set()\n",
    "for airline in hubdict:\n",
    "    airlinehubs = set(hubdict[airline])\n",
    "    hubs = hubs.union(airlinehubs)\n",
    "hubs"
   ]
  },
  {
   "cell_type": "code",
   "execution_count": 51,
   "metadata": {},
   "outputs": [
    {
     "data": {
      "text/html": [
       "<div>\n",
       "<style>\n",
       "    .dataframe thead tr:only-child th {\n",
       "        text-align: right;\n",
       "    }\n",
       "\n",
       "    .dataframe thead th {\n",
       "        text-align: left;\n",
       "    }\n",
       "\n",
       "    .dataframe tbody tr th {\n",
       "        vertical-align: top;\n",
       "    }\n",
       "</style>\n",
       "<table border=\"1\" class=\"dataframe\">\n",
       "  <thead>\n",
       "    <tr style=\"text-align: right;\">\n",
       "      <th></th>\n",
       "      <th>DESTINATION_HUB</th>\n",
       "      <th>ORIGIN_HUB</th>\n",
       "    </tr>\n",
       "  </thead>\n",
       "  <tbody>\n",
       "    <tr>\n",
       "      <th>604157</th>\n",
       "      <td>0</td>\n",
       "      <td>1</td>\n",
       "    </tr>\n",
       "    <tr>\n",
       "      <th>435627</th>\n",
       "      <td>1</td>\n",
       "      <td>0</td>\n",
       "    </tr>\n",
       "    <tr>\n",
       "      <th>475811</th>\n",
       "      <td>1</td>\n",
       "      <td>1</td>\n",
       "    </tr>\n",
       "    <tr>\n",
       "      <th>253510</th>\n",
       "      <td>1</td>\n",
       "      <td>1</td>\n",
       "    </tr>\n",
       "    <tr>\n",
       "      <th>193075</th>\n",
       "      <td>0</td>\n",
       "      <td>0</td>\n",
       "    </tr>\n",
       "  </tbody>\n",
       "</table>\n",
       "</div>"
      ],
      "text/plain": [
       "        DESTINATION_HUB  ORIGIN_HUB\n",
       "604157                0           1\n",
       "435627                1           0\n",
       "475811                1           1\n",
       "253510                1           1\n",
       "193075                0           0"
      ]
     },
     "execution_count": 51,
     "metadata": {},
     "output_type": "execute_result"
    }
   ],
   "source": [
    "hubdfdict={}\n",
    "hubdfdict['ORIGIN_HUB'] = flightdata2.ORIGIN_AIRPORT.isin(hubs)*1\n",
    "hubdfdict['DESTINATION_HUB'] = flightdata2.DESTINATION_AIRPORT.isin(hubs)*1\n",
    "dfhubs = pd.DataFrame.from_dict(hubdfdict)\n",
    "dfhubs.head()"
   ]
  },
  {
   "cell_type": "code",
   "execution_count": 52,
   "metadata": {
    "collapsed": true
   },
   "outputs": [],
   "source": [
    "df209two = df209one.join(dfhubs)"
   ]
  },
  {
   "cell_type": "code",
   "execution_count": 53,
   "metadata": {
    "collapsed": true
   },
   "outputs": [],
   "source": [
    "N = 20000\n",
    "flighttrain209two = df209two.iloc[0:N]\n",
    "flighttest209two = df209two.iloc[N:(2*N)]\n",
    "X209two = df209two[['DISTANCE','SCHEDULED_TIME','SCHED_DEP_HOUR','SCHED_ARR_HOUR','FLIGHT_COUNT', 'DESTINATION_BUSYNESS', 'PREVIOUS_TAIL_DELAYED', 'DESTINATION_HUB', 'ORIGIN_HUB']]\n",
    "\n",
    "\n",
    "dummy_vars209two = pd.get_dummies(df209two[['MONTH','DAY_OF_WEEK','ORIGIN_AIRPORT','DESTINATION_AIRPORT']])\n",
    "X209two = X209two.join(dummy_vars209two.drop(['MONTH','DAY_OF_WEEK'],axis=1))\n",
    "X_train209two = X209two.iloc[0:N]\n",
    "X_test209two = X209two.iloc[N:(2*N)]\n",
    "\n",
    "flightelse209two = df209two.iloc[(2*N):df209two.shape[0]]\n",
    "X_else209two = X209two.iloc[(2*N):df209two.shape[0]]"
   ]
  },
  {
   "cell_type": "code",
   "execution_count": 54,
   "metadata": {},
   "outputs": [
    {
     "data": {
      "text/plain": [
       "LogisticRegressionCV(Cs=20, class_weight=None, cv=None, dual=False,\n",
       "           fit_intercept=True, intercept_scaling=1.0, max_iter=100,\n",
       "           multi_class='ovr', n_jobs=1, penalty='l1', random_state=None,\n",
       "           refit=True, scoring='roc_auc', solver='liblinear', tol=0.0001,\n",
       "           verbose=0)"
      ]
     },
     "execution_count": 54,
     "metadata": {},
     "output_type": "execute_result"
    }
   ],
   "source": [
    "#Fitting a Lasso-like penalized logistic regression to take care of the overfitted model\n",
    "\n",
    "# Create logistic regression object\n",
    "logitCV209two = sk.linear_model.LogisticRegressionCV(Cs = 20,penalty='l1',solver='liblinear', scoring='roc_auc')\n",
    "logitCV209two.fit(X_train209two, y_train)"
   ]
  },
  {
   "cell_type": "code",
   "execution_count": 55,
   "metadata": {},
   "outputs": [
    {
     "name": "stdout",
     "output_type": "stream",
     "text": [
      "0.80623566717\n",
      "0.788601740576\n"
     ]
    }
   ],
   "source": [
    "print(sk.metrics.roc_auc_score(y_train, logitCV209two.predict_proba(X_train209two)[:,1]))\n",
    "\n",
    "print(sk.metrics.roc_auc_score(y_test, logitCV209two.predict_proba(X_test209two)[:,1]))\n",
    "\n",
    "\n"
   ]
  },
  {
   "cell_type": "markdown",
   "metadata": {},
   "source": [
    "The improvement is even more marginal. Feature engineering is tough, and this problem needs far greater study."
   ]
  },
  {
   "cell_type": "code",
   "execution_count": 60,
   "metadata": {},
   "outputs": [
    {
     "data": {
      "text/plain": [
       "((20000, 22), (20000, 22))"
      ]
     },
     "execution_count": 60,
     "metadata": {},
     "output_type": "execute_result"
    }
   ],
   "source": [
    "flighttrain209two.shape, flighttest209two.shape"
   ]
  },
  {
   "cell_type": "code",
   "execution_count": 61,
   "metadata": {
    "collapsed": true
   },
   "outputs": [],
   "source": [
    "delayed_train209two = flighttrain209two[flighttrain209two['DELAY_OR_NOT']==1] \n",
    "delayed_test209two = flighttest209two[flighttest209two['DELAY_OR_NOT']==1] \n",
    "\n",
    "X_train2_209 = X_train209two[flighttrain209two['DELAY_OR_NOT']==1]\n",
    "X_test2_209 = X_test209two[flighttest209two['DELAY_OR_NOT']==1] \n",
    "\n",
    "y_train2_209 = np.log(delayed_train209two['ARRIVAL_DELAY'])\n",
    "y_test2_209 = np.log(delayed_test209two['ARRIVAL_DELAY'])"
   ]
  },
  {
   "cell_type": "code",
   "execution_count": 63,
   "metadata": {},
   "outputs": [
    {
     "name": "stdout",
     "output_type": "stream",
     "text": [
      "Train 0.023857161446\n",
      "Test 0.022252417352\n"
     ]
    }
   ],
   "source": [
    "lassoCV_model209 = sk.linear_model.LassoCV(n_alphas = 100)\n",
    "lassoCV_model209.fit(X_train2_209, y_train2_209)\n",
    "\n",
    "print(\"Train\", lassoCV_model209.score(X_train2_209,y_train2_209))\n",
    "print(\"Test\", lassoCV_model209.score(X_test2_209,y_test2_209))\n",
    "\n"
   ]
  },
  {
   "cell_type": "markdown",
   "metadata": {},
   "source": [
    "The improvement in regression is equally marginal."
   ]
  },
  {
   "cell_type": "markdown",
   "metadata": {},
   "source": [
    "## Deliverable: \n",
    "A well presented notebook with well structured and documented code to answer questions 1-7 (plus additional questions for 209 students) with brief explanations and/or clarifications (10pts for overall presentation). The last cell should contain the report for question 8.\n",
    "\n",
    "\n",
    "\n",
    "## Hints\n",
    "1. For the classification model, an AUC of approximately 0.6 should be your base model. \n",
    "2. $R^2>0.03$ for the regression is good, $R^2>0.05$ very good, and $R^2>0.1$ is impressive (measured on the log scale). "
   ]
  },
  {
   "cell_type": "code",
   "execution_count": null,
   "metadata": {
    "collapsed": true
   },
   "outputs": [],
   "source": []
  }
 ],
 "metadata": {
  "kernelspec": {
   "display_name": "Python 3",
   "language": "python",
   "name": "python3"
  },
  "language_info": {
   "codemirror_mode": {
    "name": "ipython",
    "version": 3
   },
   "file_extension": ".py",
   "mimetype": "text/x-python",
   "name": "python",
   "nbconvert_exporter": "python",
   "pygments_lexer": "ipython3",
   "version": "3.6.1"
  },
  "latex_envs": {
   "bibliofile": "biblio.bib",
   "cite_by": "apalike",
   "current_citInitial": 1,
   "eqLabelWithNumbers": true,
   "eqNumInitial": 0
  }
 },
 "nbformat": 4,
 "nbformat_minor": 2
}
