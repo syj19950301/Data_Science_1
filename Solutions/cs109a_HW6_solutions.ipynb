{
 "cells": [
  {
   "cell_type": "markdown",
   "metadata": {},
   "source": [
    "# CS 109A/STAT 121A/AC 209A/CSCI E-109A: Homework 6\n",
    "# Reg-Logistic Regression, ROC, and Data Imputation\n",
    "\n",
    "**Harvard University**<br/>\n",
    "**Fall 2017**<br/>\n",
    "**Instructors**: Pavlos Protopapas, Kevin Rader, Rahul Dave, Margo Levine\n",
    "\n",
    "---\n",
    "\n",
    "### INSTRUCTIONS\n",
    "\n",
    "- To submit your assignment follow the instructions given in canvas.\n",
    "- Restart the kernel and run the whole notebook again before you submit. \n",
    "- Do not include your name(s) in the notebook if you are submitting as a group. \n",
    "- If you submit individually and you have worked with someone, please include the name of your [one] partner below. \n",
    "\n",
    "---"
   ]
  },
  {
   "cell_type": "markdown",
   "metadata": {},
   "source": [
    "Your partner's name (if you submit separately):\n",
    "\n",
    "Enrollment Status (109A, 121A, 209A, or E109A):"
   ]
  },
  {
   "cell_type": "markdown",
   "metadata": {},
   "source": [
    "Import libraries:"
   ]
  },
  {
   "cell_type": "code",
   "execution_count": 1,
   "metadata": {
    "collapsed": true
   },
   "outputs": [],
   "source": [
    "import numpy as np\n",
    "import pandas as pd\n",
    "import matplotlib\n",
    "import matplotlib.pyplot as plt\n",
    "from sklearn.linear_model import LogisticRegressionCV\n",
    "import sklearn.metrics as metrics\n",
    "from sklearn.preprocessing import PolynomialFeatures\n",
    "from sklearn.discriminant_analysis import LinearDiscriminantAnalysis\n",
    "from sklearn.discriminant_analysis import QuadraticDiscriminantAnalysis\n",
    "from sklearn.linear_model import LinearRegression\n",
    "from sklearn.neighbors import KNeighborsClassifier\n",
    "from sklearn.tree import DecisionTreeClassifier\n",
    "from sklearn.model_selection import cross_val_score\n",
    "from sklearn.metrics import accuracy_score\n",
    "from sklearn.metrics import confusion_matrix\n",
    "from sklearn.preprocessing import Imputer\n",
    "from sklearn.metrics import mean_squared_error\n",
    "\n",
    "from sklearn.tree import export_graphviz\n",
    "from IPython.display import Image\n",
    "from IPython.display import display\n",
    "%matplotlib inline"
   ]
  },
  {
   "cell_type": "markdown",
   "metadata": {},
   "source": [
    "## Automated Breast Cancer Detection\n",
    "\n",
    "In this homework, we will consider the problem of early breast cancer detection from X-ray images. Specifically, given a candidate region of interest (ROI) from an X-ray image of a patient's breast, the goal is to predict if the region corresponds to a malignant tumor (label 1) or is normal (label 0). The training and test data sets for this problem is provided in the file `hw6_dataset.csv`. Each row in these files corresponds to a ROI in a patient's X-ray, with columns 1-117 containing features computed using standard image processing algorithms. The last column contains the class label, and is based on a radiologist's opinion or a biopsy. This data was obtained from the KDD Cup 2008 challenge.\n",
    "\n",
    "The data set contain a total of 102,294 candidate ROIs, of which only 623 are malignant, while the remaining are all normal. \n",
    "\n"
   ]
  },
  {
   "cell_type": "markdown",
   "metadata": {},
   "source": [
    "## Question 1: Beyond Classification Accuracy\n",
    "\n",
    "\n",
    "0.  Split the data set into a training set and a testing set.  The training set should be 75% of the original data set, and the testing set 25%.  Use `np.random.seed(9001)`.\n",
    "\n",
    "1. Fit a logistic regression classifier to the training set and report the  accuracy of the classifier on the test set. You should use $L_2$ regularization in logistic regression, with the regularization parameter tuned using cross-validation. \n",
    "    1. How does the fitted model compare with a classifier that predicts 'normal' (label 0) on all patients? \n",
    "    2. Do you think the difference in the classification accuracies are large enough to declare logistic regression as a better classifier than the all 0's classifier? Why or why not?\n",
    "    \n",
    "For applications with imbalanced class labels, in this case when there are many more healthy subjects ($Y=0$) than those with cancer ($Y=1$), the classification accuracy may not be the best metric to evaluate a classifier's performance. As an alternative, we could analyze the confusion table for the classifier. \n",
    "\n",
    "<ol start=\"3\">\n",
    "<li> Compute the confusion table for both the fitted classifier and the classifier that predicts all 0's.</li>\n",
    "<li> Using the entries of the confusion table compute the *true positive rate* and the *true negative rate* for the two classifiers. Explain what these evaluation metrics mean for the specific task of cancer detection. Based on the observed metrics, comment on whether the fitted model is better than the all 0's classifier.</li>\n",
    "<li> What is the *false positive rate* of the fitted classifier, and how is it related to its true positive and true negative rate? Why is a classifier with high false positive rate undesirable for a cancer detection task?</li>\n",
    "</ol>\n",
    "*Hint:* You may use the `metrics.confusion_matrix` function to compute the confusion matrix for a classification model."
   ]
  },
  {
   "cell_type": "markdown",
   "metadata": {},
   "source": [
    "### Question 1 Solutions:\n"
   ]
  },
  {
   "cell_type": "markdown",
   "metadata": {},
   "source": [
    "**1\\. Split the data set into a training set and a testing set.  The training set should be 75% of the original data set, and the testing set 25%.  Use `np.random.seed(9001)`.**\n"
   ]
  },
  {
   "cell_type": "code",
   "execution_count": 2,
   "metadata": {
    "collapsed": true
   },
   "outputs": [],
   "source": [
    "df = pd.read_csv('HW6_dataset.csv', header=0, names=list(range(1,118)) + ['type'])\n",
    "\n",
    "np.random.seed(9001)\n",
    "msk = np.random.rand(len(df)) < 0.75\n",
    "data_train = df[msk]\n",
    "data_test = df[~msk]\n",
    "\n",
    "X_train = data_train.loc[:, data_train.columns != 'type']\n",
    "y_train = data_train['type']\n",
    "X_test = data_test.loc[:, data_test.columns != 'type']\n",
    "y_test = data_test['type']"
   ]
  },
  {
   "cell_type": "markdown",
   "metadata": {},
   "source": [
    "**2\\. Fit a logistic regression classifier to the training set and report the  accuracy of the classifier on the test set. You should use $L_2$ regularization in logistic regression, with the regularization parameter tuned using cross-validation.**\n",
    "    1. How does the fitted model compare with a classifier that predicts 'normal' (label 0) on all patients?\n",
    "    2. Do you think the difference in the classification accuracies are large enough to declare logistic regression as a better classifier than the all 0's classifier? Why or why not?"
   ]
  },
  {
   "cell_type": "code",
   "execution_count": 3,
   "metadata": {},
   "outputs": [
    {
     "name": "stdout",
     "output_type": "stream",
     "text": [
      "Train accuracy:  0.995462323829\n",
      "Test accuracy:  0.995084269663\n"
     ]
    }
   ],
   "source": [
    "logregcv = LogisticRegressionCV(random_state = 123) # By default LBGFS induces L2 norm.\n",
    "logregcv.fit(X_train, y_train)\n",
    "y_hat_train = logregcv.predict(X_train)\n",
    "y_hat_test = logregcv.predict(X_test)\n",
    "print(\"Train accuracy: \", accuracy_score(y_train, y_hat_train))\n",
    "print(\"Test accuracy: \", accuracy_score(y_test, y_hat_test))"
   ]
  },
  {
   "cell_type": "code",
   "execution_count": 4,
   "metadata": {},
   "outputs": [
    {
     "name": "stdout",
     "output_type": "stream",
     "text": [
      "Train accuracy:  0.994135630372\n",
      "Test accuracy:  0.993913857678\n"
     ]
    }
   ],
   "source": [
    "print(\"Train accuracy: \", accuracy_score(y_train, [0 for y in y_train]))\n",
    "print(\"Test accuracy: \", accuracy_score(y_test, [0 for y in y_test]))"
   ]
  },
  {
   "cell_type": "markdown",
   "metadata": {},
   "source": [
    "The fitted model does barely better than on a model that predicts normal on all patients, so no. "
   ]
  },
  {
   "cell_type": "markdown",
   "metadata": {},
   "source": [
    "**3\\. Compute the confusion table for both the fitted classifier and the classifier that predicts all 0's.**"
   ]
  },
  {
   "cell_type": "code",
   "execution_count": 5,
   "metadata": {},
   "outputs": [
    {
     "data": {
      "text/html": [
       "<div>\n",
       "<style>\n",
       "    .dataframe thead tr:only-child th {\n",
       "        text-align: right;\n",
       "    }\n",
       "\n",
       "    .dataframe thead th {\n",
       "        text-align: left;\n",
       "    }\n",
       "\n",
       "    .dataframe tbody tr th {\n",
       "        vertical-align: top;\n",
       "    }\n",
       "</style>\n",
       "<table border=\"1\" class=\"dataframe\">\n",
       "  <thead>\n",
       "    <tr style=\"text-align: right;\">\n",
       "      <th></th>\n",
       "      <th>y_hat=0</th>\n",
       "      <th>y_hat = 1</th>\n",
       "    </tr>\n",
       "  </thead>\n",
       "  <tbody>\n",
       "    <tr>\n",
       "      <th>y=0</th>\n",
       "      <td>16976</td>\n",
       "      <td>8</td>\n",
       "    </tr>\n",
       "    <tr>\n",
       "      <th>y=1</th>\n",
       "      <td>76</td>\n",
       "      <td>28</td>\n",
       "    </tr>\n",
       "  </tbody>\n",
       "</table>\n",
       "</div>"
      ],
      "text/plain": [
       "     y_hat=0  y_hat = 1\n",
       "y=0    16976          8\n",
       "y=1       76         28"
      ]
     },
     "execution_count": 5,
     "metadata": {},
     "output_type": "execute_result"
    }
   ],
   "source": [
    "conf_mat = confusion_matrix(y_test, y_hat_test)\n",
    "conf_df = pd.DataFrame(conf_mat, columns = ['y_hat=0', 'y_hat = 1'], index = ['y=0', 'y=1'])\n",
    "conf_df"
   ]
  },
  {
   "cell_type": "code",
   "execution_count": 6,
   "metadata": {},
   "outputs": [
    {
     "data": {
      "text/html": [
       "<div>\n",
       "<style>\n",
       "    .dataframe thead tr:only-child th {\n",
       "        text-align: right;\n",
       "    }\n",
       "\n",
       "    .dataframe thead th {\n",
       "        text-align: left;\n",
       "    }\n",
       "\n",
       "    .dataframe tbody tr th {\n",
       "        vertical-align: top;\n",
       "    }\n",
       "</style>\n",
       "<table border=\"1\" class=\"dataframe\">\n",
       "  <thead>\n",
       "    <tr style=\"text-align: right;\">\n",
       "      <th></th>\n",
       "      <th>y_hat=0</th>\n",
       "      <th>y_hat = 1</th>\n",
       "    </tr>\n",
       "  </thead>\n",
       "  <tbody>\n",
       "    <tr>\n",
       "      <th>y=0</th>\n",
       "      <td>16984</td>\n",
       "      <td>0</td>\n",
       "    </tr>\n",
       "    <tr>\n",
       "      <th>y=1</th>\n",
       "      <td>104</td>\n",
       "      <td>0</td>\n",
       "    </tr>\n",
       "  </tbody>\n",
       "</table>\n",
       "</div>"
      ],
      "text/plain": [
       "     y_hat=0  y_hat = 1\n",
       "y=0    16984          0\n",
       "y=1      104          0"
      ]
     },
     "execution_count": 6,
     "metadata": {},
     "output_type": "execute_result"
    }
   ],
   "source": [
    "conf_mat_naive = confusion_matrix(y_test, [0 for y in y_test])\n",
    "conf_df_naive = pd.DataFrame(conf_mat_naive, columns = ['y_hat=0', 'y_hat = 1'], index = ['y=0', 'y=1'])\n",
    "conf_df_naive"
   ]
  },
  {
   "cell_type": "markdown",
   "metadata": {
    "collapsed": true
   },
   "source": [
    "**4\\. Using the entries of the confusion table compute the *true positive rate* and the *true negative rate* for the two classifiers. Explain what these evaluation metrics mean for the specific task of cancer detection. Based on the observed metrics, comment on whether the fitted model is better than the all 0's classifier.**"
   ]
  },
  {
   "cell_type": "code",
   "execution_count": 7,
   "metadata": {},
   "outputs": [
    {
     "name": "stdout",
     "output_type": "stream",
     "text": [
      "True Positive Rate for Fitted:  0.269230769231\n",
      "True Negative Rate for Fitted:  0.999528968441\n"
     ]
    }
   ],
   "source": [
    "print(\"True Positive Rate for Fitted: \", float(conf_mat[1][1])/(conf_mat[1][1]+ conf_mat[1][0]))\n",
    "print(\"True Negative Rate for Fitted: \", float(conf_mat[0][0])/(conf_mat[0][0] + conf_mat[0][1]))"
   ]
  },
  {
   "cell_type": "code",
   "execution_count": 8,
   "metadata": {},
   "outputs": [
    {
     "name": "stdout",
     "output_type": "stream",
     "text": [
      "True Positive Rate for Naive:  0.0\n",
      "True Negative Rate for Naive:  1.0\n"
     ]
    }
   ],
   "source": [
    "print(\"True Positive Rate for Naive: \", float(conf_mat_naive[1][1])/(conf_mat_naive[1][1]+ conf_mat_naive[1][0]))\n",
    "print(\"True Negative Rate for Naive: \", float(conf_mat_naive[0][0])/(conf_mat_naive[0][0] + conf_mat_naive[0][1]))"
   ]
  },
  {
   "cell_type": "markdown",
   "metadata": {},
   "source": [
    "For the ones with all zeros, we never get any false positives. However, the number of false negatives increase, which is fundamentally bad as that means there are people with cancer who are told they do not, and hence they may not seek proper treatment. "
   ]
  },
  {
   "cell_type": "markdown",
   "metadata": {
    "collapsed": true
   },
   "source": [
    "**5\\. What is the *false positive rate* of the fitted classifier, and how is it related to its true positive and true negative rate? Why is a classifier with high false positive rate undesirable for a cancer detection task?**"
   ]
  },
  {
   "cell_type": "code",
   "execution_count": 9,
   "metadata": {},
   "outputs": [
    {
     "name": "stdout",
     "output_type": "stream",
     "text": [
      "False Positive Rate for Fitted:  0.000471031559114\n"
     ]
    }
   ],
   "source": [
    "print(\"False Positive Rate for Fitted: \", float(conf_mat[0][1])/(conf_mat[0][1] + conf_mat[0][0]))"
   ]
  },
  {
   "cell_type": "markdown",
   "metadata": {},
   "source": [
    "TNR + FPR = 1 for the first part, but there is NO good relation for the FPR and the TPR as they cannot be used to predict each other. "
   ]
  },
  {
   "cell_type": "markdown",
   "metadata": {},
   "source": [
    "## Question 2: ROC Analysis\n",
    "\n",
    "Another powerful diagnostic tool for class-imbalanced classification tasks is the Receiver Operating Characteristic (ROC) curve. Notice that the default logistic regression classifier in `sklearn` classifies a data point by thresholding the predicted class probability $\\hat{P}(Y=1)$ at 0.5. By using a different threshold, we can adjust the trade-off between the true positive rate (TPR) and false positive rate (FPR) of the classifier. The ROC curve allows us to visualize this trade-off across all possible thresholds.\n",
    "\n",
    "\n",
    "1. Display the ROC curve for the fitted classifier on the *test set*. In the same plot, also display the ROC curve for the all 0's classifier. How do the two curves compare?\n",
    "\n",
    "2.  Compute the highest TPR that can be achieved by the classifier at each of the following FPR's, and the thresholds at which they are achieved. Based on your results, comment on how the threshold influences a classifier's FPR.\n",
    "    - FPR = 0\n",
    "    - FPR = 0.1\n",
    "    - FPR = 0.5\n",
    "    - FPR = 0.9\n",
    "- Suppose a clinician told you that diagnosing a cancer patient as normal is *twice* as critical an error as diagnosing a normal patient as having cancer. Based on this information, what threshold would you recommend the clinician to use? What is the TPR and FPR of the classifier at this threshold? \n",
    "\n",
    "- Compute the area under the ROC curve (AUC) for both the fitted classifier and the all 0's classifier. How does the difference in the AUCs of the two classifiers compare with the difference between their classification accuracies in Question 1, Part 2(A)? \n",
    "\n",
    "*Hint:* You may use the `metrics.roc_curve` function to compute the ROC curve for a classification model and the `metrics.roc_auc_score` function to compute the AUC for the model."
   ]
  },
  {
   "cell_type": "markdown",
   "metadata": {},
   "source": [
    "### Question 2 Solutions:"
   ]
  },
  {
   "cell_type": "markdown",
   "metadata": {},
   "source": [
    "**1\\. Display the ROC curve for the fitted classifier on the *test set*. In the same plot, also display the ROC curve for the all 0's classifier. How do the two curves compare?**\n"
   ]
  },
  {
   "cell_type": "code",
   "execution_count": 29,
   "metadata": {},
   "outputs": [
    {
     "data": {
      "image/png": "[encoded data removed]",
      "text/plain": [
       "<matplotlib.figure.Figure at 0x1290fc0b8>"
      ]
     },
     "metadata": {},
     "output_type": "display_data"
    }
   ],
   "source": [
    "preds = logregcv.predict_proba(X_test)[:,1]\n",
    "fpr, tpr, thresholds = metrics.roc_curve(y_test, preds)\n",
    "fpr_2, tpr_2, thresholds_2 = metrics.roc_curve(y_test, [0 for y in y_test])\n",
    "roc_auc_2 = metrics.auc(fpr_2, tpr_2)\n",
    "plt.figure(figsize=(20,10))\n",
    "lw = 2\n",
    "roc_auc = metrics.auc(fpr, tpr)\n",
    "plt.plot(fpr, tpr, color='darkorange',\n",
    "         lw=lw, label='ROC curve (area = %0.2f) LogReg' % roc_auc)\n",
    "plt.plot([0], [0], marker='o', markersize=10, lw = 0, color=\"red\", label ='ROC curve (area = 0) Naive Classifier')\n",
    "plt.plot([0, 1], [0, 1], color='navy', lw=lw, linestyle='--')\n",
    "plt.xlim([-0.02, 1.0])\n",
    "plt.ylim([-0.02, 1.05])\n",
    "plt.xlabel('False Positive Rate')\n",
    "plt.ylabel('True Positive Rate')\n",
    "plt.title('Receiver operating characteristic')\n",
    "plt.legend(loc=\"lower right\", prop={'size':20})\n",
    "plt.show()"
   ]
  },
  {
   "cell_type": "markdown",
   "metadata": {},
   "source": [
    "Ideally, we want the area under the ROC curve to be 1. We would like the curve to rise very fast and to capture as much of the top left area as we can. The ROC curve for all 0's indicates that we are doing no better than random sampling, or tossing a coin. "
   ]
  },
  {
   "cell_type": "markdown",
   "metadata": {},
   "source": [
    "**2\\.  Compute the highest TPR that can be achieved by the classifier at each of the following FPR's, and the thresholds at which they are achieved. Based on your results, comment on how the threshold influences a classifier's FPR.**\n",
    "    - FPR = 0\n",
    "    - FPR = 0.1\n",
    "    - FPR = 0.5\n",
    "    - FPR = 0.9"
   ]
  },
  {
   "cell_type": "code",
   "execution_count": 30,
   "metadata": {},
   "outputs": [
    {
     "name": "stdout",
     "output_type": "stream",
     "text": [
      "0.0 1.99990555727\n",
      "0.807692307692 0.00571130223307\n",
      "0.961538461538 0.000152201711086\n",
      "0.990384615385 6.32310417421e-09\n"
     ]
    }
   ],
   "source": [
    "print(tpr[np.min([i for i, x in enumerate(fpr) if x>=0])], thresholds[np.min([i for i, x in enumerate(fpr) if x>=0])])\n",
    "print(tpr[np.min([i for i, x in enumerate(fpr) if x>=0.1])], thresholds[np.min([i for i, x in enumerate(fpr) if x>=0.1])])\n",
    "print(tpr[np.min([i for i, x in enumerate(fpr) if x>=0.5])], thresholds[np.min([i for i, x in enumerate(fpr) if x>=0.5])])\n",
    "print(tpr[np.min([i for i, x in enumerate(fpr) if x>=0.9])], thresholds[np.min([i for i, x in enumerate(fpr) if x>=0.9])])"
   ]
  },
  {
   "cell_type": "markdown",
   "metadata": {},
   "source": [
    "As our threshold increases, the true positive rate decreases dramatically. As our threshold goes to zero, we will be predicting 1's for everything. As a result, our true positive rate will be very high. As our threshold decreases, the FPR increases, and so does the TPR. "
   ]
  },
  {
   "cell_type": "markdown",
   "metadata": {},
   "source": [
    "**3\\. Suppose a clinician told you that diagnosing a cancer patient as normal is *twice* as critical an error as diagnosing a normal patient as having cancer. Based on this information, what threshold would you recommend the clinician to use? What is the TPR and FPR of the classifier at this threshold?**"
   ]
  },
  {
   "cell_type": "markdown",
   "metadata": {},
   "source": [
    "Since it would be twice as important to increase TPR, we would want a combined metric that weights a higher TPR more. \n",
    "\n",
    "Combined metric = 2*TPR + (1-FPR) and we want to maximize this combined rate. "
   ]
  },
  {
   "cell_type": "code",
   "execution_count": 31,
   "metadata": {
    "scrolled": false
   },
   "outputs": [
    {
     "data": {
      "text/plain": [
       "157"
      ]
     },
     "execution_count": 31,
     "metadata": {},
     "output_type": "execute_result"
    }
   ],
   "source": [
    "new_metric  = [2*tpr[i]+(1-fpr[i]) for i in range(len(fpr))]\n",
    "new_metric2 = [(1-tpr[i])-(0.5*fpr[i]) for i in range(len(fpr))]\n",
    "np.argmin(new_metric2)"
   ]
  },
  {
   "cell_type": "markdown",
   "metadata": {},
   "source": [
    "By finding the argmax of the values of our metric, we can compute the threshold as 0.00202226."
   ]
  },
  {
   "cell_type": "code",
   "execution_count": 32,
   "metadata": {
    "scrolled": true
   },
   "outputs": [
    {
     "data": {
      "text/plain": [
       "0.0020222606920528977"
      ]
     },
     "execution_count": 32,
     "metadata": {},
     "output_type": "execute_result"
    }
   ],
   "source": [
    "thresholds[np.argmax(new_metric)]"
   ]
  },
  {
   "cell_type": "markdown",
   "metadata": {},
   "source": [
    "Then we can find the FPR and the TPR of the classifier at this threshold."
   ]
  },
  {
   "cell_type": "code",
   "execution_count": 33,
   "metadata": {
    "scrolled": true
   },
   "outputs": [
    {
     "name": "stdout",
     "output_type": "stream",
     "text": [
      "True Positive Rate:  0.884615384615\n",
      "False Positive Rate:  0.196066886481\n"
     ]
    }
   ],
   "source": [
    "print('True Positive Rate: ', tpr[126])\n",
    "print('False Positive Rate: ', fpr[126])"
   ]
  },
  {
   "cell_type": "markdown",
   "metadata": {},
   "source": [
    "**4\\. Compute the area under the ROC curve (AUC) for both the fitted classifier and the all 0's classifier. How does the difference in the AUCs of the two classifiers compare with the difference between their classification accuracies in Question 1, Part 2(A)?** "
   ]
  },
  {
   "cell_type": "code",
   "execution_count": 34,
   "metadata": {},
   "outputs": [
    {
     "name": "stdout",
     "output_type": "stream",
     "text": [
      "Area under the ROC Curve for Fitted Classifer:  0.923302814414\n",
      "Area under the ROC Curve for Naive 0 Classifier:  0.5\n"
     ]
    }
   ],
   "source": [
    "print('Area under the ROC Curve for Fitted Classifer: ', roc_auc)\n",
    "print('Area under the ROC Curve for Naive 0 Classifier: ', roc_auc_2)"
   ]
  },
  {
   "cell_type": "markdown",
   "metadata": {},
   "source": [
    "The area under the curve is a metric used for classification accuracy. It is a better metric for comparing models in our case. In the logistic regression model, our fitted model had an accuracy score of 0.995084269663 vs. the naive all 0's model of 0.993913857678. In this ROC with the AUC metric approach, we see a much bigger difference from 0.9233028144 to 0.5. Hence, AUC is better able to distinguish between two models based on two metrics alone. The AUC takes into account the true positive and false positive rates as well, instead of just the general accuracy rate."
   ]
  },
  {
   "cell_type": "markdown",
   "metadata": {
    "collapsed": true
   },
   "source": [
    "## Question 3: Missing data\n",
    "\n",
    "In this problem you are given a different data set, `HW6_dataset_missing.csv`, that is  similar to the one you used above (same column definitions and same conditions), however this data set contains missing values. \n",
    "\n",
    "1. Remove all observations that contain any missing values, split the dataset into a 75-25 train-test split, and fit the regularized logistic regression as in Question 1 (use `LogisticRegressionCV` again to retune).  Report the overall classification rate and TPR in the test set.\n",
    "2. Restart with a fresh copy of the data in `HW6_dataset_missing.csv` and impute the missing data via mean imputation.  Split the data 75-25 and fit the regularized logistic regression model.  Report the overall classification rate and TPR in the test set.  \n",
    "3. Again restart with a fresh copy of the data in `HW6_dataset_missing.csv` and impute the missing data via a model-based imputation method. Once again split the data 75-25 and fit the regularized logistic regression model.  Report the overall classification rate and TPR in the test set.  \n",
    "4. Compare the results in the 3 previous parts of this problem.  Prepare a paragraph (5-6 sentences) discussing the results, the computational complexity of the methods, and conjecture and explain why you get the results that you see.\n",
    "\n"
   ]
  },
  {
   "cell_type": "markdown",
   "metadata": {},
   "source": [
    "The following code creates the necessary data sets for ALL of the first 3 problems. "
   ]
  },
  {
   "cell_type": "code",
   "execution_count": 35,
   "metadata": {
    "collapsed": true
   },
   "outputs": [],
   "source": [
    "df2_missing = pd.read_csv('HW6_dataset_missing.csv', header=0, names=list(range(1,118)) + ['type'])\n",
    "df2_missing2 = df2_missing.copy()\n",
    "df3_missing3 = df2_missing.copy()\n",
    "\n",
    "# Problem 1 DROP ALL NAN \n",
    "df2_missing.dropna(inplace=True)\n",
    "# SPLIT THE DATA INTO TRAIN/TEST\n",
    "np.random.seed(9001)\n",
    "msk = np.random.rand(len(df2_missing)) < 0.75\n",
    "data_train = df2_missing[msk]\n",
    "data_test = df2_missing[~msk]\n",
    "\n",
    "X_train = data_train.loc[:, data_train.columns != 'type']\n",
    "y_train =data_train['type']\n",
    "X_test= data_test.loc[:, data_test.columns != 'type']\n",
    "y_test =data_test['type']\n",
    "# data_train, data_test are for Problem 1\n",
    "\n",
    "# Problem 2 DO NOT DROP BUT IMPUTE WITH MEAN\n",
    "values = df2_missing2.values\n",
    "imputer = Imputer( strategy='mean')\n",
    "df2_missing2 = imputer.fit_transform(values)\n",
    "msk = np.random.rand(len(df2_missing2)) < 0.75\n",
    "data_train2 = df2_missing2[msk]\n",
    "data_test2 = df2_missing2[~msk]\n",
    "\n",
    "X_train2 = data_train2[:, 0:-1]\n",
    "y_train2 =data_train2[:, -1]\n",
    "X_test2 = data_test2[:, 0:-1]\n",
    "y_test2 =data_test2[:, -1]\n",
    "# data_train2, data_test2 are for Problem 2\n",
    "\n",
    "\n",
    "# Problem 3 DO NOT DROP BUT IMPUTE WITH LINEAR REGRESSION\n",
    "cols_full = []\n",
    "cols_missing = []\n",
    "for i in range(df3_missing3.shape[1] - 1):\n",
    "    if sum(df3_missing3.iloc[:, i].isnull()) > 0:\n",
    "        cols_missing.append(i)\n",
    "    else:\n",
    "        cols_full.append(i)\n",
    "\n",
    "full_data_x = df3_missing3.iloc[:, cols_full]\n",
    "full_data_y = df3_missing3['type']\n",
    "\n",
    "for i in cols_missing:\n",
    "\n",
    "    #rows where column i need to be imputed\n",
    "    pred_x = full_data_x[df3_missing3.iloc[:,i].isnull()]\n",
    "\n",
    "    #rows can be used for prediction\n",
    "    reg_x = full_data_x[~df3_missing3.iloc[:,i].isnull()]\n",
    "    reg_y = full_data_y[~df3_missing3.iloc[:,i].isnull()]\n",
    "    \n",
    "    #Linear regression model based on full columns\n",
    "    regress = LinearRegression().fit(reg_x, reg_y)\n",
    "    reg_y_hat = regress.predict(reg_x)\n",
    "    y_hat = regress.predict(pred_x)\n",
    "    y_hat_noise = y_hat + np.random.normal(loc=0, scale = np.sqrt(mean_squared_error(reg_y, reg_y_hat)), size = y_hat.shape[0])\n",
    "    \n",
    "    missing_series = pd.Series(data=y_hat_noise, index=df3_missing3.iloc[:,i][df3_missing3.iloc[:,i].isnull()].index)\n",
    "    df3_missing3.iloc[:,i] = df3_missing3.iloc[:,i].fillna(missing_series)\n",
    "\n",
    "msk = np.random.rand(len(df3_missing3)) < 0.75\n",
    "data_train3 = df3_missing3[msk]\n",
    "data_test3 = df3_missing3[~msk]\n",
    "\n",
    "X_train3 = data_train3.loc[:, data_train3.columns != 'type']\n",
    "y_train3 =data_train3['type']\n",
    "X_test3= data_test3.loc[:, data_test3.columns != 'type']\n",
    "y_test3 =data_test3['type']\n",
    "# data_train3, data_test3 are for Problem 3\n"
   ]
  },
  {
   "cell_type": "markdown",
   "metadata": {},
   "source": [
    "**1\\. Remove all observations that contain any missing values, split the dataset into a 75-25 train-test split, and fit the regularized logistic regression as in Question 1 (use `LogisticRegressionCV` again to retune).  Report the overall classification rate and TPR in the test set.**"
   ]
  },
  {
   "cell_type": "code",
   "execution_count": 36,
   "metadata": {},
   "outputs": [
    {
     "name": "stdout",
     "output_type": "stream",
     "text": [
      "Train accuracy for Problem 1:  0.999074074074\n",
      "Test accuracy for Problem 1:  0.994382022472\n"
     ]
    },
    {
     "name": "stderr",
     "output_type": "stream",
     "text": [
      "/anaconda/lib/python3.6/site-packages/sklearn/model_selection/_split.py:581: Warning: The least populated class in y has only 1 members, which is too few. The minimum number of groups for any class cannot be less than n_splits=3.\n",
      "  % (min_groups, self.n_splits)), Warning)\n"
     ]
    }
   ],
   "source": [
    "# Problem 1\n",
    "logregcv = LogisticRegressionCV()\n",
    "logregcv.fit(X_train, y_train)\n",
    "y_hat_train = logregcv.predict(X_train)\n",
    "y_hat_test = logregcv.predict(X_test)\n",
    "print(\"Train accuracy for Problem 1: \", accuracy_score(y_train, y_hat_train))\n",
    "print(\"Test accuracy for Problem 1: \", accuracy_score(y_test, y_hat_test))"
   ]
  },
  {
   "cell_type": "markdown",
   "metadata": {},
   "source": [
    "We now create the confusion matrix."
   ]
  },
  {
   "cell_type": "code",
   "execution_count": 37,
   "metadata": {},
   "outputs": [
    {
     "data": {
      "text/html": [
       "<div>\n",
       "<style>\n",
       "    .dataframe thead tr:only-child th {\n",
       "        text-align: right;\n",
       "    }\n",
       "\n",
       "    .dataframe thead th {\n",
       "        text-align: left;\n",
       "    }\n",
       "\n",
       "    .dataframe tbody tr th {\n",
       "        vertical-align: top;\n",
       "    }\n",
       "</style>\n",
       "<table border=\"1\" class=\"dataframe\">\n",
       "  <thead>\n",
       "    <tr style=\"text-align: right;\">\n",
       "      <th></th>\n",
       "      <th>y_hat=0</th>\n",
       "      <th>y_hat = 1</th>\n",
       "    </tr>\n",
       "  </thead>\n",
       "  <tbody>\n",
       "    <tr>\n",
       "      <th>y=0</th>\n",
       "      <td>354</td>\n",
       "      <td>0</td>\n",
       "    </tr>\n",
       "    <tr>\n",
       "      <th>y=1</th>\n",
       "      <td>2</td>\n",
       "      <td>0</td>\n",
       "    </tr>\n",
       "  </tbody>\n",
       "</table>\n",
       "</div>"
      ],
      "text/plain": [
       "     y_hat=0  y_hat = 1\n",
       "y=0      354          0\n",
       "y=1        2          0"
      ]
     },
     "execution_count": 37,
     "metadata": {},
     "output_type": "execute_result"
    }
   ],
   "source": [
    "# Problem 1 \n",
    "conf_mat_1 = confusion_matrix(y_test, y_hat_test)\n",
    "conf_df_1 = pd.DataFrame(conf_mat_1, columns = ['y_hat=0', 'y_hat = 1'], index = ['y=0', 'y=1'])\n",
    "conf_df_1"
   ]
  },
  {
   "cell_type": "code",
   "execution_count": 38,
   "metadata": {},
   "outputs": [
    {
     "name": "stdout",
     "output_type": "stream",
     "text": [
      "True Positive Rate for Part 1:  0.0\n"
     ]
    }
   ],
   "source": [
    "print(\"True Positive Rate for Part 1: \", float(conf_mat_1[1][1])/(conf_mat_1[1][1]+ conf_mat_1[1][0]))"
   ]
  },
  {
   "cell_type": "markdown",
   "metadata": {},
   "source": [
    "**2\\. Restart with a fresh copy of the data in `HW6_dataset_missing.csv` and impute the missing data via mean imputation.  Split the data 75-25 and fit the regularized logistic regression model.  Report the overall classification rate and TPR in the test set.** "
   ]
  },
  {
   "cell_type": "code",
   "execution_count": 39,
   "metadata": {},
   "outputs": [
    {
     "name": "stdout",
     "output_type": "stream",
     "text": [
      "train accuracy for Problem 2:  0.994751908397\n",
      "test accuracy for Problem 2:  0.99511002445\n"
     ]
    }
   ],
   "source": [
    "logregcv = LogisticRegressionCV()\n",
    "logregcv.fit(X_train2, y_train2)\n",
    "y_hat_train2 = logregcv.predict(X_train2)\n",
    "y_hat_test2 = logregcv.predict(X_test2)\n",
    "print(\"train accuracy for Problem 2: \", accuracy_score(y_train2, y_hat_train2))\n",
    "print(\"test accuracy for Problem 2: \", accuracy_score(y_test2, y_hat_test2))"
   ]
  },
  {
   "cell_type": "markdown",
   "metadata": {},
   "source": [
    "We now create the confusion matrix for Problem 2. "
   ]
  },
  {
   "cell_type": "code",
   "execution_count": 40,
   "metadata": {},
   "outputs": [
    {
     "data": {
      "text/html": [
       "<div>\n",
       "<style>\n",
       "    .dataframe thead tr:only-child th {\n",
       "        text-align: right;\n",
       "    }\n",
       "\n",
       "    .dataframe thead th {\n",
       "        text-align: left;\n",
       "    }\n",
       "\n",
       "    .dataframe tbody tr th {\n",
       "        vertical-align: top;\n",
       "    }\n",
       "</style>\n",
       "<table border=\"1\" class=\"dataframe\">\n",
       "  <thead>\n",
       "    <tr style=\"text-align: right;\">\n",
       "      <th></th>\n",
       "      <th>y_hat=0</th>\n",
       "      <th>y_hat = 1</th>\n",
       "    </tr>\n",
       "  </thead>\n",
       "  <tbody>\n",
       "    <tr>\n",
       "      <th>y=0</th>\n",
       "      <td>6102</td>\n",
       "      <td>2</td>\n",
       "    </tr>\n",
       "    <tr>\n",
       "      <th>y=1</th>\n",
       "      <td>28</td>\n",
       "      <td>3</td>\n",
       "    </tr>\n",
       "  </tbody>\n",
       "</table>\n",
       "</div>"
      ],
      "text/plain": [
       "     y_hat=0  y_hat = 1\n",
       "y=0     6102          2\n",
       "y=1       28          3"
      ]
     },
     "execution_count": 40,
     "metadata": {},
     "output_type": "execute_result"
    }
   ],
   "source": [
    "#Problem 2\n",
    "conf_mat_2 = confusion_matrix(y_test2, y_hat_test2)\n",
    "conf_df_2 = pd.DataFrame(conf_mat_2, columns = ['y_hat=0', 'y_hat = 1'], index = ['y=0', 'y=1'])\n",
    "conf_df_2"
   ]
  },
  {
   "cell_type": "code",
   "execution_count": 41,
   "metadata": {},
   "outputs": [
    {
     "name": "stdout",
     "output_type": "stream",
     "text": [
      "True Positive Rate for Part 2:  0.0967741935484\n"
     ]
    }
   ],
   "source": [
    "print(\"True Positive Rate for Part 2: \", float(conf_mat_2[1][1])/(conf_mat_2[1][1]+ conf_mat_2[1][0]))"
   ]
  },
  {
   "cell_type": "markdown",
   "metadata": {},
   "source": [
    "**3\\. Again restart with a fresh copy of the data in `HW6_dataset_missing.csv` and impute the missing data via a model-based imputation method. Once again split the data 75-25 and fit the regularized logistic regression model.  Report the overall classification rate and TPR in the test set.**"
   ]
  },
  {
   "cell_type": "code",
   "execution_count": 42,
   "metadata": {},
   "outputs": [
    {
     "name": "stdout",
     "output_type": "stream",
     "text": [
      "train accuracy for Problem 3:  0.994414596521\n",
      "test accuracy for Problem 3:  0.996129032258\n"
     ]
    }
   ],
   "source": [
    "logregcv = LogisticRegressionCV()\n",
    "logregcv.fit(X_train3, y_train3)\n",
    "y_hat_train3 = logregcv.predict(X_train3)\n",
    "y_hat_test3 = logregcv.predict(X_test3)\n",
    "print(\"train accuracy for Problem 3: \", accuracy_score(y_train3, y_hat_train3))\n",
    "print(\"test accuracy for Problem 3: \", accuracy_score(y_test3, y_hat_test3))"
   ]
  },
  {
   "cell_type": "code",
   "execution_count": 43,
   "metadata": {
    "scrolled": true
   },
   "outputs": [
    {
     "data": {
      "text/html": [
       "<div>\n",
       "<style>\n",
       "    .dataframe thead tr:only-child th {\n",
       "        text-align: right;\n",
       "    }\n",
       "\n",
       "    .dataframe thead th {\n",
       "        text-align: left;\n",
       "    }\n",
       "\n",
       "    .dataframe tbody tr th {\n",
       "        vertical-align: top;\n",
       "    }\n",
       "</style>\n",
       "<table border=\"1\" class=\"dataframe\">\n",
       "  <thead>\n",
       "    <tr style=\"text-align: right;\">\n",
       "      <th></th>\n",
       "      <th>y_hat=0</th>\n",
       "      <th>y_hat = 1</th>\n",
       "    </tr>\n",
       "  </thead>\n",
       "  <tbody>\n",
       "    <tr>\n",
       "      <th>y=0</th>\n",
       "      <td>6168</td>\n",
       "      <td>1</td>\n",
       "    </tr>\n",
       "    <tr>\n",
       "      <th>y=1</th>\n",
       "      <td>23</td>\n",
       "      <td>8</td>\n",
       "    </tr>\n",
       "  </tbody>\n",
       "</table>\n",
       "</div>"
      ],
      "text/plain": [
       "     y_hat=0  y_hat = 1\n",
       "y=0     6168          1\n",
       "y=1       23          8"
      ]
     },
     "execution_count": 43,
     "metadata": {},
     "output_type": "execute_result"
    }
   ],
   "source": [
    "conf_mat_3 = confusion_matrix(y_test3, y_hat_test3)\n",
    "conf_df_3 = pd.DataFrame(conf_mat_3, columns = ['y_hat=0', 'y_hat = 1'], index = ['y=0', 'y=1'])\n",
    "conf_df_3"
   ]
  },
  {
   "cell_type": "code",
   "execution_count": 44,
   "metadata": {},
   "outputs": [
    {
     "name": "stdout",
     "output_type": "stream",
     "text": [
      "True Positive Rate for Part 3:  0.258064516129\n"
     ]
    }
   ],
   "source": [
    "print(\"True Positive Rate for Part 3: \", float(conf_mat_3[1][1])/(conf_mat_3[1][1]+ conf_mat_3[1][0]))"
   ]
  },
  {
   "cell_type": "markdown",
   "metadata": {},
   "source": [
    "**4\\. Compare the results in the 3 previous parts of this problem.  Prepare a paragraph (5-6 sentences) discussing the results, the computational complexity of the methods, and conjecture and explain why you get the results that you see.**"
   ]
  },
  {
   "cell_type": "markdown",
   "metadata": {},
   "source": [
    "The result with dropping all NA values results in the lowest TPR, with the mean method giving the second best TPR result, and finally, the imputation method with Linear Regression yields the best. The computational complexity of the linear regression model is the highest, as we need to fit a model for each NA value, while in the mean method it was just computing a mean across values. The NA method is the lowest complexity as it just involves dropping values. \n",
    "\n",
    "We expect to see the higher TPR from Imputation using Linear regression model since it provides a more sophisticated prediction for the missing values, rather than taking the mean out of all existing values. Due to the imbalance of 0 and 1's, linear regression is able to better account for this than the simple mean method. The simple mean method takes the same value of the mean over the number of entries in a column, while linear regression does a weighting over it instead, allow us to have better predictors. "
   ]
  },
  {
   "cell_type": "markdown",
   "metadata": {},
   "source": [
    "# 209 Question\n",
    "This problem walks you through the derivation of the **likelihood equations** for a generalized linear model (GLM). Suppose that the random component of the GLM is in the univariate natural exponential family, so that\n",
    "$$f(y_i|\\theta_i) = h(y_i) e^{y_i\\theta_i - b(\\theta_i)}$$\n",
    "Define the individual log-likelihood for each observation $i$ as\n",
    "$$l_i(\\theta_i) \\equiv \\log f(y_i|\\theta_i)$$\n",
    "with linear predictor\n",
    "$$\\eta_i = x_i^T\\beta = g(\\mu_i)$$\n",
    "for some link function $g$, and\n",
    "$$\\mu_i = E[y_i|\\theta_i]$$\n",
    "is the mean of each observation.\n",
    "\n",
    "\n",
    "1.Use the above expressions to write a simplified expression for the log-likelihood $l(\\theta)$ for the entire dataset, $y_1, \\dots, y_n$.\n",
    "\n",
    "Solution: We can take the sum of the individual log-likelihoods to find that\n",
    "$$l(\\theta) = \\sum_i \\log f(y_i|\\theta_i) = \\sum_i \\log h(y_i) + \\sum_i y_i \\theta_i - \\sum_i b(\\theta_i)$$\n",
    "\n",
    "2.Use the chain rule to express $\\frac{\\partial l_i}{\\partial \\beta_j}$ in terms of the derivatives of $l_i, \\theta_i, \\mu_i$, and $\\eta_i$. (\\emph{Hint}: Think carefully about which variables are related to which, and in what way. For example, for which of the above variables do you know the derivative with respect to $\\beta_j$?)\n",
    "\n",
    "Solution: Note that $l_i$ is written in terms of $\\theta_i$. Then $\\theta_i$ is related to $\\mu_i$ via $\\mu_i = b'(\\theta_i)$. Next, $\\mu_i$ is related to $\\eta_i$ via the link function, and $\\eta_i$ is related to $\\beta_j$ via the linear predictor. Thus,\n",
    "$$\\frac{\\partial l_i}{\\partial \\beta_j} = \\frac{\\partial l_i}{\\partial \\theta_i} \\frac{\\partial \\theta_i}{\\partial \\mu_i} \\frac{\\partial \\mu_i}{\\partial \\eta_i} \\frac{\\partial \\eta_i}{\\partial \\beta_j}$$\n",
    "\n",
    "3.Compute the derivatives for $\\frac{\\partial l_i}{\\partial \\theta_i}$ and $\\frac{\\partial \\eta_i}{\\partial \\beta_j}$.\n",
    "\n",
    "Solution: From our solution to part 1, we see that\n",
    "$$\\frac{\\partial l_i}{\\partial \\theta_i} = y_i - b'(\\theta_i) = y_i - \\mu_i$$\n",
    "and from the linear predictor, we see that\n",
    "$$\\frac{\\partial \\eta_i}{\\partial \\beta_j} = x_{ij}$$\n",
    "\n",
    "4.Express $\\mu_i$ in terms of $\\theta_i$, and use this relationship to compute $\\frac{\\partial \\theta_i}{\\partial \\mu_i}$. (_Hint_: Recall the cumulant function of a natural exponential family, and assume that you can write $\\partial f/\\partial g = (\\partial g / \\partial f)^{-1}$.)\n",
    "\n",
    "Solution: Again, note that $\\mu_i = b'(\\theta_i)$, and so\n",
    "$$\\frac{\\partial \\theta_i}{\\partial \\mu_i} = \\left(\\frac{\\partial \\mu_i}{\\partial \\theta_i}\\right)^{-1} = (b''(\\theta_i))^{-1} = (var(y_i))^{-1}$$\n",
    "\n",
    "5.Express $\\eta_i$ in terms of $\\mu_i$. Using the same hint as the above, compute $\\frac{\\partial \\mu_i}{\\partial \\eta_i}$.\n",
    "\n",
    "Solution: Note that $g(\\mu_i) =\\eta_i$, and so\n",
    "$$\\frac{\\partial \\mu_i}{\\partial \\eta_i} = \\left(\\frac{\\partial \\eta_i}{\\partial \\mu_i}\\right) = (g'(\\mu_i))^{-1}$$\n",
    "\n",
    "6.Put all of the above parts together to write an expression for $\\frac{\\partial l}{\\partial \\beta_j}$. Use matrix notation to write this expression as\n",
    "$$\\nabla_{\\beta} l(\\beta) = X^TDV^{-1}(Y - \\mu) = 0$$\n",
    "That is, compute the matrices $D$ and $V$ such that this equation holds.\n",
    "\n",
    "Solution: Plugging in the solutions from parts 3-5 into part 2, we have\n",
    "$$\\frac{\\partial l_i}{\\partial \\beta_j} = \\frac{(y_i-\\mu_i)x_{ij}}{var(y_i)g'(\\mu_i)}$$\n",
    "Thus,\n",
    "$$\\frac{\\partial l}{\\partial \\beta_j} = \\sum_i \\frac{(y_i-\\mu_i)x_{ij}}{var(y_i)g'(\\mu_i)}$$\n",
    "which can be written in the above matrix form using\n",
    "$$D = \\text{diag}(g'(\\mu_i)^{-1})$$\n",
    "$$V = \\text{diag}(var(y_i))$$\n",
    "\n",
    "7.If we use the canonical link function, how do your answers to part (6) simplify?\n",
    "\n",
    "Solution: Note that for canonical link functions, $\\theta_i = \\eta_i$, and so the derivative becomes\n",
    "$$\\frac{\\partial l_i}{\\partial \\beta_j} = \\frac{\\partial l_i}{\\partial \\eta_i}\\frac{\\partial \\eta_i}{\\partial \\beta_j} = (y_i-\\mu_i) x_{ij}$$\n",
    "Thus, the matrix equation is simply\n",
    "$$\\nabla_{\\beta} l(\\beta) = X^T(Y - \\mu) = 0$$\n",
    "\n",
    "8.Finally, compute the above likelihood equations in the case of logistic regression, and show that this is equivalent to the solution given in lecture.\n",
    "\n",
    "Solution: Note that for logistic regression, we do use the canonical link, so from part 7, we see that this is simply\n",
    "$$X^T [Y - logit^{-1}(X\\beta)] = 0$$\n",
    "To show that this is completely equivalent to the likelihood approach from lecture, which it must be since both are simply taking first-order conditions of the likelihood,note that the log-likelihood of logistic regression can be written as\n",
    "$$l(\\beta) \\equiv \\sum_i [y_i \\log(logit^{-1}(x_i^T\\beta)) +(1-y_i) \\log (1-logit^{-1}(x_i^T\\beta)]$$\n",
    "$$= \\sum_i \\left[ y_i \\log \\left( \\frac{logit^{-1}(x_i^T\\beta)}{1 - logit^{-1}(x_i^T\\beta)}\\right) + \\log(1-logit^{-1}(x_i^T\\beta)\\right]$$\n",
    "$$ = \\sum_i [y_i x_i^T\\beta + \\log (1-logit^{-1}(x_i^T\\beta)]$$\n",
    "noting that the first term is a logit; and taking partial derivatives, we find\n",
    "$$\\frac{\\partial l}{\\partial \\beta_j} = \\sum_i y_i x_{ij} - \\sum_i logit^{-1}(x_i^T\\beta)x_{ij}$$\n",
    "The derivative of the second term is quite simple if you recall from section that $\\partial_x logit^{-1}(x) = logit^{-1}(x) (1-logit^{-1}(x))$.\n",
    "\n",
    "Thus, this can clearly be written in matrix form as\n",
    "$$X^TY = X^Tlogit^{-1}(X\\beta)$$\n",
    "which is identical to the above."
   ]
  }
 ],
 "metadata": {
  "anaconda-cloud": {},
  "kernelspec": {
   "display_name": "Python 3",
   "language": "python",
   "name": "python3"
  },
  "language_info": {
   "codemirror_mode": {
    "name": "ipython",
    "version": 3
   },
   "file_extension": ".py",
   "mimetype": "text/x-python",
   "name": "python",
   "nbconvert_exporter": "python",
   "pygments_lexer": "ipython3",
   "version": "3.6.1"
  }
 },
 "nbformat": 4,
 "nbformat_minor": 1
}
