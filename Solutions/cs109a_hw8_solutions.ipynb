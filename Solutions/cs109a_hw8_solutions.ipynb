{
 "cells": [
  {
   "cell_type": "markdown",
   "metadata": {},
   "source": [
    "# CS 109A/STAT 121A/AC 209A/CSCI E-109A: Homework 8 SOLUTIONS\n",
    "# Ensemble methods\n",
    "\n",
    "**Harvard University**<br/>\n",
    "**Fall 2017**<br/>\n",
    "**Instructors**: Pavlos Protopapas, Kevin Rader, Rahul Dave\n"
   ]
  },
  {
   "cell_type": "markdown",
   "metadata": {},
   "source": [
    "Import libraries:"
   ]
  },
  {
   "cell_type": "code",
   "execution_count": 48,
   "metadata": {
    "collapsed": true
   },
   "outputs": [],
   "source": [
    "import numpy as np\n",
    "import pandas as pd\n",
    "import matplotlib\n",
    "import matplotlib.pyplot as plt\n",
    "import sklearn.metrics as metrics\n",
    "from sklearn.model_selection import cross_val_score\n",
    "from sklearn import tree\n",
    "from sklearn.tree import DecisionTreeClassifier\n",
    "from sklearn.ensemble import RandomForestClassifier\n",
    "from sklearn.ensemble import AdaBoostClassifier\n",
    "from sklearn.linear_model import LogisticRegressionCV\n",
    "from sklearn.model_selection import KFold\n",
    "from sklearn.metrics import confusion_matrix\n",
    "from sklearn.model_selection import GridSearchCV\n",
    "from sklearn.preprocessing import Imputer\n",
    "from sklearn.metrics import mean_squared_error\n",
    "%matplotlib inline\n",
    "\n",
    "\n",
    "import seaborn as sns\n",
    "pd.set_option('display.width', 1500)\n",
    "pd.set_option('display.max_columns', 100)"
   ]
  },
  {
   "cell_type": "markdown",
   "metadata": {},
   "source": [
    "# Higgs Boson Discovery\n",
    "\n",
    "The discovery of the Higgs boson in July 2012 marked a fundamental breakthrough in particle physics. The Higgs boson particle was discovered through experiments at the Large Hadron Collider at CERN, by colliding beams of protons at high energy. A key challenge in analyzing the results of these experiments is to differentiate between a collision that produces Higgs bosons and collisions thats produce only background noise. We shall explore the use of ensemble methods for this classification task.\n",
    "\n",
    "You are provided with data from Monte-Carlo simulations of collisions of particles in a particle collider experiment. The training set is available in `Higgs_train.csv` and the test set is in `Higgs_test.csv`. Each row in these files corresponds to a particle colision described by 28 features (columns 1-28), of which the first 21 features are kinematic properties measured by the particle detectors in the accelerator, and the remaining features are derived by physicists from the the first 21 features. The class label is provided in the last column, with a label of 1 indicating that the collision produces Higgs bosons (signal), and a label of 0 indicating that the collision produces other particles (background). \n",
    "\n",
    "The data set provided to you is a small subset of the HIGGS data set in the UCI machine learning repository. The following paper contains further details about the data set and the predictors used: <a href = \"https://www.nature.com/articles/ncomms5308\">Baldi et al., Nature Communications 5, 2014</a>.\n"
   ]
  },
  {
   "cell_type": "markdown",
   "metadata": {},
   "source": [
    "## Question 1 (2pt): Single Decision Tree\n",
    "We start by building a basic model which we will use as our base model for comparison. \n",
    "\n",
    "1.1.Fit a decision tree model to the training set and report the classification accuracy of the model on the test set. Use 5-fold cross-validation to choose the (maximum) depth for the tree. You will use the max_depth you find here throughout the homework. \n"
   ]
  },
  {
   "cell_type": "code",
   "execution_count": 2,
   "metadata": {
    "collapsed": true
   },
   "outputs": [],
   "source": [
    "data_train = pd.read_csv('./Higgs_train.csv')\n",
    "data_test = pd.read_csv('./Higgs_test.csv')"
   ]
  },
  {
   "cell_type": "code",
   "execution_count": 3,
   "metadata": {},
   "outputs": [
    {
     "data": {
      "text/html": [
       "<div>\n",
       "<style>\n",
       "    .dataframe thead tr:only-child th {\n",
       "        text-align: right;\n",
       "    }\n",
       "\n",
       "    .dataframe thead th {\n",
       "        text-align: left;\n",
       "    }\n",
       "\n",
       "    .dataframe tbody tr th {\n",
       "        vertical-align: top;\n",
       "    }\n",
       "</style>\n",
       "<table border=\"1\" class=\"dataframe\">\n",
       "  <thead>\n",
       "    <tr style=\"text-align: right;\">\n",
       "      <th></th>\n",
       "      <th>lepton pT</th>\n",
       "      <th>lepton eta</th>\n",
       "      <th>lepton phi</th>\n",
       "      <th>missing energy magnitude</th>\n",
       "      <th>missing energy phi</th>\n",
       "      <th>jet 1 pt</th>\n",
       "      <th>jet 1 eta</th>\n",
       "      <th>jet 1 phi</th>\n",
       "      <th>jet 1 b-tag</th>\n",
       "      <th>jet 2 pt</th>\n",
       "      <th>jet 2 eta</th>\n",
       "      <th>jet 2 phi</th>\n",
       "      <th>jet 2 b-tag</th>\n",
       "      <th>jet 3 pt</th>\n",
       "      <th>jet 3 eta</th>\n",
       "      <th>jet 3 phi</th>\n",
       "      <th>jet 3 b-tag</th>\n",
       "      <th>jet 4 pt</th>\n",
       "      <th>jet 4 eta</th>\n",
       "      <th>jet 4 phi</th>\n",
       "      <th>jet 4 b-tag</th>\n",
       "      <th>m_jj</th>\n",
       "      <th>m_jjj</th>\n",
       "      <th>m_lv</th>\n",
       "      <th>m_jlv</th>\n",
       "      <th>m_bb</th>\n",
       "      <th>m_wbb</th>\n",
       "      <th>m_wwbb</th>\n",
       "      <th>class</th>\n",
       "    </tr>\n",
       "  </thead>\n",
       "  <tbody>\n",
       "    <tr>\n",
       "      <th>0</th>\n",
       "      <td>0.376816</td>\n",
       "      <td>-1.583727</td>\n",
       "      <td>-1.707552</td>\n",
       "      <td>0.990897</td>\n",
       "      <td>0.114397</td>\n",
       "      <td>1.253553</td>\n",
       "      <td>0.619859</td>\n",
       "      <td>-1.479572</td>\n",
       "      <td>2.173076</td>\n",
       "      <td>0.753658</td>\n",
       "      <td>0.775216</td>\n",
       "      <td>-0.667111</td>\n",
       "      <td>2.214872</td>\n",
       "      <td>1.278172</td>\n",
       "      <td>-1.193163</td>\n",
       "      <td>0.504715</td>\n",
       "      <td>0.000000</td>\n",
       "      <td>1.108233</td>\n",
       "      <td>-0.463510</td>\n",
       "      <td>0.397156</td>\n",
       "      <td>0.000000</td>\n",
       "      <td>0.522449</td>\n",
       "      <td>1.318622</td>\n",
       "      <td>0.982398</td>\n",
       "      <td>1.359610</td>\n",
       "      <td>0.964809</td>\n",
       "      <td>1.309991</td>\n",
       "      <td>1.083203</td>\n",
       "      <td>1.0</td>\n",
       "    </tr>\n",
       "    <tr>\n",
       "      <th>1</th>\n",
       "      <td>0.707330</td>\n",
       "      <td>0.087603</td>\n",
       "      <td>-0.399742</td>\n",
       "      <td>0.918742</td>\n",
       "      <td>-1.229936</td>\n",
       "      <td>1.172847</td>\n",
       "      <td>-0.552574</td>\n",
       "      <td>0.886053</td>\n",
       "      <td>2.173076</td>\n",
       "      <td>1.298317</td>\n",
       "      <td>0.761617</td>\n",
       "      <td>-1.057712</td>\n",
       "      <td>2.214872</td>\n",
       "      <td>0.607474</td>\n",
       "      <td>0.458938</td>\n",
       "      <td>1.017845</td>\n",
       "      <td>0.000000</td>\n",
       "      <td>0.496551</td>\n",
       "      <td>0.956453</td>\n",
       "      <td>0.236231</td>\n",
       "      <td>0.000000</td>\n",
       "      <td>0.439696</td>\n",
       "      <td>0.828885</td>\n",
       "      <td>0.992241</td>\n",
       "      <td>1.157820</td>\n",
       "      <td>2.215780</td>\n",
       "      <td>1.189586</td>\n",
       "      <td>0.937976</td>\n",
       "      <td>1.0</td>\n",
       "    </tr>\n",
       "    <tr>\n",
       "      <th>2</th>\n",
       "      <td>0.617290</td>\n",
       "      <td>0.265839</td>\n",
       "      <td>-1.345227</td>\n",
       "      <td>1.154581</td>\n",
       "      <td>1.036646</td>\n",
       "      <td>0.954822</td>\n",
       "      <td>0.377252</td>\n",
       "      <td>-0.147960</td>\n",
       "      <td>0.000000</td>\n",
       "      <td>1.063507</td>\n",
       "      <td>-0.019367</td>\n",
       "      <td>1.110114</td>\n",
       "      <td>0.000000</td>\n",
       "      <td>1.471531</td>\n",
       "      <td>0.204979</td>\n",
       "      <td>-1.064182</td>\n",
       "      <td>2.548224</td>\n",
       "      <td>1.485514</td>\n",
       "      <td>-0.397717</td>\n",
       "      <td>-0.542413</td>\n",
       "      <td>0.000000</td>\n",
       "      <td>1.024506</td>\n",
       "      <td>1.026255</td>\n",
       "      <td>0.986289</td>\n",
       "      <td>0.927720</td>\n",
       "      <td>1.371080</td>\n",
       "      <td>0.981672</td>\n",
       "      <td>0.917436</td>\n",
       "      <td>1.0</td>\n",
       "    </tr>\n",
       "    <tr>\n",
       "      <th>3</th>\n",
       "      <td>0.850992</td>\n",
       "      <td>-0.380876</td>\n",
       "      <td>-0.071264</td>\n",
       "      <td>1.468704</td>\n",
       "      <td>-0.795133</td>\n",
       "      <td>0.691818</td>\n",
       "      <td>0.883260</td>\n",
       "      <td>0.496881</td>\n",
       "      <td>0.000000</td>\n",
       "      <td>1.616349</td>\n",
       "      <td>0.124396</td>\n",
       "      <td>1.182797</td>\n",
       "      <td>1.107436</td>\n",
       "      <td>1.287304</td>\n",
       "      <td>0.160377</td>\n",
       "      <td>-0.915513</td>\n",
       "      <td>2.548224</td>\n",
       "      <td>0.944663</td>\n",
       "      <td>0.795718</td>\n",
       "      <td>-1.520171</td>\n",
       "      <td>0.000000</td>\n",
       "      <td>1.197755</td>\n",
       "      <td>1.100534</td>\n",
       "      <td>0.987262</td>\n",
       "      <td>1.353453</td>\n",
       "      <td>1.455383</td>\n",
       "      <td>0.994682</td>\n",
       "      <td>0.953553</td>\n",
       "      <td>1.0</td>\n",
       "    </tr>\n",
       "    <tr>\n",
       "      <th>4</th>\n",
       "      <td>0.767540</td>\n",
       "      <td>-0.691572</td>\n",
       "      <td>-0.040191</td>\n",
       "      <td>0.614843</td>\n",
       "      <td>0.143765</td>\n",
       "      <td>0.748614</td>\n",
       "      <td>0.397057</td>\n",
       "      <td>-0.873640</td>\n",
       "      <td>0.000000</td>\n",
       "      <td>1.147862</td>\n",
       "      <td>0.127310</td>\n",
       "      <td>1.324833</td>\n",
       "      <td>2.214872</td>\n",
       "      <td>0.729707</td>\n",
       "      <td>-0.758064</td>\n",
       "      <td>-1.123539</td>\n",
       "      <td>0.000000</td>\n",
       "      <td>0.848031</td>\n",
       "      <td>0.106974</td>\n",
       "      <td>0.502034</td>\n",
       "      <td>1.550981</td>\n",
       "      <td>0.921948</td>\n",
       "      <td>0.864080</td>\n",
       "      <td>0.982839</td>\n",
       "      <td>1.373222</td>\n",
       "      <td>0.601492</td>\n",
       "      <td>0.918621</td>\n",
       "      <td>0.957063</td>\n",
       "      <td>0.0</td>\n",
       "    </tr>\n",
       "  </tbody>\n",
       "</table>\n",
       "</div>"
      ],
      "text/plain": [
       "   lepton pT   lepton eta   lepton phi   missing energy magnitude   missing energy phi   jet 1 pt   jet 1 eta   jet 1 phi   jet 1 b-tag   jet 2 pt   jet 2 eta   jet 2 phi   jet 2 b-tag   jet 3 pt   jet 3 eta   jet 3 phi   jet 3 b-tag   jet 4 pt   jet 4 eta   jet 4 phi   jet 4 b-tag      m_jj     m_jjj      m_lv     m_jlv      m_bb     m_wbb    m_wwbb   class\n",
       "0   0.376816    -1.583727    -1.707552                   0.990897             0.114397   1.253553    0.619859   -1.479572      2.173076   0.753658    0.775216   -0.667111      2.214872   1.278172   -1.193163    0.504715      0.000000   1.108233   -0.463510    0.397156      0.000000  0.522449  1.318622  0.982398  1.359610  0.964809  1.309991  1.083203     1.0\n",
       "1   0.707330     0.087603    -0.399742                   0.918742            -1.229936   1.172847   -0.552574    0.886053      2.173076   1.298317    0.761617   -1.057712      2.214872   0.607474    0.458938    1.017845      0.000000   0.496551    0.956453    0.236231      0.000000  0.439696  0.828885  0.992241  1.157820  2.215780  1.189586  0.937976     1.0\n",
       "2   0.617290     0.265839    -1.345227                   1.154581             1.036646   0.954822    0.377252   -0.147960      0.000000   1.063507   -0.019367    1.110114      0.000000   1.471531    0.204979   -1.064182      2.548224   1.485514   -0.397717   -0.542413      0.000000  1.024506  1.026255  0.986289  0.927720  1.371080  0.981672  0.917436     1.0\n",
       "3   0.850992    -0.380876    -0.071264                   1.468704            -0.795133   0.691818    0.883260    0.496881      0.000000   1.616349    0.124396    1.182797      1.107436   1.287304    0.160377   -0.915513      2.548224   0.944663    0.795718   -1.520171      0.000000  1.197755  1.100534  0.987262  1.353453  1.455383  0.994682  0.953553     1.0\n",
       "4   0.767540    -0.691572    -0.040191                   0.614843             0.143765   0.748614    0.397057   -0.873640      0.000000   1.147862    0.127310    1.324833      2.214872   0.729707   -0.758064   -1.123539      0.000000   0.848031    0.106974    0.502034      1.550981  0.921948  0.864080  0.982839  1.373222  0.601492  0.918621  0.957063     0.0"
      ]
     },
     "execution_count": 3,
     "metadata": {},
     "output_type": "execute_result"
    }
   ],
   "source": [
    "data_train.head()"
   ]
  },
  {
   "cell_type": "markdown",
   "metadata": {},
   "source": [
    "### Answer 1.1: Single Decision Tree\n",
    "\n",
    "1.1 Fit a decision tree model to the training set and report the classification accuracy of the model on the test set. You may use 5-fold cross-validation to choose the (maximum) depth for the tree."
   ]
  },
  {
   "cell_type": "code",
   "execution_count": 4,
   "metadata": {
    "collapsed": true
   },
   "outputs": [],
   "source": [
    "X_train = data_train.iloc[:, data_train.columns != ' class']\n",
    "y_train = data_train[' class']\n",
    "X_test = data_test.iloc[:, data_test.columns != ' class']\n",
    "y_test = data_test[' class']"
   ]
  },
  {
   "cell_type": "code",
   "execution_count": 5,
   "metadata": {},
   "outputs": [
    {
     "data": {
      "text/plain": [
       "[(3, 0.62041149381149385, 0.017096535120077552),\n",
       " (4, 0.63580570720570717, 0.0082628053511763326),\n",
       " (5, 0.64021150901150903, 0.015987929117392097),\n",
       " (6, 0.62620630300630309, 0.0088655414118599136),\n",
       " (7, 0.62840690400690402, 0.009766914589539915),\n",
       " (8, 0.62860030100030095, 0.0080448346367561138),\n",
       " (9, 0.62380750100750093, 0.013359274426396337),\n",
       " (10, 0.61540649480649479, 0.01187918210211341),\n",
       " (11, 0.61161469061469054, 0.017110875758382712),\n",
       " (12, 0.603004886004886, 0.013114017999039048),\n",
       " (13, 0.60560988580988573, 0.013442594128967115),\n",
       " (14, 0.60620408800408798, 0.010494459923892866),\n",
       " (15, 0.59741607961607968, 0.019579200517402921),\n",
       " (16, 0.59461247921247928, 0.017557647742352894),\n",
       " (17, 0.59761208281208278, 0.020642787151084349),\n",
       " (18, 0.60061008321008313, 0.016227981024258185),\n",
       " (19, 0.60060728400728403, 0.020206817145474759)]"
      ]
     },
     "execution_count": 5,
     "metadata": {},
     "output_type": "execute_result"
    }
   ],
   "source": [
    "depth = []\n",
    "for i in range(3,20):\n",
    "    dt = DecisionTreeClassifier(max_depth=i)\n",
    "    # Perform 5-fold cross validation \n",
    "    scores = cross_val_score(estimator=dt, X=X_train, y=y_train, cv=5, n_jobs=-1)\n",
    "    depth.append((i,scores.mean(), scores.std()))\n",
    "# sanity check    \n",
    "depth"
   ]
  },
  {
   "cell_type": "code",
   "execution_count": 6,
   "metadata": {},
   "outputs": [
    {
     "data": {
      "image/png": "[encoded data removed]",
      "text/plain": [
       "<matplotlib.figure.Figure at 0x11cdbe160>"
      ]
     },
     "metadata": {},
     "output_type": "display_data"
    }
   ],
   "source": [
    "depthvals = [t[0] for t in depth]\n",
    "cvmeans = np.array([t[1] for t in depth])\n",
    "cvstds = np.array([t[2] for t in depth])\n",
    "plt.plot(depthvals, cvmeans, 'b*-')\n",
    "plt.fill_between(depthvals, cvmeans - cvstds, cvmeans + cvstds)\n",
    "plt.ylabel(\"MeanCV Accuracy\")\n",
    "plt.xlabel(\"Max Depth\")\n",
    "plt.show()"
   ]
  },
  {
   "cell_type": "code",
   "execution_count": 7,
   "metadata": {},
   "outputs": [
    {
     "data": {
      "text/plain": [
       "5"
      ]
     },
     "execution_count": 7,
     "metadata": {},
     "output_type": "execute_result"
    }
   ],
   "source": [
    "max_indx = np.argmax(cvmeans)\n",
    "md_best = depthvals[max_indx]\n",
    "md_best"
   ]
  },
  {
   "cell_type": "markdown",
   "metadata": {},
   "source": [
    "Pavlos' Note: One can use md = 4 even though md_best = 5 since md = 4 is consistent with of best md but a simpler tree. "
   ]
  },
  {
   "cell_type": "code",
   "execution_count": 8,
   "metadata": {},
   "outputs": [
    {
     "data": {
      "text/plain": [
       "0.64559999999999995"
      ]
     },
     "execution_count": 8,
     "metadata": {},
     "output_type": "execute_result"
    }
   ],
   "source": [
    "dt_single = DecisionTreeClassifier(max_depth=md_best)\n",
    "dt_single.fit(X_train, y_train).score(X_test, y_test)\n"
   ]
  },
  {
   "cell_type": "markdown",
   "metadata": {},
   "source": [
    "## Question 2 (15pt): Dropout-based Approach\n",
    "We start with a simple method inspired from the idea of 'dropout' in machine learning, where we fit multiple decision trees on random subsets of predictors, and combine them through a majority vote. The procedure is described below.\n",
    "\n",
    "- For each predictor in the training sample, set the predictor values to 0 with probability $p$  (i.e. drop the predictor by setting it to 0). Repeat this for $B$ trials to create $B$ separate training sets.\n",
    "\n",
    "\n",
    "- Fit decision tree models $\\hat{h}^1(x), \\ldots, \\hat{h}^B(x) \\in \\{0,1\\}$ to the $B$ training sets. \n",
    "\n",
    "- Combine the decision tree models into a single classifier by taking a majority vote:\n",
    "$$\n",
    "\\hat{H}_{maj}(x) \\,=\\, majority\\Big(\\hat{h}^1(x), \\ldots, \\hat{h}^B(x)\\Big).\n",
    "$$\n",
    "\n",
    "\n",
    "We shall refer to the combined classifier as an ** *ensemble classifier* **. Implement the described dropout approach, and answer the following questions:"
   ]
  },
  {
   "cell_type": "markdown",
   "metadata": {},
   "source": [
    "### Answer 2.1 \n",
    "\n",
    "Apply the dropout procedure with $p = 0.5$ for different number of trees (say $2, 4, 8, 16, \\ldots, 256$), and evaluate the training and test accuracy of the combined classifier. Does an increase in the number of trees improve the training and test performance? Explain your observations in terms of the bias-variance trade-off for the classifier."
   ]
  },
  {
   "cell_type": "code",
   "execution_count": 29,
   "metadata": {
    "collapsed": true
   },
   "outputs": [],
   "source": [
    "def dropout_forest(B, p, md=None):\n",
    "    #set up vote arrays\n",
    "    votes_test = np.zeros((y_test.shape[0], B))\n",
    "    votes_train = np.zeros((y_train.shape[0], B))\n",
    "    # Do B times\n",
    "    for i in range(B):\n",
    "        train_set = X_train.copy()\n",
    "        for column in train_set.columns:\n",
    "            if np.random.uniform()<p:\n",
    "                train_set[column] = 0\n",
    "        votes_test[:,i] = (DecisionTreeClassifier(max_depth=md).fit(train_set, y_train)).predict(X_test)\n",
    "        votes_train[:,i] = (DecisionTreeClassifier(max_depth=md).fit(train_set, y_train)).predict(X_train)\n",
    "    #Get majority votes\n",
    "    y_hat = (np.mean(votes_test,axis=1)>.5).astype(float)\n",
    "    y_hat_train = (np.mean(votes_train,axis=1)>.5).astype(float)\n",
    "    return (metrics.accuracy_score(y_test, y_hat), metrics.accuracy_score(y_train, y_hat_train))"
   ]
  },
  {
   "cell_type": "code",
   "execution_count": 30,
   "metadata": {},
   "outputs": [],
   "source": [
    "test_scores = []\n",
    "train_scores = []\n",
    "num_trees = [2**x for x in range(7)]\n",
    "for B in num_trees:\n",
    "    tt, tr = dropout_forest(B,.5, md_best)\n",
    "    test_scores.append(tt)\n",
    "    train_scores.append(tr)\n"
   ]
  },
  {
   "cell_type": "code",
   "execution_count": 31,
   "metadata": {},
   "outputs": [
    {
     "data": {
      "image/png": "[encoded data removed]",
      "text/plain": [
       "<matplotlib.figure.Figure at 0x120ea9978>"
      ]
     },
     "metadata": {},
     "output_type": "display_data"
    }
   ],
   "source": [
    "plt.plot(num_trees, test_scores, '*-', label='test')\n",
    "plt.plot(num_trees, train_scores, '*-', label='train')\n",
    "plt.legend(loc='best')\n",
    "plt.xlabel('Number of trees')\n",
    "plt.ylabel('Accuracy')\n",
    "plt.show()"
   ]
  },
  {
   "cell_type": "markdown",
   "metadata": {},
   "source": [
    "An increase in the number of tree in general leads to an improvement in performance up to 32 trees. At low number of trees, there is high variance, and thus low accuracy. As number of trees increases, we are adding more averaging of (slightly) different models with different columns dropped out. As we increase the number of trees, the averaging first wins, decreasing variance. But as the number of trees becomes very large, there is not much incremetal improvement to be done, and performance plateaus.\n",
    "\n",
    "The amount of randomness we introduce is not enough (remember we don't bag) to counter the intrinsic overfitting. In other words, there is not much more left to average and the variance does not decrease further.  Indeed there is a large gap between train and test performance, showing us that we did not squeeze enough variance out of this model."
   ]
  },
  {
   "cell_type": "markdown",
   "metadata": {},
   "source": [
    "### Answer 2.2 \n",
    "\n",
    "Fix the number of trees to 64 and apply the dropout procedure with different dropout rates $p = 0.1, 0.3, 0.5, 0.7, 0.9$. Based on your results, explain how the dropout rate influences the bias and variance of the combined classifier."
   ]
  },
  {
   "cell_type": "code",
   "execution_count": 32,
   "metadata": {},
   "outputs": [
    {
     "data": {
      "image/png": "[encoded data removed]",
      "text/plain": [
       "<matplotlib.figure.Figure at 0x11ce89c88>"
      ]
     },
     "metadata": {},
     "output_type": "display_data"
    }
   ],
   "source": [
    "test_scores = []\n",
    "train_scores = []\n",
    "p_array = [0., 0.1, 0.3, 0.5, 0.7, 0.9, 1.0]\n",
    "\n",
    "for p in p_array:\n",
    "    tt, tr = dropout_forest(8,p, md_best)\n",
    "#     print(tt,tr)\n",
    "    test_scores.append(tt)\n",
    "    train_scores.append(tr)\n",
    "plt.plot(p_array, test_scores, '*-',label='test')\n",
    "plt.plot(p_array, train_scores, '*-', label='train')\n",
    "plt.legend(loc='best')\n",
    "plt.xlabel('Cutoff Probability')\n",
    "plt.ylabel('Accuracy')\n",
    "plt.show()"
   ]
  },
  {
   "cell_type": "markdown",
   "metadata": {},
   "source": [
    "We fix the amount of averaging by fixing the number of trees. But now we change the probability of dropout. For p=0.5, we will on average, for each one of our B trees, drop 1/2 the predictors. Sometimes we'll drop less and sometimes more. And these wont be the same predictors we drop each time.\n",
    "\n",
    "Consider the other limits. At p=1, we'll drop every predictor, thus creating a model which is highly biased (no learning), since all we are doing then it selects randomly predicts classes.\n",
    "\n",
    "At p=0, we drop no predictors. All of them remain in, for every tree. So we basically fit the same Decision Tree classifier each time, save some randomness from the decision tree process itself and accurancy is the same as Q1.1. This is the variance limit. \n",
    "\n",
    "In between, as p decreases from 1 to 0, we start taking in more and more predictors, decreasing our bias. Our variance increases, but the bias decreases. As p increases from 0, dropping predictors reduces the complexity and therefore each tree is less complex and less overfit. For larger p, our models include many of the same predictors, and the benefits of averaging go down and the variance increases.\n",
    " \n"
   ]
  },
  {
   "cell_type": "markdown",
   "metadata": {},
   "source": [
    "### Answer 2.3 \n",
    "\n",
    "Apply 5-fold cross-validation to choose the optimal combination of the dropout rate and number of trees. "
   ]
  },
  {
   "cell_type": "code",
   "execution_count": 33,
   "metadata": {
    "collapsed": true
   },
   "outputs": [],
   "source": [
    "def dropout_forest_cv(X_train_fold, y_train_fold, X_test_fold, y_test_fold, B, p, md=None):\n",
    "    votes_test = np.zeros((y_test_fold.shape[0], B))\n",
    "    votes_train = np.zeros((y_train_fold.shape[0], B))\n",
    "    for i in range(B):\n",
    "        train_set = X_train_fold.copy()\n",
    "        for column in train_set.columns:\n",
    "            if np.random.uniform()<p:\n",
    "                train_set[column] = 0\n",
    "        votes_test[:,i] = (DecisionTreeClassifier(max_depth=md).fit(train_set, y_train_fold)).predict(X_test_fold)\n",
    "        votes_train[:,i] = (DecisionTreeClassifier(max_depth=md).fit(train_set, y_train_fold)).predict(X_train_fold)\n",
    "    y_hat = (np.mean(votes_test,axis=1)>.5).astype(float)\n",
    "    y_hat_train = (np.mean(votes_train,axis=1)>.5).astype(float)\n",
    "    return [metrics.accuracy_score(y_test_fold, y_hat), metrics.accuracy_score(y_train_fold, y_hat_train)]"
   ]
  },
  {
   "cell_type": "code",
   "execution_count": 34,
   "metadata": {},
   "outputs": [
    {
     "data": {
      "text/plain": [
       "defaultdict(list,\n",
       "            {(0.0, 1): [(0.629, 0.68525000000000003),\n",
       "              (0.61799999999999999, 0.68874999999999997),\n",
       "              (0.64500000000000002, 0.69674999999999998),\n",
       "              (0.64200000000000002, 0.6925),\n",
       "              (0.63900000000000001, 0.70074999999999998)],\n",
       "             (0.0, 2): [(0.63, 0.68525000000000003),\n",
       "              (0.61799999999999999, 0.68799999999999994),\n",
       "              (0.64500000000000002, 0.69674999999999998),\n",
       "              (0.64200000000000002, 0.69325000000000003),\n",
       "              (0.63900000000000001, 0.70074999999999998)],\n",
       "             (0.0, 4): [(0.629, 0.68525000000000003),\n",
       "              (0.61599999999999999, 0.68874999999999997),\n",
       "              (0.64500000000000002, 0.69674999999999998),\n",
       "              (0.64600000000000002, 0.69350000000000001),\n",
       "              (0.63900000000000001, 0.70074999999999998)],\n",
       "             (0.0, 8): [(0.629, 0.68525000000000003),\n",
       "              (0.61599999999999999, 0.68899999999999995),\n",
       "              (0.64500000000000002, 0.69674999999999998),\n",
       "              (0.64700000000000002, 0.6925),\n",
       "              (0.63900000000000001, 0.70074999999999998)],\n",
       "             (0.0, 16): [(0.629, 0.68525000000000003),\n",
       "              (0.61799999999999999, 0.68825000000000003),\n",
       "              (0.64500000000000002, 0.69674999999999998),\n",
       "              (0.64200000000000002, 0.69325000000000003),\n",
       "              (0.63900000000000001, 0.70074999999999998)],\n",
       "             (0.0, 32): [(0.63, 0.68525000000000003),\n",
       "              (0.61699999999999999, 0.68899999999999995),\n",
       "              (0.64500000000000002, 0.69674999999999998),\n",
       "              (0.64500000000000002, 0.69325000000000003),\n",
       "              (0.63900000000000001, 0.70074999999999998)],\n",
       "             (0.0, 64): [(0.63, 0.68525000000000003),\n",
       "              (0.61699999999999999, 0.68899999999999995),\n",
       "              (0.64500000000000002, 0.69674999999999998),\n",
       "              (0.64500000000000002, 0.6925),\n",
       "              (0.63900000000000001, 0.70074999999999998)],\n",
       "             (0.1, 1): [(0.60499999999999998, 0.67600000000000005),\n",
       "              (0.60299999999999998, 0.6895),\n",
       "              (0.64200000000000002, 0.69999999999999996),\n",
       "              (0.64500000000000002, 0.6925),\n",
       "              (0.622, 0.67074999999999996)],\n",
       "             (0.1, 2): [(0.624, 0.67600000000000005),\n",
       "              (0.627, 0.67700000000000005),\n",
       "              (0.64500000000000002, 0.69550000000000001),\n",
       "              (0.65200000000000002, 0.67925000000000002),\n",
       "              (0.64300000000000002, 0.70125000000000004)],\n",
       "             (0.1, 4): [(0.63, 0.68525000000000003),\n",
       "              (0.64400000000000002, 0.70350000000000001),\n",
       "              (0.64600000000000002, 0.69650000000000001),\n",
       "              (0.66200000000000003, 0.69425000000000003),\n",
       "              (0.64100000000000001, 0.71225000000000005)],\n",
       "             (0.1, 8): [(0.63100000000000001, 0.68525000000000003),\n",
       "              (0.61699999999999999, 0.68874999999999997),\n",
       "              (0.64500000000000002, 0.69625000000000004),\n",
       "              (0.64700000000000002, 0.69099999999999995),\n",
       "              (0.63900000000000001, 0.70099999999999996)],\n",
       "             (0.1, 16): [(0.63, 0.68525000000000003),\n",
       "              (0.61699999999999999, 0.68899999999999995),\n",
       "              (0.64500000000000002, 0.69674999999999998),\n",
       "              (0.64400000000000002, 0.69425000000000003),\n",
       "              (0.64900000000000002, 0.70825000000000005)],\n",
       "             (0.1, 32): [(0.63100000000000001, 0.68600000000000005),\n",
       "              (0.61699999999999999, 0.68825000000000003),\n",
       "              (0.64500000000000002, 0.69674999999999998),\n",
       "              (0.64500000000000002, 0.69325000000000003),\n",
       "              (0.63900000000000001, 0.70074999999999998)],\n",
       "             (0.1, 64): [(0.63, 0.68525000000000003),\n",
       "              (0.61599999999999999, 0.6885),\n",
       "              (0.64500000000000002, 0.69674999999999998),\n",
       "              (0.64500000000000002, 0.69225000000000003),\n",
       "              (0.63900000000000001, 0.70074999999999998)],\n",
       "             (0.3, 1): [(0.63700000000000001, 0.69025000000000003),\n",
       "              (0.625, 0.6855),\n",
       "              (0.59499999999999997, 0.67825000000000002),\n",
       "              (0.64500000000000002, 0.69499999999999995),\n",
       "              (0.63400000000000001, 0.69925000000000004)],\n",
       "             (0.3, 2): [(0.629, 0.68874999999999997),\n",
       "              (0.61499999999999999, 0.6845),\n",
       "              (0.61199999999999999, 0.67774999999999996),\n",
       "              (0.63800000000000001, 0.66774999999999995),\n",
       "              (0.64000000000000001, 0.69174999999999998)],\n",
       "             (0.3, 4): [(0.64700000000000002, 0.69125000000000003),\n",
       "              (0.61099999999999999, 0.69950000000000001),\n",
       "              (0.625, 0.69474999999999998),\n",
       "              (0.64000000000000001, 0.68799999999999994),\n",
       "              (0.626, 0.71825000000000006)],\n",
       "             (0.3, 8): [(0.65400000000000003, 0.69874999999999998),\n",
       "              (0.63400000000000001, 0.70274999999999999),\n",
       "              (0.63700000000000001, 0.72424999999999995),\n",
       "              (0.66200000000000003, 0.71975),\n",
       "              (0.65100000000000002, 0.71375)],\n",
       "             (0.3, 16): [(0.64500000000000002, 0.70125000000000004),\n",
       "              (0.63900000000000001, 0.72624999999999995),\n",
       "              (0.65400000000000003, 0.72450000000000003),\n",
       "              (0.66500000000000004, 0.72424999999999995),\n",
       "              (0.65800000000000003, 0.73750000000000004)],\n",
       "             (0.3, 32): [(0.65500000000000003, 0.71099999999999997),\n",
       "              (0.63900000000000001, 0.71799999999999997),\n",
       "              (0.65900000000000003, 0.72150000000000003),\n",
       "              (0.65700000000000003, 0.70699999999999996),\n",
       "              (0.64300000000000002, 0.72999999999999998)],\n",
       "             (0.3, 64): [(0.66400000000000003, 0.70850000000000002),\n",
       "              (0.63900000000000001, 0.72075),\n",
       "              (0.65500000000000003, 0.72150000000000003),\n",
       "              (0.66200000000000003, 0.71325000000000005),\n",
       "              (0.65200000000000002, 0.72250000000000003)],\n",
       "             (0.5, 1): [(0.62, 0.66200000000000003),\n",
       "              (0.61399999999999999, 0.67000000000000004),\n",
       "              (0.57399999999999995, 0.65000000000000002),\n",
       "              (0.58199999999999996, 0.60850000000000004),\n",
       "              (0.58099999999999996, 0.61899999999999999)],\n",
       "             (0.5, 2): [(0.57299999999999995, 0.64000000000000001),\n",
       "              (0.63500000000000001, 0.66874999999999996),\n",
       "              (0.628, 0.67300000000000004),\n",
       "              (0.61499999999999999, 0.67400000000000004),\n",
       "              (0.63100000000000001, 0.67600000000000005)],\n",
       "             (0.5, 4): [(0.629, 0.68174999999999997),\n",
       "              (0.623, 0.67800000000000005),\n",
       "              (0.625, 0.66049999999999998),\n",
       "              (0.66000000000000003, 0.70625000000000004),\n",
       "              (0.64900000000000002, 0.70399999999999996)],\n",
       "             (0.5, 8): [(0.65900000000000003, 0.73250000000000004),\n",
       "              (0.64600000000000002, 0.70899999999999996),\n",
       "              (0.66200000000000003, 0.73724999999999996),\n",
       "              (0.66700000000000004, 0.70774999999999999),\n",
       "              (0.65700000000000003, 0.71725000000000005)],\n",
       "             (0.5, 16): [(0.67200000000000004, 0.71850000000000003),\n",
       "              (0.63700000000000001, 0.72624999999999995),\n",
       "              (0.63900000000000001, 0.72975000000000001),\n",
       "              (0.66600000000000004, 0.71550000000000002),\n",
       "              (0.66000000000000003, 0.73899999999999999)],\n",
       "             (0.5, 32): [(0.66600000000000004, 0.70525000000000004),\n",
       "              (0.63700000000000001, 0.72350000000000003),\n",
       "              (0.64800000000000002, 0.73450000000000004),\n",
       "              (0.65800000000000003, 0.74124999999999996),\n",
       "              (0.67000000000000004, 0.746)],\n",
       "             (0.5, 64): [(0.67200000000000004, 0.72850000000000004),\n",
       "              (0.65000000000000002, 0.74675000000000002),\n",
       "              (0.65000000000000002, 0.74424999999999997),\n",
       "              (0.66400000000000003, 0.72424999999999995),\n",
       "              (0.68100000000000005, 0.73875000000000002)],\n",
       "             (0.7, 1): [(0.60099999999999998, 0.63475000000000004),\n",
       "              (0.54600000000000004, 0.60075000000000001),\n",
       "              (0.61199999999999999, 0.68074999999999997),\n",
       "              (0.55000000000000004, 0.59524999999999995),\n",
       "              (0.60299999999999998, 0.64124999999999999)],\n",
       "             (0.7, 2): [(0.57199999999999995, 0.61350000000000005),\n",
       "              (0.64500000000000002, 0.66674999999999995),\n",
       "              (0.64800000000000002, 0.67774999999999996),\n",
       "              (0.54900000000000004, 0.61599999999999999),\n",
       "              (0.54100000000000004, 0.59850000000000003)],\n",
       "             (0.7, 4): [(0.63300000000000001, 0.69374999999999998),\n",
       "              (0.59699999999999998, 0.6835),\n",
       "              (0.58699999999999997, 0.68225000000000002),\n",
       "              (0.66200000000000003, 0.69774999999999998),\n",
       "              (0.625, 0.67425000000000002)],\n",
       "             (0.7, 8): [(0.63700000000000001, 0.70999999999999996),\n",
       "              (0.65300000000000002, 0.71999999999999997),\n",
       "              (0.64200000000000002, 0.70799999999999996),\n",
       "              (0.67000000000000004, 0.72575000000000001),\n",
       "              (0.65900000000000003, 0.71825000000000006)],\n",
       "             (0.7, 16): [(0.66900000000000004, 0.73799999999999999),\n",
       "              (0.66200000000000003, 0.72199999999999998),\n",
       "              (0.63800000000000001, 0.72875000000000001),\n",
       "              (0.66500000000000004, 0.72275),\n",
       "              (0.64500000000000002, 0.71299999999999997)],\n",
       "             (0.7, 32): [(0.67100000000000004, 0.74650000000000005),\n",
       "              (0.63500000000000001, 0.75149999999999995),\n",
       "              (0.64400000000000002, 0.74175000000000002),\n",
       "              (0.65600000000000003, 0.73675000000000002),\n",
       "              (0.65800000000000003, 0.73550000000000004)],\n",
       "             (0.7, 64): [(0.67000000000000004, 0.74924999999999997),\n",
       "              (0.63800000000000001, 0.74350000000000005),\n",
       "              (0.63800000000000001, 0.74924999999999997),\n",
       "              (0.66000000000000003, 0.74375000000000002),\n",
       "              (0.63900000000000001, 0.73050000000000004)],\n",
       "             (0.9, 1): [(0.59799999999999998, 0.62275000000000003),\n",
       "              (0.51500000000000001, 0.54425000000000001),\n",
       "              (0.53400000000000003, 0.56825000000000003),\n",
       "              (0.52400000000000002, 0.52475000000000005),\n",
       "              (0.58999999999999997, 0.63049999999999995)],\n",
       "             (0.9, 2): [(0.48399999999999999, 0.54500000000000004),\n",
       "              (0.503, 0.57799999999999996),\n",
       "              (0.51000000000000001, 0.54800000000000004),\n",
       "              (0.52000000000000002, 0.56825000000000003),\n",
       "              (0.53900000000000003, 0.58674999999999999)],\n",
       "             (0.9, 4): [(0.56399999999999995, 0.62775000000000003),\n",
       "              (0.55200000000000005, 0.60550000000000004),\n",
       "              (0.505, 0.54725000000000001),\n",
       "              (0.56399999999999995, 0.63175000000000003),\n",
       "              (0.56699999999999995, 0.63624999999999998)],\n",
       "             (0.9, 8): [(0.623, 0.67749999999999999),\n",
       "              (0.59999999999999998, 0.68000000000000005),\n",
       "              (0.52100000000000002, 0.59999999999999998),\n",
       "              (0.60499999999999998, 0.65425),\n",
       "              (0.53600000000000003, 0.54725000000000001)],\n",
       "             (0.9, 16): [(0.60999999999999999, 0.67400000000000004),\n",
       "              (0.53200000000000003, 0.55825000000000002),\n",
       "              (0.57799999999999996, 0.62450000000000006),\n",
       "              (0.55800000000000005, 0.60224999999999995),\n",
       "              (0.55600000000000005, 0.61599999999999999)],\n",
       "             (0.9, 32): [(0.59199999999999997, 0.67925000000000002),\n",
       "              (0.53000000000000003, 0.57074999999999998),\n",
       "              (0.52700000000000002, 0.55974999999999997),\n",
       "              (0.57899999999999996, 0.62275000000000003),\n",
       "              (0.56299999999999994, 0.60099999999999998)],\n",
       "             (0.9, 64): [(0.59799999999999998, 0.61050000000000004),\n",
       "              (0.55400000000000005, 0.61675000000000002),\n",
       "              (0.55600000000000005, 0.63900000000000001),\n",
       "              (0.53400000000000003, 0.55400000000000005),\n",
       "              (0.53600000000000003, 0.56599999999999995)],\n",
       "             (1.0, 1): [(0.54500000000000004, 0.51949999999999996),\n",
       "              (0.52000000000000002, 0.52575000000000005),\n",
       "              (0.51400000000000001, 0.52725),\n",
       "              (0.52400000000000002, 0.52475000000000005),\n",
       "              (0.52000000000000002, 0.52575000000000005)],\n",
       "             (1.0, 2): [(0.54500000000000004, 0.51949999999999996),\n",
       "              (0.52000000000000002, 0.52575000000000005),\n",
       "              (0.51400000000000001, 0.52725),\n",
       "              (0.52400000000000002, 0.52475000000000005),\n",
       "              (0.52000000000000002, 0.52575000000000005)],\n",
       "             (1.0, 4): [(0.54500000000000004, 0.51949999999999996),\n",
       "              (0.52000000000000002, 0.52575000000000005),\n",
       "              (0.51400000000000001, 0.52725),\n",
       "              (0.52400000000000002, 0.52475000000000005),\n",
       "              (0.52000000000000002, 0.52575000000000005)],\n",
       "             (1.0, 8): [(0.54500000000000004, 0.51949999999999996),\n",
       "              (0.52000000000000002, 0.52575000000000005),\n",
       "              (0.51400000000000001, 0.52725),\n",
       "              (0.52400000000000002, 0.52475000000000005),\n",
       "              (0.52000000000000002, 0.52575000000000005)],\n",
       "             (1.0, 16): [(0.54500000000000004, 0.51949999999999996),\n",
       "              (0.52000000000000002, 0.52575000000000005),\n",
       "              (0.51400000000000001, 0.52725),\n",
       "              (0.52400000000000002, 0.52475000000000005),\n",
       "              (0.52000000000000002, 0.52575000000000005)],\n",
       "             (1.0, 32): [(0.54500000000000004, 0.51949999999999996),\n",
       "              (0.52000000000000002, 0.52575000000000005),\n",
       "              (0.51400000000000001, 0.52725),\n",
       "              (0.52400000000000002, 0.52475000000000005),\n",
       "              (0.52000000000000002, 0.52575000000000005)],\n",
       "             (1.0, 64): [(0.54500000000000004, 0.51949999999999996),\n",
       "              (0.52000000000000002, 0.52575000000000005),\n",
       "              (0.51400000000000001, 0.52725),\n",
       "              (0.52400000000000002, 0.52475000000000005),\n",
       "              (0.52000000000000002, 0.52575000000000005)]})"
      ]
     },
     "execution_count": 34,
     "metadata": {},
     "output_type": "execute_result"
    }
   ],
   "source": [
    "# this takes a while to learn!\n",
    "kfold = KFold(n_splits=5)\n",
    "from collections import defaultdict\n",
    "results_allfolds = defaultdict(list)\n",
    "for train, valid in kfold.split(X_train):\n",
    "    for p in p_array:\n",
    "        for B in num_trees:\n",
    "            tt, tr = dropout_forest_cv(X_train.iloc[train], y_train.iloc[train], X_train.iloc[valid], y_train.iloc[valid], B, p, md_best)\n",
    "            results_allfolds[(p,B)].append((tt,tr))\n",
    "results_allfolds"
   ]
  },
  {
   "cell_type": "code",
   "execution_count": 35,
   "metadata": {},
   "outputs": [
    {
     "data": {
      "text/plain": [
       "{(0.0, 1): (0.65712499999999996, 0.65337500000000004),\n",
       " (0.0, 2): (0.65762500000000002, 0.65300000000000002),\n",
       " (0.0, 4): (0.65712499999999996, 0.65237499999999993),\n",
       " (0.0, 8): (0.65712499999999996, 0.65249999999999997),\n",
       " (0.0, 16): (0.65712499999999996, 0.65312499999999996),\n",
       " (0.0, 32): (0.65762500000000002, 0.65300000000000002),\n",
       " (0.0, 64): (0.65762500000000002, 0.65300000000000002),\n",
       " (0.1, 1): (0.64050000000000007, 0.64624999999999999),\n",
       " (0.1, 2): (0.65000000000000002, 0.65200000000000002),\n",
       " (0.1, 4): (0.65762500000000002, 0.67375000000000007),\n",
       " (0.1, 8): (0.65812500000000007, 0.65287499999999998),\n",
       " (0.1, 16): (0.65762500000000002, 0.65300000000000002),\n",
       " (0.1, 32): (0.65850000000000009, 0.65262500000000001),\n",
       " (0.1, 64): (0.65762500000000002, 0.65225),\n",
       " (0.3, 1): (0.66362500000000002, 0.65525),\n",
       " (0.3, 2): (0.65887499999999999, 0.64975000000000005),\n",
       " (0.3, 4): (0.66912499999999997, 0.65525),\n",
       " (0.3, 8): (0.67637499999999995, 0.66837499999999994),\n",
       " (0.3, 16): (0.67312499999999997, 0.68262500000000004),\n",
       " (0.3, 32): (0.68300000000000005, 0.67849999999999999),\n",
       " (0.3, 64): (0.68625000000000003, 0.67987500000000001),\n",
       " (0.5, 1): (0.64100000000000001, 0.64200000000000002),\n",
       " (0.5, 2): (0.60650000000000004, 0.65187499999999998),\n",
       " (0.5, 4): (0.65537500000000004, 0.65050000000000008),\n",
       " (0.5, 8): (0.69575000000000009, 0.67749999999999999),\n",
       " (0.5, 16): (0.69525000000000003, 0.68162499999999993),\n",
       " (0.5, 32): (0.68562500000000004, 0.68025000000000002),\n",
       " (0.5, 64): (0.70025000000000004, 0.69837499999999997),\n",
       " (0.7, 1): (0.61787499999999995, 0.57337499999999997),\n",
       " (0.7, 2): (0.59275, 0.65587499999999999),\n",
       " (0.7, 4): (0.66337500000000005, 0.64024999999999999),\n",
       " (0.7, 8): (0.67349999999999999, 0.6865),\n",
       " (0.7, 16): (0.70350000000000001, 0.69199999999999995),\n",
       " (0.7, 32): (0.70874999999999999, 0.69324999999999992),\n",
       " (0.7, 64): (0.70962499999999995, 0.69074999999999998),\n",
       " (0.9, 1): (0.610375, 0.52962500000000001),\n",
       " (0.9, 2): (0.51449999999999996, 0.54049999999999998),\n",
       " (0.9, 4): (0.59587499999999993, 0.5787500000000001),\n",
       " (0.9, 8): (0.65024999999999999, 0.64000000000000001),\n",
       " (0.9, 16): (0.64200000000000002, 0.54512500000000008),\n",
       " (0.9, 32): (0.635625, 0.55037500000000006),\n",
       " (0.9, 64): (0.60424999999999995, 0.58537499999999998),\n",
       " (1.0, 1): (0.53225, 0.52287499999999998),\n",
       " (1.0, 2): (0.53225, 0.52287499999999998),\n",
       " (1.0, 4): (0.53225, 0.52287499999999998),\n",
       " (1.0, 8): (0.53225, 0.52287499999999998),\n",
       " (1.0, 16): (0.53225, 0.52287499999999998),\n",
       " (1.0, 32): (0.53225, 0.52287499999999998),\n",
       " (1.0, 64): (0.53225, 0.52287499999999998)}"
      ]
     },
     "execution_count": 35,
     "metadata": {},
     "output_type": "execute_result"
    }
   ],
   "source": [
    "resu = {k: (np.mean(results_allfolds[k][0]), np.mean(results_allfolds[k][1])) for k in results_allfolds}\n",
    "resu"
   ]
  },
  {
   "cell_type": "code",
   "execution_count": 36,
   "metadata": {},
   "outputs": [
    {
     "name": "stdout",
     "output_type": "stream",
     "text": [
      "Test accuracy =  0.709625 , train accuracy =  0.69075\n",
      "Best dropout rate =  0.7 , Best number of trees =  64\n"
     ]
    }
   ],
   "source": [
    "resuget = lambda x: resu.get(x)[0] # function to retrive the first value of the \"value\" in key-value pair/dict\n",
    "# to retrieve the model with the best test accuracy score\n",
    "ourmodel = max(resu, key=resuget)\n",
    "\n",
    "test_accuracy = resu[ourmodel][0]\n",
    "train_accuracy = resu[ourmodel][1]\n",
    "\n",
    "(best_dropout, best_num_tree) =  ourmodel\n",
    "\n",
    "print (\"Test accuracy = \", test_accuracy, \", train accuracy = \", train_accuracy)\n",
    "print (\"Best dropout rate = \", best_dropout, \", Best number of trees = \", best_num_tree)"
   ]
  },
  {
   "cell_type": "markdown",
   "metadata": {},
   "source": [
    "### Answer 2.4 \n",
    "\n",
    "How does the test performance of an ensemble of trees fitted with the optimal dropout rate and number of trees compare with the single decision tree model in Question 1?\n",
    "[hint: Training with large number of trees can take long time. You may need to restrict the max number of trees.]"
   ]
  },
  {
   "cell_type": "code",
   "execution_count": 37,
   "metadata": {},
   "outputs": [
    {
     "name": "stdout",
     "output_type": "stream",
     "text": [
      "test accuracy, train accuracy\n"
     ]
    },
    {
     "data": {
      "text/plain": [
       "[0.67359999999999998, 0.73699999999999999]"
      ]
     },
     "execution_count": 37,
     "metadata": {},
     "output_type": "execute_result"
    }
   ],
   "source": [
    "# use the same function \n",
    "print (\"test accuracy, train accuracy\")\n",
    "dropout_forest_cv(X_train, y_train, X_test, y_test, best_num_tree, best_dropout, md_best)\n"
   ]
  },
  {
   "cell_type": "markdown",
   "metadata": {},
   "source": [
    "The test performance of an ensemble of trees fitted with the optimal dropout rate and number of trees is slightly better(0.68ish) than the test performance of single decision tree model in Question 1 (0.65ish). "
   ]
  },
  {
   "cell_type": "markdown",
   "metadata": {},
   "source": [
    "## Question 3 (15pt): Random Forests\n",
    "\n",
    "We now move to a more sophisticated ensemble technique, namely random forest:\n",
    "\n",
    "### Answer 3.1 \n",
    "\n",
    "How does a random forest approach differ from the dropout procedure described in Question 2? \n",
    "<break>\n",
    "<break>\n",
    "\n",
    "Random forest fits a number of decision tree classifiers on various sub-samples of the dataset. It can be limited to a certain number of features as we do here but is not always, as the dropout procedure above. Furthermore, the features are just ignored randomly in RF as opped to setting them to 0. We do not bag in the dropout procedure as we do in RF."
   ]
  },
  {
   "cell_type": "markdown",
   "metadata": {},
   "source": [
    "### Answer 3.2 \n",
    "\n",
    "Fit random forest models to the training set for different number of trees (say $2, 4, 8, 16, \\ldots, 256$), and evaluate the training and test accuracies of the models. You may set the number of predictors for each tree in the random forest model to $\\sqrt{p}$, where $p$ is the total number of predictors. "
   ]
  },
  {
   "cell_type": "code",
   "execution_count": 38,
   "metadata": {
    "collapsed": true
   },
   "outputs": [],
   "source": [
    "train_scores = []\n",
    "test_scores = []\n",
    "trees = [2**x for x in range(8)]  # 2, 4, 8, 16, 32, ... \n",
    "for n_trees in trees:\n",
    "    rf = RandomForestClassifier(n_estimators=n_trees, max_depth=md_best, max_features='auto')\n",
    "    test_scores.append(metrics.accuracy_score(y_test, rf.fit(X_train, y_train).predict(X_test)))\n",
    "    train_scores.append(metrics.accuracy_score(y_train, rf.fit(X_train, y_train).predict(X_train)))"
   ]
  },
  {
   "cell_type": "code",
   "execution_count": 40,
   "metadata": {},
   "outputs": [
    {
     "data": {
      "image/png": "[encoded data removed]",
      "text/plain": [
       "<matplotlib.figure.Figure at 0x11a5274e0>"
      ]
     },
     "metadata": {},
     "output_type": "display_data"
    }
   ],
   "source": [
    "plt.plot(trees, test_scores, '*-', label='test')\n",
    "plt.plot(trees, train_scores, '*-', label='train')\n",
    "plt.legend(loc='best')\n",
    "plt.xlabel('Number of trees')\n",
    "plt.ylabel('Accuracy')\n",
    "plt.ylim((0, 1.05))\n",
    "plt.show()\n"
   ]
  },
  {
   "cell_type": "markdown",
   "metadata": {},
   "source": [
    "### Answer 3.3 \n",
    "\n",
    "Based on your results, do you find that a larger number of trees necessarily improves the test accuracy of a random forest model? Explain how the number of trees effects the training and test accuracy of a random forest classifier, and how this relates to the bias-variance trade-off for the classifier. \n",
    "\n",
    "Test accuracy of a random forest model increases as the number of trees increases from 1 to 8-16. Then there is a plateau. The performance is slightly better than for dropout, indicating that there is some more accuracy via the bagging procedure and overfitting is less here as we see train and test give us about the same results. \n",
    "\n",
    "For a low number of trees, there is more variance, as we don't average enough. As we get to a higher number of trees, we start to average out the indiosyncracies of each decision tree. \n",
    "\n",
    "So a larger number of trees does not always help, and your best bet to conserve computational resources is to find the appropriate plateau."
   ]
  },
  {
   "cell_type": "markdown",
   "metadata": {},
   "source": [
    "### Answer 3.4 \n",
    "\n",
    "Fixing the number of trees to a reasonable value, apply 5-fold cross-validation to choose the optimal value for the  number of predictors. How does the test performance of random forest model fitted with the optimal number of trees compare with the dropout approach in Question 2?  \n",
    "\n",
    "(THE NEXT 2 CELLS TAKE SOME TIME TO RUN)"
   ]
  },
  {
   "cell_type": "code",
   "execution_count": 41,
   "metadata": {},
   "outputs": [
    {
     "name": "stdout",
     "output_type": "stream",
     "text": [
      "RandomForestClassifier(bootstrap=True, class_weight=None, criterion='gini',\n",
      "            max_depth=5, max_features=13, max_leaf_nodes=None,\n",
      "            min_impurity_split=1e-07, min_samples_leaf=1,\n",
      "            min_samples_split=2, min_weight_fraction_leaf=0.0,\n",
      "            n_estimators=32, n_jobs=1, oob_score=False, random_state=None,\n",
      "            verbose=0, warm_start=False)\n"
     ]
    },
    {
     "data": {
      "text/plain": [
       "0.69120000000000004"
      ]
     },
     "execution_count": 41,
     "metadata": {},
     "output_type": "execute_result"
    }
   ],
   "source": [
    "# approach 1 using grid search\n",
    "\n",
    "\n",
    "est = RandomForestClassifier(n_estimators=32, max_depth=md_best)\n",
    "param_grid = dict(\n",
    "    max_features = range(1, 29)\n",
    ")\n",
    "gs  = GridSearchCV(est, param_grid = param_grid, cv=5, n_jobs=-1)\n",
    "gs.fit(X_train, y_train)\n",
    "print(gs.best_estimator_)\n",
    "metrics.accuracy_score(gs.predict(X_test), y_test)"
   ]
  },
  {
   "cell_type": "code",
   "execution_count": 42,
   "metadata": {},
   "outputs": [
    {
     "name": "stdout",
     "output_type": "stream",
     "text": [
      "26 0.6694\n"
     ]
    },
    {
     "data": {
      "text/plain": [
       "0.68400000000000005"
      ]
     },
     "execution_count": 42,
     "metadata": {},
     "output_type": "execute_result"
    }
   ],
   "source": [
    "# approach 2 using oob (out of bag) in RF command\n",
    "results = {}\n",
    "estimators= {}\n",
    "for f in param_grid['max_features']:\n",
    "    est = RandomForestClassifier(oob_score=True, \n",
    "                                n_estimators=32, max_features=f, max_depth=md_best, n_jobs=-1)\n",
    "    est.fit(X_train, y_train)\n",
    "    results[f] = est.oob_score_\n",
    "    estimators[f] = est\n",
    "outparams = max(results, key = results.get)\n",
    "print(outparams, results[outparams])\n",
    "metrics.accuracy_score(estimators[outparams].predict(X_test), y_test)"
   ]
  },
  {
   "cell_type": "markdown",
   "metadata": {},
   "source": [
    "Performance is marginally better, at 0.69ish compared to 0.68ish from Q2."
   ]
  },
  {
   "cell_type": "markdown",
   "metadata": {},
   "source": [
    "## Question 4 (15pt): Boosting\n",
    "\n",
    "We next compare the random forest model with the approach of boosting:\n",
    "\n",
    "### Answer 4.1\n",
    "\n",
    "Apply the AdaBoost algorithm to fit an ensemble of decision trees. Set the learning rate to 0.05, and try out different tree depths for the base learners: 1, 2, 10, and unrestricted depth.  Make a plot of the training accuracy of the ensemble classifier as a function of tree depths. Make a similar plot of the test accuracies as a function of number of trees (say $2, 4, 8, 16, \\ldots, 256$).\n",
    "\n",
    "This question seems to be asking for two different plots, one on the training set and one on the test set, which does not help in comparison. We have opted to plot accuracy against number of trees( number of iterations), with different curves for different `max_depth`. This way we can see both trends\n",
    "\n",
    "This first set of cells is an inefficient but correct way to do this, you are retraining for each new `n_estimators` trees rather than just oiterating forward."
   ]
  },
  {
   "cell_type": "code",
   "execution_count": 41,
   "metadata": {
    "collapsed": true
   },
   "outputs": [],
   "source": [
    "accuracies_train = []\n",
    "accuracies_test = []\n",
    "trees = [2**x for x in range(9)]\n",
    "for md in [1,2,10,None]:\n",
    "    depth_accuracies_train = []\n",
    "    depth_accuracies_test = []\n",
    "    for n in trees:\n",
    "        ada=AdaBoostClassifier(base_estimator=DecisionTreeClassifier(max_depth=md),n_estimators=n, learning_rate=.05)\n",
    "        depth_accuracies_train.append(metrics.accuracy_score(y_train, ada.fit(X_train,y_train).predict(X_train)))\n",
    "        depth_accuracies_test.append(metrics.accuracy_score(y_test, ada.fit(X_train,y_train).predict(X_test)))\n",
    "    accuracies_train.append(depth_accuracies_train)\n",
    "    accuracies_test.append(depth_accuracies_test)"
   ]
  },
  {
   "cell_type": "code",
   "execution_count": 42,
   "metadata": {},
   "outputs": [
    {
     "data": {
      "image/png": "[encoded data removed]",
      "text/plain": [
       "<matplotlib.figure.Figure at 0x11084e8d0>"
      ]
     },
     "metadata": {},
     "output_type": "display_data"
    }
   ],
   "source": [
    "for i, md in enumerate([1,2,10,None]):\n",
    "    plt.semilogx(trees, accuracies_train[i], '*-', label='Max Depth {}'.format(md))\n",
    "plt.legend(loc='best')\n",
    "plt.xlabel(\"Number of trees\")\n",
    "plt.ylabel(\"Training accuracy\")\n",
    "plt.ylim((0.5, 1.05))\n",
    "plt.show()"
   ]
  },
  {
   "cell_type": "code",
   "execution_count": 43,
   "metadata": {},
   "outputs": [
    {
     "data": {
      "image/png": "[encoded data removed]",
      "text/plain": [
       "<matplotlib.figure.Figure at 0x120e934a8>"
      ]
     },
     "metadata": {},
     "output_type": "display_data"
    }
   ],
   "source": [
    "for i, md in enumerate([1,2,10,None]):\n",
    "    plt.semilogx(trees, accuracies_test[i], '*-', label='Max Depth {}'.format(md))\n",
    "plt.legend(loc='best')\n",
    "plt.xlabel(\"Number of trees\")\n",
    "plt.ylabel(\"Test accuracy\")\n",
    "#plt.ylim((0.5, 1.05))\n",
    "plt.show()"
   ]
  },
  {
   "cell_type": "markdown",
   "metadata": {},
   "source": [
    "The above method is also a little bit misleading. It makes you think that on the training set, the bossting algorithm continutes after a perfect fit is reached in the unrestricted-depth (`None`) case. This is not true. Boosting will terminate after a perfect fit is reached. (see the sklearn `adaboost` docs). Thus the test error you see fluctuating around 0.6 comes from randomness in the 1-iteration training for an unrestricted depth tree, each time you do it."
   ]
  },
  {
   "cell_type": "markdown",
   "metadata": {},
   "source": [
    "Here is a more efficient way of doing this, and furthermore does not require you to only sample the number of trees as powers of 2."
   ]
  },
  {
   "cell_type": "code",
   "execution_count": 44,
   "metadata": {
    "collapsed": true
   },
   "outputs": [],
   "source": [
    "accuracies_train = []\n",
    "accuracies_test = []\n",
    "for md in [1,2,10,None]:\n",
    "    depth_accuracies_train = []\n",
    "    depth_accuracies_test = []\n",
    "    ada=AdaBoostClassifier(base_estimator=DecisionTreeClassifier(max_depth=md),n_estimators=trees[-1], learning_rate=.05)\n",
    "    ada.fit(X_train,y_train)\n",
    "    ada_train_gen = ada.staged_predict(X_train)\n",
    "    ada_test_gen = ada.staged_predict(X_test)\n",
    "    for train_stagepred in ada_train_gen:    \n",
    "        depth_accuracies_train.append(metrics.accuracy_score(y_train, train_stagepred))\n",
    "    for test_stagepred in ada_test_gen:   \n",
    "        depth_accuracies_test.append(metrics.accuracy_score(y_test, test_stagepred))\n",
    "    accuracies_train.append(depth_accuracies_train)\n",
    "    accuracies_test.append(depth_accuracies_test)"
   ]
  },
  {
   "cell_type": "markdown",
   "metadata": {},
   "source": [
    "The flip side is that you dont have multiple \"points\" on the graph for the unrestricted depth case, but rather, just one point for both the training and the test graph."
   ]
  },
  {
   "cell_type": "code",
   "execution_count": 45,
   "metadata": {},
   "outputs": [
    {
     "data": {
      "text/plain": [
       "<matplotlib.legend.Legend at 0x11ce925c0>"
      ]
     },
     "execution_count": 45,
     "metadata": {},
     "output_type": "execute_result"
    },
    {
     "data": {
      "image/png": "[encoded data removed]",
      "text/plain": [
       "<matplotlib.figure.Figure at 0x11ce925f8>"
      ]
     },
     "metadata": {},
     "output_type": "display_data"
    }
   ],
   "source": [
    "for i, md in enumerate([1,2,10]):\n",
    "    plt.semilogx(range(1, trees[-1]+1), accuracies_train[i], label='Max Depth {}'.format(md))\n",
    "plt.scatter([1], accuracies_train[-1], label=\"max_depth unrestricted\")\n",
    "plt.legend(loc='best')"
   ]
  },
  {
   "cell_type": "code",
   "execution_count": 46,
   "metadata": {},
   "outputs": [
    {
     "data": {
      "image/png": "[encoded data removed]",
      "text/plain": [
       "<matplotlib.figure.Figure at 0x12046c390>"
      ]
     },
     "metadata": {},
     "output_type": "display_data"
    }
   ],
   "source": [
    "for i, md in enumerate([1,2,10]):\n",
    "    plt.semilogx(range(1, trees[-1]+1), accuracies_test[i], label='Max Depth {}'.format(md))\n",
    "plt.scatter([1], accuracies_test[-1], label=\"max_depth unrestricted\")\n",
    "plt.legend(loc='best')\n",
    "plt.show()"
   ]
  },
  {
   "cell_type": "markdown",
   "metadata": {},
   "source": [
    "### Answer 4.2 \n",
    "\n",
    "How does the number of trees influence the training and test performance? Compare and contrast between the trends you see in the training and test performance of AdaBoost and that of the random forest models in Question 3. Give an explanation for your observations.\n",
    "\n",
    "\n",
    "**Number of trees**\n",
    "- Training performance: As number of trees increases, training accuracy increases for both boosting and RF. For RF, accuracy always reaches a plateau, but there does not seem to always be an upper bound for boosting. However, the more trees (iterations) you run, the more residuals you are fitting, and thus you are likely to be overfitting the noise particulars of your sample\n",
    "- Testing performance: As number of trees increases, testing accuracy increases for RF, until it reaches a plateau. In boosting, the number of trees become important. At higher `max_depths`, where you are likely to overfit, it is quite likely that you will see performance plateau or even fall as you increase the number of iterations. (For stumps there is probably still some fitting to do even for a large number of iterations)."
   ]
  },
  {
   "cell_type": "markdown",
   "metadata": {},
   "source": [
    "### Answer 4.3 \n",
    "\n",
    "How does the tree depth of the base learner impact the training and test performance? Recall that with random forests, we allow the depth of the individual trees to be unrestricted. Would you recommend the same strategy for boosting? Explain your answer.\n",
    "\n",
    "We would not recommend the same strategy for boosting. As we see in the purple curve above for train and test sets, overfitting is evident when the depth of individual trees is unrestricted. (You can even do boosting reasonably well with stumps (depth-1 trees), although you need some depth  if you want to model interactions. \n"
   ]
  },
  {
   "cell_type": "markdown",
   "metadata": {},
   "source": [
    "### Answer 4.4 \n",
    "\n",
    "Apply 5-fold cross-validation to choose the optimal number of trees $B$ for the ensemble and the optimal tree depth for the base learners. How does an ensemble classifier fitted with the optimal number of trees and the optimal tree depth compare with the random forest model fitted in Question 3.4? \n",
    "\n",
    "Here we have done something other than a CV on both params: we've CV'ed the base depth and used the `staged_predict` to see what happens as we increase the number of trees. In as much as adding more trees to gradient boosting (here adaboost) is like deciding how many iterations to go for in a gradient descent, the idea behind finding the \"correct number\" of trees is finding when to stop.\n",
    "\n",
    "So what happens here is that we make 300 iterations (trees) and compare the scores after 300 iterations across different `max_depth`s. Then we'll look at the graph of performance against iterations and decide when to stop. Thus the result we will get is not identical to cross-validation, but will give a good idea of which classifier has not overfit by iteration 300, and the best `max_depth` for it."
   ]
  },
  {
   "cell_type": "code",
   "execution_count": 49,
   "metadata": {},
   "outputs": [
    {
     "data": {
      "text/plain": [
       "AdaBoostClassifier(algorithm='SAMME.R',\n",
       "          base_estimator=DecisionTreeClassifier(class_weight=None, criterion='gini', max_depth=2,\n",
       "            max_features=None, max_leaf_nodes=None,\n",
       "            min_impurity_split=1e-07, min_samples_leaf=1,\n",
       "            min_samples_split=2, min_weight_fraction_leaf=0.0,\n",
       "            presort=False, random_state=None, splitter='best'),\n",
       "          learning_rate=0.05, n_estimators=300, random_state=None)"
      ]
     },
     "execution_count": 49,
     "metadata": {},
     "output_type": "execute_result"
    }
   ],
   "source": [
    "param_grid_boost = {\n",
    "              'base_estimator__max_depth': list(range(1,11))\n",
    "}\n",
    "gb = AdaBoostClassifier(base_estimator=DecisionTreeClassifier(), n_estimators=300, learning_rate=.05)\n",
    "gb_cv = GridSearchCV(gb, param_grid_boost, cv=5, n_jobs=-1)\n",
    "\n",
    "gb_cv.fit(X_train, y_train)\n",
    "\n",
    "begb = gb_cv.best_estimator_\n",
    "begb"
   ]
  },
  {
   "cell_type": "code",
   "execution_count": 50,
   "metadata": {},
   "outputs": [
    {
     "data": {
      "text/plain": [
       "[<matplotlib.lines.Line2D at 0x1205f4f60>]"
      ]
     },
     "execution_count": 50,
     "metadata": {},
     "output_type": "execute_result"
    },
    {
     "data": {
      "image/png": "[encoded data removed]",
      "text/plain": [
       "<matplotlib.figure.Figure at 0x11d354dd8>"
      ]
     },
     "metadata": {},
     "output_type": "display_data"
    }
   ],
   "source": [
    "test_scores=[]\n",
    "for spred in begb.staged_predict(X_test):\n",
    "    test_scores.append(metrics.accuracy_score(spred, y_test))\n",
    "plt.plot(range(1, 301), test_scores)"
   ]
  },
  {
   "cell_type": "code",
   "execution_count": 51,
   "metadata": {},
   "outputs": [
    {
     "name": "stdout",
     "output_type": "stream",
     "text": [
      "Optimal # trees =  297\n",
      "Optimal depth =  2\n"
     ]
    }
   ],
   "source": [
    "print (\"Optimal # trees = \", range(1, 301)[np.argmax(test_scores)])\n",
    "print (\"Optimal depth = \", 2) # from begb printout above"
   ]
  },
  {
   "cell_type": "code",
   "execution_count": 52,
   "metadata": {},
   "outputs": [
    {
     "data": {
      "text/plain": [
       "0.6976"
      ]
     },
     "execution_count": 52,
     "metadata": {},
     "output_type": "execute_result"
    }
   ],
   "source": [
    "gb_optimized = AdaBoostClassifier(base_estimator=DecisionTreeClassifier(max_depth=2 ), n_estimators=297, learning_rate=.05)\n",
    "\n",
    "gb_optimized.fit(X_train, y_train).score(X_test, y_test)\n"
   ]
  },
  {
   "cell_type": "markdown",
   "metadata": {},
   "source": [
    "Performance is marginally better, at 0.70ish compared to 0.69ish from Q3.4"
   ]
  },
  {
   "cell_type": "markdown",
   "metadata": {},
   "source": [
    "We could of-course do the much more computationally expensive complete cross-validation. Notice here for 256 trees for example, we are refitting the entire model, even though we had gone up to 200 iterations before\n",
    "!"
   ]
  },
  {
   "cell_type": "code",
   "execution_count": 53,
   "metadata": {},
   "outputs": [
    {
     "data": {
      "text/plain": [
       "AdaBoostClassifier(algorithm='SAMME.R',\n",
       "          base_estimator=DecisionTreeClassifier(class_weight=None, criterion='gini', max_depth=2,\n",
       "            max_features=None, max_leaf_nodes=None,\n",
       "            min_impurity_split=1e-07, min_samples_leaf=1,\n",
       "            min_samples_split=2, min_weight_fraction_leaf=0.0,\n",
       "            presort=False, random_state=None, splitter='best'),\n",
       "          learning_rate=0.05, n_estimators=256, random_state=None)"
      ]
     },
     "execution_count": 53,
     "metadata": {},
     "output_type": "execute_result"
    }
   ],
   "source": [
    "param_grid_boost2 = {\n",
    "              'base_estimator__max_depth': list(range(1,11)),\n",
    "              'n_estimators': [64, 100, 128, 200, 256, 300]\n",
    "}\n",
    "gb2 = AdaBoostClassifier(base_estimator=DecisionTreeClassifier(), n_estimators=300, learning_rate=.05)\n",
    "gb_cv2 = GridSearchCV(gb2, param_grid_boost2, cv=5, n_jobs=-1)\n",
    "\n",
    "gb_cv2.fit(X_train, y_train)\n",
    "\n",
    "begb2 = gb_cv2.best_estimator_\n",
    "begb2"
   ]
  },
  {
   "cell_type": "code",
   "execution_count": 60,
   "metadata": {},
   "outputs": [
    {
     "data": {
      "text/plain": [
       "0.69540000000000002"
      ]
     },
     "execution_count": 60,
     "metadata": {},
     "output_type": "execute_result"
    }
   ],
   "source": [
    "begb2.fit(X_train, y_train).score(X_test, y_test)"
   ]
  },
  {
   "cell_type": "markdown",
   "metadata": {},
   "source": [
    "The results are quite comparable! But this fit took me 30 minutes, as opposed to < 10 mins for the previous one!"
   ]
  },
  {
   "cell_type": "markdown",
   "metadata": {},
   "source": [
    "## Question 5 (3pt): Meta-classifier\n",
    "\n",
    "We have so far explored techniques that grow a collection of trees either by creating multiple copies of the original training set, or through a sequential procedure, and then combines these trees into a single classifier. Consider an alternate scenario where you are provided with a pre-trained collection of trees, say from different participants of a data science competition for Higgs boson discovery. What would be a good strategy to combine these pre-fitted trees into a single powerful classifier? Of course, a simple approach would be to take the majority vote from the individual trees. Can we do better than this simple combination strategy?\n",
    "\n",
    "A collection of 100 decision tree classifiers is provided in the file `models.npy` and can be loaded into an array by executing:\n",
    "\n",
    "`models = np.load('models.npy')`\n",
    "\n",
    "You can make predictions using the $i^\\text{th}$ model on an array of predictors `x` by executing:\n",
    "\n",
    "`model[i].predict(x)`  &nbsp;&nbsp;&nbsp;\n",
    "or &nbsp;&nbsp;&nbsp;\n",
    "`model[i].predict_proba(x)`\n",
    "\n",
    "and score the model on predictors `x` and labels `y` by using:\n",
    "\n",
    "`model[i].score(x, y)`.\n",
    "\n",
    "### Answer 5.1\n",
    "\n",
    "Implement a strategy to combine the provided decision tree classifiers, and compare the test perfomance of your approach with the majority vote classifier. Explain your strategy/algorithm.\n",
    "\n"
   ]
  },
  {
   "cell_type": "code",
   "execution_count": 54,
   "metadata": {
    "collapsed": true
   },
   "outputs": [],
   "source": [
    "#import warnings\n",
    "#warnings.filterwarnings(\"ignore\")\n",
    "models = np.load('models.npy', encoding = 'latin1')"
   ]
  },
  {
   "cell_type": "code",
   "execution_count": 55,
   "metadata": {},
   "outputs": [
    {
     "name": "stdout",
     "output_type": "stream",
     "text": [
      "Test Majority:  0.6646\n",
      "Train Majority:  0.6578\n"
     ]
    }
   ],
   "source": [
    "# majority classifier based on the 10 fitted models provided\n",
    "predictions_train = np.zeros((X_train.shape[0], 100))\n",
    "predictions_test = np.zeros((X_test.shape[0], 100))\n",
    "\n",
    "# store the score for each model for future reference\n",
    "score = []\n",
    "for i in range(100):\n",
    "    predictions_train[:,i] = models[i].predict(X_train)\n",
    "    predictions_test[:,i] = models[i].predict(X_test)\n",
    "    score.append(models[i].score(X_test, y_test))\n",
    "    \n",
    "print(\"Test Majority: \", metrics.accuracy_score(y_test, (np.mean(predictions_test,axis=1)>.5).astype(float)))\n",
    "print(\"Train Majority: \", metrics.accuracy_score(y_train,(np.mean(predictions_train,axis=1)>.5).astype(float)))"
   ]
  },
  {
   "cell_type": "code",
   "execution_count": 56,
   "metadata": {},
   "outputs": [
    {
     "name": "stdout",
     "output_type": "stream",
     "text": [
      "average =  0.593988 , max =  0.6264\n"
     ]
    },
    {
     "data": {
      "text/plain": [
       "[0.495,\n",
       " 0.60199999999999998,\n",
       " 0.60860000000000003,\n",
       " 0.61260000000000003,\n",
       " 0.5272,\n",
       " 0.59240000000000004,\n",
       " 0.60099999999999998,\n",
       " 0.61739999999999995,\n",
       " 0.60219999999999996,\n",
       " 0.5948]"
      ]
     },
     "execution_count": 56,
     "metadata": {},
     "output_type": "execute_result"
    }
   ],
   "source": [
    "# score of the first 10 models\n",
    "print (\"average = \", np.mean(score),\", max = \", np.max(score))\n",
    "score[:10]\n"
   ]
  },
  {
   "cell_type": "markdown",
   "metadata": {},
   "source": [
    "Each of the models has a mediocre accuracy rate. We would have to increase the importance of the model with high accuracy, and reduce the importance of the models with lower accuracy. To do this in Python, one may use the predicted values as the predictors in a Logistic Regression model, and the corresponding y as the response. Logistic Regression is able to take the \"importance\" of each model into account: the \"predictors\" or models that do well most of the time will have the more significant coefficients."
   ]
  },
  {
   "cell_type": "code",
   "execution_count": 57,
   "metadata": {},
   "outputs": [
    {
     "name": "stdout",
     "output_type": "stream",
     "text": [
      "Test LogReg:  0.6896\n",
      "Train LogReg:  0.6976\n"
     ]
    }
   ],
   "source": [
    "logreg = LogisticRegressionCV()\n",
    "y_hat = logreg.fit(predictions_train, y_train).predict(predictions_test)\n",
    "y_hat_train = logreg.fit(predictions_train, y_train).predict(predictions_train)\n",
    "\n",
    "print(\"Test LogReg: \", metrics.accuracy_score(y_test, y_hat))\n",
    "print(\"Train LogReg: \", metrics.accuracy_score(y_train, y_hat_train))"
   ]
  },
  {
   "cell_type": "markdown",
   "metadata": {},
   "source": [
    "The test score of 0.69 is higher than what we have from the majority vote classifier from Q2 at 0.679"
   ]
  },
  {
   "cell_type": "markdown",
   "metadata": {},
   "source": [
    "--- \n",
    "\n",
    "---\n",
    "\n",
    "## APCOMP209a - Homework Question\n",
    "​\n",
    "We've worked with imputation methods on missing data in Homework 6.  We've worked with Decision Trees in HW7 and here.  Now let's see what happens if we try to work with Decision Trees and Missing Data at the same time! We'll be working with a dataset from the UCI Machine Learning Repository that uses a variety of wine chemical predictors to classify wines grown in the same region in Italy.  Each line represents 13 (mostly chemical) predictors of the response variable wine class, including things like alcohol content, hue , and phenols.  Unfortunately some of the predictor values were lost in measurement. Please load `wine_quality_missing.csv`. \n",
    "​\n",
    "*Note*: As in HW6 be careful of reading/treating column names and row names in this data set.\n",
    "​\n",
    "​\n",
    "1. Remove all observations that contain and missing values, split the dataset into a 75-25 train-test split, and fit the sklearn DecisionTreeClassifier and RandomForestClassifier.   Use cross-validation to find the optimal tree depth for each method.  Report the optimal tree-depth, overall classification rate and confusion matrix on the test set for each method.\n",
    "2. Restart with a fresh copy of the data and impute the missing data via mean imputation.  Split the data 75-25 and again fit DecisionTreeClassifier and RandomForestClassifier using cross-validation to find the optimal tree depth.  Report the optimal tree depth, overall classification rate and confusion matrix on the test set for each method.  \n",
    "3. Again restart with a fresh copy of the data but this time let's try something different.  As discussed in section, CART Decision Trees can take advantage of surrogate splits to handle missing data.  Split the data 75-25 and construct a **custom** decision tree model and train it on the training set with missing data. Report the optimal tree depth, overall classification rate and confusion matrix on the test set and compare your results to the Imputation and DecisionTree model results in part 1 & 2.\n"
   ]
  },
  {
   "cell_type": "code",
   "execution_count": 130,
   "metadata": {
    "collapsed": true
   },
   "outputs": [],
   "source": [
    "from pandas import read_csv\n",
    "data = read_csv(\"wine_quality_missing.csv\")"
   ]
  },
  {
   "cell_type": "code",
   "execution_count": 131,
   "metadata": {},
   "outputs": [
    {
     "data": {
      "text/html": [
       "<div>\n",
       "<style>\n",
       "    .dataframe thead tr:only-child th {\n",
       "        text-align: right;\n",
       "    }\n",
       "\n",
       "    .dataframe thead th {\n",
       "        text-align: left;\n",
       "    }\n",
       "\n",
       "    .dataframe tbody tr th {\n",
       "        vertical-align: top;\n",
       "    }\n",
       "</style>\n",
       "<table border=\"1\" class=\"dataframe\">\n",
       "  <thead>\n",
       "    <tr style=\"text-align: right;\">\n",
       "      <th></th>\n",
       "      <th>Alcohol</th>\n",
       "      <th>Malic acid</th>\n",
       "      <th>Ash</th>\n",
       "      <th>Alcalinity of ash</th>\n",
       "      <th>Magnesium</th>\n",
       "      <th>Total phenols</th>\n",
       "      <th>Flavanoids</th>\n",
       "      <th>Nonflavanoid phenols</th>\n",
       "      <th>Proanthocyanins</th>\n",
       "      <th>Color intensity</th>\n",
       "      <th>Hue</th>\n",
       "      <th>OD280/OD315 of diluted wines</th>\n",
       "      <th>Proline</th>\n",
       "      <th>Class</th>\n",
       "    </tr>\n",
       "  </thead>\n",
       "  <tbody>\n",
       "    <tr>\n",
       "      <th>0</th>\n",
       "      <td>14.23</td>\n",
       "      <td>1.71</td>\n",
       "      <td>2.43</td>\n",
       "      <td>15.6</td>\n",
       "      <td>127.0</td>\n",
       "      <td>2.80</td>\n",
       "      <td>3.06</td>\n",
       "      <td>0.28</td>\n",
       "      <td>2.29</td>\n",
       "      <td>5.64</td>\n",
       "      <td>1.04</td>\n",
       "      <td>3.92</td>\n",
       "      <td>1065.0</td>\n",
       "      <td>1</td>\n",
       "    </tr>\n",
       "    <tr>\n",
       "      <th>1</th>\n",
       "      <td>13.20</td>\n",
       "      <td>1.78</td>\n",
       "      <td>2.14</td>\n",
       "      <td>NaN</td>\n",
       "      <td>100.0</td>\n",
       "      <td>2.65</td>\n",
       "      <td>2.76</td>\n",
       "      <td>0.26</td>\n",
       "      <td>1.28</td>\n",
       "      <td>4.38</td>\n",
       "      <td>1.05</td>\n",
       "      <td>3.40</td>\n",
       "      <td>1050.0</td>\n",
       "      <td>1</td>\n",
       "    </tr>\n",
       "    <tr>\n",
       "      <th>2</th>\n",
       "      <td>13.16</td>\n",
       "      <td>2.36</td>\n",
       "      <td>2.67</td>\n",
       "      <td>18.6</td>\n",
       "      <td>101.0</td>\n",
       "      <td>2.80</td>\n",
       "      <td>3.24</td>\n",
       "      <td>0.30</td>\n",
       "      <td>2.81</td>\n",
       "      <td>5.68</td>\n",
       "      <td>1.03</td>\n",
       "      <td>3.17</td>\n",
       "      <td>1185.0</td>\n",
       "      <td>1</td>\n",
       "    </tr>\n",
       "    <tr>\n",
       "      <th>3</th>\n",
       "      <td>14.37</td>\n",
       "      <td>1.95</td>\n",
       "      <td>2.50</td>\n",
       "      <td>NaN</td>\n",
       "      <td>113.0</td>\n",
       "      <td>3.85</td>\n",
       "      <td>3.49</td>\n",
       "      <td>0.24</td>\n",
       "      <td>2.18</td>\n",
       "      <td>7.80</td>\n",
       "      <td>0.86</td>\n",
       "      <td>3.45</td>\n",
       "      <td>1480.0</td>\n",
       "      <td>1</td>\n",
       "    </tr>\n",
       "    <tr>\n",
       "      <th>4</th>\n",
       "      <td>13.24</td>\n",
       "      <td>2.59</td>\n",
       "      <td>2.87</td>\n",
       "      <td>21.0</td>\n",
       "      <td>118.0</td>\n",
       "      <td>2.80</td>\n",
       "      <td>2.69</td>\n",
       "      <td>0.39</td>\n",
       "      <td>NaN</td>\n",
       "      <td>4.32</td>\n",
       "      <td>1.04</td>\n",
       "      <td>2.93</td>\n",
       "      <td>735.0</td>\n",
       "      <td>1</td>\n",
       "    </tr>\n",
       "  </tbody>\n",
       "</table>\n",
       "</div>"
      ],
      "text/plain": [
       "   Alcohol  Malic acid   Ash  Alcalinity of ash  Magnesium  Total phenols  Flavanoids  Nonflavanoid phenols  Proanthocyanins  Color intensity   Hue  OD280/OD315 of diluted wines  Proline  Class\n",
       "0    14.23        1.71  2.43               15.6      127.0           2.80        3.06                  0.28             2.29             5.64  1.04                          3.92   1065.0      1\n",
       "1    13.20        1.78  2.14                NaN      100.0           2.65        2.76                  0.26             1.28             4.38  1.05                          3.40   1050.0      1\n",
       "2    13.16        2.36  2.67               18.6      101.0           2.80        3.24                  0.30             2.81             5.68  1.03                          3.17   1185.0      1\n",
       "3    14.37        1.95  2.50                NaN      113.0           3.85        3.49                  0.24             2.18             7.80  0.86                          3.45   1480.0      1\n",
       "4    13.24        2.59  2.87               21.0      118.0           2.80        2.69                  0.39              NaN             4.32  1.04                          2.93    735.0      1"
      ]
     },
     "execution_count": 131,
     "metadata": {},
     "output_type": "execute_result"
    }
   ],
   "source": [
    "data.head()"
   ]
  },
  {
   "cell_type": "code",
   "execution_count": 132,
   "metadata": {
    "collapsed": true
   },
   "outputs": [],
   "source": [
    "data_missing_drop = data.copy()\n",
    "data_missing_mean = data.copy()\n",
    "data_missing_dt = data.copy()"
   ]
  },
  {
   "cell_type": "markdown",
   "metadata": {},
   "source": [
    "**1. Remove all observations that contain and missing values, split the dataset into a 75-25 train-test split, and fit the sklearn DecisionTreeClassifier and RandomForestClassifier.   Use cross-validation to find the optimal tree depth for each method.  Report the optimal tree-depth, overall classification rate and confusion matrix on the test set for each method.**"
   ]
  },
  {
   "cell_type": "code",
   "execution_count": 133,
   "metadata": {
    "collapsed": true
   },
   "outputs": [],
   "source": [
    "## Drop missing values\n",
    "data_missing_drop.dropna(inplace=True)\n",
    "\n",
    "np.random.seed(9001)\n",
    "msk = np.random.rand(len(data_missing_drop)) < 0.75\n",
    "data_missing_drop_train = data_missing_drop[msk]\n",
    "data_missing_drop_test = data_missing_drop[~msk]\n",
    "\n",
    "X_drop_train = data_missing_drop_train.iloc[:, :-1]\n",
    "y_drop_train =data_missing_drop_train.iloc[:, -1]\n",
    "X_drop_test = data_missing_drop_test.iloc[:, :-1]\n",
    "y_drop_test =data_missing_drop_test.iloc[:, -1]"
   ]
  },
  {
   "cell_type": "code",
   "execution_count": 134,
   "metadata": {},
   "outputs": [
    {
     "name": "stdout",
     "output_type": "stream",
     "text": [
      "43\n"
     ]
    }
   ],
   "source": [
    "print(len(data_missing_drop))"
   ]
  },
  {
   "cell_type": "markdown",
   "metadata": {},
   "source": [
    "#### Decision Tree"
   ]
  },
  {
   "cell_type": "code",
   "execution_count": 135,
   "metadata": {
    "collapsed": true
   },
   "outputs": [],
   "source": [
    "# 5-fold cross validation on decision tree\n",
    "dt_train_scores = []\n",
    "depths = list(range(2,11))\n",
    "for depth in depths:\n",
    "    clf = DecisionTreeClassifier(max_depth = depth)  \n",
    "    score = cross_val_score(estimator=clf, X=X_drop_train, y=y_drop_train, cv=5)\n",
    "    dt_train_scores.append(np.mean(score))"
   ]
  },
  {
   "cell_type": "code",
   "execution_count": 136,
   "metadata": {},
   "outputs": [
    {
     "data": {
      "text/plain": [
       "[0.72285714285714275,\n",
       " 0.76285714285714279,\n",
       " 0.81999999999999995,\n",
       " 0.72285714285714275,\n",
       " 0.76285714285714279,\n",
       " 0.73428571428571432,\n",
       " 0.73428571428571432,\n",
       " 0.72285714285714275,\n",
       " 0.75142857142857145]"
      ]
     },
     "execution_count": 136,
     "metadata": {},
     "output_type": "execute_result"
    }
   ],
   "source": [
    "dt_train_scores"
   ]
  },
  {
   "cell_type": "code",
   "execution_count": 137,
   "metadata": {},
   "outputs": [
    {
     "data": {
      "text/plain": [
       "<matplotlib.text.Text at 0x107c7fda0>"
      ]
     },
     "execution_count": 137,
     "metadata": {},
     "output_type": "execute_result"
    },
    {
     "data": {
      "image/png": "[encoded data removed]",
      "text/plain": [
       "<matplotlib.figure.Figure at 0x118cdf5f8>"
      ]
     },
     "metadata": {},
     "output_type": "display_data"
    }
   ],
   "source": [
    "plt.figure(figsize=(10, 9))\n",
    "plt.plot(depths, dt_train_scores)\n",
    "\n",
    "plt.ylim(0.6,.9)\n",
    "\n",
    "plt.title('CV Drop Imputation Decision Tree Depth')\n",
    "plt.xlabel('Depth')\n",
    "plt.ylabel('Accuracy')"
   ]
  },
  {
   "cell_type": "markdown",
   "metadata": {},
   "source": [
    "**From CV, it looks like best choice for Decision Tree depth is 4 **"
   ]
  },
  {
   "cell_type": "code",
   "execution_count": 138,
   "metadata": {},
   "outputs": [
    {
     "name": "stdout",
     "output_type": "stream",
     "text": [
      "Optimal Decision Tree Depth: 4\n",
      "Train score: 1.0\n",
      "Test score: 1.0\n"
     ]
    }
   ],
   "source": [
    "clf = DecisionTreeClassifier(max_depth=4)\n",
    "clf.fit(data_missing_drop_train.iloc[:,:-1], data_missing_drop_train.iloc[:,-1])\n",
    "print('Optimal Decision Tree Depth: 4')\n",
    "print ('Train score:', clf.score(X_drop_train, y_drop_train))\n",
    "print ('Test score:', clf.score(X_drop_test, y_drop_test))"
   ]
  },
  {
   "cell_type": "code",
   "execution_count": 141,
   "metadata": {},
   "outputs": [
    {
     "name": "stdout",
     "output_type": "stream",
     "text": [
      "Confusion Matrix Train:\n",
      "[[11  0  0]\n",
      " [ 0  9  0]\n",
      " [ 0  0  6]]\n",
      "Confusion Matrix Test:\n",
      "[[6 0 0]\n",
      " [0 8 0]\n",
      " [0 0 3]]\n"
     ]
    }
   ],
   "source": [
    "yhat_drop_train = clf.predict(X_drop_train)\n",
    "print(\"Confusion Matrix Train:\")\n",
    "print(confusion_matrix(yhat_drop_train, y_drop_train))\n",
    "print(\"Confusion Matrix Test:\")\n",
    "yhat_drop_test = clf.predict(X_drop_test)\n",
    "print(confusion_matrix(yhat_drop_test, y_drop_test))"
   ]
  },
  {
   "cell_type": "markdown",
   "metadata": {},
   "source": [
    "#### Random Forest"
   ]
  },
  {
   "cell_type": "code",
   "execution_count": 142,
   "metadata": {
    "collapsed": true
   },
   "outputs": [],
   "source": [
    "# 5-fold cross validation on Random Forest\n",
    "rf_train_scores = []\n",
    "depths = list(range(2,11))\n",
    "for depth in depths:\n",
    "    clf = RandomForestClassifier(max_depth = depth)  \n",
    "    score = cross_val_score(estimator=clf, X=X_drop_train, y=y_drop_train, cv=5)\n",
    "    rf_train_scores.append(np.mean(score))"
   ]
  },
  {
   "cell_type": "code",
   "execution_count": 143,
   "metadata": {},
   "outputs": [
    {
     "data": {
      "text/plain": [
       "[0.9028571428571428,\n",
       " 0.79428571428571426,\n",
       " 0.80000000000000004,\n",
       " 0.78285714285714281,\n",
       " 0.82285714285714273,\n",
       " 0.82285714285714273,\n",
       " 0.79428571428571426,\n",
       " 0.89142857142857146,\n",
       " 0.9028571428571428]"
      ]
     },
     "execution_count": 143,
     "metadata": {},
     "output_type": "execute_result"
    }
   ],
   "source": [
    "rf_train_scores"
   ]
  },
  {
   "cell_type": "code",
   "execution_count": 144,
   "metadata": {},
   "outputs": [
    {
     "data": {
      "text/plain": [
       "<matplotlib.text.Text at 0x11908be10>"
      ]
     },
     "execution_count": 144,
     "metadata": {},
     "output_type": "execute_result"
    },
    {
     "data": {
      "image/png": "[encoded data removed]",
      "text/plain": [
       "<matplotlib.figure.Figure at 0x11900b6d8>"
      ]
     },
     "metadata": {},
     "output_type": "display_data"
    }
   ],
   "source": [
    "plt.figure(figsize=(10, 9))\n",
    "plt.plot(depths, rf_train_scores)\n",
    "\n",
    "plt.ylim(0.6,1.0)\n",
    "\n",
    "plt.title('CV Drop Imputation Random Forest Tree Depth')\n",
    "plt.xlabel('Depth')\n",
    "plt.ylabel('Accuracy')"
   ]
  },
  {
   "cell_type": "markdown",
   "metadata": {},
   "source": [
    "**From CV, it looks like best choice for Random Forest Tree depth is 4 **"
   ]
  },
  {
   "cell_type": "code",
   "execution_count": 145,
   "metadata": {},
   "outputs": [
    {
     "name": "stdout",
     "output_type": "stream",
     "text": [
      "Optimal Random Forest Tree Depth: 4\n",
      "Train score: 1.0\n",
      "Test score: 1.0\n"
     ]
    }
   ],
   "source": [
    "clf = RandomForestClassifier(max_depth=4)\n",
    "clf.fit(X_drop_train, y_drop_train)\n",
    "print('Optimal Random Forest Tree Depth: 4')\n",
    "print ('Train score:', clf.score(X_drop_train, y_drop_train))\n",
    "print ('Test score:', clf.score(X_drop_test, y_drop_test))"
   ]
  },
  {
   "cell_type": "code",
   "execution_count": 146,
   "metadata": {},
   "outputs": [
    {
     "name": "stdout",
     "output_type": "stream",
     "text": [
      "Confusion Matrix Train:\n",
      "[[11  0  0]\n",
      " [ 0  9  0]\n",
      " [ 0  0  6]]\n",
      "Confusion Matrix Test:\n",
      "[[6 0 0]\n",
      " [0 8 0]\n",
      " [0 0 3]]\n"
     ]
    }
   ],
   "source": [
    "yhat_drop_train = clf.predict(X_drop_train)\n",
    "print(\"Confusion Matrix Train:\")\n",
    "print(confusion_matrix(yhat_drop_train, y_drop_train))\n",
    "print(\"Confusion Matrix Test:\")\n",
    "yhat_drop_test = clf.predict(X_drop_test)\n",
    "print(confusion_matrix(yhat_drop_test, y_drop_test))"
   ]
  },
  {
   "cell_type": "markdown",
   "metadata": {},
   "source": [
    "**2. Restart with a fresh copy of the data and impute the missing data via mean imputation.  Split the data 75-25 and again fit DecisionTreeClassifier and RandomForestClassifier using cross-validation to find the optimal tree depth.  Report the optimal tree depth, overall classification rate and confusion matrix on the test set for each method.**"
   ]
  },
  {
   "cell_type": "code",
   "execution_count": 149,
   "metadata": {
    "collapsed": true
   },
   "outputs": [],
   "source": [
    "imputer = Imputer( strategy='mean')\n",
    "data_missing_mean = imputer.fit_transform(data_missing_mean.values)\n",
    "msk = np.random.rand(len(data_missing_mean)) < 0.75\n",
    "data_missing_mean_train = data_missing_mean[msk]\n",
    "data_missing_mean_test = data_missing_mean[~msk]\n",
    "\n",
    "X_mean_train = data_missing_mean_train[:, :-1]\n",
    "y_mean_train =data_missing_mean_train[:, -1]\n",
    "X_mean_test = data_missing_mean_test[:, :-1]\n",
    "y_mean_test =data_missing_mean_test[:, -1]"
   ]
  },
  {
   "cell_type": "code",
   "execution_count": 150,
   "metadata": {
    "collapsed": true
   },
   "outputs": [],
   "source": [
    "# 5-fold cross validation on decision tree\n",
    "dt_mean_train_scores = []\n",
    "depths = list(range(2,11))\n",
    "for depth in depths:\n",
    "    clf = DecisionTreeClassifier(max_depth = depth)  \n",
    "    score = cross_val_score(estimator=clf, X=X_mean_train, y=y_mean_train, cv=5)\n",
    "    dt_mean_train_scores.append(np.mean(score))"
   ]
  },
  {
   "cell_type": "code",
   "execution_count": 151,
   "metadata": {},
   "outputs": [
    {
     "data": {
      "text/plain": [
       "[0.81258689458689459,\n",
       " 0.83540170940170932,\n",
       " 0.85876597476597483,\n",
       " 0.83623606023606034,\n",
       " 0.851094017094017,\n",
       " 0.85164346764346777,\n",
       " 0.86674318274318263,\n",
       " 0.83595115995115987,\n",
       " 0.82768660968660979]"
      ]
     },
     "execution_count": 151,
     "metadata": {},
     "output_type": "execute_result"
    }
   ],
   "source": [
    "dt_mean_train_scores"
   ]
  },
  {
   "cell_type": "code",
   "execution_count": 152,
   "metadata": {},
   "outputs": [
    {
     "data": {
      "text/plain": [
       "<matplotlib.text.Text at 0x11906f7f0>"
      ]
     },
     "execution_count": 152,
     "metadata": {},
     "output_type": "execute_result"
    },
    {
     "data": {
      "image/png": "[encoded data removed]",
      "text/plain": [
       "<matplotlib.figure.Figure at 0x1190d8748>"
      ]
     },
     "metadata": {},
     "output_type": "display_data"
    }
   ],
   "source": [
    "plt.figure(figsize=(10, 9))\n",
    "plt.plot(depths, dt_mean_train_scores)\n",
    "\n",
    "plt.ylim(0.6,.9)\n",
    "\n",
    "plt.title('CV Mean Imputation Decision Tree Depth')\n",
    "plt.xlabel('Depth')\n",
    "plt.ylabel('Accuracy')\n"
   ]
  },
  {
   "cell_type": "markdown",
   "metadata": {},
   "source": [
    "**From CV on Mean Imputation it seems like the best choice for Decision Tree depth is 4**"
   ]
  },
  {
   "cell_type": "code",
   "execution_count": 153,
   "metadata": {},
   "outputs": [
    {
     "name": "stdout",
     "output_type": "stream",
     "text": [
      "Optimal Tree Depth: 4\n",
      "Train score: 0.954198473282\n",
      "Test score: 0.872340425532\n"
     ]
    }
   ],
   "source": [
    "clf = DecisionTreeClassifier(max_depth=4)\n",
    "clf.fit(X_mean_train, y_mean_train)\n",
    "print('Optimal Tree Depth: 4')\n",
    "print ('Train score:', clf.score(X_mean_train,y_mean_train))\n",
    "print ('Test score:', clf.score(X_mean_test, y_mean_test))"
   ]
  },
  {
   "cell_type": "code",
   "execution_count": 154,
   "metadata": {},
   "outputs": [
    {
     "name": "stdout",
     "output_type": "stream",
     "text": [
      "Confusion Matrix Train:\n",
      "[[42  4  1]\n",
      " [ 0 49  1]\n",
      " [ 0  0 34]]\n",
      "Confusion Matrix Test:\n",
      "[[16  3  1]\n",
      " [ 1 15  1]\n",
      " [ 0  0 10]]\n"
     ]
    }
   ],
   "source": [
    "yhat_mean_train = clf.predict(X_mean_train)\n",
    "print(\"Confusion Matrix Train:\")\n",
    "print(confusion_matrix(yhat_mean_train, y_mean_train))\n",
    "print(\"Confusion Matrix Test:\")\n",
    "yhat_mean_test = clf.predict(X_mean_test)\n",
    "print(confusion_matrix(yhat_mean_test, y_mean_test))"
   ]
  },
  {
   "cell_type": "markdown",
   "metadata": {},
   "source": [
    "#### Random Forest"
   ]
  },
  {
   "cell_type": "code",
   "execution_count": 155,
   "metadata": {
    "collapsed": true
   },
   "outputs": [],
   "source": [
    "# 5-fold cross validation on decision tree\n",
    "rf_mean_train_scores = []\n",
    "depths = list(range(2,11))\n",
    "for depth in depths:\n",
    "    clf = RandomForestClassifier(max_depth = depth)  \n",
    "    score = cross_val_score(estimator=clf, X=X_mean_train, y=y_mean_train, cv=5)\n",
    "    rf_mean_train_scores.append(np.mean(score))"
   ]
  },
  {
   "cell_type": "code",
   "execution_count": 156,
   "metadata": {},
   "outputs": [
    {
     "data": {
      "text/plain": [
       "[0.9104371184371185,\n",
       " 0.93320634920634915,\n",
       " 0.9186788766788766,\n",
       " 0.96347171347171356,\n",
       " 0.94918599918599933,\n",
       " 0.95632885632885622,\n",
       " 0.92641432641432642,\n",
       " 0.9546349206349205,\n",
       " 0.93296459096459095]"
      ]
     },
     "execution_count": 156,
     "metadata": {},
     "output_type": "execute_result"
    }
   ],
   "source": [
    "rf_mean_train_scores"
   ]
  },
  {
   "cell_type": "code",
   "execution_count": 157,
   "metadata": {},
   "outputs": [
    {
     "data": {
      "text/plain": [
       "<matplotlib.text.Text at 0x1146f8d68>"
      ]
     },
     "execution_count": 157,
     "metadata": {},
     "output_type": "execute_result"
    },
    {
     "data": {
      "image/png": "[encoded data removed]",
      "text/plain": [
       "<matplotlib.figure.Figure at 0x118a7c668>"
      ]
     },
     "metadata": {},
     "output_type": "display_data"
    }
   ],
   "source": [
    "plt.figure(figsize=(10, 9))\n",
    "plt.plot(depths, rf_mean_train_scores)\n",
    "\n",
    "plt.ylim(0.6,1.0)\n",
    "\n",
    "plt.title('CV Mean Imputation Random Forest Tree Depth')\n",
    "plt.xlabel('Depth')\n",
    "plt.ylabel('Accuracy')"
   ]
  },
  {
   "cell_type": "markdown",
   "metadata": {},
   "source": [
    "**From CV it looks like the optimal max_tree_depth for Random Forest in mean Imputation is 7**"
   ]
  },
  {
   "cell_type": "code",
   "execution_count": 158,
   "metadata": {},
   "outputs": [
    {
     "name": "stdout",
     "output_type": "stream",
     "text": [
      "Optimal Random Forest Tree Depth: 7\n",
      "Train score: 1.0\n",
      "Test score: 0.914893617021\n"
     ]
    }
   ],
   "source": [
    "clf = RandomForestClassifier(max_depth=7)\n",
    "clf.fit(X_mean_train, y_mean_train)\n",
    "print('Optimal Random Forest Tree Depth: 7')\n",
    "print ('Train score:', clf.score(X_mean_train, y_mean_train))\n",
    "print ('Test score:', clf.score(X_mean_test, y_mean_test))"
   ]
  },
  {
   "cell_type": "code",
   "execution_count": 159,
   "metadata": {},
   "outputs": [
    {
     "name": "stdout",
     "output_type": "stream",
     "text": [
      "Confusion Matrix Train:\n",
      "[[42  0  0]\n",
      " [ 0 53  0]\n",
      " [ 0  0 36]]\n",
      "Confusion Matrix Test:\n",
      "[[16  2  0]\n",
      " [ 1 16  1]\n",
      " [ 0  0 11]]\n"
     ]
    }
   ],
   "source": [
    "yhat_mean_train = clf.predict(X_mean_train)\n",
    "print(\"Confusion Matrix Train:\")\n",
    "print(confusion_matrix(yhat_mean_train, y_mean_train))\n",
    "print(\"Confusion Matrix Test:\")\n",
    "yhat_mean_test = clf.predict(X_mean_test)\n",
    "print(confusion_matrix(yhat_mean_test, y_mean_test))"
   ]
  },
  {
   "cell_type": "markdown",
   "metadata": {},
   "source": [
    "**Again restart with a fresh copy of the data but this time let's try something different.  As discussed in section, CART Decision Trees can take advantage of surrogate splits to handle missing data.  Split the data 75-25 and construct a **custom** decision tree model and train it on the training set with missing data. Report the optimal tree depth, overall classification rate and confusion matrix on the test set and compare your results to the Imputation and DecisionTree model results in part 1 & 2.**"
   ]
  },
  {
   "cell_type": "code",
   "execution_count": 160,
   "metadata": {
    "collapsed": true
   },
   "outputs": [],
   "source": [
    "# import our Custom Decision Tree\n",
    "import AC209Tree"
   ]
  },
  {
   "cell_type": "code",
   "execution_count": 161,
   "metadata": {},
   "outputs": [
    {
     "data": {
      "text/plain": [
       "<module 'AC209Tree' from '/Users/pavlos/Teaching/Teaching2017/cs109a/Homework/HW8/AC209Tree.py'>"
      ]
     },
     "execution_count": 161,
     "metadata": {},
     "output_type": "execute_result"
    }
   ],
   "source": [
    "import importlib\n",
    "importlib.reload(AC209Tree)"
   ]
  },
  {
   "cell_type": "code",
   "execution_count": 162,
   "metadata": {
    "collapsed": true
   },
   "outputs": [],
   "source": [
    "np.random.seed(9001)\n",
    "msk = np.random.rand(len(data_missing_dt)) < 0.75\n",
    "data_missing_dt_train = data_missing_dt[msk]\n",
    "data_missing_dt_test = data_missing_dt[~msk]\n",
    "\n",
    "X_dt_train = data_missing_dt_train.iloc[:, :-1]\n",
    "y_dt_train =data_missing_dt_train.iloc[:, -1]\n",
    "X_dt_test = data_missing_dt_test.iloc[:, :-1]\n",
    "y_dt_test =data_missing_dt_test.iloc[:, -1]"
   ]
  },
  {
   "cell_type": "code",
   "execution_count": 163,
   "metadata": {
    "collapsed": true
   },
   "outputs": [],
   "source": [
    "root_node=AC209Tree.build_tree(data_missing_dt_train.as_matrix(), max_depth=3)"
   ]
  },
  {
   "cell_type": "code",
   "execution_count": 75,
   "metadata": {
    "collapsed": true
   },
   "outputs": [],
   "source": [
    "predictions = AC209Tree.predict(root_node, data_missing_dt_test.as_matrix())"
   ]
  },
  {
   "cell_type": "code",
   "execution_count": 76,
   "metadata": {},
   "outputs": [
    {
     "data": {
      "text/plain": [
       "81.81818181818183"
      ]
     },
     "execution_count": 76,
     "metadata": {},
     "output_type": "execute_result"
    }
   ],
   "source": [
    "AC209Tree.accuracy_metric(predictions,data_missing_dt_test.as_matrix()[:,-1])"
   ]
  },
  {
   "cell_type": "code",
   "execution_count": 165,
   "metadata": {
    "collapsed": true
   },
   "outputs": [],
   "source": [
    "dt_custom_train_scores = []\n",
    "\n",
    "for cv_train, cv_test in KFold(n_splits=5, shuffle=True).split(data_missing_dt_train.index):\n",
    "    # in general though its good for creating consistent psets, don't put seeds into kfold\n",
    "    # split\n",
    "    data_dt_train_cv = data_missing_dt_train.iloc[cv_train,:]\n",
    "    data_dt_test_cv = data_missing_dt_train.iloc[cv_test,:]\n",
    "    \n",
    "    depths = list(range(2,11))\n",
    "    fold_scores = []\n",
    "    for depth in depths:\n",
    "        tree_cv = AC209Tree.build_tree(data_dt_train_cv.as_matrix(), max_depth =depth)\n",
    "        predictions = AC209Tree.predict(tree_cv, data_dt_test_cv.as_matrix())\n",
    "        fold_scores.append(AC209Tree.accuracy_metric(predictions,data_dt_test_cv.as_matrix()[:,-1]))\n",
    "        \n",
    "    dt_custom_train_scores.append(fold_scores)\n",
    "        \n",
    "        \n",
    "    "
   ]
  },
  {
   "cell_type": "code",
   "execution_count": 166,
   "metadata": {
    "collapsed": true
   },
   "outputs": [],
   "source": [
    "dt_custom_train_scores = np.array(dt_custom_train_scores)"
   ]
  },
  {
   "cell_type": "code",
   "execution_count": 167,
   "metadata": {
    "collapsed": true
   },
   "outputs": [],
   "source": [
    "dt_custom_train_means = dt_custom_train_scores.mean(axis=0)"
   ]
  },
  {
   "cell_type": "code",
   "execution_count": 168,
   "metadata": {},
   "outputs": [
    {
     "data": {
      "text/plain": [
       "<matplotlib.text.Text at 0x1196a85c0>"
      ]
     },
     "execution_count": 168,
     "metadata": {},
     "output_type": "execute_result"
    },
    {
     "data": {
      "image/png": "[encoded data removed]",
      "text/plain": [
       "<matplotlib.figure.Figure at 0x11962ce80>"
      ]
     },
     "metadata": {},
     "output_type": "display_data"
    }
   ],
   "source": [
    "plt.figure(figsize=(10, 9))\n",
    "plt.plot(depths, dt_custom_train_means, lw=1)\n",
    "\n",
    "plt.ylim(0.6,1.0)\n",
    "\n",
    "plt.title('CV Custom Decision Tree with Surrogates Depth')\n",
    "plt.xlabel('Depth')\n",
    "plt.ylabel('Accuracy')"
   ]
  },
  {
   "cell_type": "markdown",
   "metadata": {},
   "source": [
    "**From CV it looks like the optimal max_tree_depth for Custom Decision Tree is 5**"
   ]
  },
  {
   "cell_type": "code",
   "execution_count": 169,
   "metadata": {},
   "outputs": [
    {
     "name": "stdout",
     "output_type": "stream",
     "text": [
      "Optimal Custom Decision Tree Depth: 5\n",
      "Train score: 0.975609756097561\n",
      "Test score: 0.8727272727272727\n"
     ]
    }
   ],
   "source": [
    "custom_tree=AC209Tree.build_tree(data_missing_dt_train.as_matrix(), max_depth=5)\n",
    "\n",
    "## Training Predictions\n",
    "yhat_custom_train = AC209Tree.predict(custom_tree, X_dt_train.as_matrix())\n",
    "train_score = AC209Tree.accuracy_metric(yhat_custom_train,y_dt_train.as_matrix())\n",
    "\n",
    "## Test Predictions\n",
    "yhat_custom_test = AC209Tree.predict(custom_tree, X_dt_test.as_matrix())\n",
    "test_score = AC209Tree.accuracy_metric(yhat_custom_test,y_dt_test.as_matrix())\n",
    "\n",
    "print('Optimal Custom Decision Tree Depth: 5')\n",
    "print ('Train score:', train_score)\n",
    "print ('Test score:', test_score)\n",
    "\n"
   ]
  },
  {
   "cell_type": "code",
   "execution_count": 170,
   "metadata": {},
   "outputs": [
    {
     "name": "stdout",
     "output_type": "stream",
     "text": [
      "Confusion Matrix Train:\n",
      "[[38  0  0]\n",
      " [ 1 53  2]\n",
      " [ 0  0 29]]\n",
      "Confusion Matrix Test:\n",
      "[[17  0  1]\n",
      " [ 3 17  2]\n",
      " [ 0  1 14]]\n"
     ]
    }
   ],
   "source": [
    "print(\"Confusion Matrix Train:\")\n",
    "print(confusion_matrix(yhat_custom_train, y_dt_train))\n",
    "print(\"Confusion Matrix Test:\")\n",
    "print(confusion_matrix(yhat_custom_test, y_dt_test))"
   ]
  },
  {
   "cell_type": "markdown",
   "metadata": {},
   "source": [
    "#### Thoughts\n",
    "\n",
    "We see that scores under the custom decision tree are comparable (but in this case slightly outperform) those of drop imputatation and mean imputation but aren't quite as good as Random Forest in mean imputation (although somewhat comparable).  What doesn't show in our results but would come out in repeated runs is that our custom implementation of decision trees which handle missing data via surrogate splits are much more stable (in results) than drop imputation (which makes sense since drop imputation leaves only 47 out of 178 points for the model to learn) and even mean imputation."
   ]
  },
  {
   "cell_type": "code",
   "execution_count": null,
   "metadata": {
    "collapsed": true
   },
   "outputs": [],
   "source": []
  }
 ],
 "metadata": {
  "anaconda-cloud": {},
  "kernelspec": {
   "display_name": "Python 3",
   "language": "python",
   "name": "python3"
  },
  "language_info": {
   "codemirror_mode": {
    "name": "ipython",
    "version": 3
   },
   "file_extension": ".py",
   "mimetype": "text/x-python",
   "name": "python",
   "nbconvert_exporter": "python",
   "pygments_lexer": "ipython3",
   "version": "3.6.1"
  },
  "latex_envs": {
   "bibliofile": "biblio.bib",
   "cite_by": "apalike",
   "current_citInitial": 1,
   "eqLabelWithNumbers": true,
   "eqNumInitial": 0
  }
 },
 "nbformat": 4,
 "nbformat_minor": 1
}
