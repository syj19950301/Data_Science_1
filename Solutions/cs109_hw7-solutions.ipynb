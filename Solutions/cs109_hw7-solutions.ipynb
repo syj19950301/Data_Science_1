{
 "cells": [
  {
   "cell_type": "markdown",
   "metadata": {},
   "source": [
    "# CS 109A/STAT 121A/AC 209A/CSCI E-109A: Homework 7\n",
    "# LDA/QDA and Decision Trees\n",
    "\n",
    "**Harvard University**<br/>\n",
    "**Fall 2017**<br/>\n",
    "**Instructors**: Pavlos Protopapas, Kevin Rader, Rahul Dave, Margo Levine\n",
    "\n",
    "---\n",
    "\n",
    "### INSTRUCTIONS\n",
    "\n",
    "- To submit your assignment follow the instructions given in canvas.\n",
    "- Restart the kernel and run the whole notebook again before you submit. \n",
    "- Do not include your name(s) in the notebook if you are submitting as a group. \n",
    "- If you submit individually and you have worked with someone, please include the name of your [one] partner below. \n",
    "\n",
    "---"
   ]
  },
  {
   "cell_type": "markdown",
   "metadata": {},
   "source": [
    "Your partner's name (if you submit separately):\n",
    "\n",
    "Enrollment Status (109A, 121A, 209A, or E109A):"
   ]
  },
  {
   "cell_type": "markdown",
   "metadata": {},
   "source": [
    "Import libraries:"
   ]
  },
  {
   "cell_type": "code",
   "execution_count": 2,
   "metadata": {
    "collapsed": true
   },
   "outputs": [],
   "source": [
    "import numpy as np\n",
    "import pandas as pd\n",
    "import matplotlib\n",
    "import matplotlib.pyplot as plt\n",
    "from sklearn.linear_model import LogisticRegressionCV\n",
    "import sklearn.metrics as metrics\n",
    "from sklearn.preprocessing import PolynomialFeatures\n",
    "from sklearn.discriminant_analysis import LinearDiscriminantAnalysis\n",
    "from sklearn.discriminant_analysis import QuadraticDiscriminantAnalysis\n",
    "from sklearn.neighbors import KNeighborsClassifier\n",
    "from sklearn.tree import DecisionTreeClassifier\n",
    "from sklearn.model_selection import cross_val_score\n",
    "#import pydotplus\n",
    "#import io\n",
    "from sklearn.tree import export_graphviz\n",
    "from IPython.display import Image\n",
    "from IPython.display import display\n",
    "from matplotlib import colors\n",
    "import seaborn as sns\n",
    "%matplotlib inline"
   ]
  },
  {
   "cell_type": "markdown",
   "metadata": {},
   "source": [
    "\n",
    "## Multiclass Thyroid Classification\n",
    "\n",
    "In this problem, you will build a model for diagnosing disorders in a patient's thyroid gland. Given the results of medical tests on a patient, the task is to classify the patient either as:\n",
    "- *normal* (class 1)\n",
    "- having *hyperthyroidism* (class 2)\n",
    "- or having *hypothyroidism* (class 3). \n",
    "\n",
    "The data set is provided in the file `hw7_dataset.csv`. Columns 1-2 contain biomarkers for a patient (predictors):\n",
    "- Biomarker 1: (Logarithm of) level of basal thyroid-stimulating hormone (TSH) as measured by radioimmuno assay\n",
    "- Biomarker 2: (Logarithm of) maximal absolute difference of TSH value after injection of 200 micro grams of thyrotropin-releasing hormone as compared to the basal value.\n",
    "\n",
    "The last column contains the diagnosis for the patient from a medical expert. This data set was obtained from the UCI machine learning repository.\n",
    "\n",
    "Notice that unlike previous exercises, the task at hand is a 3-class classification problem. We will explore the use of different methods for multiclass classification.\n",
    "\n",
    "First task: split the data using the following code:"
   ]
  },
  {
   "cell_type": "code",
   "execution_count": 3,
   "metadata": {
    "collapsed": true
   },
   "outputs": [],
   "source": [
    "np.random.seed(9001)\n",
    "df = pd.read_csv('hw7_dataset.csv')\n",
    "msk = np.random.rand(len(df)) < 0.5\n",
    "data_train = df[msk]\n",
    "data_test = df[~msk]"
   ]
  },
  {
   "cell_type": "markdown",
   "metadata": {},
   "source": [
    "## Question 1: Fit Classification Models\n",
    "\n",
    "1. Generate a 2D scatter plot of the training set, denoting each class with a different color. Does it appear that the data points can be separated well by a linear classifier?\n",
    "\n",
    "2. Briefly explain the difference between multinomial logistic regression and one-vs-rest (OvR) logistic regression methods for fitting a multiclass classifier (in 2-3 sentences).\n",
    "\n",
    "3. Fit linear classification models on the thyroid data set using both the methods.  You should use $L_2$ regularization in both cases, tuning the regularization parameter using cross-validation.  Is there a difference in the overall classification accuracy of the two methods on the training and test sets?\n",
    "\n",
    "4. Also, compare the training and test accuracies of these models with the following classification methods:\n",
    "    - Multiclass Logistic Regression with quadratic terms \n",
    "    - Linear Discriminant Analysis\n",
    "    - Quadratic Discriminant Analysis\n",
    "    - k-Nearest Neighbors\n",
    "    <br>\n",
    "*Note:* you may use either the OvR or multinomial variant for the multiclass logistic regression (with $L_2$ regularization). Do not forget to use cross-validation to choose the regularization parameter, and also the number of neighbors in k-NN. \n",
    "\n",
    "5. Does the inclusion of the polynomial terms in logistic regression yield better test accuracy compared to the model with only linear terms? \n",
    "\n",
    "\n",
    "*Hint:* You may use the `KNeighborsClassifier` class to fit a k-NN classification model."
   ]
  },
  {
   "cell_type": "code",
   "execution_count": 4,
   "metadata": {
    "collapsed": false
   },
   "outputs": [
    {
     "data": {
      "text/html": [
       "<div>\n",
       "<style>\n",
       "    .dataframe thead tr:only-child th {\n",
       "        text-align: right;\n",
       "    }\n",
       "\n",
       "    .dataframe thead th {\n",
       "        text-align: left;\n",
       "    }\n",
       "\n",
       "    .dataframe tbody tr th {\n",
       "        vertical-align: top;\n",
       "    }\n",
       "</style>\n",
       "<table border=\"1\" class=\"dataframe\">\n",
       "  <thead>\n",
       "    <tr style=\"text-align: right;\">\n",
       "      <th></th>\n",
       "      <th>Biomarker 1</th>\n",
       "      <th>Biomarker 2</th>\n",
       "      <th>Diagnosis</th>\n",
       "    </tr>\n",
       "  </thead>\n",
       "  <tbody>\n",
       "    <tr>\n",
       "      <th>0</th>\n",
       "      <td>0.262372</td>\n",
       "      <td>0.875473</td>\n",
       "      <td>1.0</td>\n",
       "    </tr>\n",
       "    <tr>\n",
       "      <th>5</th>\n",
       "      <td>0.336479</td>\n",
       "      <td>1.098616</td>\n",
       "      <td>1.0</td>\n",
       "    </tr>\n",
       "    <tr>\n",
       "      <th>9</th>\n",
       "      <td>0.182330</td>\n",
       "      <td>-1.609488</td>\n",
       "      <td>2.0</td>\n",
       "    </tr>\n",
       "    <tr>\n",
       "      <th>12</th>\n",
       "      <td>-0.223131</td>\n",
       "      <td>0.788462</td>\n",
       "      <td>1.0</td>\n",
       "    </tr>\n",
       "    <tr>\n",
       "      <th>13</th>\n",
       "      <td>0.587792</td>\n",
       "      <td>1.458617</td>\n",
       "      <td>1.0</td>\n",
       "    </tr>\n",
       "  </tbody>\n",
       "</table>\n",
       "</div>"
      ],
      "text/plain": [
       "    Biomarker 1  Biomarker 2  Diagnosis\n",
       "0      0.262372     0.875473        1.0\n",
       "5      0.336479     1.098616        1.0\n",
       "9      0.182330    -1.609488        2.0\n",
       "12    -0.223131     0.788462        1.0\n",
       "13     0.587792     1.458617        1.0"
      ]
     },
     "execution_count": 4,
     "metadata": {},
     "output_type": "execute_result"
    }
   ],
   "source": [
    "#look at the dataframe head\n",
    "data_train.head()"
   ]
  },
  {
   "cell_type": "markdown",
   "metadata": {},
   "source": [
    "**Question 1.1**"
   ]
  },
  {
   "cell_type": "code",
   "execution_count": 5,
   "metadata": {
    "collapsed": false
   },
   "outputs": [
    {
     "data": {
      "image/png": "[encoded data removed]",
      "text/plain": [
       "<matplotlib.figure.Figure at 0x11a291ac8>"
      ]
     },
     "metadata": {},
     "output_type": "display_data"
    }
   ],
   "source": [
    "# generate a numpy array of possible responses \n",
    "responses = sorted(data_train.Diagnosis.unique())\n",
    "colors = ['r','b','g']\n",
    "\n",
    "plt.figure(figsize = (8,6))\n",
    "\n",
    "for i in range(len(responses)):\n",
    "    response = responses[i]\n",
    "    msk = data_train['Diagnosis'] == response \n",
    "    plt.scatter(data_train['Biomarker 1'][msk], data_train['Biomarker 2'][msk], \n",
    "                c = colors[i],label = 'Class ' + str(int(response)))\n",
    "    \n",
    "plt.legend()\n",
    "plt.title('Scatter Plot of the Training Data Set')\n",
    "plt.xlabel('Biomarker 1')\n",
    "plt.ylabel('Biomarker 2')\n",
    "plt.show()"
   ]
  },
  {
   "cell_type": "markdown",
   "metadata": {},
   "source": [
    "Yes, it appears that a linear classifier will work well. By inspection, a linear classifier should be able to correctly classify >90% of the training data points"
   ]
  },
  {
   "cell_type": "markdown",
   "metadata": {},
   "source": [
    "**Question 1.2**"
   ]
  },
  {
   "cell_type": "markdown",
   "metadata": {},
   "source": [
    "The difference between multinomial logistic regression and OvR was explained in class so you should refer to the second logistic regression lecture notes for the answer. \n"
   ]
  },
  {
   "cell_type": "markdown",
   "metadata": {},
   "source": [
    "**Question 1.3**"
   ]
  },
  {
   "cell_type": "code",
   "execution_count": 6,
   "metadata": {
    "collapsed": false
   },
   "outputs": [
    {
     "name": "stdout",
     "output_type": "stream",
     "text": [
      "OVR Logistic Regression Test Score:  0.840707964602\n",
      "Multinomial Logistic Regression Test Score:  0.884955752212\n"
     ]
    }
   ],
   "source": [
    "\"\"\"\n",
    "\n",
    "Note that both OVR and Multinomial Logistic Regression are implemented in SKLearn, chosen with the argument \n",
    "'multi_class' - Solver implements some variant of Newton Raphson algorithm, and LogisticRegressionCV by default \n",
    "implements L2 Regularization and picks the optimal regularization parameter\n",
    "\n",
    "\"\"\"\n",
    "\n",
    "#One v. Rest\n",
    "lrm_ovr = LogisticRegressionCV(multi_class = 'ovr')\n",
    "lrm_ovr.fit(data_train.iloc[:,:-1],data_train.iloc[:,-1])\n",
    "\n",
    "#Multinomial - according to the documentation, the liblinear solver doesn't work for multinomial\n",
    "lrm_multinomial = LogisticRegressionCV(multi_class = 'multinomial', solver = 'newton-cg')\n",
    "lrm_multinomial.fit(data_train.iloc[:,:-1],data_train.iloc[:,-1])\n",
    "\n",
    "#Computing the score on the test set - \n",
    "print('OVR Logistic Regression Test Score: ',lrm_ovr.score(data_test.iloc[:,:-1],data_test.iloc[:,-1]))\n",
    "print('Multinomial Logistic Regression Test Score: ',lrm_multinomial.score(data_test.iloc[:,:-1],data_test.iloc[:,-1]))"
   ]
  },
  {
   "cell_type": "markdown",
   "metadata": {},
   "source": [
    "Multinomial does better than One vs. Rest on this particular split of the data\n"
   ]
  },
  {
   "cell_type": "markdown",
   "metadata": {},
   "source": [
    "**Question 1.4**"
   ]
  },
  {
   "cell_type": "code",
   "execution_count": 11,
   "metadata": {
    "collapsed": false
   },
   "outputs": [
    {
     "name": "stdout",
     "output_type": "stream",
     "text": [
      "KNN Test Score: (Best K is 3) 0.867256637168\n",
      "LDA Test Score:  0.83185840708\n",
      "QDA Test Score:  0.849557522124\n",
      "OVR Poly Logistic Regression Test Score:  0.87610619469\n",
      "Multinomial Poly Logistic Regression Test Score:  0.893805309735\n"
     ]
    }
   ],
   "source": [
    "\n",
    "lda = LinearDiscriminantAnalysis()\n",
    "qda = QuadraticDiscriminantAnalysis()\n",
    "\n",
    "lda.fit(data_train.iloc[:,:-1],data_train.iloc[:,-1])\n",
    "qda.fit(data_train.iloc[:,:-1],data_train.iloc[:,-1])\n",
    "\n",
    "\n",
    "max_score = 0\n",
    "max_k = 0 \n",
    "\n",
    "for k in range(1,26):\n",
    "    knn = KNeighborsClassifier(n_neighbors = k)\n",
    "    score = cross_val_score(knn,data_train.iloc[:,:-1],data_train.iloc[:,-1]).mean()\n",
    "    if score > max_score:\n",
    "        max_k = k\n",
    "        max_score = score\n",
    " \n",
    "\n",
    "knn = KNeighborsClassifier(n_neighbors = max_k)\n",
    "knn.fit(data_train.iloc[:,:-1],data_train.iloc[:,-1])\n",
    "\n",
    "print('KNN Test Score:', '(Best K is ' + str(max_k) +')',  knn.score(data_test.iloc[:,:-1],data_test.iloc[:,-1]))\n",
    "print('LDA Test Score: ',lda.score(data_test.iloc[:,:-1],data_test.iloc[:,-1]))\n",
    "print('QDA Test Score: ',qda.score(data_test.iloc[:,:-1],data_test.iloc[:,-1]))\n",
    "\n",
    "poly = PolynomialFeatures(degree = 2, include_bias = False)\n",
    "X_poly_train = poly.fit_transform(data_train.iloc[:,:-1])\n",
    "X_poly_test = poly.fit_transform(data_test.iloc[:,:-1])\n",
    "lrm_ovr2 = LogisticRegressionCV(multi_class = 'ovr')\n",
    "lrm_ovr2.fit(X_poly_train,data_train.iloc[:,-1])\n",
    "lrm_multinomial2 = LogisticRegressionCV(multi_class = 'multinomial', solver = 'newton-cg')\n",
    "lrm_multinomial2.fit(X_poly_train,data_train.iloc[:,-1])\n",
    "\n",
    "\n",
    "print('OVR Poly Logistic Regression Test Score: ',lrm_ovr2.score(X_poly_test,data_test.iloc[:,-1]))\n",
    "print('Multinomial Poly Logistic Regression Test Score: ',lrm_multinomial2.score(X_poly_test,data_test.iloc[:,-1]))"
   ]
  },
  {
   "cell_type": "markdown",
   "metadata": {},
   "source": [
    "Training scores for these models are ommited"
   ]
  },
  {
   "cell_type": "markdown",
   "metadata": {},
   "source": [
    "## Question 2: Visualize Decision Boundaries\n",
    "\n",
    "The following code will allow you to visualize the decision boundaries of a given classification model."
   ]
  },
  {
   "cell_type": "code",
   "execution_count": 12,
   "metadata": {
    "collapsed": true
   },
   "outputs": [],
   "source": [
    "#--------  plot_decision_boundary\n",
    "# A function that visualizes the data and the decision boundaries\n",
    "# Input: \n",
    "#      x (predictors)\n",
    "#      y (labels)\n",
    "#      model (the classifier you want to visualize)\n",
    "#      title (title for plot)\n",
    "#      ax (a set of axes to plot on)\n",
    "#      poly_degree (highest degree of polynomial terms included in the model; None by default)\n",
    "\n",
    "def plot_decision_boundary(x, y, model, title, ax, poly_degree=None):\n",
    "    # Create mesh\n",
    "    # Interval of points for biomarker 1\n",
    "    min0 = x[:,0].min()\n",
    "    max0 = x[:,0].max()\n",
    "    interval0 = np.arange(min0, max0, (max0-min0)/100)\n",
    "    n0 = np.size(interval0)\n",
    "    \n",
    "    # Interval of points for biomarker 2\n",
    "    min1 = x[:,1].min()\n",
    "    max1 = x[:,1].max()\n",
    "    interval1 = np.arange(min1, max1, (max1-min1)/100)\n",
    "    n1 = np.size(interval1)\n",
    "\n",
    "    # Create mesh grid of points\n",
    "    x1, x2 = np.meshgrid(interval0, interval1)\n",
    "    x1 = x1.reshape(-1,1)\n",
    "    x2 = x2.reshape(-1,1)\n",
    "    xx = np.concatenate((x1, x2), axis=1)\n",
    "\n",
    "    # Predict on mesh of points\n",
    "    # Check if polynomial terms need to be included\n",
    "    if(poly_degree!=None):\n",
    "        # Use PolynomialFeatures to generate polynomial terms\n",
    "        poly = PolynomialFeatures(poly_degree,include_bias = False)\n",
    "        xx_ = poly.fit_transform(xx)\n",
    "        yy = model.predict(xx_) \n",
    "        \n",
    "    else:   \n",
    "        yy = model.predict(xx)\n",
    "        \n",
    "    yy = yy.reshape((n0, n1))\n",
    "\n",
    "    # Plot decision surface\n",
    "    x1 = x1.reshape(n0, n1)\n",
    "    x2 = x2.reshape(n0, n1)\n",
    "    ax.contourf(x1, x2, yy, cmap=plt.cm.coolwarm, alpha=0.8)\n",
    "    \n",
    "    # Plot scatter plot of data\n",
    "    yy = y.reshape(-1,)\n",
    "    ax.scatter(x[yy==1,0], x[yy==1,1], c='blue', label='Normal', cmap=plt.cm.coolwarm)\n",
    "    ax.scatter(x[yy==2,0], x[yy==2,1], c='cyan', label='Hyper', cmap=plt.cm.coolwarm)\n",
    "    ax.scatter(x[yy==3,0], x[yy==3,1], c='red', label='Hypo', cmap=plt.cm.coolwarm)\n",
    "    \n",
    "    # Label axis, title\n",
    "    ax.set_title(title)\n",
    "    ax.set_xlabel('Biomarker 1')\n",
    "    ax.set_ylabel('Biomarker 2')"
   ]
  },
  {
   "cell_type": "markdown",
   "metadata": {},
   "source": [
    "**Note:** The provided code uses `sklearn`'s `PolynomialFeatures` to generate higher-order polynomial terms, with degree `poly_degree`. \n",
    "Also, if you have loaded the data sets into `pandas` data frames, you may use the `as_matrix` function to obtain a `numpy` array from the data frame objects.\n",
    "\n",
    "1. Use the above code to visualize the decision boundaries for each of the model fitted in the previous part.\n",
    "2. Comment on the difference in the decision boundaries (if any) for the OvR and multinomial logistic regression models. Is there a difference between the decision boundaries for the linear logistic regression models and LDA. What about the decision boundaries for the quadratic logistic regression and QDA? Give an explanation for your answer."
   ]
  },
  {
   "cell_type": "code",
   "execution_count": 13,
   "metadata": {
    "collapsed": false
   },
   "outputs": [
    {
     "data": {
      "image/png": "[encoded data removed]",
      "text/plain": [
       "<matplotlib.figure.Figure at 0x11d89b2b0>"
      ]
     },
     "metadata": {},
     "output_type": "display_data"
    }
   ],
   "source": [
    "fitted_models = [lrm_ovr, lrm_multinomial, knn, lda, qda, lrm_ovr2, lrm_multinomial2]\n",
    "titles = ['Logistic Regression - One v. Rest', 'Logistic Regression - Multinomial','KNN','LDA','QDA',\n",
    "         'Poly Log Reg - OVR', 'Poly Log Reg- Multi']\n",
    "\n",
    "f, axes = plt.subplots(3, 3, figsize = (15,15))\n",
    "c = 0 \n",
    "for i in range(len(axes)):\n",
    "    for j in range(len(axes[0])):\n",
    "        mod = fitted_models[c]\n",
    "               \n",
    "        #hard code the degree of the polynomial ones\n",
    "        deg = None\n",
    "        if c == 5 or c == 6:\n",
    "            deg = 2\n",
    "            \n",
    "        plot_decision_boundary(data_train.iloc[:,:-1].values, data_train.iloc[:,-1].values, \n",
    "                               mod, titles[c], axes[i,j], poly_degree=deg)\n",
    "        c += 1\n",
    "        \n",
    "        if c == len(fitted_models):\n",
    "            break\n",
    "  "
   ]
  },
  {
   "cell_type": "markdown",
   "metadata": {},
   "source": [
    "## Question 3: Fit Decision Trees\n",
    "\n",
    "We next try out decision trees for thyroid classification. For the following questions, you may use the *Gini* index as the splitting criterion while fitting the decision tree. \n",
    "1. Fit a decision tree model to the thyroid data set with (maximum) tree depths 2, 3, ..., 10. Make plots of the training and test accuracies as a function of the tree depth. Is there a depth at which the fitted decision tree model achieves near-perfect classification on the training set? If so, what can you say about the test accuracy of this model?\n",
    "\n",
    "2. Use 5-fold cross-validation to find the optimal tree depth. How does the performance of a decision tree fitted with this depth compare with the models fitted in Part 2(a)?\n",
    "\n",
    "3. Use the code provided in Part 2(c) to visualize the decision boundary of the fitted decision tree. How is the decision boundary of the decision tree model different from the other methods? Given an explanation for your observation.\n",
    "\n",
    "4. Use the `export_graphviz` function in `sklearn` to generate a visualization of the tree diagram for the fitted model. Based on the visualization, explain *in words* how the fitted model diagnoses 'hypothyroidism' for a patient.  \n"
   ]
  },
  {
   "cell_type": "markdown",
   "metadata": {},
   "source": [
    "*Note:* Look at the `export_graphviz` function in the `sklearn.tree` module. \n",
    "\n",
    "You can get a graphic for this visualization by pasting the generated graphviz file in the text box at http://www.webgraphviz.com/ , or you can do it on your own computer.\n",
    "\n",
    "If you choose the do the latter, you will have to install `GraphViz` and `pydot` to use the decision tree rendering code. For this, you may execute the following commands in a terminal:\n",
    "\n",
    "`$pip install graphviz`<br>\n",
    "`$pip install pydot`\n",
    "\n",
    "*Hint:* You may use the `DecisionTreeClassifier` class to fit a decision tree classifier and the `max_depth` attribute to set the tree depth. You may use the `cross_val_score` function for cross-validation with decision trees."
   ]
  },
  {
   "cell_type": "markdown",
   "metadata": {},
   "source": [
    "**Question 3.1**"
   ]
  },
  {
   "cell_type": "code",
   "execution_count": 10,
   "metadata": {
    "collapsed": true
   },
   "outputs": [],
   "source": [
    "depths = [i for i in range(2, 11)]\n",
    "train_scores = []\n",
    "test_scores = []\n",
    "for depth in depths:\n",
    "    clf = DecisionTreeClassifier(max_depth = depth)\n",
    "    clf.fit(data_train.iloc[:,:-1],data_train.iloc[:,-1])\n",
    "    train_scores.append(clf.score(data_train.iloc[:,:-1],data_train.iloc[:,-1]))\n",
    "    test_scores.append(clf.score(data_test.iloc[:,:-1],data_test.iloc[:,-1]))"
   ]
  },
  {
   "cell_type": "code",
   "execution_count": 16,
   "metadata": {
    "collapsed": false
   },
   "outputs": [
    {
     "data": {
      "text/plain": [
       "[<matplotlib.lines.Line2D at 0x11ea51128>]"
      ]
     },
     "execution_count": 16,
     "metadata": {},
     "output_type": "execute_result"
    },
    {
     "data": {
      "image/png": "[encoded data removed]",
      "text/plain": [
       "<matplotlib.figure.Figure at 0x11eaffa90>"
      ]
     },
     "metadata": {},
     "output_type": "display_data"
    }
   ],
   "source": [
    "plt.figure(figsize=(10, 9))\n",
    "plt.plot(depths, train_scores)\n",
    "plt.plot(depths, test_scores)"
   ]
  },
  {
   "cell_type": "markdown",
   "metadata": {},
   "source": [
    "**Question 3.2**"
   ]
  },
  {
   "cell_type": "code",
   "execution_count": 20,
   "metadata": {
    "collapsed": true
   },
   "outputs": [],
   "source": [
    "total_scores = []\n",
    "for depth in depths:\n",
    "    clf = DecisionTreeClassifier(max_depth = depth)  \n",
    "    # Perform 5-fold cross validation \n",
    "    score = cross_val_score(estimator=clf, X=data_train.iloc[:,:-1], y=data_train.iloc[:,-1], cv=5)\n",
    "    total_scores.append((depth, np.mean(score)))"
   ]
  },
  {
   "cell_type": "code",
   "execution_count": 21,
   "metadata": {
    "collapsed": false
   },
   "outputs": [
    {
     "data": {
      "text/plain": [
       "[(2, 0.91314650262018693),\n",
       " (3, 0.8930963773069035),\n",
       " (4, 0.86395534290271137),\n",
       " (5, 0.87347915242652086),\n",
       " (6, 0.86395534290271137),\n",
       " (7, 0.86395534290271137),\n",
       " (8, 0.86395534290271137),\n",
       " (9, 0.86395534290271137),\n",
       " (10, 0.86395534290271137)]"
      ]
     },
     "execution_count": 21,
     "metadata": {},
     "output_type": "execute_result"
    }
   ],
   "source": [
    "total_scores"
   ]
  },
  {
   "cell_type": "code",
   "execution_count": 34,
   "metadata": {
    "collapsed": false
   },
   "outputs": [
    {
     "name": "stdout",
     "output_type": "stream",
     "text": [
      "Train score: 0.921568627451\n",
      "Test score: 0.87610619469\n"
     ]
    }
   ],
   "source": [
    "clf = DecisionTreeClassifier(max_depth=2)\n",
    "clf.fit(data_train.iloc[:,:-1], data_train.iloc[:,-1])\n",
    "print ('Train score:', clf.score(data_train.iloc[:,:-1], data_train.iloc[:,-1]))\n",
    "print ('Test score:', clf.score(data_test.iloc[:,:-1], data_test.iloc[:,-1]))"
   ]
  },
  {
   "cell_type": "markdown",
   "metadata": {},
   "source": [
    "**Question 3.3**"
   ]
  },
  {
   "cell_type": "code",
   "execution_count": 35,
   "metadata": {
    "collapsed": false
   },
   "outputs": [
    {
     "data": {
      "text/plain": [
       "<matplotlib.legend.Legend at 0x120138e80>"
      ]
     },
     "execution_count": 35,
     "metadata": {},
     "output_type": "execute_result"
    },
    {
     "data": {
      "image/png": "[encoded data removed]",
      "text/plain": [
       "<matplotlib.figure.Figure at 0x11efa6358>"
      ]
     },
     "metadata": {},
     "output_type": "display_data"
    }
   ],
   "source": [
    "fig, ax = plt.subplots(1, 1)\n",
    "plot_decision_boundary(data_train.iloc[:,:-1].values, data_train.iloc[:,-1].values, clf, 'Decision tree boundary', ax)\n",
    "ax.legend()"
   ]
  },
  {
   "cell_type": "markdown",
   "metadata": {},
   "source": [
    "**Question 3.4**"
   ]
  },
  {
   "cell_type": "code",
   "execution_count": 36,
   "metadata": {
    "collapsed": true
   },
   "outputs": [],
   "source": [
    "export_graphviz(clf, out_file='tree_viz.dot')"
   ]
  },
  {
   "cell_type": "markdown",
   "metadata": {
    "collapsed": true
   },
   "source": [
    "<img src=\"files/tree.png\">"
   ]
  },
  {
   "cell_type": "markdown",
   "metadata": {},
   "source": [
    "## Question 4: Too many models to choose from!\n",
    "\n",
    "We have so far seen six different ways of fitting a classification model for thyroid classification problem: **linear logistic regression**, **logistic regression with polynomial terms**, **LDA**, **QDA**, **k-NN** and **decision tree**. Which of these methods should one use in practice? To answer this question, we now look at the pros and cons of each method.\n",
    "\n",
    "1. Compare and contrast the six models based on each of the following criteria (a supporting table to summarize your  thoughts can be helpful):\n",
    "  - Classification performance\n",
    "  - Complexity of decision boundary\n",
    "  - Memory storage\n",
    "  - Ease of interpretability\n",
    "\n",
    "2. If you were a clinician who had to use the classifier to diagnose thyroid disorders in patients, which among the six methods would you be most comfortable in using? "
   ]
  },
  {
   "cell_type": "markdown",
   "metadata": {},
   "source": [
    "<img src=\"files/rankings.png\">"
   ]
  },
  {
   "cell_type": "markdown",
   "metadata": {},
   "source": [
    "**Classification performance:**\n",
    "Use the values derived from earlier questions to make the comparison.\n",
    "\n",
    "\n",
    "**Complexity of decision boundary**\n",
    "Discuss graphs above. Make sure their answers are reasonable and follow the graph.\n",
    "\n",
    "**Memory Storage**\n",
    "Big O notation is acceptable but not necessary. Can talk about it in the context of parametric vs nonparametric, hyperparameter tuning, issues with higher dimensionality etc. Just nothing egregiously wrong.\n",
    "\n",
    "**Ease of interpretability**\n",
    "Again, flexible and as long as it makes sense. Can talk about it in terms of if ease of interpretability changes as dimensions change, how easy it is to understand why the model made certain decisions/how to logically verify why it performs well or it doesn't perform well etc."
   ]
  },
  {
   "cell_type": "markdown",
   "metadata": {},
   "source": [
    "Allow them to choose whatever method they'd like as long as they sufficiently back it up. They should refer to each of the 4 categories above."
   ]
  },
  {
   "cell_type": "markdown",
   "metadata": {},
   "source": [
    "## Question 5: Including an 'abstain' option\n",
    "\n",
    "One of the reasons a hospital might be hesitant to use your thyroid classification model is that a misdiagnosis by the model on a patient can sometimes prove to be very costly (e.g. if the patient were to file a law suit seeking a compensation for damages). One way to mitigate this concern is to allow the model to 'abstain' from making a prediction, whenever it is uncertain about the diagnosis for a patient. However, when the model abstains from making a prediction, the hospital will have to forward the patient to a thyroid specialist (i.e. an endocrinologist), which would incur additional cost. How does one design a thyroid classification model with an abstain option, such that the cost to the hospital is minimized?\n",
    "\n",
    "1. More specifically, suppose the cost incurred by a hospital when a model mis-predicts on a patient is \\$5000, and the cost incurred when the model abstains from making a prediction is \\$1000. What is the average cost per patient for the OvR logistic regression model from Question 1, Part 3? Note that this needs to be evaluated on the patients in the test set. Your task is to design a classification strategy (into the 3 groups plus the *abstain* group) that has as low cost as possible per patient (certainly lower cost per patient than the logistic regression model).   Give a justification for your approach.\n",
    "\n",
    "2. **Presentation:** Prepare a set of 5 slides explaining your approach to the hospital management. Your presentation must be accessible to the lay man. Explain in particular how your approach would be robust to changes in the costs of using the abstain option.\n",
    "\n",
    "*Hint:* Think of ways to build on top of the logistic regression model and have it abstain on patients who are difficult to classify."
   ]
  },
  {
   "cell_type": "markdown",
   "metadata": {},
   "source": [
    "**Question 5.0**"
   ]
  },
  {
   "cell_type": "markdown",
   "metadata": {},
   "source": [
    "Assuming the OvR logistic regression model, we estimate $p_j$ for $j\\in \\{1,2,3\\}$, the marginal probability of being in each class, and then normalize these to sum to 1 (handled by sklearn). The normalization step is not necessary for the multinomial model, since the softmax function is already constrained to sum to 1. \n",
    "\n",
    "Following the hint, we will proceed by using the trained OvR logistic regression model to estimate $\\hat{p}_j$ and then making a decision based on minimizing the expected cost. The expected cost for abstaining is \\$1000. The expected cost for predicting is \\$ $5000 * P(\\text{misdiagnosis}) = 5000 * (1 - \\hat{p}_k)$ where $k$ is the label of the predicted class. \n",
    "\n",
    "So our decision rule is if $5000 * (1 - \\hat{p}_k) < 1000$, attempt a prediction. Otherwise, abstain."
   ]
  },
  {
   "cell_type": "markdown",
   "metadata": {},
   "source": [
    "**Question 5.1**"
   ]
  },
  {
   "cell_type": "code",
   "execution_count": 18,
   "metadata": {
    "collapsed": false
   },
   "outputs": [
    {
     "name": "stdout",
     "output_type": "stream",
     "text": [
      "Cost incurred for OvR Logistic Regression Model: $ 796.460176991\n"
     ]
    }
   ],
   "source": [
    "#we will take the convention that 0 is the abstain option\n",
    "\n",
    "def cost(decisions, val):\n",
    "    \n",
    "    #number of times abstained\n",
    "    cost = 1000 * len(decisions[decisions == 0])\n",
    "    \n",
    "    true_vals = val[decisions != 0]\n",
    "    predicted_vals = decisions[decisions !=0]\n",
    "    \n",
    "    #number of incorrect predictions\n",
    "    cost += 5000* sum(true_vals != predicted_vals)\n",
    "    \n",
    "    return(cost)\n",
    "\n",
    "\n",
    "#for the first part of the question the decisions are just the predictions\n",
    "\n",
    "dec = lrm_ovr.predict(data_test.iloc[:,:-1].values) \n",
    "vl = data_test.iloc[:,-1].values\n",
    "print(\"Cost incurred for OvR Logistic Regression Model: $\", cost(dec,vl)/len(vl))"
   ]
  },
  {
   "cell_type": "code",
   "execution_count": 19,
   "metadata": {
    "collapsed": false
   },
   "outputs": [
    {
     "name": "stdout",
     "output_type": "stream",
     "text": [
      "Cost incurred for new model: $ 637.168141593\n"
     ]
    }
   ],
   "source": [
    "#new decision rule, for the second part of the problem \n",
    "def decision_rule(lrm_mod,input_data):\n",
    "    probs = lrm_mod.predict_proba(input_data)\n",
    "    predicted_class = np.argmax(probs,axis = 1) + 1\n",
    "    conf = 1.0 - np.max(probs,axis = 1)\n",
    "    predicted_class[5000*conf > 1000.0] = 0\n",
    "    return(predicted_class)\n",
    "\n",
    "dec2 = decision_rule(lrm_ovr,data_test.iloc[:,:-1].values)\n",
    "print(\"Cost incurred for new model: $\", cost(dec2,vl)/len(vl))"
   ]
  },
  {
   "cell_type": "markdown",
   "metadata": {},
   "source": [
    "Note that there are numerous acceptable solutions for this problem. This is the bare minimum for the question and a full points answer will go into more detail describing justification for the strategy. Answers that chose parameters arbitrarily lost points. Any parameter for your model should be chosen only looking at the training set. "
   ]
  },
  {
   "cell_type": "markdown",
   "metadata": {},
   "source": [
    "**Question 5.2** \n",
    "\n",
    "The slides are open ended, so here we will just list the criteria for grading:\n",
    "\n",
    "- Grading was done on the basis of: \n",
    "    - Your slides were clear and communicated effectively, without being overly technical\n",
    "    - You explained how your approach would be robust to changes in the costs of using the abstain option.\n",
    "    - Visuals are effective and aesthetically pleasing"
   ]
  }
 ],
 "metadata": {
  "anaconda-cloud": {},
  "kernelspec": {
   "display_name": "Python [py36]",
   "language": "python",
   "name": "Python [py36]"
  },
  "language_info": {
   "codemirror_mode": {
    "name": "ipython",
    "version": 3
   },
   "file_extension": ".py",
   "mimetype": "text/x-python",
   "name": "python",
   "nbconvert_exporter": "python",
   "pygments_lexer": "ipython3",
   "version": "3.6.0"
  }
 },
 "nbformat": 4,
 "nbformat_minor": 1
}
