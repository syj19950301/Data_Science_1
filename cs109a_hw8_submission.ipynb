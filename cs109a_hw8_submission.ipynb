{
 "cells": [
  {
   "cell_type": "markdown",
   "metadata": {},
   "source": [
    "# CS 109A/STAT 121A/AC 209A/CSCI E-109A: Homework 8\n",
    "# Ensemble methods\n",
    "\n",
    "**Harvard University**<br/>\n",
    "**Fall 2017**<br/>\n",
    "**Instructors**: Pavlos Protopapas, Kevin Rader, Rahul Dave\n"
   ]
  },
  {
   "cell_type": "markdown",
   "metadata": {},
   "source": [
    "Import libraries:"
   ]
  },
  {
   "cell_type": "code",
   "execution_count": 1,
   "metadata": {
    "collapsed": true
   },
   "outputs": [],
   "source": [
    "import numpy as np\n",
    "import pandas as pd\n",
    "import matplotlib\n",
    "import matplotlib.pyplot as plt\n",
    "import sklearn.metrics as metrics\n",
    "from sklearn.model_selection import cross_val_score\n",
    "from sklearn import tree\n",
    "from sklearn.tree import DecisionTreeClassifier\n",
    "from sklearn.ensemble import RandomForestClassifier\n",
    "from sklearn.ensemble import AdaBoostClassifier\n",
    "from sklearn.linear_model import LogisticRegressionCV\n",
    "\n",
    "import random\n",
    "from sklearn.model_selection import KFold\n",
    "%matplotlib inline"
   ]
  },
  {
   "cell_type": "markdown",
   "metadata": {},
   "source": [
    "# Higgs Boson Discovery\n",
    "\n",
    "The discovery of the Higgs boson in July 2012 marked a fundamental breakthrough in particle physics. The Higgs boson particle was discovered through experiments at the Large Hadron Collider at CERN, by colliding beams of protons at high energy. A key challenge in analyzing the results of these experiments is to differentiate between a collision that produces Higgs bosons and collisions thats produce only background noise. We shall explore the use of ensemble methods for this classification task.\n",
    "\n",
    "You are provided with data from Monte-Carlo simulations of collisions of particles in a particle collider experiment. The training set is available in `Higgs_train.csv` and the test set is in `Higgs_test.csv`. Each row in these files corresponds to a particle colision described by 28 features (columns 1-28), of which the first 21 features are kinematic properties measured by the particle detectors in the accelerator, and the remaining features are derived by physicists from the the first 21 features. The class label is provided in the last column, with a label of 1 indicating that the collision produces Higgs bosons (signal), and a label of 0 indicating that the collision produces other particles (background). \n",
    "\n",
    "The data set provided to you is a small subset of the HIGGS data set in the UCI machine learning repository. The following paper contains further details about the data set and the predictors used: <a href = \"https://www.nature.com/articles/ncomms5308\">Baldi et al., Nature Communications 5, 2014</a>.\n"
   ]
  },
  {
   "cell_type": "markdown",
   "metadata": {},
   "source": [
    "## Question 1 (2pt): Single Decision Tree\n",
    "We start by building a basic model which we will use as our base model for comparison. \n",
    "\n",
    "1. Fit a decision tree model to the training set and report the classification accuracy of the model on the test set. Use 5-fold cross-validation to choose the (maximum) depth for the tree. You will use the max_depth you find here throughout the homework. \n"
   ]
  },
  {
   "cell_type": "code",
   "execution_count": 2,
   "metadata": {},
   "outputs": [
    {
     "data": {
      "text/html": [
       "<div>\n",
       "<style>\n",
       "    .dataframe thead tr:only-child th {\n",
       "        text-align: right;\n",
       "    }\n",
       "\n",
       "    .dataframe thead th {\n",
       "        text-align: left;\n",
       "    }\n",
       "\n",
       "    .dataframe tbody tr th {\n",
       "        vertical-align: top;\n",
       "    }\n",
       "</style>\n",
       "<table border=\"1\" class=\"dataframe\">\n",
       "  <thead>\n",
       "    <tr style=\"text-align: right;\">\n",
       "      <th></th>\n",
       "      <th>lepton_pT</th>\n",
       "      <th>_lepton_eta</th>\n",
       "      <th>_lepton_phi</th>\n",
       "      <th>_missing_energy_magnitude</th>\n",
       "      <th>_missing_energy_phi</th>\n",
       "      <th>_jet_1_pt</th>\n",
       "      <th>_jet_1_eta</th>\n",
       "      <th>_jet_1_phi</th>\n",
       "      <th>_jet_1_b-tag</th>\n",
       "      <th>_jet_2_pt</th>\n",
       "      <th>...</th>\n",
       "      <th>_jet_4_phi</th>\n",
       "      <th>_jet_4_b-tag</th>\n",
       "      <th>_m_jj</th>\n",
       "      <th>_m_jjj</th>\n",
       "      <th>_m_lv</th>\n",
       "      <th>_m_jlv</th>\n",
       "      <th>_m_bb</th>\n",
       "      <th>_m_wbb</th>\n",
       "      <th>_m_wwbb</th>\n",
       "      <th>_class</th>\n",
       "    </tr>\n",
       "  </thead>\n",
       "  <tbody>\n",
       "    <tr>\n",
       "      <th>0</th>\n",
       "      <td>0.376816</td>\n",
       "      <td>-1.583727</td>\n",
       "      <td>-1.707552</td>\n",
       "      <td>0.990897</td>\n",
       "      <td>0.114397</td>\n",
       "      <td>1.253553</td>\n",
       "      <td>0.619859</td>\n",
       "      <td>-1.479572</td>\n",
       "      <td>2.173076</td>\n",
       "      <td>0.753658</td>\n",
       "      <td>...</td>\n",
       "      <td>0.397156</td>\n",
       "      <td>0.000000</td>\n",
       "      <td>0.522449</td>\n",
       "      <td>1.318622</td>\n",
       "      <td>0.982398</td>\n",
       "      <td>1.359610</td>\n",
       "      <td>0.964809</td>\n",
       "      <td>1.309991</td>\n",
       "      <td>1.083203</td>\n",
       "      <td>1.0</td>\n",
       "    </tr>\n",
       "    <tr>\n",
       "      <th>1</th>\n",
       "      <td>0.707330</td>\n",
       "      <td>0.087603</td>\n",
       "      <td>-0.399742</td>\n",
       "      <td>0.918742</td>\n",
       "      <td>-1.229936</td>\n",
       "      <td>1.172847</td>\n",
       "      <td>-0.552574</td>\n",
       "      <td>0.886053</td>\n",
       "      <td>2.173076</td>\n",
       "      <td>1.298317</td>\n",
       "      <td>...</td>\n",
       "      <td>0.236231</td>\n",
       "      <td>0.000000</td>\n",
       "      <td>0.439696</td>\n",
       "      <td>0.828885</td>\n",
       "      <td>0.992241</td>\n",
       "      <td>1.157820</td>\n",
       "      <td>2.215780</td>\n",
       "      <td>1.189586</td>\n",
       "      <td>0.937976</td>\n",
       "      <td>1.0</td>\n",
       "    </tr>\n",
       "    <tr>\n",
       "      <th>2</th>\n",
       "      <td>0.617290</td>\n",
       "      <td>0.265839</td>\n",
       "      <td>-1.345227</td>\n",
       "      <td>1.154581</td>\n",
       "      <td>1.036646</td>\n",
       "      <td>0.954822</td>\n",
       "      <td>0.377252</td>\n",
       "      <td>-0.147960</td>\n",
       "      <td>0.000000</td>\n",
       "      <td>1.063507</td>\n",
       "      <td>...</td>\n",
       "      <td>-0.542413</td>\n",
       "      <td>0.000000</td>\n",
       "      <td>1.024506</td>\n",
       "      <td>1.026255</td>\n",
       "      <td>0.986289</td>\n",
       "      <td>0.927720</td>\n",
       "      <td>1.371080</td>\n",
       "      <td>0.981672</td>\n",
       "      <td>0.917436</td>\n",
       "      <td>1.0</td>\n",
       "    </tr>\n",
       "    <tr>\n",
       "      <th>3</th>\n",
       "      <td>0.850992</td>\n",
       "      <td>-0.380876</td>\n",
       "      <td>-0.071264</td>\n",
       "      <td>1.468704</td>\n",
       "      <td>-0.795133</td>\n",
       "      <td>0.691818</td>\n",
       "      <td>0.883260</td>\n",
       "      <td>0.496881</td>\n",
       "      <td>0.000000</td>\n",
       "      <td>1.616349</td>\n",
       "      <td>...</td>\n",
       "      <td>-1.520171</td>\n",
       "      <td>0.000000</td>\n",
       "      <td>1.197755</td>\n",
       "      <td>1.100534</td>\n",
       "      <td>0.987262</td>\n",
       "      <td>1.353453</td>\n",
       "      <td>1.455383</td>\n",
       "      <td>0.994682</td>\n",
       "      <td>0.953553</td>\n",
       "      <td>1.0</td>\n",
       "    </tr>\n",
       "    <tr>\n",
       "      <th>4</th>\n",
       "      <td>0.767540</td>\n",
       "      <td>-0.691572</td>\n",
       "      <td>-0.040191</td>\n",
       "      <td>0.614843</td>\n",
       "      <td>0.143765</td>\n",
       "      <td>0.748614</td>\n",
       "      <td>0.397057</td>\n",
       "      <td>-0.873640</td>\n",
       "      <td>0.000000</td>\n",
       "      <td>1.147862</td>\n",
       "      <td>...</td>\n",
       "      <td>0.502034</td>\n",
       "      <td>1.550981</td>\n",
       "      <td>0.921948</td>\n",
       "      <td>0.864080</td>\n",
       "      <td>0.982839</td>\n",
       "      <td>1.373222</td>\n",
       "      <td>0.601492</td>\n",
       "      <td>0.918621</td>\n",
       "      <td>0.957063</td>\n",
       "      <td>0.0</td>\n",
       "    </tr>\n",
       "  </tbody>\n",
       "</table>\n",
       "<p>5 rows × 29 columns</p>\n",
       "</div>"
      ],
      "text/plain": [
       "   lepton_pT  _lepton_eta  _lepton_phi  _missing_energy_magnitude  \\\n",
       "0   0.376816    -1.583727    -1.707552                   0.990897   \n",
       "1   0.707330     0.087603    -0.399742                   0.918742   \n",
       "2   0.617290     0.265839    -1.345227                   1.154581   \n",
       "3   0.850992    -0.380876    -0.071264                   1.468704   \n",
       "4   0.767540    -0.691572    -0.040191                   0.614843   \n",
       "\n",
       "   _missing_energy_phi  _jet_1_pt  _jet_1_eta  _jet_1_phi  _jet_1_b-tag  \\\n",
       "0             0.114397   1.253553    0.619859   -1.479572      2.173076   \n",
       "1            -1.229936   1.172847   -0.552574    0.886053      2.173076   \n",
       "2             1.036646   0.954822    0.377252   -0.147960      0.000000   \n",
       "3            -0.795133   0.691818    0.883260    0.496881      0.000000   \n",
       "4             0.143765   0.748614    0.397057   -0.873640      0.000000   \n",
       "\n",
       "   _jet_2_pt   ...    _jet_4_phi  _jet_4_b-tag     _m_jj    _m_jjj     _m_lv  \\\n",
       "0   0.753658   ...      0.397156      0.000000  0.522449  1.318622  0.982398   \n",
       "1   1.298317   ...      0.236231      0.000000  0.439696  0.828885  0.992241   \n",
       "2   1.063507   ...     -0.542413      0.000000  1.024506  1.026255  0.986289   \n",
       "3   1.616349   ...     -1.520171      0.000000  1.197755  1.100534  0.987262   \n",
       "4   1.147862   ...      0.502034      1.550981  0.921948  0.864080  0.982839   \n",
       "\n",
       "     _m_jlv     _m_bb    _m_wbb   _m_wwbb  _class  \n",
       "0  1.359610  0.964809  1.309991  1.083203     1.0  \n",
       "1  1.157820  2.215780  1.189586  0.937976     1.0  \n",
       "2  0.927720  1.371080  0.981672  0.917436     1.0  \n",
       "3  1.353453  1.455383  0.994682  0.953553     1.0  \n",
       "4  1.373222  0.601492  0.918621  0.957063     0.0  \n",
       "\n",
       "[5 rows x 29 columns]"
      ]
     },
     "execution_count": 2,
     "metadata": {},
     "output_type": "execute_result"
    }
   ],
   "source": [
    "train = pd.read_csv(\"Higgs_train.csv\")\n",
    "train.columns = train.columns.map(lambda x: x.replace(' ', '_'))\n",
    "X_train = train.iloc[:,:-1]\n",
    "y_train = train.iloc[:,-1]\n",
    "train.head()"
   ]
  },
  {
   "cell_type": "code",
   "execution_count": 3,
   "metadata": {},
   "outputs": [
    {
     "data": {
      "text/html": [
       "<div>\n",
       "<style>\n",
       "    .dataframe thead tr:only-child th {\n",
       "        text-align: right;\n",
       "    }\n",
       "\n",
       "    .dataframe thead th {\n",
       "        text-align: left;\n",
       "    }\n",
       "\n",
       "    .dataframe tbody tr th {\n",
       "        vertical-align: top;\n",
       "    }\n",
       "</style>\n",
       "<table border=\"1\" class=\"dataframe\">\n",
       "  <thead>\n",
       "    <tr style=\"text-align: right;\">\n",
       "      <th></th>\n",
       "      <th>lepton_pT</th>\n",
       "      <th>_lepton_eta</th>\n",
       "      <th>_lepton_phi</th>\n",
       "      <th>_missing_energy_magnitude</th>\n",
       "      <th>_missing_energy_phi</th>\n",
       "      <th>_jet_1_pt</th>\n",
       "      <th>_jet_1_eta</th>\n",
       "      <th>_jet_1_phi</th>\n",
       "      <th>_jet_1_b-tag</th>\n",
       "      <th>_jet_2_pt</th>\n",
       "      <th>...</th>\n",
       "      <th>_jet_4_phi</th>\n",
       "      <th>_jet_4_b-tag</th>\n",
       "      <th>_m_jj</th>\n",
       "      <th>_m_jjj</th>\n",
       "      <th>_m_lv</th>\n",
       "      <th>_m_jlv</th>\n",
       "      <th>_m_bb</th>\n",
       "      <th>_m_wbb</th>\n",
       "      <th>_m_wwbb</th>\n",
       "      <th>_class</th>\n",
       "    </tr>\n",
       "  </thead>\n",
       "  <tbody>\n",
       "    <tr>\n",
       "      <th>0</th>\n",
       "      <td>0.883751</td>\n",
       "      <td>-0.461715</td>\n",
       "      <td>0.196283</td>\n",
       "      <td>1.330217</td>\n",
       "      <td>1.522737</td>\n",
       "      <td>1.039467</td>\n",
       "      <td>-1.519038</td>\n",
       "      <td>-1.457952</td>\n",
       "      <td>2.173076</td>\n",
       "      <td>0.361469</td>\n",
       "      <td>...</td>\n",
       "      <td>-1.137282</td>\n",
       "      <td>0.000000</td>\n",
       "      <td>1.454688</td>\n",
       "      <td>0.790714</td>\n",
       "      <td>1.397708</td>\n",
       "      <td>1.250985</td>\n",
       "      <td>0.712875</td>\n",
       "      <td>0.811940</td>\n",
       "      <td>0.820693</td>\n",
       "      <td>1.0</td>\n",
       "    </tr>\n",
       "    <tr>\n",
       "      <th>1</th>\n",
       "      <td>0.780168</td>\n",
       "      <td>-0.292245</td>\n",
       "      <td>0.897072</td>\n",
       "      <td>0.384474</td>\n",
       "      <td>0.412700</td>\n",
       "      <td>1.215078</td>\n",
       "      <td>-0.466424</td>\n",
       "      <td>-0.920208</td>\n",
       "      <td>0.000000</td>\n",
       "      <td>1.104803</td>\n",
       "      <td>...</td>\n",
       "      <td>-0.091825</td>\n",
       "      <td>0.000000</td>\n",
       "      <td>0.812113</td>\n",
       "      <td>0.727805</td>\n",
       "      <td>0.975326</td>\n",
       "      <td>0.636811</td>\n",
       "      <td>0.569234</td>\n",
       "      <td>0.776607</td>\n",
       "      <td>0.715494</td>\n",
       "      <td>1.0</td>\n",
       "    </tr>\n",
       "    <tr>\n",
       "      <th>2</th>\n",
       "      <td>0.352659</td>\n",
       "      <td>-1.073368</td>\n",
       "      <td>-1.741953</td>\n",
       "      <td>1.174700</td>\n",
       "      <td>-0.198694</td>\n",
       "      <td>0.557980</td>\n",
       "      <td>0.057408</td>\n",
       "      <td>-1.491768</td>\n",
       "      <td>1.086538</td>\n",
       "      <td>0.911667</td>\n",
       "      <td>...</td>\n",
       "      <td>1.545824</td>\n",
       "      <td>0.000000</td>\n",
       "      <td>0.829461</td>\n",
       "      <td>1.060325</td>\n",
       "      <td>0.992326</td>\n",
       "      <td>0.824898</td>\n",
       "      <td>0.365448</td>\n",
       "      <td>0.800015</td>\n",
       "      <td>0.765989</td>\n",
       "      <td>0.0</td>\n",
       "    </tr>\n",
       "    <tr>\n",
       "      <th>3</th>\n",
       "      <td>0.757292</td>\n",
       "      <td>0.821975</td>\n",
       "      <td>-1.290851</td>\n",
       "      <td>0.207558</td>\n",
       "      <td>-0.150971</td>\n",
       "      <td>1.222224</td>\n",
       "      <td>-1.638856</td>\n",
       "      <td>1.531346</td>\n",
       "      <td>0.000000</td>\n",
       "      <td>1.683582</td>\n",
       "      <td>...</td>\n",
       "      <td>0.116925</td>\n",
       "      <td>3.101961</td>\n",
       "      <td>4.290139</td>\n",
       "      <td>2.415188</td>\n",
       "      <td>0.994889</td>\n",
       "      <td>0.923447</td>\n",
       "      <td>0.927035</td>\n",
       "      <td>1.755831</td>\n",
       "      <td>1.362970</td>\n",
       "      <td>1.0</td>\n",
       "    </tr>\n",
       "    <tr>\n",
       "      <th>4</th>\n",
       "      <td>2.038721</td>\n",
       "      <td>2.025801</td>\n",
       "      <td>-0.471873</td>\n",
       "      <td>0.423674</td>\n",
       "      <td>-1.497848</td>\n",
       "      <td>1.062186</td>\n",
       "      <td>0.798100</td>\n",
       "      <td>1.218678</td>\n",
       "      <td>2.173076</td>\n",
       "      <td>0.805279</td>\n",
       "      <td>...</td>\n",
       "      <td>-0.079062</td>\n",
       "      <td>3.101961</td>\n",
       "      <td>0.894990</td>\n",
       "      <td>0.936199</td>\n",
       "      <td>1.027161</td>\n",
       "      <td>1.559567</td>\n",
       "      <td>1.148236</td>\n",
       "      <td>1.115536</td>\n",
       "      <td>1.157044</td>\n",
       "      <td>1.0</td>\n",
       "    </tr>\n",
       "  </tbody>\n",
       "</table>\n",
       "<p>5 rows × 29 columns</p>\n",
       "</div>"
      ],
      "text/plain": [
       "   lepton_pT  _lepton_eta  _lepton_phi  _missing_energy_magnitude  \\\n",
       "0   0.883751    -0.461715     0.196283                   1.330217   \n",
       "1   0.780168    -0.292245     0.897072                   0.384474   \n",
       "2   0.352659    -1.073368    -1.741953                   1.174700   \n",
       "3   0.757292     0.821975    -1.290851                   0.207558   \n",
       "4   2.038721     2.025801    -0.471873                   0.423674   \n",
       "\n",
       "   _missing_energy_phi  _jet_1_pt  _jet_1_eta  _jet_1_phi  _jet_1_b-tag  \\\n",
       "0             1.522737   1.039467   -1.519038   -1.457952      2.173076   \n",
       "1             0.412700   1.215078   -0.466424   -0.920208      0.000000   \n",
       "2            -0.198694   0.557980    0.057408   -1.491768      1.086538   \n",
       "3            -0.150971   1.222224   -1.638856    1.531346      0.000000   \n",
       "4            -1.497848   1.062186    0.798100    1.218678      2.173076   \n",
       "\n",
       "   _jet_2_pt   ...    _jet_4_phi  _jet_4_b-tag     _m_jj    _m_jjj     _m_lv  \\\n",
       "0   0.361469   ...     -1.137282      0.000000  1.454688  0.790714  1.397708   \n",
       "1   1.104803   ...     -0.091825      0.000000  0.812113  0.727805  0.975326   \n",
       "2   0.911667   ...      1.545824      0.000000  0.829461  1.060325  0.992326   \n",
       "3   1.683582   ...      0.116925      3.101961  4.290139  2.415188  0.994889   \n",
       "4   0.805279   ...     -0.079062      3.101961  0.894990  0.936199  1.027161   \n",
       "\n",
       "     _m_jlv     _m_bb    _m_wbb   _m_wwbb  _class  \n",
       "0  1.250985  0.712875  0.811940  0.820693     1.0  \n",
       "1  0.636811  0.569234  0.776607  0.715494     1.0  \n",
       "2  0.824898  0.365448  0.800015  0.765989     0.0  \n",
       "3  0.923447  0.927035  1.755831  1.362970     1.0  \n",
       "4  1.559567  1.148236  1.115536  1.157044     1.0  \n",
       "\n",
       "[5 rows x 29 columns]"
      ]
     },
     "execution_count": 3,
     "metadata": {},
     "output_type": "execute_result"
    }
   ],
   "source": [
    "test = pd.read_csv(\"Higgs_test.csv\")\n",
    "test.columns = test.columns.map(lambda x: x.replace(' ', '_'))\n",
    "X_test = test.iloc[:,:-1]\n",
    "y_test = test.iloc[:,-1]\n",
    "test.head()"
   ]
  },
  {
   "cell_type": "code",
   "execution_count": 4,
   "metadata": {},
   "outputs": [
    {
     "name": "stdout",
     "output_type": "stream",
     "text": [
      "For depth of 2, 3, ..., 10:\n",
      "train scores are: \n",
      " [0.63859999999999995, 0.64219999999999999, 0.66020000000000001, 0.68200000000000005, 0.71060000000000001, 0.74280000000000002, 0.7752, 0.81579999999999997, 0.84699999999999998]\n",
      "test scores are: \n",
      " [0.64300000000000002, 0.64319999999999999, 0.64959999999999996, 0.64559999999999995, 0.65639999999999998, 0.64780000000000004, 0.62539999999999996, 0.61960000000000004, 0.62339999999999995]\n"
     ]
    }
   ],
   "source": [
    "depths = [i for i in range(2, 11)]\n",
    "train_scores = []\n",
    "test_scores = []\n",
    "for depth in depths:\n",
    "    clf = DecisionTreeClassifier(max_depth = depth)\n",
    "    clf.fit(X_train,y_train)\n",
    "    train_scores.append(clf.score(X_train,y_train))\n",
    "    test_scores.append(clf.score(X_test,y_test))\n",
    "print(\"For depth of 2, 3, ..., 10:\")\n",
    "print(\"train scores are: \\n\", train_scores)\n",
    "print(\"test scores are: \\n\", test_scores)"
   ]
  },
  {
   "cell_type": "code",
   "execution_count": 5,
   "metadata": {},
   "outputs": [
    {
     "data": {
      "text/plain": [
       "[(2, 0.62320749580749579),\n",
       " (3, 0.62041149381149385),\n",
       " (4, 0.63580570720570717),\n",
       " (5, 0.64001170881170888),\n",
       " (6, 0.62560710220710225),\n",
       " (7, 0.62820670380670385),\n",
       " (8, 0.62560229900229891),\n",
       " (9, 0.62380910060910066),\n",
       " (10, 0.6160052956052956)]"
      ]
     },
     "execution_count": 5,
     "metadata": {},
     "output_type": "execute_result"
    }
   ],
   "source": [
    "total_scores = []\n",
    "for depth in depths:\n",
    "    clf = DecisionTreeClassifier(max_depth = depth)  \n",
    "    # Perform 5-fold cross validation \n",
    "    score = cross_val_score(estimator=clf, X=X_train, y=y_train, cv=5)\n",
    "    total_scores.append((depth, np.mean(score)))\n",
    "total_scores"
   ]
  },
  {
   "cell_type": "code",
   "execution_count": 6,
   "metadata": {},
   "outputs": [
    {
     "name": "stdout",
     "output_type": "stream",
     "text": [
      "The depth of the tree using 5-fold cross-validation is: 5\n"
     ]
    }
   ],
   "source": [
    "# max(total_scores, key=lambda x:x[1])\n",
    "best_depth = max(total_scores, key=lambda x:x[1])[0]\n",
    "print(\"The depth of the tree using 5-fold cross-validation is:\", best_depth)"
   ]
  },
  {
   "cell_type": "markdown",
   "metadata": {},
   "source": [
    "## Question 2 (15pt): Dropout-based Approach\n",
    "We start with a simple method inspired from the idea of 'dropout' in machine learning, where we fit multiple decision trees on random subsets of predictors, and combine them through a majority vote. The procedure is described below.\n",
    "\n",
    "- For each predictor in the training sample, set the predictor values to 0 with probability $p$  (i.e. drop the predictor by setting it to 0). Repeat this for $B$ trials to create $B$ separate training sets.\n",
    "\n",
    "\n",
    "- Fit decision tree models $\\hat{h}^1(x), \\ldots, \\hat{h}^B(x) \\in \\{0,1\\}$ to the $B$ training sets.\n",
    "- Combine the decision tree models into a single classifier by taking a majority vote:\n",
    "$$\n",
    "\\hat{H}_{maj}(x) \\,=\\, majority\\Big(\\hat{h}^1(x), \\ldots, \\hat{h}^B(x)\\Big).\n",
    "$$\n",
    "\n",
    "\n",
    "We shall refer to the combined classifier as an ** *ensemble classifier* **. Implement the described dropout approach, and answer the following questions:\n",
    "1. Apply the dropout procedure with $p = 0.5$ for different number of trees (say $2, 4, 8, 16, \\ldots, 256$), and evaluate the training and test accuracy of the combined classifier. Does an increase in the number of trees improve the training and test performance? Explain your observations in terms of the bias-variance trade-off for the classifier.\n",
    "- Fix the number of trees to 64 and apply the dropout procedure with different dropout rates $p = 0.1, 0.3, 0.5, 0.7, 0.9$. Based on your results, explain how the dropout rate influences the bias and variance of the combined classifier.\n",
    "- Apply 5-fold cross-validation to choose the optimal combination of the dropout rate and number of trees. How does the test performance of an ensemble of trees fitted with the optimal dropout rate and number of trees compare with the single decision tree model in Question 1?\n",
    "[hint: Training with large number of trees can take long time. You may need to restrict the max number of trees.]"
   ]
  },
  {
   "cell_type": "markdown",
   "metadata": {},
   "source": [
    "#### Question 2.1: Apply the dropout procedure with $p = 0.5$ for different number of trees (say $2, 4, 8, 16, \\ldots, 256$), and evaluate the training and test accuracy of the combined classifier. Does an increase in the number of trees improve the training and test performance? Explain your observations in terms of the bias-variance trade-off for the classifier."
   ]
  },
  {
   "cell_type": "code",
   "execution_count": 7,
   "metadata": {},
   "outputs": [],
   "source": [
    "tree_numbers = [2**i for i in range(1, 9)]"
   ]
  },
  {
   "cell_type": "code",
   "execution_count": 8,
   "metadata": {},
   "outputs": [
    {
     "data": {
      "text/plain": [
       "array([ 1.,  0.,  1., ...,  0.,  1.,  1.])"
      ]
     },
     "execution_count": 8,
     "metadata": {},
     "output_type": "execute_result"
    }
   ],
   "source": [
    "clf = DecisionTreeClassifier(max_depth = 5)\n",
    "clf.fit(X_train, y_train)\n",
    "clf.predict(X_train)"
   ]
  },
  {
   "cell_type": "code",
   "execution_count": 9,
   "metadata": {},
   "outputs": [],
   "source": [
    "estimators = []\n",
    "for B in range(2):\n",
    "    X_train_new = X_train.copy()\n",
    "    for c in list(X_train):\n",
    "        rand_number = random.random()  \n",
    "        if rand_number < 0.5:\n",
    "            X_train_new[c] = 0\n",
    "    clf = DecisionTreeClassifier(max_depth = 5)\n",
    "    clf.fit(X_train, y_train)\n",
    "\n"
   ]
  },
  {
   "cell_type": "markdown",
   "metadata": {},
   "source": [
    "#### Question 2.2: Fix the number of trees to 64 and apply the dropout procedure with different dropout rates $p = 0.1, 0.3, 0.5, 0.7, 0.9$. Based on your results, explain how the dropout rate influences the bias and variance of the combined classifier."
   ]
  },
  {
   "cell_type": "code",
   "execution_count": null,
   "metadata": {
    "collapsed": true
   },
   "outputs": [],
   "source": []
  },
  {
   "cell_type": "markdown",
   "metadata": {},
   "source": [
    "#### Question 2.3: Apply 5-fold cross-validation to choose the optimal combination of the dropout rate and number of trees. How does the test performance of an ensemble of trees fitted with the optimal dropout rate and number of trees compare with the single decision tree model in Question 1?"
   ]
  },
  {
   "cell_type": "code",
   "execution_count": null,
   "metadata": {
    "collapsed": true
   },
   "outputs": [],
   "source": []
  },
  {
   "cell_type": "markdown",
   "metadata": {},
   "source": [
    "## Question 3 (15pt): Random Forests\n",
    "\n",
    "We now move to a more sophisticated ensemble technique, namely random forest:\n",
    "1. How does a random forest approach differ from the dropout procedure described in Question 2? \n",
    " \n",
    "- Fit random forest models to the training set for different number of trees (say $2, 4, 8, 16, \\ldots, 256$), and evaluate the training and test accuracies of the models. You may set the number of predictors for each tree in the random forest model to $\\sqrt{p}$, where $p$ is the total number of predictors. \n",
    "\n",
    "- Based on your results, do you find that a larger number of trees necessarily improves the test accuracy of a random forest model? Explain how the number of trees effects the training and test accuracy of a random forest classifier, and how this relates to the bias-variance trade-off for the classifier. \n",
    "  \n",
    "- Fixing the number of trees to a reasonable value, apply 5-fold cross-validation to choose the optimal value for the  number of predictors. How does the test performance of random forest model fitted with the optimal number of trees compare with the dropout approach in Question 2?  \n",
    "\n",
    "\n",
    "\n"
   ]
  },
  {
   "cell_type": "markdown",
   "metadata": {
    "collapsed": true
   },
   "source": [
    "#### Quesrion 3.1: How does a random forest approach differ from the dropout procedure described in Question 2?"
   ]
  },
  {
   "cell_type": "markdown",
   "metadata": {
    "collapsed": true
   },
   "source": [
    "- Random forest first bootstraps samples from the full training set, but the dropout procedure uses full dataset."
   ]
  },
  {
   "cell_type": "markdown",
   "metadata": {},
   "source": [
    "#### Quesrion 3.2: Fit random forest models to the training set for different number of trees (say $2, 4, 8, 16, \\ldots, 256$), and evaluate the training and test accuracies of the models. You may set the number of predictors for each tree in the random forest model to $\\sqrt{p}$, where $p$ is the total number of predictors. "
   ]
  },
  {
   "cell_type": "code",
   "execution_count": 10,
   "metadata": {},
   "outputs": [
    {
     "name": "stdout",
     "output_type": "stream",
     "text": [
      "Number of trees: 2\n",
      "Train score: 0.8476\n",
      "Test score: 0.5548\n",
      "Number of trees: 4\n",
      "Train score: 0.9304\n",
      "Test score: 0.6002\n",
      "Number of trees: 8\n",
      "Train score: 0.9786\n",
      "Test score: 0.6338\n",
      "Number of trees: 16\n",
      "Train score: 0.9976\n",
      "Test score: 0.6684\n",
      "Number of trees: 32\n",
      "Train score: 0.9996\n",
      "Test score: 0.6792\n",
      "Number of trees: 64\n",
      "Train score: 1.0\n",
      "Test score: 0.6964\n",
      "Number of trees: 128\n",
      "Train score: 1.0\n",
      "Test score: 0.7018\n",
      "Number of trees: 256\n",
      "Train score: 1.0\n",
      "Test score: 0.7032\n"
     ]
    }
   ],
   "source": [
    "rf_train_scores = []\n",
    "rf_test_scores = []\n",
    "for t in tree_numbers:\n",
    "    print(\"Number of trees:\", t)\n",
    "    rf = RandomForestClassifier(n_estimators=t, max_features=\"sqrt\") # unrestricted depth because of random forest\n",
    "    rf.fit(X_train, y_train)\n",
    "    rf_train_scores.append(rf.score(X_train, y_train))\n",
    "    print(\"Train score:\", rf.score(X_train, y_train))\n",
    "    rf_test_scores.append(rf.score(X_test, y_test))\n",
    "    print(\"Test score:\", rf.score(X_test, y_test))"
   ]
  },
  {
   "cell_type": "markdown",
   "metadata": {},
   "source": [
    "#### Question 3.3: Based on your results, do you find that a larger number of trees necessarily improves the test accuracy of a random forest model? Explain how the number of trees effects the training and test accuracy of a random forest classifier, and how this relates to the bias-variance trade-off for the classifier."
   ]
  },
  {
   "cell_type": "code",
   "execution_count": 11,
   "metadata": {},
   "outputs": [
    {
     "data": {
      "image/png": "[encoded data removed]",
      "text/plain": [
       "<matplotlib.figure.Figure at 0x1a0b3e8d30>"
      ]
     },
     "metadata": {},
     "output_type": "display_data"
    }
   ],
   "source": [
    "plt.figure(figsize=(8, 6))\n",
    "x = [1,2,3,4,5,6,7,8]\n",
    "plt.plot(x, rf_train_scores, marker='o', label=\"train\")\n",
    "plt.plot(x, rf_test_scores, marker='o', label=\"test\")\n",
    "plt.xlabel(\"Number of Trees\")\n",
    "plt.ylabel(\"Accuracy Scores\")\n",
    "plt.xticks(x, tree_numbers)\n",
    "plt.legend()\n",
    "plt.show()"
   ]
  },
  {
   "cell_type": "markdown",
   "metadata": {},
   "source": [
    "- A larger number of trees improves the test accuracy. The improvement is rapid at first, but slows down when the number of trees is already large enough.\n",
    "- As the number of trees increases, both of the training accuracy and test accuracy goes up. The increase is initially very fast; however, the increase slows down later and tends to stay at the same level.\n",
    "- Bias-variance trade-off: Random forest can only decrease variance, not bias, and we know that error = variance + bias. This is because the error of the entire forest is roughly equal to the bias of a single tree, and to lower the bias, we need to let the tree grow very deep. However, in this problem, we are told to use a max_depth, so the bias is not low, but it is roughly the same no matter how many trees there are in the forest. As we increase the number of trees, the variance is decreasing. But at some point, there is no need to add more trees because it cannot decrease variance anymore, but instead it introduces slightly more variance, and this is the start of overfitting."
   ]
  },
  {
   "cell_type": "markdown",
   "metadata": {},
   "source": [
    "#### Question 3.4: Fixing the number of trees to a reasonable value, apply 5-fold cross-validation to choose the optimal value for the  number of predictors. How does the test performance of random forest model fitted with the optimal number of trees compare with the dropout approach in Question 2? "
   ]
  },
  {
   "cell_type": "code",
   "execution_count": 12,
   "metadata": {},
   "outputs": [
    {
     "name": "stdout",
     "output_type": "stream",
     "text": [
      "reasonable number of trees: 32\n"
     ]
    }
   ],
   "source": [
    "# choose optimum as smallest number of trees \"sufficiently\" close to maximum train accuracy\n",
    "for i in range(len(rf_train_scores)):\n",
    "    if np.max(rf_train_scores)-rf_train_scores[i]<0.002:\n",
    "        n_trees_optimal=i+1\n",
    "        break\n",
    "\n",
    "print(\"reasonable number of trees:\", 2**n_trees_optimal)"
   ]
  },
  {
   "cell_type": "code",
   "execution_count": 13,
   "metadata": {},
   "outputs": [],
   "source": [
    "accuracy_train_cv = np.zeros((29,5))\n",
    "accuracy_valid_cv = np.zeros((29,5))\n",
    "\n",
    "fold_ctr = 0\n",
    "\n",
    "for itrain, ivalid in KFold(n_splits=5, shuffle=True, random_state=9001).split(X_train.index):\n",
    "    X_train_cv = X_train.iloc[itrain,:]\n",
    "    y_train_cv = y_train.iloc[itrain]\n",
    "    X_valid_cv = X_train.iloc[ivalid,:]\n",
    "    y_valid_cv = y_train.iloc[ivalid]\n",
    "    \n",
    "    for i in range(1,29):\n",
    "#         print(\"max_feature =\", i)\n",
    "        rf = RandomForestClassifier(n_estimators=32, max_depth = 5, max_features=i)\n",
    "        rf.fit(X_train_cv, y_train_cv)\n",
    "        \n",
    "        accuracy_train_cv[i,fold_ctr] = rf.score(X_train_cv, y_train_cv)\n",
    "        accuracy_valid_cv[i,fold_ctr] = rf.score(X_valid_cv, y_valid_cv)\n",
    "        \n",
    "    fold_ctr += 1"
   ]
  },
  {
   "cell_type": "code",
   "execution_count": 14,
   "metadata": {},
   "outputs": [],
   "source": [
    "# accuracy_train_cv[1:], accuracy_valid_cv[1:]"
   ]
  },
  {
   "cell_type": "code",
   "execution_count": 15,
   "metadata": {},
   "outputs": [],
   "source": [
    "scores_train = np.mean(accuracy_train_cv, axis=1)[1:]      \n",
    "scores_valid = np.mean(accuracy_valid_cv, axis=1)[1:]"
   ]
  },
  {
   "cell_type": "code",
   "execution_count": 16,
   "metadata": {},
   "outputs": [
    {
     "name": "stdout",
     "output_type": "stream",
     "text": [
      "maximum validation accuracy using 11 predictors\n"
     ]
    }
   ],
   "source": [
    "# choose optimum as smallest number of components \"sufficiently\" close to maximum validation accuracy\n",
    "for i in range(len(scores_valid)):\n",
    "    if np.max(scores_valid)-scores_valid[i]<0.002:\n",
    "        n_predictors_optimal=i+1\n",
    "        break\n",
    "\n",
    "print(\"maximum validation accuracy using %i predictors\" % n_predictors_optimal)"
   ]
  },
  {
   "cell_type": "code",
   "execution_count": 17,
   "metadata": {},
   "outputs": [
    {
     "name": "stdout",
     "output_type": "stream",
     "text": [
      "Test accuracy with 32 trees and optimal number of features: 0.6812\n"
     ]
    }
   ],
   "source": [
    "rf = RandomForestClassifier(n_estimators=32, max_features=n_predictors_optimal)\n",
    "rf.fit(X_train, y_train)\n",
    "print(\"Test accuracy with 32 trees and optimal number of features:\", rf.score(X_test, y_test))"
   ]
  },
  {
   "cell_type": "markdown",
   "metadata": {},
   "source": [
    "#### How does the test performance of random forest model fitted with the optimal number of trees compare with the dropout approach in Question 2?"
   ]
  },
  {
   "cell_type": "code",
   "execution_count": null,
   "metadata": {
    "collapsed": true
   },
   "outputs": [],
   "source": []
  },
  {
   "cell_type": "markdown",
   "metadata": {},
   "source": [
    "## Question 4 (15pt): Boosting\n",
    "\n",
    "We next compare the random forest model with the approach of boosting:\n",
    "\n",
    "\n",
    "1. Apply the AdaBoost algorithm to fit an ensemble of decision trees. Set the learning rate to 0.05, and try out different tree depths for the base learners: 1, 2, 10, and unrestricted depth.  Make a plot of the training accuracy of the ensemble classifier as a function of tree depths. Make a similar plot of the test accuracies as a function of number of trees (say $2, 4, 8, 16, \\ldots, 256$).\n",
    "- How does the number of trees influence the training and test performance? Compare and contrast between the trends you see in the training and test performance of AdaBoost and that of the random forest models in Question 3. Give an explanation for your observations.\n",
    "- How does the tree depth of the base learner impact the training and test performance? Recall that with random forests, we allow the depth of the individual trees to be unrestricted. Would you recommend the same strategy for boosting? Explain your answer.\n",
    "- Apply 5-fold cross-validation to choose the optimal number of trees $B$ for the ensemble and the optimal tree depth for the base learners. How does an ensemble classifier fitted with the optimal number of trees and the optimal tree depth compare with the random forest model fitted in Question 3.4? \n",
    "\n"
   ]
  },
  {
   "cell_type": "markdown",
   "metadata": {},
   "source": [
    "#### Question 4.1: Apply the AdaBoost algorithm to fit an ensemble of decision trees. Set the learning rate to 0.05, and try out different tree depths for the base learners: 1, 2, 10, and unrestricted depth.  Make a plot of the training accuracy of the ensemble classifier as a function of tree depths. Make a similar plot of the test accuracies as a function of number of trees (say $2, 4, 8, 16, \\ldots, 256$)."
   ]
  },
  {
   "cell_type": "code",
   "execution_count": 18,
   "metadata": {},
   "outputs": [
    {
     "name": "stdout",
     "output_type": "stream",
     "text": [
      "Tree depths for the base learners: 1\n",
      "Tree depths for the base learners: 2\n",
      "Tree depths for the base learners: 10\n",
      "Tree depths for the base learners: None\n"
     ]
    }
   ],
   "source": [
    "s1_train = []\n",
    "s1_test = []\n",
    "for b in [1, 2, 10, None]:\n",
    "    print(\"Tree depths for the base learners:\", b)\n",
    "    s2_train = []\n",
    "    s2_test = []\n",
    "    for n in tree_numbers:\n",
    "#         print(\"Number of trees:\", n)\n",
    "        adaboost = AdaBoostClassifier(DecisionTreeClassifier(max_depth=b), n_estimators=n, learning_rate=0.05)\n",
    "        adaboost.fit(X_train, y_train)\n",
    "        s2_train.append(adaboost.score(X_train, y_train))\n",
    "        s2_test.append(adaboost.score(X_test, y_test))\n",
    "#         print(\"Train score:\", adaboost.score(X_train, y_train))\n",
    "#         print(\"Test score:\", adaboost.score(X_test, y_test))\n",
    "    s1_train.append(s2_train)\n",
    "    s1_test.append(s2_test)   "
   ]
  },
  {
   "cell_type": "code",
   "execution_count": 19,
   "metadata": {},
   "outputs": [],
   "source": [
    "# s1_train"
   ]
  },
  {
   "cell_type": "code",
   "execution_count": 20,
   "metadata": {},
   "outputs": [
    {
     "data": {
      "image/png": "[encoded data removed]",
      "text/plain": [
       "<matplotlib.figure.Figure at 0x1a0b422550>"
      ]
     },
     "metadata": {},
     "output_type": "display_data"
    }
   ],
   "source": [
    "# as a function of tree depth (train set):\n",
    "n_trees_2_train = [item[0] for item in s1_train]\n",
    "n_trees_4_train = [item[1] for item in s1_train]\n",
    "n_trees_8_train = [item[2] for item in s1_train]\n",
    "n_trees_16_train = [item[3] for item in s1_train]\n",
    "n_trees_32_train = [item[4] for item in s1_train]\n",
    "n_trees_64_train = [item[5] for item in s1_train]\n",
    "n_trees_128_train = [item[6] for item in s1_train]\n",
    "n_trees_256_train = [item[7] for item in s1_train]\n",
    "\n",
    "plt.figure(figsize=(8, 6))\n",
    "labels = ['1', '2', '10', 'None']\n",
    "x = [1,2,3,4]\n",
    "plt.plot(x, n_trees_2_train, marker='o', label=\"tree=2\", alpha=0.8)\n",
    "plt.plot(x, n_trees_4_train, marker='o', label=\"tree=4\", alpha=0.8)\n",
    "plt.plot(x, n_trees_8_train, marker='o', label=\"tree=8\", alpha=0.8)\n",
    "plt.plot(x, n_trees_16_train, marker='o', label=\"tree=16\", alpha=0.8)\n",
    "plt.plot(x, n_trees_32_train, marker='o', label=\"tree=32\", alpha=0.8)\n",
    "plt.plot(x, n_trees_64_train, marker='o', label=\"tree=64\", alpha=0.8)\n",
    "plt.plot(x, n_trees_128_train, marker='o', label=\"tree=128\", alpha=0.8)\n",
    "plt.plot(x, n_trees_256_train, marker='o', label=\"tree=256\", alpha=0.8)\n",
    "plt.xticks(x, labels)\n",
    "plt.xlabel(\"Tree Depth\")\n",
    "plt.ylabel(\"Training Accuracy Scores\")\n",
    "plt.legend()\n",
    "plt.show()"
   ]
  },
  {
   "cell_type": "code",
   "execution_count": 21,
   "metadata": {},
   "outputs": [
    {
     "data": {
      "image/png": "[encoded data removed]",
      "text/plain": [
       "<matplotlib.figure.Figure at 0x1a0b44d198>"
      ]
     },
     "metadata": {},
     "output_type": "display_data"
    }
   ],
   "source": [
    "# as a function of number of trees:\n",
    "plt.figure(figsize=(8, 6))\n",
    "labels = ['2', '4', '8', '16', '32', '64', '128', '256']\n",
    "x = [1,2,3,4,5,6,7,8]\n",
    "plt.plot(x, s1_train[0], marker='o', label=\"depth=1\", alpha=0.8)\n",
    "plt.plot(x, s1_train[1], marker='o', label=\"depth=2\", alpha=0.8)\n",
    "plt.plot(x, s1_train[2], marker='o', label=\"depth=10\", alpha=0.8)\n",
    "plt.plot(x, s1_train[3], marker='o', label=\"depth unrestricted\", alpha=0.8)\n",
    "\n",
    "plt.xticks(x, labels)\n",
    "plt.xlabel(\"Number of Trees\")\n",
    "plt.ylabel(\"Training Accuracy Scores\")\n",
    "plt.legend()\n",
    "plt.show()"
   ]
  },
  {
   "cell_type": "markdown",
   "metadata": {},
   "source": [
    "#### Question 4.2: How does the number of trees influence the training and test performance? Compare and contrast between the trends you see in the training and test performance of AdaBoost and that of the random forest models in Question 3. Give an explanation for your observations."
   ]
  },
  {
   "cell_type": "code",
   "execution_count": 22,
   "metadata": {},
   "outputs": [
    {
     "data": {
      "image/png": "[encoded data removed]",
      "text/plain": [
       "<matplotlib.figure.Figure at 0x1a0bf42cc0>"
      ]
     },
     "metadata": {},
     "output_type": "display_data"
    }
   ],
   "source": [
    "f, (ax1, ax2) = plt.subplots(1, 2, figsize=(10,6))\n",
    "\n",
    "labels = ['2', '4', '8', '16', '32', '64', '128', '256']\n",
    "x = [1,2,3,4,5,6,7,8]\n",
    "ax1.plot(x, s1_train[0], marker='o', label=\"depth=1\", alpha=0.8)\n",
    "ax1.plot(x, s1_train[1], marker='o', label=\"depth=2\", alpha=0.8)\n",
    "ax1.plot(x, s1_train[2], marker='o', label=\"depth=10\", alpha=0.8)\n",
    "ax1.plot(x, s1_train[3], marker='o', label=\"depth unrestricted\", alpha=0.8)\n",
    "\n",
    "ax1.set_xticks(x)\n",
    "ax1.set_xticklabels(labels)\n",
    "ax1.set_xlabel(\"Number of Trees\")\n",
    "ax1.set_ylabel(\"Train Accuracy Scores\")\n",
    "ax1.legend()\n",
    "\n",
    "\n",
    "ax2.plot(x, s1_test[0], marker='o', label=\"depth=1\", alpha=0.8)\n",
    "ax2.plot(x, s1_test[1], marker='o', label=\"depth=2\", alpha=0.8)\n",
    "ax2.plot(x, s1_test[2], marker='o', label=\"depth=10\", alpha=0.8)\n",
    "ax2.plot(x, s1_test[3], marker='o', label=\"depth unrestricted\", alpha=0.8)\n",
    "\n",
    "ax2.set_xticks(x)\n",
    "ax2.set_xticklabels(labels)\n",
    "ax2.set_xlabel(\"Number of Trees\")\n",
    "ax2.set_ylabel(\"Test Accuracy Scores\")\n",
    "ax2.legend()\n",
    "plt.show()"
   ]
  },
  {
   "cell_type": "code",
   "execution_count": null,
   "metadata": {
    "collapsed": true
   },
   "outputs": [],
   "source": []
  },
  {
   "cell_type": "markdown",
   "metadata": {},
   "source": [
    "#### Question 4.3: How does the tree depth of the base learner impact the training and test performance? Recall that with random forests, we allow the depth of the individual trees to be unrestricted. Would you recommend the same strategy for boosting? Explain your answer."
   ]
  },
  {
   "cell_type": "code",
   "execution_count": 23,
   "metadata": {},
   "outputs": [
    {
     "data": {
      "image/png": "[encoded data removed]",
      "text/plain": [
       "<matplotlib.figure.Figure at 0x1a145ca828>"
      ]
     },
     "metadata": {},
     "output_type": "display_data"
    }
   ],
   "source": [
    "# as a function of tree depth (test set):\n",
    "n_trees_2_test = [item[0] for item in s1_test]\n",
    "n_trees_4_test = [item[1] for item in s1_test]\n",
    "n_trees_8_test = [item[2] for item in s1_test]\n",
    "n_trees_16_test = [item[3] for item in s1_test]\n",
    "n_trees_32_test = [item[4] for item in s1_test]\n",
    "n_trees_64_test = [item[5] for item in s1_test]\n",
    "n_trees_128_test = [item[6] for item in s1_test]\n",
    "n_trees_256_test = [item[7] for item in s1_test]\n",
    "\n",
    "f, (ax1, ax2) = plt.subplots(1, 2, figsize=(10,6))\n",
    "labels = ['1', '2', '10', 'None']\n",
    "x = [1,2,3,4]\n",
    "\n",
    "ax1.plot(x, n_trees_2_train, marker='o', label=\"tree=2\", alpha=0.8)\n",
    "ax1.plot(x, n_trees_4_train, marker='o', label=\"tree=4\", alpha=0.8)\n",
    "ax1.plot(x, n_trees_8_train, marker='o', label=\"tree=8\", alpha=0.8)\n",
    "ax1.plot(x, n_trees_16_train, marker='o', label=\"tree=16\", alpha=0.8)\n",
    "ax1.plot(x, n_trees_32_train, marker='o', label=\"tree=32\", alpha=0.8)\n",
    "ax1.plot(x, n_trees_64_train, marker='o', label=\"tree=64\", alpha=0.8)\n",
    "ax1.plot(x, n_trees_128_train, marker='o', label=\"tree=128\", alpha=0.8)\n",
    "ax1.plot(x, n_trees_256_train, marker='o', label=\"tree=256\", alpha=0.8)\n",
    "ax1.set_xticks(x)\n",
    "ax1.set_xticklabels(labels)\n",
    "ax1.set_xlabel(\"Tree Depth\")\n",
    "ax1.set_ylabel(\"Train Accuracy Scores\")\n",
    "ax1.legend()\n",
    "\n",
    "ax2.plot(x, n_trees_2_test, marker='o', label=\"tree=2\", alpha=0.8)\n",
    "ax2.plot(x, n_trees_4_test, marker='o', label=\"tree=4\", alpha=0.8)\n",
    "ax2.plot(x, n_trees_8_test, marker='o', label=\"tree=8\", alpha=0.8)\n",
    "ax2.plot(x, n_trees_16_test, marker='o', label=\"tree=16\", alpha=0.8)\n",
    "ax2.plot(x, n_trees_32_test, marker='o', label=\"tree=32\", alpha=0.8)\n",
    "ax2.plot(x, n_trees_64_test, marker='o', label=\"tree=64\", alpha=0.8)\n",
    "ax2.plot(x, n_trees_128_test, marker='o', label=\"tree=128\", alpha=0.8)\n",
    "ax2.plot(x, n_trees_256_test, marker='o', label=\"tree=256\", alpha=0.8)\n",
    "ax2.set_xticks(x)\n",
    "ax2.set_xticklabels(labels)\n",
    "ax2.set_xlabel(\"Tree Depth\")\n",
    "ax2.set_ylabel(\"Test Accuracy Scores\")\n",
    "ax2.legend()\n",
    "plt.show()"
   ]
  },
  {
   "cell_type": "code",
   "execution_count": null,
   "metadata": {},
   "outputs": [],
   "source": []
  },
  {
   "cell_type": "markdown",
   "metadata": {},
   "source": [
    "#### Question 4.4: Apply 5-fold cross-validation to choose the optimal number of trees $B$ for the ensemble and the optimal tree depth for the base learners. How does an ensemble classifier fitted with the optimal number of trees and the optimal tree depth compare with the random forest model fitted in Question 3.4?"
   ]
  },
  {
   "cell_type": "code",
   "execution_count": 24,
   "metadata": {},
   "outputs": [],
   "source": [
    "train_cv_n_tree = np.zeros((9,5))\n",
    "valid_cv_n_tree = np.zeros((9,5))\n",
    "\n",
    "fold_ctr = 0\n",
    "\n",
    "for itrain, ivalid in KFold(n_splits=5, shuffle=True, random_state=9001).split(X_train.index):\n",
    "    X_train_cv = X_train.iloc[itrain,:]\n",
    "    y_train_cv = y_train.iloc[itrain]\n",
    "    X_valid_cv = X_train.iloc[ivalid,:]\n",
    "    y_valid_cv = y_train.iloc[ivalid]\n",
    "    \n",
    "    for i, t in enumerate(tree_numbers):\n",
    "#         print(\"max_feature =\", i)\n",
    "        adaboost = AdaBoostClassifier(DecisionTreeClassifier(max_depth=None), n_estimators=t, learning_rate=0.05)\n",
    "        adaboost.fit(X_train_cv, y_train_cv)\n",
    "        \n",
    "        train_cv_n_tree[i,fold_ctr] = adaboost.score(X_train_cv, y_train_cv)\n",
    "        valid_cv_n_tree[i,fold_ctr] = adaboost.score(X_valid_cv, y_valid_cv)\n",
    "        \n",
    "    fold_ctr += 1"
   ]
  },
  {
   "cell_type": "code",
   "execution_count": 25,
   "metadata": {},
   "outputs": [],
   "source": [
    "# train_cv_n_tree[:-1], valid_cv_n_tree[:-1]"
   ]
  },
  {
   "cell_type": "code",
   "execution_count": 26,
   "metadata": {},
   "outputs": [],
   "source": [
    "scores_train_tree = np.mean(train_cv_n_tree, axis=1)[:-1]      \n",
    "scores_valid_tree = np.mean(valid_cv_n_tree, axis=1)[:-1]"
   ]
  },
  {
   "cell_type": "code",
   "execution_count": 27,
   "metadata": {},
   "outputs": [
    {
     "name": "stdout",
     "output_type": "stream",
     "text": [
      "the optimal number of trees:  2\n"
     ]
    }
   ],
   "source": [
    "# choose optimum as smallest number of trees \"sufficiently\" close to maximum validation accuracy\n",
    "for i in range(len(scores_valid_tree)):\n",
    "    if np.max(scores_valid_tree)-scores_valid_tree[i]<0.002:\n",
    "        n_trees_optimal=i+1\n",
    "        break\n",
    "\n",
    "optimal_n_tree = 2**n_trees_optimal\n",
    "print(\"the optimal number of trees: \", optimal_n_tree)"
   ]
  },
  {
   "cell_type": "code",
   "execution_count": 28,
   "metadata": {},
   "outputs": [],
   "source": [
    "train_cv_n_depth = np.zeros((5,5))\n",
    "valid_cv_n_depth = np.zeros((5,5))\n",
    "\n",
    "fold_ctr = 0\n",
    "\n",
    "for itrain, ivalid in KFold(n_splits=5, shuffle=True, random_state=9001).split(X_train.index):\n",
    "    X_train_cv = X_train.iloc[itrain,:]\n",
    "    y_train_cv = y_train.iloc[itrain]\n",
    "    X_valid_cv = X_train.iloc[ivalid,:]\n",
    "    y_valid_cv = y_train.iloc[ivalid]\n",
    "    \n",
    "    for i, d in enumerate([1, 2, 10, None]):\n",
    "#         print(\"max_feature =\", i)\n",
    "        adaboost = AdaBoostClassifier(DecisionTreeClassifier(max_depth=d), n_estimators=optimal_n_tree, learning_rate=0.05)\n",
    "        adaboost.fit(X_train_cv, y_train_cv)\n",
    "        \n",
    "        train_cv_n_depth[i,fold_ctr] = adaboost.score(X_train_cv, y_train_cv)\n",
    "        valid_cv_n_depth[i,fold_ctr] = adaboost.score(X_valid_cv, y_valid_cv)\n",
    "        \n",
    "    fold_ctr += 1"
   ]
  },
  {
   "cell_type": "code",
   "execution_count": 29,
   "metadata": {},
   "outputs": [],
   "source": [
    "# train_cv_n_depth, valid_cv_n_depth"
   ]
  },
  {
   "cell_type": "code",
   "execution_count": 30,
   "metadata": {},
   "outputs": [],
   "source": [
    "scores_train_depth = np.mean(train_cv_n_depth, axis=1)[:-1]      \n",
    "scores_valid_depth = np.mean(valid_cv_n_depth, axis=1)[:-1]"
   ]
  },
  {
   "cell_type": "code",
   "execution_count": 31,
   "metadata": {},
   "outputs": [
    {
     "name": "stdout",
     "output_type": "stream",
     "text": [
      "optimal depth for the base learner:  2\n"
     ]
    }
   ],
   "source": [
    "# choose optimum as smallest number of depths \"sufficiently\" close to maximum validation accuracy\n",
    "for i in range(len(scores_valid_depth)):\n",
    "    if np.max(scores_valid_depth)-scores_valid_depth[i]<0.002:\n",
    "        n_predictors_optimal=i\n",
    "        break\n",
    "\n",
    "optimal_n_depth = [1, 2, 10, None][i]\n",
    "print(\"optimal depth for the base learner: \", optimal_n_depth)"
   ]
  },
  {
   "cell_type": "code",
   "execution_count": 32,
   "metadata": {},
   "outputs": [
    {
     "name": "stdout",
     "output_type": "stream",
     "text": [
      "Test score with the optimal number of tree and the optimal tree depth: 0.643\n"
     ]
    }
   ],
   "source": [
    "adaboost = AdaBoostClassifier(DecisionTreeClassifier(max_depth=optimal_n_depth), n_estimators=optimal_n_tree, learning_rate=0.05)\n",
    "adaboost.fit(X_train, y_train)\n",
    "print(\"Test score with the optimal number of tree and the optimal tree depth:\", adaboost.score(X_test, y_test))"
   ]
  },
  {
   "cell_type": "markdown",
   "metadata": {},
   "source": [
    "#### How does an ensemble classifier fitted with the optimal number of trees and the optimal tree depth compare with the random forest model fitted in Question 3.4?"
   ]
  },
  {
   "cell_type": "code",
   "execution_count": null,
   "metadata": {
    "collapsed": true
   },
   "outputs": [],
   "source": []
  },
  {
   "cell_type": "markdown",
   "metadata": {},
   "source": [
    "## Question 5 (3pt): Meta-classifier\n",
    "\n",
    "We have so far explored techniques that grow a collection of trees either by creating multiple copies of the original training set, or through a sequential procedure, and then combines these trees into a single classifier. Consider an alternate scenario where you are provided with a pre-trained collection of trees, say from different participants of a data science competition for Higgs boson discovery. What would be a good strategy to combine these pre-fitted trees into a single powerful classifier? Of course, a simple approach would be to take the majority vote from the individual trees. Can we do better than this simple combination strategy?\n",
    "\n",
    "A collection of 100 decision tree classifiers is provided in the file `models.npy` and can be loaded into an array by executing:\n",
    "\n",
    "`models = np.load('models.npy')`\n",
    "\n",
    "You can make predictions using the $i^\\text{th}$ model on an array of predictors `x` by executing:\n",
    "\n",
    "`model[i].predict(x)`  &nbsp;&nbsp;&nbsp;\n",
    "or &nbsp;&nbsp;&nbsp;\n",
    "`model[i].predict_proba(x)`\n",
    "\n",
    "and score the model on predictors `x` and labels `y` by using:\n",
    "\n",
    "`model[i].score(x, y)`.\n",
    "\n",
    "1. Implement a strategy to combine the provided decision tree classifiers, and compare the test perfomance of your approach with the majority vote classifier. Explain your strategy/algorithm.\n",
    "\n"
   ]
  },
  {
   "cell_type": "code",
   "execution_count": null,
   "metadata": {
    "collapsed": true
   },
   "outputs": [],
   "source": []
  },
  {
   "cell_type": "markdown",
   "metadata": {},
   "source": [
    "--- \n",
    "\n",
    "---\n",
    "\n",
    "## APCOMP209a - Homework Question\n",
    "​\n",
    "We've worked with imputation methods on missing data in Homework 6.  We've worked with Decision Trees in HW7 and here.  Now let's see what happens if we try to work with Decision Trees and Missing Data at the same time! We'll be working with a dataset from the UCI Machine Learning Repository that uses a variety of wine chemical predictors to classify wines grown in the same region in Italy.  Each line represents 13 (mostly chemical) predictors of the response variable wine class, including things like alcohol content, hue , and phenols.  Unfortunately some of the predictor values were lost in measurement. Please load `wine_quality_missing.csv`. \n",
    "​\n",
    "*Note*: As in HW6 be careful of reading/treating column names and row names in this data set.\n",
    "​\n",
    "​\n",
    "1. Remove all observations that contain and missing values, split the dataset into a 75-25 train-test split, and fit the sklearn DecisionTreeClassifier and RandomForestClassifier.   Use cross-validation to find the optimal tree depth for each method.  Report the optimal tree-depth, overall classification rate and confusion matrix on the test set for each method.\n",
    "2. Restart with a fresh copy of the data and impute the missing data via mean imputation.  Split the data 75-25 and again fit DecisionTreeClassifier and RandomForestClassifier using cross-validation to find the optimal tree depth.  Report the optimal tree depth, overall classification rate and confusion matrix on the test set for each method.  \n",
    "3. Again restart with a fresh copy of the data but this time let's try something different.  As discussed in section, CART Decision Trees can take advantage of surrogate splits to handle missing data.  Split the data 75-25 and construct a **custom** decision tree model and train it on the training set with missing data. Report the optimal tree depth, overall classification rate and confusion matrix on the test set and compare your results to the Imputation and DecisionTree model results in part 1 & 2.\n"
   ]
  },
  {
   "cell_type": "code",
   "execution_count": 33,
   "metadata": {},
   "outputs": [
    {
     "data": {
      "text/html": [
       "<div>\n",
       "<style>\n",
       "    .dataframe thead tr:only-child th {\n",
       "        text-align: right;\n",
       "    }\n",
       "\n",
       "    .dataframe thead th {\n",
       "        text-align: left;\n",
       "    }\n",
       "\n",
       "    .dataframe tbody tr th {\n",
       "        vertical-align: top;\n",
       "    }\n",
       "</style>\n",
       "<table border=\"1\" class=\"dataframe\">\n",
       "  <thead>\n",
       "    <tr style=\"text-align: right;\">\n",
       "      <th></th>\n",
       "      <th>Alcohol</th>\n",
       "      <th>Malic_acid</th>\n",
       "      <th>Ash</th>\n",
       "      <th>Alcalinity_of_ash</th>\n",
       "      <th>Magnesium</th>\n",
       "      <th>Total_phenols</th>\n",
       "      <th>Flavanoids</th>\n",
       "      <th>Nonflavanoid_phenols</th>\n",
       "      <th>Proanthocyanins</th>\n",
       "      <th>Color_intensity</th>\n",
       "      <th>Hue</th>\n",
       "      <th>OD280/OD315_of_diluted_wines</th>\n",
       "      <th>Proline</th>\n",
       "      <th>Class</th>\n",
       "    </tr>\n",
       "  </thead>\n",
       "  <tbody>\n",
       "    <tr>\n",
       "      <th>0</th>\n",
       "      <td>14.23</td>\n",
       "      <td>1.71</td>\n",
       "      <td>2.43</td>\n",
       "      <td>15.6</td>\n",
       "      <td>127.0</td>\n",
       "      <td>2.80</td>\n",
       "      <td>3.06</td>\n",
       "      <td>0.28</td>\n",
       "      <td>2.29</td>\n",
       "      <td>5.64</td>\n",
       "      <td>1.04</td>\n",
       "      <td>3.92</td>\n",
       "      <td>1065.0</td>\n",
       "      <td>1</td>\n",
       "    </tr>\n",
       "    <tr>\n",
       "      <th>1</th>\n",
       "      <td>13.20</td>\n",
       "      <td>1.78</td>\n",
       "      <td>2.14</td>\n",
       "      <td>NaN</td>\n",
       "      <td>100.0</td>\n",
       "      <td>2.65</td>\n",
       "      <td>2.76</td>\n",
       "      <td>0.26</td>\n",
       "      <td>1.28</td>\n",
       "      <td>4.38</td>\n",
       "      <td>1.05</td>\n",
       "      <td>3.40</td>\n",
       "      <td>1050.0</td>\n",
       "      <td>1</td>\n",
       "    </tr>\n",
       "    <tr>\n",
       "      <th>2</th>\n",
       "      <td>13.16</td>\n",
       "      <td>2.36</td>\n",
       "      <td>2.67</td>\n",
       "      <td>18.6</td>\n",
       "      <td>101.0</td>\n",
       "      <td>2.80</td>\n",
       "      <td>3.24</td>\n",
       "      <td>0.30</td>\n",
       "      <td>2.81</td>\n",
       "      <td>5.68</td>\n",
       "      <td>1.03</td>\n",
       "      <td>3.17</td>\n",
       "      <td>1185.0</td>\n",
       "      <td>1</td>\n",
       "    </tr>\n",
       "    <tr>\n",
       "      <th>3</th>\n",
       "      <td>14.37</td>\n",
       "      <td>1.95</td>\n",
       "      <td>2.50</td>\n",
       "      <td>NaN</td>\n",
       "      <td>113.0</td>\n",
       "      <td>3.85</td>\n",
       "      <td>3.49</td>\n",
       "      <td>0.24</td>\n",
       "      <td>2.18</td>\n",
       "      <td>7.80</td>\n",
       "      <td>0.86</td>\n",
       "      <td>3.45</td>\n",
       "      <td>1480.0</td>\n",
       "      <td>1</td>\n",
       "    </tr>\n",
       "    <tr>\n",
       "      <th>4</th>\n",
       "      <td>13.24</td>\n",
       "      <td>2.59</td>\n",
       "      <td>2.87</td>\n",
       "      <td>21.0</td>\n",
       "      <td>118.0</td>\n",
       "      <td>2.80</td>\n",
       "      <td>2.69</td>\n",
       "      <td>0.39</td>\n",
       "      <td>NaN</td>\n",
       "      <td>4.32</td>\n",
       "      <td>1.04</td>\n",
       "      <td>2.93</td>\n",
       "      <td>735.0</td>\n",
       "      <td>1</td>\n",
       "    </tr>\n",
       "  </tbody>\n",
       "</table>\n",
       "</div>"
      ],
      "text/plain": [
       "   Alcohol  Malic_acid   Ash  Alcalinity_of_ash  Magnesium  Total_phenols  \\\n",
       "0    14.23        1.71  2.43               15.6      127.0           2.80   \n",
       "1    13.20        1.78  2.14                NaN      100.0           2.65   \n",
       "2    13.16        2.36  2.67               18.6      101.0           2.80   \n",
       "3    14.37        1.95  2.50                NaN      113.0           3.85   \n",
       "4    13.24        2.59  2.87               21.0      118.0           2.80   \n",
       "\n",
       "   Flavanoids  Nonflavanoid_phenols  Proanthocyanins  Color_intensity   Hue  \\\n",
       "0        3.06                  0.28             2.29             5.64  1.04   \n",
       "1        2.76                  0.26             1.28             4.38  1.05   \n",
       "2        3.24                  0.30             2.81             5.68  1.03   \n",
       "3        3.49                  0.24             2.18             7.80  0.86   \n",
       "4        2.69                  0.39              NaN             4.32  1.04   \n",
       "\n",
       "   OD280/OD315_of_diluted_wines  Proline  Class  \n",
       "0                          3.92   1065.0      1  \n",
       "1                          3.40   1050.0      1  \n",
       "2                          3.17   1185.0      1  \n",
       "3                          3.45   1480.0      1  \n",
       "4                          2.93    735.0      1  "
      ]
     },
     "execution_count": 33,
     "metadata": {},
     "output_type": "execute_result"
    }
   ],
   "source": [
    "wine_data = pd.read_csv(\"wine_quality_missing.csv\")\n",
    "wine_data.columns = wine_data.columns.map(lambda x: x.replace(' ', '_'))\n",
    "wine_data.head()"
   ]
  },
  {
   "cell_type": "code",
   "execution_count": null,
   "metadata": {
    "collapsed": true
   },
   "outputs": [],
   "source": []
  }
 ],
 "metadata": {
  "anaconda-cloud": {},
  "kernelspec": {
   "display_name": "Python 3",
   "language": "python",
   "name": "python3"
  },
  "language_info": {
   "codemirror_mode": {
    "name": "ipython",
    "version": 3
   },
   "file_extension": ".py",
   "mimetype": "text/x-python",
   "name": "python",
   "nbconvert_exporter": "python",
   "pygments_lexer": "ipython3",
   "version": "3.6.3"
  },
  "latex_envs": {
   "bibliofile": "biblio.bib",
   "cite_by": "apalike",
   "current_citInitial": 1,
   "eqLabelWithNumbers": true,
   "eqNumInitial": 0
  }
 },
 "nbformat": 4,
 "nbformat_minor": 1
}
