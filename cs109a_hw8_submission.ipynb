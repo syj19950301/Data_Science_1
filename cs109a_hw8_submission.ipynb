{
 "cells": [
  {
   "cell_type": "markdown",
   "metadata": {},
   "source": [
    "# CS 109A/STAT 121A/AC 209A/CSCI E-109A: Homework 8\n",
    "# Ensemble methods\n",
    "\n",
    "**Harvard University**<br/>\n",
    "**Fall 2017**<br/>\n",
    "**Instructors**: Pavlos Protopapas, Kevin Rader, Rahul Dave\n"
   ]
  },
  {
   "cell_type": "markdown",
   "metadata": {},
   "source": [
    "- 209 part surrogate split I partially consulted with my classmate Jiawen Tong. "
   ]
  },
  {
   "cell_type": "markdown",
   "metadata": {},
   "source": [
    "Import libraries:"
   ]
  },
  {
   "cell_type": "code",
   "execution_count": 1,
   "metadata": {
    "collapsed": true
   },
   "outputs": [],
   "source": [
    "import numpy as np\n",
    "import pandas as pd\n",
    "import matplotlib\n",
    "import matplotlib.pyplot as plt\n",
    "import sklearn.metrics as metrics\n",
    "from sklearn.model_selection import cross_val_score\n",
    "from sklearn import tree\n",
    "from sklearn.tree import DecisionTreeClassifier\n",
    "from sklearn.ensemble import RandomForestClassifier\n",
    "from sklearn.ensemble import AdaBoostClassifier\n",
    "from sklearn.linear_model import LogisticRegressionCV\n",
    "\n",
    "import random\n",
    "from sklearn.model_selection import KFold\n",
    "%matplotlib inline"
   ]
  },
  {
   "cell_type": "markdown",
   "metadata": {},
   "source": [
    "# Higgs Boson Discovery\n",
    "\n",
    "The discovery of the Higgs boson in July 2012 marked a fundamental breakthrough in particle physics. The Higgs boson particle was discovered through experiments at the Large Hadron Collider at CERN, by colliding beams of protons at high energy. A key challenge in analyzing the results of these experiments is to differentiate between a collision that produces Higgs bosons and collisions thats produce only background noise. We shall explore the use of ensemble methods for this classification task.\n",
    "\n",
    "You are provided with data from Monte-Carlo simulations of collisions of particles in a particle collider experiment. The training set is available in `Higgs_train.csv` and the test set is in `Higgs_test.csv`. Each row in these files corresponds to a particle colision described by 28 features (columns 1-28), of which the first 21 features are kinematic properties measured by the particle detectors in the accelerator, and the remaining features are derived by physicists from the the first 21 features. The class label is provided in the last column, with a label of 1 indicating that the collision produces Higgs bosons (signal), and a label of 0 indicating that the collision produces other particles (background). \n",
    "\n",
    "The data set provided to you is a small subset of the HIGGS data set in the UCI machine learning repository. The following paper contains further details about the data set and the predictors used: <a href = \"https://www.nature.com/articles/ncomms5308\">Baldi et al., Nature Communications 5, 2014</a>.\n"
   ]
  },
  {
   "cell_type": "markdown",
   "metadata": {},
   "source": [
    "## Question 1 (2pt): Single Decision Tree\n",
    "We start by building a basic model which we will use as our base model for comparison. \n",
    "\n",
    "1. Fit a decision tree model to the training set and report the classification accuracy of the model on the test set. Use 5-fold cross-validation to choose the (maximum) depth for the tree. You will use the max_depth you find here throughout the homework. \n"
   ]
  },
  {
   "cell_type": "code",
   "execution_count": 2,
   "metadata": {},
   "outputs": [
    {
     "data": {
      "text/html": [
       "<div>\n",
       "<style>\n",
       "    .dataframe thead tr:only-child th {\n",
       "        text-align: right;\n",
       "    }\n",
       "\n",
       "    .dataframe thead th {\n",
       "        text-align: left;\n",
       "    }\n",
       "\n",
       "    .dataframe tbody tr th {\n",
       "        vertical-align: top;\n",
       "    }\n",
       "</style>\n",
       "<table border=\"1\" class=\"dataframe\">\n",
       "  <thead>\n",
       "    <tr style=\"text-align: right;\">\n",
       "      <th></th>\n",
       "      <th>lepton_pT</th>\n",
       "      <th>_lepton_eta</th>\n",
       "      <th>_lepton_phi</th>\n",
       "      <th>_missing_energy_magnitude</th>\n",
       "      <th>_missing_energy_phi</th>\n",
       "      <th>_jet_1_pt</th>\n",
       "      <th>_jet_1_eta</th>\n",
       "      <th>_jet_1_phi</th>\n",
       "      <th>_jet_1_b-tag</th>\n",
       "      <th>_jet_2_pt</th>\n",
       "      <th>...</th>\n",
       "      <th>_jet_4_phi</th>\n",
       "      <th>_jet_4_b-tag</th>\n",
       "      <th>_m_jj</th>\n",
       "      <th>_m_jjj</th>\n",
       "      <th>_m_lv</th>\n",
       "      <th>_m_jlv</th>\n",
       "      <th>_m_bb</th>\n",
       "      <th>_m_wbb</th>\n",
       "      <th>_m_wwbb</th>\n",
       "      <th>_class</th>\n",
       "    </tr>\n",
       "  </thead>\n",
       "  <tbody>\n",
       "    <tr>\n",
       "      <th>0</th>\n",
       "      <td>0.376816</td>\n",
       "      <td>-1.583727</td>\n",
       "      <td>-1.707552</td>\n",
       "      <td>0.990897</td>\n",
       "      <td>0.114397</td>\n",
       "      <td>1.253553</td>\n",
       "      <td>0.619859</td>\n",
       "      <td>-1.479572</td>\n",
       "      <td>2.173076</td>\n",
       "      <td>0.753658</td>\n",
       "      <td>...</td>\n",
       "      <td>0.397156</td>\n",
       "      <td>0.000000</td>\n",
       "      <td>0.522449</td>\n",
       "      <td>1.318622</td>\n",
       "      <td>0.982398</td>\n",
       "      <td>1.359610</td>\n",
       "      <td>0.964809</td>\n",
       "      <td>1.309991</td>\n",
       "      <td>1.083203</td>\n",
       "      <td>1.0</td>\n",
       "    </tr>\n",
       "    <tr>\n",
       "      <th>1</th>\n",
       "      <td>0.707330</td>\n",
       "      <td>0.087603</td>\n",
       "      <td>-0.399742</td>\n",
       "      <td>0.918742</td>\n",
       "      <td>-1.229936</td>\n",
       "      <td>1.172847</td>\n",
       "      <td>-0.552574</td>\n",
       "      <td>0.886053</td>\n",
       "      <td>2.173076</td>\n",
       "      <td>1.298317</td>\n",
       "      <td>...</td>\n",
       "      <td>0.236231</td>\n",
       "      <td>0.000000</td>\n",
       "      <td>0.439696</td>\n",
       "      <td>0.828885</td>\n",
       "      <td>0.992241</td>\n",
       "      <td>1.157820</td>\n",
       "      <td>2.215780</td>\n",
       "      <td>1.189586</td>\n",
       "      <td>0.937976</td>\n",
       "      <td>1.0</td>\n",
       "    </tr>\n",
       "    <tr>\n",
       "      <th>2</th>\n",
       "      <td>0.617290</td>\n",
       "      <td>0.265839</td>\n",
       "      <td>-1.345227</td>\n",
       "      <td>1.154581</td>\n",
       "      <td>1.036646</td>\n",
       "      <td>0.954822</td>\n",
       "      <td>0.377252</td>\n",
       "      <td>-0.147960</td>\n",
       "      <td>0.000000</td>\n",
       "      <td>1.063507</td>\n",
       "      <td>...</td>\n",
       "      <td>-0.542413</td>\n",
       "      <td>0.000000</td>\n",
       "      <td>1.024506</td>\n",
       "      <td>1.026255</td>\n",
       "      <td>0.986289</td>\n",
       "      <td>0.927720</td>\n",
       "      <td>1.371080</td>\n",
       "      <td>0.981672</td>\n",
       "      <td>0.917436</td>\n",
       "      <td>1.0</td>\n",
       "    </tr>\n",
       "    <tr>\n",
       "      <th>3</th>\n",
       "      <td>0.850992</td>\n",
       "      <td>-0.380876</td>\n",
       "      <td>-0.071264</td>\n",
       "      <td>1.468704</td>\n",
       "      <td>-0.795133</td>\n",
       "      <td>0.691818</td>\n",
       "      <td>0.883260</td>\n",
       "      <td>0.496881</td>\n",
       "      <td>0.000000</td>\n",
       "      <td>1.616349</td>\n",
       "      <td>...</td>\n",
       "      <td>-1.520171</td>\n",
       "      <td>0.000000</td>\n",
       "      <td>1.197755</td>\n",
       "      <td>1.100534</td>\n",
       "      <td>0.987262</td>\n",
       "      <td>1.353453</td>\n",
       "      <td>1.455383</td>\n",
       "      <td>0.994682</td>\n",
       "      <td>0.953553</td>\n",
       "      <td>1.0</td>\n",
       "    </tr>\n",
       "    <tr>\n",
       "      <th>4</th>\n",
       "      <td>0.767540</td>\n",
       "      <td>-0.691572</td>\n",
       "      <td>-0.040191</td>\n",
       "      <td>0.614843</td>\n",
       "      <td>0.143765</td>\n",
       "      <td>0.748614</td>\n",
       "      <td>0.397057</td>\n",
       "      <td>-0.873640</td>\n",
       "      <td>0.000000</td>\n",
       "      <td>1.147862</td>\n",
       "      <td>...</td>\n",
       "      <td>0.502034</td>\n",
       "      <td>1.550981</td>\n",
       "      <td>0.921948</td>\n",
       "      <td>0.864080</td>\n",
       "      <td>0.982839</td>\n",
       "      <td>1.373222</td>\n",
       "      <td>0.601492</td>\n",
       "      <td>0.918621</td>\n",
       "      <td>0.957063</td>\n",
       "      <td>0.0</td>\n",
       "    </tr>\n",
       "  </tbody>\n",
       "</table>\n",
       "<p>5 rows × 29 columns</p>\n",
       "</div>"
      ],
      "text/plain": [
       "   lepton_pT  _lepton_eta  _lepton_phi  _missing_energy_magnitude  \\\n",
       "0   0.376816    -1.583727    -1.707552                   0.990897   \n",
       "1   0.707330     0.087603    -0.399742                   0.918742   \n",
       "2   0.617290     0.265839    -1.345227                   1.154581   \n",
       "3   0.850992    -0.380876    -0.071264                   1.468704   \n",
       "4   0.767540    -0.691572    -0.040191                   0.614843   \n",
       "\n",
       "   _missing_energy_phi  _jet_1_pt  _jet_1_eta  _jet_1_phi  _jet_1_b-tag  \\\n",
       "0             0.114397   1.253553    0.619859   -1.479572      2.173076   \n",
       "1            -1.229936   1.172847   -0.552574    0.886053      2.173076   \n",
       "2             1.036646   0.954822    0.377252   -0.147960      0.000000   \n",
       "3            -0.795133   0.691818    0.883260    0.496881      0.000000   \n",
       "4             0.143765   0.748614    0.397057   -0.873640      0.000000   \n",
       "\n",
       "   _jet_2_pt   ...    _jet_4_phi  _jet_4_b-tag     _m_jj    _m_jjj     _m_lv  \\\n",
       "0   0.753658   ...      0.397156      0.000000  0.522449  1.318622  0.982398   \n",
       "1   1.298317   ...      0.236231      0.000000  0.439696  0.828885  0.992241   \n",
       "2   1.063507   ...     -0.542413      0.000000  1.024506  1.026255  0.986289   \n",
       "3   1.616349   ...     -1.520171      0.000000  1.197755  1.100534  0.987262   \n",
       "4   1.147862   ...      0.502034      1.550981  0.921948  0.864080  0.982839   \n",
       "\n",
       "     _m_jlv     _m_bb    _m_wbb   _m_wwbb  _class  \n",
       "0  1.359610  0.964809  1.309991  1.083203     1.0  \n",
       "1  1.157820  2.215780  1.189586  0.937976     1.0  \n",
       "2  0.927720  1.371080  0.981672  0.917436     1.0  \n",
       "3  1.353453  1.455383  0.994682  0.953553     1.0  \n",
       "4  1.373222  0.601492  0.918621  0.957063     0.0  \n",
       "\n",
       "[5 rows x 29 columns]"
      ]
     },
     "execution_count": 2,
     "metadata": {},
     "output_type": "execute_result"
    }
   ],
   "source": [
    "train = pd.read_csv(\"Higgs_train.csv\")\n",
    "train.columns = train.columns.map(lambda x: x.replace(' ', '_'))\n",
    "X_train = train.iloc[:,:-1]\n",
    "y_train = train.iloc[:,-1]\n",
    "train.head()"
   ]
  },
  {
   "cell_type": "code",
   "execution_count": 3,
   "metadata": {},
   "outputs": [
    {
     "data": {
      "text/html": [
       "<div>\n",
       "<style>\n",
       "    .dataframe thead tr:only-child th {\n",
       "        text-align: right;\n",
       "    }\n",
       "\n",
       "    .dataframe thead th {\n",
       "        text-align: left;\n",
       "    }\n",
       "\n",
       "    .dataframe tbody tr th {\n",
       "        vertical-align: top;\n",
       "    }\n",
       "</style>\n",
       "<table border=\"1\" class=\"dataframe\">\n",
       "  <thead>\n",
       "    <tr style=\"text-align: right;\">\n",
       "      <th></th>\n",
       "      <th>lepton_pT</th>\n",
       "      <th>_lepton_eta</th>\n",
       "      <th>_lepton_phi</th>\n",
       "      <th>_missing_energy_magnitude</th>\n",
       "      <th>_missing_energy_phi</th>\n",
       "      <th>_jet_1_pt</th>\n",
       "      <th>_jet_1_eta</th>\n",
       "      <th>_jet_1_phi</th>\n",
       "      <th>_jet_1_b-tag</th>\n",
       "      <th>_jet_2_pt</th>\n",
       "      <th>...</th>\n",
       "      <th>_jet_4_phi</th>\n",
       "      <th>_jet_4_b-tag</th>\n",
       "      <th>_m_jj</th>\n",
       "      <th>_m_jjj</th>\n",
       "      <th>_m_lv</th>\n",
       "      <th>_m_jlv</th>\n",
       "      <th>_m_bb</th>\n",
       "      <th>_m_wbb</th>\n",
       "      <th>_m_wwbb</th>\n",
       "      <th>_class</th>\n",
       "    </tr>\n",
       "  </thead>\n",
       "  <tbody>\n",
       "    <tr>\n",
       "      <th>0</th>\n",
       "      <td>0.883751</td>\n",
       "      <td>-0.461715</td>\n",
       "      <td>0.196283</td>\n",
       "      <td>1.330217</td>\n",
       "      <td>1.522737</td>\n",
       "      <td>1.039467</td>\n",
       "      <td>-1.519038</td>\n",
       "      <td>-1.457952</td>\n",
       "      <td>2.173076</td>\n",
       "      <td>0.361469</td>\n",
       "      <td>...</td>\n",
       "      <td>-1.137282</td>\n",
       "      <td>0.000000</td>\n",
       "      <td>1.454688</td>\n",
       "      <td>0.790714</td>\n",
       "      <td>1.397708</td>\n",
       "      <td>1.250985</td>\n",
       "      <td>0.712875</td>\n",
       "      <td>0.811940</td>\n",
       "      <td>0.820693</td>\n",
       "      <td>1.0</td>\n",
       "    </tr>\n",
       "    <tr>\n",
       "      <th>1</th>\n",
       "      <td>0.780168</td>\n",
       "      <td>-0.292245</td>\n",
       "      <td>0.897072</td>\n",
       "      <td>0.384474</td>\n",
       "      <td>0.412700</td>\n",
       "      <td>1.215078</td>\n",
       "      <td>-0.466424</td>\n",
       "      <td>-0.920208</td>\n",
       "      <td>0.000000</td>\n",
       "      <td>1.104803</td>\n",
       "      <td>...</td>\n",
       "      <td>-0.091825</td>\n",
       "      <td>0.000000</td>\n",
       "      <td>0.812113</td>\n",
       "      <td>0.727805</td>\n",
       "      <td>0.975326</td>\n",
       "      <td>0.636811</td>\n",
       "      <td>0.569234</td>\n",
       "      <td>0.776607</td>\n",
       "      <td>0.715494</td>\n",
       "      <td>1.0</td>\n",
       "    </tr>\n",
       "    <tr>\n",
       "      <th>2</th>\n",
       "      <td>0.352659</td>\n",
       "      <td>-1.073368</td>\n",
       "      <td>-1.741953</td>\n",
       "      <td>1.174700</td>\n",
       "      <td>-0.198694</td>\n",
       "      <td>0.557980</td>\n",
       "      <td>0.057408</td>\n",
       "      <td>-1.491768</td>\n",
       "      <td>1.086538</td>\n",
       "      <td>0.911667</td>\n",
       "      <td>...</td>\n",
       "      <td>1.545824</td>\n",
       "      <td>0.000000</td>\n",
       "      <td>0.829461</td>\n",
       "      <td>1.060325</td>\n",
       "      <td>0.992326</td>\n",
       "      <td>0.824898</td>\n",
       "      <td>0.365448</td>\n",
       "      <td>0.800015</td>\n",
       "      <td>0.765989</td>\n",
       "      <td>0.0</td>\n",
       "    </tr>\n",
       "    <tr>\n",
       "      <th>3</th>\n",
       "      <td>0.757292</td>\n",
       "      <td>0.821975</td>\n",
       "      <td>-1.290851</td>\n",
       "      <td>0.207558</td>\n",
       "      <td>-0.150971</td>\n",
       "      <td>1.222224</td>\n",
       "      <td>-1.638856</td>\n",
       "      <td>1.531346</td>\n",
       "      <td>0.000000</td>\n",
       "      <td>1.683582</td>\n",
       "      <td>...</td>\n",
       "      <td>0.116925</td>\n",
       "      <td>3.101961</td>\n",
       "      <td>4.290139</td>\n",
       "      <td>2.415188</td>\n",
       "      <td>0.994889</td>\n",
       "      <td>0.923447</td>\n",
       "      <td>0.927035</td>\n",
       "      <td>1.755831</td>\n",
       "      <td>1.362970</td>\n",
       "      <td>1.0</td>\n",
       "    </tr>\n",
       "    <tr>\n",
       "      <th>4</th>\n",
       "      <td>2.038721</td>\n",
       "      <td>2.025801</td>\n",
       "      <td>-0.471873</td>\n",
       "      <td>0.423674</td>\n",
       "      <td>-1.497848</td>\n",
       "      <td>1.062186</td>\n",
       "      <td>0.798100</td>\n",
       "      <td>1.218678</td>\n",
       "      <td>2.173076</td>\n",
       "      <td>0.805279</td>\n",
       "      <td>...</td>\n",
       "      <td>-0.079062</td>\n",
       "      <td>3.101961</td>\n",
       "      <td>0.894990</td>\n",
       "      <td>0.936199</td>\n",
       "      <td>1.027161</td>\n",
       "      <td>1.559567</td>\n",
       "      <td>1.148236</td>\n",
       "      <td>1.115536</td>\n",
       "      <td>1.157044</td>\n",
       "      <td>1.0</td>\n",
       "    </tr>\n",
       "  </tbody>\n",
       "</table>\n",
       "<p>5 rows × 29 columns</p>\n",
       "</div>"
      ],
      "text/plain": [
       "   lepton_pT  _lepton_eta  _lepton_phi  _missing_energy_magnitude  \\\n",
       "0   0.883751    -0.461715     0.196283                   1.330217   \n",
       "1   0.780168    -0.292245     0.897072                   0.384474   \n",
       "2   0.352659    -1.073368    -1.741953                   1.174700   \n",
       "3   0.757292     0.821975    -1.290851                   0.207558   \n",
       "4   2.038721     2.025801    -0.471873                   0.423674   \n",
       "\n",
       "   _missing_energy_phi  _jet_1_pt  _jet_1_eta  _jet_1_phi  _jet_1_b-tag  \\\n",
       "0             1.522737   1.039467   -1.519038   -1.457952      2.173076   \n",
       "1             0.412700   1.215078   -0.466424   -0.920208      0.000000   \n",
       "2            -0.198694   0.557980    0.057408   -1.491768      1.086538   \n",
       "3            -0.150971   1.222224   -1.638856    1.531346      0.000000   \n",
       "4            -1.497848   1.062186    0.798100    1.218678      2.173076   \n",
       "\n",
       "   _jet_2_pt   ...    _jet_4_phi  _jet_4_b-tag     _m_jj    _m_jjj     _m_lv  \\\n",
       "0   0.361469   ...     -1.137282      0.000000  1.454688  0.790714  1.397708   \n",
       "1   1.104803   ...     -0.091825      0.000000  0.812113  0.727805  0.975326   \n",
       "2   0.911667   ...      1.545824      0.000000  0.829461  1.060325  0.992326   \n",
       "3   1.683582   ...      0.116925      3.101961  4.290139  2.415188  0.994889   \n",
       "4   0.805279   ...     -0.079062      3.101961  0.894990  0.936199  1.027161   \n",
       "\n",
       "     _m_jlv     _m_bb    _m_wbb   _m_wwbb  _class  \n",
       "0  1.250985  0.712875  0.811940  0.820693     1.0  \n",
       "1  0.636811  0.569234  0.776607  0.715494     1.0  \n",
       "2  0.824898  0.365448  0.800015  0.765989     0.0  \n",
       "3  0.923447  0.927035  1.755831  1.362970     1.0  \n",
       "4  1.559567  1.148236  1.115536  1.157044     1.0  \n",
       "\n",
       "[5 rows x 29 columns]"
      ]
     },
     "execution_count": 3,
     "metadata": {},
     "output_type": "execute_result"
    }
   ],
   "source": [
    "test = pd.read_csv(\"Higgs_test.csv\")\n",
    "test.columns = test.columns.map(lambda x: x.replace(' ', '_'))\n",
    "X_test = test.iloc[:,:-1]\n",
    "y_test = test.iloc[:,-1]\n",
    "test.head()"
   ]
  },
  {
   "cell_type": "code",
   "execution_count": 4,
   "metadata": {},
   "outputs": [
    {
     "name": "stdout",
     "output_type": "stream",
     "text": [
      "For depth of 2, 3, ..., 10:\n",
      "train scores are: \n",
      " [0.63859999999999995, 0.64219999999999999, 0.66020000000000001, 0.68200000000000005, 0.71060000000000001, 0.74280000000000002, 0.7752, 0.81579999999999997, 0.84660000000000002]\n",
      "test scores are: \n",
      " [0.64300000000000002, 0.64319999999999999, 0.64959999999999996, 0.64539999999999997, 0.65639999999999998, 0.64639999999999997, 0.62480000000000002, 0.62039999999999995, 0.626]\n"
     ]
    }
   ],
   "source": [
    "depths = [i for i in range(2, 11)]\n",
    "train_scores = []\n",
    "test_scores = []\n",
    "for depth in depths:\n",
    "    clf = DecisionTreeClassifier(max_depth = depth)\n",
    "    clf.fit(X_train,y_train)\n",
    "    train_scores.append(clf.score(X_train,y_train))\n",
    "    test_scores.append(clf.score(X_test,y_test))\n",
    "print(\"For depth of 2, 3, ..., 10:\")\n",
    "print(\"train scores are: \\n\", train_scores)\n",
    "print(\"test scores are: \\n\", test_scores)"
   ]
  },
  {
   "cell_type": "code",
   "execution_count": 5,
   "metadata": {},
   "outputs": [
    {
     "data": {
      "text/plain": [
       "[(2, 0.62320749580749579),\n",
       " (3, 0.62041149381149385),\n",
       " (4, 0.63580570720570717),\n",
       " (5, 0.63961210841210847),\n",
       " (6, 0.62660650320650313),\n",
       " (7, 0.62840750420750424),\n",
       " (8, 0.62540109820109824),\n",
       " (9, 0.62220769800769804),\n",
       " (10, 0.61680469620469613)]"
      ]
     },
     "execution_count": 5,
     "metadata": {},
     "output_type": "execute_result"
    }
   ],
   "source": [
    "total_scores = []\n",
    "for depth in depths:\n",
    "    clf = DecisionTreeClassifier(max_depth = depth)  \n",
    "    # Perform 5-fold cross validation \n",
    "    score = cross_val_score(estimator=clf, X=X_train, y=y_train, cv=5)\n",
    "    total_scores.append((depth, np.mean(score)))\n",
    "total_scores"
   ]
  },
  {
   "cell_type": "code",
   "execution_count": 6,
   "metadata": {},
   "outputs": [
    {
     "name": "stdout",
     "output_type": "stream",
     "text": [
      "The depth of the tree using 5-fold cross-validation is: 5\n"
     ]
    }
   ],
   "source": [
    "# max(total_scores, key=lambda x:x[1])\n",
    "best_depth = max(total_scores, key=lambda x:x[1])[0]\n",
    "print(\"The depth of the tree using 5-fold cross-validation is:\", best_depth)"
   ]
  },
  {
   "cell_type": "code",
   "execution_count": 7,
   "metadata": {},
   "outputs": [
    {
     "name": "stdout",
     "output_type": "stream",
     "text": [
      "classification accuracy on the test set is: 0.6454\n"
     ]
    }
   ],
   "source": [
    "clf = DecisionTreeClassifier(max_depth = best_depth)\n",
    "clf.fit(X_train,y_train)\n",
    "print(\"classification accuracy on the test set is:\", clf.score(X_test, y_test))"
   ]
  },
  {
   "cell_type": "markdown",
   "metadata": {},
   "source": [
    "## Question 2 (15pt): Dropout-based Approach\n",
    "We start with a simple method inspired from the idea of 'dropout' in machine learning, where we fit multiple decision trees on random subsets of predictors, and combine them through a majority vote. The procedure is described below.\n",
    "\n",
    "- For each predictor in the training sample, set the predictor values to 0 with probability $p$  (i.e. drop the predictor by setting it to 0). Repeat this for $B$ trials to create $B$ separate training sets.\n",
    "\n",
    "\n",
    "- Fit decision tree models $\\hat{h}^1(x), \\ldots, \\hat{h}^B(x) \\in \\{0,1\\}$ to the $B$ training sets.\n",
    "- Combine the decision tree models into a single classifier by taking a majority vote:\n",
    "$$\n",
    "\\hat{H}_{maj}(x) \\,=\\, majority\\Big(\\hat{h}^1(x), \\ldots, \\hat{h}^B(x)\\Big).\n",
    "$$\n",
    "\n",
    "\n",
    "We shall refer to the combined classifier as an ** *ensemble classifier* **. Implement the described dropout approach, and answer the following questions:\n",
    "1. Apply the dropout procedure with $p = 0.5$ for different number of trees (say $2, 4, 8, 16, \\ldots, 256$), and evaluate the training and test accuracy of the combined classifier. Does an increase in the number of trees improve the training and test performance? Explain your observations in terms of the bias-variance trade-off for the classifier.\n",
    "- Fix the number of trees to 64 and apply the dropout procedure with different dropout rates $p = 0.1, 0.3, 0.5, 0.7, 0.9$. Based on your results, explain how the dropout rate influences the bias and variance of the combined classifier.\n",
    "- Apply 5-fold cross-validation to choose the optimal combination of the dropout rate and number of trees. How does the test performance of an ensemble of trees fitted with the optimal dropout rate and number of trees compare with the single decision tree model in Question 1?\n",
    "[hint: Training with large number of trees can take long time. You may need to restrict the max number of trees.]"
   ]
  },
  {
   "cell_type": "markdown",
   "metadata": {},
   "source": [
    "#### Question 2.1: Apply the dropout procedure with $p = 0.5$ for different number of trees (say $2, 4, 8, 16, \\ldots, 256$), and evaluate the training and test accuracy of the combined classifier. Does an increase in the number of trees improve the training and test performance? Explain your observations in terms of the bias-variance trade-off for the classifier."
   ]
  },
  {
   "cell_type": "code",
   "execution_count": 8,
   "metadata": {
    "collapsed": true
   },
   "outputs": [],
   "source": [
    "tree_numbers = [2**i for i in range(1, 9)]\n",
    "true_train = y_train.tolist()\n",
    "true_test = y_test.tolist()\n",
    "N = len(true_train)"
   ]
  },
  {
   "cell_type": "code",
   "execution_count": 9,
   "metadata": {
    "collapsed": true
   },
   "outputs": [],
   "source": [
    "accuracy_train = []\n",
    "accuracy_test = []\n",
    "for B in tree_numbers:\n",
    "    \n",
    "    trees = []\n",
    "    for _ in range(B):\n",
    "        X_train_new = X_train.copy()\n",
    "        for c in list(X_train):\n",
    "            rand_number = random.random()  \n",
    "            if rand_number < 0.5:\n",
    "                X_train_new[c] = 0\n",
    "        dt = DecisionTreeClassifier(max_depth = 5, max_features=None, random_state=109)\n",
    "        trees.append(dt.fit(X_train_new, y_train))\n",
    "\n",
    "    tree_preds_train = []\n",
    "    tree_preds_test = []\n",
    "    for tree in trees:\n",
    "        tree_preds_train.append(tree.predict(X_train))\n",
    "        tree_preds_test.append(tree.predict(X_test))\n",
    "\n",
    "    predicted_train = pd.DataFrame(np.array(tree_preds_train)).T.mode(axis=1)[0].tolist()\n",
    "    predicted_test = pd.DataFrame(np.array(tree_preds_test)).T.mode(axis=1)[0].tolist()\n",
    "    \n",
    "    diff_train = [a - b for a, b in zip(true_train, predicted_train)]\n",
    "    diff_test = [a - b for a, b in zip(true_test, predicted_test)]\n",
    "    \n",
    "    correct_train = sum(1 for x in diff_train if x == 0)\n",
    "    correct_test = sum(1 for x in diff_test if x == 0)\n",
    "    \n",
    "    accuracy_train.append(correct_train / N)\n",
    "    accuracy_test.append(correct_test / N)"
   ]
  },
  {
   "cell_type": "code",
   "execution_count": 10,
   "metadata": {},
   "outputs": [
    {
     "name": "stdout",
     "output_type": "stream",
     "text": [
      "train accuracy for different number of trees 2, 4, 8, 16, ..., 256\n",
      " [0.658, 0.6904, 0.722, 0.7242, 0.7318, 0.7392, 0.7352, 0.7288]\n",
      "test accuracy for different number of trees 2, 4, 8, 16, ..., 256\n",
      " [0.6216, 0.637, 0.6738, 0.6706, 0.6862, 0.6834, 0.689, 0.6846]\n"
     ]
    }
   ],
   "source": [
    "print(\"train accuracy for different number of trees 2, 4, 8, 16, ..., 256\\n\", accuracy_train)\n",
    " \n",
    "print(\"test accuracy for different number of trees 2, 4, 8, 16, ..., 256\\n\", accuracy_test)"
   ]
  },
  {
   "cell_type": "markdown",
   "metadata": {},
   "source": [
    "#### Does an increase in the number of trees improve the training and test performance? Explain your observations in terms of the bias-variance trade-off for the classifier."
   ]
  },
  {
   "cell_type": "markdown",
   "metadata": {
    "collapsed": true
   },
   "source": [
    "- Yes. We can see that as the number of trees increases, the accuracy for both training and test data set increases.\n",
    "- Increase in the number of trees leads to the increase in varinace, since now we have different trees. It also leads to the decrease in bias because the probability to get the correct prediction increases, as we pick the majority vote among more trees' predictons."
   ]
  },
  {
   "cell_type": "markdown",
   "metadata": {},
   "source": [
    "#### Question 2.2: Fix the number of trees to 64 and apply the dropout procedure with different dropout rates $p = 0.1, 0.3, 0.5, 0.7, 0.9$. Based on your results, explain how the dropout rate influences the bias and variance of the combined classifier."
   ]
  },
  {
   "cell_type": "code",
   "execution_count": 11,
   "metadata": {
    "collapsed": true
   },
   "outputs": [],
   "source": [
    "rates = [0.1, 0.3, 0.5, 0.7, 0.9]\n",
    "\n",
    "accuracy_train_p = []\n",
    "accuracy_test_p = []\n",
    "\n",
    "for p in rates:\n",
    "    \n",
    "    trees = []\n",
    "    for _ in range(64):\n",
    "        X_train_new = X_train.copy()\n",
    "        for c in list(X_train):\n",
    "            rand_number = random.random()  \n",
    "            if rand_number < p:\n",
    "                X_train_new[c] = 0\n",
    "        dt = DecisionTreeClassifier(max_depth = 5, max_features=None, random_state=109)\n",
    "        trees.append(dt.fit(X_train_new, y_train))\n",
    "\n",
    "    tree_preds_train = []\n",
    "    tree_preds_test = []\n",
    "    for tree in trees:\n",
    "        tree_preds_train.append(tree.predict(X_train))\n",
    "        tree_preds_test.append(tree.predict(X_test))\n",
    "\n",
    "    predicted_train = pd.DataFrame(np.array(tree_preds_train)).T.mode(axis=1)[0].tolist()\n",
    "    predicted_test = pd.DataFrame(np.array(tree_preds_test)).T.mode(axis=1)[0].tolist()\n",
    "    \n",
    "    diff_train = [a - b for a, b in zip(true_train, predicted_train)]\n",
    "    diff_test = [a - b for a, b in zip(true_test, predicted_test)]\n",
    "    \n",
    "    correct_train = sum(1 for x in diff_train if x == 0)\n",
    "    correct_test = sum(1 for x in diff_test if x == 0)\n",
    "    \n",
    "    accuracy_train_p.append(correct_train / N)\n",
    "    accuracy_test_p.append(correct_test / N)"
   ]
  },
  {
   "cell_type": "code",
   "execution_count": 12,
   "metadata": {},
   "outputs": [
    {
     "name": "stdout",
     "output_type": "stream",
     "text": [
      "train accuracy with dropout rates 0.1, 0.3, 0.5, 0.7, 0.9: \n",
      " [0.6818, 0.7168, 0.7338, 0.7308, 0.6888]\n",
      "test accuracy with dropout rates 0.1, 0.3, 0.5, 0.7, 0.9: \n",
      " [0.6456, 0.6734, 0.688, 0.681, 0.6284]\n"
     ]
    }
   ],
   "source": [
    "print(\"train accuracy with dropout rates 0.1, 0.3, 0.5, 0.7, 0.9: \\n\", accuracy_train_p)\n",
    "print(\"test accuracy with dropout rates 0.1, 0.3, 0.5, 0.7, 0.9: \\n\", accuracy_test_p)"
   ]
  },
  {
   "cell_type": "markdown",
   "metadata": {},
   "source": [
    "#### Based on your results, explain how the dropout rate influences the bias and variance of the combined classifier."
   ]
  },
  {
   "cell_type": "markdown",
   "metadata": {},
   "source": [
    "- Simply looking at the trend, we can see that at first, as the dropout rate increases, the accuracy goes up; but as the dropout rate keeps increasing, the accuracy decreases.\n",
    "- Therefore, at the first stage when we increase the dropout rate, the variance of the model increases and the bias decreases. At the second stage, as the dropout rate keeps increasing, every model will be more different from each other since only a few predictors are used in each tree. Hence the variance keeps increasing, and since trees with not enough predictors underfits the dataset, and therefore bias is high."
   ]
  },
  {
   "cell_type": "markdown",
   "metadata": {},
   "source": [
    "#### Question 2.3: Apply 5-fold cross-validation to choose the optimal combination of the dropout rate and number of trees. How does the test performance of an ensemble of trees fitted with the optimal dropout rate and number of trees compare with the single decision tree model in Question 1?"
   ]
  },
  {
   "cell_type": "code",
   "execution_count": 13,
   "metadata": {
    "collapsed": true
   },
   "outputs": [],
   "source": [
    "combination = {}\n",
    "combination[(2,0.1)], combination[(2,0.3)], combination[(2,0.5)],  combination[(2,0.7)], combination[(2,0.9)], \\\n",
    "combination[(4,0.1)], combination[(4,0.3)], combination[(4,0.5)],  combination[(4,0.7)], combination[(4,0.9)], \\\n",
    "combination[(8,0.1)], combination[(8,0.3)], combination[(8,0.5)],  combination[(8,0.7)], combination[(8,0.9)], \\\n",
    "combination[(16,0.1)], combination[(16,0.3)], combination[(16,0.5)],  combination[(16,0.7)], combination[(16,0.9)], \\\n",
    "combination[(32,0.1)], combination[(32,0.3)], combination[(32,0.5)],  combination[(32,0.7)], combination[(32,0.9)], \\\n",
    "combination[(64,0.1)], combination[(64,0.3)], combination[(64,0.5)],  combination[(64,0.7)], combination[(64,0.9)], \\\n",
    "combination[(128,0.1)], combination[(128,0.3)], combination[(128,0.5)],  combination[(128,0.7)], combination[(128,0.9)], \\\n",
    "combination[(256,0.1)], combination[(256,0.3)], combination[(256,0.5)],  combination[(256,0.7)], combination[(256,0.9)], \\\n",
    "= ([] for i in range(40))\n"
   ]
  },
  {
   "cell_type": "code",
   "execution_count": 14,
   "metadata": {},
   "outputs": [],
   "source": [
    "for itrain, ivalid in KFold(n_splits=5, shuffle=True, random_state=9001).split(X_train.index):\n",
    "    X_train_cv = X_train.iloc[itrain,:]\n",
    "    y_train_cv = y_train.iloc[itrain]\n",
    "    X_valid_cv = X_train.iloc[ivalid,:]\n",
    "    y_valid_cv = y_train.iloc[ivalid]\n",
    "    \n",
    "    true_train_cv = y_train_cv.tolist()\n",
    "    true_valid_cv = y_valid_cv.tolist()\n",
    "\n",
    "\n",
    "    for B in tree_numbers:\n",
    "#         print(\"number of tree\", B)\n",
    "        for p in rates:\n",
    "#             print(\"rate\", p)\n",
    "            trees = []\n",
    "            for _ in range(B):\n",
    "                X_train_new = X_train_cv.copy()\n",
    "                for c in list(X_train_cv):\n",
    "                    rand_number = random.random()  \n",
    "                    if rand_number < p:\n",
    "                        X_train_new[c] = 0\n",
    "                dt = DecisionTreeClassifier(max_depth = 5, max_features=None, random_state=109)\n",
    "                trees.append(dt.fit(X_train_new, y_train_cv))\n",
    "#             tree_preds_train = []\n",
    "            tree_preds_valid = []\n",
    "            for tree in trees:\n",
    "#                 tree_preds_train.append(tree.predict(X_train_cv))\n",
    "                tree_preds_valid.append(tree.predict(X_valid_cv))\n",
    "\n",
    "#             predicted_train = pd.DataFrame(np.array(tree_preds_train)).T.mode(axis=1)[0].tolist()\n",
    "            predicted_valid = pd.DataFrame(np.array(tree_preds_valid)).T.mode(axis=1)[0].tolist()\n",
    "\n",
    "#             diff_train = [a - b for a, b in zip(true_train_cv, predicted_train)]\n",
    "            diff_valid = [a - b for a, b in zip(true_valid_cv, predicted_valid)]\n",
    "\n",
    "#             correct_train = sum(1 for x in diff_train if x == 0) / len(X_valid_cv)\n",
    "            correct_valid = sum(1 for x in diff_valid if x == 0) / len(X_valid_cv)\n",
    "#             print(correct_valid)\n",
    "            \n",
    "            combination[(B,p)].append(correct_valid)"
   ]
  },
  {
   "cell_type": "code",
   "execution_count": 15,
   "metadata": {},
   "outputs": [],
   "source": [
    "# combination"
   ]
  },
  {
   "cell_type": "code",
   "execution_count": 16,
   "metadata": {},
   "outputs": [],
   "source": [
    "for key, value in combination.items():\n",
    "    combination[key] = sum(value) / len(value)\n",
    "best_combi = max(combination, key=combination.get)\n",
    "# combination\n",
    "# best_combi"
   ]
  },
  {
   "cell_type": "code",
   "execution_count": 17,
   "metadata": {},
   "outputs": [
    {
     "name": "stdout",
     "output_type": "stream",
     "text": [
      "best combination is: (128, 0.5)\n"
     ]
    }
   ],
   "source": [
    "print(\"best combination is:\", best_combi)\n",
    "best_tree_n = best_combi[0]"
   ]
  },
  {
   "cell_type": "code",
   "execution_count": 18,
   "metadata": {
    "collapsed": true
   },
   "outputs": [],
   "source": [
    "trees = []\n",
    "for _ in range(best_tree_n):\n",
    "    X_train_new = X_train.copy()\n",
    "    for c in list(X_train):\n",
    "        rand_number = random.random()  \n",
    "        if rand_number < 0.5:\n",
    "            X_train_new[c] = 0\n",
    "    dt = DecisionTreeClassifier(max_depth = 5, max_features=None, random_state=109)\n",
    "    trees.append(dt.fit(X_train_new, y_train))\n",
    "\n",
    "tree_preds_train = []\n",
    "tree_preds_test = []\n",
    "for tree in trees:\n",
    "    tree_preds_train.append(tree.predict(X_train))\n",
    "    tree_preds_test.append(tree.predict(X_test))\n",
    "\n",
    "predicted_train = pd.DataFrame(np.array(tree_preds_train)).T.mode(axis=1)[0].tolist()\n",
    "predicted_test = pd.DataFrame(np.array(tree_preds_test)).T.mode(axis=1)[0].tolist()\n",
    "    \n",
    "diff_train = [a - b for a, b in zip(true_train, predicted_train)]\n",
    "diff_test = [a - b for a, b in zip(true_test, predicted_test)]\n",
    "    \n",
    "correct_train = sum(1 for x in diff_train if x == 0)\n",
    "correct_test = sum(1 for x in diff_test if x == 0)\n",
    "    \n",
    "accuracy_train_best = correct_train / N\n",
    "accuracy_test_best = correct_test / N"
   ]
  },
  {
   "cell_type": "code",
   "execution_count": 19,
   "metadata": {},
   "outputs": [
    {
     "name": "stdout",
     "output_type": "stream",
     "text": [
      "an ensemble of trees fitted with the optimal dropout rate 0.5 and number of trees 128:\n",
      "training accuracy: 0.7368\n",
      "test accuracy: 0.6824\n"
     ]
    }
   ],
   "source": [
    "print(\"an ensemble of trees fitted with the optimal dropout rate 0.5 and number of trees {}:\".format(best_tree_n))\n",
    "print(\"training accuracy:\", accuracy_train_best)\n",
    "print(\"test accuracy:\", accuracy_test_best)"
   ]
  },
  {
   "cell_type": "markdown",
   "metadata": {},
   "source": [
    "#### How does the test performance of an ensemble of trees fitted with the optimal dropout rate and number of trees compare with the single decision tree model in Question 1?¶"
   ]
  },
  {
   "cell_type": "markdown",
   "metadata": {},
   "source": [
    "- The single decision tree model in Question 1 gives accuracy 0.645 on the test set, whereas this ensemble of trees gives accuracy 0.682 on the test set, which is better than the former method."
   ]
  },
  {
   "cell_type": "markdown",
   "metadata": {},
   "source": [
    "## Question 3 (15pt): Random Forests\n",
    "\n",
    "We now move to a more sophisticated ensemble technique, namely random forest:\n",
    "1. How does a random forest approach differ from the dropout procedure described in Question 2? \n",
    " \n",
    "- Fit random forest models to the training set for different number of trees (say $2, 4, 8, 16, \\ldots, 256$), and evaluate the training and test accuracies of the models. You may set the number of predictors for each tree in the random forest model to $\\sqrt{p}$, where $p$ is the total number of predictors. \n",
    "\n",
    "- Based on your results, do you find that a larger number of trees necessarily improves the test accuracy of a random forest model? Explain how the number of trees effects the training and test accuracy of a random forest classifier, and how this relates to the bias-variance trade-off for the classifier. \n",
    "  \n",
    "- Fixing the number of trees to a reasonable value, apply 5-fold cross-validation to choose the optimal value for the  number of predictors. How does the test performance of random forest model fitted with the optimal number of trees compare with the dropout approach in Question 2?  \n",
    "\n",
    "\n",
    "\n"
   ]
  },
  {
   "cell_type": "markdown",
   "metadata": {
    "collapsed": true
   },
   "source": [
    "#### Quesrion 3.1: How does a random forest approach differ from the dropout procedure described in Question 2?"
   ]
  },
  {
   "cell_type": "markdown",
   "metadata": {
    "collapsed": true
   },
   "source": [
    "- Random forest first bootstraps samples from the entire training set, but the dropout procedure uses full dataset.\n",
    "- Random forest randomly picks a certain number of predictors ($\\sqrt{p}$ in this problem), whereas the dropout procedure has a tunable probability to select each predictor."
   ]
  },
  {
   "cell_type": "markdown",
   "metadata": {},
   "source": [
    "#### Quesrion 3.2: Fit random forest models to the training set for different number of trees (say $2, 4, 8, 16, \\ldots, 256$), and evaluate the training and test accuracies of the models. You may set the number of predictors for each tree in the random forest model to $\\sqrt{p}$, where $p$ is the total number of predictors. "
   ]
  },
  {
   "cell_type": "code",
   "execution_count": 20,
   "metadata": {},
   "outputs": [
    {
     "name": "stdout",
     "output_type": "stream",
     "text": [
      "Number of trees: 2\n",
      "Train score: 0.668\n",
      "Test score: 0.6284\n",
      "Number of trees: 4\n",
      "Train score: 0.6892\n",
      "Test score: 0.6576\n",
      "Number of trees: 8\n",
      "Train score: 0.7148\n",
      "Test score: 0.6604\n",
      "Number of trees: 16\n",
      "Train score: 0.7156\n",
      "Test score: 0.6676\n",
      "Number of trees: 32\n",
      "Train score: 0.7228\n",
      "Test score: 0.6848\n",
      "Number of trees: 64\n",
      "Train score: 0.729\n",
      "Test score: 0.6878\n",
      "Number of trees: 128\n",
      "Train score: 0.7362\n",
      "Test score: 0.6874\n",
      "Number of trees: 256\n",
      "Train score: 0.741\n",
      "Test score: 0.691\n"
     ]
    }
   ],
   "source": [
    "rf_train_scores = []\n",
    "rf_test_scores = []\n",
    "for t in tree_numbers:\n",
    "    print(\"Number of trees:\", t)\n",
    "    rf = RandomForestClassifier(n_estimators=t, max_depth=5, max_features=\"sqrt\", random_state=109) # unrestricted depth because of random forest\n",
    "    rf.fit(X_train, y_train)\n",
    "    rf_train_scores.append(rf.score(X_train, y_train))\n",
    "    print(\"Train score:\", rf.score(X_train, y_train))\n",
    "    rf_test_scores.append(rf.score(X_test, y_test))\n",
    "    print(\"Test score:\", rf.score(X_test, y_test))"
   ]
  },
  {
   "cell_type": "markdown",
   "metadata": {},
   "source": [
    "#### Question 3.3: Based on your results, do you find that a larger number of trees necessarily improves the test accuracy of a random forest model? Explain how the number of trees effects the training and test accuracy of a random forest classifier, and how this relates to the bias-variance trade-off for the classifier."
   ]
  },
  {
   "cell_type": "code",
   "execution_count": 21,
   "metadata": {},
   "outputs": [
    {
     "data": {
      "image/png": "[encoded data removed]",
      "text/plain": [
       "<matplotlib.figure.Figure at 0x1a15b6a4a8>"
      ]
     },
     "metadata": {},
     "output_type": "display_data"
    }
   ],
   "source": [
    "plt.figure(figsize=(8, 6))\n",
    "# x = [1,2,3,4,5,6,7,8]\n",
    "plt.plot(tree_numbers, rf_train_scores, marker='o', label=\"train\")\n",
    "plt.plot(tree_numbers, rf_test_scores, marker='o', label=\"test\")\n",
    "plt.xlabel(\"Number of Trees\")\n",
    "plt.ylabel(\"Accuracy Scores\")\n",
    "# plt.xticks(x, tree_numbers)\n",
    "plt.legend()\n",
    "plt.show()"
   ]
  },
  {
   "cell_type": "markdown",
   "metadata": {},
   "source": [
    "- A larger number of trees improves the test accuracy. The improvement is rapid at first, but slows down when the number of trees is already large enough.\n",
    "- As the number of trees increases, both of the training accuracy and test accuracy goes up. The increase is initially very fast; however, the increase slows down later and tends to stay at the same level.\n",
    "- Bias-variance trade-off: Random forest can only decrease variance, not bias, and we know that error = variance + bias. This is because the error of the entire forest is roughly equal to the bias of a single tree, and to lower the bias, we need to let the tree grow very deep. In random forests, we usually allow the depth of the individual trees to be unrestricted. But in this problem, we restrict the max depth to be 5, so the bias is not low initially. As we increase the number of trees, the variance is decreasing. But at some point, there is no need to add more trees because it cannot decrease variance anymore. So the accuracy score will converge."
   ]
  },
  {
   "cell_type": "markdown",
   "metadata": {},
   "source": [
    "#### Question 3.4: Fixing the number of trees to a reasonable value, apply 5-fold cross-validation to choose the optimal value for the  number of predictors. How does the test performance of random forest model fitted with the optimal number of trees compare with the dropout approach in Question 2? "
   ]
  },
  {
   "cell_type": "code",
   "execution_count": 22,
   "metadata": {},
   "outputs": [
    {
     "name": "stdout",
     "output_type": "stream",
     "text": [
      "reasonable number of trees: 64\n"
     ]
    }
   ],
   "source": [
    "# choose optimum as smallest number of trees \"sufficiently\" close to maximum train accuracy\n",
    "for i in range(len(rf_test_scores)):\n",
    "    if np.max(rf_test_scores)-rf_test_scores[i]<0.005:\n",
    "        n_trees_optimal=i+1\n",
    "        break\n",
    "\n",
    "print(\"reasonable number of trees:\", 2**n_trees_optimal)"
   ]
  },
  {
   "cell_type": "code",
   "execution_count": 23,
   "metadata": {
    "collapsed": true
   },
   "outputs": [],
   "source": [
    "accuracy_train_cv = np.zeros((29,5))\n",
    "accuracy_valid_cv = np.zeros((29,5))\n",
    "\n",
    "fold_ctr = 0\n",
    "\n",
    "for itrain, ivalid in KFold(n_splits=5, shuffle=True, random_state=9001).split(X_train.index):\n",
    "    X_train_cv = X_train.iloc[itrain,:]\n",
    "    y_train_cv = y_train.iloc[itrain]\n",
    "    X_valid_cv = X_train.iloc[ivalid,:]\n",
    "    y_valid_cv = y_train.iloc[ivalid]\n",
    "    \n",
    "    for i in range(1,29):\n",
    "#         print(\"max_feature =\", i)\n",
    "        rf = RandomForestClassifier(n_estimators=64, max_depth = 5, max_features=i, random_state=109)\n",
    "        rf.fit(X_train_cv, y_train_cv)\n",
    "        \n",
    "        accuracy_train_cv[i,fold_ctr] = rf.score(X_train_cv, y_train_cv)\n",
    "        accuracy_valid_cv[i,fold_ctr] = rf.score(X_valid_cv, y_valid_cv)\n",
    "        \n",
    "    fold_ctr += 1"
   ]
  },
  {
   "cell_type": "code",
   "execution_count": 24,
   "metadata": {
    "collapsed": true
   },
   "outputs": [],
   "source": [
    "# accuracy_train_cv[1:], accuracy_valid_cv[1:]"
   ]
  },
  {
   "cell_type": "code",
   "execution_count": 25,
   "metadata": {
    "collapsed": true
   },
   "outputs": [],
   "source": [
    "scores_train = np.mean(accuracy_train_cv, axis=1)[1:]      \n",
    "scores_valid = np.mean(accuracy_valid_cv, axis=1)[1:]"
   ]
  },
  {
   "cell_type": "code",
   "execution_count": 26,
   "metadata": {},
   "outputs": [
    {
     "name": "stdout",
     "output_type": "stream",
     "text": [
      "maximum validation accuracy using 7 predictors\n"
     ]
    }
   ],
   "source": [
    "# choose optimum as smallest number of components \"sufficiently\" close to maximum validation accuracy\n",
    "for i in range(len(scores_valid)):\n",
    "    if np.max(scores_valid)-scores_valid[i]<0.005:\n",
    "        n_predictors_optimal=i+1\n",
    "        break\n",
    "\n",
    "print(\"maximum validation accuracy using %i predictors\" % n_predictors_optimal)"
   ]
  },
  {
   "cell_type": "code",
   "execution_count": 27,
   "metadata": {},
   "outputs": [
    {
     "name": "stdout",
     "output_type": "stream",
     "text": [
      "Test accuracy with 64 trees and 7 features: 0.6954\n"
     ]
    }
   ],
   "source": [
    "rf = RandomForestClassifier(n_estimators=64, max_depth = 5, max_features=n_predictors_optimal)\n",
    "rf.fit(X_train, y_train)\n",
    "print(\"Test accuracy with 64 trees and 7 features:\", rf.score(X_test, y_test))"
   ]
  },
  {
   "cell_type": "markdown",
   "metadata": {},
   "source": [
    "#### How does the test performance of random forest model fitted with the optimal number of trees compare with the dropout approach in Question 2?"
   ]
  },
  {
   "cell_type": "markdown",
   "metadata": {
    "collapsed": true
   },
   "source": [
    "- The test performance of random forest model with the optimal number of trees on the test set is 0.695, whereas the perfomance of the dropout approach on the test set is 0.682. So the random forest model is a little better than the dropout approach."
   ]
  },
  {
   "cell_type": "markdown",
   "metadata": {},
   "source": [
    "## Question 4 (15pt): Boosting\n",
    "\n",
    "We next compare the random forest model with the approach of boosting:\n",
    "\n",
    "\n",
    "1. Apply the AdaBoost algorithm to fit an ensemble of decision trees. Set the learning rate to 0.05, and try out different tree depths for the base learners: 1, 2, 10, and unrestricted depth.  Make a plot of the training accuracy of the ensemble classifier as a function of tree depths. Make a similar plot of the test accuracies as a function of number of trees (say $2, 4, 8, 16, \\ldots, 256$).\n",
    "- How does the number of trees influence the training and test performance? Compare and contrast between the trends you see in the training and test performance of AdaBoost and that of the random forest models in Question 3. Give an explanation for your observations.\n",
    "- How does the tree depth of the base learner impact the training and test performance? Recall that with random forests, we allow the depth of the individual trees to be unrestricted. Would you recommend the same strategy for boosting? Explain your answer.\n",
    "- Apply 5-fold cross-validation to choose the optimal number of trees $B$ for the ensemble and the optimal tree depth for the base learners. How does an ensemble classifier fitted with the optimal number of trees and the optimal tree depth compare with the random forest model fitted in Question 3.4? \n",
    "\n"
   ]
  },
  {
   "cell_type": "markdown",
   "metadata": {},
   "source": [
    "#### Question 4.1: Apply the AdaBoost algorithm to fit an ensemble of decision trees. Set the learning rate to 0.05, and try out different tree depths for the base learners: 1, 2, 10, and unrestricted depth.  Make a plot of the training accuracy of the ensemble classifier as a function of tree depths. Make a similar plot of the test accuracies as a function of number of trees (say $2, 4, 8, 16, \\ldots, 256$)."
   ]
  },
  {
   "cell_type": "code",
   "execution_count": 28,
   "metadata": {
    "collapsed": true
   },
   "outputs": [],
   "source": [
    "s1_train = []\n",
    "s1_test = []\n",
    "for b in [1, 2, 10, None]:\n",
    "#     print(\"Tree depths for the base learners:\", b)\n",
    "    s2_train = []\n",
    "    s2_test = []\n",
    "    for n in tree_numbers:\n",
    "#         print(\"Number of trees:\", n)\n",
    "        adaboost = AdaBoostClassifier(DecisionTreeClassifier(max_depth=b), n_estimators=n, learning_rate=0.05)\n",
    "        adaboost.fit(X_train, y_train)\n",
    "        s2_train.append(adaboost.score(X_train, y_train))\n",
    "        s2_test.append(adaboost.score(X_test, y_test))\n",
    "#         print(\"Train score:\", adaboost.score(X_train, y_train))\n",
    "#         print(\"Test score:\", adaboost.score(X_test, y_test))\n",
    "    s1_train.append(s2_train)\n",
    "    s1_test.append(s2_test)   "
   ]
  },
  {
   "cell_type": "code",
   "execution_count": 29,
   "metadata": {
    "collapsed": true
   },
   "outputs": [],
   "source": [
    "# s1_train"
   ]
  },
  {
   "cell_type": "code",
   "execution_count": 30,
   "metadata": {},
   "outputs": [
    {
     "data": {
      "image/png": "[encoded data removed]",
      "text/plain": [
       "<matplotlib.figure.Figure at 0x1a158aa668>"
      ]
     },
     "metadata": {},
     "output_type": "display_data"
    }
   ],
   "source": [
    "# as a function of tree depth (train set):\n",
    "n_trees_2_train = [item[0] for item in s1_train]\n",
    "n_trees_4_train = [item[1] for item in s1_train]\n",
    "n_trees_8_train = [item[2] for item in s1_train]\n",
    "n_trees_16_train = [item[3] for item in s1_train]\n",
    "n_trees_32_train = [item[4] for item in s1_train]\n",
    "n_trees_64_train = [item[5] for item in s1_train]\n",
    "n_trees_128_train = [item[6] for item in s1_train]\n",
    "n_trees_256_train = [item[7] for item in s1_train]\n",
    "\n",
    "plt.figure(figsize=(8, 6))\n",
    "labels = ['1', '2', '10', 'None']\n",
    "x = [1,2,3,4]\n",
    "plt.plot(x, n_trees_2_train, marker='o', label=\"tree=2\", alpha=0.8)\n",
    "plt.plot(x, n_trees_4_train, marker='o', label=\"tree=4\", alpha=0.8)\n",
    "plt.plot(x, n_trees_8_train, marker='o', label=\"tree=8\", alpha=0.8)\n",
    "plt.plot(x, n_trees_16_train, marker='o', label=\"tree=16\", alpha=0.8)\n",
    "plt.plot(x, n_trees_32_train, marker='o', label=\"tree=32\", alpha=0.8)\n",
    "plt.plot(x, n_trees_64_train, marker='o', label=\"tree=64\", alpha=0.8)\n",
    "plt.plot(x, n_trees_128_train, marker='o', label=\"tree=128\", alpha=0.8)\n",
    "plt.plot(x, n_trees_256_train, marker='o', label=\"tree=256\", alpha=0.8)\n",
    "plt.xticks(x, labels)\n",
    "plt.xlabel(\"Tree Depth\")\n",
    "plt.ylabel(\"Training Accuracy Scores\")\n",
    "plt.legend()\n",
    "plt.show()"
   ]
  },
  {
   "cell_type": "code",
   "execution_count": 31,
   "metadata": {},
   "outputs": [
    {
     "data": {
      "image/png": "[encoded data removed]",
      "text/plain": [
       "<matplotlib.figure.Figure at 0x1a158a6fd0>"
      ]
     },
     "metadata": {},
     "output_type": "display_data"
    }
   ],
   "source": [
    "# as a function of number of trees:\n",
    "plt.figure(figsize=(8, 6))\n",
    "labels = ['2', '4', '8', '16', '32', '64', '128', '256']\n",
    "x = [1,2,3,4,5,6,7,8]\n",
    "plt.plot(x, s1_train[0], marker='o', label=\"depth=1\", alpha=0.8)\n",
    "plt.plot(x, s1_train[1], marker='o', label=\"depth=2\", alpha=0.8)\n",
    "plt.plot(x, s1_train[2], marker='o', label=\"depth=10\", alpha=0.8)\n",
    "plt.plot(x, s1_train[3], marker='o', label=\"depth unrestricted\", alpha=0.8)\n",
    "\n",
    "plt.xticks(x, labels)\n",
    "plt.xlabel(\"Number of Trees\")\n",
    "plt.ylabel(\"Training Accuracy Scores\")\n",
    "plt.legend()\n",
    "plt.show()"
   ]
  },
  {
   "cell_type": "markdown",
   "metadata": {},
   "source": [
    "#### Question 4.2: How does the number of trees influence the training and test performance? Compare and contrast between the trends you see in the training and test performance of AdaBoost and that of the random forest models in Question 3. Give an explanation for your observations."
   ]
  },
  {
   "cell_type": "code",
   "execution_count": 32,
   "metadata": {},
   "outputs": [
    {
     "data": {
      "image/png": "[encoded data removed]",
      "text/plain": [
       "<matplotlib.figure.Figure at 0x1a1619e7b8>"
      ]
     },
     "metadata": {},
     "output_type": "display_data"
    }
   ],
   "source": [
    "f, (ax1, ax2) = plt.subplots(1, 2, figsize=(10,6))\n",
    "\n",
    "labels = ['2', '4', '8', '16', '32', '64', '128', '256']\n",
    "x = [1,2,3,4,5,6,7,8]\n",
    "ax1.plot(x, s1_train[0], marker='o', label=\"depth=1\", alpha=0.8)\n",
    "ax1.plot(x, s1_train[1], marker='o', label=\"depth=2\", alpha=0.8)\n",
    "ax1.plot(x, s1_train[2], marker='o', label=\"depth=10\", alpha=0.8)\n",
    "ax1.plot(x, s1_train[3], marker='o', label=\"depth unrestricted\", alpha=0.8)\n",
    "\n",
    "ax1.set_xticks(x)\n",
    "ax1.set_xticklabels(labels)\n",
    "ax1.set_xlabel(\"Number of Trees\")\n",
    "ax1.set_ylabel(\"Train Accuracy Scores\")\n",
    "ax1.legend()\n",
    "\n",
    "\n",
    "ax2.plot(x, s1_test[0], marker='o', label=\"depth=1\", alpha=0.8)\n",
    "ax2.plot(x, s1_test[1], marker='o', label=\"depth=2\", alpha=0.8)\n",
    "ax2.plot(x, s1_test[2], marker='o', label=\"depth=10\", alpha=0.8)\n",
    "ax2.plot(x, s1_test[3], marker='o', label=\"depth unrestricted\", alpha=0.8)\n",
    "\n",
    "ax2.set_xticks(x)\n",
    "ax2.set_xticklabels(labels)\n",
    "ax2.set_xlabel(\"Number of Trees\")\n",
    "ax2.set_ylabel(\"Test Accuracy Scores\")\n",
    "ax2.legend()\n",
    "plt.show()"
   ]
  },
  {
   "cell_type": "markdown",
   "metadata": {
    "collapsed": true
   },
   "source": [
    "#### How does the number of trees influence the training and test performance?\n",
    "- As the number of trees increases, the training accuracy increases as well.\n",
    "- As the number of trees increases, the test accuracy for models with restricted depths has a general trend of increasing, but for example, when the depth is 10, there is a drop in the middle followed by an increase again. For the case of unrestricted depth, the test accuracy stays about the same no matter how big the number of trees is.\n",
    "\n",
    "#### Compare and contrast between the trends you see in the training and test performance of AdaBoost and that of the random forest models in Question 3. Give an explanation for your observations.\n",
    "- In the random forest models, the training and test performance have similar trend that as the number of trees increases, the accuracy score increases fast at the beginning and soon converges to a certain value.\n",
    "- In the AdaBoost models, we can see that the training performance has a similar trend as in the random forest models; however, the test performance is different. For small depth like 1 or 2, the test score increases as the number of trees increases; but when depth gets larger, its test score is not as good as before, and sometimes decreases and the number of trees goes up. Especially, the AdaBoost model with unrestricted depth has the lowest test score among all the four depths.\n",
    "- In practice, random forest seldom overfits the data due to the increase of the number of trees. This is because it randomly selects predictors for each tree model, and while some tree may overfit, some other tree can underfit and therefore the result cancels each other out.\n",
    "- For AdaBoost, it is robust for overfitting because it is a boosting ensemble method, and therefore the test performance seldom decreases as the number of trees increases. But we can see that for AdaBoost, maybe a simple base learner such as depth of 1 or 2 decision trees will perform better."
   ]
  },
  {
   "cell_type": "markdown",
   "metadata": {},
   "source": [
    "#### Question 4.3: How does the tree depth of the base learner impact the training and test performance? Recall that with random forests, we allow the depth of the individual trees to be unrestricted. Would you recommend the same strategy for boosting? Explain your answer."
   ]
  },
  {
   "cell_type": "code",
   "execution_count": 33,
   "metadata": {},
   "outputs": [
    {
     "data": {
      "image/png": "[encoded data removed]",
      "text/plain": [
       "<matplotlib.figure.Figure at 0x1a15845a58>"
      ]
     },
     "metadata": {},
     "output_type": "display_data"
    }
   ],
   "source": [
    "# as a function of tree depth (test set):\n",
    "n_trees_2_test = [item[0] for item in s1_test]\n",
    "n_trees_4_test = [item[1] for item in s1_test]\n",
    "n_trees_8_test = [item[2] for item in s1_test]\n",
    "n_trees_16_test = [item[3] for item in s1_test]\n",
    "n_trees_32_test = [item[4] for item in s1_test]\n",
    "n_trees_64_test = [item[5] for item in s1_test]\n",
    "n_trees_128_test = [item[6] for item in s1_test]\n",
    "n_trees_256_test = [item[7] for item in s1_test]\n",
    "\n",
    "f, (ax1, ax2) = plt.subplots(1, 2, figsize=(10,6))\n",
    "labels = ['1', '2', '10', 'None']\n",
    "x = [1,2,3,4]\n",
    "\n",
    "ax1.plot(x, n_trees_2_train, marker='o', label=\"tree=2\", alpha=0.8)\n",
    "ax1.plot(x, n_trees_4_train, marker='o', label=\"tree=4\", alpha=0.8)\n",
    "ax1.plot(x, n_trees_8_train, marker='o', label=\"tree=8\", alpha=0.8)\n",
    "ax1.plot(x, n_trees_16_train, marker='o', label=\"tree=16\", alpha=0.8)\n",
    "ax1.plot(x, n_trees_32_train, marker='o', label=\"tree=32\", alpha=0.8)\n",
    "ax1.plot(x, n_trees_64_train, marker='o', label=\"tree=64\", alpha=0.8)\n",
    "ax1.plot(x, n_trees_128_train, marker='o', label=\"tree=128\", alpha=0.8)\n",
    "ax1.plot(x, n_trees_256_train, marker='o', label=\"tree=256\", alpha=0.8)\n",
    "ax1.set_xticks(x)\n",
    "ax1.set_xticklabels(labels)\n",
    "ax1.set_xlabel(\"Tree Depth\")\n",
    "ax1.set_ylabel(\"Train Accuracy Scores\")\n",
    "ax1.legend()\n",
    "\n",
    "ax2.plot(x, n_trees_2_test, marker='o', label=\"tree=2\", alpha=0.8)\n",
    "ax2.plot(x, n_trees_4_test, marker='o', label=\"tree=4\", alpha=0.8)\n",
    "ax2.plot(x, n_trees_8_test, marker='o', label=\"tree=8\", alpha=0.8)\n",
    "ax2.plot(x, n_trees_16_test, marker='o', label=\"tree=16\", alpha=0.8)\n",
    "ax2.plot(x, n_trees_32_test, marker='o', label=\"tree=32\", alpha=0.8)\n",
    "ax2.plot(x, n_trees_64_test, marker='o', label=\"tree=64\", alpha=0.8)\n",
    "ax2.plot(x, n_trees_128_test, marker='o', label=\"tree=128\", alpha=0.8)\n",
    "ax2.plot(x, n_trees_256_test, marker='o', label=\"tree=256\", alpha=0.8)\n",
    "ax2.set_xticks(x)\n",
    "ax2.set_xticklabels(labels)\n",
    "ax2.set_xlabel(\"Tree Depth\")\n",
    "ax2.set_ylabel(\"Test Accuracy Scores\")\n",
    "ax2.legend()\n",
    "plt.show()"
   ]
  },
  {
   "cell_type": "markdown",
   "metadata": {
    "collapsed": true
   },
   "source": [
    "- We can see that as tree depth increases, trian performance increases but test performance decreases. So a complicated base learner model can cause overfitting in AdaBoost models. I think the explanation is that if the base learner model is already complex enough, then there is not much to improve at each step, which leads to overfitting.\n",
    "- We allow Random Forest to have fully-grown trees, but for AdaBoost, I don't think this is a good idea, based on the above plots. Fully-grown trees in AdaBoost causes overfitting and drop in test score."
   ]
  },
  {
   "cell_type": "markdown",
   "metadata": {},
   "source": [
    "#### Question 4.4: Apply 5-fold cross-validation to choose the optimal number of trees $B$ for the ensemble and the optimal tree depth for the base learners. How does an ensemble classifier fitted with the optimal number of trees and the optimal tree depth compare with the random forest model fitted in Question 3.4?"
   ]
  },
  {
   "cell_type": "code",
   "execution_count": 34,
   "metadata": {
    "collapsed": true
   },
   "outputs": [],
   "source": [
    "train_cv_n_tree = np.zeros((9,5))\n",
    "valid_cv_n_tree = np.zeros((9,5))\n",
    "\n",
    "fold_ctr = 0\n",
    "\n",
    "for itrain, ivalid in KFold(n_splits=5, shuffle=True, random_state=9001).split(X_train.index):\n",
    "    X_train_cv = X_train.iloc[itrain,:]\n",
    "    y_train_cv = y_train.iloc[itrain]\n",
    "    X_valid_cv = X_train.iloc[ivalid,:]\n",
    "    y_valid_cv = y_train.iloc[ivalid]\n",
    "    \n",
    "    for i, t in enumerate(tree_numbers):\n",
    "#         print(\"max_feature =\", i)\n",
    "        adaboost = AdaBoostClassifier(DecisionTreeClassifier(max_depth=None), n_estimators=t, learning_rate=0.05)\n",
    "        adaboost.fit(X_train_cv, y_train_cv)\n",
    "        \n",
    "        train_cv_n_tree[i,fold_ctr] = adaboost.score(X_train_cv, y_train_cv)\n",
    "        valid_cv_n_tree[i,fold_ctr] = adaboost.score(X_valid_cv, y_valid_cv)\n",
    "        \n",
    "    fold_ctr += 1"
   ]
  },
  {
   "cell_type": "code",
   "execution_count": 35,
   "metadata": {
    "collapsed": true
   },
   "outputs": [],
   "source": [
    "# train_cv_n_tree[:-1], valid_cv_n_tree[:-1]"
   ]
  },
  {
   "cell_type": "code",
   "execution_count": 36,
   "metadata": {
    "collapsed": true
   },
   "outputs": [],
   "source": [
    "scores_train_tree = np.mean(train_cv_n_tree, axis=1)[:-1]      \n",
    "scores_valid_tree = np.mean(valid_cv_n_tree, axis=1)[:-1]"
   ]
  },
  {
   "cell_type": "code",
   "execution_count": 37,
   "metadata": {},
   "outputs": [
    {
     "name": "stdout",
     "output_type": "stream",
     "text": [
      "the optimal number of trees:  128\n"
     ]
    }
   ],
   "source": [
    "# choose optimum as smallest number of trees \"sufficiently\" close to maximum validation accuracy\n",
    "for i in range(len(scores_valid_tree)):\n",
    "    if np.max(scores_valid_tree)-scores_valid_tree[i]<0.002:\n",
    "        n_trees_optimal=i+1\n",
    "        break\n",
    "\n",
    "optimal_n_tree = 2**n_trees_optimal\n",
    "print(\"the optimal number of trees: \", optimal_n_tree)"
   ]
  },
  {
   "cell_type": "code",
   "execution_count": 38,
   "metadata": {
    "collapsed": true
   },
   "outputs": [],
   "source": [
    "train_cv_n_depth = np.zeros((5,5))\n",
    "valid_cv_n_depth = np.zeros((5,5))\n",
    "\n",
    "fold_ctr = 0\n",
    "\n",
    "for itrain, ivalid in KFold(n_splits=5, shuffle=True, random_state=9001).split(X_train.index):\n",
    "    X_train_cv = X_train.iloc[itrain,:]\n",
    "    y_train_cv = y_train.iloc[itrain]\n",
    "    X_valid_cv = X_train.iloc[ivalid,:]\n",
    "    y_valid_cv = y_train.iloc[ivalid]\n",
    "    \n",
    "    for i, d in enumerate([1, 2, 10, None]):\n",
    "#         print(\"max_feature =\", i)\n",
    "        adaboost = AdaBoostClassifier(DecisionTreeClassifier(max_depth=d), n_estimators=optimal_n_tree, learning_rate=0.05)\n",
    "        adaboost.fit(X_train_cv, y_train_cv)\n",
    "        \n",
    "        train_cv_n_depth[i,fold_ctr] = adaboost.score(X_train_cv, y_train_cv)\n",
    "        valid_cv_n_depth[i,fold_ctr] = adaboost.score(X_valid_cv, y_valid_cv)\n",
    "        \n",
    "    fold_ctr += 1"
   ]
  },
  {
   "cell_type": "code",
   "execution_count": 39,
   "metadata": {
    "collapsed": true
   },
   "outputs": [],
   "source": [
    "# train_cv_n_depth, valid_cv_n_depth"
   ]
  },
  {
   "cell_type": "code",
   "execution_count": 40,
   "metadata": {
    "collapsed": true
   },
   "outputs": [],
   "source": [
    "scores_train_depth = np.mean(train_cv_n_depth, axis=1)[:-1]      \n",
    "scores_valid_depth = np.mean(valid_cv_n_depth, axis=1)[:-1]"
   ]
  },
  {
   "cell_type": "code",
   "execution_count": 41,
   "metadata": {},
   "outputs": [
    {
     "name": "stdout",
     "output_type": "stream",
     "text": [
      "optimal depth for the base learner:  2\n"
     ]
    }
   ],
   "source": [
    "# choose optimum as smallest number of depths \"sufficiently\" close to maximum validation accuracy\n",
    "for i in range(len(scores_valid_depth)):\n",
    "    if np.max(scores_valid_depth)-scores_valid_depth[i]<0.002:\n",
    "        n_predictors_optimal=i\n",
    "        break\n",
    "\n",
    "optimal_n_depth = [1, 2, 10, None][i]\n",
    "print(\"optimal depth for the base learner: \", optimal_n_depth)"
   ]
  },
  {
   "cell_type": "code",
   "execution_count": 42,
   "metadata": {},
   "outputs": [
    {
     "name": "stdout",
     "output_type": "stream",
     "text": [
      "Test score with the optimal number of tree and the optimal tree depth: 0.6874\n"
     ]
    }
   ],
   "source": [
    "adaboost = AdaBoostClassifier(DecisionTreeClassifier(max_depth=optimal_n_depth), n_estimators=optimal_n_tree, learning_rate=0.05)\n",
    "adaboost.fit(X_train, y_train)\n",
    "print(\"Test score with the optimal number of tree and the optimal tree depth:\", adaboost.score(X_test, y_test))"
   ]
  },
  {
   "cell_type": "markdown",
   "metadata": {},
   "source": [
    "#### How does an ensemble classifier fitted with the optimal number of trees and the optimal tree depth compare with the random forest model fitted in Question 3.4?"
   ]
  },
  {
   "cell_type": "markdown",
   "metadata": {
    "collapsed": true
   },
   "source": [
    "- The ensemble classifier fitted with the optimal number of trees and the optimal tree depth has test score of 0.687, whereas the random forest model fitted in Question 3.4 has test score of 0.6968, so it is a little worse than the random forest model, but they do not differ much."
   ]
  },
  {
   "cell_type": "markdown",
   "metadata": {},
   "source": [
    "## Question 5 (3pt): Meta-classifier\n",
    "\n",
    "We have so far explored techniques that grow a collection of trees either by creating multiple copies of the original training set, or through a sequential procedure, and then combines these trees into a single classifier. Consider an alternate scenario where you are provided with a pre-trained collection of trees, say from different participants of a data science competition for Higgs boson discovery. What would be a good strategy to combine these pre-fitted trees into a single powerful classifier? Of course, a simple approach would be to take the majority vote from the individual trees. Can we do better than this simple combination strategy?\n",
    "\n",
    "A collection of 100 decision tree classifiers is provided in the file `models.npy` and can be loaded into an array by executing:\n",
    "\n",
    "`models = np.load('models.npy')`\n",
    "\n",
    "You can make predictions using the $i^\\text{th}$ model on an array of predictors `x` by executing:\n",
    "\n",
    "`model[i].predict(x)`  &nbsp;&nbsp;&nbsp;\n",
    "or &nbsp;&nbsp;&nbsp;\n",
    "`model[i].predict_proba(x)`\n",
    "\n",
    "and score the model on predictors `x` and labels `y` by using:\n",
    "\n",
    "`model[i].score(x, y)`.\n",
    "\n",
    "1. Implement a strategy to combine the provided decision tree classifiers, and compare the test perfomance of your approach with the majority vote classifier. Explain your strategy/algorithm.\n",
    "\n"
   ]
  },
  {
   "cell_type": "code",
   "execution_count": 43,
   "metadata": {},
   "outputs": [
    {
     "name": "stderr",
     "output_type": "stream",
     "text": [
      "/Users/yijunshen/anaconda3/lib/python3.6/site-packages/sklearn/base.py:311: UserWarning: Trying to unpickle estimator DecisionTreeClassifier from version 0.18.1 when using version 0.19.1. This might lead to breaking code or invalid results. Use at your own risk.\n",
      "  UserWarning)\n"
     ]
    }
   ],
   "source": [
    "models = np.load('models.npy', encoding='latin1')"
   ]
  },
  {
   "cell_type": "markdown",
   "metadata": {},
   "source": [
    "#### Majority Vote Classifier"
   ]
  },
  {
   "cell_type": "code",
   "execution_count": 44,
   "metadata": {
    "collapsed": true
   },
   "outputs": [],
   "source": [
    "majority_test = []\n",
    "for i in range(100):\n",
    "    majority_test.append(models[i].predict(X_test))\n",
    "    \n",
    "major_test_pred = pd.DataFrame(np.array(majority_test)).T.mode(axis=1)[0].tolist()"
   ]
  },
  {
   "cell_type": "code",
   "execution_count": 45,
   "metadata": {},
   "outputs": [
    {
     "name": "stdout",
     "output_type": "stream",
     "text": [
      "The majority classifier gives test performance of 0.6646\n"
     ]
    }
   ],
   "source": [
    "test_true = y_test.tolist()\n",
    "diff_test_major = [a - b for a, b in zip(test_true, major_test_pred)]\n",
    "correct_test_major = sum(1 for x in diff_test_major if x == 0)\n",
    "N = len(test_true)\n",
    "score_test_major = correct_test_major / N\n",
    "print(\"The majority classifier gives test performance of\", score_test_major)"
   ]
  },
  {
   "cell_type": "markdown",
   "metadata": {},
   "source": [
    "#### Meta-Classifier:"
   ]
  },
  {
   "cell_type": "code",
   "execution_count": 46,
   "metadata": {
    "collapsed": true
   },
   "outputs": [],
   "source": [
    "models_scores = []\n",
    "for i in range(100):\n",
    "    models_scores.append(models[i].score(X_train, y_train))\n",
    "sum_scores = sum(models_scores)\n",
    "for n, score in enumerate(models_scores):\n",
    "    models_scores[n] = score/sum_scores\n",
    "# models_scores"
   ]
  },
  {
   "cell_type": "code",
   "execution_count": 47,
   "metadata": {},
   "outputs": [],
   "source": [
    "meta = []\n",
    "for i, score in enumerate(models_scores):\n",
    "    meta.append(models[i].predict(X_test) * score)\n",
    "meta_array = np.asarray(meta)\n",
    "# meta_array\n",
    "weighted_result = np.sum(meta_array, axis=0)\n",
    "# weighted_result"
   ]
  },
  {
   "cell_type": "code",
   "execution_count": 48,
   "metadata": {
    "collapsed": true
   },
   "outputs": [],
   "source": [
    "threshold_result = weighted_result\n",
    "threshold_result[threshold_result < 0.5] = 0\n",
    "threshold_result[threshold_result > 0.5] = 1\n",
    "# threshold_result"
   ]
  },
  {
   "cell_type": "code",
   "execution_count": 49,
   "metadata": {},
   "outputs": [
    {
     "name": "stdout",
     "output_type": "stream",
     "text": [
      "The meta-classifier gives test performance of 0.6658\n"
     ]
    }
   ],
   "source": [
    "test_true = y_test.tolist()\n",
    "diff_test_meta = [a - b for a, b in zip(test_true, threshold_result)]\n",
    "correct_test_meta = sum(1 for x in diff_test_meta if x == 0)\n",
    "N = len(test_true)\n",
    "score_test_meta = correct_test_meta / N\n",
    "print(\"The meta-classifier gives test performance of\", score_test_meta)"
   ]
  },
  {
   "cell_type": "markdown",
   "metadata": {},
   "source": [
    "#### Compare the test perfomance of your approach with the majority vote classifier. Explain your strategy/algorithm."
   ]
  },
  {
   "cell_type": "markdown",
   "metadata": {
    "collapsed": true
   },
   "source": [
    "- My strategy is first apply each of the 100 models to the training dataset, and get the score of each model. To calculate the weight for each model, I divide the score by the sum of the 100 scores to get a ratio. \n",
    "- The meta model combines the 100 models with their weights respectively. Each model will be used to predict the test set, and the result will be multiplied by that model's weight. Then I add up the weighted prediction from the 100 models to get a final weighted prediction for each observation. \n",
    "- I set the threshold for the weighted prediction at 0.5. So above 0.5, the observation will be classified to class 1 and below to be class 0.\n",
    "- The meta-classifier gives test performance of 0.6658, whereas the majority vote classifier gives test performance of 0.6646. So it improves a little bit."
   ]
  },
  {
   "cell_type": "markdown",
   "metadata": {},
   "source": [
    "--- \n",
    "\n",
    "---\n",
    "\n",
    "## APCOMP209a - Homework Question\n",
    "​\n",
    "We've worked with imputation methods on missing data in Homework 6.  We've worked with Decision Trees in HW7 and here.  Now let's see what happens if we try to work with Decision Trees and Missing Data at the same time! We'll be working with a dataset from the UCI Machine Learning Repository that uses a variety of wine chemical predictors to classify wines grown in the same region in Italy.  Each line represents 13 (mostly chemical) predictors of the response variable wine class, including things like alcohol content, hue , and phenols.  Unfortunately some of the predictor values were lost in measurement. Please load `wine_quality_missing.csv`. \n",
    "​\n",
    "*Note*: As in HW6 be careful of reading/treating column names and row names in this data set.\n",
    "​\n",
    "​\n",
    "1. Remove all observations that contain and missing values, split the dataset into a 75-25 train-test split, and fit the sklearn DecisionTreeClassifier and RandomForestClassifier.   Use cross-validation to find the optimal tree depth for each method.  Report the optimal tree-depth, overall classification rate and confusion matrix on the test set for each method.\n",
    "2. Restart with a fresh copy of the data and impute the missing data via mean imputation.  Split the data 75-25 and again fit DecisionTreeClassifier and RandomForestClassifier using cross-validation to find the optimal tree depth.  Report the optimal tree depth, overall classification rate and confusion matrix on the test set for each method.  \n",
    "3. Again restart with a fresh copy of the data but this time let's try something different.  As discussed in section, CART Decision Trees can take advantage of surrogate splits to handle missing data.  Split the data 75-25 and construct a **custom** decision tree model and train it on the training set with missing data. Report the optimal tree depth, overall classification rate and confusion matrix on the test set and compare your results to the Imputation and DecisionTree model results in part 1 & 2.\n"
   ]
  },
  {
   "cell_type": "code",
   "execution_count": 50,
   "metadata": {},
   "outputs": [
    {
     "data": {
      "text/html": [
       "<div>\n",
       "<style>\n",
       "    .dataframe thead tr:only-child th {\n",
       "        text-align: right;\n",
       "    }\n",
       "\n",
       "    .dataframe thead th {\n",
       "        text-align: left;\n",
       "    }\n",
       "\n",
       "    .dataframe tbody tr th {\n",
       "        vertical-align: top;\n",
       "    }\n",
       "</style>\n",
       "<table border=\"1\" class=\"dataframe\">\n",
       "  <thead>\n",
       "    <tr style=\"text-align: right;\">\n",
       "      <th></th>\n",
       "      <th>Alcohol</th>\n",
       "      <th>Malic_acid</th>\n",
       "      <th>Ash</th>\n",
       "      <th>Alcalinity_of_ash</th>\n",
       "      <th>Magnesium</th>\n",
       "      <th>Total_phenols</th>\n",
       "      <th>Flavanoids</th>\n",
       "      <th>Nonflavanoid_phenols</th>\n",
       "      <th>Proanthocyanins</th>\n",
       "      <th>Color_intensity</th>\n",
       "      <th>Hue</th>\n",
       "      <th>OD280/OD315_of_diluted_wines</th>\n",
       "      <th>Proline</th>\n",
       "      <th>Class</th>\n",
       "    </tr>\n",
       "  </thead>\n",
       "  <tbody>\n",
       "    <tr>\n",
       "      <th>0</th>\n",
       "      <td>14.23</td>\n",
       "      <td>1.71</td>\n",
       "      <td>2.43</td>\n",
       "      <td>15.6</td>\n",
       "      <td>127.0</td>\n",
       "      <td>2.80</td>\n",
       "      <td>3.06</td>\n",
       "      <td>0.28</td>\n",
       "      <td>2.29</td>\n",
       "      <td>5.64</td>\n",
       "      <td>1.04</td>\n",
       "      <td>3.92</td>\n",
       "      <td>1065.0</td>\n",
       "      <td>1</td>\n",
       "    </tr>\n",
       "    <tr>\n",
       "      <th>1</th>\n",
       "      <td>13.20</td>\n",
       "      <td>1.78</td>\n",
       "      <td>2.14</td>\n",
       "      <td>NaN</td>\n",
       "      <td>100.0</td>\n",
       "      <td>2.65</td>\n",
       "      <td>2.76</td>\n",
       "      <td>0.26</td>\n",
       "      <td>1.28</td>\n",
       "      <td>4.38</td>\n",
       "      <td>1.05</td>\n",
       "      <td>3.40</td>\n",
       "      <td>1050.0</td>\n",
       "      <td>1</td>\n",
       "    </tr>\n",
       "    <tr>\n",
       "      <th>2</th>\n",
       "      <td>13.16</td>\n",
       "      <td>2.36</td>\n",
       "      <td>2.67</td>\n",
       "      <td>18.6</td>\n",
       "      <td>101.0</td>\n",
       "      <td>2.80</td>\n",
       "      <td>3.24</td>\n",
       "      <td>0.30</td>\n",
       "      <td>2.81</td>\n",
       "      <td>5.68</td>\n",
       "      <td>1.03</td>\n",
       "      <td>3.17</td>\n",
       "      <td>1185.0</td>\n",
       "      <td>1</td>\n",
       "    </tr>\n",
       "    <tr>\n",
       "      <th>3</th>\n",
       "      <td>14.37</td>\n",
       "      <td>1.95</td>\n",
       "      <td>2.50</td>\n",
       "      <td>NaN</td>\n",
       "      <td>113.0</td>\n",
       "      <td>3.85</td>\n",
       "      <td>3.49</td>\n",
       "      <td>0.24</td>\n",
       "      <td>2.18</td>\n",
       "      <td>7.80</td>\n",
       "      <td>0.86</td>\n",
       "      <td>3.45</td>\n",
       "      <td>1480.0</td>\n",
       "      <td>1</td>\n",
       "    </tr>\n",
       "    <tr>\n",
       "      <th>4</th>\n",
       "      <td>13.24</td>\n",
       "      <td>2.59</td>\n",
       "      <td>2.87</td>\n",
       "      <td>21.0</td>\n",
       "      <td>118.0</td>\n",
       "      <td>2.80</td>\n",
       "      <td>2.69</td>\n",
       "      <td>0.39</td>\n",
       "      <td>NaN</td>\n",
       "      <td>4.32</td>\n",
       "      <td>1.04</td>\n",
       "      <td>2.93</td>\n",
       "      <td>735.0</td>\n",
       "      <td>1</td>\n",
       "    </tr>\n",
       "  </tbody>\n",
       "</table>\n",
       "</div>"
      ],
      "text/plain": [
       "   Alcohol  Malic_acid   Ash  Alcalinity_of_ash  Magnesium  Total_phenols  \\\n",
       "0    14.23        1.71  2.43               15.6      127.0           2.80   \n",
       "1    13.20        1.78  2.14                NaN      100.0           2.65   \n",
       "2    13.16        2.36  2.67               18.6      101.0           2.80   \n",
       "3    14.37        1.95  2.50                NaN      113.0           3.85   \n",
       "4    13.24        2.59  2.87               21.0      118.0           2.80   \n",
       "\n",
       "   Flavanoids  Nonflavanoid_phenols  Proanthocyanins  Color_intensity   Hue  \\\n",
       "0        3.06                  0.28             2.29             5.64  1.04   \n",
       "1        2.76                  0.26             1.28             4.38  1.05   \n",
       "2        3.24                  0.30             2.81             5.68  1.03   \n",
       "3        3.49                  0.24             2.18             7.80  0.86   \n",
       "4        2.69                  0.39              NaN             4.32  1.04   \n",
       "\n",
       "   OD280/OD315_of_diluted_wines  Proline  Class  \n",
       "0                          3.92   1065.0      1  \n",
       "1                          3.40   1050.0      1  \n",
       "2                          3.17   1185.0      1  \n",
       "3                          3.45   1480.0      1  \n",
       "4                          2.93    735.0      1  "
      ]
     },
     "execution_count": 50,
     "metadata": {},
     "output_type": "execute_result"
    }
   ],
   "source": [
    "wine_data = pd.read_csv(\"wine_quality_missing.csv\")\n",
    "wine_data.columns = wine_data.columns.map(lambda x: x.replace(' ', '_'))\n",
    "wine_data.head()"
   ]
  },
  {
   "cell_type": "code",
   "execution_count": 51,
   "metadata": {
    "collapsed": true
   },
   "outputs": [],
   "source": [
    "# wine_X = wine_data.iloc[:,:-1]\n",
    "# wine_y = wine_data.iloc[:,-1]"
   ]
  },
  {
   "cell_type": "markdown",
   "metadata": {
    "collapsed": true
   },
   "source": [
    "#### 1. Remove all observations that contain and missing values, split the dataset into a 75-25 train-test split, and fit the sklearn DecisionTreeClassifier and RandomForestClassifier.   Use cross-validation to find the optimal tree depth for each method.  Report the optimal tree-depth, overall classification rate and confusion matrix on the test set for each method."
   ]
  },
  {
   "cell_type": "code",
   "execution_count": 52,
   "metadata": {
    "collapsed": true
   },
   "outputs": [],
   "source": [
    "from sklearn.model_selection import train_test_split\n",
    "from sklearn.metrics import confusion_matrix"
   ]
  },
  {
   "cell_type": "code",
   "execution_count": 53,
   "metadata": {
    "collapsed": true
   },
   "outputs": [],
   "source": [
    "# remove all missing values\n",
    "wine_data1 = wine_data.dropna()\n",
    "wine_X = wine_data1.iloc[:,:-1]\n",
    "wine_y = wine_data1.iloc[:,-1]\n",
    "wine_X_train, wine_X_test, wine_y_train, wine_y_test = train_test_split(wine_X, wine_y, test_size=0.25, random_state=42)"
   ]
  },
  {
   "cell_type": "markdown",
   "metadata": {},
   "source": [
    "#### DecisionTreeClassifier"
   ]
  },
  {
   "cell_type": "code",
   "execution_count": 54,
   "metadata": {},
   "outputs": [
    {
     "name": "stdout",
     "output_type": "stream",
     "text": [
      "The depth of decision tree model using 5-fold cross-validation is: 2\n"
     ]
    }
   ],
   "source": [
    "# DecisionTreeClassifier\n",
    "dt_scores = []\n",
    "for depth in range(1,10):\n",
    "    clf = DecisionTreeClassifier(max_depth = depth, random_state=50)  \n",
    "    # Perform 5-fold cross validation \n",
    "    score = cross_val_score(estimator=clf, X=wine_X_train, y=wine_y_train, cv=5)\n",
    "    dt_scores.append((depth, np.mean(score)))\n",
    "\n",
    "best_depth_dt = max(dt_scores, key=lambda x:x[1])[0]\n",
    "print(\"The depth of decision tree model using 5-fold cross-validation is:\", best_depth_dt)"
   ]
  },
  {
   "cell_type": "code",
   "execution_count": 55,
   "metadata": {},
   "outputs": [
    {
     "name": "stdout",
     "output_type": "stream",
     "text": [
      "classification accuracy on the test set is: 0.636363636364\n"
     ]
    }
   ],
   "source": [
    "clf_dt = DecisionTreeClassifier(max_depth = best_depth_dt, random_state=50)\n",
    "clf_dt.fit(wine_X_train,wine_y_train)\n",
    "print(\"classification accuracy on the test set is:\", clf_dt.score(wine_X_test, wine_y_test))"
   ]
  },
  {
   "cell_type": "code",
   "execution_count": 56,
   "metadata": {},
   "outputs": [
    {
     "data": {
      "text/html": [
       "<div>\n",
       "<style>\n",
       "    .dataframe thead tr:only-child th {\n",
       "        text-align: right;\n",
       "    }\n",
       "\n",
       "    .dataframe thead th {\n",
       "        text-align: left;\n",
       "    }\n",
       "\n",
       "    .dataframe tbody tr th {\n",
       "        vertical-align: top;\n",
       "    }\n",
       "</style>\n",
       "<table border=\"1\" class=\"dataframe\">\n",
       "  <thead>\n",
       "    <tr style=\"text-align: right;\">\n",
       "      <th></th>\n",
       "      <th>y_hat=1</th>\n",
       "      <th>y_hat = 2</th>\n",
       "      <th>y_hat = 3</th>\n",
       "    </tr>\n",
       "  </thead>\n",
       "  <tbody>\n",
       "    <tr>\n",
       "      <th>y=1</th>\n",
       "      <td>3</td>\n",
       "      <td>2</td>\n",
       "      <td>0</td>\n",
       "    </tr>\n",
       "    <tr>\n",
       "      <th>y=2</th>\n",
       "      <td>0</td>\n",
       "      <td>2</td>\n",
       "      <td>0</td>\n",
       "    </tr>\n",
       "    <tr>\n",
       "      <th>y=3</th>\n",
       "      <td>0</td>\n",
       "      <td>2</td>\n",
       "      <td>2</td>\n",
       "    </tr>\n",
       "  </tbody>\n",
       "</table>\n",
       "</div>"
      ],
      "text/plain": [
       "     y_hat=1  y_hat = 2  y_hat = 3\n",
       "y=1        3          2          0\n",
       "y=2        0          2          0\n",
       "y=3        0          2          2"
      ]
     },
     "execution_count": 56,
     "metadata": {},
     "output_type": "execute_result"
    }
   ],
   "source": [
    "expected = wine_y_test\n",
    "predicted = clf_dt.predict(wine_X_test)\n",
    "\n",
    "conf_mat = confusion_matrix(expected, predicted)\n",
    "conf_df = pd.DataFrame(conf_mat, columns = ['y_hat=1', 'y_hat = 2', 'y_hat = 3'], index = ['y=1', 'y=2', 'y=3'])\n",
    "conf_df"
   ]
  },
  {
   "cell_type": "markdown",
   "metadata": {},
   "source": [
    "#### RandomForestClassifier"
   ]
  },
  {
   "cell_type": "code",
   "execution_count": 57,
   "metadata": {},
   "outputs": [
    {
     "name": "stdout",
     "output_type": "stream",
     "text": [
      "The depth of random forest model using 5-fold cross-validation is: 3\n"
     ]
    }
   ],
   "source": [
    "# RandomForestClassifier\n",
    "rf_scores = []\n",
    "for depth in range(1,10):\n",
    "    clf = RandomForestClassifier(max_depth = depth, random_state=50)  \n",
    "    # Perform 5-fold cross validation \n",
    "    score = cross_val_score(estimator=clf, X=wine_X_train, y=wine_y_train, cv=5)\n",
    "    rf_scores.append((depth, np.mean(score)))\n",
    "\n",
    "best_depth_rf = max(rf_scores, key=lambda x:x[1])[0]\n",
    "print(\"The depth of random forest model using 5-fold cross-validation is:\", best_depth_rf)"
   ]
  },
  {
   "cell_type": "code",
   "execution_count": 58,
   "metadata": {},
   "outputs": [
    {
     "name": "stdout",
     "output_type": "stream",
     "text": [
      "classification accuracy on the test set is: 0.818181818182\n"
     ]
    }
   ],
   "source": [
    "clf_rf = RandomForestClassifier(max_depth = best_depth_rf, random_state=50)\n",
    "clf_rf.fit(wine_X_train,wine_y_train)\n",
    "print(\"classification accuracy on the test set is:\", clf_rf.score(wine_X_test, wine_y_test))"
   ]
  },
  {
   "cell_type": "code",
   "execution_count": 59,
   "metadata": {},
   "outputs": [
    {
     "data": {
      "text/html": [
       "<div>\n",
       "<style>\n",
       "    .dataframe thead tr:only-child th {\n",
       "        text-align: right;\n",
       "    }\n",
       "\n",
       "    .dataframe thead th {\n",
       "        text-align: left;\n",
       "    }\n",
       "\n",
       "    .dataframe tbody tr th {\n",
       "        vertical-align: top;\n",
       "    }\n",
       "</style>\n",
       "<table border=\"1\" class=\"dataframe\">\n",
       "  <thead>\n",
       "    <tr style=\"text-align: right;\">\n",
       "      <th></th>\n",
       "      <th>y_hat=1</th>\n",
       "      <th>y_hat = 2</th>\n",
       "      <th>y_hat = 3</th>\n",
       "    </tr>\n",
       "  </thead>\n",
       "  <tbody>\n",
       "    <tr>\n",
       "      <th>y=1</th>\n",
       "      <td>5</td>\n",
       "      <td>0</td>\n",
       "      <td>0</td>\n",
       "    </tr>\n",
       "    <tr>\n",
       "      <th>y=2</th>\n",
       "      <td>0</td>\n",
       "      <td>1</td>\n",
       "      <td>1</td>\n",
       "    </tr>\n",
       "    <tr>\n",
       "      <th>y=3</th>\n",
       "      <td>0</td>\n",
       "      <td>1</td>\n",
       "      <td>3</td>\n",
       "    </tr>\n",
       "  </tbody>\n",
       "</table>\n",
       "</div>"
      ],
      "text/plain": [
       "     y_hat=1  y_hat = 2  y_hat = 3\n",
       "y=1        5          0          0\n",
       "y=2        0          1          1\n",
       "y=3        0          1          3"
      ]
     },
     "execution_count": 59,
     "metadata": {},
     "output_type": "execute_result"
    }
   ],
   "source": [
    "expected = wine_y_test\n",
    "predicted = clf_rf.predict(wine_X_test)\n",
    "\n",
    "conf_mat = confusion_matrix(expected, predicted)\n",
    "conf_df = pd.DataFrame(conf_mat, columns = ['y_hat=1', 'y_hat = 2', 'y_hat = 3'], index = ['y=1', 'y=2', 'y=3'])\n",
    "conf_df"
   ]
  },
  {
   "cell_type": "markdown",
   "metadata": {},
   "source": [
    "#### 2. Restart with a fresh copy of the data and impute the missing data via mean imputation.  Split the data 75-25 and again fit DecisionTreeClassifier and RandomForestClassifier using cross-validation to find the optimal tree depth.  Report the optimal tree depth, overall classification rate and confusion matrix on the test set for each method."
   ]
  },
  {
   "cell_type": "code",
   "execution_count": 60,
   "metadata": {
    "collapsed": true
   },
   "outputs": [],
   "source": [
    "from sklearn.preprocessing import Imputer\n",
    "wine_data2 = wine_data.copy()\n",
    "values = wine_data2.values\n",
    "imputer = Imputer( strategy='mean')\n",
    "wine_data2 = imputer.fit_transform(values)\n",
    "msk = np.random.rand(len(wine_data2)) < 0.75\n",
    "wine_train2 = wine_data2[msk]\n",
    "wine_test2 = wine_data2[~msk]"
   ]
  },
  {
   "cell_type": "code",
   "execution_count": 61,
   "metadata": {
    "collapsed": true
   },
   "outputs": [],
   "source": [
    "wine_X_train2 = wine_train2[:, 0:-1]\n",
    "wine_y_train2 = wine_train2[:, -1]\n",
    "wine_X_test2 = wine_test2[:, 0:-1]\n",
    "wine_y_test2 = wine_test2[:, -1]"
   ]
  },
  {
   "cell_type": "markdown",
   "metadata": {},
   "source": [
    "#### DecisionTreeClassifier"
   ]
  },
  {
   "cell_type": "code",
   "execution_count": 62,
   "metadata": {},
   "outputs": [
    {
     "name": "stdout",
     "output_type": "stream",
     "text": [
      "The depth of decision tree model using 5-fold cross-validation is: 5\n"
     ]
    }
   ],
   "source": [
    "# DecisionTreeClassifier\n",
    "dt2_scores = []\n",
    "for depth in range(1,20):\n",
    "    clf = DecisionTreeClassifier(max_depth = depth, random_state=50)  \n",
    "    # Perform 5-fold cross validation \n",
    "    score = cross_val_score(estimator=clf, X=wine_X_train2, y=wine_y_train2, cv=5)\n",
    "    dt2_scores.append((depth, np.mean(score)))\n",
    "\n",
    "best_depth_dt2 = max(dt2_scores, key=lambda x:x[1])[0]\n",
    "print(\"The depth of decision tree model using 5-fold cross-validation is:\", best_depth_dt2)"
   ]
  },
  {
   "cell_type": "code",
   "execution_count": 63,
   "metadata": {},
   "outputs": [
    {
     "name": "stdout",
     "output_type": "stream",
     "text": [
      "classification accuracy on the test set is: 0.772727272727\n"
     ]
    }
   ],
   "source": [
    "clf_dt2 = DecisionTreeClassifier(max_depth = best_depth_dt2, random_state=50)\n",
    "clf_dt2.fit(wine_X_train2,wine_y_train2)\n",
    "print(\"classification accuracy on the test set is:\", clf_dt2.score(wine_X_test2, wine_y_test2))"
   ]
  },
  {
   "cell_type": "code",
   "execution_count": 64,
   "metadata": {},
   "outputs": [
    {
     "data": {
      "text/html": [
       "<div>\n",
       "<style>\n",
       "    .dataframe thead tr:only-child th {\n",
       "        text-align: right;\n",
       "    }\n",
       "\n",
       "    .dataframe thead th {\n",
       "        text-align: left;\n",
       "    }\n",
       "\n",
       "    .dataframe tbody tr th {\n",
       "        vertical-align: top;\n",
       "    }\n",
       "</style>\n",
       "<table border=\"1\" class=\"dataframe\">\n",
       "  <thead>\n",
       "    <tr style=\"text-align: right;\">\n",
       "      <th></th>\n",
       "      <th>y_hat=1</th>\n",
       "      <th>y_hat = 2</th>\n",
       "      <th>y_hat = 3</th>\n",
       "    </tr>\n",
       "  </thead>\n",
       "  <tbody>\n",
       "    <tr>\n",
       "      <th>y=1</th>\n",
       "      <td>12</td>\n",
       "      <td>1</td>\n",
       "      <td>1</td>\n",
       "    </tr>\n",
       "    <tr>\n",
       "      <th>y=2</th>\n",
       "      <td>0</td>\n",
       "      <td>15</td>\n",
       "      <td>2</td>\n",
       "    </tr>\n",
       "    <tr>\n",
       "      <th>y=3</th>\n",
       "      <td>1</td>\n",
       "      <td>5</td>\n",
       "      <td>7</td>\n",
       "    </tr>\n",
       "  </tbody>\n",
       "</table>\n",
       "</div>"
      ],
      "text/plain": [
       "     y_hat=1  y_hat = 2  y_hat = 3\n",
       "y=1       12          1          1\n",
       "y=2        0         15          2\n",
       "y=3        1          5          7"
      ]
     },
     "execution_count": 64,
     "metadata": {},
     "output_type": "execute_result"
    }
   ],
   "source": [
    "expected = wine_y_test2\n",
    "predicted = clf_dt2.predict(wine_X_test2)\n",
    "\n",
    "conf_mat = confusion_matrix(expected, predicted)\n",
    "conf_df = pd.DataFrame(conf_mat, columns = ['y_hat=1', 'y_hat = 2', 'y_hat = 3'], index = ['y=1', 'y=2', 'y=3'])\n",
    "conf_df"
   ]
  },
  {
   "cell_type": "markdown",
   "metadata": {},
   "source": [
    "#### RandomForestClassifier"
   ]
  },
  {
   "cell_type": "code",
   "execution_count": 65,
   "metadata": {},
   "outputs": [
    {
     "name": "stdout",
     "output_type": "stream",
     "text": [
      "The depth of random forest model using 5-fold cross-validation is: 2\n"
     ]
    }
   ],
   "source": [
    "# RandomForestClassifier\n",
    "rf2_scores = []\n",
    "for depth in range(1,10):\n",
    "    clf = RandomForestClassifier(max_depth = depth, random_state=50)  \n",
    "    # Perform 5-fold cross validation \n",
    "    score = cross_val_score(estimator=clf, X=wine_X_train2, y=wine_y_train2, cv=5)\n",
    "    rf2_scores.append((depth, np.mean(score)))\n",
    "\n",
    "best_depth_rf2 = max(rf2_scores, key=lambda x:x[1])[0]\n",
    "print(\"The depth of random forest model using 5-fold cross-validation is:\", best_depth_rf2)"
   ]
  },
  {
   "cell_type": "code",
   "execution_count": 66,
   "metadata": {},
   "outputs": [
    {
     "name": "stdout",
     "output_type": "stream",
     "text": [
      "classification accuracy on the test set is: 0.863636363636\n"
     ]
    }
   ],
   "source": [
    "clf_rf2 = RandomForestClassifier(max_depth = best_depth_rf2, random_state=50)\n",
    "clf_rf2.fit(wine_X_train2,wine_y_train2)\n",
    "print(\"classification accuracy on the test set is:\", clf_rf2.score(wine_X_test2, wine_y_test2))"
   ]
  },
  {
   "cell_type": "code",
   "execution_count": 67,
   "metadata": {},
   "outputs": [
    {
     "data": {
      "text/html": [
       "<div>\n",
       "<style>\n",
       "    .dataframe thead tr:only-child th {\n",
       "        text-align: right;\n",
       "    }\n",
       "\n",
       "    .dataframe thead th {\n",
       "        text-align: left;\n",
       "    }\n",
       "\n",
       "    .dataframe tbody tr th {\n",
       "        vertical-align: top;\n",
       "    }\n",
       "</style>\n",
       "<table border=\"1\" class=\"dataframe\">\n",
       "  <thead>\n",
       "    <tr style=\"text-align: right;\">\n",
       "      <th></th>\n",
       "      <th>y_hat=1</th>\n",
       "      <th>y_hat = 2</th>\n",
       "      <th>y_hat = 3</th>\n",
       "    </tr>\n",
       "  </thead>\n",
       "  <tbody>\n",
       "    <tr>\n",
       "      <th>y=1</th>\n",
       "      <td>12</td>\n",
       "      <td>2</td>\n",
       "      <td>0</td>\n",
       "    </tr>\n",
       "    <tr>\n",
       "      <th>y=2</th>\n",
       "      <td>0</td>\n",
       "      <td>16</td>\n",
       "      <td>1</td>\n",
       "    </tr>\n",
       "    <tr>\n",
       "      <th>y=3</th>\n",
       "      <td>0</td>\n",
       "      <td>3</td>\n",
       "      <td>10</td>\n",
       "    </tr>\n",
       "  </tbody>\n",
       "</table>\n",
       "</div>"
      ],
      "text/plain": [
       "     y_hat=1  y_hat = 2  y_hat = 3\n",
       "y=1       12          2          0\n",
       "y=2        0         16          1\n",
       "y=3        0          3         10"
      ]
     },
     "execution_count": 67,
     "metadata": {},
     "output_type": "execute_result"
    }
   ],
   "source": [
    "expected = wine_y_test2\n",
    "predicted = clf_rf2.predict(wine_X_test2)\n",
    "\n",
    "conf_mat = confusion_matrix(expected, predicted)\n",
    "conf_df = pd.DataFrame(conf_mat, columns = ['y_hat=1', 'y_hat = 2', 'y_hat = 3'], index = ['y=1', 'y=2', 'y=3'])\n",
    "conf_df"
   ]
  },
  {
   "cell_type": "markdown",
   "metadata": {},
   "source": [
    "#### 3. Again restart with a fresh copy of the data but this time let's try something different.  As discussed in section, CART Decision Trees can take advantage of surrogate splits to handle missing data.  Split the data 75-25 and construct a **custom** decision tree model and train it on the training set with missing data. Report the optimal tree depth, overall classification rate and confusion matrix on the test set and compare your results to the Imputation and DecisionTree model results in part 1 & 2."
   ]
  },
  {
   "cell_type": "code",
   "execution_count": 79,
   "metadata": {
    "collapsed": true
   },
   "outputs": [],
   "source": [
    "wine_data3 = wine_data.copy()"
   ]
  },
  {
   "cell_type": "code",
   "execution_count": 80,
   "metadata": {
    "collapsed": true
   },
   "outputs": [],
   "source": [
    "nans = lambda df: df[df.isnull().any(axis=1)]\n",
    "wine3_missing = nans(wine_data3)"
   ]
  },
  {
   "cell_type": "code",
   "execution_count": 81,
   "metadata": {
    "collapsed": true
   },
   "outputs": [],
   "source": [
    "msk = np.random.rand(len(wine_data3)) < 0.75\n",
    "wine_train3 = wine_data3[msk]\n",
    "wine_test3 = wine_data3[~msk]"
   ]
  },
  {
   "cell_type": "code",
   "execution_count": 82,
   "metadata": {
    "collapsed": true
   },
   "outputs": [],
   "source": [
    "wine_X_train3 = wine_train3.loc[:, wine_train3.columns != 'Class']\n",
    "wine_y_train3 = wine_train3['Class']\n",
    "wine_X_test3 = wine_test3.loc[:, wine_test3.columns != 'Class']\n",
    "wine_y_test3 = wine_test3['Class']"
   ]
  },
  {
   "cell_type": "code",
   "execution_count": 83,
   "metadata": {
    "collapsed": true
   },
   "outputs": [],
   "source": [
    "def surrogate_fit(df_train, max_depth):\n",
    "    X_train = df_train.drop('Class', axis=1)\n",
    "    y_train = df_train['Class']\n",
    "    \n",
    "    def gini_coeff(left, right):\n",
    "        gini_1 = 1 - np.sum([(i/left.shape[0])**2 for i in left['Class'].value_counts()])\n",
    "        gini_2 = 1 - np.sum([(i/right.shape[0])**2 for i in right['Class'].value_counts()])\n",
    "        n = left.shape[0] + right.shape[0]\n",
    "        gini_value = (gini_1 * left.shape[0] + gini_2 * right.shape[0]) / n\n",
    "        return gini_value\n",
    "    num_cols = list(range(X_train.shape[1]))\n",
    "    col_names = X_train.columns.values  \n",
    "    \n",
    "    def best_split(data):\n",
    "        best_gini = 10000\n",
    "        best_col = None\n",
    "        best_t = None\n",
    "        for col in num_cols:\n",
    "            dropped = data.dropna(subset=[col_names[col]])\n",
    "            for t in range(dropped.shape[0]):\n",
    "                left = dropped[dropped.iloc[:,col] <= dropped.iloc[t,col]]\n",
    "                right = dropped[dropped.iloc[:,col] > dropped.iloc[t,col]]\n",
    "                gini = gini_coeff(left, right)\n",
    "                if gini < best_gini:\n",
    "                    best_gini = gini\n",
    "                    best_col = col\n",
    "                    best_t = dropped.iloc[t,col]\n",
    "#         dropped = data.dropna(subset=[col_names[best_col]])\n",
    "        return best_col, best_t, dropped\n",
    "    \n",
    "    tree = {}\n",
    "    stack = [{'data':df_train, 'depth':1}]\n",
    "    n_nodes = int(np.sum([2**i for i in range(max_depth)]))\n",
    "    groups = [0 for i in range(n_nodes)]\n",
    "    while stack:\n",
    "        data = stack.pop()\n",
    "        if data['depth'] == max_depth:\n",
    "            tree[len(tree)] = {'class': data['data']['Class'].value_counts().idxmax()}\n",
    "        else:\n",
    "            n = len(tree)\n",
    "            best_col, best_t, dropped = best_split(data['data'])\n",
    "            if len(dropped['Class'].unique()) == 1:\n",
    "                for i in range(n, n+1+np.sum([2**i for i in range(1, max_depth-data['depth']+1)])):\n",
    "                    tree[i] = {'class': dropped['Class'].value_counts().idxmax()}\n",
    "            else:\n",
    "                left = dropped[dropped.iloc[:,best_col] <= best_t]\n",
    "                right = dropped[dropped.iloc[:,best_col] > best_t]\n",
    "                tree[n] = {'feature': best_col, 'threshold': best_t, 'left_node': n+1, 'right_node': int(n+1+np.sum([2**i for i in range(max_depth-data['depth'])])), \n",
    "                           'left': set(left.index), 'right': set(right.index)}\n",
    "                groups[n] = dropped\n",
    "                stack.extend([{'data':right, 'depth':data['depth']+1}, {'data':left, 'depth':data['depth']+1}])\n",
    "                \n",
    "    for i in range(n_nodes):\n",
    "        if 'class' not in tree[i]:\n",
    "            other_columns = num_cols[:tree[i]['feature']] + num_cols[tree[i]['feature']+1:]\n",
    "            closeness = []\n",
    "            for col in other_columns:\n",
    "                dropped = groups[i].dropna(subset=[col_names[col]])\n",
    "                best_c = 0\n",
    "                best_t = None\n",
    "                for t in range(dropped.shape[0]):\n",
    "                    left = set(dropped[dropped.iloc[:,col] <= dropped.iloc[t,col]].index)\n",
    "                    right = set(dropped[dropped.iloc[:,col] > dropped.iloc[t,col]].index)\n",
    "                    c = (len(tree[i]['left'].intersection(left)) + len(tree[i]['right'].intersection(right)))/dropped.shape[0]\n",
    "                    if c > best_c:\n",
    "                        best_c = c\n",
    "                        best_t = dropped.iloc[t,col]\n",
    "                closeness.append([best_c, col, best_t])\n",
    "            closeness = sorted(closeness, reverse=True, key = lambda x: x[0])\n",
    "            tree[i]['surrogate'] = closeness\n",
    "    return tree"
   ]
  },
  {
   "cell_type": "code",
   "execution_count": 84,
   "metadata": {
    "collapsed": true
   },
   "outputs": [],
   "source": [
    "def surrogate_predict(X, tree):\n",
    "    pred_test = []\n",
    "    for i in range(X.shape[0]):\n",
    "        current = 0\n",
    "        while 'class' not in tree[current]:\n",
    "            value = X.iloc[i, tree[current]['feature']]\n",
    "            if not np.isnan(value):\n",
    "                if value <= tree[current]['threshold']:\n",
    "                    current = tree[current]['left_node']\n",
    "                else:\n",
    "                    current = tree[current]['right_node']\n",
    "                continue\n",
    "#                 cur = tree[cur]['left_node'] if value <= tree[cur]['threshold'] else tree[cur]['right_node']\n",
    "            else:\n",
    "                for surrogate in tree[current]['surrogate']:\n",
    "                    value = X.iloc[i, surrogate[1]]\n",
    "                    if not np.isnan(value):\n",
    "                        if value <= surrogate[2]:\n",
    "                            current = tree[current]['left_node']\n",
    "                        else:\n",
    "                            current = tree[current]['right_node']\n",
    "#                         cur = tree[cur]['left_node'] if value <= sur[2] else tree[cur]['right_node']\n",
    "                        break\n",
    "        pred_test.append(tree[current]['class'])\n",
    "    return pred_test"
   ]
  },
  {
   "cell_type": "code",
   "execution_count": 85,
   "metadata": {},
   "outputs": [],
   "source": [
    "tree = surrogate_fit(wine_train3, 5)"
   ]
  },
  {
   "cell_type": "code",
   "execution_count": 86,
   "metadata": {},
   "outputs": [],
   "source": [
    "surro_pred = surrogate_predict(wine_X_test3, tree)"
   ]
  },
  {
   "cell_type": "code",
   "execution_count": 87,
   "metadata": {
    "collapsed": true
   },
   "outputs": [],
   "source": [
    "wine_true_y = wine_y_test3.tolist()"
   ]
  },
  {
   "cell_type": "code",
   "execution_count": 88,
   "metadata": {},
   "outputs": [
    {
     "name": "stdout",
     "output_type": "stream",
     "text": [
      "surrogate accuracy: 0.8604651162790697\n"
     ]
    }
   ],
   "source": [
    "diff_surro = [a - b for a, b in zip(wine_true_y, surro_pred)]\n",
    "correct_surro = sum(1 for x in diff_surro if x == 0)\n",
    "accuracy_surro = correct_surro / len(wine_true_y)\n",
    "\n",
    "print(\"surrogate accuracy:\", accuracy_surro)"
   ]
  },
  {
   "cell_type": "code",
   "execution_count": 89,
   "metadata": {},
   "outputs": [
    {
     "data": {
      "text/html": [
       "<div>\n",
       "<style>\n",
       "    .dataframe thead tr:only-child th {\n",
       "        text-align: right;\n",
       "    }\n",
       "\n",
       "    .dataframe thead th {\n",
       "        text-align: left;\n",
       "    }\n",
       "\n",
       "    .dataframe tbody tr th {\n",
       "        vertical-align: top;\n",
       "    }\n",
       "</style>\n",
       "<table border=\"1\" class=\"dataframe\">\n",
       "  <thead>\n",
       "    <tr style=\"text-align: right;\">\n",
       "      <th></th>\n",
       "      <th>y_hat=1</th>\n",
       "      <th>y_hat = 2</th>\n",
       "      <th>y_hat = 3</th>\n",
       "    </tr>\n",
       "  </thead>\n",
       "  <tbody>\n",
       "    <tr>\n",
       "      <th>y=1</th>\n",
       "      <td>16</td>\n",
       "      <td>1</td>\n",
       "      <td>0</td>\n",
       "    </tr>\n",
       "    <tr>\n",
       "      <th>y=2</th>\n",
       "      <td>2</td>\n",
       "      <td>10</td>\n",
       "      <td>1</td>\n",
       "    </tr>\n",
       "    <tr>\n",
       "      <th>y=3</th>\n",
       "      <td>0</td>\n",
       "      <td>2</td>\n",
       "      <td>11</td>\n",
       "    </tr>\n",
       "  </tbody>\n",
       "</table>\n",
       "</div>"
      ],
      "text/plain": [
       "     y_hat=1  y_hat = 2  y_hat = 3\n",
       "y=1       16          1          0\n",
       "y=2        2         10          1\n",
       "y=3        0          2         11"
      ]
     },
     "execution_count": 89,
     "metadata": {},
     "output_type": "execute_result"
    }
   ],
   "source": [
    "conf_mat = confusion_matrix(wine_true_y, surro_pred)\n",
    "conf_df = pd.DataFrame(conf_mat, columns = ['y_hat=1', 'y_hat = 2', 'y_hat = 3'], index = ['y=1', 'y=2', 'y=3'])\n",
    "conf_df"
   ]
  },
  {
   "cell_type": "code",
   "execution_count": null,
   "metadata": {
    "collapsed": true
   },
   "outputs": [],
   "source": []
  }
 ],
 "metadata": {
  "anaconda-cloud": {},
  "kernelspec": {
   "display_name": "Python 3",
   "language": "python",
   "name": "python3"
  },
  "language_info": {
   "codemirror_mode": {
    "name": "ipython",
    "version": 3
   },
   "file_extension": ".py",
   "mimetype": "text/x-python",
   "name": "python",
   "nbconvert_exporter": "python",
   "pygments_lexer": "ipython3",
   "version": "3.6.3"
  },
  "latex_envs": {
   "bibliofile": "biblio.bib",
   "cite_by": "apalike",
   "current_citInitial": 1,
   "eqLabelWithNumbers": true,
   "eqNumInitial": 0
  }
 },
 "nbformat": 4,
 "nbformat_minor": 1
}
