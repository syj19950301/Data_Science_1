{
 "cells": [
  {
   "cell_type": "markdown",
   "metadata": {},
   "source": [
    "# CS 109A/STAT 121A/AC 209A/CSCI E-109A: Homework 6\n",
    "# Reg-Logistic Regression, ROC, and Data Imputation\n",
    "\n",
    "**Harvard University**<br/>\n",
    "**Fall 2017**<br/>\n",
    "**Instructors**: Pavlos Protopapas, Kevin Rader, Rahul Dave, Margo Levine\n",
    "\n",
    "---\n",
    "\n",
    "### INSTRUCTIONS\n",
    "\n",
    "- To submit your assignment follow the instructions given in canvas.\n",
    "- Restart the kernel and run the whole notebook again before you submit. \n",
    "- Do not include your name(s) in the notebook if you are submitting as a group. \n",
    "- If you submit individually and you have worked with someone, please include the name of your [one] partner below. \n",
    "\n",
    "---"
   ]
  },
  {
   "cell_type": "markdown",
   "metadata": {},
   "source": [
    "Your partner's name (if you submit separately):\n",
    "\n",
    "Enrollment Status (109A, 121A, 209A, or E109A):"
   ]
  },
  {
   "cell_type": "markdown",
   "metadata": {},
   "source": [
    "Import libraries:"
   ]
  },
  {
   "cell_type": "code",
   "execution_count": 68,
   "metadata": {},
   "outputs": [],
   "source": [
    "import numpy as np\n",
    "import pandas as pd\n",
    "import matplotlib\n",
    "import matplotlib.pyplot as plt\n",
    "from sklearn.linear_model import LogisticRegressionCV\n",
    "import sklearn.metrics as metrics\n",
    "from sklearn.preprocessing import PolynomialFeatures\n",
    "from sklearn.discriminant_analysis import LinearDiscriminantAnalysis\n",
    "from sklearn.discriminant_analysis import QuadraticDiscriminantAnalysis\n",
    "from sklearn.neighbors import KNeighborsClassifier\n",
    "from sklearn.tree import DecisionTreeClassifier\n",
    "from sklearn.model_selection import cross_val_score\n",
    "from sklearn.metrics import accuracy_score\n",
    "\n",
    "from sklearn.tree import export_graphviz\n",
    "from IPython.display import Image\n",
    "from IPython.display import display\n",
    "%matplotlib inline\n",
    "\n",
    "from sklearn.model_selection import train_test_split\n",
    "from sklearn.metrics import confusion_matrix\n",
    "from sklearn.metrics import roc_curve, auc\n",
    "from sklearn.metrics import roc_auc_score\n",
    "import seaborn.apionly as sns"
   ]
  },
  {
   "cell_type": "markdown",
   "metadata": {},
   "source": [
    "## Automated Breast Cancer Detection\n",
    "\n",
    "In this homework, we will consider the problem of early breast cancer detection from X-ray images. Specifically, given a candidate region of interest (ROI) from an X-ray image of a patient's breast, the goal is to predict if the region corresponds to a malignant tumor (label 1) or is normal (label 0). The training and test data sets for this problem is provided in the file `hw6_dataset.csv`. Each row in these files corresponds to a ROI in a patient's X-ray, with columns 1-117 containing features computed using standard image processing algorithms. The last column contains the class label, and is based on a radiologist's opinion or a biopsy. This data was obtained from the KDD Cup 2008 challenge.\n",
    "\n",
    "The data set contain a total of 69,098 candidate ROIs, of which only 409 are malignant, while the remaining are all normal. \n",
    "\n",
    "*Note*: be careful of reading/treating column names and row names in this data set."
   ]
  },
  {
   "cell_type": "markdown",
   "metadata": {},
   "source": [
    "## Question 1: Beyond Classification Accuracy\n",
    "\n",
    "\n",
    "0.  Split the data set into a training set and a testing set.  The training set should be 75% of the original data set, and the testing set 25%.  Use `np.random.seed(9001)`.\n",
    "\n",
    "1. Fit a logistic regression classifier to the training set and report the  accuracy of the classifier on the test set. You should use $L_2$ regularization in logistic regression, with the regularization parameter tuned using cross-validation. \n",
    "    1. How does the fitted model compare with a classifier that predicts 'normal' (label 0) on all patients? \n",
    "    2. Do you think the difference in the classification accuracies are large enough to declare logistic regression as a better classifier than the all 0's classifier? Why or why not?\n",
    "    \n",
    "For applications with imbalanced class labels, in this case when there are many more healthy subjects ($Y=0$) than those with cancer ($Y=1$), the classification accuracy may not be the best metric to evaluate a classifier's performance. As an alternative, we could analyze the confusion table for the classifier. \n",
    "\n",
    "<ol start=\"3\">\n",
    "<li> Compute the confusion table for both the fitted classifier and the classifier that predicts all 0's.</li>\n",
    "<li> Using the entries of the confusion table compute the *true positive rate* and the *true negative rate* for the two classifiers. Explain what these evaluation metrics mean for the specific task of cancer detection. Based on the observed metrics, comment on whether the fitted model is better than the all 0's classifier.</li>\n",
    "<li> What is the *false positive rate* of the fitted classifier, and how is it related to its true positive and true negative rate? Why is a classifier with high false positive rate undesirable for a cancer detection task?</li>\n",
    "</ol>\n",
    "*Hint:* You may use the `metrics.confusion_matrix` function to compute the confusion matrix for a classification model."
   ]
  },
  {
   "cell_type": "code",
   "execution_count": 6,
   "metadata": {},
   "outputs": [
    {
     "data": {
      "text/html": [
       "<div>\n",
       "<style>\n",
       "    .dataframe thead tr:only-child th {\n",
       "        text-align: right;\n",
       "    }\n",
       "\n",
       "    .dataframe thead th {\n",
       "        text-align: left;\n",
       "    }\n",
       "\n",
       "    .dataframe tbody tr th {\n",
       "        vertical-align: top;\n",
       "    }\n",
       "</style>\n",
       "<table border=\"1\" class=\"dataframe\">\n",
       "  <thead>\n",
       "    <tr style=\"text-align: right;\">\n",
       "      <th></th>\n",
       "      <th>-1.439999999999999891e-01</th>\n",
       "      <th>-1.429999999999999882e-01</th>\n",
       "      <th>-1.160000000000000059e-01</th>\n",
       "      <th>-1.029999999999999943e-01</th>\n",
       "      <th>2.260000000000000064e-01</th>\n",
       "      <th>2.099999999999999922e-01</th>\n",
       "      <th>-9.799999999999999822e-01</th>\n",
       "      <th>-7.800000000000000266e-01</th>\n",
       "      <th>-4.739999999999999769e-01</th>\n",
       "      <th>-4.470000000000000084e-01</th>\n",
       "      <th>...</th>\n",
       "      <th>9.250000000000000444e-01</th>\n",
       "      <th>5.160000000000000142e-01</th>\n",
       "      <th>3.439999999999999725e-01</th>\n",
       "      <th>9.060000000000000275e-01</th>\n",
       "      <th>-1.129999999999999893e+00</th>\n",
       "      <th>-5.520000000000000462e-01</th>\n",
       "      <th>5.530000000000000471e-01</th>\n",
       "      <th>-4.169999999999999818e-01</th>\n",
       "      <th>2.560000000000000053e-01</th>\n",
       "      <th>0.000000000000000000e+00</th>\n",
       "    </tr>\n",
       "  </thead>\n",
       "  <tbody>\n",
       "    <tr>\n",
       "      <th>0</th>\n",
       "      <td>-0.01100</td>\n",
       "      <td>0.138</td>\n",
       "      <td>-0.2230</td>\n",
       "      <td>-0.1730</td>\n",
       "      <td>0.188</td>\n",
       "      <td>0.284</td>\n",
       "      <td>-0.0522</td>\n",
       "      <td>-0.256</td>\n",
       "      <td>0.129</td>\n",
       "      <td>0.427</td>\n",
       "      <td>...</td>\n",
       "      <td>-0.593</td>\n",
       "      <td>0.452</td>\n",
       "      <td>0.00785</td>\n",
       "      <td>-0.533</td>\n",
       "      <td>-0.0789</td>\n",
       "      <td>0.705</td>\n",
       "      <td>0.906</td>\n",
       "      <td>0.216</td>\n",
       "      <td>-0.0723</td>\n",
       "      <td>0.0</td>\n",
       "    </tr>\n",
       "    <tr>\n",
       "      <th>1</th>\n",
       "      <td>0.21200</td>\n",
       "      <td>-0.313</td>\n",
       "      <td>0.2660</td>\n",
       "      <td>0.2320</td>\n",
       "      <td>-1.190</td>\n",
       "      <td>-1.150</td>\n",
       "      <td>-1.8100</td>\n",
       "      <td>-1.560</td>\n",
       "      <td>-1.250</td>\n",
       "      <td>-1.200</td>\n",
       "      <td>...</td>\n",
       "      <td>-0.816</td>\n",
       "      <td>1.570</td>\n",
       "      <td>0.39400</td>\n",
       "      <td>1.340</td>\n",
       "      <td>-1.1800</td>\n",
       "      <td>-2.700</td>\n",
       "      <td>-0.926</td>\n",
       "      <td>-2.650</td>\n",
       "      <td>-0.0447</td>\n",
       "      <td>0.0</td>\n",
       "    </tr>\n",
       "    <tr>\n",
       "      <th>2</th>\n",
       "      <td>0.21500</td>\n",
       "      <td>-0.184</td>\n",
       "      <td>0.0274</td>\n",
       "      <td>0.0494</td>\n",
       "      <td>0.443</td>\n",
       "      <td>0.463</td>\n",
       "      <td>-1.0500</td>\n",
       "      <td>-0.941</td>\n",
       "      <td>-0.531</td>\n",
       "      <td>-0.394</td>\n",
       "      <td>...</td>\n",
       "      <td>0.634</td>\n",
       "      <td>0.111</td>\n",
       "      <td>0.37100</td>\n",
       "      <td>0.859</td>\n",
       "      <td>-0.9930</td>\n",
       "      <td>-0.492</td>\n",
       "      <td>0.363</td>\n",
       "      <td>0.326</td>\n",
       "      <td>-0.0528</td>\n",
       "      <td>0.0</td>\n",
       "    </tr>\n",
       "    <tr>\n",
       "      <th>3</th>\n",
       "      <td>0.27900</td>\n",
       "      <td>-0.197</td>\n",
       "      <td>0.1270</td>\n",
       "      <td>0.0973</td>\n",
       "      <td>-0.213</td>\n",
       "      <td>-0.150</td>\n",
       "      <td>-1.3200</td>\n",
       "      <td>-0.994</td>\n",
       "      <td>-1.110</td>\n",
       "      <td>-1.090</td>\n",
       "      <td>...</td>\n",
       "      <td>-0.640</td>\n",
       "      <td>0.485</td>\n",
       "      <td>0.29500</td>\n",
       "      <td>0.403</td>\n",
       "      <td>-1.1200</td>\n",
       "      <td>-0.343</td>\n",
       "      <td>0.468</td>\n",
       "      <td>-0.820</td>\n",
       "      <td>0.4350</td>\n",
       "      <td>0.0</td>\n",
       "    </tr>\n",
       "    <tr>\n",
       "      <th>4</th>\n",
       "      <td>0.00922</td>\n",
       "      <td>-0.138</td>\n",
       "      <td>0.1690</td>\n",
       "      <td>0.1540</td>\n",
       "      <td>-0.391</td>\n",
       "      <td>-0.397</td>\n",
       "      <td>-1.6900</td>\n",
       "      <td>-1.450</td>\n",
       "      <td>-0.546</td>\n",
       "      <td>-0.527</td>\n",
       "      <td>...</td>\n",
       "      <td>-0.277</td>\n",
       "      <td>0.699</td>\n",
       "      <td>0.37100</td>\n",
       "      <td>0.481</td>\n",
       "      <td>-1.0600</td>\n",
       "      <td>-0.526</td>\n",
       "      <td>0.550</td>\n",
       "      <td>-0.284</td>\n",
       "      <td>0.1550</td>\n",
       "      <td>0.0</td>\n",
       "    </tr>\n",
       "  </tbody>\n",
       "</table>\n",
       "<p>5 rows × 118 columns</p>\n",
       "</div>"
      ],
      "text/plain": [
       "   -1.439999999999999891e-01  -1.429999999999999882e-01  \\\n",
       "0                   -0.01100                      0.138   \n",
       "1                    0.21200                     -0.313   \n",
       "2                    0.21500                     -0.184   \n",
       "3                    0.27900                     -0.197   \n",
       "4                    0.00922                     -0.138   \n",
       "\n",
       "   -1.160000000000000059e-01  -1.029999999999999943e-01  \\\n",
       "0                    -0.2230                    -0.1730   \n",
       "1                     0.2660                     0.2320   \n",
       "2                     0.0274                     0.0494   \n",
       "3                     0.1270                     0.0973   \n",
       "4                     0.1690                     0.1540   \n",
       "\n",
       "   2.260000000000000064e-01  2.099999999999999922e-01  \\\n",
       "0                     0.188                     0.284   \n",
       "1                    -1.190                    -1.150   \n",
       "2                     0.443                     0.463   \n",
       "3                    -0.213                    -0.150   \n",
       "4                    -0.391                    -0.397   \n",
       "\n",
       "   -9.799999999999999822e-01  -7.800000000000000266e-01  \\\n",
       "0                    -0.0522                     -0.256   \n",
       "1                    -1.8100                     -1.560   \n",
       "2                    -1.0500                     -0.941   \n",
       "3                    -1.3200                     -0.994   \n",
       "4                    -1.6900                     -1.450   \n",
       "\n",
       "   -4.739999999999999769e-01  -4.470000000000000084e-01  \\\n",
       "0                      0.129                      0.427   \n",
       "1                     -1.250                     -1.200   \n",
       "2                     -0.531                     -0.394   \n",
       "3                     -1.110                     -1.090   \n",
       "4                     -0.546                     -0.527   \n",
       "\n",
       "             ...             9.250000000000000444e-01  \\\n",
       "0            ...                               -0.593   \n",
       "1            ...                               -0.816   \n",
       "2            ...                                0.634   \n",
       "3            ...                               -0.640   \n",
       "4            ...                               -0.277   \n",
       "\n",
       "   5.160000000000000142e-01  3.439999999999999725e-01  \\\n",
       "0                     0.452                   0.00785   \n",
       "1                     1.570                   0.39400   \n",
       "2                     0.111                   0.37100   \n",
       "3                     0.485                   0.29500   \n",
       "4                     0.699                   0.37100   \n",
       "\n",
       "   9.060000000000000275e-01  -1.129999999999999893e+00  \\\n",
       "0                    -0.533                    -0.0789   \n",
       "1                     1.340                    -1.1800   \n",
       "2                     0.859                    -0.9930   \n",
       "3                     0.403                    -1.1200   \n",
       "4                     0.481                    -1.0600   \n",
       "\n",
       "   -5.520000000000000462e-01  5.530000000000000471e-01  \\\n",
       "0                      0.705                     0.906   \n",
       "1                     -2.700                    -0.926   \n",
       "2                     -0.492                     0.363   \n",
       "3                     -0.343                     0.468   \n",
       "4                     -0.526                     0.550   \n",
       "\n",
       "   -4.169999999999999818e-01  2.560000000000000053e-01  \\\n",
       "0                      0.216                   -0.0723   \n",
       "1                     -2.650                   -0.0447   \n",
       "2                      0.326                   -0.0528   \n",
       "3                     -0.820                    0.4350   \n",
       "4                     -0.284                    0.1550   \n",
       "\n",
       "   0.000000000000000000e+00  \n",
       "0                       0.0  \n",
       "1                       0.0  \n",
       "2                       0.0  \n",
       "3                       0.0  \n",
       "4                       0.0  \n",
       "\n",
       "[5 rows x 118 columns]"
      ]
     },
     "execution_count": 6,
     "metadata": {},
     "output_type": "execute_result"
    }
   ],
   "source": [
    "np.random.seed(9001)\n",
    "df = pd.read_csv('hw6_dataset.csv')\n",
    "df.head()"
   ]
  },
  {
   "cell_type": "code",
   "execution_count": 16,
   "metadata": {},
   "outputs": [
    {
     "data": {
      "text/plain": [
       "((51822, 117), (51822,), (17275, 117), (17275,))"
      ]
     },
     "execution_count": 16,
     "metadata": {},
     "output_type": "execute_result"
    }
   ],
   "source": [
    "X = df.iloc[:, :-1]\n",
    "y = df.iloc[:, -1]\n",
    "X_train, X_test, y_train, y_test = train_test_split(X, y, test_size=0.25, random_state=42)\n",
    "X_train.shape, y_train.shape, X_test.shape, y_test.shape"
   ]
  },
  {
   "cell_type": "code",
   "execution_count": 20,
   "metadata": {},
   "outputs": [
    {
     "name": "stdout",
     "output_type": "stream",
     "text": [
      "0.995253256151\n"
     ]
    }
   ],
   "source": [
    "reg_Cs = np.hstack((10.**np.arange(-5, 0), 10**np.arange(0, 6)))\n",
    "\n",
    "logit = LogisticRegressionCV(reg_Cs, cv=5)\n",
    "logit.fit(X_train, y_train)\n",
    "print(\"Logistic regression classifier on test set has accuracy:\", logit.score(X_test, y_test))"
   ]
  },
  {
   "cell_type": "code",
   "execution_count": 39,
   "metadata": {},
   "outputs": [
    {
     "name": "stdout",
     "output_type": "stream",
     "text": [
      "A classifier that predicts 'normal' (label 0) on all patients has accuracy: 0.994674384949\n"
     ]
    }
   ],
   "source": [
    "y_test.values\n",
    "test_zeros = (y_test.values == 0).sum()\n",
    "test_ones = (y_test.values == 1).sum()\n",
    "test_total = y_test.values.shape[0]\n",
    "# test_zeros, test_ones, test_zeros+test_ones, test_total\n",
    "all_zero_accuracy = test_zeros/test_total\n",
    "print(\"A classifier that predicts 'normal' (label 0) on patients in the test set has accuracy:\", all_zero_accuracy)"
   ]
  },
  {
   "cell_type": "markdown",
   "metadata": {},
   "source": [
    "## Answer:\n",
    "### 2.A. How does the fitted model compare with a classifier that predicts 'normal' (label 0) on all patients?\n",
    "- Using logistic regression, we get accuracy score on test set 99.53%, whereas using a \"zero for all\" classifier, we get test score of 99.47%.\n",
    "- We can see that these two scores are very close.\n",
    "\n",
    "### 2.B. Do you think the difference in the classification accuracies are large enough to declare logistic regression as a better classifier than the all 0's classifier? Why or why not?\n",
    "- No, the difference between the classification accuracies are not large at all. So we cannot declare logistic regression is a better classfier than the all 0's classfier, if we only look at the two scores.\n",
    "- This is because the dataset contains more than 69000 candidate ROIs, of which only 409 are malignant, while the remaining are all normal. So the ratio of people who does not have breast cancer is extremely higher than those with malignant tumor. The class labels are very imbalanced."
   ]
  },
  {
   "cell_type": "code",
   "execution_count": 42,
   "metadata": {},
   "outputs": [
    {
     "name": "stdout",
     "output_type": "stream",
     "text": [
      "Confusion matrix for the fitted logistic regression classifier:\n",
      "[[17181     2]\n",
      " [   80    12]]\n"
     ]
    }
   ],
   "source": [
    "print(\"Confusion matrix for the fitted logistic regression classifier:\")\n",
    "print(confusion_matrix(y_test,logit.predict(X_test)))"
   ]
  },
  {
   "cell_type": "code",
   "execution_count": 49,
   "metadata": {},
   "outputs": [
    {
     "name": "stdout",
     "output_type": "stream",
     "text": [
      "Confusion matrix for the all-zero classifier:\n",
      "[[17183     0]\n",
      " [   92     0]]\n"
     ]
    }
   ],
   "source": [
    "all_zero_confusion = np.array([[test_zeros, 0], [test_ones, 0]])\n",
    "print(\"Confusion matrix for the all-zero classifier:\")\n",
    "print(all_zero_confusion)"
   ]
  },
  {
   "cell_type": "markdown",
   "metadata": {},
   "source": [
    "## Answer:\n",
    "### 4. Using the entries of the confusion table compute the true positive rate and the true negative rate for the two classifiers. Explain what these evaluation metrics mean for the specific task of cancer detection. Based on the observed metrics, comment on whether the fitted model is better than the all 0's classifier.\n",
    "\n",
    "#### Logistic Regression Classifier:\n",
    "- True Positive Rate = $\\frac{TP}{TP+FN} = \\frac{12}{12+80} = 13.04\\%$\n",
    "- True Negative Rate = $\\frac{TN}{TN+FP} = \\frac{17181}{17181+2} = 99.99\\%$\n",
    "\n",
    "#### All-zero Classifier:\n",
    "- True Positive Rate = $\\frac{TP}{TP+FN} = \\frac{0}{92+0} = 0\\%$\n",
    "- True Negative Rate = $\\frac{TN}{TN+FP} = \\frac{17183}{17183+0} = 100\\%$\n",
    "\n",
    "- True positive rate measures the proportion of positives that are correctly identified as such. In this case, true positive rate means the percentage of people with breast cancer who are correctly identified as having the condition.\n",
    "- True negative rate measures the proportion of negatives that are correctly identified as such. In this case, true negative rate means the percentage of healthy people who are correctly identified as not having breast cancer.\n",
    "\n",
    "- In this medical test condition, higher true positive rate is more important, because then we will be less likely to miss people who has breast cancer by telling them everything is fine. \n",
    "- Since all-zero classifier tells everybody that they are healthy, it is very useless in this medical area. \n",
    "- Therefore, the fitted logistic regression model is better thant the all 0's classifier.\n",
    "\n",
    "### 5. What is the false positive rate of the fitted classifier, and how is it related to its true positive and true negative rate? Why is a classifier with high false positive rate undesirable for a cancer detection task?\n",
    "- False Positive Rate of the fitted Logistic Regression Classfier = $\\frac{FP}{FP+TN} = \\frac{2}{2+17181} = 0.01\\%$\n",
    "- False Positive Rate = 1 - True Negative Rate\n",
    "- False positive rate cannot be derived directly from true positive rate.\n",
    "- For a caner detection task, high false positive rate is undesirable because it means false alarms, which may raise unnecessary worry and distress for healthy people. Those healthy people who get false positive results will go to hospital to do more tests, which is a waste of money and time."
   ]
  },
  {
   "cell_type": "markdown",
   "metadata": {},
   "source": [
    "## Question 2: ROC Analysis\n",
    "\n",
    "Another powerful diagnostic tool for class-imbalanced classification tasks is the Receiver Operating Characteristic (ROC) curve. Notice that the default logistic regression classifier in `sklearn` classifies a data point by thresholding the predicted class probability $\\hat{P}(Y=1)$ at 0.5. By using a different threshold, we can adjust the trade-off between the true positive rate (TPR) and false positive rate (FPR) of the classifier. The ROC curve allows us to visualize this trade-off across all possible thresholds.\n",
    "\n",
    "\n",
    "1. Display the ROC curve for the fitted classifier on the *test set*. In the same plot, also display the ROC curve for the all 0's classifier. How do the two curves compare?\n",
    "\n",
    "2.  Compute the highest TPR that can be achieved by the classifier at each of the following FPR's, and the thresholds at which they are achieved. Based on your results, comment on how the threshold influences a classifier's FPR.\n",
    "    - FPR = 0\n",
    "    - FPR = 0.1\n",
    "    - FPR = 0.5\n",
    "    - FPR = 0.9\n",
    "- Suppose a clinician told you that diagnosing a cancer patient as normal is *twice* as critical an error as diagnosing a normal patient as having cancer. Based on this information, what threshold would you recommend the clinician to use? What is the TPR and FPR of the classifier at this threshold? \n",
    "\n",
    "- Compute the area under the ROC curve (AUC) for both the fitted classifier and the all 0's classifier. How does the difference in the AUCs of the two classifiers compare with the difference between their classification accuracies in Question 1, Part 2(A)? \n",
    "\n",
    "*Hint:* You may use the `metrics.roc_curve` function to compute the ROC curve for a classification model and the `metrics.roc_auc_score` function to compute the AUC for the model."
   ]
  },
  {
   "cell_type": "code",
   "execution_count": 76,
   "metadata": {},
   "outputs": [
    {
     "data": {
      "image/png": "[encoded data removed]",
      "text/plain": [
       "<matplotlib.figure.Figure at 0x1a104a5cc0>"
      ]
     },
     "metadata": {},
     "output_type": "display_data"
    }
   ],
   "source": [
    "def make_roc(name, clf, ytest, xtest, ax=None, labe=5, proba=True, skip=0):\n",
    "    initial=False\n",
    "    if not ax:\n",
    "        ax=plt.gca()\n",
    "        initial=True\n",
    "    if proba:#for stuff like logistic regression\n",
    "        fpr, tpr, thresholds=roc_curve(ytest, clf.predict_proba(xtest)[:,1])\n",
    "    else:#for stuff like SVM\n",
    "        fpr, tpr, thresholds=roc_curve(ytest, clf.decision_function(xtest))\n",
    "    roc_auc = auc(fpr, tpr)\n",
    "    if skip:\n",
    "        l=fpr.shape[0]\n",
    "        ax.plot(fpr[0:l:skip], tpr[0:l:skip], '.-', alpha=0.3, label='ROC curve for %s (area = %0.2f)' % (name, roc_auc))\n",
    "    else:\n",
    "        ax.plot(fpr, tpr, '.-', alpha=0.3, label='ROC curve for %s (area = %0.2f)' % (name, roc_auc))\n",
    "    label_kwargs = {}\n",
    "    label_kwargs['bbox'] = dict(\n",
    "        boxstyle='round,pad=0.3', alpha=0.2,\n",
    "    )\n",
    "    if labe!=None:\n",
    "        for k in range(0, fpr.shape[0],labe):\n",
    "            #from https://gist.github.com/podshumok/c1d1c9394335d86255b8\n",
    "            threshold = str(np.round(thresholds[k], 2))\n",
    "            ax.annotate(threshold, (fpr[k], tpr[k]), **label_kwargs)\n",
    "    if initial:\n",
    "        ax.plot([0, 1], [0, 1], 'k--', label=\"ROC curve for all-zero (area = 0.50)\")\n",
    "        ax.set_xlim([0.0, 1.0])\n",
    "        ax.set_ylim([0.0, 1.05])\n",
    "        ax.set_xlabel('False Positive Rate')\n",
    "        ax.set_ylabel('True Positive Rate')\n",
    "        ax.set_title('ROC')\n",
    "    ax.legend(loc=\"lower right\")\n",
    "    return ax\n",
    "\n",
    "sns.set_context(\"poster\")\n",
    "plt.figure(figsize=(12,7.5))\n",
    "ax=make_roc(\"logistic\",logit, y_test, X_test, labe=10, skip=5)"
   ]
  },
  {
   "cell_type": "markdown",
   "metadata": {},
   "source": [
    "## Answer:\n",
    "### 1. Display the ROC curve for the fitted classifier on the test set. In the same plot, also display the ROC curve for the all 0's classifier. How do the two curves compare?\n",
    "The ROC curve for logistic is clearly much better than the one for all-zero classifier. We can see the logistic one covers more area, which is almost double of the one for all-zero."
   ]
  },
  {
   "cell_type": "code",
   "execution_count": 116,
   "metadata": {},
   "outputs": [
    {
     "name": "stdout",
     "output_type": "stream",
     "text": [
      "If FPR=0, the highest TPR is 0.010869565217391304, and the threshold is 0.939774888515066\n",
      "If FPR=0.1, the highest TPR is 0.8369565217391305, and the threshold is 0.00954771520768657\n",
      "If FPR=0.5, the highest TPR is 0.9891304347826086, and the threshold is 0.0008126319315917487\n",
      "If FPR=0.9, the highest TPR is 1.0, and the threshold is 1.012077352857109e-34\n"
     ]
    }
   ],
   "source": [
    "fpr, tpr, thresholds=roc_curve(y_test, logit.predict_proba(X_test)[:,1])\n",
    "# fpr.shape, tpr.shape, thresholds.shape\n",
    "print(\"If FPR=0, the highest TPR is {}, and the threshold is {}\"\\\n",
    "      .format(tpr[(np.abs(fpr-0)).argmin()], thresholds[(np.abs(fpr-0)).argmin()]))\n",
    "print(\"If FPR=0.1, the highest TPR is {}, and the threshold is {}\"\\\n",
    "      .format(tpr[(np.abs(fpr-0.1)).argmin()], thresholds[(np.abs(fpr-0.1)).argmin()]))\n",
    "print(\"If FPR=0.5, the highest TPR is {}, and the threshold is {}\"\\\n",
    "      .format(tpr[(np.abs(fpr-0.5)).argmin()], thresholds[(np.abs(fpr-0.5)).argmin()]))\n",
    "print(\"If FPR=0.9, the highest TPR is {}, and the threshold is {}\"\\\n",
    "      .format(tpr[(np.abs(fpr-0.9)).argmin()], thresholds[(np.abs(fpr-0.9)).argmin()]))"
   ]
  },
  {
   "cell_type": "markdown",
   "metadata": {},
   "source": [
    "## Answer:\n",
    "### 2. Compute the highest TPR that can be achieved by the classifier at each of the following FPR's, and the thresholds at which they are achieved. Based on your results, comment on how the threshold influences a classifier's FPR.\n",
    "- "
   ]
  },
  {
   "cell_type": "markdown",
   "metadata": {
    "collapsed": true
   },
   "source": [
    "## Question 3: Missing data\n",
    "\n",
    "In this problem you are given a different data set, `hw6_dataset_missing.csv`, that is  similar to the one you used above (same column definitions and same conditions), however this data set contains missing values. \n",
    "\n",
    "*Note*: be careful of reading/treating column names and row names in this data set as well, it *may* be different than the first data set.\n",
    "\n",
    "\n",
    "1. Remove all observations that contain and missing values, split the dataset into a 75-25 train-test split, and fit the regularized logistic regression as in Question 1 (use `LogisticRegressionCV` again to retune).  Report the overall classification rate and TPR in the test set.\n",
    "2. Restart with a fresh copy of the data in `hw6_dataset_missing.csv` and impute the missing data via mean imputation.  Split the data 75-25 and fit the regularized logistic regression model.  Report the overall classification rate and TPR in the test set.  \n",
    "3. Again restart with a fresh copy of the data in `hw6_dataset_missing.csv` and impute the missing data via a model-based imputation method. Once again split the data 75-25 and fit the regularized logistic regression model.  Report the overall classification rate and TPR in the test set.  \n",
    "4. Compare the results in the 3 previous parts of this problem.  Prepare a paragraph (5-6 sentences) discussing the results, the computational complexity of the methods, and conjecture and explain why you get the results that you see.\n",
    "\n"
   ]
  },
  {
   "cell_type": "code",
   "execution_count": null,
   "metadata": {
    "collapsed": true
   },
   "outputs": [],
   "source": []
  },
  {
   "cell_type": "markdown",
   "metadata": {},
   "source": [
    "## APCOMP209a - Homework Question"
   ]
  },
  {
   "cell_type": "markdown",
   "metadata": {
    "collapsed": true
   },
   "source": [
    "\n",
    "This problem walks you through the derivation of the **likelihood equations** for a generalized linear model (GLM). Suppose that the random component of the GLM is in the univariate natural exponential family, so that\n",
    "$$f(y_i|\\theta_i) = h(y_i) e^{y_i\\theta_i - b(\\theta_i)}$$\n",
    "Define the individual log-likelihood for each observation $i$ as\n",
    "$$l_i(\\theta_i) \\equiv \\log f(y_i|\\theta_i)$$\n",
    "with linear predictor\n",
    "$$\\eta_i = x_i^T\\beta = g(\\mu_i)$$\n",
    "for some link function $g$ and where $\\mu_i=E(Y_i)$.\n",
    "\n",
    "1. Use the above expressions to write a simplified expression for the log-likelihood $l(\\theta)$ for the entire dataset, $y_1, \\dots, y_n$.\n",
    "\n",
    "2. Use the chain rule to express $\\frac{\\partial l_i}{\\partial \\beta_j}$ in terms of the derivatives of $l_i, \\theta_i, \\mu_i$, and $\\eta_i$. (*Hint*: Think carefully about which variables are related to which, and in what way. For example, for which of the above variables do you know the derivative with respect to $\\beta_j$?)\n",
    "\n",
    "3. Compute the derivatives for $\\frac{\\partial l_i}{\\partial \\theta_i}$ and $\\frac{\\partial \\eta_i}{\\partial \\beta_j}$.\n",
    "\n",
    "4. Express $\\mu_i$ in terms of $\\theta_i$, and use this relationship to compute $\\frac{\\partial \\theta_i}{\\partial \\mu_i}$. (\\emph{Hint}: Recall the cumulant function of a natural exponential family, and assume that you can write $\\partial f/\\partial g = (\\partial g / \\partial f)^{-1}$.)\n",
    "\n",
    "5. Express $\\eta_i$ in terms of $\\mu_i$. Using the same hint as the above, compute $\\frac{\\partial \\mu_i}{\\partial \\eta_i}$.\n",
    "\n",
    "6. Put all of the above parts together to write an expression for $\\frac{\\partial l}{\\partial \\beta_j}$. Use matrix notation to write this expression as\n",
    "$$\\nabla_{\\beta} l(\\beta) = XDV^{-1}(Y - \\mu) = 0$$\n",
    "That is, compute the matrices $D$ and $V$ such that this equation holds.\n",
    "\n",
    "7. If we use the canonical link function, how do your answers to part (6) simplify?\n",
    "\n",
    "8. Finally, compute the above likelihood equations in the case of logistic regression, and show that this is equivalent to the solution given in lecture.\n"
   ]
  },
  {
   "cell_type": "markdown",
   "metadata": {},
   "source": [
    "## Answer:\n",
    "### 1. Use the above expressions to write a simplified expression for the log-likelihood $l(\\theta)$ for the entire dataset, $y_1, \\dots, y_n$."
   ]
  },
  {
   "cell_type": "markdown",
   "metadata": {
    "collapsed": true
   },
   "source": [
    "$l(\\theta) = \\sum_{i=1}^{n}l_i \\theta_i\n",
    "= \\sum_{i=1}^{n}log(h(y_i)) + \\sum_{i=1}^{n}[y_i \\theta_i - b(\\theta_i)]$"
   ]
  },
  {
   "cell_type": "markdown",
   "metadata": {},
   "source": [
    "### 2. . Use the chain rule to express $\\frac{\\partial l_i}{\\partial \\beta_j}$ in terms of the derivatives of $l_i, \\theta_i, \\mu_i$, and $\\eta_i$. (*Hint*: Think carefully about which variables are related to which, and in what way. For example, for which of the above variables do you know the derivative with respect to $\\beta_j$?)"
   ]
  },
  {
   "cell_type": "markdown",
   "metadata": {},
   "source": [
    "$\\frac{\\partial l_i}{\\partial \\beta_j}$ = $\\frac{\\partial l_i}{\\partial \\theta_i} \\cdot\n",
    "\\frac{\\partial \\theta_i}{\\partial \\mu_i} \\cdot\n",
    "\\frac{\\partial \\mu_i}{\\partial \\eta_i} \\cdot\n",
    "\\frac{\\partial \\eta_i}{\\partial \\beta_j}\n",
    "$"
   ]
  },
  {
   "cell_type": "markdown",
   "metadata": {},
   "source": [
    "### 3. Compute the derivatives for $\\frac{\\partial l_i}{\\partial \\theta_i}$ and $\\frac{\\partial \\eta_i}{\\partial \\beta_j}$."
   ]
  },
  {
   "cell_type": "markdown",
   "metadata": {},
   "source": [
    "$\\frac{\\partial l_i}{\\partial \\theta_i} = y_i - b'(\\theta_i) = y_i - \\mu_i$"
   ]
  },
  {
   "cell_type": "markdown",
   "metadata": {},
   "source": [
    "Since $\\eta_i = x_i^T\\beta = \\beta_1 x_{i1} + \\dots + \\beta_p x_{ip}$, we get: $\\frac{\\partial \\eta_i}{\\partial \\beta_j} = x_{ij}$"
   ]
  },
  {
   "cell_type": "markdown",
   "metadata": {},
   "source": [
    "### 4. Express $\\mu_i$ in terms of $\\theta_i$, and use this relationship to compute $\\frac{\\partial \\theta_i}{\\partial \\mu_i}$. (Hint: Recall the cumulant function of a natural exponential family, and assume that you can write $\\partial f/\\partial g = (\\partial g / \\partial f)^{-1}$.)"
   ]
  },
  {
   "cell_type": "markdown",
   "metadata": {},
   "source": [
    "$\\mu_i = b'(\\theta_i)$\n",
    "\n",
    "$\\frac{\\partial \\theta_i}{\\partial \\mu_i} = (\\frac{\\partial \\mu_i}{\\partial \\theta_i})^{-1}\n",
    "= b''(\\theta_i)^{-1} = (Var(y_i|\\theta_i))^{-1} = \\frac{1}{Var(y_i|\\theta_i)}\n",
    "$"
   ]
  },
  {
   "cell_type": "markdown",
   "metadata": {},
   "source": [
    "### 5. Express $\\eta_i$ in terms of $\\mu_i$. Using the same hint as the above, compute $\\frac{\\partial \\mu_i}{\\partial \\eta_i}$."
   ]
  },
  {
   "cell_type": "markdown",
   "metadata": {},
   "source": [
    "$\\eta_i = g(\\mu_i)$\n",
    "\n",
    "$\\frac{\\partial \\mu_i}{\\partial \\eta_i} = (\\frac{\\partial \\eta_i}{\\partial \\mu_i})^{-1}\n",
    "= g'(\\mu_i)^{-1} = \\frac{1}{g'(\\mu_i)}\n",
    "$"
   ]
  },
  {
   "cell_type": "markdown",
   "metadata": {},
   "source": [
    "### 6. Put all of the above parts together to write an expression for $\\frac{\\partial l}{\\partial \\beta_j}$. Use matrix notation to write this expression as\n",
    "$$\\nabla_{\\beta} l(\\beta) = XDV^{-1}(Y - \\mu) = 0$$\n",
    "That is, compute the matrices $D$ and $V$ such that this equation holds."
   ]
  },
  {
   "cell_type": "markdown",
   "metadata": {},
   "source": [
    "$\\frac{\\partial l_i}{\\partial \\beta_j} = \\frac{\\partial l_i}{\\partial \\theta_i} \\cdot\n",
    "\\frac{\\partial \\theta_i}{\\partial \\mu_i} \\cdot\n",
    "\\frac{\\partial \\mu_i}{\\partial \\eta_i} \\cdot\n",
    "\\frac{\\partial \\eta_i}{\\partial \\beta_j}\n",
    "= (y_i - \\mu_i) \\cdot \\frac{1}{Var(y_i|\\theta_i)} \\cdot \\frac{1}{g'(\\mu_i)} \\cdot x_{ij}\n",
    "$\n",
    "\n",
    "$\\frac{\\partial l}{\\partial \\beta_j}\n",
    "= \\sum_{i=1}^{n}(y_i - \\mu_i) \\cdot \\frac{1}{Var(y_i|\\theta_i)} \\cdot \\frac{1}{g'(\\mu_i)} \\cdot x_{ij}\n",
    "$"
   ]
  },
  {
   "cell_type": "markdown",
   "metadata": {},
   "source": [
    "In matrix form, y and $\\mu$ are column vectors, and X is the data matrix.\n",
    "\n",
    "If we write this expression using matrix notation as $\\nabla_{\\beta} l(\\beta) = XDV^{-1}(Y - \\mu) = 0$, we will get the following matrices $D$ and $V^{-1}$:\n",
    "\n",
    "$D = \n",
    "\\begin{bmatrix}\n",
    "g'(\\mu_1)^{-1} & 0 & \\cdots & 0 \\\\\n",
    "0 & g'(\\mu_2)^{-1} & \\cdots & 0 \\\\\n",
    "\\vdots & \\vdots & \\ddots & \\vdots \\\\\n",
    "0 & 0 & 0 & g'(\\mu_n)^{-1}\n",
    "\\end{bmatrix}\n",
    "$\n",
    "\n",
    "$V =\n",
    "\\begin{bmatrix}\n",
    "Var(y_1|\\theta_1) & 0 & \\cdots & 0 \\\\\n",
    "0 & Var(y_2|\\theta_2) & \\cdots & 0 \\\\\n",
    "\\vdots & \\vdots & \\ddots & \\vdots \\\\\n",
    "0 & 0 & 0 & Var(y_n|\\theta_n)\n",
    "\\end{bmatrix}\n",
    "$\n",
    "\n"
   ]
  },
  {
   "cell_type": "markdown",
   "metadata": {},
   "source": [
    "### 7. If we use the canonical link function, how do your answers to part (6) simplify?"
   ]
  },
  {
   "cell_type": "markdown",
   "metadata": {},
   "source": [
    "Canonical link: $\\theta = \\eta$\n",
    "\n",
    "Therefore, we have $\\frac{\\partial \\theta_i}{\\partial \\mu_i} \\cdot \\frac{\\partial \\mu_i}{\\partial \\eta_i} = 1$\n",
    "\n",
    "The answer to part (6) can be simplified as $\\nabla_{\\beta} l(\\beta) = X(Y - \\mu) = 0$"
   ]
  },
  {
   "cell_type": "markdown",
   "metadata": {},
   "source": [
    "### 8. Finally, compute the above likelihood equations in the case of logistic regression, and show that this is equivalent to the solution given in lecture."
   ]
  },
  {
   "cell_type": "markdown",
   "metadata": {},
   "source": []
  },
  {
   "cell_type": "code",
   "execution_count": null,
   "metadata": {
    "collapsed": true
   },
   "outputs": [],
   "source": []
  }
 ],
 "metadata": {
  "anaconda-cloud": {},
  "kernelspec": {
   "display_name": "Python 3",
   "language": "python",
   "name": "python3"
  },
  "language_info": {
   "codemirror_mode": {
    "name": "ipython",
    "version": 3
   },
   "file_extension": ".py",
   "mimetype": "text/x-python",
   "name": "python",
   "nbconvert_exporter": "python",
   "pygments_lexer": "ipython3",
   "version": "3.6.2"
  }
 },
 "nbformat": 4,
 "nbformat_minor": 1
}
