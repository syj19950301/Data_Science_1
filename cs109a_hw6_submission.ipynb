{
 "cells": [
  {
   "cell_type": "markdown",
   "metadata": {},
   "source": [
    "# CS 109A/STAT 121A/AC 209A/CSCI E-109A: Homework 6\n",
    "# Reg-Logistic Regression, ROC, and Data Imputation\n",
    "\n",
    "**Harvard University**<br/>\n",
    "**Fall 2017**<br/>\n",
    "**Instructors**: Pavlos Protopapas, Kevin Rader, Rahul Dave, Margo Levine\n",
    "\n",
    "---\n",
    "\n",
    "### INSTRUCTIONS\n",
    "\n",
    "- To submit your assignment follow the instructions given in canvas.\n",
    "- Restart the kernel and run the whole notebook again before you submit. \n",
    "- Do not include your name(s) in the notebook if you are submitting as a group. \n",
    "- If you submit individually and you have worked with someone, please include the name of your [one] partner below. \n",
    "\n",
    "---"
   ]
  },
  {
   "cell_type": "markdown",
   "metadata": {},
   "source": [
    "Your partner's name (if you submit separately):\n",
    "\n",
    "Enrollment Status (109A, 121A, 209A, or E109A):"
   ]
  },
  {
   "cell_type": "markdown",
   "metadata": {},
   "source": [
    "Import libraries:"
   ]
  },
  {
   "cell_type": "code",
   "execution_count": 1,
   "metadata": {},
   "outputs": [
    {
     "name": "stderr",
     "output_type": "stream",
     "text": [
      "/Users/yijunshen/anaconda3/lib/python3.6/site-packages/seaborn/apionly.py:6: UserWarning: As seaborn no longer sets a default style on import, the seaborn.apionly module is deprecated. It will be removed in a future version.\n",
      "  warnings.warn(msg, UserWarning)\n"
     ]
    }
   ],
   "source": [
    "import numpy as np\n",
    "import pandas as pd\n",
    "import matplotlib\n",
    "import matplotlib.pyplot as plt\n",
    "from sklearn.linear_model import LogisticRegressionCV\n",
    "import sklearn.metrics as metrics\n",
    "from sklearn.preprocessing import PolynomialFeatures\n",
    "from sklearn.discriminant_analysis import LinearDiscriminantAnalysis\n",
    "from sklearn.discriminant_analysis import QuadraticDiscriminantAnalysis\n",
    "from sklearn.neighbors import KNeighborsClassifier\n",
    "from sklearn.tree import DecisionTreeClassifier\n",
    "from sklearn.model_selection import cross_val_score\n",
    "from sklearn.metrics import accuracy_score\n",
    "\n",
    "from sklearn.tree import export_graphviz\n",
    "from IPython.display import Image\n",
    "from IPython.display import display\n",
    "%matplotlib inline\n",
    "\n",
    "from sklearn.model_selection import train_test_split\n",
    "from sklearn.metrics import confusion_matrix\n",
    "from sklearn.metrics import roc_curve, auc\n",
    "from sklearn.metrics import roc_auc_score\n",
    "import seaborn.apionly as sns"
   ]
  },
  {
   "cell_type": "markdown",
   "metadata": {},
   "source": [
    "## Automated Breast Cancer Detection\n",
    "\n",
    "In this homework, we will consider the problem of early breast cancer detection from X-ray images. Specifically, given a candidate region of interest (ROI) from an X-ray image of a patient's breast, the goal is to predict if the region corresponds to a malignant tumor (label 1) or is normal (label 0). The training and test data sets for this problem is provided in the file `hw6_dataset.csv`. Each row in these files corresponds to a ROI in a patient's X-ray, with columns 1-117 containing features computed using standard image processing algorithms. The last column contains the class label, and is based on a radiologist's opinion or a biopsy. This data was obtained from the KDD Cup 2008 challenge.\n",
    "\n",
    "The data set contain a total of 69,098 candidate ROIs, of which only 409 are malignant, while the remaining are all normal. \n",
    "\n",
    "*Note*: be careful of reading/treating column names and row names in this data set."
   ]
  },
  {
   "cell_type": "markdown",
   "metadata": {},
   "source": [
    "## Question 1: Beyond Classification Accuracy\n",
    "\n",
    "\n",
    "0.  Split the data set into a training set and a testing set.  The training set should be 75% of the original data set, and the testing set 25%.  Use `np.random.seed(9001)`.\n",
    "\n",
    "1. Fit a logistic regression classifier to the training set and report the  accuracy of the classifier on the test set. You should use $L_2$ regularization in logistic regression, with the regularization parameter tuned using cross-validation. \n",
    "    1. How does the fitted model compare with a classifier that predicts 'normal' (label 0) on all patients? \n",
    "    2. Do you think the difference in the classification accuracies are large enough to declare logistic regression as a better classifier than the all 0's classifier? Why or why not?\n",
    "    \n",
    "For applications with imbalanced class labels, in this case when there are many more healthy subjects ($Y=0$) than those with cancer ($Y=1$), the classification accuracy may not be the best metric to evaluate a classifier's performance. As an alternative, we could analyze the confusion table for the classifier. \n",
    "\n",
    "<ol start=\"3\">\n",
    "<li> Compute the confusion table for both the fitted classifier and the classifier that predicts all 0's.</li>\n",
    "<li> Using the entries of the confusion table compute the *true positive rate* and the *true negative rate* for the two classifiers. Explain what these evaluation metrics mean for the specific task of cancer detection. Based on the observed metrics, comment on whether the fitted model is better than the all 0's classifier.</li>\n",
    "<li> What is the *false positive rate* of the fitted classifier, and how is it related to its true positive and true negative rate? Why is a classifier with high false positive rate undesirable for a cancer detection task?</li>\n",
    "</ol>\n",
    "*Hint:* You may use the `metrics.confusion_matrix` function to compute the confusion matrix for a classification model."
   ]
  },
  {
   "cell_type": "code",
   "execution_count": 2,
   "metadata": {},
   "outputs": [
    {
     "data": {
      "text/html": [
       "<div>\n",
       "<style>\n",
       "    .dataframe thead tr:only-child th {\n",
       "        text-align: right;\n",
       "    }\n",
       "\n",
       "    .dataframe thead th {\n",
       "        text-align: left;\n",
       "    }\n",
       "\n",
       "    .dataframe tbody tr th {\n",
       "        vertical-align: top;\n",
       "    }\n",
       "</style>\n",
       "<table border=\"1\" class=\"dataframe\">\n",
       "  <thead>\n",
       "    <tr style=\"text-align: right;\">\n",
       "      <th></th>\n",
       "      <th>-1.439999999999999891e-01</th>\n",
       "      <th>-1.429999999999999882e-01</th>\n",
       "      <th>-1.160000000000000059e-01</th>\n",
       "      <th>-1.029999999999999943e-01</th>\n",
       "      <th>2.260000000000000064e-01</th>\n",
       "      <th>2.099999999999999922e-01</th>\n",
       "      <th>-9.799999999999999822e-01</th>\n",
       "      <th>-7.800000000000000266e-01</th>\n",
       "      <th>-4.739999999999999769e-01</th>\n",
       "      <th>-4.470000000000000084e-01</th>\n",
       "      <th>...</th>\n",
       "      <th>9.250000000000000444e-01</th>\n",
       "      <th>5.160000000000000142e-01</th>\n",
       "      <th>3.439999999999999725e-01</th>\n",
       "      <th>9.060000000000000275e-01</th>\n",
       "      <th>-1.129999999999999893e+00</th>\n",
       "      <th>-5.520000000000000462e-01</th>\n",
       "      <th>5.530000000000000471e-01</th>\n",
       "      <th>-4.169999999999999818e-01</th>\n",
       "      <th>2.560000000000000053e-01</th>\n",
       "      <th>0.000000000000000000e+00</th>\n",
       "    </tr>\n",
       "  </thead>\n",
       "  <tbody>\n",
       "    <tr>\n",
       "      <th>0</th>\n",
       "      <td>-0.01100</td>\n",
       "      <td>0.138</td>\n",
       "      <td>-0.2230</td>\n",
       "      <td>-0.1730</td>\n",
       "      <td>0.188</td>\n",
       "      <td>0.284</td>\n",
       "      <td>-0.0522</td>\n",
       "      <td>-0.256</td>\n",
       "      <td>0.129</td>\n",
       "      <td>0.427</td>\n",
       "      <td>...</td>\n",
       "      <td>-0.593</td>\n",
       "      <td>0.452</td>\n",
       "      <td>0.00785</td>\n",
       "      <td>-0.533</td>\n",
       "      <td>-0.0789</td>\n",
       "      <td>0.705</td>\n",
       "      <td>0.906</td>\n",
       "      <td>0.216</td>\n",
       "      <td>-0.0723</td>\n",
       "      <td>0.0</td>\n",
       "    </tr>\n",
       "    <tr>\n",
       "      <th>1</th>\n",
       "      <td>0.21200</td>\n",
       "      <td>-0.313</td>\n",
       "      <td>0.2660</td>\n",
       "      <td>0.2320</td>\n",
       "      <td>-1.190</td>\n",
       "      <td>-1.150</td>\n",
       "      <td>-1.8100</td>\n",
       "      <td>-1.560</td>\n",
       "      <td>-1.250</td>\n",
       "      <td>-1.200</td>\n",
       "      <td>...</td>\n",
       "      <td>-0.816</td>\n",
       "      <td>1.570</td>\n",
       "      <td>0.39400</td>\n",
       "      <td>1.340</td>\n",
       "      <td>-1.1800</td>\n",
       "      <td>-2.700</td>\n",
       "      <td>-0.926</td>\n",
       "      <td>-2.650</td>\n",
       "      <td>-0.0447</td>\n",
       "      <td>0.0</td>\n",
       "    </tr>\n",
       "    <tr>\n",
       "      <th>2</th>\n",
       "      <td>0.21500</td>\n",
       "      <td>-0.184</td>\n",
       "      <td>0.0274</td>\n",
       "      <td>0.0494</td>\n",
       "      <td>0.443</td>\n",
       "      <td>0.463</td>\n",
       "      <td>-1.0500</td>\n",
       "      <td>-0.941</td>\n",
       "      <td>-0.531</td>\n",
       "      <td>-0.394</td>\n",
       "      <td>...</td>\n",
       "      <td>0.634</td>\n",
       "      <td>0.111</td>\n",
       "      <td>0.37100</td>\n",
       "      <td>0.859</td>\n",
       "      <td>-0.9930</td>\n",
       "      <td>-0.492</td>\n",
       "      <td>0.363</td>\n",
       "      <td>0.326</td>\n",
       "      <td>-0.0528</td>\n",
       "      <td>0.0</td>\n",
       "    </tr>\n",
       "    <tr>\n",
       "      <th>3</th>\n",
       "      <td>0.27900</td>\n",
       "      <td>-0.197</td>\n",
       "      <td>0.1270</td>\n",
       "      <td>0.0973</td>\n",
       "      <td>-0.213</td>\n",
       "      <td>-0.150</td>\n",
       "      <td>-1.3200</td>\n",
       "      <td>-0.994</td>\n",
       "      <td>-1.110</td>\n",
       "      <td>-1.090</td>\n",
       "      <td>...</td>\n",
       "      <td>-0.640</td>\n",
       "      <td>0.485</td>\n",
       "      <td>0.29500</td>\n",
       "      <td>0.403</td>\n",
       "      <td>-1.1200</td>\n",
       "      <td>-0.343</td>\n",
       "      <td>0.468</td>\n",
       "      <td>-0.820</td>\n",
       "      <td>0.4350</td>\n",
       "      <td>0.0</td>\n",
       "    </tr>\n",
       "    <tr>\n",
       "      <th>4</th>\n",
       "      <td>0.00922</td>\n",
       "      <td>-0.138</td>\n",
       "      <td>0.1690</td>\n",
       "      <td>0.1540</td>\n",
       "      <td>-0.391</td>\n",
       "      <td>-0.397</td>\n",
       "      <td>-1.6900</td>\n",
       "      <td>-1.450</td>\n",
       "      <td>-0.546</td>\n",
       "      <td>-0.527</td>\n",
       "      <td>...</td>\n",
       "      <td>-0.277</td>\n",
       "      <td>0.699</td>\n",
       "      <td>0.37100</td>\n",
       "      <td>0.481</td>\n",
       "      <td>-1.0600</td>\n",
       "      <td>-0.526</td>\n",
       "      <td>0.550</td>\n",
       "      <td>-0.284</td>\n",
       "      <td>0.1550</td>\n",
       "      <td>0.0</td>\n",
       "    </tr>\n",
       "  </tbody>\n",
       "</table>\n",
       "<p>5 rows × 118 columns</p>\n",
       "</div>"
      ],
      "text/plain": [
       "   -1.439999999999999891e-01  -1.429999999999999882e-01  \\\n",
       "0                   -0.01100                      0.138   \n",
       "1                    0.21200                     -0.313   \n",
       "2                    0.21500                     -0.184   \n",
       "3                    0.27900                     -0.197   \n",
       "4                    0.00922                     -0.138   \n",
       "\n",
       "   -1.160000000000000059e-01  -1.029999999999999943e-01  \\\n",
       "0                    -0.2230                    -0.1730   \n",
       "1                     0.2660                     0.2320   \n",
       "2                     0.0274                     0.0494   \n",
       "3                     0.1270                     0.0973   \n",
       "4                     0.1690                     0.1540   \n",
       "\n",
       "   2.260000000000000064e-01  2.099999999999999922e-01  \\\n",
       "0                     0.188                     0.284   \n",
       "1                    -1.190                    -1.150   \n",
       "2                     0.443                     0.463   \n",
       "3                    -0.213                    -0.150   \n",
       "4                    -0.391                    -0.397   \n",
       "\n",
       "   -9.799999999999999822e-01  -7.800000000000000266e-01  \\\n",
       "0                    -0.0522                     -0.256   \n",
       "1                    -1.8100                     -1.560   \n",
       "2                    -1.0500                     -0.941   \n",
       "3                    -1.3200                     -0.994   \n",
       "4                    -1.6900                     -1.450   \n",
       "\n",
       "   -4.739999999999999769e-01  -4.470000000000000084e-01  \\\n",
       "0                      0.129                      0.427   \n",
       "1                     -1.250                     -1.200   \n",
       "2                     -0.531                     -0.394   \n",
       "3                     -1.110                     -1.090   \n",
       "4                     -0.546                     -0.527   \n",
       "\n",
       "             ...             9.250000000000000444e-01  \\\n",
       "0            ...                               -0.593   \n",
       "1            ...                               -0.816   \n",
       "2            ...                                0.634   \n",
       "3            ...                               -0.640   \n",
       "4            ...                               -0.277   \n",
       "\n",
       "   5.160000000000000142e-01  3.439999999999999725e-01  \\\n",
       "0                     0.452                   0.00785   \n",
       "1                     1.570                   0.39400   \n",
       "2                     0.111                   0.37100   \n",
       "3                     0.485                   0.29500   \n",
       "4                     0.699                   0.37100   \n",
       "\n",
       "   9.060000000000000275e-01  -1.129999999999999893e+00  \\\n",
       "0                    -0.533                    -0.0789   \n",
       "1                     1.340                    -1.1800   \n",
       "2                     0.859                    -0.9930   \n",
       "3                     0.403                    -1.1200   \n",
       "4                     0.481                    -1.0600   \n",
       "\n",
       "   -5.520000000000000462e-01  5.530000000000000471e-01  \\\n",
       "0                      0.705                     0.906   \n",
       "1                     -2.700                    -0.926   \n",
       "2                     -0.492                     0.363   \n",
       "3                     -0.343                     0.468   \n",
       "4                     -0.526                     0.550   \n",
       "\n",
       "   -4.169999999999999818e-01  2.560000000000000053e-01  \\\n",
       "0                      0.216                   -0.0723   \n",
       "1                     -2.650                   -0.0447   \n",
       "2                      0.326                   -0.0528   \n",
       "3                     -0.820                    0.4350   \n",
       "4                     -0.284                    0.1550   \n",
       "\n",
       "   0.000000000000000000e+00  \n",
       "0                       0.0  \n",
       "1                       0.0  \n",
       "2                       0.0  \n",
       "3                       0.0  \n",
       "4                       0.0  \n",
       "\n",
       "[5 rows x 118 columns]"
      ]
     },
     "execution_count": 2,
     "metadata": {},
     "output_type": "execute_result"
    }
   ],
   "source": [
    "np.random.seed(9001)\n",
    "df = pd.read_csv('hw6_dataset.csv')\n",
    "df.head()"
   ]
  },
  {
   "cell_type": "code",
   "execution_count": 3,
   "metadata": {},
   "outputs": [
    {
     "data": {
      "text/html": [
       "<div>\n",
       "<style>\n",
       "    .dataframe thead tr:only-child th {\n",
       "        text-align: right;\n",
       "    }\n",
       "\n",
       "    .dataframe thead th {\n",
       "        text-align: left;\n",
       "    }\n",
       "\n",
       "    .dataframe tbody tr th {\n",
       "        vertical-align: top;\n",
       "    }\n",
       "</style>\n",
       "<table border=\"1\" class=\"dataframe\">\n",
       "  <thead>\n",
       "    <tr style=\"text-align: right;\">\n",
       "      <th></th>\n",
       "      <th>-1.439999999999999891e-01</th>\n",
       "      <th>-1.429999999999999882e-01</th>\n",
       "      <th>-1.160000000000000059e-01</th>\n",
       "      <th>-1.029999999999999943e-01</th>\n",
       "      <th>2.260000000000000064e-01</th>\n",
       "      <th>2.099999999999999922e-01</th>\n",
       "      <th>-9.799999999999999822e-01</th>\n",
       "      <th>-7.800000000000000266e-01</th>\n",
       "      <th>-4.739999999999999769e-01</th>\n",
       "      <th>-4.470000000000000084e-01</th>\n",
       "      <th>...</th>\n",
       "      <th>9.250000000000000444e-01</th>\n",
       "      <th>5.160000000000000142e-01</th>\n",
       "      <th>3.439999999999999725e-01</th>\n",
       "      <th>9.060000000000000275e-01</th>\n",
       "      <th>-1.129999999999999893e+00</th>\n",
       "      <th>-5.520000000000000462e-01</th>\n",
       "      <th>5.530000000000000471e-01</th>\n",
       "      <th>-4.169999999999999818e-01</th>\n",
       "      <th>2.560000000000000053e-01</th>\n",
       "      <th>0.000000000000000000e+00</th>\n",
       "    </tr>\n",
       "  </thead>\n",
       "  <tbody>\n",
       "    <tr>\n",
       "      <th>count</th>\n",
       "      <td>69097.000000</td>\n",
       "      <td>69097.000000</td>\n",
       "      <td>69097.000000</td>\n",
       "      <td>69097.000000</td>\n",
       "      <td>69097.000000</td>\n",
       "      <td>69097.000000</td>\n",
       "      <td>69097.000000</td>\n",
       "      <td>69097.000000</td>\n",
       "      <td>69097.000000</td>\n",
       "      <td>69097.000000</td>\n",
       "      <td>...</td>\n",
       "      <td>69097.000000</td>\n",
       "      <td>69097.000000</td>\n",
       "      <td>69097.000000</td>\n",
       "      <td>69097.000000</td>\n",
       "      <td>69097.000000</td>\n",
       "      <td>69097.000000</td>\n",
       "      <td>69097.000000</td>\n",
       "      <td>69097.000000</td>\n",
       "      <td>69097.000000</td>\n",
       "      <td>69097.000000</td>\n",
       "    </tr>\n",
       "    <tr>\n",
       "      <th>mean</th>\n",
       "      <td>-0.000998</td>\n",
       "      <td>-0.001317</td>\n",
       "      <td>0.000783</td>\n",
       "      <td>0.000315</td>\n",
       "      <td>-0.003164</td>\n",
       "      <td>-0.002645</td>\n",
       "      <td>0.000860</td>\n",
       "      <td>-0.000371</td>\n",
       "      <td>0.002183</td>\n",
       "      <td>0.002589</td>\n",
       "      <td>...</td>\n",
       "      <td>0.002552</td>\n",
       "      <td>-0.001249</td>\n",
       "      <td>-0.001666</td>\n",
       "      <td>0.002447</td>\n",
       "      <td>-0.000894</td>\n",
       "      <td>0.000008</td>\n",
       "      <td>-0.001287</td>\n",
       "      <td>0.000274</td>\n",
       "      <td>0.000840</td>\n",
       "      <td>0.005919</td>\n",
       "    </tr>\n",
       "    <tr>\n",
       "      <th>std</th>\n",
       "      <td>1.211814</td>\n",
       "      <td>1.057315</td>\n",
       "      <td>1.025786</td>\n",
       "      <td>1.033030</td>\n",
       "      <td>0.983603</td>\n",
       "      <td>0.988942</td>\n",
       "      <td>0.999775</td>\n",
       "      <td>0.998938</td>\n",
       "      <td>1.005921</td>\n",
       "      <td>1.004499</td>\n",
       "      <td>...</td>\n",
       "      <td>1.003115</td>\n",
       "      <td>0.999683</td>\n",
       "      <td>0.998781</td>\n",
       "      <td>1.003225</td>\n",
       "      <td>1.000271</td>\n",
       "      <td>0.999411</td>\n",
       "      <td>1.000923</td>\n",
       "      <td>0.999324</td>\n",
       "      <td>1.024495</td>\n",
       "      <td>0.076709</td>\n",
       "    </tr>\n",
       "    <tr>\n",
       "      <th>min</th>\n",
       "      <td>-316.000000</td>\n",
       "      <td>-147.000000</td>\n",
       "      <td>-71.400000</td>\n",
       "      <td>-81.400000</td>\n",
       "      <td>-3.080000</td>\n",
       "      <td>-9.120000</td>\n",
       "      <td>-2.070000</td>\n",
       "      <td>-1.910000</td>\n",
       "      <td>-1.570000</td>\n",
       "      <td>-1.500000</td>\n",
       "      <td>...</td>\n",
       "      <td>-15.200000</td>\n",
       "      <td>-7.460000</td>\n",
       "      <td>-32.900000</td>\n",
       "      <td>-7.780000</td>\n",
       "      <td>-1.220000</td>\n",
       "      <td>-4.710000</td>\n",
       "      <td>-5.450000</td>\n",
       "      <td>-6.340000</td>\n",
       "      <td>-23.200000</td>\n",
       "      <td>0.000000</td>\n",
       "    </tr>\n",
       "    <tr>\n",
       "      <th>25%</th>\n",
       "      <td>-0.064700</td>\n",
       "      <td>-0.040900</td>\n",
       "      <td>-0.253000</td>\n",
       "      <td>-0.214000</td>\n",
       "      <td>-0.569000</td>\n",
       "      <td>-0.553000</td>\n",
       "      <td>-0.532000</td>\n",
       "      <td>-0.597000</td>\n",
       "      <td>-0.711000</td>\n",
       "      <td>-0.728000</td>\n",
       "      <td>...</td>\n",
       "      <td>-0.458000</td>\n",
       "      <td>-0.491000</td>\n",
       "      <td>-0.334000</td>\n",
       "      <td>-0.520000</td>\n",
       "      <td>-0.857000</td>\n",
       "      <td>-0.247000</td>\n",
       "      <td>-0.606000</td>\n",
       "      <td>-0.097800</td>\n",
       "      <td>-0.259000</td>\n",
       "      <td>0.000000</td>\n",
       "    </tr>\n",
       "    <tr>\n",
       "      <th>50%</th>\n",
       "      <td>0.024400</td>\n",
       "      <td>0.103000</td>\n",
       "      <td>0.095600</td>\n",
       "      <td>0.085000</td>\n",
       "      <td>-0.099200</td>\n",
       "      <td>-0.098800</td>\n",
       "      <td>0.013700</td>\n",
       "      <td>-0.075300</td>\n",
       "      <td>-0.227000</td>\n",
       "      <td>-0.235000</td>\n",
       "      <td>...</td>\n",
       "      <td>-0.102000</td>\n",
       "      <td>0.161000</td>\n",
       "      <td>0.205000</td>\n",
       "      <td>-0.269000</td>\n",
       "      <td>-0.132000</td>\n",
       "      <td>0.321000</td>\n",
       "      <td>0.269000</td>\n",
       "      <td>0.326000</td>\n",
       "      <td>-0.142000</td>\n",
       "      <td>0.000000</td>\n",
       "    </tr>\n",
       "    <tr>\n",
       "      <th>75%</th>\n",
       "      <td>0.094200</td>\n",
       "      <td>0.176000</td>\n",
       "      <td>0.361000</td>\n",
       "      <td>0.313000</td>\n",
       "      <td>0.450000</td>\n",
       "      <td>0.434000</td>\n",
       "      <td>0.582000</td>\n",
       "      <td>0.513000</td>\n",
       "      <td>0.488000</td>\n",
       "      <td>0.498000</td>\n",
       "      <td>...</td>\n",
       "      <td>0.322000</td>\n",
       "      <td>0.559000</td>\n",
       "      <td>0.399000</td>\n",
       "      <td>0.134000</td>\n",
       "      <td>0.645000</td>\n",
       "      <td>0.645000</td>\n",
       "      <td>0.801000</td>\n",
       "      <td>0.583000</td>\n",
       "      <td>0.006700</td>\n",
       "      <td>0.000000</td>\n",
       "    </tr>\n",
       "    <tr>\n",
       "      <th>max</th>\n",
       "      <td>1.340000</td>\n",
       "      <td>3.750000</td>\n",
       "      <td>2.030000</td>\n",
       "      <td>1.750000</td>\n",
       "      <td>28.000000</td>\n",
       "      <td>26.900000</td>\n",
       "      <td>11.200000</td>\n",
       "      <td>22.200000</td>\n",
       "      <td>16.700000</td>\n",
       "      <td>22.500000</td>\n",
       "      <td>...</td>\n",
       "      <td>13.000000</td>\n",
       "      <td>6.310000</td>\n",
       "      <td>17.000000</td>\n",
       "      <td>10.600000</td>\n",
       "      <td>17.700000</td>\n",
       "      <td>1.410000</td>\n",
       "      <td>1.440000</td>\n",
       "      <td>1.420000</td>\n",
       "      <td>40.600000</td>\n",
       "      <td>1.000000</td>\n",
       "    </tr>\n",
       "  </tbody>\n",
       "</table>\n",
       "<p>8 rows × 118 columns</p>\n",
       "</div>"
      ],
      "text/plain": [
       "       -1.439999999999999891e-01  -1.429999999999999882e-01  \\\n",
       "count               69097.000000               69097.000000   \n",
       "mean                   -0.000998                  -0.001317   \n",
       "std                     1.211814                   1.057315   \n",
       "min                  -316.000000                -147.000000   \n",
       "25%                    -0.064700                  -0.040900   \n",
       "50%                     0.024400                   0.103000   \n",
       "75%                     0.094200                   0.176000   \n",
       "max                     1.340000                   3.750000   \n",
       "\n",
       "       -1.160000000000000059e-01  -1.029999999999999943e-01  \\\n",
       "count               69097.000000               69097.000000   \n",
       "mean                    0.000783                   0.000315   \n",
       "std                     1.025786                   1.033030   \n",
       "min                   -71.400000                 -81.400000   \n",
       "25%                    -0.253000                  -0.214000   \n",
       "50%                     0.095600                   0.085000   \n",
       "75%                     0.361000                   0.313000   \n",
       "max                     2.030000                   1.750000   \n",
       "\n",
       "       2.260000000000000064e-01  2.099999999999999922e-01  \\\n",
       "count              69097.000000              69097.000000   \n",
       "mean                  -0.003164                 -0.002645   \n",
       "std                    0.983603                  0.988942   \n",
       "min                   -3.080000                 -9.120000   \n",
       "25%                   -0.569000                 -0.553000   \n",
       "50%                   -0.099200                 -0.098800   \n",
       "75%                    0.450000                  0.434000   \n",
       "max                   28.000000                 26.900000   \n",
       "\n",
       "       -9.799999999999999822e-01  -7.800000000000000266e-01  \\\n",
       "count               69097.000000               69097.000000   \n",
       "mean                    0.000860                  -0.000371   \n",
       "std                     0.999775                   0.998938   \n",
       "min                    -2.070000                  -1.910000   \n",
       "25%                    -0.532000                  -0.597000   \n",
       "50%                     0.013700                  -0.075300   \n",
       "75%                     0.582000                   0.513000   \n",
       "max                    11.200000                  22.200000   \n",
       "\n",
       "       -4.739999999999999769e-01  -4.470000000000000084e-01  \\\n",
       "count               69097.000000               69097.000000   \n",
       "mean                    0.002183                   0.002589   \n",
       "std                     1.005921                   1.004499   \n",
       "min                    -1.570000                  -1.500000   \n",
       "25%                    -0.711000                  -0.728000   \n",
       "50%                    -0.227000                  -0.235000   \n",
       "75%                     0.488000                   0.498000   \n",
       "max                    16.700000                  22.500000   \n",
       "\n",
       "                 ...             9.250000000000000444e-01  \\\n",
       "count            ...                         69097.000000   \n",
       "mean             ...                             0.002552   \n",
       "std              ...                             1.003115   \n",
       "min              ...                           -15.200000   \n",
       "25%              ...                            -0.458000   \n",
       "50%              ...                            -0.102000   \n",
       "75%              ...                             0.322000   \n",
       "max              ...                            13.000000   \n",
       "\n",
       "       5.160000000000000142e-01  3.439999999999999725e-01  \\\n",
       "count              69097.000000              69097.000000   \n",
       "mean                  -0.001249                 -0.001666   \n",
       "std                    0.999683                  0.998781   \n",
       "min                   -7.460000                -32.900000   \n",
       "25%                   -0.491000                 -0.334000   \n",
       "50%                    0.161000                  0.205000   \n",
       "75%                    0.559000                  0.399000   \n",
       "max                    6.310000                 17.000000   \n",
       "\n",
       "       9.060000000000000275e-01  -1.129999999999999893e+00  \\\n",
       "count              69097.000000               69097.000000   \n",
       "mean                   0.002447                  -0.000894   \n",
       "std                    1.003225                   1.000271   \n",
       "min                   -7.780000                  -1.220000   \n",
       "25%                   -0.520000                  -0.857000   \n",
       "50%                   -0.269000                  -0.132000   \n",
       "75%                    0.134000                   0.645000   \n",
       "max                   10.600000                  17.700000   \n",
       "\n",
       "       -5.520000000000000462e-01  5.530000000000000471e-01  \\\n",
       "count               69097.000000              69097.000000   \n",
       "mean                    0.000008                 -0.001287   \n",
       "std                     0.999411                  1.000923   \n",
       "min                    -4.710000                 -5.450000   \n",
       "25%                    -0.247000                 -0.606000   \n",
       "50%                     0.321000                  0.269000   \n",
       "75%                     0.645000                  0.801000   \n",
       "max                     1.410000                  1.440000   \n",
       "\n",
       "       -4.169999999999999818e-01  2.560000000000000053e-01  \\\n",
       "count               69097.000000              69097.000000   \n",
       "mean                    0.000274                  0.000840   \n",
       "std                     0.999324                  1.024495   \n",
       "min                    -6.340000                -23.200000   \n",
       "25%                    -0.097800                 -0.259000   \n",
       "50%                     0.326000                 -0.142000   \n",
       "75%                     0.583000                  0.006700   \n",
       "max                     1.420000                 40.600000   \n",
       "\n",
       "       0.000000000000000000e+00  \n",
       "count              69097.000000  \n",
       "mean                   0.005919  \n",
       "std                    0.076709  \n",
       "min                    0.000000  \n",
       "25%                    0.000000  \n",
       "50%                    0.000000  \n",
       "75%                    0.000000  \n",
       "max                    1.000000  \n",
       "\n",
       "[8 rows x 118 columns]"
      ]
     },
     "execution_count": 3,
     "metadata": {},
     "output_type": "execute_result"
    }
   ],
   "source": [
    "df.describe()"
   ]
  },
  {
   "cell_type": "code",
   "execution_count": 4,
   "metadata": {},
   "outputs": [
    {
     "data": {
      "text/plain": [
       "((51822, 117), (51822,), (17275, 117), (17275,))"
      ]
     },
     "execution_count": 4,
     "metadata": {},
     "output_type": "execute_result"
    }
   ],
   "source": [
    "# Based on the describe() table above, it seems that all means are 0 and std are 1. Already normalized.\n",
    "X = df.iloc[:, :-1]\n",
    "y = df.iloc[:, -1]\n",
    "X_train, X_test, y_train, y_test = train_test_split(X, y, test_size=0.25, random_state=42)\n",
    "X_train.shape, y_train.shape, X_test.shape, y_test.shape"
   ]
  },
  {
   "cell_type": "code",
   "execution_count": 5,
   "metadata": {
    "collapsed": true
   },
   "outputs": [],
   "source": [
    "# def normalize_columns_strat1(X, X_mu, X_sd):\n",
    "#     return (X-X_mu)/X_sd\n",
    "\n",
    "# X_mu = np.mean(X_train,axis=0)[1:]\n",
    "# X_sd = np.std(X_train,axis=0)[1:]\n",
    "# X_train = normalize_columns_strat1(X=X_train, X_mu=X_mu, X_sd=X_sd)\n",
    "# X_test = normalize_columns_strat1(X=X_test, X_mu=X_mu, X_sd=X_sd)"
   ]
  },
  {
   "cell_type": "code",
   "execution_count": 6,
   "metadata": {},
   "outputs": [
    {
     "name": "stdout",
     "output_type": "stream",
     "text": [
      "Logistic regression classifier on test set has accuracy: 0.995253256151\n"
     ]
    }
   ],
   "source": [
    "reg_Cs = np.hstack((10.**np.arange(-5, 0), 10**np.arange(0, 6)))\n",
    "\n",
    "logit = LogisticRegressionCV(reg_Cs, cv=5)\n",
    "logit.fit(X_train, y_train)\n",
    "print(\"Logistic regression classifier on test set has accuracy:\", logit.score(X_test, y_test))"
   ]
  },
  {
   "cell_type": "code",
   "execution_count": 7,
   "metadata": {},
   "outputs": [
    {
     "name": "stdout",
     "output_type": "stream",
     "text": [
      "A classifier that predicts 'normal' (label 0) on patients in the test set has accuracy: 0.994674384949\n"
     ]
    }
   ],
   "source": [
    "y_test.values\n",
    "test_zeros = (y_test.values == 0).sum()\n",
    "test_ones = (y_test.values == 1).sum()\n",
    "test_total = y_test.values.shape[0]\n",
    "# test_zeros, test_ones, test_zeros+test_ones, test_total\n",
    "all_zero_accuracy = test_zeros/test_total\n",
    "print(\"A classifier that predicts 'normal' (label 0) on patients in the test set has accuracy:\", all_zero_accuracy)"
   ]
  },
  {
   "cell_type": "markdown",
   "metadata": {},
   "source": [
    "## Answer:\n",
    "### 2.A. How does the fitted model compare with a classifier that predicts 'normal' (label 0) on all patients?\n",
    "- Using logistic regression, we get accuracy score on test set 99.53%, whereas using a \"zero for all\" classifier, we get test score of 99.47%.\n",
    "- We can see that these two scores are very close.\n",
    "\n",
    "### 2.B. Do you think the difference in the classification accuracies are large enough to declare logistic regression as a better classifier than the all 0's classifier? Why or why not?\n",
    "- No, the difference between the classification accuracies are not large at all. So we cannot declare logistic regression is a better classfier than the all 0's classfier, if we only look at the two scores.\n",
    "- This is because the dataset contains more than 69000 candidate ROIs, of which only 409 are malignant, while the remaining are all normal. So the ratio of people who does not have breast cancer is extremely higher than those with malignant tumor. The class labels are very imbalanced."
   ]
  },
  {
   "cell_type": "code",
   "execution_count": 8,
   "metadata": {},
   "outputs": [
    {
     "name": "stdout",
     "output_type": "stream",
     "text": [
      "Confusion matrix for the fitted logistic regression classifier:\n",
      "[[17181     2]\n",
      " [   80    12]]\n"
     ]
    }
   ],
   "source": [
    "print(\"Confusion matrix for the fitted logistic regression classifier:\")\n",
    "print(confusion_matrix(y_test,logit.predict(X_test)))"
   ]
  },
  {
   "cell_type": "code",
   "execution_count": 9,
   "metadata": {},
   "outputs": [
    {
     "name": "stdout",
     "output_type": "stream",
     "text": [
      "Confusion matrix for the all-zero classifier:\n",
      "[[17183     0]\n",
      " [   92     0]]\n"
     ]
    }
   ],
   "source": [
    "all_zero_confusion = np.array([[test_zeros, 0], [test_ones, 0]])\n",
    "print(\"Confusion matrix for the all-zero classifier:\")\n",
    "print(all_zero_confusion)"
   ]
  },
  {
   "cell_type": "markdown",
   "metadata": {},
   "source": [
    "## Answer:\n",
    "### 4. Using the entries of the confusion table compute the true positive rate and the true negative rate for the two classifiers. Explain what these evaluation metrics mean for the specific task of cancer detection. Based on the observed metrics, comment on whether the fitted model is better than the all 0's classifier.\n",
    "\n",
    "#### Logistic Regression Classifier:\n",
    "- True Positive Rate = $\\frac{TP}{TP+FN} = \\frac{12}{12+80} = 13.04\\%$\n",
    "- True Negative Rate = $\\frac{TN}{TN+FP} = \\frac{17181}{17181+2} = 99.99\\%$\n",
    "\n",
    "#### All-zero Classifier:\n",
    "- True Positive Rate = $\\frac{TP}{TP+FN} = \\frac{0}{92+0} = 0\\%$\n",
    "- True Negative Rate = $\\frac{TN}{TN+FP} = \\frac{17183}{17183+0} = 100\\%$\n",
    "\n",
    "- True positive rate measures the proportion of positives that are correctly identified as such. In this case, true positive rate means the percentage of people with breast cancer who are correctly identified as having the condition.\n",
    "- True negative rate measures the proportion of negatives that are correctly identified as such. In this case, true negative rate means the percentage of healthy people who are correctly identified as not having breast cancer.\n",
    "\n",
    "- In this medical test condition, higher true positive rate is more important, because then we will be less likely to miss people who has breast cancer by telling them everything is fine. \n",
    "- Since all-zero classifier tells everybody that they are healthy, it is very useless in this medical area. \n",
    "- Therefore, the fitted logistic regression model is better thant the all 0's classifier.\n",
    "\n",
    "### 5. What is the false positive rate of the fitted classifier, and how is it related to its true positive and true negative rate? Why is a classifier with high false positive rate undesirable for a cancer detection task?\n",
    "- False Positive Rate of the fitted Logistic Regression Classfier = $\\frac{FP}{FP+TN} = \\frac{2}{2+17181} = 0.01\\%$\n",
    "- False Positive Rate = 1 - True Negative Rate\n",
    "- False positive rate cannot be derived directly from true positive rate.\n",
    "- For a caner detection task, high false positive rate is undesirable because it means false alarms, which may raise unnecessary worry and distress for healthy people. Those healthy people who get false positive results will go to hospital to do more tests, which is a waste of money and time."
   ]
  },
  {
   "cell_type": "markdown",
   "metadata": {},
   "source": [
    "## Question 2: ROC Analysis\n",
    "\n",
    "Another powerful diagnostic tool for class-imbalanced classification tasks is the Receiver Operating Characteristic (ROC) curve. Notice that the default logistic regression classifier in `sklearn` classifies a data point by thresholding the predicted class probability $\\hat{P}(Y=1)$ at 0.5. By using a different threshold, we can adjust the trade-off between the true positive rate (TPR) and false positive rate (FPR) of the classifier. The ROC curve allows us to visualize this trade-off across all possible thresholds.\n",
    "\n",
    "\n",
    "1. Display the ROC curve for the fitted classifier on the *test set*. In the same plot, also display the ROC curve for the all 0's classifier. How do the two curves compare?\n",
    "\n",
    "2.  Compute the highest TPR that can be achieved by the classifier at each of the following FPR's, and the thresholds at which they are achieved. Based on your results, comment on how the threshold influences a classifier's FPR.\n",
    "    - FPR = 0\n",
    "    - FPR = 0.1\n",
    "    - FPR = 0.5\n",
    "    - FPR = 0.9\n",
    "- Suppose a clinician told you that diagnosing a cancer patient as normal is *twice* as critical an error as diagnosing a normal patient as having cancer. Based on this information, what threshold would you recommend the clinician to use? What is the TPR and FPR of the classifier at this threshold? \n",
    "\n",
    "- Compute the area under the ROC curve (AUC) for both the fitted classifier and the all 0's classifier. How does the difference in the AUCs of the two classifiers compare with the difference between their classification accuracies in Question 1, Part 2(A)? \n",
    "\n",
    "*Hint:* You may use the `metrics.roc_curve` function to compute the ROC curve for a classification model and the `metrics.roc_auc_score` function to compute the AUC for the model."
   ]
  },
  {
   "cell_type": "code",
   "execution_count": 10,
   "metadata": {},
   "outputs": [
    {
     "data": {
      "image/png": "[encoded data removed]",
      "text/plain": [
       "<matplotlib.figure.Figure at 0x103660828>"
      ]
     },
     "metadata": {},
     "output_type": "display_data"
    }
   ],
   "source": [
    "# make_roc function from lab 7\n",
    "def make_roc(name, clf, ytest, xtest, ax=None, labe=5, proba=True, skip=0):\n",
    "    initial=False\n",
    "    if not ax:\n",
    "        ax=plt.gca()\n",
    "        initial=True\n",
    "    if proba:#for stuff like logistic regression\n",
    "        fpr, tpr, thresholds=roc_curve(ytest, clf.predict_proba(xtest)[:,1])\n",
    "    else:#for stuff like SVM\n",
    "        fpr, tpr, thresholds=roc_curve(ytest, clf.decision_function(xtest))\n",
    "    roc_auc = auc(fpr, tpr)\n",
    "    if skip:\n",
    "        l=fpr.shape[0]\n",
    "        ax.plot(fpr[0:l:skip], tpr[0:l:skip], '.-', alpha=0.3, label='ROC curve for %s (area = %0.2f)' % (name, roc_auc))\n",
    "    else:\n",
    "        ax.plot(fpr, tpr, '.-', alpha=0.3, label='ROC curve for %s (area = %0.2f)' % (name, roc_auc))\n",
    "    label_kwargs = {}\n",
    "    label_kwargs['bbox'] = dict(\n",
    "        boxstyle='round,pad=0.1', alpha=0.2,\n",
    "    )\n",
    "    if labe!=None:\n",
    "        for k in range(0, fpr.shape[0],labe):\n",
    "            #from https://gist.github.com/podshumok/c1d1c9394335d86255b8\n",
    "            threshold = str(np.round(thresholds[k], 3))\n",
    "            ax.annotate(threshold, (fpr[k], tpr[k]), **label_kwargs)\n",
    "    if initial:\n",
    "        ax.plot([0, 1], [0, 1], 'k--', label=\"ROC curve for all-zero (area = 0.50)\")\n",
    "        ax.set_xlim([0.0, 1.0])\n",
    "        ax.set_ylim([0.0, 1.05])\n",
    "        ax.set_xlabel('False Positive Rate')\n",
    "        ax.set_ylabel('True Positive Rate')\n",
    "        ax.set_title('ROC')\n",
    "    ax.legend(loc=\"lower right\")\n",
    "    return ax\n",
    "\n",
    "sns.set_context(\"poster\")\n",
    "plt.figure(figsize=(12,7.5))\n",
    "ax=make_roc(\"logistic\",logit, y_test, X_test, labe=10, skip=5)"
   ]
  },
  {
   "cell_type": "markdown",
   "metadata": {},
   "source": [
    "## Answer:\n",
    "### 1. Display the ROC curve for the fitted classifier on the test set. In the same plot, also display the ROC curve for the all 0's classifier. How do the two curves compare?\n",
    "The ROC curve for logistic is clearly much better than the one for all-zero classifier. We can see the logistic one covers more area, which is almost double of the one for all-zero."
   ]
  },
  {
   "cell_type": "code",
   "execution_count": 11,
   "metadata": {},
   "outputs": [
    {
     "name": "stdout",
     "output_type": "stream",
     "text": [
      "If FPR=0, the highest TPR is 0.010869565217391304, and the threshold is 0.939774888515066\n",
      "If FPR=0.1, the highest TPR is 0.8369565217391305, and the threshold is 0.00954771520768657\n",
      "If FPR=0.5, the highest TPR is 0.9891304347826086, and the threshold is 0.0008126319315917487\n",
      "If FPR=0.9, the highest TPR is 1.0, and the threshold is 1.012077352857109e-34\n"
     ]
    }
   ],
   "source": [
    "fpr, tpr, thresholds=roc_curve(y_test, logit.predict_proba(X_test)[:,1])\n",
    "# fpr.shape, tpr.shape, thresholds.shape\n",
    "print(\"If FPR=0, the highest TPR is {}, and the threshold is {}\"\\\n",
    "      .format(tpr[(np.abs(fpr-0)).argmin()], thresholds[(np.abs(fpr-0)).argmin()]))\n",
    "print(\"If FPR=0.1, the highest TPR is {}, and the threshold is {}\"\\\n",
    "      .format(tpr[(np.abs(fpr-0.1)).argmin()], thresholds[(np.abs(fpr-0.1)).argmin()]))\n",
    "print(\"If FPR=0.5, the highest TPR is {}, and the threshold is {}\"\\\n",
    "      .format(tpr[(np.abs(fpr-0.5)).argmin()], thresholds[(np.abs(fpr-0.5)).argmin()]))\n",
    "print(\"If FPR=0.9, the highest TPR is {}, and the threshold is {}\"\\\n",
    "      .format(tpr[(np.abs(fpr-0.9)).argmin()], thresholds[(np.abs(fpr-0.9)).argmin()]))"
   ]
  },
  {
   "cell_type": "markdown",
   "metadata": {},
   "source": [
    "## Answer:\n",
    "### 2. Compute the highest TPR that can be achieved by the classifier at each of the following FPR's, and the thresholds at which they are achieved. Based on your results, comment on how the threshold influences a classifier's FPR.\n",
    "- As we decrease the threshold from 1 to 0, the flase positive rate will increase, but we will also get a higher true positive rate. The change in threshold causes a trade-off between FPR and TPR."
   ]
  },
  {
   "cell_type": "markdown",
   "metadata": {},
   "source": [
    "## Answer:\n",
    "### 3. Suppose a clinician told you that diagnosing a cancer patient as normal is twice as critical an error as diagnosing a normal patient as having cancer. Based on this information, what threshold would you recommend the clinician to use? What is the TPR and FPR of the classifier at this threshold?\n",
    "- Based on the clinician's point of view, a false negative is twice as critical an error as a false positive.\n",
    "- Therefore, I will recommend trading a higher false positive rate for a higher true positive rate.\n",
    "- My way to interpret twice is as the follows: Both FPR and non-TPR have some cost, but cost for non-TPR is twice more expensive. Therefore, we want to trade FPR for TPR, and the relation between them is about 2*FPR = 1-TPR."
   ]
  },
  {
   "cell_type": "code",
   "execution_count": 12,
   "metadata": {},
   "outputs": [
    {
     "name": "stdout",
     "output_type": "stream",
     "text": [
      "For threshold=0.014140026949153216, TPR is 0.8369565217391305, and FPR is 0.06803235756270733\n"
     ]
    }
   ],
   "source": [
    "# print(\"For threshold=0.01, TPR is {}, and FPR is {}\"\\\n",
    "#       .format(tpr[(np.abs(thresholds-0.01)).argmin()], fpr[(np.abs(thresholds-0.01)).argmin()]))\n",
    "tpr_penalty = [1-x for x in tpr]\n",
    "fpr_penalty = [x for x in fpr]\n",
    "dif = []\n",
    "for i, j in zip(tpr_penalty, fpr_penalty):\n",
    "    d = abs(i - 2*j)\n",
    "    dif.append(d)\n",
    "min_index = dif.index(min(dif))\n",
    "# print(min_index)\n",
    "# tpr[min_index], fpr[min_index], thresholds[min_index]\n",
    "print(\"For threshold={}, TPR is {}, and FPR is {}\"\\\n",
    "       .format(thresholds[min_index], tpr[min_index], fpr[min_index]))"
   ]
  },
  {
   "cell_type": "markdown",
   "metadata": {},
   "source": [
    "- From the above calculation, I will recomment a threshold at about 0.014, which gives true positive rate (TPR) at 83.7%, whereas false positive rate (FPR) is at 6.8%."
   ]
  },
  {
   "cell_type": "markdown",
   "metadata": {},
   "source": [
    "## Answer:\n",
    "### 4. Compute the area under the ROC curve (AUC) for both the fitted classifier and the all 0's classifier. How does the difference in the AUCs of the two classifiers compare with the difference between their classification accuracies in Question 1, Part 2(A)?"
   ]
  },
  {
   "cell_type": "code",
   "execution_count": 13,
   "metadata": {},
   "outputs": [
    {
     "name": "stdout",
     "output_type": "stream",
     "text": [
      "The area under the ROC curve for the fitted logistic classifier is: 0.945496560048\n",
      "The area under the ROC curve for the all 0's classifier is: 0.5\n"
     ]
    }
   ],
   "source": [
    "logit_auc = roc_auc_score(y_test, logit.predict_proba(X_test)[:,1])\n",
    "print(\"The area under the ROC curve for the fitted logistic classifier is:\", logit_auc)\n",
    "print(\"The area under the ROC curve for the all 0's classifier is: 0.5\")"
   ]
  },
  {
   "cell_type": "markdown",
   "metadata": {
    "collapsed": true
   },
   "source": [
    "## Question 3: Missing data\n",
    "\n",
    "In this problem you are given a different data set, `hw6_dataset_missing.csv`, that is  similar to the one you used above (same column definitions and same conditions), however this data set contains missing values. \n",
    "\n",
    "*Note*: be careful of reading/treating column names and row names in this data set as well, it *may* be different than the first data set.\n",
    "\n",
    "\n",
    "1. Remove all observations that contain and missing values, split the dataset into a 75-25 train-test split, and fit the regularized logistic regression as in Question 1 (use `LogisticRegressionCV` again to retune).  Report the overall classification rate and TPR in the test set.\n",
    "2. Restart with a fresh copy of the data in `hw6_dataset_missing.csv` and impute the missing data via mean imputation.  Split the data 75-25 and fit the regularized logistic regression model.  Report the overall classification rate and TPR in the test set.  \n",
    "3. Again restart with a fresh copy of the data in `hw6_dataset_missing.csv` and impute the missing data via a model-based imputation method. Once again split the data 75-25 and fit the regularized logistic regression model.  Report the overall classification rate and TPR in the test set.  \n",
    "4. Compare the results in the 3 previous parts of this problem.  Prepare a paragraph (5-6 sentences) discussing the results, the computational complexity of the methods, and conjecture and explain why you get the results that you see.\n",
    "\n"
   ]
  },
  {
   "cell_type": "code",
   "execution_count": 14,
   "metadata": {},
   "outputs": [
    {
     "data": {
      "text/plain": [
       "(24999, 118)"
      ]
     },
     "execution_count": 14,
     "metadata": {},
     "output_type": "execute_result"
    }
   ],
   "source": [
    "df2 = pd.read_csv('HW6_dataset_missing.csv', index_col=0)\n",
    "df2.shape"
   ]
  },
  {
   "cell_type": "code",
   "execution_count": 15,
   "metadata": {},
   "outputs": [
    {
     "data": {
      "text/plain": [
       "(1436, 118)"
      ]
     },
     "execution_count": 15,
     "metadata": {},
     "output_type": "execute_result"
    }
   ],
   "source": [
    "df2_drop = df2.dropna(axis=0)\n",
    "df2_drop.shape"
   ]
  },
  {
   "cell_type": "code",
   "execution_count": 16,
   "metadata": {},
   "outputs": [
    {
     "data": {
      "text/plain": [
       "((1077, 117), (1077,), (359, 117), (359,))"
      ]
     },
     "execution_count": 16,
     "metadata": {},
     "output_type": "execute_result"
    }
   ],
   "source": [
    "X2 = df2_drop.iloc[:, :-1]\n",
    "y2 = df2_drop.iloc[:, -1]\n",
    "X_train2, X_test2, y_train2, y_test2 = train_test_split(X2, y2, test_size=0.25, random_state=42)\n",
    "X_train2.shape, y_train2.shape, X_test2.shape, y_test2.shape"
   ]
  },
  {
   "cell_type": "code",
   "execution_count": 17,
   "metadata": {},
   "outputs": [
    {
     "name": "stdout",
     "output_type": "stream",
     "text": [
      "Logistic regression classifier on test set with missing values removed has accuracy: 1.0\n",
      "Confusion matrix for the fitted logistic regression classifier:\n",
      "[[359]]\n"
     ]
    }
   ],
   "source": [
    "logit = LogisticRegressionCV(reg_Cs, cv=3) #data size after removing missing values is small; use cv=3 instead\n",
    "logit.fit(X_train2, y_train2)\n",
    "print(\"Logistic regression classifier on test set with missing values removed has accuracy:\",\\\n",
    "      logit.score(X_test2, y_test2))\n",
    "print(\"Confusion matrix for the fitted logistic regression classifier:\")\n",
    "print(confusion_matrix(y_test2,logit.predict(X_test2)))"
   ]
  },
  {
   "cell_type": "markdown",
   "metadata": {},
   "source": [
    "## Answer:\n",
    "### 1. Remove all observations that contain and missing values. Report the overall classification rate and TPR in the test set.\n",
    "- With missing values removed, the TPR calculated from the above confusion matrix is N/A, because there is no positive case, and hence zero divide by zero is undefined."
   ]
  },
  {
   "cell_type": "code",
   "execution_count": 18,
   "metadata": {},
   "outputs": [
    {
     "data": {
      "text/plain": [
       "(24999, 118)"
      ]
     },
     "execution_count": 18,
     "metadata": {},
     "output_type": "execute_result"
    }
   ],
   "source": [
    "df3 = df2.copy()\n",
    "for col in df3:\n",
    "    df3[col] = df2[col].fillna(df2[col].mean())\n",
    "df3.shape"
   ]
  },
  {
   "cell_type": "code",
   "execution_count": 19,
   "metadata": {},
   "outputs": [
    {
     "data": {
      "text/plain": [
       "((18749, 117), (18749,), (6250, 117), (6250,))"
      ]
     },
     "execution_count": 19,
     "metadata": {},
     "output_type": "execute_result"
    }
   ],
   "source": [
    "X3 = df3.iloc[:, :-1]\n",
    "y3 = df3.iloc[:, -1]\n",
    "X_train3, X_test3, y_train3, y_test3 = train_test_split(X3, y3, test_size=0.25, random_state=42)\n",
    "X_train3.shape, y_train3.shape, X_test3.shape, y_test3.shape"
   ]
  },
  {
   "cell_type": "code",
   "execution_count": 20,
   "metadata": {},
   "outputs": [
    {
     "name": "stdout",
     "output_type": "stream",
     "text": [
      "Logistic regression classifier on test set with missing values imputed has accuracy: 0.99488\n",
      "Confusion matrix for the fitted logistic regression classifier:\n",
      "[[6212    1]\n",
      " [  31    6]]\n"
     ]
    }
   ],
   "source": [
    "logit = LogisticRegressionCV(reg_Cs, cv=5)\n",
    "logit.fit(X_train3, y_train3)\n",
    "print(\"Logistic regression classifier on test set with missing values imputed has accuracy:\",\\\n",
    "      logit.score(X_test3, y_test3))\n",
    "print(\"Confusion matrix for the fitted logistic regression classifier:\")\n",
    "print(confusion_matrix(y_test3,logit.predict(X_test3)))"
   ]
  },
  {
   "cell_type": "markdown",
   "metadata": {},
   "source": [
    "## Answer:\n",
    "### 2. Restart with a fresh copy and impute the missing data via mean imputation. Report the overall classification rate and TPR in the test set.\n",
    "- TPR = $\\frac{TP}{TP+FN} = \\frac{6}{6+31} = 16.22\\%$"
   ]
  },
  {
   "cell_type": "code",
   "execution_count": 21,
   "metadata": {},
   "outputs": [
    {
     "name": "stdout",
     "output_type": "stream",
     "text": [
      "columns that have missing values are:  ['93', '94', '95', '96', '97', '98', '99', '100', '101', '102', '103', '104', '105', '106', '107', '108', '109']\n"
     ]
    }
   ],
   "source": [
    "df4 = df2.copy()\n",
    "nan_cols = df4.columns[df4.isnull().any()].tolist()\n",
    "print(\"columns that have missing values are: \", nan_cols)\n",
    "# df4.isnull().sum()\n",
    "# df4.head()"
   ]
  },
  {
   "cell_type": "code",
   "execution_count": 22,
   "metadata": {
    "collapsed": true
   },
   "outputs": [],
   "source": [
    "# indices = df4['93'].index[df4['93'].apply(np.isnan)].tolist()\n",
    "# indices[0]\n",
    "# df4.iloc[8,92]\n",
    "# np.isnan(df4.iloc[8,92])\n",
    "# inds = df4['93'].index[df4['93'].apply(np.isnan)]"
   ]
  },
  {
   "cell_type": "code",
   "execution_count": 23,
   "metadata": {},
   "outputs": [
    {
     "data": {
      "text/plain": [
       "[]"
      ]
     },
     "execution_count": 23,
     "metadata": {},
     "output_type": "execute_result"
    }
   ],
   "source": [
    "# use knn with k=5\n",
    "# randomly select from the nearest next 5 neighbors with equal probability\n",
    "# Run this method three times till no more nan values\n",
    "for t in range(3):\n",
    "    for j in nan_cols:\n",
    "        inds = df4[j].index[df4[j].apply(np.isnan)].tolist()\n",
    "        j_int = int(j)-1\n",
    "        for i in inds:\n",
    "            if i+6 >= df4.shape[0]:\n",
    "                df4.iloc[i,j_int] = df4.iloc[0,j_int]\n",
    "            else:\n",
    "                random_number = np.random.random()\n",
    "                if random_number < 0.2:\n",
    "                    if not np.isnan(df4.iloc[i+1, j_int]):\n",
    "                        df4.iloc[i, j_int] = df4.iloc[i+1, j_int]\n",
    "                    else:\n",
    "                        df4.iloc[i, j_int] = df4.iloc[i+2, j_int]\n",
    "                elif random_number >= 0.2 and random_number < 0.4:\n",
    "                    if not np.isnan(df4.iloc[i+2, j_int]):\n",
    "                        df4.iloc[i,j_int] = df4.iloc[i+2, j_int]\n",
    "                    else:\n",
    "                        df4.iloc[i, j_int] = df4.iloc[i+3, j_int]\n",
    "                elif random_number >= 0.4 and random_number < 0.6:\n",
    "                    if not np.isnan(df4.iloc[i+3, j_int]):\n",
    "                        df4.iloc[i,j_int] = df4.iloc[i+3, j_int]\n",
    "                    else:\n",
    "                        df4.iloc[i, j_int] = df4.iloc[i+4, j_int]\n",
    "                elif random_number >= 0.6 and random_number < 0.8:\n",
    "                    if not np.isnan(df4.iloc[i+4, j_int]):\n",
    "                        df4.iloc[i,j_int] = df4.iloc[i+4, j_int]\n",
    "                    else:\n",
    "                        df4.iloc[i, j_int] = df4.iloc[i+5, j_int]\n",
    "                elif random_number >= 0.8:\n",
    "                    if not np.isnan(df4.iloc[i+5, j_int]):\n",
    "                        df4.iloc[i,j_int] = df4.iloc[i+5, j_int] \n",
    "                    else:\n",
    "                        df4.iloc[i, j_int] = df4.iloc[i+6, j_int]\n",
    "\n",
    "# check if there is any more nan values: want to see an empty list\n",
    "df4.columns[df4.isnull().any()].tolist()\n"
   ]
  },
  {
   "cell_type": "code",
   "execution_count": 24,
   "metadata": {
    "collapsed": true
   },
   "outputs": [],
   "source": [
    "# df4.isnull().sum()"
   ]
  },
  {
   "cell_type": "code",
   "execution_count": 25,
   "metadata": {},
   "outputs": [
    {
     "data": {
      "text/plain": [
       "((18749, 117), (18749,), (6250, 117), (6250,))"
      ]
     },
     "execution_count": 25,
     "metadata": {},
     "output_type": "execute_result"
    }
   ],
   "source": [
    "X4 = df4.iloc[:, :-1]\n",
    "y4 = df4.iloc[:, -1]\n",
    "X_train4, X_test4, y_train4, y_test4 = train_test_split(X4, y4, test_size=0.25, random_state=42)\n",
    "X_train4.shape, y_train4.shape, X_test4.shape, y_test4.shape"
   ]
  },
  {
   "cell_type": "code",
   "execution_count": 26,
   "metadata": {},
   "outputs": [
    {
     "name": "stdout",
     "output_type": "stream",
     "text": [
      "Logistic regression classifier on test set with missing values using knn model imputation has accuracy: 0.99504\n",
      "Confusion matrix for the fitted logistic regression classifier:\n",
      "[[6211    2]\n",
      " [  29    8]]\n"
     ]
    }
   ],
   "source": [
    "logit = LogisticRegressionCV(reg_Cs, cv=5)\n",
    "logit.fit(X_train4, y_train4)\n",
    "print(\"Logistic regression classifier on test set with missing values using knn model imputation has accuracy:\",\\\n",
    "      logit.score(X_test4, y_test4))\n",
    "print(\"Confusion matrix for the fitted logistic regression classifier:\")\n",
    "print(confusion_matrix(y_test4,logit.predict(X_test4)))"
   ]
  },
  {
   "cell_type": "markdown",
   "metadata": {},
   "source": [
    "## Answer:\n",
    "### 3. Again restart with a fresh copy and impute the missing data via a model-based imputation method. Report the overall classification rate and TPR in the test set.\n",
    "- TPR = $\\frac{TP}{TP+FN} = \\frac{8}{8+29} = 21.62\\%$"
   ]
  },
  {
   "cell_type": "markdown",
   "metadata": {},
   "source": [
    "## Answer:\n",
    "### 4. Compare the results in the 3 previous parts of this problem. Prepare a paragraph (5-6 sentences) discussing the results, the computational complexity of the methods, and conjecture and explain why you get the results that you see.\n",
    "With missing values present in the dataset, we tried 3 methods: removing missing values, mean imputation and model-based (I chose knn model with k=5) imputation. In this problem, it is not a good idea to completely remove missing values, because doing this will significantly shrink the size of the dataset, and we can see then we have no more observations with patient who have breast cancer, and hence we cannot get any TPR information. Comparing the TPR in the test set, we can see that model-based imputation gives the highest true positive rate. This is because using model-based imputation plus some uncertainty, the value imputed will be more likely to represent real data. However, the computational complexity of the model-based imputation is much greater than the other two, and the TPR result is not that much higher than simple mean imputation. Therefore, I prefer use mean imputation in this problem than the other two methods."
   ]
  },
  {
   "cell_type": "markdown",
   "metadata": {},
   "source": [
    "## APCOMP209a - Homework Question"
   ]
  },
  {
   "cell_type": "markdown",
   "metadata": {
    "collapsed": true
   },
   "source": [
    "\n",
    "This problem walks you through the derivation of the **likelihood equations** for a generalized linear model (GLM). Suppose that the random component of the GLM is in the univariate natural exponential family, so that\n",
    "$$f(y_i|\\theta_i) = h(y_i) e^{y_i\\theta_i - b(\\theta_i)}$$\n",
    "Define the individual log-likelihood for each observation $i$ as\n",
    "$$l_i(\\theta_i) \\equiv \\log f(y_i|\\theta_i)$$\n",
    "with linear predictor\n",
    "$$\\eta_i = x_i^T\\beta = g(\\mu_i)$$\n",
    "for some link function $g$ and where $\\mu_i=E(Y_i)$.\n",
    "\n",
    "1. Use the above expressions to write a simplified expression for the log-likelihood $l(\\theta)$ for the entire dataset, $y_1, \\dots, y_n$.\n",
    "\n",
    "2. Use the chain rule to express $\\frac{\\partial l_i}{\\partial \\beta_j}$ in terms of the derivatives of $l_i, \\theta_i, \\mu_i$, and $\\eta_i$. (*Hint*: Think carefully about which variables are related to which, and in what way. For example, for which of the above variables do you know the derivative with respect to $\\beta_j$?)\n",
    "\n",
    "3. Compute the derivatives for $\\frac{\\partial l_i}{\\partial \\theta_i}$ and $\\frac{\\partial \\eta_i}{\\partial \\beta_j}$.\n",
    "\n",
    "4. Express $\\mu_i$ in terms of $\\theta_i$, and use this relationship to compute $\\frac{\\partial \\theta_i}{\\partial \\mu_i}$. (\\emph{Hint}: Recall the cumulant function of a natural exponential family, and assume that you can write $\\partial f/\\partial g = (\\partial g / \\partial f)^{-1}$.)\n",
    "\n",
    "5. Express $\\eta_i$ in terms of $\\mu_i$. Using the same hint as the above, compute $\\frac{\\partial \\mu_i}{\\partial \\eta_i}$.\n",
    "\n",
    "6. Put all of the above parts together to write an expression for $\\frac{\\partial l}{\\partial \\beta_j}$. Use matrix notation to write this expression as\n",
    "$$\\nabla_{\\beta} l(\\beta) = XDV^{-1}(Y - \\mu) = 0$$\n",
    "That is, compute the matrices $D$ and $V$ such that this equation holds.\n",
    "\n",
    "7. If we use the canonical link function, how do your answers to part (6) simplify?\n",
    "\n",
    "8. Finally, compute the above likelihood equations in the case of logistic regression, and show that this is equivalent to the solution given in lecture.\n"
   ]
  },
  {
   "cell_type": "markdown",
   "metadata": {},
   "source": [
    "## Answer:\n",
    "### 1. Use the above expressions to write a simplified expression for the log-likelihood $l(\\theta)$ for the entire dataset, $y_1, \\dots, y_n$."
   ]
  },
  {
   "cell_type": "markdown",
   "metadata": {
    "collapsed": true
   },
   "source": [
    "$l(\\theta) = \\sum_{i=1}^{n}l_i (\\theta_i)\n",
    "= \\sum_{i=1}^{n}log(h(y_i)) + \\sum_{i=1}^{n}[y_i \\theta_i - b(\\theta_i)]$"
   ]
  },
  {
   "cell_type": "markdown",
   "metadata": {},
   "source": [
    "### 2. . Use the chain rule to express $\\frac{\\partial l_i}{\\partial \\beta_j}$ in terms of the derivatives of $l_i, \\theta_i, \\mu_i$, and $\\eta_i$. (*Hint*: Think carefully about which variables are related to which, and in what way. For example, for which of the above variables do you know the derivative with respect to $\\beta_j$?)"
   ]
  },
  {
   "cell_type": "markdown",
   "metadata": {},
   "source": [
    "$\\frac{\\partial l_i}{\\partial \\beta_j}$ = $\\frac{\\partial l_i}{\\partial \\theta_i} \\cdot\n",
    "\\frac{\\partial \\theta_i}{\\partial \\mu_i} \\cdot\n",
    "\\frac{\\partial \\mu_i}{\\partial \\eta_i} \\cdot\n",
    "\\frac{\\partial \\eta_i}{\\partial \\beta_j}\n",
    "$"
   ]
  },
  {
   "cell_type": "markdown",
   "metadata": {},
   "source": [
    "### 3. Compute the derivatives for $\\frac{\\partial l_i}{\\partial \\theta_i}$ and $\\frac{\\partial \\eta_i}{\\partial \\beta_j}$."
   ]
  },
  {
   "cell_type": "markdown",
   "metadata": {},
   "source": [
    "$\\frac{\\partial l_i}{\\partial \\theta_i} = y_i - b'(\\theta_i) = y_i - \\mu_i$"
   ]
  },
  {
   "cell_type": "markdown",
   "metadata": {},
   "source": [
    "Since $\\eta_i = x_i^T\\beta = \\beta_1 x_{i1} + \\dots + \\beta_p x_{ip}$, we get: $\\frac{\\partial \\eta_i}{\\partial \\beta_j} = x_{ij}$"
   ]
  },
  {
   "cell_type": "markdown",
   "metadata": {},
   "source": [
    "### 4. Express $\\mu_i$ in terms of $\\theta_i$, and use this relationship to compute $\\frac{\\partial \\theta_i}{\\partial \\mu_i}$. (Hint: Recall the cumulant function of a natural exponential family, and assume that you can write $\\partial f/\\partial g = (\\partial g / \\partial f)^{-1}$.)"
   ]
  },
  {
   "cell_type": "markdown",
   "metadata": {},
   "source": [
    "$\\mu_i = b'(\\theta_i)$\n",
    "\n",
    "$\\frac{\\partial \\theta_i}{\\partial \\mu_i} = (\\frac{\\partial \\mu_i}{\\partial \\theta_i})^{-1}\n",
    "= b''(\\theta_i)^{-1} = (Var(y_i|\\theta_i))^{-1} = \\frac{1}{Var(y_i|\\theta_i)}\n",
    "$"
   ]
  },
  {
   "cell_type": "markdown",
   "metadata": {},
   "source": [
    "### 5. Express $\\eta_i$ in terms of $\\mu_i$. Using the same hint as the above, compute $\\frac{\\partial \\mu_i}{\\partial \\eta_i}$."
   ]
  },
  {
   "cell_type": "markdown",
   "metadata": {},
   "source": [
    "$\\eta_i = g(\\mu_i)$\n",
    "\n",
    "$\\frac{\\partial \\mu_i}{\\partial \\eta_i} = (\\frac{\\partial \\eta_i}{\\partial \\mu_i})^{-1}\n",
    "= g'(\\mu_i)^{-1} = \\frac{1}{g'(\\mu_i)}\n",
    "$"
   ]
  },
  {
   "cell_type": "markdown",
   "metadata": {},
   "source": [
    "### 6. Put all of the above parts together to write an expression for $\\frac{\\partial l}{\\partial \\beta_j}$. Use matrix notation to write this expression as\n",
    "$$\\nabla_{\\beta} l(\\beta) = XDV^{-1}(Y - \\mu) = 0$$\n",
    "That is, compute the matrices $D$ and $V$ such that this equation holds."
   ]
  },
  {
   "cell_type": "markdown",
   "metadata": {},
   "source": [
    "$\\frac{\\partial l_i}{\\partial \\beta_j} = \\frac{\\partial l_i}{\\partial \\theta_i} \\cdot\n",
    "\\frac{\\partial \\theta_i}{\\partial \\mu_i} \\cdot\n",
    "\\frac{\\partial \\mu_i}{\\partial \\eta_i} \\cdot\n",
    "\\frac{\\partial \\eta_i}{\\partial \\beta_j}\n",
    "= (y_i - \\mu_i) \\cdot \\frac{1}{Var(y_i|\\theta_i)} \\cdot \\frac{1}{g'(\\mu_i)} \\cdot x_{ij}\n",
    "$\n",
    "\n",
    "$\\frac{\\partial l}{\\partial \\beta_j}\n",
    "= \\sum_{i=1}^{n}(y_i - \\mu_i) \\cdot \\frac{1}{Var(y_i|\\theta_i)} \\cdot \\frac{1}{g'(\\mu_i)} \\cdot x_{ij}\n",
    "$"
   ]
  },
  {
   "cell_type": "markdown",
   "metadata": {},
   "source": [
    "In matrix form, y and $\\mu$ are column vectors, and X is the data matrix.\n",
    "\n",
    "If we write this expression using matrix notation as $\\nabla_{\\beta} l(\\beta) = XDV^{-1}(Y - \\mu) = 0$, we will get the following matrices $D$ and $V^{-1}$:\n",
    "\n",
    "$D = \n",
    "\\begin{bmatrix}\n",
    "g'(\\mu_1)^{-1} & 0 & \\cdots & 0 \\\\\n",
    "0 & g'(\\mu_2)^{-1} & \\cdots & 0 \\\\\n",
    "\\vdots & \\vdots & \\ddots & \\vdots \\\\\n",
    "0 & 0 & 0 & g'(\\mu_n)^{-1}\n",
    "\\end{bmatrix}\n",
    "$\n",
    "\n",
    "$V =\n",
    "\\begin{bmatrix}\n",
    "Var(y_1|\\theta_1) & 0 & \\cdots & 0 \\\\\n",
    "0 & Var(y_2|\\theta_2) & \\cdots & 0 \\\\\n",
    "\\vdots & \\vdots & \\ddots & \\vdots \\\\\n",
    "0 & 0 & 0 & Var(y_n|\\theta_n)\n",
    "\\end{bmatrix}\n",
    "$\n",
    "\n",
    "Note that $V^{-1}$ is just:\n",
    "$V^{-1}=\n",
    "\\begin{bmatrix}\n",
    "\\frac{1}{Var(y_1|\\theta_1)} & 0 & \\cdots & 0 \\\\\n",
    "0 & \\frac{1}{Var(y_2|\\theta_2)} & \\cdots & 0 \\\\\n",
    "\\vdots & \\vdots & \\ddots & \\vdots \\\\\n",
    "0 & 0 & 0 & \\frac{1}{Var(y_n|\\theta_n)}\n",
    "\\end{bmatrix}\n",
    "$\n",
    "in the previous equation.\n"
   ]
  },
  {
   "cell_type": "markdown",
   "metadata": {},
   "source": [
    "### 7. If we use the canonical link function, how do your answers to part (6) simplify?"
   ]
  },
  {
   "cell_type": "markdown",
   "metadata": {},
   "source": [
    "Canonical link: $\\theta = \\eta$\n",
    "\n",
    "Therefore, we have $\\frac{\\partial \\theta_i}{\\partial \\mu_i} \\cdot \\frac{\\partial \\mu_i}{\\partial \\eta_i} = 1$\n",
    "\n",
    "The answer to part (6) can be simplified as $\\nabla_{\\beta} l(\\beta) = X(Y - \\mu) = 0$"
   ]
  },
  {
   "cell_type": "markdown",
   "metadata": {},
   "source": [
    "### 8. Finally, compute the above likelihood equations in the case of logistic regression, and show that this is equivalent to the solution given in lecture."
   ]
  },
  {
   "cell_type": "markdown",
   "metadata": {},
   "source": []
  },
  {
   "cell_type": "code",
   "execution_count": null,
   "metadata": {
    "collapsed": true
   },
   "outputs": [],
   "source": []
  }
 ],
 "metadata": {
  "anaconda-cloud": {},
  "kernelspec": {
   "display_name": "Python 3",
   "language": "python",
   "name": "python3"
  },
  "language_info": {
   "codemirror_mode": {
    "name": "ipython",
    "version": 3
   },
   "file_extension": ".py",
   "mimetype": "text/x-python",
   "name": "python",
   "nbconvert_exporter": "python",
   "pygments_lexer": "ipython3",
   "version": "3.6.2"
  }
 },
 "nbformat": 4,
 "nbformat_minor": 1
}
