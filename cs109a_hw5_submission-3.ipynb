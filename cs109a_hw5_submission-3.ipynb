{
 "cells": [
  {
   "cell_type": "markdown",
   "metadata": {},
   "source": [
    "##### CS 109A/STAT 121A/AC 209A/CSCI E-109A: Homework 5\n",
    "# Logistic Regression and PCA \n",
    "\n",
    "**Harvard University**<br/>\n",
    "**Fall 2017**<br/>\n",
    "**Instructors**: Pavlos Protopapas, Kevin Rader, Rahul Dave, Margo Levine\n",
    "\n",
    "---\n",
    "\n",
    "### INSTRUCTIONS\n",
    "\n",
    "- To submit your assignment follow the instructions given in canvas.\n",
    "- Restart the kernel and run the whole notebook again before you submit. \n",
    "- Do not include your name(s) in the notebook if you are submitting as a group. \n",
    "- If you submit individually and you have worked with someone, please include the name of your [one] partner below. \n",
    "\n",
    "---"
   ]
  },
  {
   "cell_type": "markdown",
   "metadata": {},
   "source": [
    "Your partner's name (if you submit separately):\n",
    "\n",
    "Enrollment Status (109A, 121A, 209A, or E109A):"
   ]
  },
  {
   "cell_type": "markdown",
   "metadata": {},
   "source": [
    "Import libraries:"
   ]
  },
  {
   "cell_type": "code",
   "execution_count": 1,
   "metadata": {},
   "outputs": [
    {
     "name": "stderr",
     "output_type": "stream",
     "text": [
      "/Applications/anaconda/lib/python3.6/site-packages/statsmodels/compat/pandas.py:56: FutureWarning: The pandas.core.datetools module is deprecated and will be removed in a future version. Please use the pandas.tseries module instead.\n",
      "  from pandas.core import datetools\n"
     ]
    }
   ],
   "source": [
    "import numpy as np\n",
    "import pandas as pd\n",
    "import matplotlib\n",
    "import matplotlib.pyplot as plt\n",
    "import statsmodels.api as sm\n",
    "from statsmodels.api import OLS\n",
    "from sklearn.decomposition import PCA\n",
    "from sklearn.linear_model import LogisticRegression\n",
    "from sklearn.linear_model import LogisticRegressionCV\n",
    "from sklearn.utils import resample\n",
    "from sklearn.model_selection import cross_val_score\n",
    "from sklearn.metrics import accuracy_score\n",
    "from sklearn.preprocessing import MinMaxScaler\n",
    "import seaborn as sns\n",
    "from sklearn.linear_model import LinearRegression\n",
    "# from statsmodels.discrete.discrete_model import Logit\n",
    "# from statsmodels.discrete.discrete_model import LogitResults\n",
    "%matplotlib inline\n",
    "\n"
   ]
  },
  {
   "cell_type": "markdown",
   "metadata": {},
   "source": [
    "## Cancer Classification from Gene Expressions\n",
    "\n",
    "In this homework assignment, we will build a classification model to distinguish between two related classes of cancer, acute lymphoblastic leukemia (ALL) and acute myeloid leukemia (AML), using gene expression measurements. The data set is provided in the file `dataset_hw5.csv`. Each row in this file corresponds to a tumor tissue sample from a patient with one of the two forms of Leukemia. The first column contains the cancer type, with 0 indicating the ALL class and 1 indicating the AML class. Columns 2-7130 contain expression levels of 7129 genes recorded from each tissue sample. \n",
    "\n",
    "In the following parts, we will use logistic regression to build a classification model for this data set. We will also use principal components analysis (PCA) to visualize the data and to reduce its dimensions. \n",
    "\n"
   ]
  },
  {
   "cell_type": "markdown",
   "metadata": {},
   "source": [
    "## Part (a): Data Exploration\n",
    "\n",
    "- First step is to split the observations into an approximate 50-50 train-test split.  Below is some code to do this for you (we want to make sure everyone has the same splits).\n",
    "\n",
    "\n",
    "- Take a peak at your training set: you should notice the severe differences in the measurements from one gene to the next (some are negative, some hover around zero, and some are well into the thousands).  To account for these differences in scale and variability, normalize each predictor to vary between 0 and 1.\n",
    "\n",
    "\n",
    "- Notice that the results training set contains more predictors than observations. Do you foresee a problem in fitting a classification model to such a data set?\n",
    "\n",
    "\n",
    "- A convenient tool to visualize the gene expression data is a heat map. Arrange the rows of the training set so that the 'AML' rows are grouped together and the 'ALL' rows are together. Generate a heat map of the data with expression values from the following genes: \n",
    "`D49818_at`, `M23161_at`, `hum_alu_at`, `AFFX-PheX-5_at`, `M15990_at`. By observing the heat map, comment on which of these genes are useful in discriminating between the two classes.\n",
    "\n",
    "\n",
    "- We can also visualize this data set in two dimensions using PCA. Find the top two principal components for the gene expression data. Generate a scatter plot using these principal components, highlighting the AML and ALL points in different colors. How well do the top two principal components discriminate between the two classes?\n",
    "\n"
   ]
  },
  {
   "cell_type": "code",
   "execution_count": 2,
   "metadata": {
    "collapsed": true
   },
   "outputs": [],
   "source": [
    "np.random.seed(9001)\n",
    "df = pd.read_csv('dataset_hw5.csv')\n",
    "msk = np.random.rand(len(df)) < 0.5\n",
    "data_train = df[msk]\n",
    "data_test = df[~msk]"
   ]
  },
  {
   "cell_type": "code",
   "execution_count": 3,
   "metadata": {},
   "outputs": [
    {
     "data": {
      "text/html": [
       "<div>\n",
       "<style>\n",
       "    .dataframe thead tr:only-child th {\n",
       "        text-align: right;\n",
       "    }\n",
       "\n",
       "    .dataframe thead th {\n",
       "        text-align: left;\n",
       "    }\n",
       "\n",
       "    .dataframe tbody tr th {\n",
       "        vertical-align: top;\n",
       "    }\n",
       "</style>\n",
       "<table border=\"1\" class=\"dataframe\">\n",
       "  <thead>\n",
       "    <tr style=\"text-align: right;\">\n",
       "      <th></th>\n",
       "      <th>Cancer_type</th>\n",
       "      <th>AFFX-BioB-5_at</th>\n",
       "      <th>AFFX-BioB-M_at</th>\n",
       "      <th>AFFX-BioB-3_at</th>\n",
       "      <th>AFFX-BioC-5_at</th>\n",
       "      <th>AFFX-BioC-3_at</th>\n",
       "      <th>AFFX-BioDn-5_at</th>\n",
       "      <th>AFFX-BioDn-3_at</th>\n",
       "      <th>AFFX-CreX-5_at</th>\n",
       "      <th>AFFX-CreX-3_at</th>\n",
       "      <th>...</th>\n",
       "      <th>U48730_at</th>\n",
       "      <th>U58516_at</th>\n",
       "      <th>U73738_at</th>\n",
       "      <th>X06956_at</th>\n",
       "      <th>X16699_at</th>\n",
       "      <th>X83863_at</th>\n",
       "      <th>Z17240_at</th>\n",
       "      <th>L49218_f_at</th>\n",
       "      <th>M71243_f_at</th>\n",
       "      <th>Z78285_f_at</th>\n",
       "    </tr>\n",
       "  </thead>\n",
       "  <tbody>\n",
       "    <tr>\n",
       "      <th>0</th>\n",
       "      <td>0</td>\n",
       "      <td>-214</td>\n",
       "      <td>-153</td>\n",
       "      <td>-58</td>\n",
       "      <td>88</td>\n",
       "      <td>-295</td>\n",
       "      <td>-558</td>\n",
       "      <td>199</td>\n",
       "      <td>-176</td>\n",
       "      <td>252</td>\n",
       "      <td>...</td>\n",
       "      <td>185</td>\n",
       "      <td>511</td>\n",
       "      <td>-125</td>\n",
       "      <td>389</td>\n",
       "      <td>-37</td>\n",
       "      <td>793</td>\n",
       "      <td>329</td>\n",
       "      <td>36</td>\n",
       "      <td>191</td>\n",
       "      <td>-37</td>\n",
       "    </tr>\n",
       "    <tr>\n",
       "      <th>5</th>\n",
       "      <td>0</td>\n",
       "      <td>-67</td>\n",
       "      <td>-93</td>\n",
       "      <td>84</td>\n",
       "      <td>25</td>\n",
       "      <td>-179</td>\n",
       "      <td>-323</td>\n",
       "      <td>-135</td>\n",
       "      <td>-127</td>\n",
       "      <td>-2</td>\n",
       "      <td>...</td>\n",
       "      <td>48</td>\n",
       "      <td>224</td>\n",
       "      <td>60</td>\n",
       "      <td>194</td>\n",
       "      <td>-10</td>\n",
       "      <td>291</td>\n",
       "      <td>41</td>\n",
       "      <td>8</td>\n",
       "      <td>-2</td>\n",
       "      <td>-80</td>\n",
       "    </tr>\n",
       "    <tr>\n",
       "      <th>9</th>\n",
       "      <td>0</td>\n",
       "      <td>-476</td>\n",
       "      <td>-213</td>\n",
       "      <td>-18</td>\n",
       "      <td>301</td>\n",
       "      <td>-403</td>\n",
       "      <td>-394</td>\n",
       "      <td>-42</td>\n",
       "      <td>-144</td>\n",
       "      <td>98</td>\n",
       "      <td>...</td>\n",
       "      <td>241</td>\n",
       "      <td>1214</td>\n",
       "      <td>127</td>\n",
       "      <td>255</td>\n",
       "      <td>50</td>\n",
       "      <td>1701</td>\n",
       "      <td>1108</td>\n",
       "      <td>61</td>\n",
       "      <td>525</td>\n",
       "      <td>-83</td>\n",
       "    </tr>\n",
       "    <tr>\n",
       "      <th>12</th>\n",
       "      <td>0</td>\n",
       "      <td>17</td>\n",
       "      <td>-229</td>\n",
       "      <td>79</td>\n",
       "      <td>218</td>\n",
       "      <td>-262</td>\n",
       "      <td>-404</td>\n",
       "      <td>325</td>\n",
       "      <td>-201</td>\n",
       "      <td>6</td>\n",
       "      <td>...</td>\n",
       "      <td>225</td>\n",
       "      <td>1020</td>\n",
       "      <td>-109</td>\n",
       "      <td>209</td>\n",
       "      <td>-51</td>\n",
       "      <td>1434</td>\n",
       "      <td>255</td>\n",
       "      <td>53</td>\n",
       "      <td>545</td>\n",
       "      <td>-16</td>\n",
       "    </tr>\n",
       "    <tr>\n",
       "      <th>13</th>\n",
       "      <td>0</td>\n",
       "      <td>-144</td>\n",
       "      <td>-199</td>\n",
       "      <td>-157</td>\n",
       "      <td>132</td>\n",
       "      <td>-151</td>\n",
       "      <td>-347</td>\n",
       "      <td>-118</td>\n",
       "      <td>-24</td>\n",
       "      <td>126</td>\n",
       "      <td>...</td>\n",
       "      <td>103</td>\n",
       "      <td>595</td>\n",
       "      <td>-12</td>\n",
       "      <td>36</td>\n",
       "      <td>26</td>\n",
       "      <td>208</td>\n",
       "      <td>113</td>\n",
       "      <td>-8</td>\n",
       "      <td>22</td>\n",
       "      <td>-22</td>\n",
       "    </tr>\n",
       "  </tbody>\n",
       "</table>\n",
       "<p>5 rows × 7130 columns</p>\n",
       "</div>"
      ],
      "text/plain": [
       "    Cancer_type  AFFX-BioB-5_at  AFFX-BioB-M_at  AFFX-BioB-3_at  \\\n",
       "0             0            -214            -153             -58   \n",
       "5             0             -67             -93              84   \n",
       "9             0            -476            -213             -18   \n",
       "12            0              17            -229              79   \n",
       "13            0            -144            -199            -157   \n",
       "\n",
       "    AFFX-BioC-5_at  AFFX-BioC-3_at  AFFX-BioDn-5_at  AFFX-BioDn-3_at  \\\n",
       "0               88            -295             -558              199   \n",
       "5               25            -179             -323             -135   \n",
       "9              301            -403             -394              -42   \n",
       "12             218            -262             -404              325   \n",
       "13             132            -151             -347             -118   \n",
       "\n",
       "    AFFX-CreX-5_at  AFFX-CreX-3_at     ...       U48730_at  U58516_at  \\\n",
       "0             -176             252     ...             185        511   \n",
       "5             -127              -2     ...              48        224   \n",
       "9             -144              98     ...             241       1214   \n",
       "12            -201               6     ...             225       1020   \n",
       "13             -24             126     ...             103        595   \n",
       "\n",
       "    U73738_at  X06956_at  X16699_at  X83863_at  Z17240_at  L49218_f_at  \\\n",
       "0        -125        389        -37        793        329           36   \n",
       "5          60        194        -10        291         41            8   \n",
       "9         127        255         50       1701       1108           61   \n",
       "12       -109        209        -51       1434        255           53   \n",
       "13        -12         36         26        208        113           -8   \n",
       "\n",
       "    M71243_f_at  Z78285_f_at  \n",
       "0           191          -37  \n",
       "5            -2          -80  \n",
       "9           525          -83  \n",
       "12          545          -16  \n",
       "13           22          -22  \n",
       "\n",
       "[5 rows x 7130 columns]"
      ]
     },
     "execution_count": 3,
     "metadata": {},
     "output_type": "execute_result"
    }
   ],
   "source": [
    "data_train.head()"
   ]
  },
  {
   "cell_type": "code",
   "execution_count": 4,
   "metadata": {},
   "outputs": [
    {
     "data": {
      "text/html": [
       "<div>\n",
       "<style>\n",
       "    .dataframe thead tr:only-child th {\n",
       "        text-align: right;\n",
       "    }\n",
       "\n",
       "    .dataframe thead th {\n",
       "        text-align: left;\n",
       "    }\n",
       "\n",
       "    .dataframe tbody tr th {\n",
       "        vertical-align: top;\n",
       "    }\n",
       "</style>\n",
       "<table border=\"1\" class=\"dataframe\">\n",
       "  <thead>\n",
       "    <tr style=\"text-align: right;\">\n",
       "      <th></th>\n",
       "      <th>Cancer_type</th>\n",
       "      <th>AFFX-BioB-5_at</th>\n",
       "      <th>AFFX-BioB-M_at</th>\n",
       "      <th>AFFX-BioB-3_at</th>\n",
       "      <th>AFFX-BioC-5_at</th>\n",
       "      <th>AFFX-BioC-3_at</th>\n",
       "      <th>AFFX-BioDn-5_at</th>\n",
       "      <th>AFFX-BioDn-3_at</th>\n",
       "      <th>AFFX-CreX-5_at</th>\n",
       "      <th>AFFX-CreX-3_at</th>\n",
       "      <th>...</th>\n",
       "      <th>U48730_at</th>\n",
       "      <th>U58516_at</th>\n",
       "      <th>U73738_at</th>\n",
       "      <th>X06956_at</th>\n",
       "      <th>X16699_at</th>\n",
       "      <th>X83863_at</th>\n",
       "      <th>Z17240_at</th>\n",
       "      <th>L49218_f_at</th>\n",
       "      <th>M71243_f_at</th>\n",
       "      <th>Z78285_f_at</th>\n",
       "    </tr>\n",
       "  </thead>\n",
       "  <tbody>\n",
       "    <tr>\n",
       "      <th>0</th>\n",
       "      <td>0.0</td>\n",
       "      <td>0.466192</td>\n",
       "      <td>0.596552</td>\n",
       "      <td>0.487535</td>\n",
       "      <td>0.318182</td>\n",
       "      <td>0.369800</td>\n",
       "      <td>0.366279</td>\n",
       "      <td>0.644599</td>\n",
       "      <td>0.644860</td>\n",
       "      <td>0.928074</td>\n",
       "      <td>...</td>\n",
       "      <td>0.488525</td>\n",
       "      <td>0.307918</td>\n",
       "      <td>0.398126</td>\n",
       "      <td>0.363988</td>\n",
       "      <td>0.677778</td>\n",
       "      <td>0.385555</td>\n",
       "      <td>0.322609</td>\n",
       "      <td>0.843750</td>\n",
       "      <td>0.088995</td>\n",
       "      <td>0.570896</td>\n",
       "    </tr>\n",
       "    <tr>\n",
       "      <th>1</th>\n",
       "      <td>0.0</td>\n",
       "      <td>0.727758</td>\n",
       "      <td>0.803448</td>\n",
       "      <td>0.684211</td>\n",
       "      <td>0.139205</td>\n",
       "      <td>0.548536</td>\n",
       "      <td>0.707849</td>\n",
       "      <td>0.411847</td>\n",
       "      <td>0.759346</td>\n",
       "      <td>0.338747</td>\n",
       "      <td>...</td>\n",
       "      <td>0.039344</td>\n",
       "      <td>0.097507</td>\n",
       "      <td>0.831382</td>\n",
       "      <td>0.175218</td>\n",
       "      <td>0.777778</td>\n",
       "      <td>0.118959</td>\n",
       "      <td>0.072174</td>\n",
       "      <td>0.746528</td>\n",
       "      <td>0.012316</td>\n",
       "      <td>0.410448</td>\n",
       "    </tr>\n",
       "    <tr>\n",
       "      <th>2</th>\n",
       "      <td>0.0</td>\n",
       "      <td>0.000000</td>\n",
       "      <td>0.389655</td>\n",
       "      <td>0.542936</td>\n",
       "      <td>0.923295</td>\n",
       "      <td>0.203390</td>\n",
       "      <td>0.604651</td>\n",
       "      <td>0.476655</td>\n",
       "      <td>0.719626</td>\n",
       "      <td>0.570766</td>\n",
       "      <td>...</td>\n",
       "      <td>0.672131</td>\n",
       "      <td>0.823314</td>\n",
       "      <td>0.988290</td>\n",
       "      <td>0.234269</td>\n",
       "      <td>1.000000</td>\n",
       "      <td>0.867764</td>\n",
       "      <td>1.000000</td>\n",
       "      <td>0.930556</td>\n",
       "      <td>0.221692</td>\n",
       "      <td>0.399254</td>\n",
       "    </tr>\n",
       "    <tr>\n",
       "      <th>3</th>\n",
       "      <td>0.0</td>\n",
       "      <td>0.877224</td>\n",
       "      <td>0.334483</td>\n",
       "      <td>0.677285</td>\n",
       "      <td>0.687500</td>\n",
       "      <td>0.420647</td>\n",
       "      <td>0.590116</td>\n",
       "      <td>0.732404</td>\n",
       "      <td>0.586449</td>\n",
       "      <td>0.357309</td>\n",
       "      <td>...</td>\n",
       "      <td>0.619672</td>\n",
       "      <td>0.681085</td>\n",
       "      <td>0.435597</td>\n",
       "      <td>0.189739</td>\n",
       "      <td>0.625926</td>\n",
       "      <td>0.725969</td>\n",
       "      <td>0.258261</td>\n",
       "      <td>0.902778</td>\n",
       "      <td>0.229638</td>\n",
       "      <td>0.649254</td>\n",
       "    </tr>\n",
       "    <tr>\n",
       "      <th>4</th>\n",
       "      <td>0.0</td>\n",
       "      <td>0.590747</td>\n",
       "      <td>0.437931</td>\n",
       "      <td>0.350416</td>\n",
       "      <td>0.443182</td>\n",
       "      <td>0.591680</td>\n",
       "      <td>0.672965</td>\n",
       "      <td>0.423693</td>\n",
       "      <td>1.000000</td>\n",
       "      <td>0.635731</td>\n",
       "      <td>...</td>\n",
       "      <td>0.219672</td>\n",
       "      <td>0.369501</td>\n",
       "      <td>0.662763</td>\n",
       "      <td>0.022265</td>\n",
       "      <td>0.911111</td>\n",
       "      <td>0.074881</td>\n",
       "      <td>0.134783</td>\n",
       "      <td>0.690972</td>\n",
       "      <td>0.021851</td>\n",
       "      <td>0.626866</td>\n",
       "    </tr>\n",
       "  </tbody>\n",
       "</table>\n",
       "<p>5 rows × 7130 columns</p>\n",
       "</div>"
      ],
      "text/plain": [
       "   Cancer_type  AFFX-BioB-5_at  AFFX-BioB-M_at  AFFX-BioB-3_at  \\\n",
       "0          0.0        0.466192        0.596552        0.487535   \n",
       "1          0.0        0.727758        0.803448        0.684211   \n",
       "2          0.0        0.000000        0.389655        0.542936   \n",
       "3          0.0        0.877224        0.334483        0.677285   \n",
       "4          0.0        0.590747        0.437931        0.350416   \n",
       "\n",
       "   AFFX-BioC-5_at  AFFX-BioC-3_at  AFFX-BioDn-5_at  AFFX-BioDn-3_at  \\\n",
       "0        0.318182        0.369800         0.366279         0.644599   \n",
       "1        0.139205        0.548536         0.707849         0.411847   \n",
       "2        0.923295        0.203390         0.604651         0.476655   \n",
       "3        0.687500        0.420647         0.590116         0.732404   \n",
       "4        0.443182        0.591680         0.672965         0.423693   \n",
       "\n",
       "   AFFX-CreX-5_at  AFFX-CreX-3_at     ...       U48730_at  U58516_at  \\\n",
       "0        0.644860        0.928074     ...        0.488525   0.307918   \n",
       "1        0.759346        0.338747     ...        0.039344   0.097507   \n",
       "2        0.719626        0.570766     ...        0.672131   0.823314   \n",
       "3        0.586449        0.357309     ...        0.619672   0.681085   \n",
       "4        1.000000        0.635731     ...        0.219672   0.369501   \n",
       "\n",
       "   U73738_at  X06956_at  X16699_at  X83863_at  Z17240_at  L49218_f_at  \\\n",
       "0   0.398126   0.363988   0.677778   0.385555   0.322609     0.843750   \n",
       "1   0.831382   0.175218   0.777778   0.118959   0.072174     0.746528   \n",
       "2   0.988290   0.234269   1.000000   0.867764   1.000000     0.930556   \n",
       "3   0.435597   0.189739   0.625926   0.725969   0.258261     0.902778   \n",
       "4   0.662763   0.022265   0.911111   0.074881   0.134783     0.690972   \n",
       "\n",
       "   M71243_f_at  Z78285_f_at  \n",
       "0     0.088995     0.570896  \n",
       "1     0.012316     0.410448  \n",
       "2     0.221692     0.399254  \n",
       "3     0.229638     0.649254  \n",
       "4     0.021851     0.626866  \n",
       "\n",
       "[5 rows x 7130 columns]"
      ]
     },
     "execution_count": 4,
     "metadata": {},
     "output_type": "execute_result"
    }
   ],
   "source": [
    "col_names = data_train.columns\n",
    "min_max_scaler = MinMaxScaler()\n",
    "data_train = min_max_scaler.fit_transform(data_train)\n",
    "data_test = min_max_scaler.fit_transform(data_test)\n",
    "\n",
    "data_train = pd.DataFrame(data_train)\n",
    "data_test = pd.DataFrame(data_test)\n",
    "data_train.columns = col_names\n",
    "data_test.columns = col_names\n",
    "\n",
    "data_train.head()"
   ]
  },
  {
   "cell_type": "code",
   "execution_count": 5,
   "metadata": {},
   "outputs": [
    {
     "data": {
      "text/html": [
       "<div>\n",
       "<style>\n",
       "    .dataframe thead tr:only-child th {\n",
       "        text-align: right;\n",
       "    }\n",
       "\n",
       "    .dataframe thead th {\n",
       "        text-align: left;\n",
       "    }\n",
       "\n",
       "    .dataframe tbody tr th {\n",
       "        vertical-align: top;\n",
       "    }\n",
       "</style>\n",
       "<table border=\"1\" class=\"dataframe\">\n",
       "  <thead>\n",
       "    <tr style=\"text-align: right;\">\n",
       "      <th></th>\n",
       "      <th>D49818_at</th>\n",
       "      <th>M23161_at</th>\n",
       "      <th>hum_alu_at</th>\n",
       "      <th>AFFX-PheX-5_at</th>\n",
       "      <th>M15990_at</th>\n",
       "    </tr>\n",
       "    <tr>\n",
       "      <th>Cancer_type</th>\n",
       "      <th></th>\n",
       "      <th></th>\n",
       "      <th></th>\n",
       "      <th></th>\n",
       "      <th></th>\n",
       "    </tr>\n",
       "  </thead>\n",
       "  <tbody>\n",
       "    <tr>\n",
       "      <th>0.0</th>\n",
       "      <td>0.504676</td>\n",
       "      <td>0.374248</td>\n",
       "      <td>0.465162</td>\n",
       "      <td>0.55364</td>\n",
       "      <td>0.266351</td>\n",
       "    </tr>\n",
       "    <tr>\n",
       "      <th>1.0</th>\n",
       "      <td>0.573192</td>\n",
       "      <td>0.255162</td>\n",
       "      <td>0.530630</td>\n",
       "      <td>0.62931</td>\n",
       "      <td>0.231240</td>\n",
       "    </tr>\n",
       "  </tbody>\n",
       "</table>\n",
       "</div>"
      ],
      "text/plain": [
       "             D49818_at  M23161_at  hum_alu_at  AFFX-PheX-5_at  M15990_at\n",
       "Cancer_type                                                             \n",
       "0.0           0.504676   0.374248    0.465162         0.55364   0.266351\n",
       "1.0           0.573192   0.255162    0.530630         0.62931   0.231240"
      ]
     },
     "execution_count": 5,
     "metadata": {},
     "output_type": "execute_result"
    }
   ],
   "source": [
    "grouped = data_train.groupby('Cancer_type').mean()\n",
    "interesting_columns = grouped[[\"D49818_at\", \"M23161_at\", \"hum_alu_at\", \"AFFX-PheX-5_at\", \"M15990_at\"]]\n",
    "interesting_columns"
   ]
  },
  {
   "cell_type": "code",
   "execution_count": 6,
   "metadata": {},
   "outputs": [
    {
     "data": {
      "image/png": "[encoded data removed]",
      "text/plain": [
       "<matplotlib.figure.Figure at 0x10c29f550>"
      ]
     },
     "metadata": {},
     "output_type": "display_data"
    }
   ],
   "source": [
    "fig, ax = plt.subplots(1,1, figsize=(5,2))\n",
    "sns.heatmap(interesting_columns, ax=ax)\n",
    "ax.set_xticklabels(interesting_columns, rotation='vertical')\n",
    "plt.show()"
   ]
  },
  {
   "cell_type": "code",
   "execution_count": 7,
   "metadata": {},
   "outputs": [
    {
     "name": "stdout",
     "output_type": "stream",
     "text": [
      "Explained variance ratio: [ 0.17206147  0.10732536]\n"
     ]
    }
   ],
   "source": [
    "X_train = data_train.drop(\"Cancer_type\", axis = 1)\n",
    "y_train = data_train[\"Cancer_type\"]\n",
    "X_test = data_test.drop(\"Cancer_type\", axis = 1)\n",
    "y_test = data_test[\"Cancer_type\"]\n",
    "\n",
    "pca = PCA(n_components=2)\n",
    "pca.fit(X_train)\n",
    "X = pca.fit_transform(X_train.values)\n",
    "X_train_pca = pca.transform(X_train)\n",
    "X_test_pca = pca.transform(X_test)\n",
    "\n",
    "print('Explained variance ratio:', pca.explained_variance_ratio_)"
   ]
  },
  {
   "cell_type": "code",
   "execution_count": 8,
   "metadata": {},
   "outputs": [
    {
     "data": {
      "text/html": [
       "<div>\n",
       "<style>\n",
       "    .dataframe thead tr:only-child th {\n",
       "        text-align: right;\n",
       "    }\n",
       "\n",
       "    .dataframe thead th {\n",
       "        text-align: left;\n",
       "    }\n",
       "\n",
       "    .dataframe tbody tr th {\n",
       "        vertical-align: top;\n",
       "    }\n",
       "</style>\n",
       "<table border=\"1\" class=\"dataframe\">\n",
       "  <thead>\n",
       "    <tr style=\"text-align: right;\">\n",
       "      <th></th>\n",
       "      <th>type</th>\n",
       "      <th>pc1</th>\n",
       "      <th>pc2</th>\n",
       "    </tr>\n",
       "  </thead>\n",
       "  <tbody>\n",
       "    <tr>\n",
       "      <th>0</th>\n",
       "      <td>0.0</td>\n",
       "      <td>7.667016</td>\n",
       "      <td>-0.181423</td>\n",
       "    </tr>\n",
       "    <tr>\n",
       "      <th>1</th>\n",
       "      <td>0.0</td>\n",
       "      <td>-8.705271</td>\n",
       "      <td>-3.125805</td>\n",
       "    </tr>\n",
       "    <tr>\n",
       "      <th>2</th>\n",
       "      <td>0.0</td>\n",
       "      <td>21.341974</td>\n",
       "      <td>8.695750</td>\n",
       "    </tr>\n",
       "    <tr>\n",
       "      <th>3</th>\n",
       "      <td>0.0</td>\n",
       "      <td>11.527625</td>\n",
       "      <td>23.669090</td>\n",
       "    </tr>\n",
       "    <tr>\n",
       "      <th>4</th>\n",
       "      <td>0.0</td>\n",
       "      <td>-7.842504</td>\n",
       "      <td>7.473373</td>\n",
       "    </tr>\n",
       "  </tbody>\n",
       "</table>\n",
       "</div>"
      ],
      "text/plain": [
       "   type        pc1        pc2\n",
       "0   0.0   7.667016  -0.181423\n",
       "1   0.0  -8.705271  -3.125805\n",
       "2   0.0  21.341974   8.695750\n",
       "3   0.0  11.527625  23.669090\n",
       "4   0.0  -7.842504   7.473373"
      ]
     },
     "execution_count": 8,
     "metadata": {},
     "output_type": "execute_result"
    }
   ],
   "source": [
    "dfpca = pd.DataFrame({\"type\":data_train.Cancer_type})\n",
    "for i in range(pca.explained_variance_ratio_.shape[0]):\n",
    "    dfpca[\"pc%i\" % (i+1)] = X[:,i]\n",
    "dfpca.head()"
   ]
  },
  {
   "cell_type": "code",
   "execution_count": 9,
   "metadata": {},
   "outputs": [
    {
     "data": {
      "image/png": "[encoded data removed]",
      "text/plain": [
       "<matplotlib.figure.Figure at 0x117f9bbe0>"
      ]
     },
     "metadata": {},
     "output_type": "display_data"
    }
   ],
   "source": [
    "c0=sns.color_palette()[0]\n",
    "c1=sns.color_palette()[1]\n",
    "colors = [c0, c1]\n",
    "for label, color in zip(dfpca['type'].unique(), colors):\n",
    "    mask = dfpca['type']==label\n",
    "    plt.scatter(dfpca[mask]['pc1'], dfpca[mask]['pc2'], c=color, label=label, alpha=0.8)\n",
    "plt.xlabel(\"pc1\")\n",
    "plt.ylabel(\"pc2\")\n",
    "plt.legend(loc=\"best\")\n",
    "plt.show()"
   ]
  },
  {
   "cell_type": "markdown",
   "metadata": {},
   "source": [
    "## Answer:\n",
    "### 1. Notice that the results training set contains more predictors than observations. Do you foresee a problem in fitting a classification model to such a data set?\n",
    "- We can see that the training set contains 32 rows/observations but more than 7000 columns/predictors. The problem is high dimensionality, where p (predictors) >> n (observations). Plus, many predictors can be correlated.\n",
    "- Since y only takes two values 0 or 1, $\\epsilon$ is not normally distributed.\n",
    "\n",
    "### 2. By observing the heat map, comment on which of these genes are useful in discriminating between the two classes.\n",
    "- M23161_at: higher for type 0 (ALL) and lower for type 1 (AML)\n",
    "- hum_alu_at and AFFX-PheX-5_at: higher for type 1 (AML) and lower for type 0 (ALL)\n",
    "- The rest of the three genes do not differ a lot so it is hard to use those to distinguish the two classes.\n",
    "\n",
    "### 3. How well do the top two principal components discriminate between the two classes?\n",
    "- With only two principal components, the classification is not very clear. But we can still see that most \"type 1\" (AML) points stay in the lower left corner.\n",
    "- To get a better discrimination between two classes, we need more prinicpal components. The current two dimensions are not enough."
   ]
  },
  {
   "cell_type": "markdown",
   "metadata": {},
   "source": [
    "## Part (b): Linear Regression vs. Logistic Regression\n",
    "\n",
    "Begin by analyzing the differences between using linear regression and logistic regression for classification. For this part, you shall work with a single gene predictor: `D29963_at`.\n",
    "\n",
    "- Fit a simple linear regression model to the training set using the single gene predictor `D29963_at`. We could interpret the scores predicted by regression model interpreted for a patient as an estimate of the probability that the patient has the `ALL` type cancer (class 1). Is there a problem with this interpretation?\n",
    "\n",
    "\n",
    "- The fitted linear regression model can be converted to a classification model (i.e. a model that predicts one of two binary labels 0 or 1) by classifying patients with predicted score greater than 0.5 into the `ALL` type (class 1), and the others into the `AML` type (class 0). Evaluate the classification accuracy (1 - misclassification rate) of the obtained classification model on both the training and test sets.\n",
    "\n",
    "\n",
    "- Next, fit a simple logistic regression model to the training set. How does the training and test calssification accuracy of this model compare with the linear regression model?  Remember, you need to set the regularization parameter for sklearn's logistic regression function to be a very large value in order not to regularize (use 'C=100000').\n",
    "\n",
    "\n",
    "\n",
    "- Plot the quantitative output from linear regression model and the probabilistic output from the logistic regression model (on the training set points) as a function of the gene predictor. Also, display the true binary response for the training set points in the same plot.\n",
    "Based on these plots, does one of the models appear better suited for binary classification than the other? Explain.\n",
    "\n"
   ]
  },
  {
   "cell_type": "code",
   "execution_count": 10,
   "metadata": {},
   "outputs": [
    {
     "name": "stdout",
     "output_type": "stream",
     "text": [
      "[ 0.32341262  0.20860616  0.39471348  0.43096815  0.39833895  0.32945507\n",
      "  0.3963248   0.32864941  0.43902475  0.32703809  0.46722283  0.41525779\n",
      "  0.28030984  0.34516542  0.41203516  0.39914461  0.68716784  0.15623829\n",
      "  0.13569398  0.13126285  0.41445213  0.29884001  0.34959655  0.18645052\n",
      "  0.88213742  0.50831146  0.37416916  0.51878503  0.29843718  0.36893238\n",
      "  0.20054956  0.59330852]\n",
      "0     0.404051\n",
      "1     0.295572\n",
      "2     0.348928\n",
      "3     0.499103\n",
      "4     0.302992\n",
      "5     0.271544\n",
      "6     0.365536\n",
      "7     0.258470\n",
      "8     0.251049\n",
      "9     0.437973\n",
      "10    0.401224\n",
      "11    0.504757\n",
      "12    0.415005\n",
      "13    0.249989\n",
      "14    0.331614\n",
      "15    0.328434\n",
      "16    0.241509\n",
      "17    0.882137\n",
      "18    0.425252\n",
      "19    0.307586\n",
      "20    0.449280\n",
      "21    0.852456\n",
      "22    0.511470\n",
      "23    0.613236\n",
      "24    0.332321\n",
      "25    0.221368\n",
      "26    0.377196\n",
      "27    0.317126\n",
      "28    0.209000\n",
      "29    0.131263\n",
      "30    0.135150\n",
      "31    0.249283\n",
      "32    0.280378\n",
      "33    0.297339\n",
      "34    0.283205\n",
      "35    0.530905\n",
      "36    0.336207\n",
      "37    0.393451\n",
      "38    0.545746\n",
      "39    0.603342\n",
      "40    0.755990\n",
      "dtype: float64\n"
     ]
    }
   ],
   "source": [
    "X_train = sm.add_constant(data_train[\"D29963_at\"])\n",
    "X_test = sm.add_constant(data_test[\"D29963_at\"])\n",
    "y_train = data_train[\"Cancer_type\"].values.reshape(-1,1)\n",
    "y_test = data_test[\"Cancer_type\"].values.reshape(-1,1)\n",
    "\n",
    "model = OLS(endog=y_train, exog=X_train)\n",
    "result = model.fit()\n",
    "\n",
    "y_hat_train = result.predict()\n",
    "y_hat_test = result.predict(exog=X_test)\n",
    "\n",
    "print(y_hat_train)\n",
    "print(y_hat_test)"
   ]
  },
  {
   "cell_type": "code",
   "execution_count": 11,
   "metadata": {},
   "outputs": [
    {
     "name": "stdout",
     "output_type": "stream",
     "text": [
      "The classification accuracy for the training set using linear regression is: 0.71875\n",
      "The classification accuracy for the test set using linear regression is: 0.853658536585\n"
     ]
    }
   ],
   "source": [
    "y_hat_train[y_hat_train > 0.5] = 1\n",
    "y_hat_train[y_hat_train <= 0.5] = 0\n",
    "# print(y_train.reshape(32,))\n",
    "# print(y_hat_train)\n",
    "# print(y_train.reshape(32,) - y_hat_train)\n",
    "accuracy_train = np.mean( y_train.reshape(32,) == y_hat_train )\n",
    "print(\"The classification accuracy for the training set using linear regression is:\", accuracy_train)\n",
    "y_hat_test = y_hat_test.values\n",
    "y_hat_test\n",
    "y_hat_test[y_hat_test > 0.5] = 1\n",
    "y_hat_test[y_hat_test <= 0.5] = 0\n",
    "accuracy_test = np.mean( y_test.reshape(41, ) == y_hat_test )\n",
    "# print(y_hat_test)\n",
    "# print(y_test.reshape(41, ))\n",
    "print(\"The classification accuracy for the test set using linear regression is:\", accuracy_test)"
   ]
  },
  {
   "cell_type": "code",
   "execution_count": 12,
   "metadata": {},
   "outputs": [
    {
     "name": "stdout",
     "output_type": "stream",
     "text": [
      "The classification accuracy for the training set using logistic regression is: 0.71875\n",
      "The classification accuracy for the test set using logistic regression is: 0.829268292683\n"
     ]
    }
   ],
   "source": [
    "logitm = LogisticRegression(C = 100000)\n",
    "logitm.fit (X_train, data_train[\"Cancer_type\"])\n",
    "y_hat_train_log = logitm.predict(X_train)\n",
    "accuracy_train_log = np.mean( y_train.reshape(32,) == y_hat_train_log )\n",
    "print(\"The classification accuracy for the training set using logistic regression is:\", accuracy_train_log)\n",
    "\n",
    "y_hat_test_log = logitm.predict(X_test)\n",
    "accuracy_test_log = np.mean( y_test.reshape(41,) == y_hat_test_log )\n",
    "print(\"The classification accuracy for the test set using logistic regression is:\", accuracy_test_log)"
   ]
  },
  {
   "cell_type": "code",
   "execution_count": 13,
   "metadata": {},
   "outputs": [
    {
     "data": {
      "image/png": "[encoded data removed]",
      "text/plain": [
       "<matplotlib.figure.Figure at 0x11879a978>"
      ]
     },
     "metadata": {},
     "output_type": "display_data"
    }
   ],
   "source": [
    "X= data_train[\"D29963_at\"]\n",
    "lm = LinearRegression()\n",
    "lm.fit (X_train, data_train[\"Cancer_type\"])\n",
    "\n",
    "# plt.scatter(data_train[\"D29963_at\"], data_train[\"Cancer_type\"], color = \"black\", alpha=0.3)\n",
    "# plt.scatter(X, lm.predict(X_train), color=\"blue\", alpha=0.5, label=\"linear\")\n",
    "# plt.scatter(X, logitm.predict_proba(X_train)[:,1],  color='red', alpha=0.5, label=\"logistic\")\n",
    "# plt.xlabel (\"Gene D29963_at\")\n",
    "# plt.ylabel(\"Type 0 or Type 1\")    \n",
    "# plt.legend(loc='best')\n",
    "# plt.show()\n",
    "\n",
    "fig, axes = plt.subplots(1,3,figsize=(15,6))\n",
    "axes[0].scatter(data_train[\"D29963_at\"], data_train[\"Cancer_type\"], color = \"black\", alpha=0.5)\n",
    "axes[0].scatter(X, lm.predict(X_train), color=\"blue\", label=\"linear\")\n",
    "axes[0].set_xlabel(\"Gene D29963_at\")\n",
    "axes[0].set_ylabel(\"Type 0 or Type 1\")\n",
    "axes[0].set_title(\"Linear Regression Model\")\n",
    "axes[0].legend(loc='best')\n",
    "\n",
    "axes[1].scatter(data_train[\"D29963_at\"], data_train[\"Cancer_type\"], color = \"black\", alpha=0.5)\n",
    "axes[1].scatter(X, logitm.predict_proba(X_train)[:,1], color=\"red\", label=\"logistic\")\n",
    "axes[1].set_xlabel(\"Gene D29963_at\")\n",
    "axes[1].set_ylabel(\"Type 0 or Type 1\")\n",
    "axes[1].set_title(\"Linear Regression Model\")\n",
    "axes[1].legend(loc='best')\n",
    "\n",
    "axes[2].scatter(data_train[\"D29963_at\"], data_train[\"Cancer_type\"], color = \"black\", alpha=0.5)\n",
    "axes[2].scatter(X, lm.predict(X_train), color=\"blue\", label=\"linear\", alpha=0.3)\n",
    "axes[2].scatter(X, logitm.predict_proba(X_train)[:,1], color=\"red\", label=\"logistic\", alpha=0.3)\n",
    "axes[2].set_xlabel(\"Gene D29963_at\")\n",
    "axes[2].set_ylabel(\"Type 0 or Type 1\")\n",
    "axes[2].set_title(\"Linear vs. Logistic\")\n",
    "axes[2].legend(loc='best')\n",
    "plt.show()"
   ]
  },
  {
   "cell_type": "markdown",
   "metadata": {},
   "source": [
    "## Answer:\n",
    "### 1.  Is there a problem with this interpretation?\n",
    "- Yes. It is possible that linear regression gives negative values or values above 1, which makes no sense in probablity.\n",
    "\n",
    "### 2. How does the training and test calssification accuracy of this model compare with the linear regression model?\n",
    "- The accuracy rate for the training set doesn't change from linear regression to logistic regression. The accuracy for the test set decreases a little bit, but does not differ much.\n",
    "\n",
    "### 3. Based on these plots, does one of the models appear better suited for binary classification than the other? Explain.\n",
    "- From the plot, we can see the probability outputs from both linear model and logistic model are very close to each other, so it is hard to say which model is better.\n",
    "- We can see the logistic model has a sigmoid shape.\n",
    "- Generally, logistic regression is better for binary classification."
   ]
  },
  {
   "cell_type": "markdown",
   "metadata": {},
   "source": [
    "## Part (c): Multiple Logistic Regression\n",
    "\n",
    "Next, fit a multiple logistic regression model with all the gene predictors from the data set.  How does the classification accuracy of this model compare with the models fitted in Part (b) with a single gene (on both the training and test sets)?  \n",
    "\n",
    "Use the `visualize_prob` from `HW5_functions.py` to visualize the probabilties predicted by the fitted multiple logistic regression model on both the training and test data sets. The function creates a visualization that places the data points on a vertical line based on the predicted probabilities, with the `ALL` and `AML` classes shown in different colors, and with the 0.5 threshold highlighted using a dotted horizontal line.  Is there a difference in the spread of probabilities in the training and test plots? Are there data points for which the predicted probability is close to 0.5? If so, what can you say about these points?"
   ]
  },
  {
   "cell_type": "code",
   "execution_count": 14,
   "metadata": {},
   "outputs": [
    {
     "name": "stdout",
     "output_type": "stream",
     "text": [
      "The training accuracy using logistic regression with all gene predictors is: 1.0\n",
      "The test accuracy using logistic regression with all gene predictors is: 0.926829268293\n"
     ]
    }
   ],
   "source": [
    "X_train = data_train.drop(\"Cancer_type\", axis = 1)\n",
    "X_test = data_test.drop(\"Cancer_type\", axis = 1)\n",
    "y_train = data_train[\"Cancer_type\"].values\n",
    "y_test = data_test[\"Cancer_type\"].values\n",
    "\n",
    "logitm = LogisticRegression(C = 100000)\n",
    "logitm.fit (X_train, data_train[\"Cancer_type\"])\n",
    "# y_hat_train_log2 = logitm.predict(X_train)\n",
    "# accuracy_train_log2 = np.mean( y_train == y_hat_train_log2 )\n",
    "accuracy_train_log2 = logitm.score(X_train, data_train[\"Cancer_type\"])\n",
    "print(\"The training accuracy using logistic regression with all gene predictors is:\", accuracy_train_log2)\n",
    "\n",
    "# y_hat_test_log2 = logitm.predict(X_test)\n",
    "# accuracy_test_log2 = np.mean( y_test == y_hat_test_log2 )\n",
    "accuracy_test_log2 = logitm.score(X_test, data_test[\"Cancer_type\"])\n",
    "print(\"The test accuracy using logistic regression with all gene predictors is:\", accuracy_test_log2)"
   ]
  },
  {
   "cell_type": "code",
   "execution_count": 15,
   "metadata": {
    "collapsed": true
   },
   "outputs": [],
   "source": [
    "# starter code\n",
    "from HW5_functions import visualize_prob"
   ]
  },
  {
   "cell_type": "code",
   "execution_count": 16,
   "metadata": {},
   "outputs": [
    {
     "name": "stdout",
     "output_type": "stream",
     "text": [
      "[ 0.  0.  0.  0.  0.  0.  0.  0.  0.  0.  1.  1.  1.  1.  0.  0.  0.  0.\n",
      "  0.  0.  0.  0.  0.  0.  1.  1.  1.  1.  1.  1.  1.  1.]\n"
     ]
    },
    {
     "data": {
      "image/png": "[encoded data removed]",
      "text/plain": [
       "<matplotlib.figure.Figure at 0x118749898>"
      ]
     },
     "metadata": {},
     "output_type": "display_data"
    }
   ],
   "source": [
    "fig, ax = plt.subplots(1,1,figsize=(8,5))\n",
    "visualize_prob(logitm, X_train, y_train, ax)\n",
    "print(y_train)"
   ]
  },
  {
   "cell_type": "code",
   "execution_count": 17,
   "metadata": {},
   "outputs": [
    {
     "name": "stdout",
     "output_type": "stream",
     "text": [
      "[ 0.  0.  0.  0.  0.  0.  0.  0.  0.  0.  0.  0.  0.  0.  0.  0.  0.  1.\n",
      "  1.  1.  1.  1.  1.  1.  0.  0.  0.  0.  0.  0.  0.  0.  0.  0.  0.  1.\n",
      "  1.  1.  1.  1.  1.]\n"
     ]
    },
    {
     "data": {
      "image/png": "[encoded data removed]",
      "text/plain": [
       "<matplotlib.figure.Figure at 0x11c66ff60>"
      ]
     },
     "metadata": {},
     "output_type": "display_data"
    }
   ],
   "source": [
    "fig, ax = plt.subplots(1,1,figsize=(8,5))\n",
    "visualize_prob(logitm, X_test, y_test, ax)\n",
    "print(y_test)"
   ]
  },
  {
   "cell_type": "markdown",
   "metadata": {},
   "source": [
    "## Answer:\n",
    "### 1. How does the classification accuracy of this model compare with the models fitted in Part (b) with a single gene (on both the training and test sets)?\n",
    "- More predictors improved the accuracy on both training and test sets, compared to part(b) with a single gene predictor. We can see that training set is perfectly classified, and test set has accuracy rate about 92.7%. \n",
    "- There might be a problem of overfitting with so many predictors.\n",
    "\n",
    "### 2.  Is there a difference in the spread of probabilities in the training and test plots? Are there data points for which the predicted probability is close to 0.5? If so, what can you say about these points?\n",
    "- For the training set, the spread of probabilities is either 0 or 1. For the test set, we can see the probabilites vary between 0 and 1.\n",
    "- For the test set, there is a few data points just a little bit above 0.5. This means based on the model we choose, we are not very sure which category we should classify those data points."
   ]
  },
  {
   "cell_type": "markdown",
   "metadata": {},
   "source": [
    "## Part (d): Analyzing Significance of Coefficients\n",
    "\n",
    "How many of the coefficients estimated by the multiple logistic regression in the previous problem are significantly different from zero at a *significance level of 95%*? \n",
    "\n",
    "Hint: To answer this question, use *bootstrapping* with 100 boostrap samples/iterations.  \n",
    "\n"
   ]
  },
  {
   "cell_type": "code",
   "execution_count": 18,
   "metadata": {},
   "outputs": [
    {
     "data": {
      "text/plain": [
       "(7130, 100)"
      ]
     },
     "execution_count": 18,
     "metadata": {},
     "output_type": "execute_result"
    }
   ],
   "source": [
    "# def sample(x, y, k):\n",
    "#     n = x.shape[0] # No. of training points \n",
    "#     # Choose random indices of size 'k'\n",
    "#     subset_ind = np.random.choice(np.arange(n), k) \n",
    "#     # Get predictors and reponses with the indices\n",
    "#     x_subset = x[subset_ind, :]\n",
    "#     y_subset = y[subset_ind]  \n",
    "#     return (x_subset, y_subset)\n",
    "\n",
    "X_train = data_train.drop(\"Cancer_type\", axis = 1)\n",
    "X_test = data_test.drop(\"Cancer_type\", axis = 1)\n",
    "y_train = data_train[\"Cancer_type\"].values\n",
    "y_test = data_test[\"Cancer_type\"].values\n",
    "\n",
    "\n",
    "# indexes=np.sort(np.random.choice(X_train.shape[0], size=100, replace=True))\n",
    "# X_train_boot = X_train[indexes]\n",
    "# y_train_boot = y_train[indexes]\n",
    "\n",
    "\n",
    "# X_train_boot = sample(X_train,y_train,100)[0]\n",
    "# y_train_boot = sample(X_train,y_train,100)[1].reshape(100, )\n",
    "\n",
    "# logitm = LogisticRegression(C = 100000)\n",
    "# logitm.fit(X_train_boot, y_train_boot)\n",
    "# logitm.coef_\n",
    "\n",
    "# coef = np.empty([100,7129])\n",
    "# for i in range(100):\n",
    "#     X_train_boot = sample(X_train,y_train,100)[0]\n",
    "#     y_train_boot = sample(X_train,y_train,100)[1].reshape(100, )\n",
    "    \n",
    "#     logitm = LogisticRegression(C = 100000)\n",
    "#     logitm.fit(X_train_boot, y_train_boot)\n",
    "    \n",
    "#     coef[i,:] = logitm.coef_\n",
    "# coef.shape\n",
    "\n",
    "X_train_m = sm.add_constant(X_train)\n",
    "X_test_m = sm.add_constant(X_test)\n",
    "\n",
    "\n",
    "boot_coefs = np.zeros((X_train.shape[1]+1,100))\n",
    "for i in range(100):\n",
    "    #Your code goes here\n",
    "    sample_index = np.random.choice(range(len(y_train)), size=len(y_train), replace=True)\n",
    "    X_train_samples = X_train_m.values[sample_index]\n",
    "    y_train_samples = y_train[sample_index]\n",
    "    \n",
    "    logistic_mod_boot = LogisticRegression(C=100000, fit_intercept=True)\n",
    "    logistic_mod_boot.fit(X_train_samples, y_train_samples)\n",
    "    boot_coefs[:,i] = logistic_mod_boot.coef_\n",
    "\n",
    "boot_coefs.shape"
   ]
  },
  {
   "cell_type": "code",
   "execution_count": 19,
   "metadata": {},
   "outputs": [
    {
     "name": "stdout",
     "output_type": "stream",
     "text": [
      "Significant coefficents at 5pct level = 1945 / 7129\n"
     ]
    }
   ],
   "source": [
    "ci_upper = np.percentile(boot_coefs, 97.5, axis=1)\n",
    "ci_lower = np.percentile(boot_coefs, 2.5, axis=1)\n",
    "\n",
    "# ct significant predictors\n",
    "sig_b_ct = 0\n",
    "sig_cols = [0]*7129\n",
    "\n",
    "\n",
    "# if ci contains 0, then insignificant\n",
    "for i in range(len(ci_upper)):\n",
    "    if ci_upper[i]<0 or ci_lower[i]>0:\n",
    "        sig_b_ct += 1\n",
    "        sig_cols[i] = 1\n",
    "\n",
    "print(\"Significant coefficents at 5pct level = %i / %i\" % (sig_b_ct, X_train.shape[1]))"
   ]
  },
  {
   "cell_type": "code",
   "execution_count": 20,
   "metadata": {},
   "outputs": [
    {
     "name": "stdout",
     "output_type": "stream",
     "text": [
      "The training accuracy using logistic regression with significant gene predictors is: 1.0\n",
      "The test accuracy using logistic regression with significant gene predictors is: 0.951219512195\n"
     ]
    }
   ],
   "source": [
    "indices = [i for i, x in enumerate(sig_cols) if x == 1]\n",
    "X_train_sig = data_train.iloc[:,indices]\n",
    "X_test_sig = data_test.iloc[:,indices]\n",
    "\n",
    "logitm = LogisticRegression(C = 100000)\n",
    "logitm.fit (X_train_sig, data_train[\"Cancer_type\"])\n",
    "accuracy_train_log_sig = logitm.score(X_train_sig, data_train[\"Cancer_type\"])\n",
    "print(\"The training accuracy using logistic regression with significant gene predictors is:\", accuracy_train_log_sig)\n",
    "\n",
    "# y_hat_test_log2 = logitm.predict(X_test)\n",
    "# accuracy_test_log2 = np.mean( y_test == y_hat_test_log2 )\n",
    "accuracy_test_log_sig = logitm.score(X_test_sig, data_test[\"Cancer_type\"])\n",
    "print(\"The test accuracy using logistic regression with significant gene predictors is:\", accuracy_test_log_sig)"
   ]
  },
  {
   "cell_type": "code",
   "execution_count": 21,
   "metadata": {},
   "outputs": [
    {
     "data": {
      "image/png": "[encoded data removed]",
      "text/plain": [
       "<matplotlib.figure.Figure at 0x11c7df940>"
      ]
     },
     "metadata": {},
     "output_type": "display_data"
    }
   ],
   "source": [
    "fig, ax = plt.subplots(1,1,figsize=(8,5))\n",
    "visualize_prob(logitm, X_train_sig, data_train[\"Cancer_type\"], ax)"
   ]
  },
  {
   "cell_type": "code",
   "execution_count": 22,
   "metadata": {},
   "outputs": [
    {
     "data": {
      "image/png": "[encoded data removed]",
      "text/plain": [
       "<matplotlib.figure.Figure at 0x11dc49c50>"
      ]
     },
     "metadata": {},
     "output_type": "display_data"
    }
   ],
   "source": [
    "fig, ax = plt.subplots(1,1,figsize=(8,5))\n",
    "visualize_prob(logitm, X_test_sig, data_test[\"Cancer_type\"], ax)"
   ]
  },
  {
   "cell_type": "markdown",
   "metadata": {},
   "source": [
    "## Part (e): Dimensionality Reduction using PCA\n",
    "\n",
    "A reasonable approach to reduce the dimensionality of the data is to use PCA and fit a logistic regression model on the first set of principal components contributing to 90% of the variance in the predictors.\n",
    "\n",
    "- Fit the model on PCA components mentioned above.  How do the classification accuracy values on both the training and tests sets compare with the models fitted in Parts (c) and (d)?  \n",
    "\n",
    "- Re-fit a logistic regression model using 5-fold cross-validation to choose the number of principal components that maximizes accuracy, and comment on whether you get better test performance than the model fitted above (explain your observations). \n",
    "\n",
    "- Use the code provided in Part (c) to visualize the probabilities predicted by the fitted models on both the training and test sets. How does the spread of probabilities in these plots compare to those for the models in Part (c) and (d)? \n"
   ]
  },
  {
   "cell_type": "code",
   "execution_count": 23,
   "metadata": {},
   "outputs": [
    {
     "name": "stdout",
     "output_type": "stream",
     "text": [
      "Variance explained by each PCA component is:\n",
      " [ 0.17206147  0.10732536  0.06244705  0.05185063  0.04455822  0.04150351\n",
      "  0.03988679  0.03557932  0.03268542  0.03111699  0.02861302  0.02544972\n",
      "  0.02438282  0.02302787  0.0218069   0.02154751  0.02075603  0.02030513\n",
      "  0.01991468  0.01824879  0.01801269  0.01730103  0.01663413  0.0157946 ]\n",
      "Total variance explained is:  0.910809658552\n",
      "The training accuracy using PCA components is: 1.0\n",
      "The test accuracy using PCA components is: 0.926829268293\n"
     ]
    }
   ],
   "source": [
    "pca_2 = PCA(n_components=24)\n",
    "pca_2.fit(X_train)\n",
    "\n",
    "X_train_pca_2 = pca_2.transform(X_train)\n",
    "X_test_pca_2 = pca_2.transform(X_test)\n",
    "print(\"Variance explained by each PCA component is:\\n\", pca_2.explained_variance_ratio_)\n",
    "print(\"Total variance explained is: \", pca_2.explained_variance_ratio_.sum())\n",
    "\n",
    "dfpca_2 = pd.DataFrame({\"Cancer_type\":data_train.Cancer_type})\n",
    "for i in range(pca_2.explained_variance_ratio_.shape[0]):\n",
    "    dfpca_2[\"pc%i\" % (i+1)] = X_train_pca_2[:,i]\n",
    "# dfpca_2.head()\n",
    "\n",
    "X_train_pca = dfpca_2.drop(\"Cancer_type\", axis = 1)\n",
    "\n",
    "logitm = LogisticRegression(C = 100000)\n",
    "logitm.fit(X_train_pca, dfpca_2[\"Cancer_type\"])\n",
    "\n",
    "accuracy_train_log_pca = logitm.score(X_train_pca, dfpca_2[\"Cancer_type\"])\n",
    "print(\"The training accuracy using PCA components is:\", accuracy_train_log_pca)\n",
    "\n",
    "accuracy_test_log_pca = logitm.score(X_test_pca_2, data_test[\"Cancer_type\"])\n",
    "print(\"The test accuracy using PCA components is:\", accuracy_test_log_pca)"
   ]
  },
  {
   "cell_type": "code",
   "execution_count": 24,
   "metadata": {},
   "outputs": [
    {
     "name": "stdout",
     "output_type": "stream",
     "text": [
      "Accuracy rate for training set using 1 to 25 pca components: \n",
      " [0.625, 0.65625, 0.84375, 0.9375, 1.0, 1.0, 1.0, 1.0, 1.0, 1.0, 1.0, 1.0, 1.0, 1.0, 1.0, 1.0, 1.0, 1.0, 1.0, 1.0, 1.0, 1.0, 1.0, 1.0]\n",
      "Accuracy rate for test set using 1 to 25 pca components: \n",
      " [0.68292682926829273, 0.68292682926829273, 0.75609756097560976, 0.78048780487804881, 0.78048780487804881, 0.75609756097560976, 0.78048780487804881, 0.80487804878048785, 0.75609756097560976, 0.85365853658536583, 0.95121951219512191, 0.95121951219512191, 0.92682926829268297, 0.92682926829268297, 0.90243902439024393, 0.95121951219512191, 0.92682926829268297, 0.92682926829268297, 0.92682926829268297, 0.92682926829268297, 0.92682926829268297, 0.90243902439024393, 0.92682926829268297, 0.90243902439024393]\n",
      "Best number of PCA components is:  11\n"
     ]
    }
   ],
   "source": [
    "accuracy_train_logcv = []\n",
    "accuracy_test_logcv = []\n",
    "for n in range(1,25):\n",
    "    pca = PCA(n_components=n)\n",
    "    pca.fit(X_train)\n",
    "\n",
    "    X_train_pca_2 = pca.transform(X_train)\n",
    "    X_test_pca_2 = pca.transform(X_test)\n",
    "\n",
    "#     print(pca.explained_variance_ratio_.sum())\n",
    "\n",
    "    dfpca_2 = pd.DataFrame({\"Cancer_type\":data_train.Cancer_type})\n",
    "    for i in range(pca.explained_variance_ratio_.shape[0]):\n",
    "        dfpca_2[\"pc%i\" % (i+1)] = X_train_pca_2[:,i]\n",
    "\n",
    "    X_train_pca = dfpca_2.drop(\"Cancer_type\", axis = 1)\n",
    "    logcvm = LogisticRegressionCV(Cs=[100000],cv=5)\n",
    "    logcvm.fit(X_train_pca, dfpca_2[\"Cancer_type\"])\n",
    "    \n",
    "    accuracy_train_logcv.append(logcvm.score(X_train_pca, dfpca_2[\"Cancer_type\"]))\n",
    "    accuracy_test_logcv.append(logcvm.score(X_test_pca_2, data_test[\"Cancer_type\"]))\n",
    "\n",
    "#     accuracy_train_logcv = logcvm.score(X_train_pca, dfpca_2[\"Cancer_type\"])\n",
    "#     print(\"The training accuracy using PCA components is:\", accuracy_train_logcv)\n",
    "#     accuracy_test_logcv = logcvm.score(X_test_pca_2, data_test[\"Cancer_type\"])\n",
    "#     print(\"The test accuracy using PCA components is:\", accuracy_test_logcv)\n",
    "print(\"Accuracy rate for training set using 1 to 25 pca components: \\n\", accuracy_train_logcv)\n",
    "print(\"Accuracy rate for test set using 1 to 25 pca components: \\n\", accuracy_test_logcv)\n",
    "best_pca = accuracy_test_logcv.index(max(accuracy_test_logcv)) + 1\n",
    "print(\"Best number of PCA components is: \", best_pca)"
   ]
  },
  {
   "cell_type": "code",
   "execution_count": 25,
   "metadata": {},
   "outputs": [
    {
     "name": "stdout",
     "output_type": "stream",
     "text": [
      "Variance explained by each PCA component is:\n",
      " [ 0.17206147  0.10732536  0.06244691  0.0518492   0.04455547  0.04149966\n",
      "  0.03988327  0.03554202  0.03267901  0.03110275  0.02857014]\n",
      "Total variance explained is:  0.647515268355\n",
      "The best number of PCA components is: 11\n",
      "The training accuracy using PCA components is: 1.0\n",
      "The test accuracy using PCA components is: 0.951219512195\n"
     ]
    }
   ],
   "source": [
    "pca_2 = PCA(n_components=best_pca)\n",
    "pca_2.fit(X_train)\n",
    "\n",
    "X_train_pca_2 = pca_2.transform(X_train)\n",
    "X_test_pca_2 = pca_2.transform(X_test)\n",
    "print(\"Variance explained by each PCA component is:\\n\", pca_2.explained_variance_ratio_)\n",
    "print(\"Total variance explained is: \", pca_2.explained_variance_ratio_.sum())\n",
    "\n",
    "dfpca_2 = pd.DataFrame({\"Cancer_type\":data_train.Cancer_type})\n",
    "for i in range(pca_2.explained_variance_ratio_.shape[0]):\n",
    "    dfpca_2[\"pc%i\" % (i+1)] = X_train_pca_2[:,i]\n",
    "# dfpca_2.head()\n",
    "\n",
    "X_train_pca = dfpca_2.drop(\"Cancer_type\", axis = 1)\n",
    "\n",
    "logitm = LogisticRegression(C = 100000)\n",
    "logitm.fit(X_train_pca, dfpca_2[\"Cancer_type\"])\n",
    "\n",
    "print(\"The best number of PCA components is:\", best_pca)\n",
    "\n",
    "accuracy_train_log_pca = logitm.score(X_train_pca, dfpca_2[\"Cancer_type\"])\n",
    "print(\"The training accuracy using PCA components is:\", accuracy_train_log_pca)\n",
    "\n",
    "accuracy_test_log_pca = logitm.score(X_test_pca_2, data_test[\"Cancer_type\"])\n",
    "print(\"The test accuracy using PCA components is:\", accuracy_test_log_pca)"
   ]
  },
  {
   "cell_type": "code",
   "execution_count": 26,
   "metadata": {},
   "outputs": [
    {
     "data": {
      "image/png": "[encoded data removed]",
      "text/plain": [
       "<matplotlib.figure.Figure at 0x11de494e0>"
      ]
     },
     "metadata": {},
     "output_type": "display_data"
    }
   ],
   "source": [
    "fig, ax = plt.subplots(1,1,figsize=(8,5))\n",
    "visualize_prob(logitm, X_train_pca, data_train[\"Cancer_type\"], ax)"
   ]
  },
  {
   "cell_type": "code",
   "execution_count": 27,
   "metadata": {},
   "outputs": [
    {
     "data": {
      "image/png": "[encoded data removed]",
      "text/plain": [
       "<matplotlib.figure.Figure at 0x11dde1588>"
      ]
     },
     "metadata": {},
     "output_type": "display_data"
    }
   ],
   "source": [
    "fig, ax = plt.subplots(1,1,figsize=(8,5))\n",
    "visualize_prob(logitm, X_test_pca_2, data_test[\"Cancer_type\"], ax)"
   ]
  },
  {
   "cell_type": "markdown",
   "metadata": {},
   "source": [
    "## Answer:\n",
    "\n",
    "### 1. How do the classification accuracy values on both the training and tests sets compare with the models fitted in Parts (c) and (d)?\n",
    "- With the set of principal components contributing to 90% of the variance, we get 100% accuracy on the training set, and 92.68% on the test set. For the training score, every model has 1.0. For the test score, this is better than the simple logistic regression, and about the same the multiple logistic regression with all genes in (c), and the same as using all significant predictors in (d).\n",
    "\n",
    "\n",
    "### 2. Comment on whether you get better test performance than the model fitted above (explain your observations).\n",
    "- With 11 principal components, the accuracy of the test set even improves more to 95.12%. With this set of principal components contributing to about 64.7% variance rather than 90% as before, it is already enough to do very good classification.\n",
    "\n",
    "\n",
    "### 3. How does the spread of probabilities in these plots compare to those for the models in Part (c) and (d)?\n",
    "- Using 11 PCA components, there are no more probabilities that are close to 0.5; probabilities move towards the two ends. However, previously using simple linear regression, simple logistic regression and multiple logistic regression in part (c) and (d), we had predicted probabilities close to 0.5."
   ]
  },
  {
   "cell_type": "markdown",
   "metadata": {},
   "source": [
    "---\n",
    " "
   ]
  },
  {
   "cell_type": "markdown",
   "metadata": {},
   "source": [
    "# APCOMP209a - Homework Question"
   ]
  },
  {
   "cell_type": "markdown",
   "metadata": {},
   "source": [
    "Suppose we want to conduct PCA on the model matrix $X \\in \\Re^{n×p}$, where the columns have been suitably set to zero mean. In this question, we consider the squared reconstruction error:\n",
    "\n",
    "$$  \\parallel XQ- XQ_m \\parallel ^2 $$\n",
    "\n",
    "for a suitable set of eigenvectors forming the matrix $Q_m$, as discussed below. Suppose that we conduct eigendecomposition of $X^T X$ and obtain eigenvalues $\\lambda_1, \\ldots , \\lambda_p$ and principal components $Q$, i.e.\n",
    "\n",
    "$$ X^T X = Q \\Lambda Q ^T $$\n",
    "\n",
    "(1) Suppose that the matrix norm is simply the squared dot product, namely\n",
    "\n",
    "$$ \\parallel A \\parallel ^2 = A^T A $$\n",
    "\n",
    "Then, express the reconstruction error as a sum of matrix products.\n",
    "\n",
    "(2) Simplify your result from (1) based on properties of the matrices $Q$.\n",
    "\n",
    "(3) Now let $Q_m$ be the matrix of the first $m < p$ eigenvectors, namely\n",
    "\n",
    "$$ Q_m = (q_1, \\ldots, q_m, 0, \\ldots, 0) \\in \\Re^{p \\times p} $$\n",
    "\n",
    "Thus, $X Q_m$ is the PCA projection of the data into the space spanned by the first $m$ principal components. Express the products $Q^T_m Q$ and $Q^T Q_m$, again using properties of the eigenbasis $q_1, \\ldots, q_p$.\n",
    "\n",
    "(4) Use your results from (3) to finally fully simplify your expression from (2).\n",
    "\n",
    "(5) Note that the result you obtain should still be a matrix, i.e. this does not define a proper norm on the space of matrices (since the value should be a scalar). Consequently, the true matrix norm is actually the trace of the\n",
    "above result, namely\n",
    "\n",
    "$$ \\parallel A \\parallel ^2  = {\\rm trace} (A^T A) $$\n",
    "Use your result from (4) and this new definition to find a simple expression\n",
    "for the reconstruction error in terms of the eigenvalues.\n",
    "\n",
    "(6) Interpret your result from (5). In light of your results, does our procedure for PCA (selecting the $m$ substantially larger eigenvalues) make sense? Why or why not?"
   ]
  },
  {
   "cell_type": "markdown",
   "metadata": {
    "collapsed": true
   },
   "source": [
    "## Answer:\n",
    "\n",
    "### (1) Express the reconstruction error as a sum of matrix products.\n",
    "$$\n",
    "\\begin{aligned}\n",
    "\\parallel XQ- XQ_m \\parallel ^2  &= (XQ - XQ_m)^T (XQ - XQ_m) \\\\\n",
    "&= [(XQ)^T - (XQ_m)^T](XQ -XQ_m) \\\\\n",
    "&= (Q^T X^T - Q_m^T X^T)(XQ - XQ_m) \\\\\n",
    "&= (Q^T - Q_m ^T) X^T X (Q - Q_m) \\\\\n",
    "&= (Q - Q_m) ^T X^T X (Q -  Q_m)\n",
    "\\end{aligned}\n",
    "$$"
   ]
  },
  {
   "cell_type": "markdown",
   "metadata": {},
   "source": [
    "### (2) Simplify your result from (1) based on properties of the matrices  Q ."
   ]
  },
  {
   "cell_type": "markdown",
   "metadata": {},
   "source": [
    "Note that $Q^T Q = I_p$\n",
    "$$\n",
    "\\begin{aligned}\n",
    "(Q - Q_m) ^T X^T X (Q -  Q_m) & = (Q - Q_m) ^T Q \\Lambda Q^T(Q -  Q_m) \\\\\n",
    "&= (Q^T Q - Q_m ^T Q) \\Lambda (Q^T Q - Q^T Q_m) \\\\\n",
    "&= (I_p - Q_m ^T Q) \\Lambda (I_p - Q^T Q_m)\n",
    "\\end{aligned}\n",
    "$$"
   ]
  },
  {
   "cell_type": "markdown",
   "metadata": {},
   "source": [
    "### (3) Express the products $Q^T_m Q$ and $Q^T Q_m$, again using properties of the eigenbasis $q_1, \\ldots, q_p$."
   ]
  },
  {
   "cell_type": "markdown",
   "metadata": {},
   "source": [
    "$q_1, \\ldots, q_p$ is an orthonormal base of eigenvectors.\n",
    "\n",
    "Therefore, $Q^T_m Q$ and $Q^T Q_m$ are botn an identity matrix $I_m$ augmented to a $p \\times p$ matrix, where the rest of elements are zero."
   ]
  },
  {
   "cell_type": "markdown",
   "metadata": {},
   "source": [
    "### (4) Use your results from (3) to finally fully simplify your expression from (2)."
   ]
  },
  {
   "cell_type": "markdown",
   "metadata": {},
   "source": [
    "$I_p - Q_m ^T Q = I_p - Q ^T Q_m$, which is an $p \\times p$ matrix where the right bottom part is a $(p-m) \\times (p-m)$ identity matrix, and all the rest of elements are zero. Therefore, we have\n",
    "\n",
    "$$ (I_p - Q_m ^T Q) \\Lambda (I_p - Q^T Q_m) =\n",
    "\\begin{bmatrix}\n",
    "0 & & & & & \\\\\n",
    "& \\ddots & & & & \\\\\n",
    "& & 0 & & & \\\\\n",
    "& & & \\lambda_{m+1} & & \\\\\n",
    "& & & & \\ddots & \\\\\n",
    "& & & & & \\lambda_p\n",
    "\\end{bmatrix} $$"
   ]
  },
  {
   "cell_type": "markdown",
   "metadata": {},
   "source": [
    "### (5) Use your result from (4) and this new definition to find a simple expression for the reconstruction error in terms of the eigenvalues."
   ]
  },
  {
   "cell_type": "markdown",
   "metadata": {},
   "source": [
    "$$\\parallel XQ- XQ_m \\parallel ^2 = \\lambda_{m+1} + \\cdots + \\lambda_{p}$$"
   ]
  },
  {
   "cell_type": "markdown",
   "metadata": {},
   "source": [
    "### (6) Interpret your result from (5). In light of your results, does our procedure for PCA (selecting the  m  substantially larger eigenvalues) make sense? Why or why not?"
   ]
  },
  {
   "cell_type": "markdown",
   "metadata": {},
   "source": [
    "This makes sense because we selece the m substantially larger eigenvalues, and hence the rest of the eigen values from $\\lambda_{m+1}$ to $\\lambda_p$ are small and therefore we minimize the squared reconstruction error."
   ]
  },
  {
   "cell_type": "code",
   "execution_count": null,
   "metadata": {
    "collapsed": true
   },
   "outputs": [],
   "source": []
  }
 ],
 "metadata": {
  "anaconda-cloud": {},
  "kernelspec": {
   "display_name": "Python 3",
   "language": "python",
   "name": "python3"
  },
  "language_info": {
   "codemirror_mode": {
    "name": "ipython",
    "version": 3
   },
   "file_extension": ".py",
   "mimetype": "text/x-python",
   "name": "python",
   "nbconvert_exporter": "python",
   "pygments_lexer": "ipython3",
   "version": "3.6.2"
  }
 },
 "nbformat": 4,
 "nbformat_minor": 1
}
