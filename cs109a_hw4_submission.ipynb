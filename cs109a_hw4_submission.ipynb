{
 "cells": [
  {
   "cell_type": "markdown",
   "metadata": {},
   "source": [
    "# CS 109A/STAT 121A/AC 209A/CSCI E-109A: Homework 4\n",
    "# Regularization, High Dimensionality, PCA\n",
    "\n",
    "\n",
    "**Harvard University**<br/>\n",
    "**Fall 2017**<br/>\n",
    "**Instructors**: Pavlos Protopapas, Kevin Rader, Rahul Dave, Margo Levine\n",
    "\n",
    "---\n",
    "\n",
    "### INSTRUCTIONS\n",
    "\n",
    "- To submit your assignment follow the instructions given in canvas.\n",
    "- Restart the kernel and run the whole notebook again before you submit. \n",
    "- Do not include your name(s) in the notebook even if you are submitting as a group. \n",
    "- If you submit individually and you have worked with someone, please include the name of your [one] partner below. \n",
    "\n",
    "---"
   ]
  },
  {
   "cell_type": "markdown",
   "metadata": {},
   "source": [
    "Your partner's name (if you submit separately):\n",
    "\n",
    "Enrollment Status (109A, 121A, 209A, or E109A):"
   ]
  },
  {
   "cell_type": "markdown",
   "metadata": {},
   "source": [
    "### NOTE: I did everything all by myself, except that the first problem in advanced section (MLE problem), I discussed with my classmate Jiawen Tong, who also enrolled in 209A."
   ]
  },
  {
   "cell_type": "markdown",
   "metadata": {},
   "source": [
    "Import libraries:"
   ]
  },
  {
   "cell_type": "code",
   "execution_count": 1,
   "metadata": {},
   "outputs": [
    {
     "name": "stderr",
     "output_type": "stream",
     "text": [
      "/Applications/anaconda/lib/python3.6/site-packages/statsmodels/compat/pandas.py:56: FutureWarning: The pandas.core.datetools module is deprecated and will be removed in a future version. Please use the pandas.tseries module instead.\n",
      "  from pandas.core import datetools\n"
     ]
    }
   ],
   "source": [
    "import numpy as np\n",
    "import pandas as pd\n",
    "import matplotlib\n",
    "import matplotlib.pyplot as plt\n",
    "from sklearn.metrics import r2_score\n",
    "import statsmodels.api as sm\n",
    "from statsmodels.api import OLS\n",
    "from sklearn.preprocessing import PolynomialFeatures\n",
    "from sklearn.linear_model import Ridge\n",
    "from sklearn.linear_model import Lasso\n",
    "from sklearn.linear_model import RidgeCV\n",
    "from sklearn.linear_model import LassoCV\n",
    "from sklearn.linear_model import LinearRegression\n",
    "from sklearn.decomposition import PCA\n",
    "from sklearn.preprocessing import MinMaxScaler\n",
    "%matplotlib inline"
   ]
  },
  {
   "cell_type": "markdown",
   "metadata": {},
   "source": [
    "# Continuing Bike Sharing Usage Data\n",
    "\n",
    "In this homework, we will focus on multiple linear regression, regularization, dealing with high dimensionality, and PCA. We will continue to build regression models for the Capital Bikeshare program in Washington D.C.  See Homework 3 for more information about the data.\n",
    "\n",
    "*Note: please make sure you use all the processed data from HW 3 Part (a)...you make want to save the data set on your computer and reread the csv/json file here.\n"
   ]
  },
  {
   "cell_type": "markdown",
   "metadata": {},
   "source": [
    "## Part (f): Regularization/Penalization Methods\n",
    "\n",
    "As an alternative to selecting a subset of predictors and fitting a regression model on the subset, one can fit a linear regression model on all predictors, but shrink or regularize the coefficient estimates to make sure that the model does not \"overfit\" the training set. \n",
    "\n",
    "Use the following regularization techniques to fit linear models to the training set:\n",
    "- Ridge regression\n",
    "- Lasso regression\n",
    "    \n",
    "You may choose the shrikage parameter $\\lambda$ from the set $\\{10^{-5}, 10^{-4},...,10^{4},10^{5}\\}$ using cross-validation. In each case, \n",
    "\n",
    "- How do the estimated coefficients compare to or differ from the coefficients estimated by a plain linear regression (without shrikage penalty) in Part (b) fropm HW 3? Is there a difference between coefficients estimated by the two shrinkage methods? If so, give an explantion for the difference.\n",
    "- List the predictors that are assigned a coefficient value close to 0 (say < 1e-10) by the two methods. How closely do these predictors match the redundant predictors (if any) identified in Part (c) from HW 3?\n",
    "- Is there a difference in the way Ridge and Lasso regression assign coefficients to the predictors `temp` and `atemp`? If so, explain the reason for the difference.\n",
    "\n",
    "We next analyze the performance of the two shrinkage methods for different training sample sizes:\n",
    "- Generate random samples of sizes 100, 150, ..., 400 from the training set. You may use the following code to draw a random sample of a specified size from the training set:"
   ]
  },
  {
   "cell_type": "code",
   "execution_count": 2,
   "metadata": {
    "collapsed": true
   },
   "outputs": [],
   "source": [
    "#--------  sample\n",
    "# A function to select a random sample of size k from the training set\n",
    "# Input: \n",
    "#      x (n x d array of predictors in training data)\n",
    "#      y (n x 1 array of response variable vals in training data)\n",
    "#      k (size of sample) \n",
    "# Return: \n",
    "#      chosen sample of predictors and responses\n",
    "\n",
    "def sample(x, y, k):\n",
    "    n = x.shape[0] # No. of training points\n",
    "    \n",
    "    # Choose random indices of size 'k'\n",
    "    subset_ind = np.random.choice(np.arange(n), k)\n",
    "    \n",
    "    # Get predictors and reponses with the indices\n",
    "    x_subset = x[subset_ind, :]\n",
    "    y_subset = y[subset_ind]\n",
    "    \n",
    "    return (x_subset, y_subset)"
   ]
  },
  {
   "cell_type": "code",
   "execution_count": 3,
   "metadata": {
    "collapsed": true
   },
   "outputs": [],
   "source": [
    "df_bike_train=pd.read_csv(\"data/Bikeshare_train.csv\", index_col = 0)\n",
    "df_bike_test=pd.read_csv(\"data/Bikeshare_test.csv\", index_col = 0)\n",
    "\n",
    "df_bike_train['season'] = df_bike_train['season'].astype(\"category\")\n",
    "df_bike_train['month'] = df_bike_train['month'].astype(\"category\")\n",
    "df_bike_train['holiday'] = df_bike_train['holiday'].astype(\"category\")\n",
    "df_bike_train['day_of_week'] = df_bike_train['day_of_week'].astype(\"category\")\n",
    "df_bike_train['workingday'] = df_bike_train['workingday'].astype(\"category\")\n",
    "df_bike_train['weather'] = df_bike_train['weather'].astype(\"category\")\n",
    "\n",
    "df_train = pd.get_dummies(df_bike_train,columns=[\"season\",\"month\",\"holiday\",\"day_of_week\",\"workingday\",\"weather\"],\\\n",
    "                             drop_first = True)\n",
    "# Rename the columns\n",
    "df_train = df_train.rename(columns={\"season_2.0\": \"Summer\", \"season_3.0\": \"Fall\", \"season_4.0\": \"Winter\",\\\n",
    "                                    \"month_2.0\": \"Feb\", \"month_3.0\": \"Mar\", \"month_4.0\": \"Apr\", \"month_5.0\": \"Mar\", \\\n",
    "                                    \"month_6.0\": \"Jun\", \"month_7.0\": \"Jul\", \"month_8.0\": \"Aug\", \"month_9.0\": \"Sep\", \\\n",
    "                                    \"month_10.0\": \"Oct\", \"month_11.0\": \"Nov\", \"month_12.0\": \"Dec\", \\\n",
    "                                    \"holiday_1.0\": \"Holiday\", \"day_of_week_1.0\": \"Mon\", \"day_of_week_2.0\": \"Tue\", \\\n",
    "                                    \"day_of_week_3.0\": \"Wed\", \"day_of_week_4.0\": \"Thu\", \"day_of_week_5.0\": \"Fri\", \\\n",
    "                                    \"day_of_week_6.0\": \"Sat\", \"workingday_1.0\": \"Workday\", \\\n",
    "                                    \"weather_2.0\": \"Mist\", \"weather_3.0\": \"Light_rain/snow\"})\n",
    "\n",
    "df_bike_test['season'] = df_bike_test['season'].astype(\"category\")\n",
    "df_bike_test['month'] = df_bike_test['month'].astype(\"category\")\n",
    "df_bike_test['holiday'] = df_bike_test['holiday'].astype(\"category\")\n",
    "df_bike_test['day_of_week'] = df_bike_test['day_of_week'].astype(\"category\")\n",
    "df_bike_test['workingday'] = df_bike_test['workingday'].astype(\"category\")\n",
    "df_bike_test['weather'] = df_bike_test['weather'].astype(\"category\")\n",
    "df_test = pd.get_dummies(df_bike_test,columns=[\"season\",\"month\",\"holiday\",\"day_of_week\",\"workingday\",\"weather\"],\\\n",
    "                             drop_first = True)\n",
    "df_test = df_test.rename(columns={\"season_2.0\": \"Summer\", \"season_3.0\": \"Fall\", \"season_4.0\": \"Winter\",\\\n",
    "                                    \"month_2.0\": \"Feb\", \"month_3.0\": \"Mar\", \"month_4.0\": \"Apr\", \"month_5.0\": \"Mar\", \\\n",
    "                                    \"month_6.0\": \"Jun\", \"month_7.0\": \"Jul\", \"month_8.0\": \"Aug\", \"month_9.0\": \"Sep\", \\\n",
    "                                    \"month_10.0\": \"Oct\", \"month_11.0\": \"Nov\", \"month_12.0\": \"Dec\", \\\n",
    "                                    \"holiday_1.0\": \"Holiday\", \"day_of_week_1.0\": \"Mon\", \"day_of_week_2.0\": \"Tue\", \\\n",
    "                                    \"day_of_week_3.0\": \"Wed\", \"day_of_week_4.0\": \"Thu\", \"day_of_week_5.0\": \"Fri\", \\\n",
    "                                    \"day_of_week_6.0\": \"Sat\", \"workingday_1.0\": \"Workday\", \\\n",
    "                                    \"weather_2.0\": \"Mist\", \"weather_3.0\": \"Light_rain/snow\"})\n",
    "\n",
    "# Standardize the continuous predictors to have zero mean and std of 1\n",
    "temp_mean = df_train[\"temp\"].mean()\n",
    "temp_std = df_train[\"temp\"].std()\n",
    "atemp_mean = df_train[\"atemp\"].mean()\n",
    "atemp_std = df_train[\"atemp\"].std()\n",
    "humidity_mean = df_train[\"humidity\"].mean()\n",
    "humidity_std = df_train[\"humidity\"].std()\n",
    "windspeed_mean = df_train[\"windspeed\"].mean()\n",
    "windspeed_std = df_train[\"windspeed\"].std()\n",
    "\n",
    "df_train[\"temp\"] = (df_train[\"temp\"]-temp_mean) / temp_std\n",
    "df_train[\"atemp\"] = (df_train[\"atemp\"]-atemp_mean) / atemp_std\n",
    "df_train[\"humidity\"] = (df_train[\"humidity\"]-humidity_mean) / humidity_std\n",
    "df_train[\"windspeed\"] = (df_train[\"windspeed\"]-windspeed_mean) / windspeed_std\n",
    "\n",
    "df_test[\"temp\"] = (df_test[\"temp\"]-temp_mean) / temp_std\n",
    "df_test[\"atemp\"] = (df_test[\"atemp\"]-atemp_mean) / atemp_std\n",
    "df_test[\"humidity\"] = (df_test[\"humidity\"]-humidity_mean) / humidity_std\n",
    "df_test[\"windspeed\"] = (df_test[\"windspeed\"]-windspeed_mean) / windspeed_std"
   ]
  },
  {
   "cell_type": "code",
   "execution_count": 4,
   "metadata": {},
   "outputs": [
    {
     "name": "stdout",
     "output_type": "stream",
     "text": [
      "best regularization param of ridge regression is: 10.0\n",
      "the test R^2 for ridge regression with alpha = 10.0 is: 0.25916368319187544\n"
     ]
    },
    {
     "data": {
      "text/plain": [
       "{'Apr': 87.095757683970533,\n",
       " 'Aug': -297.32663540432981,\n",
       " 'Dec': 507.0602274250374,\n",
       " 'Fall': 180.3263570456285,\n",
       " 'Feb': -109.66405274885062,\n",
       " 'Fri': 124.01972674403788,\n",
       " 'Holiday': 160.86537078726153,\n",
       " 'Jul': 87.095757683970518,\n",
       " 'Jun': 57.735360677106172,\n",
       " 'Light_rain/snow': 217.35903972738168,\n",
       " 'Mar': 386.87905758684428,\n",
       " 'Mist': 304.04445800825914,\n",
       " 'Mon': -98.036521704947432,\n",
       " 'Nov': 681.64251738730604,\n",
       " 'Oct': -84.498114262292304,\n",
       " 'Sat': 64.973634889616889,\n",
       " 'Sep': -523.90153294447691,\n",
       " 'Summer': 379.79554800137095,\n",
       " 'Thu': -127.57898546592375,\n",
       " 'Tue': -158.72155217982134,\n",
       " 'Wed': -129.21331437178259,\n",
       " 'Winter': 768.6368787950895,\n",
       " 'Workday': 126.4364257516126,\n",
       " 'atemp': 552.08958819002919,\n",
       " 'humidity': -568.5643990851521,\n",
       " 'temp': 681.47619052606842,\n",
       " 'windspeed': -266.37098474239252}"
      ]
     },
     "execution_count": 4,
     "metadata": {},
     "output_type": "execute_result"
    }
   ],
   "source": [
    "reg_params = np.hstack((10.**np.arange(-5, 0), 10**np.arange(0, 6)))\n",
    "\n",
    "all_predictors = [col for col in df_train.columns if col not in ['count']]\n",
    "X_non_test = df_train[all_predictors].values\n",
    "X_test = df_test[all_predictors].values\n",
    "y_non_test = df_train['count'].values\n",
    "y_test = df_test['count'].values\n",
    "\n",
    "# ridge regression\n",
    "ridge_regression = RidgeCV(alphas=reg_params, fit_intercept=True, cv=10)\n",
    "ridge_regression.fit(X_non_test, y_non_test)\n",
    "best_alpha_ridge = ridge_regression.alpha_\n",
    "\n",
    "ridge_regression = Ridge(best_alpha_ridge, fit_intercept=True)\n",
    "ridge_regression.fit(X_non_test, y_non_test)\n",
    "test_R2_ridge = (ridge_regression.score(X_test, y_test))\n",
    "print('best regularization param of ridge regression is:', best_alpha_ridge)\n",
    "print('the test R^2 for ridge regression with alpha = {} is: {}'.format(best_alpha_ridge, test_R2_ridge))\n",
    "# ridge_regression.coef_\n",
    "\n",
    "ridge_coef_dict = {}\n",
    "for coef, feat in zip(ridge_regression.coef_,all_predictors):\n",
    "    ridge_coef_dict[feat] = coef\n",
    "ridge_coef_dict"
   ]
  },
  {
   "cell_type": "code",
   "execution_count": 5,
   "metadata": {},
   "outputs": [
    {
     "name": "stdout",
     "output_type": "stream",
     "text": [
      "best regularization param of lasso regression is: 10.0\n",
      "the test R^2 for lasso regression with alpha = 10.0 is: 0.2675652604208182\n"
     ]
    },
    {
     "name": "stderr",
     "output_type": "stream",
     "text": [
      "/Applications/anaconda/lib/python3.6/site-packages/sklearn/linear_model/coordinate_descent.py:484: ConvergenceWarning: Objective did not converge. You might want to increase the number of iterations. Fitting data with very small alpha may cause precision problems.\n",
      "  ConvergenceWarning)\n"
     ]
    },
    {
     "data": {
      "text/plain": [
       "{'Apr': 0.0,\n",
       " 'Aug': -354.59967520106005,\n",
       " 'Dec': 483.88135905073193,\n",
       " 'Fall': 113.79215890494025,\n",
       " 'Feb': -0.0,\n",
       " 'Fri': 17.595754799677806,\n",
       " 'Holiday': 68.021384114413138,\n",
       " 'Jul': 0.0,\n",
       " 'Jun': 0.0,\n",
       " 'Light_rain/snow': 277.51683129397497,\n",
       " 'Mar': 312.53474322631729,\n",
       " 'Mist': 309.94970236692467,\n",
       " 'Mon': -0.0,\n",
       " 'Nov': 834.58482619962683,\n",
       " 'Oct': -0.0,\n",
       " 'Sat': 0.0,\n",
       " 'Sep': -496.15244944310183,\n",
       " 'Summer': 543.88043347632845,\n",
       " 'Thu': -129.13774134766413,\n",
       " 'Tue': -0.0,\n",
       " 'Wed': -178.96323752722822,\n",
       " 'Winter': 898.94180240673666,\n",
       " 'Workday': 11.33485061501047,\n",
       " 'atemp': 399.36842831642298,\n",
       " 'humidity': -555.84068590791424,\n",
       " 'temp': 854.72917486646202,\n",
       " 'windspeed': -254.36861533866838}"
      ]
     },
     "execution_count": 5,
     "metadata": {},
     "output_type": "execute_result"
    }
   ],
   "source": [
    "# lasso regression\n",
    "lasso_regression = LassoCV(alphas=reg_params, fit_intercept=True, cv=10)\n",
    "lasso_regression.fit(X_non_test, y_non_test)\n",
    "best_alpha_lasso = lasso_regression.alpha_\n",
    "\n",
    "lasso_regression = Lasso(best_alpha_lasso, fit_intercept=True)\n",
    "lasso_regression.fit(X_non_test, y_non_test)\n",
    "test_R2_lasso = (lasso_regression.score(X_test, y_test))\n",
    "print('best regularization param of lasso regression is:', best_alpha_lasso)\n",
    "print('the test R^2 for lasso regression with alpha = {} is: {}'.format(best_alpha_lasso, test_R2_lasso))\n",
    "# lasso_regression.coef_\n",
    "\n",
    "lasso_coef_dict = {}\n",
    "for coef, feat in zip(lasso_regression.coef_,all_predictors):\n",
    "    lasso_coef_dict[feat] = coef\n",
    "lasso_coef_dict"
   ]
  },
  {
   "cell_type": "code",
   "execution_count": 6,
   "metadata": {},
   "outputs": [
    {
     "data": {
      "text/plain": [
       "{'Apr': 0.0,\n",
       " 'Feb': -0.0,\n",
       " 'Jul': 0.0,\n",
       " 'Jun': 0.0,\n",
       " 'Mon': -0.0,\n",
       " 'Oct': -0.0,\n",
       " 'Sat': 0.0,\n",
       " 'Tue': -0.0}"
      ]
     },
     "execution_count": 6,
     "metadata": {},
     "output_type": "execute_result"
    }
   ],
   "source": [
    "lasso_zero_coef = {}\n",
    "for k, v in lasso_coef_dict.items():\n",
    "    if abs(v) < 10**(-10):\n",
    "        lasso_zero_coef[k] = v\n",
    "lasso_zero_coef"
   ]
  },
  {
   "cell_type": "markdown",
   "metadata": {},
   "source": [
    "## Answer:\n",
    "\n",
    "### How do the estimated coefficients compare to or differ from the coefficients estimated by a plain linear regression (without shrikage penalty) in Part (b) fropm HW 3? Is there a difference between coefficients estimated by the two shrinkage methods? If so, give an explantion for the difference.\n",
    "- The estimated coefficients shrinked compared to the ones using plain linear regression.\n",
    "\n",
    "- Using Lasso regression, some coefficients become zero, while Ridge regression will never shrink coefficients to zero. This is because Ridge uses L2 norm while Lasso uses L1 norm. As the two pictures showed in class, using Ridge to minimize the contours, it will get tangent to the circle (due to L2 norm). But using Lasso to minimize the contours, it is very likely to land on a corner (a square diamond due to L1 norm).\n",
    "\n",
    "### List the predictors that are assigned a coefficient value close to 0 (say < 1e-10) by the two methods. How closely do these predictors match the redundant predictors (if any) identified in Part (c) from HW 3?\n",
    "- Ridge regression does not assign any coefficient value close to 0, but Lasso assigns a bunch of zeros for the coefficients, including a few months and a few days in a week. These are redundant predictors identified in part (c) from the heatmap.\n",
    "\n",
    "### Is there a difference in the way Ridge and Lasso regression assign coefficients to the predictors `temp` and `atemp`? If so, explain the reason for the difference.\n",
    "- Ridge assigned \"temp\" with 681 and \"atemp\" with 552, whereas Lasso assigned \"temp\" with 854 and \"atemp\" with \"399\".\n",
    "- These two predictors \"temp\" and \"atemp\" are highly correlated and the difference that Ridge and Lasso assign coefficients to them is because they use two different penalty functions: Ridge uses L2 norm and Lasso uses L1 norm. So Ridge can only help with shrinkage but Lasso does both shrinkage and predictor selection. And that's why the difference between coefficient values are bigger in Lasso than in Ridge. Lasso is telling us to choose \"temp\" over \"atemp\"."
   ]
  },
  {
   "cell_type": "code",
   "execution_count": 7,
   "metadata": {},
   "outputs": [
    {
     "name": "stdout",
     "output_type": "stream",
     "text": [
      "sample size = 100\n",
      "Linear Regression Model: train R^2 score:0.6828307202750855 and test R^2 score:0.13495819870645398\n",
      "Ridge Regression Model: train R^2 score:0.6156194430990063 and test R^2 score:0.22496068829122984\n",
      "Lasso Regression Model: train R^2 score:0.6650729726200361 and test R^2 score:0.18739261006968744\n",
      "sample size = 150\n",
      "Linear Regression Model: train R^2 score:0.6275579500319868 and test R^2 score:0.18719652453232416\n",
      "Ridge Regression Model: train R^2 score:0.5874924863750719 and test R^2 score:0.250316788904012\n",
      "Lasso Regression Model: train R^2 score:0.6005993669417939 and test R^2 score:0.23652605270338856\n",
      "sample size = 200\n",
      "Linear Regression Model: train R^2 score:0.6839949308025381 and test R^2 score:0.10413072743788554\n",
      "Ridge Regression Model: train R^2 score:0.6248718740470418 and test R^2 score:0.20753122109914146\n",
      "Lasso Regression Model: train R^2 score:0.663633545222564 and test R^2 score:0.1806910565134202\n",
      "sample size = 250\n",
      "Linear Regression Model: train R^2 score:0.6033623588364128 and test R^2 score:0.1466027400310026\n",
      "Ridge Regression Model: train R^2 score:0.5690979096170271 and test R^2 score:0.22133874476105897\n",
      "Lasso Regression Model: train R^2 score:0.5834805674022346 and test R^2 score:0.19769403200605518\n",
      "sample size = 300\n",
      "Linear Regression Model: train R^2 score:0.6654409536338577 and test R^2 score:0.1853101534085405\n",
      "Ridge Regression Model: train R^2 score:0.6394878053474451 and test R^2 score:0.2249424768252228\n",
      "Lasso Regression Model: train R^2 score:0.6498906387509217 and test R^2 score:0.2166932101586498\n",
      "sample size = 350\n",
      "Linear Regression Model: train R^2 score:0.5829005002147508 and test R^2 score:0.2035654824804245\n",
      "Ridge Regression Model: train R^2 score:0.5587232679051044 and test R^2 score:0.25164841646665337\n",
      "Lasso Regression Model: train R^2 score:0.56245691999279 and test R^2 score:0.2444663139207929\n",
      "sample size = 400\n",
      "Linear Regression Model: train R^2 score:0.5792675276460699 and test R^2 score:0.23072378422200346\n",
      "Ridge Regression Model: train R^2 score:0.5621526257533698 and test R^2 score:0.2495896986423072\n",
      "Lasso Regression Model: train R^2 score:0.5631840407420341 and test R^2 score:0.2532222107317792\n"
     ]
    }
   ],
   "source": [
    "all_predictors = [col for col in df_train.columns if col not in ['count']]\n",
    "X_train = df_train[all_predictors].values\n",
    "X_test = df_test[all_predictors].values\n",
    "y_train = df_train['count'].values\n",
    "y_test = df_test['count'].values\n",
    "\n",
    "linear_regression = LinearRegression(fit_intercept=True)\n",
    "ridge_regression = Ridge(best_alpha_ridge, fit_intercept=True)\n",
    "lasso_regression = Lasso(best_alpha_lasso, fit_intercept=True)\n",
    "\n",
    "sample_sizes = [100,150,200,250,300,350,400]\n",
    "\n",
    "for i in sample_sizes:\n",
    "    X_train_sample, y_train_sample = sample(X_train, y_train, i)\n",
    "    linear_regression.fit(X_train_sample, y_train_sample)\n",
    "    print(\"sample size =\", i)\n",
    "    print(\"Linear Regression Model: train R^2 score:{} and test R^2 score:{}\".\\\n",
    "          format(linear_regression.score(X_train_sample, y_train_sample), linear_regression.score(X_test, y_test)))\n",
    "    ridge_regression.fit(X_train_sample, y_train_sample)\n",
    "    print(\"Ridge Regression Model: train R^2 score:{} and test R^2 score:{}\".\\\n",
    "          format(ridge_regression.score(X_train_sample, y_train_sample), ridge_regression.score(X_test, y_test)))\n",
    "    lasso_regression.fit(X_train_sample, y_train_sample)\n",
    "    print(\"Lasso Regression Model: train R^2 score:{} and test R^2 score:{}\".\\\n",
    "          format(lasso_regression.score(X_train_sample, y_train_sample), lasso_regression.score(X_test, y_test)))"
   ]
  },
  {
   "cell_type": "markdown",
   "metadata": {},
   "source": [
    "- Fit linear, Ridge and Lasso regression models to each of the generated sample. In each case, compute the $R^2$ score for the model on the training sample on which it was fitted, and on the test set.\n",
    "- Repeat the above experiment for 10 random trials/splits, and compute the average train and test $R^2$ across the trials for each training sample size. Also, compute the standard deviation (SD) in each case.\n",
    "- Make a plot of the mean training $R^2$ scores for the linear, Ridge and Lasso regression methods as a function of the training sample size. Also, show a confidence interval for the mean scores extending from **mean - SD** to **mean + SD**. Make a similar plot for the test $R^2$ scores.\n",
    "\n",
    "How do the training and test $R^2$ scores compare for the three methods? Give an explanation for your observations. How do the confidence intervals for the estimated $R^2$ change with training sample size? Based on the plots, which of the three methods would you recommend when one needs to fit a regression model using a small training sample?\n",
    "\n",
    "*Hint:* You may use `sklearn`'s `RidgeCV` and `LassoCV` classes to implement Ridge and Lasso regression. These classes automatically perform cross-validation to tune the parameter $\\lambda$ from a given range of values. You may use the `plt.errorbar` function to plot confidence bars for the average $R^2$ scores."
   ]
  },
  {
   "cell_type": "code",
   "execution_count": 8,
   "metadata": {},
   "outputs": [
    {
     "name": "stdout",
     "output_type": "stream",
     "text": [
      "Mean and std of train R^2 using Linear Regression Model:\n",
      "sample size = 100 : mean = 0.704007982268 , std = 0.0441575099717\n",
      "sample size = 150 : mean = 0.675122326881 , std = 0.0456612130526\n",
      "sample size = 200 : mean = 0.661529009931 , std = 0.0432961651945\n",
      "sample size = 250 : mean = 0.617241694474 , std = 0.0344914642984\n",
      "sample size = 300 : mean = 0.637662893224 , std = 0.0248466308915\n",
      "sample size = 350 : mean = 0.60847893431 , std = 0.0323871120137\n",
      "sample size = 400 : mean = 0.608540843389 , std = 0.0338304737311\n",
      "Mean and std of test R^2 using Linear Regression Model:\n",
      "sample size = 100 : mean = 0.00976889722639 , std = 0.102103228399\n",
      "sample size = 150 : mean = 0.123235150593 , std = 0.0615185437167\n",
      "sample size = 200 : mean = 0.164485164398 , std = 0.047467498761\n",
      "sample size = 250 : mean = 0.176678635199 , std = 0.0443161260455\n",
      "sample size = 300 : mean = 0.195170125808 , std = 0.0329809784014\n",
      "sample size = 350 : mean = 0.205285244457 , std = 0.0329114027856\n",
      "sample size = 400 : mean = 0.216368544353 , std = 0.0229959359553\n"
     ]
    }
   ],
   "source": [
    "# your code here\n",
    "train_linear_mean = []\n",
    "train_linear_sd = []\n",
    "test_linear_mean = []\n",
    "test_linear_sd = []\n",
    "\n",
    "train_ridge_mean = []\n",
    "train_ridge_sd = []\n",
    "test_ridge_mean = []\n",
    "test_ridge_sd = []\n",
    "\n",
    "train_lasso_mean = []\n",
    "train_lasso_sd = []\n",
    "test_lasso_mean = []\n",
    "test_lasso_sd = []\n",
    "\n",
    "for i in sample_sizes:\n",
    "    train_R2_linear = []\n",
    "    test_R2_linear = []\n",
    "    train_R2_ridge = []\n",
    "    test_R2_ridge = []\n",
    "    train_R2_lasso = []\n",
    "    test_R2_lasso = []\n",
    "    for j in range(0,10):\n",
    "        X_train_sample, y_train_sample = sample(X_train, y_train, i)\n",
    "        \n",
    "        linear_regression.fit(X_train_sample, y_train_sample)\n",
    "        train_R2_linear.append(linear_regression.score(X_train_sample, y_train_sample))\n",
    "        test_R2_linear.append(linear_regression.score(X_test, y_test))\n",
    "        \n",
    "        ridge_regression.fit(X_train_sample, y_train_sample)\n",
    "        train_R2_ridge.append(ridge_regression.score(X_train_sample, y_train_sample))\n",
    "        test_R2_ridge.append(ridge_regression.score(X_test, y_test))\n",
    "        \n",
    "        lasso_regression.fit(X_train_sample, y_train_sample)\n",
    "        train_R2_lasso.append(lasso_regression.score(X_train_sample, y_train_sample))\n",
    "        test_R2_lasso.append(lasso_regression.score(X_test, y_test))\n",
    "    \n",
    "    train_linear_mean.append(np.mean(train_R2_linear))\n",
    "    train_linear_sd.append(np.std(train_R2_linear))\n",
    "    test_linear_mean.append(np.mean(test_R2_linear))\n",
    "    test_linear_sd.append(np.std(test_R2_linear))\n",
    "    \n",
    "    train_ridge_mean.append(np.mean(train_R2_ridge))\n",
    "    train_ridge_sd.append(np.std(train_R2_ridge))\n",
    "    test_ridge_mean.append(np.mean(test_R2_ridge))\n",
    "    test_ridge_sd.append(np.std(test_R2_ridge))\n",
    "    \n",
    "    train_lasso_mean.append(np.mean(train_R2_lasso))\n",
    "    train_lasso_sd.append(np.std(train_R2_lasso))\n",
    "    test_lasso_mean.append(np.mean(test_R2_lasso))\n",
    "    test_lasso_sd.append(np.std(test_R2_lasso))\n",
    "\n",
    "print(\"Mean and std of train R^2 using Linear Regression Model:\")\n",
    "for i, e in enumerate(train_linear_mean):\n",
    "    print(\"sample size =\", sample_sizes[i], \": mean =\", train_linear_mean[i], \", std =\", train_linear_sd[i])\n",
    "print(\"Mean and std of test R^2 using Linear Regression Model:\")\n",
    "for i, e in enumerate(test_linear_mean):\n",
    "    print(\"sample size =\", sample_sizes[i], \": mean =\", test_linear_mean[i], \", std =\", test_linear_sd[i])"
   ]
  },
  {
   "cell_type": "code",
   "execution_count": 9,
   "metadata": {},
   "outputs": [
    {
     "name": "stdout",
     "output_type": "stream",
     "text": [
      "Mean and std of train R^2 using Ridge Regression Model:\n",
      "sample size = 100 : mean = 0.609589367023 , std = 0.0513424987294\n",
      "sample size = 150 : mean = 0.609148806665 , std = 0.0452668478353\n",
      "sample size = 200 : mean = 0.619044737761 , std = 0.0494093643628\n",
      "sample size = 250 : mean = 0.58934442641 , std = 0.0316820162034\n",
      "sample size = 300 : mean = 0.609574851816 , std = 0.0258343627262\n",
      "sample size = 350 : mean = 0.583496270643 , std = 0.0326383147154\n",
      "sample size = 400 : mean = 0.588607494848 , std = 0.0341558810019\n",
      "Mean and std of test R^2 using Ridge Regression Model:\n",
      "sample size = 100 : mean = 0.22570680372 , std = 0.0245732038433\n",
      "sample size = 150 : mean = 0.237479044625 , std = 0.0222647372131\n",
      "sample size = 200 : mean = 0.233631592157 , std = 0.0296169012096\n",
      "sample size = 250 : mean = 0.2288133288 , std = 0.0218242495215\n",
      "sample size = 300 : mean = 0.235073005464 , std = 0.0195667745726\n",
      "sample size = 350 : mean = 0.248914594832 , std = 0.0138849026214\n",
      "sample size = 400 : mean = 0.246237358187 , std = 0.0132966565474\n"
     ]
    }
   ],
   "source": [
    "print(\"Mean and std of train R^2 using Ridge Regression Model:\")\n",
    "for i, e in enumerate(train_ridge_mean):\n",
    "    print(\"sample size =\", sample_sizes[i], \": mean =\", train_ridge_mean[i], \", std =\", train_ridge_sd[i])\n",
    "print(\"Mean and std of test R^2 using Ridge Regression Model:\")\n",
    "for i, e in enumerate(test_ridge_mean):\n",
    "    print(\"sample size =\", sample_sizes[i], \": mean =\", test_ridge_mean[i], \", std =\", test_ridge_sd[i])"
   ]
  },
  {
   "cell_type": "code",
   "execution_count": 10,
   "metadata": {},
   "outputs": [
    {
     "name": "stdout",
     "output_type": "stream",
     "text": [
      "Mean and std of train R^2 using Lasso Regression Model:\n",
      "sample size = 100 : mean = 0.679507451403 , std = 0.0495712490229\n",
      "sample size = 150 : mean = 0.655846236478 , std = 0.0489472747105\n",
      "sample size = 200 : mean = 0.643159438781 , std = 0.0452653446902\n",
      "sample size = 250 : mean = 0.60253311129 , std = 0.0329436754757\n",
      "sample size = 300 : mean = 0.622530979058 , std = 0.0270500398432\n",
      "sample size = 350 : mean = 0.592035832868 , std = 0.0319306273309\n",
      "sample size = 400 : mean = 0.592472365723 , std = 0.0345898587077\n",
      "Mean and std of test R^2 using Lasso Regression Model:\n",
      "sample size = 100 : mean = 0.143698579702 , std = 0.0607229984285\n",
      "sample size = 150 : mean = 0.194196181255 , std = 0.0413636646749\n",
      "sample size = 200 : mean = 0.220620354589 , std = 0.0371241937857\n",
      "sample size = 250 : mean = 0.217854698063 , std = 0.0282562211058\n",
      "sample size = 300 : mean = 0.228362914395 , std = 0.028870858783\n",
      "sample size = 350 : mean = 0.249641311855 , std = 0.0169955087941\n",
      "sample size = 400 : mean = 0.249345646094 , std = 0.0136696899614\n"
     ]
    }
   ],
   "source": [
    "print(\"Mean and std of train R^2 using Lasso Regression Model:\")\n",
    "for i, e in enumerate(train_lasso_mean):\n",
    "    print(\"sample size =\", sample_sizes[i], \": mean =\", train_lasso_mean[i], \", std =\", train_lasso_sd[i])\n",
    "print(\"Mean and std of test R^2 using Lasso Regression Model:\")\n",
    "for i, e in enumerate(test_lasso_mean):\n",
    "    print(\"sample size =\", sample_sizes[i], \": mean =\", test_lasso_mean[i], \", std =\", test_lasso_sd[i])"
   ]
  },
  {
   "cell_type": "code",
   "execution_count": 11,
   "metadata": {},
   "outputs": [
    {
     "data": {
      "image/png": "[encoded data removed]",
      "text/plain": [
       "<matplotlib.figure.Figure at 0x106547390>"
      ]
     },
     "metadata": {},
     "output_type": "display_data"
    }
   ],
   "source": [
    "fig, axs = plt.subplots(nrows=2, ncols=3, figsize=(20, 20))\n",
    "ax = axs[0,0]\n",
    "ax.set_xticks(np.arange(len(sample_sizes)))\n",
    "ax.set_xticklabels(sample_sizes)\n",
    "ax.errorbar(np.arange(len(sample_sizes)), train_linear_mean, yerr=train_linear_sd, ecolor=\"black\", fmt='o')\n",
    "ax.set_title(\"R^2 of train dataset using Linear Regression Model\")\n",
    "ax.set_xlabel(\"Sample Sizes\")\n",
    "ax.set_ylabel(\"R^2 Scores\")\n",
    "ax.set_ylim(0.5, 0.8)\n",
    "\n",
    "ax = axs[1,0]\n",
    "ax.set_xticks(np.arange(len(sample_sizes)))\n",
    "ax.set_xticklabels(sample_sizes)\n",
    "ax.errorbar(np.arange(len(sample_sizes)), test_linear_mean, yerr=test_linear_sd, ecolor=\"black\", fmt='o')\n",
    "ax.set_title(\"R^2 of test dataset using Linear Regression Model\")\n",
    "ax.set_xlabel(\"Sample Sizes\")\n",
    "ax.set_ylabel(\"R^2 Scores\")\n",
    "ax.set_ylim(-0.08, 0.28)\n",
    "\n",
    "ax = axs[0,1]\n",
    "ax.set_xticks(np.arange(len(sample_sizes)))\n",
    "ax.set_xticklabels(sample_sizes)\n",
    "ax.errorbar(np.arange(len(sample_sizes)), train_ridge_mean, yerr=train_ridge_sd, ecolor=\"black\", fmt='o')\n",
    "ax.set_title(\"R^2 of train dataset using Ridge Regression Model\")\n",
    "ax.set_xlabel(\"Sample Sizes\")\n",
    "ax.set_ylabel(\"R^2 Scores\")\n",
    "ax.set_ylim(0.5, 0.8)\n",
    "\n",
    "ax = axs[1,1]\n",
    "ax.set_xticks(np.arange(len(sample_sizes)))\n",
    "ax.set_xticklabels(sample_sizes)\n",
    "ax.errorbar(np.arange(len(sample_sizes)), test_ridge_mean, yerr=test_ridge_sd, ecolor=\"black\", fmt='o')\n",
    "ax.set_title(\"R^2 of test dataset using Ridge Regression Model\")\n",
    "ax.set_xlabel(\"Sample Sizes\")\n",
    "ax.set_ylabel(\"R^2 Scores\")\n",
    "ax.set_ylim(-0.08, 0.28)\n",
    "\n",
    "ax = axs[0,2]\n",
    "ax.set_xticks(np.arange(len(sample_sizes)))\n",
    "ax.set_xticklabels(sample_sizes)\n",
    "ax.errorbar(np.arange(len(sample_sizes)), train_lasso_mean, yerr=train_lasso_sd, ecolor=\"black\", fmt='o')\n",
    "ax.set_title(\"R^2 of train dataset using Lasso Regression Model\")\n",
    "ax.set_xlabel(\"Sample Sizes\")\n",
    "ax.set_ylabel(\"R^2 Scores\")\n",
    "ax.set_ylim(0.5, 0.8)\n",
    "\n",
    "ax = axs[1,2]\n",
    "ax.set_xticks(np.arange(len(sample_sizes)))\n",
    "ax.set_xticklabels(sample_sizes)\n",
    "ax.errorbar(np.arange(len(sample_sizes)), test_lasso_mean, yerr=test_lasso_sd, ecolor=\"black\", fmt='o')\n",
    "ax.set_title(\"R^2 of test dataset using Lasso Regression Model\")\n",
    "ax.set_xlabel(\"Sample Sizes\")\n",
    "ax.set_ylabel(\"R^2 Scores\")\n",
    "ax.set_ylim(-0.08, 0.28)\n",
    "\n",
    "plt.show()"
   ]
  },
  {
   "cell_type": "markdown",
   "metadata": {},
   "source": [
    "your answers here"
   ]
  },
  {
   "cell_type": "markdown",
   "metadata": {},
   "source": [
    "## Answer:\n",
    "### 1. How do the training and test $R^2$ scores compare for the three methods? Give an explanation for your observations. \n",
    "- The training R^2 scores do not differ from each other a lot among the three models. But we can still see from the plots that the plain linear regression model has the highest training R^2 score, and I think this is due to the problem of overfitting. Using the two regularization methods, ridge and lasso, training R^2 scores decrease a little bit.\n",
    "- The plain linear regression model gives the lowest test R^2 score among the three methods, and it has wider confidence intervals than the rest two methods. I think this is because the linear regression model overfits the dataset.\n",
    "\n",
    "### 2. How do the confidence intervals for the estimated $R^2$ change with training sample size? \n",
    "- The confidence intervals get smaller as the training sample size gets bigger. This is because bigger sample size is almost always preferaable to offer more information, so the coefficient in the model will be more reliable to model the dataset. Therefore, the confidence intervals gets smaller because we are more \"confident\" about the coefficients.\n",
    "\n",
    "### 3. Based on the plots, which of the three methods would you recommend when one needs to fit a regression model using a small training sample?\n",
    "- I definitely don't recommend using the plain linear regression model, because it has the problem of overfitting and we can see that the test R^2 scores, especially with a small training sample, are not high at all, which are below 0.2. Based on the plots, I will suggest using Ridge regression. We can see that its R^2 scores are very stable, even with small training sample, it is above 0.2 too. However, Lasso regression does not perform so well, as we can see the test R^2 score with sample size of 100 is below 0.15, and its confidence interval is wide too."
   ]
  },
  {
   "cell_type": "markdown",
   "metadata": {},
   "source": [
    "## Part (g): Polynomial & Interaction Terms\n",
    "\n",
    "Moving beyond linear models, we will now try to improve the performance of the regression model in Part (b) from HW 3 by including higher-order polynomial and interaction terms. \n",
    "\n",
    "- For each continuous predictor $X_j$, include additional polynomial terms $X^2_j$, $X^3_j$, and $X^4_j$, and fit a multiple regression model to the expanded training set. How does the $R^2$ of this model on the test set compare with that of the linear model fitted in Part (b) from HW 3? Using a t-test, find out which of estimated coefficients for the polynomial terms are statistically significant at a significance level of 5%. \n",
    "\n",
    "- Fit a multiple linear regression model with additional interaction terms $\\mathbb{I}_{month = 12} \\times temp$ and $\\mathbb{I}_{workingday = 1} \\times \\mathbb{I}_{weathersit = 1}$ and report the test $R^2$ for the fitted model. How does this compare with the $R^2$ obtained using linear model in Part (b) from HW 3? Are the estimated coefficients for the interaction terms statistically significant at a significance level of 5%?"
   ]
  },
  {
   "cell_type": "code",
   "execution_count": 12,
   "metadata": {},
   "outputs": [
    {
     "name": "stdout",
     "output_type": "stream",
     "text": [
      "Train R^2 score is 0.6696562402214016 and test R^2 score is 0.2772384350861533\n"
     ]
    },
    {
     "data": {
      "text/html": [
       "<table class=\"simpletable\">\n",
       "<caption>OLS Regression Results</caption>\n",
       "<tr>\n",
       "  <th>Dep. Variable:</th>            <td>y</td>        <th>  R-squared:         </th> <td>   0.670</td>\n",
       "</tr>\n",
       "<tr>\n",
       "  <th>Model:</th>                   <td>OLS</td>       <th>  Adj. R-squared:    </th> <td>   0.625</td>\n",
       "</tr>\n",
       "<tr>\n",
       "  <th>Method:</th>             <td>Least Squares</td>  <th>  F-statistic:       </th> <td>   15.13</td>\n",
       "</tr>\n",
       "<tr>\n",
       "  <th>Date:</th>             <td>Wed, 11 Oct 2017</td> <th>  Prob (F-statistic):</th> <td>7.98e-50</td>\n",
       "</tr>\n",
       "<tr>\n",
       "  <th>Time:</th>                 <td>21:48:18</td>     <th>  Log-Likelihood:    </th> <td> -2790.9</td>\n",
       "</tr>\n",
       "<tr>\n",
       "  <th>No. Observations:</th>      <td>   331</td>      <th>  AIC:               </th> <td>   5662.</td>\n",
       "</tr>\n",
       "<tr>\n",
       "  <th>Df Residuals:</th>          <td>   291</td>      <th>  BIC:               </th> <td>   5814.</td>\n",
       "</tr>\n",
       "<tr>\n",
       "  <th>Df Model:</th>              <td>    39</td>      <th>                     </th>     <td> </td>   \n",
       "</tr>\n",
       "<tr>\n",
       "  <th>Covariance Type:</th>      <td>nonrobust</td>    <th>                     </th>     <td> </td>   \n",
       "</tr>\n",
       "</table>\n",
       "<table class=\"simpletable\">\n",
       "<tr>\n",
       "         <td></td>            <th>coef</th>     <th>std err</th>      <th>t</th>      <th>P>|t|</th>  <th>[0.025</th>    <th>0.975]</th>  \n",
       "</tr>\n",
       "<tr>\n",
       "  <th>const</th>           <td> 5035.2713</td> <td>  460.417</td> <td>   10.936</td> <td> 0.000</td> <td> 4129.101</td> <td> 5941.442</td>\n",
       "</tr>\n",
       "<tr>\n",
       "  <th>temp</th>            <td>  771.4866</td> <td>  760.117</td> <td>    1.015</td> <td> 0.311</td> <td> -724.536</td> <td> 2267.510</td>\n",
       "</tr>\n",
       "<tr>\n",
       "  <th>temp^2</th>          <td>-1811.0180</td> <td>  816.910</td> <td>   -2.217</td> <td> 0.027</td> <td>-3418.820</td> <td> -203.216</td>\n",
       "</tr>\n",
       "<tr>\n",
       "  <th>temp^3</th>          <td>    8.6078</td> <td>  275.731</td> <td>    0.031</td> <td> 0.975</td> <td> -534.071</td> <td>  551.287</td>\n",
       "</tr>\n",
       "<tr>\n",
       "  <th>temp^4</th>          <td>  -45.1910</td> <td>  171.419</td> <td>   -0.264</td> <td> 0.792</td> <td> -382.570</td> <td>  292.188</td>\n",
       "</tr>\n",
       "<tr>\n",
       "  <th>atemp</th>           <td>  897.2756</td> <td>  713.172</td> <td>    1.258</td> <td> 0.209</td> <td> -506.353</td> <td> 2300.904</td>\n",
       "</tr>\n",
       "<tr>\n",
       "  <th>atemp^2</th>         <td> 1175.5005</td> <td>  788.864</td> <td>    1.490</td> <td> 0.137</td> <td> -377.102</td> <td> 2728.103</td>\n",
       "</tr>\n",
       "<tr>\n",
       "  <th>atemp^3</th>         <td> -303.9358</td> <td>  246.097</td> <td>   -1.235</td> <td> 0.218</td> <td> -788.292</td> <td>  180.420</td>\n",
       "</tr>\n",
       "<tr>\n",
       "  <th>atemp^4</th>         <td>  -20.7686</td> <td>  147.605</td> <td>   -0.141</td> <td> 0.888</td> <td> -311.276</td> <td>  269.739</td>\n",
       "</tr>\n",
       "<tr>\n",
       "  <th>humidity</th>        <td> -668.9145</td> <td>  157.356</td> <td>   -4.251</td> <td> 0.000</td> <td> -978.615</td> <td> -359.214</td>\n",
       "</tr>\n",
       "<tr>\n",
       "  <th>humidity^2</th>      <td>  -53.6709</td> <td>  155.383</td> <td>   -0.345</td> <td> 0.730</td> <td> -359.488</td> <td>  252.146</td>\n",
       "</tr>\n",
       "<tr>\n",
       "  <th>humidity^3</th>      <td>  -16.0576</td> <td>   44.892</td> <td>   -0.358</td> <td> 0.721</td> <td> -104.412</td> <td>   72.297</td>\n",
       "</tr>\n",
       "<tr>\n",
       "  <th>humidity^4</th>      <td>  -24.8367</td> <td>   31.481</td> <td>   -0.789</td> <td> 0.431</td> <td>  -86.796</td> <td>   37.122</td>\n",
       "</tr>\n",
       "<tr>\n",
       "  <th>windspeed</th>       <td> -446.5085</td> <td>  148.929</td> <td>   -2.998</td> <td> 0.003</td> <td> -739.623</td> <td> -153.394</td>\n",
       "</tr>\n",
       "<tr>\n",
       "  <th>windspeed^2</th>     <td>  -34.1653</td> <td>  126.952</td> <td>   -0.269</td> <td> 0.788</td> <td> -284.026</td> <td>  215.695</td>\n",
       "</tr>\n",
       "<tr>\n",
       "  <th>windspeed^3</th>     <td>   44.8339</td> <td>   65.459</td> <td>    0.685</td> <td> 0.494</td> <td>  -83.999</td> <td>  173.667</td>\n",
       "</tr>\n",
       "<tr>\n",
       "  <th>windspeed^4</th>     <td>  -20.1769</td> <td>   30.327</td> <td>   -0.665</td> <td> 0.506</td> <td>  -79.864</td> <td>   39.510</td>\n",
       "</tr>\n",
       "<tr>\n",
       "  <th>Summer</th>          <td>  766.4307</td> <td>  454.546</td> <td>    1.686</td> <td> 0.093</td> <td> -128.185</td> <td> 1661.046</td>\n",
       "</tr>\n",
       "<tr>\n",
       "  <th>Fall</th>            <td> 1578.7544</td> <td>  519.364</td> <td>    3.040</td> <td> 0.003</td> <td>  556.569</td> <td> 2600.940</td>\n",
       "</tr>\n",
       "<tr>\n",
       "  <th>Winter</th>          <td> 1523.2288</td> <td>  467.580</td> <td>    3.258</td> <td> 0.001</td> <td>  602.961</td> <td> 2443.496</td>\n",
       "</tr>\n",
       "<tr>\n",
       "  <th>Feb</th>             <td> -325.0686</td> <td>  409.611</td> <td>   -0.794</td> <td> 0.428</td> <td>-1131.245</td> <td>  481.108</td>\n",
       "</tr>\n",
       "<tr>\n",
       "  <th>Mar</th>             <td> -304.8491</td> <td>  446.028</td> <td>   -0.683</td> <td> 0.495</td> <td>-1182.700</td> <td>  573.002</td>\n",
       "</tr>\n",
       "<tr>\n",
       "  <th>Apr</th>             <td> -418.0245</td> <td>  639.524</td> <td>   -0.654</td> <td> 0.514</td> <td>-1676.703</td> <td>  840.654</td>\n",
       "</tr>\n",
       "<tr>\n",
       "  <th>Mar</th>             <td>-1037.2042</td> <td>  677.186</td> <td>   -1.532</td> <td> 0.127</td> <td>-2370.008</td> <td>  295.599</td>\n",
       "</tr>\n",
       "<tr>\n",
       "  <th>Jun</th>             <td>-1456.1857</td> <td>  697.520</td> <td>   -2.088</td> <td> 0.038</td> <td>-2829.010</td> <td>  -83.362</td>\n",
       "</tr>\n",
       "<tr>\n",
       "  <th>Jul</th>             <td>-1416.9882</td> <td>  749.751</td> <td>   -1.890</td> <td> 0.060</td> <td>-2892.610</td> <td>   58.634</td>\n",
       "</tr>\n",
       "<tr>\n",
       "  <th>Aug</th>             <td>-1715.9389</td> <td>  743.240</td> <td>   -2.309</td> <td> 0.022</td> <td>-3178.747</td> <td> -253.131</td>\n",
       "</tr>\n",
       "<tr>\n",
       "  <th>Sep</th>             <td>-1073.4008</td> <td>  660.859</td> <td>   -1.624</td> <td> 0.105</td> <td>-2374.069</td> <td>  227.268</td>\n",
       "</tr>\n",
       "<tr>\n",
       "  <th>Oct</th>             <td> -925.8710</td> <td>  617.522</td> <td>   -1.499</td> <td> 0.135</td> <td>-2141.247</td> <td>  289.505</td>\n",
       "</tr>\n",
       "<tr>\n",
       "  <th>Nov</th>             <td> -825.5328</td> <td>  591.138</td> <td>   -1.397</td> <td> 0.164</td> <td>-1988.981</td> <td>  337.916</td>\n",
       "</tr>\n",
       "<tr>\n",
       "  <th>Dec</th>             <td> -555.6676</td> <td>  479.543</td> <td>   -1.159</td> <td> 0.248</td> <td>-1499.481</td> <td>  388.146</td>\n",
       "</tr>\n",
       "<tr>\n",
       "  <th>Holiday</th>         <td> -189.7675</td> <td>  365.157</td> <td>   -0.520</td> <td> 0.604</td> <td> -908.451</td> <td>  528.916</td>\n",
       "</tr>\n",
       "<tr>\n",
       "  <th>Mon</th>             <td>  -93.3265</td> <td>  156.015</td> <td>   -0.598</td> <td> 0.550</td> <td> -400.387</td> <td>  213.734</td>\n",
       "</tr>\n",
       "<tr>\n",
       "  <th>Tue</th>             <td> -133.4279</td> <td>  184.734</td> <td>   -0.722</td> <td> 0.471</td> <td> -497.012</td> <td>  230.156</td>\n",
       "</tr>\n",
       "<tr>\n",
       "  <th>Wed</th>             <td>  147.7313</td> <td>  195.071</td> <td>    0.757</td> <td> 0.449</td> <td> -236.197</td> <td>  531.660</td>\n",
       "</tr>\n",
       "<tr>\n",
       "  <th>Thu</th>             <td>   30.5924</td> <td>  187.547</td> <td>    0.163</td> <td> 0.871</td> <td> -338.528</td> <td>  399.713</td>\n",
       "</tr>\n",
       "<tr>\n",
       "  <th>Fri</th>             <td>  209.9371</td> <td>  182.024</td> <td>    1.153</td> <td> 0.250</td> <td> -148.313</td> <td>  568.187</td>\n",
       "</tr>\n",
       "<tr>\n",
       "  <th>Sat</th>             <td>  471.0834</td> <td>  246.557</td> <td>    1.911</td> <td> 0.057</td> <td>  -14.178</td> <td>  956.345</td>\n",
       "</tr>\n",
       "<tr>\n",
       "  <th>Workday</th>         <td>  351.2739</td> <td>  150.615</td> <td>    2.332</td> <td> 0.020</td> <td>   54.841</td> <td>  647.707</td>\n",
       "</tr>\n",
       "<tr>\n",
       "  <th>Mist</th>            <td>   59.0119</td> <td>  196.208</td> <td>    0.301</td> <td> 0.764</td> <td> -327.155</td> <td>  445.179</td>\n",
       "</tr>\n",
       "<tr>\n",
       "  <th>Light_rain/snow</th> <td>-1043.9997</td> <td>  546.051</td> <td>   -1.912</td> <td> 0.057</td> <td>-2118.709</td> <td>   30.710</td>\n",
       "</tr>\n",
       "</table>\n",
       "<table class=\"simpletable\">\n",
       "<tr>\n",
       "  <th>Omnibus:</th>       <td>29.995</td> <th>  Durbin-Watson:     </th> <td>   1.959</td>\n",
       "</tr>\n",
       "<tr>\n",
       "  <th>Prob(Omnibus):</th> <td> 0.000</td> <th>  Jarque-Bera (JB):  </th> <td>  10.202</td>\n",
       "</tr>\n",
       "<tr>\n",
       "  <th>Skew:</th>          <td>-0.094</td> <th>  Prob(JB):          </th> <td> 0.00609</td>\n",
       "</tr>\n",
       "<tr>\n",
       "  <th>Kurtosis:</th>      <td> 2.161</td> <th>  Cond. No.          </th> <td>1.35e+16</td>\n",
       "</tr>\n",
       "</table>"
      ],
      "text/plain": [
       "<class 'statsmodels.iolib.summary.Summary'>\n",
       "\"\"\"\n",
       "                            OLS Regression Results                            \n",
       "==============================================================================\n",
       "Dep. Variable:                      y   R-squared:                       0.670\n",
       "Model:                            OLS   Adj. R-squared:                  0.625\n",
       "Method:                 Least Squares   F-statistic:                     15.13\n",
       "Date:                Wed, 11 Oct 2017   Prob (F-statistic):           7.98e-50\n",
       "Time:                        21:48:18   Log-Likelihood:                -2790.9\n",
       "No. Observations:                 331   AIC:                             5662.\n",
       "Df Residuals:                     291   BIC:                             5814.\n",
       "Df Model:                          39                                         \n",
       "Covariance Type:            nonrobust                                         \n",
       "===================================================================================\n",
       "                      coef    std err          t      P>|t|      [0.025      0.975]\n",
       "-----------------------------------------------------------------------------------\n",
       "const            5035.2713    460.417     10.936      0.000    4129.101    5941.442\n",
       "temp              771.4866    760.117      1.015      0.311    -724.536    2267.510\n",
       "temp^2          -1811.0180    816.910     -2.217      0.027   -3418.820    -203.216\n",
       "temp^3              8.6078    275.731      0.031      0.975    -534.071     551.287\n",
       "temp^4            -45.1910    171.419     -0.264      0.792    -382.570     292.188\n",
       "atemp             897.2756    713.172      1.258      0.209    -506.353    2300.904\n",
       "atemp^2          1175.5005    788.864      1.490      0.137    -377.102    2728.103\n",
       "atemp^3          -303.9358    246.097     -1.235      0.218    -788.292     180.420\n",
       "atemp^4           -20.7686    147.605     -0.141      0.888    -311.276     269.739\n",
       "humidity         -668.9145    157.356     -4.251      0.000    -978.615    -359.214\n",
       "humidity^2        -53.6709    155.383     -0.345      0.730    -359.488     252.146\n",
       "humidity^3        -16.0576     44.892     -0.358      0.721    -104.412      72.297\n",
       "humidity^4        -24.8367     31.481     -0.789      0.431     -86.796      37.122\n",
       "windspeed        -446.5085    148.929     -2.998      0.003    -739.623    -153.394\n",
       "windspeed^2       -34.1653    126.952     -0.269      0.788    -284.026     215.695\n",
       "windspeed^3        44.8339     65.459      0.685      0.494     -83.999     173.667\n",
       "windspeed^4       -20.1769     30.327     -0.665      0.506     -79.864      39.510\n",
       "Summer            766.4307    454.546      1.686      0.093    -128.185    1661.046\n",
       "Fall             1578.7544    519.364      3.040      0.003     556.569    2600.940\n",
       "Winter           1523.2288    467.580      3.258      0.001     602.961    2443.496\n",
       "Feb              -325.0686    409.611     -0.794      0.428   -1131.245     481.108\n",
       "Mar              -304.8491    446.028     -0.683      0.495   -1182.700     573.002\n",
       "Apr              -418.0245    639.524     -0.654      0.514   -1676.703     840.654\n",
       "Mar             -1037.2042    677.186     -1.532      0.127   -2370.008     295.599\n",
       "Jun             -1456.1857    697.520     -2.088      0.038   -2829.010     -83.362\n",
       "Jul             -1416.9882    749.751     -1.890      0.060   -2892.610      58.634\n",
       "Aug             -1715.9389    743.240     -2.309      0.022   -3178.747    -253.131\n",
       "Sep             -1073.4008    660.859     -1.624      0.105   -2374.069     227.268\n",
       "Oct              -925.8710    617.522     -1.499      0.135   -2141.247     289.505\n",
       "Nov              -825.5328    591.138     -1.397      0.164   -1988.981     337.916\n",
       "Dec              -555.6676    479.543     -1.159      0.248   -1499.481     388.146\n",
       "Holiday          -189.7675    365.157     -0.520      0.604    -908.451     528.916\n",
       "Mon               -93.3265    156.015     -0.598      0.550    -400.387     213.734\n",
       "Tue              -133.4279    184.734     -0.722      0.471    -497.012     230.156\n",
       "Wed               147.7313    195.071      0.757      0.449    -236.197     531.660\n",
       "Thu                30.5924    187.547      0.163      0.871    -338.528     399.713\n",
       "Fri               209.9371    182.024      1.153      0.250    -148.313     568.187\n",
       "Sat               471.0834    246.557      1.911      0.057     -14.178     956.345\n",
       "Workday           351.2739    150.615      2.332      0.020      54.841     647.707\n",
       "Mist               59.0119    196.208      0.301      0.764    -327.155     445.179\n",
       "Light_rain/snow -1043.9997    546.051     -1.912      0.057   -2118.709      30.710\n",
       "==============================================================================\n",
       "Omnibus:                       29.995   Durbin-Watson:                   1.959\n",
       "Prob(Omnibus):                  0.000   Jarque-Bera (JB):               10.202\n",
       "Skew:                          -0.094   Prob(JB):                      0.00609\n",
       "Kurtosis:                       2.161   Cond. No.                     1.35e+16\n",
       "==============================================================================\n",
       "\n",
       "Warnings:\n",
       "[1] Standard Errors assume that the covariance matrix of the errors is correctly specified.\n",
       "[2] The smallest eigenvalue is 2.1e-28. This might indicate that there are\n",
       "strong multicollinearity problems or that the design matrix is singular.\n",
       "\"\"\""
      ]
     },
     "execution_count": 12,
     "metadata": {},
     "output_type": "execute_result"
    }
   ],
   "source": [
    "# your code here\n",
    "gen_poly_terms = PolynomialFeatures(degree=4, interaction_only=False)\n",
    "X_train_cont = df_train[[\"temp\", \"atemp\", \"humidity\", \"windspeed\"]]\n",
    "X_test_cont = df_test[[\"temp\", \"atemp\", \"humidity\", \"windspeed\"]]\n",
    "X_train_non_cont = df_train.drop([\"temp\", \"atemp\", \"humidity\", \"windspeed\", \"count\"], axis=1)\n",
    "X_test_non_cont = df_test.drop([\"temp\", \"atemp\", \"humidity\", \"windspeed\", \"count\"], axis=1)\n",
    "y_train = df_train['count'].values\n",
    "y_test = df_test['count'].values\n",
    "\n",
    "X_train_poly1 = gen_poly_terms.fit_transform(X_train_cont)\n",
    "X_test_poly1 = gen_poly_terms.fit_transform(X_test_cont)\n",
    "\n",
    "X_train_poly_df = pd.DataFrame(X_train_poly1)\n",
    "X_test_poly_df = pd.DataFrame(X_test_poly1)\n",
    "\n",
    "poly_names = gen_poly_terms.get_feature_names()\n",
    "X_train_poly_df.columns = poly_names\n",
    "X_test_poly_df.columns = poly_names\n",
    "X_train_poly_df = X_train_poly_df[[\"x0\",\"x0^2\",\"x0^3\",\"x0^4\",\"x1\",\"x1^2\",\"x1^3\",\"x1^4\",\"x2\",\"x2^2\",\"x2^3\",\"x2^4\", \\\n",
    "                               \"x3\",\"x3^2\",\"x3^3\",\"x3^4\"]]\n",
    "X_test_poly_df = X_test_poly_df[[\"x0\",\"x0^2\",\"x0^3\",\"x0^4\",\"x1\",\"x1^2\",\"x1^3\",\"x1^4\",\"x2\",\"x2^2\",\"x2^3\",\"x2^4\", \\\n",
    "                               \"x3\",\"x3^2\",\"x3^3\",\"x3^4\"]]\n",
    "X_train_poly_df = X_train_poly_df.rename(columns={\"x0\":\"temp\", \"x0^2\":\"temp^2\", \"x0^3\":\"temp^3\", \"x0^4\":\"temp^4\", \\\n",
    "                                                 \"x1\":\"atemp\", \"x1^2\":\"atemp^2\", \"x1^3\":\"atemp^3\", \"x1^4\":\"atemp^4\", \\\n",
    "                                                 \"x2\":\"humidity\", \"x2^2\":\"humidity^2\", \"x2^3\":\"humidity^3\", \\\n",
    "                                                 \"x2^4\":\"humidity^4\", \"x3\":\"windspeed\", \"x3^2\":\"windspeed^2\", \\\n",
    "                                                 \"x3^3\":\"windspeed^3\", \"x3^4\":\"windspeed^4\"})\n",
    "X_test_poly_df = X_test_poly_df.rename(columns={\"x0\":\"temp\", \"x0^2\":\"temp^2\", \"x0^3\":\"temp^3\", \"x0^4\":\"temp^4\", \\\n",
    "                                                 \"x1\":\"atemp\", \"x1^2\":\"atemp^2\", \"x1^3\":\"atemp^3\", \"x1^4\":\"atemp^4\", \\\n",
    "                                                 \"x2\":\"humidity\", \"x2^2\":\"humidity^2\", \"x2^3\":\"humidity^3\", \\\n",
    "                                                 \"x2^4\":\"humidity^4\", \"x3\":\"windspeed\", \"x3^2\":\"windspeed^2\", \\\n",
    "                                                 \"x3^3\":\"windspeed^3\", \"x3^4\":\"windspeed^4\"})\n",
    "\n",
    "X_train_poly = X_train_poly_df.join(X_train_non_cont)\n",
    "X_test_poly = X_test_poly_df.join(X_test_non_cont)\n",
    "\n",
    "poly_regression_model = LinearRegression(fit_intercept=True)\n",
    "poly_regression_model.fit(X_train_poly, y_train)\n",
    "\n",
    "# y_hat_train = poly_regression_model.predict(X_train_poly)\n",
    "# y_hat_test = poly_regression_model.predict(X_test_poly)\n",
    "# r2_train = r2_score(y_train.reshape(-1,1), y_hat_train.reshape(-1,1))\n",
    "# r2_test = r2_score(y_test.reshape(-1,1), y_hat_test.reshape(-1,1))\n",
    "\n",
    "R2_train_poly = poly_regression_model.score(X_train_poly, y_train)\n",
    "R2_test_poly = poly_regression_model.score(X_test_poly, y_test)\n",
    "print(\"Train R^2 score is {} and test R^2 score is {}\".format(R2_train_poly, R2_test_poly))\n",
    "\n",
    "X_train_poly_sm = sm.add_constant(X_train_poly)\n",
    "poly_model = sm.OLS(y_train, X_train_poly_sm)\n",
    "results = poly_model.fit()\n",
    "results.summary()\n",
    "# all_predictors = [col for col in df_train.columns if col not in ['count']]\n",
    "# all_predictors.insert(0, \"constant\")\n",
    "# param_dict = dict(zip(all_predictors, p_values))\n",
    "# sig_params_dict = {k:v for k,v in param_dict.items() if v < 0.05}\n",
    "# print(sig_params_dict)"
   ]
  },
  {
   "cell_type": "code",
   "execution_count": 13,
   "metadata": {},
   "outputs": [
    {
     "data": {
      "text/plain": [
       "const        1.504637e-23\n",
       "temp^2       2.740200e-02\n",
       "humidity     2.870343e-05\n",
       "windspeed    2.950904e-03\n",
       "Fall         2.582724e-03\n",
       "Winter       1.256241e-03\n",
       "Jun          3.769801e-02\n",
       "Aug          2.165939e-02\n",
       "Workday      2.036885e-02\n",
       "dtype: float64"
      ]
     },
     "execution_count": 13,
     "metadata": {},
     "output_type": "execute_result"
    }
   ],
   "source": [
    "results.pvalues[results.pvalues < 0.05]"
   ]
  },
  {
   "cell_type": "code",
   "execution_count": 14,
   "metadata": {},
   "outputs": [
    {
     "name": "stdout",
     "output_type": "stream",
     "text": [
      "Train R^2 score is 0.6699675993036875 and test R^2 score is 0.2829779330240646\n"
     ]
    },
    {
     "data": {
      "text/html": [
       "<table class=\"simpletable\">\n",
       "<caption>OLS Regression Results</caption>\n",
       "<tr>\n",
       "  <th>Dep. Variable:</th>            <td>y</td>        <th>  R-squared:         </th> <td>   0.670</td>\n",
       "</tr>\n",
       "<tr>\n",
       "  <th>Model:</th>                   <td>OLS</td>       <th>  Adj. R-squared:    </th> <td>   0.623</td>\n",
       "</tr>\n",
       "<tr>\n",
       "  <th>Method:</th>             <td>Least Squares</td>  <th>  F-statistic:       </th> <td>   14.31</td>\n",
       "</tr>\n",
       "<tr>\n",
       "  <th>Date:</th>             <td>Wed, 11 Oct 2017</td> <th>  Prob (F-statistic):</th> <td>1.07e-48</td>\n",
       "</tr>\n",
       "<tr>\n",
       "  <th>Time:</th>                 <td>21:48:18</td>     <th>  Log-Likelihood:    </th> <td> -2790.7</td>\n",
       "</tr>\n",
       "<tr>\n",
       "  <th>No. Observations:</th>      <td>   331</td>      <th>  AIC:               </th> <td>   5665.</td>\n",
       "</tr>\n",
       "<tr>\n",
       "  <th>Df Residuals:</th>          <td>   289</td>      <th>  BIC:               </th> <td>   5825.</td>\n",
       "</tr>\n",
       "<tr>\n",
       "  <th>Df Model:</th>              <td>    41</td>      <th>                     </th>     <td> </td>   \n",
       "</tr>\n",
       "<tr>\n",
       "  <th>Covariance Type:</th>      <td>nonrobust</td>    <th>                     </th>     <td> </td>   \n",
       "</tr>\n",
       "</table>\n",
       "<table class=\"simpletable\">\n",
       "<tr>\n",
       "         <td></td>            <th>coef</th>     <th>std err</th>      <th>t</th>      <th>P>|t|</th>  <th>[0.025</th>    <th>0.975]</th>  \n",
       "</tr>\n",
       "<tr>\n",
       "  <th>const</th>           <td> 5002.8722</td> <td>  480.670</td> <td>   10.408</td> <td> 0.000</td> <td> 4056.815</td> <td> 5948.929</td>\n",
       "</tr>\n",
       "<tr>\n",
       "  <th>temp</th>            <td>  795.0787</td> <td>  764.545</td> <td>    1.040</td> <td> 0.299</td> <td> -709.704</td> <td> 2299.861</td>\n",
       "</tr>\n",
       "<tr>\n",
       "  <th>temp^2</th>          <td>-1801.8581</td> <td>  819.867</td> <td>   -2.198</td> <td> 0.029</td> <td>-3415.526</td> <td> -188.190</td>\n",
       "</tr>\n",
       "<tr>\n",
       "  <th>temp^3</th>          <td>    1.6628</td> <td>  278.742</td> <td>    0.006</td> <td> 0.995</td> <td> -546.958</td> <td>  550.284</td>\n",
       "</tr>\n",
       "<tr>\n",
       "  <th>temp^4</th>          <td>  -44.7557</td> <td>  171.933</td> <td>   -0.260</td> <td> 0.795</td> <td> -383.155</td> <td>  293.643</td>\n",
       "</tr>\n",
       "<tr>\n",
       "  <th>atemp</th>           <td>  881.7153</td> <td>  717.029</td> <td>    1.230</td> <td> 0.220</td> <td> -529.546</td> <td> 2292.976</td>\n",
       "</tr>\n",
       "<tr>\n",
       "  <th>atemp^2</th>         <td> 1170.6729</td> <td>  792.462</td> <td>    1.477</td> <td> 0.141</td> <td> -389.055</td> <td> 2730.401</td>\n",
       "</tr>\n",
       "<tr>\n",
       "  <th>atemp^3</th>         <td> -298.9891</td> <td>  247.662</td> <td>   -1.207</td> <td> 0.228</td> <td> -786.439</td> <td>  188.461</td>\n",
       "</tr>\n",
       "<tr>\n",
       "  <th>atemp^4</th>         <td>  -21.0470</td> <td>  148.500</td> <td>   -0.142</td> <td> 0.887</td> <td> -313.326</td> <td>  271.231</td>\n",
       "</tr>\n",
       "<tr>\n",
       "  <th>humidity</th>        <td> -676.3519</td> <td>  158.504</td> <td>   -4.267</td> <td> 0.000</td> <td> -988.320</td> <td> -364.384</td>\n",
       "</tr>\n",
       "<tr>\n",
       "  <th>humidity^2</th>      <td>  -56.5186</td> <td>  155.980</td> <td>   -0.362</td> <td> 0.717</td> <td> -363.519</td> <td>  250.482</td>\n",
       "</tr>\n",
       "<tr>\n",
       "  <th>humidity^3</th>      <td>  -15.0311</td> <td>   45.150</td> <td>   -0.333</td> <td> 0.739</td> <td> -103.896</td> <td>   73.834</td>\n",
       "</tr>\n",
       "<tr>\n",
       "  <th>humidity^4</th>      <td>  -23.9877</td> <td>   31.681</td> <td>   -0.757</td> <td> 0.450</td> <td>  -86.343</td> <td>   38.367</td>\n",
       "</tr>\n",
       "<tr>\n",
       "  <th>windspeed</th>       <td> -447.0797</td> <td>  150.175</td> <td>   -2.977</td> <td> 0.003</td> <td> -742.655</td> <td> -151.505</td>\n",
       "</tr>\n",
       "<tr>\n",
       "  <th>windspeed^2</th>     <td>  -37.8573</td> <td>  127.862</td> <td>   -0.296</td> <td> 0.767</td> <td> -289.515</td> <td>  213.801</td>\n",
       "</tr>\n",
       "<tr>\n",
       "  <th>windspeed^3</th>     <td>   44.5758</td> <td>   65.712</td> <td>    0.678</td> <td> 0.498</td> <td>  -84.760</td> <td>  173.911</td>\n",
       "</tr>\n",
       "<tr>\n",
       "  <th>windspeed^4</th>     <td>  -19.3589</td> <td>   30.476</td> <td>   -0.635</td> <td> 0.526</td> <td>  -79.341</td> <td>   40.623</td>\n",
       "</tr>\n",
       "<tr>\n",
       "  <th>Summer</th>          <td>  763.6379</td> <td>  463.746</td> <td>    1.647</td> <td> 0.101</td> <td> -149.110</td> <td> 1676.386</td>\n",
       "</tr>\n",
       "<tr>\n",
       "  <th>Fall</th>            <td> 1564.2796</td> <td>  545.007</td> <td>    2.870</td> <td> 0.004</td> <td>  491.593</td> <td> 2636.966</td>\n",
       "</tr>\n",
       "<tr>\n",
       "  <th>Winter</th>          <td> 1493.1626</td> <td>  505.353</td> <td>    2.955</td> <td> 0.003</td> <td>  498.524</td> <td> 2487.801</td>\n",
       "</tr>\n",
       "<tr>\n",
       "  <th>Feb</th>             <td> -325.7395</td> <td>  415.794</td> <td>   -0.783</td> <td> 0.434</td> <td>-1144.107</td> <td>  492.628</td>\n",
       "</tr>\n",
       "<tr>\n",
       "  <th>Mar</th>             <td> -311.7359</td> <td>  465.982</td> <td>   -0.669</td> <td> 0.504</td> <td>-1228.885</td> <td>  605.413</td>\n",
       "</tr>\n",
       "<tr>\n",
       "  <th>Apr</th>             <td> -429.5823</td> <td>  676.680</td> <td>   -0.635</td> <td> 0.526</td> <td>-1761.428</td> <td>  902.264</td>\n",
       "</tr>\n",
       "<tr>\n",
       "  <th>Mar</th>             <td>-1024.8594</td> <td>  711.364</td> <td>   -1.441</td> <td> 0.151</td> <td>-2424.970</td> <td>  375.251</td>\n",
       "</tr>\n",
       "<tr>\n",
       "  <th>Jun</th>             <td>-1466.6541</td> <td>  734.348</td> <td>   -1.997</td> <td> 0.047</td> <td>-2912.002</td> <td>  -21.306</td>\n",
       "</tr>\n",
       "<tr>\n",
       "  <th>Jul</th>             <td>-1427.6739</td> <td>  798.423</td> <td>   -1.788</td> <td> 0.075</td> <td>-2999.136</td> <td>  143.788</td>\n",
       "</tr>\n",
       "<tr>\n",
       "  <th>Aug</th>             <td>-1720.6375</td> <td>  791.728</td> <td>   -2.173</td> <td> 0.031</td> <td>-3278.922</td> <td> -162.353</td>\n",
       "</tr>\n",
       "<tr>\n",
       "  <th>Sep</th>             <td>-1055.9093</td> <td>  726.079</td> <td>   -1.454</td> <td> 0.147</td> <td>-2484.983</td> <td>  373.165</td>\n",
       "</tr>\n",
       "<tr>\n",
       "  <th>Oct</th>             <td> -882.2336</td> <td>  692.220</td> <td>   -1.274</td> <td> 0.204</td> <td>-2244.665</td> <td>  480.198</td>\n",
       "</tr>\n",
       "<tr>\n",
       "  <th>Nov</th>             <td> -773.6133</td> <td>  656.762</td> <td>   -1.178</td> <td> 0.240</td> <td>-2066.257</td> <td>  519.030</td>\n",
       "</tr>\n",
       "<tr>\n",
       "  <th>Dec</th>             <td> -480.9222</td> <td> 1027.332</td> <td>   -0.468</td> <td> 0.640</td> <td>-2502.924</td> <td> 1541.080</td>\n",
       "</tr>\n",
       "<tr>\n",
       "  <th>Holiday</th>         <td> -198.1240</td> <td>  367.617</td> <td>   -0.539</td> <td> 0.590</td> <td> -921.670</td> <td>  525.422</td>\n",
       "</tr>\n",
       "<tr>\n",
       "  <th>Mon</th>             <td>  -83.8820</td> <td>  157.901</td> <td>   -0.531</td> <td> 0.596</td> <td> -394.663</td> <td>  226.899</td>\n",
       "</tr>\n",
       "<tr>\n",
       "  <th>Tue</th>             <td> -124.6199</td> <td>  186.989</td> <td>   -0.666</td> <td> 0.506</td> <td> -492.653</td> <td>  243.414</td>\n",
       "</tr>\n",
       "<tr>\n",
       "  <th>Wed</th>             <td>  152.6709</td> <td>  197.504</td> <td>    0.773</td> <td> 0.440</td> <td> -236.058</td> <td>  541.400</td>\n",
       "</tr>\n",
       "<tr>\n",
       "  <th>Thu</th>             <td>   35.7101</td> <td>  188.374</td> <td>    0.190</td> <td> 0.850</td> <td> -335.048</td> <td>  406.469</td>\n",
       "</tr>\n",
       "<tr>\n",
       "  <th>Fri</th>             <td>  215.4466</td> <td>  182.875</td> <td>    1.178</td> <td> 0.240</td> <td> -144.488</td> <td>  575.381</td>\n",
       "</tr>\n",
       "<tr>\n",
       "  <th>Sat</th>             <td>  462.4486</td> <td>  248.640</td> <td>    1.860</td> <td> 0.064</td> <td>  -26.926</td> <td>  951.824</td>\n",
       "</tr>\n",
       "<tr>\n",
       "  <th>Workday</th>         <td>  393.4497</td> <td>  174.059</td> <td>    2.260</td> <td> 0.025</td> <td>   50.865</td> <td>  736.035</td>\n",
       "</tr>\n",
       "<tr>\n",
       "  <th>Mist</th>            <td>  181.8735</td> <td>  309.316</td> <td>    0.588</td> <td> 0.557</td> <td> -426.924</td> <td>  790.671</td>\n",
       "</tr>\n",
       "<tr>\n",
       "  <th>Light_rain/snow</th> <td> -923.0406</td> <td>  594.656</td> <td>   -1.552</td> <td> 0.122</td> <td>-2093.447</td> <td>  247.366</td>\n",
       "</tr>\n",
       "<tr>\n",
       "  <th>Dec_temp</th>        <td>   44.4106</td> <td>  715.624</td> <td>    0.062</td> <td> 0.951</td> <td>-1364.086</td> <td> 1452.907</td>\n",
       "</tr>\n",
       "<tr>\n",
       "  <th>Work_w1</th>         <td> -165.0265</td> <td>  322.219</td> <td>   -0.512</td> <td> 0.609</td> <td> -799.220</td> <td>  469.167</td>\n",
       "</tr>\n",
       "</table>\n",
       "<table class=\"simpletable\">\n",
       "<tr>\n",
       "  <th>Omnibus:</th>       <td>29.023</td> <th>  Durbin-Watson:     </th> <td>   1.960</td>\n",
       "</tr>\n",
       "<tr>\n",
       "  <th>Prob(Omnibus):</th> <td> 0.000</td> <th>  Jarque-Bera (JB):  </th> <td>  10.080</td>\n",
       "</tr>\n",
       "<tr>\n",
       "  <th>Skew:</th>          <td>-0.099</td> <th>  Prob(JB):          </th> <td> 0.00647</td>\n",
       "</tr>\n",
       "<tr>\n",
       "  <th>Kurtosis:</th>      <td> 2.168</td> <th>  Cond. No.          </th> <td>1.35e+16</td>\n",
       "</tr>\n",
       "</table>"
      ],
      "text/plain": [
       "<class 'statsmodels.iolib.summary.Summary'>\n",
       "\"\"\"\n",
       "                            OLS Regression Results                            \n",
       "==============================================================================\n",
       "Dep. Variable:                      y   R-squared:                       0.670\n",
       "Model:                            OLS   Adj. R-squared:                  0.623\n",
       "Method:                 Least Squares   F-statistic:                     14.31\n",
       "Date:                Wed, 11 Oct 2017   Prob (F-statistic):           1.07e-48\n",
       "Time:                        21:48:18   Log-Likelihood:                -2790.7\n",
       "No. Observations:                 331   AIC:                             5665.\n",
       "Df Residuals:                     289   BIC:                             5825.\n",
       "Df Model:                          41                                         \n",
       "Covariance Type:            nonrobust                                         \n",
       "===================================================================================\n",
       "                      coef    std err          t      P>|t|      [0.025      0.975]\n",
       "-----------------------------------------------------------------------------------\n",
       "const            5002.8722    480.670     10.408      0.000    4056.815    5948.929\n",
       "temp              795.0787    764.545      1.040      0.299    -709.704    2299.861\n",
       "temp^2          -1801.8581    819.867     -2.198      0.029   -3415.526    -188.190\n",
       "temp^3              1.6628    278.742      0.006      0.995    -546.958     550.284\n",
       "temp^4            -44.7557    171.933     -0.260      0.795    -383.155     293.643\n",
       "atemp             881.7153    717.029      1.230      0.220    -529.546    2292.976\n",
       "atemp^2          1170.6729    792.462      1.477      0.141    -389.055    2730.401\n",
       "atemp^3          -298.9891    247.662     -1.207      0.228    -786.439     188.461\n",
       "atemp^4           -21.0470    148.500     -0.142      0.887    -313.326     271.231\n",
       "humidity         -676.3519    158.504     -4.267      0.000    -988.320    -364.384\n",
       "humidity^2        -56.5186    155.980     -0.362      0.717    -363.519     250.482\n",
       "humidity^3        -15.0311     45.150     -0.333      0.739    -103.896      73.834\n",
       "humidity^4        -23.9877     31.681     -0.757      0.450     -86.343      38.367\n",
       "windspeed        -447.0797    150.175     -2.977      0.003    -742.655    -151.505\n",
       "windspeed^2       -37.8573    127.862     -0.296      0.767    -289.515     213.801\n",
       "windspeed^3        44.5758     65.712      0.678      0.498     -84.760     173.911\n",
       "windspeed^4       -19.3589     30.476     -0.635      0.526     -79.341      40.623\n",
       "Summer            763.6379    463.746      1.647      0.101    -149.110    1676.386\n",
       "Fall             1564.2796    545.007      2.870      0.004     491.593    2636.966\n",
       "Winter           1493.1626    505.353      2.955      0.003     498.524    2487.801\n",
       "Feb              -325.7395    415.794     -0.783      0.434   -1144.107     492.628\n",
       "Mar              -311.7359    465.982     -0.669      0.504   -1228.885     605.413\n",
       "Apr              -429.5823    676.680     -0.635      0.526   -1761.428     902.264\n",
       "Mar             -1024.8594    711.364     -1.441      0.151   -2424.970     375.251\n",
       "Jun             -1466.6541    734.348     -1.997      0.047   -2912.002     -21.306\n",
       "Jul             -1427.6739    798.423     -1.788      0.075   -2999.136     143.788\n",
       "Aug             -1720.6375    791.728     -2.173      0.031   -3278.922    -162.353\n",
       "Sep             -1055.9093    726.079     -1.454      0.147   -2484.983     373.165\n",
       "Oct              -882.2336    692.220     -1.274      0.204   -2244.665     480.198\n",
       "Nov              -773.6133    656.762     -1.178      0.240   -2066.257     519.030\n",
       "Dec              -480.9222   1027.332     -0.468      0.640   -2502.924    1541.080\n",
       "Holiday          -198.1240    367.617     -0.539      0.590    -921.670     525.422\n",
       "Mon               -83.8820    157.901     -0.531      0.596    -394.663     226.899\n",
       "Tue              -124.6199    186.989     -0.666      0.506    -492.653     243.414\n",
       "Wed               152.6709    197.504      0.773      0.440    -236.058     541.400\n",
       "Thu                35.7101    188.374      0.190      0.850    -335.048     406.469\n",
       "Fri               215.4466    182.875      1.178      0.240    -144.488     575.381\n",
       "Sat               462.4486    248.640      1.860      0.064     -26.926     951.824\n",
       "Workday           393.4497    174.059      2.260      0.025      50.865     736.035\n",
       "Mist              181.8735    309.316      0.588      0.557    -426.924     790.671\n",
       "Light_rain/snow  -923.0406    594.656     -1.552      0.122   -2093.447     247.366\n",
       "Dec_temp           44.4106    715.624      0.062      0.951   -1364.086    1452.907\n",
       "Work_w1          -165.0265    322.219     -0.512      0.609    -799.220     469.167\n",
       "==============================================================================\n",
       "Omnibus:                       29.023   Durbin-Watson:                   1.960\n",
       "Prob(Omnibus):                  0.000   Jarque-Bera (JB):               10.080\n",
       "Skew:                          -0.099   Prob(JB):                      0.00647\n",
       "Kurtosis:                       2.168   Cond. No.                     1.35e+16\n",
       "==============================================================================\n",
       "\n",
       "Warnings:\n",
       "[1] Standard Errors assume that the covariance matrix of the errors is correctly specified.\n",
       "[2] The smallest eigenvalue is 2.1e-28. This might indicate that there are\n",
       "strong multicollinearity problems or that the design matrix is singular.\n",
       "\"\"\""
      ]
     },
     "execution_count": 14,
     "metadata": {},
     "output_type": "execute_result"
    }
   ],
   "source": [
    "df_train_g = df_train.copy()\n",
    "df_test_g = df_test.copy()\n",
    "df_train_g['weather1'] = df_train_g['Mist'] + df_train_g['Light_rain/snow']\n",
    "df_test_g['weather1'] = df_test_g['Mist'] + df_test_g['Light_rain/snow']\n",
    "\n",
    "df_train_g['Dec_temp'] = df_train_g['Dec'] * df_train_g['temp']\n",
    "df_test_g['Dec_temp'] = df_test_g['Dec'] * df_test_g['temp']\n",
    "\n",
    "df_train_g['Work_w1'] = df_train_g['Workday'] * df_train_g['weather1']\n",
    "df_test_g['Work_w1'] = df_test_g['Workday'] * df_test_g['weather1']\n",
    "\n",
    "X_train_inter = df_train_g[[\"Dec_temp\", \"Work_w1\"]]\n",
    "X_test_inter = df_test_g[[\"Dec_temp\", \"Work_w1\"]]\n",
    "\n",
    "X_train_g = X_train_poly.join(X_train_inter)\n",
    "X_test_g = X_test_poly.join(X_test_inter)\n",
    "\n",
    "poly_regression_model = LinearRegression(fit_intercept=True)\n",
    "poly_regression_model.fit(X_train_g, y_train)\n",
    "\n",
    "R2_train_poly = poly_regression_model.score(X_train_g, y_train)\n",
    "R2_test_poly = poly_regression_model.score(X_test_g, y_test)\n",
    "print(\"Train R^2 score is {} and test R^2 score is {}\".format(R2_train_poly, R2_test_poly))\n",
    "\n",
    "X_train_g_sm = sm.add_constant(X_train_g)\n",
    "poly_model = sm.OLS(y_train, X_train_g_sm)\n",
    "results = poly_model.fit()\n",
    "results.summary()"
   ]
  },
  {
   "cell_type": "code",
   "execution_count": 15,
   "metadata": {},
   "outputs": [
    {
     "data": {
      "text/plain": [
       "const        9.373748e-22\n",
       "temp^2       2.876055e-02\n",
       "humidity     2.687093e-05\n",
       "windspeed    3.156613e-03\n",
       "Fall         4.405070e-03\n",
       "Winter       3.387359e-03\n",
       "Jun          4.673872e-02\n",
       "Aug          3.057212e-02\n",
       "Workday      2.453842e-02\n",
       "dtype: float64"
      ]
     },
     "execution_count": 15,
     "metadata": {},
     "output_type": "execute_result"
    }
   ],
   "source": [
    "results.pvalues[results.pvalues < 0.05]"
   ]
  },
  {
   "cell_type": "markdown",
   "metadata": {
    "collapsed": true
   },
   "source": [
    "your answers here"
   ]
  },
  {
   "cell_type": "markdown",
   "metadata": {},
   "source": [
    "## Answer:\n",
    "### 1. For each continuous predictor $X_j$, include additional polynomial terms $X^2_j$, $X^3_j$, and $X^4_j$, and fit a multiple regression model to the expanded training set. How does the $R^2$ of this model on the test set compare with that of the linear model fitted in Part (b) from HW 3? Using a t-test, find out which of estimated coefficients for the polynomial terms are statistically significant at a significance level of 5%. \n",
    "- Part (b) from HW3 gives R^2 score on the test set 0.249342111465, and with additional polynomial terms, now the test R^2 score is 0.2772384350861533. The test R^2 score improved just a little bit, but now we face a more severe problem of overfitting compared to the plain linear regression model.\n",
    "\n",
    "- From the summary table, we can see that the only polynomial term that has a significant level of 5% is temp^2.\n",
    "\n",
    "### 2. Fit a multiple linear regression model with additional interaction terms $\\mathbb{I}_{month = 12} \\times temp$ and $\\mathbb{I}_{workingday = 1} \\times \\mathbb{I}_{weathersit = 1}$ and report the test $R^2$ for the fitted model. How does this compare with the $R^2$ obtained using linear model in Part (b) from HW 3? Are the estimated coefficients for the interaction terms statistically significant at a significance level of 5%?\n",
    "- The test R^2 score for this model with two additional interaction terms is 0.2829779330240646, compared to the R^2 score of 0.249342111465 in HW3 part (b).\n",
    "\n",
    "- We can see from the last two lines in the summary table that the two interaction terms are not statistically significant, and in fact, they are rather insignificant."
   ]
  },
  {
   "cell_type": "markdown",
   "metadata": {},
   "source": [
    "## Part (h): PCA to deal with high dimensionality\n",
    "\n",
    "We would like to fit a model to include all main effects, polynomial terms up to the $4^{th}$ order, and all interactions between all possible predictors and polynomial terms (not including the interactions between $X^1_j$, $X^2_j$, $X^3_j$, and $X^4_j$ as they would just create higher order polynomial terms).  \n",
    "\n",
    "- Create an expanded training set including all the desired terms mentioned above.  What are the dimensions of this 'design matrix' of all the predictor variables?   What are the issues with attempting to fit a regression model using all of these predictors?\n",
    "\n",
    "- Instead of using the usual approaches for model selection, let's instead use principal components analysis (PCA) to fit the model.  First, create the principal component vectors in python (consider: should you normalize first?).  Then fit 5 different regression models: (1) using just the first PCA vector, (2) using the first two PCA vectors, (3) using the first three PCA vectors, etc...  Briefly summarize how these models compare in the training set.\n",
    "\n",
    "- Use the test set to decide which of the 5 models above is best to predict out of sample.  How does this model compare to the previous models you've fit?  What are the interpretations of this model's coefficients?"
   ]
  },
  {
   "cell_type": "code",
   "execution_count": 16,
   "metadata": {},
   "outputs": [
    {
     "name": "stdout",
     "output_type": "stream",
     "text": [
      "number of total predictors 368\n"
     ]
    }
   ],
   "source": [
    "#your code here\n",
    "all_predictors = [col for col in df_train.columns if col not in ['count']]\n",
    "X_non_test = df_train[all_predictors].values\n",
    "X_test = df_test[all_predictors].values\n",
    "y_non_test = df_train['count'].values\n",
    "y_test = df_test['count'].values\n",
    "\n",
    "\n",
    "# Normalize the data first\n",
    "min_max_scaler = MinMaxScaler()\n",
    "X_non_test = min_max_scaler.fit_transform(X_non_test)\n",
    "X_test = min_max_scaler.fit_transform(X_test)\n",
    "\n",
    "X_train_poly2 = min_max_scaler.fit_transform(X_train_poly)\n",
    "X_test_poly2 = min_max_scaler.fit_transform(X_test_poly)\n",
    "\n",
    "\n",
    "# Get all interactions between all possible predictors\n",
    "gen_poly_terms = PolynomialFeatures(interaction_only=True)\n",
    "X_train_interaction = gen_poly_terms.fit_transform(X_non_test)\n",
    "X_test_interaction = gen_poly_terms.fit_transform(X_test)\n",
    "\n",
    "\n",
    "# Combine poly terms and interaction terms\n",
    "X_train_full_poly = np.hstack((X_train_poly2, X_train_interaction))\n",
    "X_test_full_poly = np.hstack((X_test_poly2, X_test_interaction))\n",
    "\n",
    "# convert to pandas dataframe\n",
    "X_train_full_poly = pd.DataFrame(X_train_full_poly)\n",
    "X_test_full_poly = pd.DataFrame(X_test_full_poly)\n",
    "\n",
    "# drop columns with zeros\n",
    "# for example, weather1 x weather2 = 0 always\n",
    "zero_columns = X_train_full_poly.columns[(X_train_full_poly == 0).all()]\n",
    "X_train_full_poly.drop(zero_columns, axis=1, inplace=True)\n",
    "X_test_full_poly.drop(zero_columns, axis=1, inplace=True)\n",
    "# X_train_full_poly = X_train_full_poly.loc[:, (X_train_full_poly != 0).any(axis=0)]\n",
    "# X_test_full_poly = X_test_full_poly.loc[:, (X_test_full_poly != 0).any(axis=0)]\n",
    "\n",
    "print('number of total predictors', X_train_full_poly.shape[1])\n",
    "# print('number of total predictors', X_test_full_poly.shape[1])"
   ]
  },
  {
   "cell_type": "code",
   "execution_count": 17,
   "metadata": {},
   "outputs": [
    {
     "name": "stdout",
     "output_type": "stream",
     "text": [
      "Explained variance ratio: [ 0.1157107]\n",
      "Train R^2: 0.02015971276738393\n",
      "Test R^2: 0.013995374249250125\n"
     ]
    }
   ],
   "source": [
    "# Using just the first PCA vector\n",
    "pca = PCA(n_components=1)\n",
    "pca.fit(X_train_full_poly)\n",
    "X_train_pca = pca.transform(X_train_full_poly)\n",
    "X_test_pca = pca.transform(X_test_full_poly)\n",
    "print('Explained variance ratio:', pca.explained_variance_ratio_)\n",
    "regression_model = LinearRegression(fit_intercept=True)\n",
    "regression_model.fit(X_train_pca, y_non_test)\n",
    "print('Train R^2: {}'.format(regression_model.score(X_train_pca, y_non_test)))\n",
    "print('Test R^2: {}'.format(regression_model.score(X_test_pca, y_test)))"
   ]
  },
  {
   "cell_type": "code",
   "execution_count": 18,
   "metadata": {},
   "outputs": [
    {
     "name": "stdout",
     "output_type": "stream",
     "text": [
      "Explained variance ratio: [ 0.1157107   0.10325266]\n",
      "Train R^2: 0.10454827346002915\n",
      "Test R^2: 0.05769105482405534\n"
     ]
    }
   ],
   "source": [
    "# Using the first two PCA vector\n",
    "pca = PCA(n_components=2)\n",
    "pca.fit(X_train_full_poly)\n",
    "X_train_pca = pca.transform(X_train_full_poly)\n",
    "X_test_pca = pca.transform(X_test_full_poly)\n",
    "print('Explained variance ratio:', pca.explained_variance_ratio_)\n",
    "regression_model = LinearRegression(fit_intercept=True)\n",
    "regression_model.fit(X_train_pca, y_non_test)\n",
    "print('Train R^2: {}'.format(regression_model.score(X_train_pca, y_non_test)))\n",
    "print('Test R^2: {}'.format(regression_model.score(X_test_pca, y_test)))"
   ]
  },
  {
   "cell_type": "code",
   "execution_count": 19,
   "metadata": {},
   "outputs": [
    {
     "name": "stdout",
     "output_type": "stream",
     "text": [
      "Explained variance ratio: [ 0.1157107   0.10325266  0.08260958]\n",
      "Train R^2: 0.1059071027109767\n",
      "Test R^2: 0.06093120839558486\n"
     ]
    }
   ],
   "source": [
    "# Using the first three PCA vector\n",
    "pca = PCA(n_components=3)\n",
    "pca.fit(X_train_full_poly)\n",
    "X_train_pca = pca.transform(X_train_full_poly)\n",
    "X_test_pca = pca.transform(X_test_full_poly)\n",
    "print('Explained variance ratio:', pca.explained_variance_ratio_)\n",
    "regression_model = LinearRegression(fit_intercept=True)\n",
    "regression_model.fit(X_train_pca, y_non_test)\n",
    "print('Train R^2: {}'.format(regression_model.score(X_train_pca, y_non_test)))\n",
    "print('Test R^2: {}'.format(regression_model.score(X_test_pca, y_test)))"
   ]
  },
  {
   "cell_type": "code",
   "execution_count": 20,
   "metadata": {},
   "outputs": [
    {
     "name": "stdout",
     "output_type": "stream",
     "text": [
      "Explained variance ratio: [ 0.1157107   0.10325266  0.08260958  0.05713238]\n",
      "Train R^2: 0.10618816145962717\n",
      "Test R^2: 0.06169906887429322\n"
     ]
    }
   ],
   "source": [
    "# Using the first four PCA vector\n",
    "pca = PCA(n_components=4)\n",
    "pca.fit(X_train_full_poly)\n",
    "X_train_pca = pca.transform(X_train_full_poly)\n",
    "X_test_pca = pca.transform(X_test_full_poly)\n",
    "print('Explained variance ratio:', pca.explained_variance_ratio_)\n",
    "regression_model = LinearRegression(fit_intercept=True)\n",
    "regression_model.fit(X_train_pca, y_non_test)\n",
    "print('Train R^2: {}'.format(regression_model.score(X_train_pca, y_non_test)))\n",
    "print('Test R^2: {}'.format(regression_model.score(X_test_pca, y_test)))"
   ]
  },
  {
   "cell_type": "code",
   "execution_count": 21,
   "metadata": {},
   "outputs": [
    {
     "name": "stdout",
     "output_type": "stream",
     "text": [
      "Explained variance ratio: [ 0.1157107   0.10325266  0.08260958  0.05713238  0.05488041]\n",
      "Train R^2: 0.20677572270112432\n",
      "Test R^2: 0.10398990794767914\n"
     ]
    }
   ],
   "source": [
    "# Using the first five PCA vector\n",
    "pca = PCA(n_components=5)\n",
    "pca.fit(X_train_full_poly)\n",
    "X_train_pca = pca.transform(X_train_full_poly)\n",
    "X_test_pca = pca.transform(X_test_full_poly)\n",
    "print('Explained variance ratio:', pca.explained_variance_ratio_)\n",
    "regression_model = LinearRegression(fit_intercept=True)\n",
    "regression_model.fit(X_train_pca, y_non_test)\n",
    "print('Train R^2: {}'.format(regression_model.score(X_train_pca, y_non_test)))\n",
    "print('Test R^2: {}'.format(regression_model.score(X_test_pca, y_test)))"
   ]
  },
  {
   "cell_type": "markdown",
   "metadata": {},
   "source": [
    "your answers here"
   ]
  },
  {
   "cell_type": "markdown",
   "metadata": {},
   "source": [
    "## Answer:\n",
    "### 1. What are the dimensions of this 'design matrix' of all the predictor variables?   What are the issues with attempting to fit a regression model using all of these predictors?\n",
    "- The matrix has dimension of 331 rows times 368 columns. I dropped the columns containing all zeros because when the interaction is between weather 2 and weather 3, for example, it is 1 * 0 = 0 all the time.\n",
    "- The problem of attemping to fit a regression model with all theses predictors is overfitting. Many of these predictors will have multicollinearity, and thus the model won't have good performance on the test dataset.\n",
    "\n",
    "### 2. Should you normalize first? Briefly summarize how these models compare in the training set.\n",
    "- Yes. Whenever we are doing PCA, we should normalize first. This is because PCA uses variance maximization. If we don't normalize, then each predictor has different variance and this is bad for PCA process.\n",
    "- I used Min-Max to normalize the dataset.\n",
    "\n",
    "### 3. How does this model compare to the previous models you've fit?  What are the interpretations of this model's coefficients?\n",
    "- We can see that with only 5 components, the test R^2 is above 0.1 already. Previously with all polynomial terms and interaction terms, the test R^2 score is above 0.2 and below 0.3. I guess that if we include more PCA components, the test R^2 score will increase.\n",
    "- However, the PCA doesn't magically increase the test R^2 score, it is still relatively low. Maybe PCA is not very useful in this case and this is a question worth for further investigation.\n",
    "- PCA is a very powerful and useful method, but it has tradeoff in interpretation, so that each component doesn't really mean anything real compared to the models before, where each predictor stands for something like temperature, weather, etc.\n",
    "- The first PCA component is the one with the largest variance, and each succeeding component has the next highest variane and is orthogonal to the preceding component."
   ]
  },
  {
   "cell_type": "markdown",
   "metadata": {},
   "source": [
    "## Part (i): Beyond Squared Error\n",
    "\n",
    "We have seen in class that the multiple linear regression method optimizes the Mean Squared Error (MSE) on the training set. Consider the following alternate evaluation metric, referred to as the Root Mean Squared Logarthmic Error (RMSLE):\n",
    "\n",
    "$$\n",
    "\\sqrt{\\frac{1}{n}\\sum_{i=1}^n (log(y_i+1) - log(\\hat{y}_i+1))^2}.\n",
    "$$\n",
    "\n",
    "The *lower* the RMSLE the *better* is the performance of a model. The RMSLE penalizes errors on smaller responses more heavily than errors on larger responses. For example, the RMSLE penalizes a prediction of $\\hat{y} = 15$ for a true response of $y=10$ more heavily than a prediction of $\\hat{y} = 105$ for a true response of $100$, though the difference in predicted and true responses are the same in both cases. \n",
    "\n",
    "This is a natural evaluation metric for bike share demand prediction, as in this application, it is more important that the prediction model is accurate on days where the demand is low (so that the few customers who arrive are served satisfactorily), compared to days on which the demand is high (when it is less damaging to lose out on some customers).\n",
    "\n",
    "The following code computes the RMSLE for you:"
   ]
  },
  {
   "cell_type": "code",
   "execution_count": 22,
   "metadata": {
    "collapsed": true
   },
   "outputs": [],
   "source": [
    "#--------  rmsle\n",
    "# A function for evaluating Root Mean Squared Logarithmic Error (RMSLE)\n",
    "# of the linear regression model on a data set\n",
    "# Input: \n",
    "#      y_test (n x 1 array of response variable vals in testing data)\n",
    "#      y_pred (n x 1 array of response variable vals in testing data)\n",
    "# Return: \n",
    "#      RMSLE (float) \n",
    "\n",
    "def rmsle(y, y_pred):     \n",
    "    # Evaluate sqaured error, against target labels\n",
    "    # rmsle = \\sqrt(1/n \\sum_i (log (y[i]+1) - log (y_pred[i]+1))^2)\n",
    "    rmsle_ = np.sqrt(np.mean(np.square(np.log(y+1) - np.log(y_pred+1))))\n",
    "    \n",
    "    return rmsle_"
   ]
  },
  {
   "cell_type": "markdown",
   "metadata": {},
   "source": [
    "Use the above code to compute the training and test RMSLE for the polynomial regression model you fit in Part (g). \n",
    "\n",
    "You are required to develop a strategy to fit a regression model by optimizing the RMSLE on the training set. Give a justification for your proposed approach. Does the model fitted using your approach yield lower train RMSLE than the model in Part (g)? How about the test RMSLE of the new model? \n",
    "\n",
    "**Note:** We do not require you to implement a new regression solver for RMSLE. Instead, we ask you to think about ways to use existing built-in functions to fit a model that performs well on RMSLE. Your regression model may use the same polynomial terms used in Part (g)."
   ]
  },
  {
   "cell_type": "code",
   "execution_count": 23,
   "metadata": {},
   "outputs": [
    {
     "name": "stdout",
     "output_type": "stream",
     "text": [
      "RMSLE of the training set is 0.7214576597005671 and RMSLE of the test set is 0.8576183145361442\n"
     ]
    }
   ],
   "source": [
    "# your code here\n",
    "y_train = df_train['count'].values\n",
    "y_test = df_test['count'].values\n",
    "poly_regression_model = LinearRegression(fit_intercept=True)\n",
    "poly_regression_model.fit(X_train_poly, y_train)\n",
    "y_hat_train = poly_regression_model.predict(X_train_poly)\n",
    "y_hat_test = poly_regression_model.predict(X_test_poly)\n",
    "\n",
    "# Change negative predicted values to zero\n",
    "# because negative bike rentals do not make sense and \n",
    "# make the rmsle calculation fail\n",
    "y_hat_train[y_hat_train < 0] = 0\n",
    "y_hat_test[y_hat_test < 0] = 0\n",
    "\n",
    "rmsle_train = rmsle(y_train, y_hat_train)\n",
    "rmsle_test = rmsle(y_test, y_hat_test)\n",
    "print(\"RMSLE of the training set is {} and RMSLE of the test set is {}\".format(rmsle_train, rmsle_test))"
   ]
  },
  {
   "cell_type": "code",
   "execution_count": 24,
   "metadata": {},
   "outputs": [
    {
     "name": "stdout",
     "output_type": "stream",
     "text": [
      "RMSLE of the training set is 0.575227483460498 and RMSLE of the test set is 0.6556345575322959\n"
     ]
    }
   ],
   "source": [
    "y_train_mean = y_train.mean()\n",
    "\n",
    "y_hat_train_new = np.empty(331)\n",
    "y_hat_test_new = np.empty(400)\n",
    "y_hat_train_new.fill(y_train_mean)\n",
    "y_hat_test_new.fill(y_train_mean)\n",
    "\n",
    "rmsle_train_new = rmsle(y_train, y_hat_train_new)\n",
    "rmsle_test_new = rmsle(y_test, y_hat_test_new)\n",
    "print(\"RMSLE of the training set is {} and RMSLE of the test set is {}\".format(rmsle_train_new, rmsle_test_new))"
   ]
  },
  {
   "cell_type": "markdown",
   "metadata": {},
   "source": [
    "your answers here"
   ]
  },
  {
   "cell_type": "markdown",
   "metadata": {},
   "source": [
    "## Answer:\n",
    "### You are required to develop a strategy to fit a regression model by optimizing the RMSLE on the training set. Give a justification for your proposed approach. Does the model fitted using your approach yield lower train RMSLE than the model in Part (g)? How about the test RMSLE of the new model? "
   ]
  },
  {
   "cell_type": "markdown",
   "metadata": {},
   "source": [
    "- I used the mean of total number of bike rentals in a given day as the new y_hat for both training and testing dataset.\n",
    "- This model yields a lower train RMSLE and a lower test RMSLE score than the ones in part (g).\n",
    "- My justification is that using the mean in the training dataset to predict test dataset is the easiest and the most convenient way. It is also reasonable, because people registered for bike rental will rent bikes in a fairly fixed way, say people need bikes to school or work. When weather is bad, people tend to be less likely to rent bikes, and different weather also happens in the test set. So the mean from the training set already captured a lot of information for us to predict the unknown future."
   ]
  },
  {
   "cell_type": "markdown",
   "metadata": {},
   "source": [
    "## Part (j): Dealing with Erroneous Labels\n",
    "\n",
    "Due to occasional system crashes, some of the bike counts reported in the data set have been recorded manually. These counts are not very unreliable and are prone to errors. It is known that roughly 5% of the labels in the training set are erroneous (i.e. can be arbitrarily different from the true counts), while all the labels in the test set were confirmed to be accurate. Unfortunately, the identities of the erroneous records in the training set are not available. Can this information about presence of 5% errors in the training set labels (without details about the specific identities of the erroneous rows) be used to improve the performance of the model in Part (g)? Note that we are interested in improving the $R^2$ performance of the model on the test set (not the training $R^2$ score). \n",
    "\n",
    "As a final task, we require you to come up with a strategy to fit a regression model, taking into account the errors in the training set labels. Explain the intuition behind your approach (we do not expect a detailed mathematical justification). Use your approach to fit a regression model on the training set, and compare its test $R^2$ with the model in Part (g).\n",
    "\n",
    "**Note:** Again, we do not require you to implement a new regression solver for handling erroneous labels. It is sufficient that you to come up with an approach that uses existing built-in functions. Your regression model may use the same polynomial terms used in Part (g)."
   ]
  },
  {
   "cell_type": "code",
   "execution_count": 25,
   "metadata": {},
   "outputs": [
    {
     "name": "stdout",
     "output_type": "stream",
     "text": [
      "Test R^2 score is: 0.277238435086\n"
     ]
    }
   ],
   "source": [
    "# your code here\n",
    "# np.sort(y_train)\n",
    "y_train[y_train < np.sort(y_train)[7]] = y_train_mean\n",
    "y_train[y_train > np.sort(y_train)[-7]] = y_train_mean\n",
    "\n",
    "model = LinearRegression(fit_intercept=True)\n",
    "model.fit(X_train_poly, y_train)\n",
    "R2_test_poly = poly_regression_model.score(X_test_poly, y_test)\n",
    "print(\"Test R^2 score is:\", R2_test_poly)"
   ]
  },
  {
   "cell_type": "markdown",
   "metadata": {
    "collapsed": true
   },
   "source": [
    "your answers here"
   ]
  },
  {
   "cell_type": "markdown",
   "metadata": {},
   "source": [
    "## Answer: Intuition\n",
    "- So we know that roughly 5% of the labels in the training set are erroneous. So my tuition is that the \"count\" number will really make a huge difference if it is wrong almost only when it has a huge difference from the true count value.\n",
    "- For example, if true count is 5000 but the person accidentally types it to 500, that will cause problem. But if it is just 4500 to 4600 for example, that is not a disaster usually. \n",
    "- So my intuition is that I will extract the extremely high values and extremely low values, 2.5% in each tail, which adds up to 5%, and make them to be the mean value of the count. Because we are just doing some prediction, and if the model predicts the day will have 8000 bikes, for example, but that day has terrible weather, we can always use heuristics to adjust that.\n",
    "- However, this method does not increase test R^2 and is about the same as in part (g). This means extreme values do not impact model prediction very much. But in other kind of dataset, this method could be potentially useful."
   ]
  },
  {
   "cell_type": "markdown",
   "metadata": {},
   "source": [
    "---\n",
    "--_"
   ]
  },
  {
   "cell_type": "markdown",
   "metadata": {},
   "source": [
    "# APCOMP209a - Homework Question"
   ]
  },
  {
   "cell_type": "markdown",
   "metadata": {},
   "source": [
    "\n",
    "\n",
    "##  Question 1: Student's t MLE\n",
    "\n",
    "Use Maximum Likelihood Estimation to generate a linear regression model on the data provided in ``beerdata.csv`` considering two statistical models for noise: a) iid Normal and b) iid Student's t-distribution with $\\nu=5$ and scale factor σ=0.5.  \n",
    "\n",
    "Compare the two models performances and comment why it is perhaps appropriate to use the Student's t-distribution instead of the Normal? \n",
    "\n",
    "\n",
    "\n",
    "\n",
    "\n",
    "HINTS:\n",
    "1. Use the probability density function for the Student's t distribution  with location μ and scale factor σ.\n",
    "2. If the MLE regressions coefficients can not be derived analytically consider numerical methods.\n",
    "3. You can use sklearn or statsmodel for the Normal case \n",
    "\n",
    "\n"
   ]
  },
  {
   "cell_type": "code",
   "execution_count": 26,
   "metadata": {},
   "outputs": [
    {
     "data": {
      "text/html": [
       "<div>\n",
       "<style>\n",
       "    .dataframe thead tr:only-child th {\n",
       "        text-align: right;\n",
       "    }\n",
       "\n",
       "    .dataframe thead th {\n",
       "        text-align: left;\n",
       "    }\n",
       "\n",
       "    .dataframe tbody tr th {\n",
       "        vertical-align: top;\n",
       "    }\n",
       "</style>\n",
       "<table border=\"1\" class=\"dataframe\">\n",
       "  <thead>\n",
       "    <tr style=\"text-align: right;\">\n",
       "      <th></th>\n",
       "      <th>x</th>\n",
       "      <th>y</th>\n",
       "    </tr>\n",
       "  </thead>\n",
       "  <tbody>\n",
       "    <tr>\n",
       "      <th>0</th>\n",
       "      <td>0.760083</td>\n",
       "      <td>9.616565</td>\n",
       "    </tr>\n",
       "    <tr>\n",
       "      <th>1</th>\n",
       "      <td>0.766794</td>\n",
       "      <td>8.652492</td>\n",
       "    </tr>\n",
       "    <tr>\n",
       "      <th>2</th>\n",
       "      <td>0.504173</td>\n",
       "      <td>7.653462</td>\n",
       "    </tr>\n",
       "    <tr>\n",
       "      <th>3</th>\n",
       "      <td>0.357411</td>\n",
       "      <td>7.984081</td>\n",
       "    </tr>\n",
       "    <tr>\n",
       "      <th>4</th>\n",
       "      <td>0.730932</td>\n",
       "      <td>9.080448</td>\n",
       "    </tr>\n",
       "  </tbody>\n",
       "</table>\n",
       "</div>"
      ],
      "text/plain": [
       "          x         y\n",
       "0  0.760083  9.616565\n",
       "1  0.766794  8.652492\n",
       "2  0.504173  7.653462\n",
       "3  0.357411  7.984081\n",
       "4  0.730932  9.080448"
      ]
     },
     "execution_count": 26,
     "metadata": {},
     "output_type": "execute_result"
    }
   ],
   "source": [
    "from scipy.optimize import minimize\n",
    "from scipy.stats import t\n",
    "from sklearn.model_selection import train_test_split\n",
    "import math\n",
    "\n",
    "df_beer=pd.read_csv(\"data/beerdata.csv\", index_col = 0)\n",
    "df_beer.head()"
   ]
  },
  {
   "cell_type": "code",
   "execution_count": 27,
   "metadata": {},
   "outputs": [
    {
     "data": {
      "text/plain": [
       "array([ 4.64260015,  6.3284622 ])"
      ]
     },
     "execution_count": 27,
     "metadata": {},
     "output_type": "execute_result"
    }
   ],
   "source": [
    "X_beer = sm.add_constant(df_beer['x'])\n",
    "y_beer = df_beer['y']\n",
    "\n",
    "X_beer_train, X_beer_test, y_beer_train, y_beer_test = train_test_split(X_beer,y_beer,test_size = 0.2,random_state=88)\n",
    "w_normal = np.linalg.inv(X_beer_train.T.dot(X_beer_train)).dot(X_beer_train.T).dot(y_beer_train)\n",
    "w_normal"
   ]
  },
  {
   "cell_type": "code",
   "execution_count": 28,
   "metadata": {},
   "outputs": [
    {
     "data": {
      "text/plain": [
       "array([ 5.06698616,  5.40853162])"
      ]
     },
     "execution_count": 28,
     "metadata": {},
     "output_type": "execute_result"
    }
   ],
   "source": [
    "def loss(w):\n",
    "    X = np.array(X_beer)\n",
    "    y = np.array(y_beer)\n",
    "    n = X.shape[0]\n",
    "    likelihood = 0\n",
    "    for i in range(n):\n",
    "        \n",
    "        likelihood += math.log(1 + t.pdf(y[i] - X[i].dot(w), df=5, loc=0, scale=0.5))\n",
    "\n",
    "    \n",
    "    likelihood = -likelihood\n",
    "    return likelihood\n",
    "\n",
    "w_student_init = np.array([[0], \n",
    "                           [0]])\n",
    "\n",
    "w_student = minimize(loss, w_student_init).x\n",
    "w_student"
   ]
  },
  {
   "cell_type": "code",
   "execution_count": 29,
   "metadata": {},
   "outputs": [
    {
     "name": "stdout",
     "output_type": "stream",
     "text": [
      "train R^2 score using normal: 0.92161800186\n",
      "test R^2 score using normal: 0.634001912261\n"
     ]
    }
   ],
   "source": [
    "y_hat_train_normal = X_beer_train.dot(w_normal)\n",
    "y_hat_test_normal = X_beer_test.dot(w_normal)\n",
    "y_hat_normal = X_beer.dot(w_normal)\n",
    "\n",
    "train_R2_normal = r2_score(y_beer_train, y_hat_train_normal)\n",
    "test_R2_normal = r2_score(y_beer_test, y_hat_test_normal)\n",
    "print(\"train R^2 score using normal:\", train_R2_normal)\n",
    "print(\"test R^2 score using normal:\", test_R2_normal)"
   ]
  },
  {
   "cell_type": "code",
   "execution_count": 30,
   "metadata": {},
   "outputs": [
    {
     "name": "stdout",
     "output_type": "stream",
     "text": [
      "train R^2 score using student: 0.90214322338\n",
      "test R^2 score using student: 0.707785975453\n"
     ]
    }
   ],
   "source": [
    "y_hat_train_student = X_beer_train.dot(w_student)\n",
    "y_hat_test_student = X_beer_test.dot(w_student)\n",
    "y_hat_student = X_beer.dot(w_student)\n",
    "\n",
    "train_R2_student = r2_score(y_beer_train, y_hat_train_student)\n",
    "test_R2_student = r2_score(y_beer_test, y_hat_test_student)\n",
    "print(\"train R^2 score using student:\", train_R2_student)\n",
    "print(\"test R^2 score using student:\", test_R2_student)"
   ]
  },
  {
   "cell_type": "code",
   "execution_count": 31,
   "metadata": {},
   "outputs": [
    {
     "data": {
      "text/plain": [
       "<matplotlib.legend.Legend at 0x117d974e0>"
      ]
     },
     "execution_count": 31,
     "metadata": {},
     "output_type": "execute_result"
    },
    {
     "data": {
      "image/png": "[encoded data removed]",
      "text/plain": [
       "<matplotlib.figure.Figure at 0x10653c0f0>"
      ]
     },
     "metadata": {},
     "output_type": "display_data"
    }
   ],
   "source": [
    "plt.scatter(X_beer.x, y_beer, label = \"raw\", color=\"grey\", alpha=0.2)\n",
    "plt.scatter(X_beer.x, y_hat_normal, label = \"normal\", color=\"blue\")\n",
    "plt.scatter(X_beer.x, y_hat_student, label = \"student\", color=\"green\")\n",
    "plt.legend()"
   ]
  },
  {
   "cell_type": "markdown",
   "metadata": {},
   "source": [
    "## Answer: Compare the two models performances and comment why it is perhaps appropriate to use the Student's t-distribution instead of the Normal?\n",
    "- Because the assumption that the noise is a normal distribution is more strict than a t-distribution. And we can see that when test size is not very big, the R^2 score is higher if we use t-distribution than normal distribution."
   ]
  },
  {
   "cell_type": "markdown",
   "metadata": {},
   "source": [
    "## Question 2 (continued from HW2) \n",
    "\n",
    "Read sections 1 and 2 of this [paper](https://www.researchgate.net/profile/Roberto_Togneri/publication/45094554_Linear_Regression_for_Face_Recognition/links/09e4150d243bd8b987000000/Linear-Regression-for-Face-Recognition.pdf). \n",
    "\n",
    "Briefly, the model leverages the concept that \"patterns from a single-object class lie on a linear subspace.\"   It also makes use of the idea of linear regression as a problem about projections.  In this case, given a vector $y$, the goal is to find the subspace induced by $\\mathrm{Col} \\, \\mathbf X$ that produced the 'closest' projection vector $\\widehat y$ to the original $y$.  \n",
    "\n",
    "### Question 2a\n",
    "\n",
    "As discussed in the paper, our face dataset contains cleaned images of faces belonging to different people. Assuming that patterns (faces) from one class (person) are elements of the same subspace, let's try to classify an unknown face using the method presented in the paper.  For each class $i$, we need to:\n",
    "\n",
    "1. construct the $\\mathbf H_i$ hat matrix from known faces, being careful to follow the column concatenation step described in the paper to convert an image into its vector representation;\n",
    "2. calculate the predicted $\\widehat y_i$, the closest vector in $\\mathrm{Col} \\, \\mathbf X_i$ to $y$; and\n",
    "3. calculate the magnitude of the difference vector between $y$ and $\\widehat y_i$.\n",
    "\n",
    "You should then be able to make a classification decision.\n",
    "\n",
    "**Notes:**\n",
    "- Use the provided code to download and re-sample the dataset.\n",
    "- Follow the normalisation step in the paper to ensure the \"maximum pixel value is 1\".\n",
    "- Your classifier should have approximately an 80% accuracy.\n",
    "- Use the image plotting library of matplotlib to display one (or two) correctly classified faces and the known faces.\n",
    "- Use the image plotting library of matplotlib to display one (or two) incorrectly classified faces and the known faces.\n",
    "    \n",
    "### Question 2b - Significant Faces\n",
    "Select an example of a correctly classified face. Use statsmodels to investigate the most predictive columns (faces) that the model used in this regression:\n",
    "\n",
    "(i) Which columns (i.e. faces) make the highest contribution to the projection?\n",
    "\n",
    "(ii) Which columns (i.e. faces) are the least useful in making this projection?\n",
    "\n",
    "Plot the correctly assigned face, and the two faces from the questions (i) and (ii). What do you notice about these faces?"
   ]
  },
  {
   "cell_type": "code",
   "execution_count": 32,
   "metadata": {},
   "outputs": [
    {
     "name": "stderr",
     "output_type": "stream",
     "text": [
      "/Applications/anaconda/lib/python3.6/site-packages/sklearn/cross_validation.py:44: DeprecationWarning: This module was deprecated in version 0.18 in favor of the model_selection module into which all the refactored classes and functions are moved. Also note that the interface of the new CV iterators are different from that of this module. This module will be removed in 0.20.\n",
      "  \"This module will be removed in 0.20.\", DeprecationWarning)\n"
     ]
    }
   ],
   "source": [
    "from io import BytesIO\n",
    "from zipfile import ZipFile\n",
    "import urllib\n",
    "import os\n",
    "\n",
    "# Note that you may need to run the following command to install Python Image Library (PIL)\n",
    "#pip install Pillow\n",
    "from PIL import Image\n",
    "import numpy as np\n",
    "from sklearn.cross_validation import train_test_split\n",
    "\n",
    "import matplotlib\n",
    "import matplotlib.pyplot as plt\n",
    "\n",
    "%matplotlib inline"
   ]
  },
  {
   "cell_type": "code",
   "execution_count": 33,
   "metadata": {
    "collapsed": true
   },
   "outputs": [],
   "source": [
    "# starter functions provided to students\n",
    "def rgb2gray(rgb):\n",
    "    '''\n",
    "    function to convert RGB image to gray scale\n",
    "    accepts 3D numpy array and returns 2D array with same dimensions\n",
    "    as the first two dimensions of input\n",
    "    '''\n",
    "    \n",
    "    return np.dot(rgb[...,:3], [0.299, 0.587, 0.114])\n",
    "\n",
    "def fetch_and_read_data(shape=(50,30)):\n",
    "    \n",
    "    '''\n",
    "    Function to download image data, store in a local folder (note this is 18.4mb), only download the data when\n",
    "    the local folder is not present, read in the images, downsample them to the specified shape (default = (50x30) (rows x cols))\n",
    "    and finally split them into a four tuple return object.\n",
    "    \n",
    "    Returns:\n",
    "        - 1) training image data (i.e. images that should form the predictor matrix in your solution)\n",
    "        - 2) training image data labels (i.e. labels from 1 to 50 that identify which face (1) belongs to)\n",
    "        - 3) testing image data (i.e. data that you should use to try and classify - note this forms the predictor variable in your regression)\n",
    "        - 4) testing image data labels (i.e. the labels for (3) - this is to allow you to evaluate your model)\n",
    "    \n",
    "    ___________________\n",
    "    Aside:\n",
    "    If you want to change the sampling dimensions of your data, pass the shape = (x,y) argument to the method where\n",
    "    y is the number of columns and x is the number of rows in the image.\n",
    "    '''\n",
    "    \n",
    "    if not os.path.exists('./cropped_faces'):\n",
    "        url = urllib.request.urlopen(\"http://www.anefian.com/research/GTdb_crop.zip\")\n",
    "        \n",
    "        zipfile = ZipFile(BytesIO(url.read()))\n",
    "        zipfile.extractall()\n",
    "     \n",
    "    data = []\n",
    "    labels = []\n",
    "    \n",
    "    files = os.listdir('cropped_faces')\n",
    "    for f in files:\n",
    "        if '.jpg' in f:\n",
    "            image = Image.open('cropped_faces/' + f)\n",
    "            image = image.resize((shape[1], shape[0]))\n",
    "            data.append(rgb2gray(np.asarray(image)))\n",
    "            labels.append(int(f.split('_')[0][1:]) - 1)\n",
    "            \n",
    "    data = np.array(data)\n",
    "    \n",
    "    trainX, testX, trainY, testY = train_test_split(data, labels, test_size=0.2, stratify=labels)\n",
    "    return np.array(trainX), np.array(testX), np.array(trainY), np.array(testY)"
   ]
  },
  {
   "cell_type": "code",
   "execution_count": 34,
   "metadata": {
    "scrolled": true
   },
   "outputs": [
    {
     "data": {
      "image/png": "[encoded data removed]",
      "text/plain": [
       "<matplotlib.figure.Figure at 0x11762e5f8>"
      ]
     },
     "metadata": {},
     "output_type": "display_data"
    }
   ],
   "source": [
    "# starter code for the students\n",
    "train_dataset, test_dataset, train_labels, test_labels = fetch_and_read_data()\n",
    "\n",
    "# code to plot some of the images\n",
    "fig, axes = plt.subplots(2,4,figsize=(10,5))\n",
    "axes = axes.flatten()\n",
    "[axes[i].imshow(train_dataset[i], cmap='gray') for i in range(len(axes))]\n",
    "plt.show()"
   ]
  },
  {
   "cell_type": "code",
   "execution_count": 35,
   "metadata": {
    "collapsed": true
   },
   "outputs": [],
   "source": [
    "# X0 = train_dataset[train_labels == 0]\n",
    "# X1 = train_dataset[train_labels == 1]\n",
    "\n",
    "# X1_concat = X1.swapaxes(1,2).reshape(1500, 12)\n",
    "# min_max_scaler = MinMaxScaler()\n",
    "\n",
    "# X1_new = np.zeros((1500, 12))\n",
    "# for i in range(12):\n",
    "#     col = min_max_scaler.fit_transform(X1_concat[:,i].reshape(-1,1))\n",
    "#     X1_new[:,i] = col.reshape(1500)\n",
    "\n",
    "# X1_concat.shape\n",
    "\n",
    "# (X1_concat[:,1]).reshape(50, 30)\n",
    "# plt.imshow(X1_concat[:,1].reshape(30, 50))\n"
   ]
  },
  {
   "cell_type": "markdown",
   "metadata": {},
   "source": [
    "### Question 2a Answer"
   ]
  },
  {
   "cell_type": "code",
   "execution_count": 36,
   "metadata": {},
   "outputs": [
    {
     "name": "stdout",
     "output_type": "stream",
     "text": [
      "[15  0 17 49 24 31  4  0  8 41 39  1 25 35 35 38 32 46 15 40  9 47 34 39 49\n",
      " 34  9 37 34 13 20 44  3  7 11 22 21 47 40 39  2 10 10 38 12 45 36 26 37  5\n",
      "  2 14 18 20 30 26 13 42 37  5 43 35 18 23 44 14  7  9 22 28 29 24 28  7  8\n",
      " 33 36 44  5 10 40 48 45  8 19  1 31 45 20 33 23 25 23 42 28 41 46 33  4 25\n",
      " 29 42  4 43 27 30  6  0 49 18 32 31 19 32 16 30 14  3 36 11 17 27 48 27 22\n",
      " 21 13 19 15 11 12 46  6  3 38 16 24 16  2 48  1 26 47 43 29 12  6 41 21 17]\n",
      "[15, 0, 6, 49, 24, 31, 4, 0, 13, 41, 3, 1, 25, 35, 35, 38, 32, 46, 3, 40, 9, 47, 28, 39, 49, 34, 9, 37, 17, 13, 20, 4, 28, 8, 11, 22, 21, 47, 32, 7, 2, 21, 1, 22, 12, 24, 36, 26, 37, 5, 2, 14, 18, 20, 30, 26, 2, 42, 37, 5, 43, 35, 18, 23, 47, 14, 7, 9, 22, 28, 29, 6, 22, 7, 28, 33, 36, 0, 27, 22, 40, 48, 45, 8, 19, 1, 31, 45, 17, 33, 23, 25, 23, 42, 28, 41, 46, 33, 4, 25, 29, 42, 4, 15, 27, 30, 6, 34, 49, 0, 32, 13, 19, 32, 17, 30, 14, 3, 36, 11, 17, 27, 48, 27, 22, 0, 13, 19, 3, 11, 12, 46, 6, 3, 38, 16, 24, 16, 2, 48, 1, 26, 47, 43, 29, 34, 38, 41, 1, 17]\n"
     ]
    }
   ],
   "source": [
    "def hat(X):\n",
    "    return X.dot(np.linalg.inv(X.T.dot(X))).dot(X.T)\n",
    "\n",
    "\n",
    "Hs = []\n",
    "\n",
    "for i in range(50):\n",
    "    X = train_dataset[train_labels == i]\n",
    "    X_concat = X.swapaxes(1,2).reshape(12, 1500).T\n",
    "    X_new = np.zeros((1500,12))\n",
    "    for i in range(12):\n",
    "        col = min_max_scaler.fit_transform(X_concat[:, i].reshape(-1,1))\n",
    "        X_new[:,i] = col.reshape(1500)   \n",
    "    Hs.append( hat(X_new) )\n",
    "    \n",
    "    \n",
    "prediction = [];\n",
    "for test_img in test_dataset:\n",
    "    y_hat = []\n",
    "    \n",
    "    img_vector = test_img.T.flatten().T\n",
    "    img_vector = (img_vector - min(img_vector))\n",
    "    img_vector = img_vector / max(img_vector)\n",
    "    \n",
    "    dy = [0]*50\n",
    "    \n",
    "    for i in range(50):\n",
    "        y_hat_i = (Hs[i]).dot(img_vector)\n",
    "        # y_hat.append( y_hat_i )\n",
    "        dy[i] = np.linalg.norm(y_hat_i - img_vector)\n",
    "    \n",
    "        \n",
    "    prediction.append( np.argmin( dy )  )\n",
    "\n",
    "for i in range(len(test_dataset)):\n",
    "    if test_labels[i] == prediction[i]:\n",
    "        correct_img = test_dataset[i]\n",
    "        correct_class = test_labels[i]\n",
    "        break\n",
    "\n",
    "for i in range(len(test_dataset)):\n",
    "    if test_labels[i] != prediction[i]:\n",
    "        wrong_img = test_dataset[i]\n",
    "        wrong_class = test_labels[i]\n",
    "        break\n",
    "    \n",
    "\n",
    "print(test_labels)    \n",
    "print(prediction)\n",
    "\n",
    "# wrong = ( np.array(test_labels) - np.array(prediction) ).nonzero()"
   ]
  },
  {
   "cell_type": "code",
   "execution_count": 37,
   "metadata": {},
   "outputs": [
    {
     "name": "stdout",
     "output_type": "stream",
     "text": [
      "The rate of correct classification is: 0.7733333333333333\n"
     ]
    }
   ],
   "source": [
    "correct_rate = 1 - ( np.array(test_labels) - np.array(prediction) ).nonzero()[0].shape[0] / test_labels.shape[0]\n",
    "print(\"The rate of correct classification is:\", correct_rate)"
   ]
  },
  {
   "cell_type": "code",
   "execution_count": 38,
   "metadata": {},
   "outputs": [
    {
     "name": "stdout",
     "output_type": "stream",
     "text": [
      "15\n",
      "17\n"
     ]
    }
   ],
   "source": [
    "print(correct_class)\n",
    "print(wrong_class)"
   ]
  },
  {
   "cell_type": "code",
   "execution_count": 39,
   "metadata": {},
   "outputs": [
    {
     "data": {
      "image/png": "[encoded data removed]",
      "text/plain": [
       "<matplotlib.figure.Figure at 0x116b9e128>"
      ]
     },
     "metadata": {},
     "output_type": "display_data"
    }
   ],
   "source": [
    "# Correctly Classified Face\n",
    "plt.imshow(correct_img, cmap='gray')\n",
    "plt.show()"
   ]
  },
  {
   "cell_type": "code",
   "execution_count": 40,
   "metadata": {},
   "outputs": [
    {
     "data": {
      "image/png": "[encoded data removed]",
      "text/plain": [
       "<matplotlib.figure.Figure at 0x11988a710>"
      ]
     },
     "metadata": {},
     "output_type": "display_data"
    }
   ],
   "source": [
    "# Known faces\n",
    "train_class_correct = train_dataset[train_labels == correct_class]\n",
    "fig, axes = plt.subplots(3,4,figsize=(12,6))\n",
    "axes = axes.flatten()\n",
    "[axes[i].imshow(train_class_correct[i], cmap='gray') for i in range(len(axes))]\n",
    "plt.show()"
   ]
  },
  {
   "cell_type": "code",
   "execution_count": 41,
   "metadata": {},
   "outputs": [
    {
     "data": {
      "image/png": "[encoded data removed]",
      "text/plain": [
       "<matplotlib.figure.Figure at 0x119bbb8d0>"
      ]
     },
     "metadata": {},
     "output_type": "display_data"
    }
   ],
   "source": [
    "# Incorrectly Classified Face\n",
    "plt.imshow(wrong_img, cmap='gray')\n",
    "plt.show()"
   ]
  },
  {
   "cell_type": "code",
   "execution_count": 42,
   "metadata": {},
   "outputs": [
    {
     "data": {
      "image/png": "[encoded data removed]",
      "text/plain": [
       "<matplotlib.figure.Figure at 0x14fb3f550>"
      ]
     },
     "metadata": {},
     "output_type": "display_data"
    }
   ],
   "source": [
    "# Known faces\n",
    "train_class_wrong = train_dataset[train_labels == wrong_class]\n",
    "fig, axes = plt.subplots(3,4,figsize=(12,6))\n",
    "axes = axes.flatten()\n",
    "[axes[i].imshow(train_class_wrong[i], cmap='gray') for i in range(len(axes))]\n",
    "plt.show()"
   ]
  },
  {
   "cell_type": "markdown",
   "metadata": {},
   "source": [
    "### Question 2b Answer"
   ]
  },
  {
   "cell_type": "code",
   "execution_count": 43,
   "metadata": {},
   "outputs": [
    {
     "data": {
      "text/html": [
       "<table class=\"simpletable\">\n",
       "<caption>OLS Regression Results</caption>\n",
       "<tr>\n",
       "  <th>Dep. Variable:</th>            <td>y</td>        <th>  R-squared:         </th> <td>   0.010</td> \n",
       "</tr>\n",
       "<tr>\n",
       "  <th>Model:</th>                   <td>OLS</td>       <th>  Adj. R-squared:    </th> <td>   0.002</td> \n",
       "</tr>\n",
       "<tr>\n",
       "  <th>Method:</th>             <td>Least Squares</td>  <th>  F-statistic:       </th> <td>   1.289</td> \n",
       "</tr>\n",
       "<tr>\n",
       "  <th>Date:</th>             <td>Wed, 11 Oct 2017</td> <th>  Prob (F-statistic):</th>  <td> 0.218</td>  \n",
       "</tr>\n",
       "<tr>\n",
       "  <th>Time:</th>                 <td>21:48:34</td>     <th>  Log-Likelihood:    </th> <td> -7633.4</td> \n",
       "</tr>\n",
       "<tr>\n",
       "  <th>No. Observations:</th>      <td>  1500</td>      <th>  AIC:               </th> <td>1.529e+04</td>\n",
       "</tr>\n",
       "<tr>\n",
       "  <th>Df Residuals:</th>          <td>  1487</td>      <th>  BIC:               </th> <td>1.536e+04</td>\n",
       "</tr>\n",
       "<tr>\n",
       "  <th>Df Model:</th>              <td>    12</td>      <th>                     </th>     <td> </td>    \n",
       "</tr>\n",
       "<tr>\n",
       "  <th>Covariance Type:</th>      <td>nonrobust</td>    <th>                     </th>     <td> </td>    \n",
       "</tr>\n",
       "</table>\n",
       "<table class=\"simpletable\">\n",
       "<tr>\n",
       "    <td></td>       <th>coef</th>     <th>std err</th>      <th>t</th>      <th>P>|t|</th>  <th>[0.025</th>    <th>0.975]</th>  \n",
       "</tr>\n",
       "<tr>\n",
       "  <th>const</th> <td>   63.3279</td> <td>    2.478</td> <td>   25.557</td> <td> 0.000</td> <td>   58.467</td> <td>   68.188</td>\n",
       "</tr>\n",
       "<tr>\n",
       "  <th>x1</th>    <td>  -21.5289</td> <td>   12.168</td> <td>   -1.769</td> <td> 0.077</td> <td>  -45.398</td> <td>    2.340</td>\n",
       "</tr>\n",
       "<tr>\n",
       "  <th>x2</th>    <td>   31.8470</td> <td>   14.191</td> <td>    2.244</td> <td> 0.025</td> <td>    4.011</td> <td>   59.683</td>\n",
       "</tr>\n",
       "<tr>\n",
       "  <th>x3</th>    <td>  -11.2710</td> <td>   14.024</td> <td>   -0.804</td> <td> 0.422</td> <td>  -38.781</td> <td>   16.239</td>\n",
       "</tr>\n",
       "<tr>\n",
       "  <th>x4</th>    <td>    2.4256</td> <td>   13.890</td> <td>    0.175</td> <td> 0.861</td> <td>  -24.819</td> <td>   29.671</td>\n",
       "</tr>\n",
       "<tr>\n",
       "  <th>x5</th>    <td>  -17.5141</td> <td>   14.547</td> <td>   -1.204</td> <td> 0.229</td> <td>  -46.049</td> <td>   11.021</td>\n",
       "</tr>\n",
       "<tr>\n",
       "  <th>x6</th>    <td>   17.8022</td> <td>   13.674</td> <td>    1.302</td> <td> 0.193</td> <td>   -9.019</td> <td>   44.624</td>\n",
       "</tr>\n",
       "<tr>\n",
       "  <th>x7</th>    <td>   -4.6981</td> <td>   13.719</td> <td>   -0.342</td> <td> 0.732</td> <td>  -31.609</td> <td>   22.213</td>\n",
       "</tr>\n",
       "<tr>\n",
       "  <th>x8</th>    <td>   25.5089</td> <td>   14.190</td> <td>    1.798</td> <td> 0.072</td> <td>   -2.326</td> <td>   53.344</td>\n",
       "</tr>\n",
       "<tr>\n",
       "  <th>x9</th>    <td>  -12.1878</td> <td>   14.380</td> <td>   -0.848</td> <td> 0.397</td> <td>  -40.395</td> <td>   16.020</td>\n",
       "</tr>\n",
       "<tr>\n",
       "  <th>x10</th>   <td>    2.1021</td> <td>   14.414</td> <td>    0.146</td> <td> 0.884</td> <td>  -26.172</td> <td>   30.376</td>\n",
       "</tr>\n",
       "<tr>\n",
       "  <th>x11</th>   <td>    3.1964</td> <td>   13.904</td> <td>    0.230</td> <td> 0.818</td> <td>  -24.077</td> <td>   30.470</td>\n",
       "</tr>\n",
       "<tr>\n",
       "  <th>x12</th>   <td>   -2.0692</td> <td>   12.258</td> <td>   -0.169</td> <td> 0.866</td> <td>  -26.114</td> <td>   21.976</td>\n",
       "</tr>\n",
       "</table>\n",
       "<table class=\"simpletable\">\n",
       "<tr>\n",
       "  <th>Omnibus:</th>       <td>724.757</td> <th>  Durbin-Watson:     </th> <td>   0.260</td>\n",
       "</tr>\n",
       "<tr>\n",
       "  <th>Prob(Omnibus):</th> <td> 0.000</td>  <th>  Jarque-Bera (JB):  </th> <td>  81.017</td>\n",
       "</tr>\n",
       "<tr>\n",
       "  <th>Skew:</th>          <td> 0.040</td>  <th>  Prob(JB):          </th> <td>2.55e-18</td>\n",
       "</tr>\n",
       "<tr>\n",
       "  <th>Kurtosis:</th>      <td> 1.864</td>  <th>  Cond. No.          </th> <td>    31.8</td>\n",
       "</tr>\n",
       "</table>"
      ],
      "text/plain": [
       "<class 'statsmodels.iolib.summary.Summary'>\n",
       "\"\"\"\n",
       "                            OLS Regression Results                            \n",
       "==============================================================================\n",
       "Dep. Variable:                      y   R-squared:                       0.010\n",
       "Model:                            OLS   Adj. R-squared:                  0.002\n",
       "Method:                 Least Squares   F-statistic:                     1.289\n",
       "Date:                Wed, 11 Oct 2017   Prob (F-statistic):              0.218\n",
       "Time:                        21:48:34   Log-Likelihood:                -7633.4\n",
       "No. Observations:                1500   AIC:                         1.529e+04\n",
       "Df Residuals:                    1487   BIC:                         1.536e+04\n",
       "Df Model:                          12                                         \n",
       "Covariance Type:            nonrobust                                         \n",
       "==============================================================================\n",
       "                 coef    std err          t      P>|t|      [0.025      0.975]\n",
       "------------------------------------------------------------------------------\n",
       "const         63.3279      2.478     25.557      0.000      58.467      68.188\n",
       "x1           -21.5289     12.168     -1.769      0.077     -45.398       2.340\n",
       "x2            31.8470     14.191      2.244      0.025       4.011      59.683\n",
       "x3           -11.2710     14.024     -0.804      0.422     -38.781      16.239\n",
       "x4             2.4256     13.890      0.175      0.861     -24.819      29.671\n",
       "x5           -17.5141     14.547     -1.204      0.229     -46.049      11.021\n",
       "x6            17.8022     13.674      1.302      0.193      -9.019      44.624\n",
       "x7            -4.6981     13.719     -0.342      0.732     -31.609      22.213\n",
       "x8            25.5089     14.190      1.798      0.072      -2.326      53.344\n",
       "x9           -12.1878     14.380     -0.848      0.397     -40.395      16.020\n",
       "x10            2.1021     14.414      0.146      0.884     -26.172      30.376\n",
       "x11            3.1964     13.904      0.230      0.818     -24.077      30.470\n",
       "x12           -2.0692     12.258     -0.169      0.866     -26.114      21.976\n",
       "==============================================================================\n",
       "Omnibus:                      724.757   Durbin-Watson:                   0.260\n",
       "Prob(Omnibus):                  0.000   Jarque-Bera (JB):               81.017\n",
       "Skew:                           0.040   Prob(JB):                     2.55e-18\n",
       "Kurtosis:                       1.864   Cond. No.                         31.8\n",
       "==============================================================================\n",
       "\n",
       "Warnings:\n",
       "[1] Standard Errors assume that the covariance matrix of the errors is correctly specified.\n",
       "\"\"\""
      ]
     },
     "execution_count": 43,
     "metadata": {},
     "output_type": "execute_result"
    }
   ],
   "source": [
    "train_class_correct = train_dataset[train_labels == correct_class]\n",
    "images = train_class_correct.swapaxes(1,2).reshape(1500, 12)\n",
    "\n",
    "\n",
    "for i, col in enumerate(images.T):\n",
    "    col = col - min(col)\n",
    "    col = col / max(col)\n",
    "    images[:,i] = col.T\n",
    "\n",
    "\n",
    "correct_img_copy = correct_img.copy()\n",
    "correct_img_copy = correct_img.flatten()\n",
    "\n",
    "\n",
    "\n",
    "images = sm.add_constant(images)\n",
    "\n",
    "model = sm.OLS(correct_img_copy, images)\n",
    "results = model.fit()\n",
    "results.summary()"
   ]
  },
  {
   "cell_type": "code",
   "execution_count": 44,
   "metadata": {},
   "outputs": [
    {
     "name": "stdout",
     "output_type": "stream",
     "text": [
      "2\n",
      "10\n"
     ]
    }
   ],
   "source": [
    "temp = results.pvalues.argsort()\n",
    "ranks = np.empty(len(results.pvalues), int)\n",
    "ranks[temp] = np.arange(len(results.pvalues))\n",
    "ranks\n",
    "\n",
    "most_useful_index = np.argwhere(ranks==1)[0][0]\n",
    "least_useful_index = np.argwhere(ranks==12)[0][0]\n",
    "print(most_useful_index)\n",
    "print(least_useful_index)"
   ]
  },
  {
   "cell_type": "code",
   "execution_count": 45,
   "metadata": {},
   "outputs": [
    {
     "data": {
      "image/png": "[encoded data removed]",
      "text/plain": [
       "<matplotlib.figure.Figure at 0x14fd91ef0>"
      ]
     },
     "metadata": {},
     "output_type": "display_data"
    }
   ],
   "source": [
    "# test face = correct_img\n",
    "\n",
    "# most useful\n",
    "most_useful = train_class_correct[most_useful_index-1]\n",
    "# least useful\n",
    "least_useful = train_class_correct[least_useful_index-1]\n",
    "\n",
    "fig, ax = plt.subplots(1,3,figsize=(12,6))\n",
    "ax[0].imshow(correct_img, cmap='gray')\n",
    "ax[0].set_title(\"Correctly Assigned Face\")\n",
    "ax[1].imshow(most_useful, cmap='gray')\n",
    "ax[1].set_title(\"Highest Contribution Face\")\n",
    "ax[2].imshow(least_useful, cmap='gray')\n",
    "ax[2].set_title(\"Least Contribution Face\")\n",
    "plt.show()"
   ]
  },
  {
   "cell_type": "markdown",
   "metadata": {},
   "source": [
    "We can see that the face that makes the highest contribution highly resembles the face that we need to assign. However, the least useful face has facial expression much different than the face to be classified."
   ]
  },
  {
   "cell_type": "code",
   "execution_count": null,
   "metadata": {
    "collapsed": true
   },
   "outputs": [],
   "source": []
  }
 ],
 "metadata": {
  "anaconda-cloud": {},
  "kernelspec": {
   "display_name": "Python 3",
   "language": "python",
   "name": "python3"
  },
  "language_info": {
   "codemirror_mode": {
    "name": "ipython",
    "version": 3
   },
   "file_extension": ".py",
   "mimetype": "text/x-python",
   "name": "python",
   "nbconvert_exporter": "python",
   "pygments_lexer": "ipython3",
   "version": "3.6.3"
  }
 },
 "nbformat": 4,
 "nbformat_minor": 1
}
